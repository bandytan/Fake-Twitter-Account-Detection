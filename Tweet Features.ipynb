{
 "cells": [
  {
   "cell_type": "code",
   "execution_count": 1,
   "id": "413a207d",
   "metadata": {},
   "outputs": [],
   "source": [
    "import pandas as pd\n",
    "import datetime"
   ]
  },
  {
   "cell_type": "code",
   "execution_count": 3,
   "id": "3d2b6ec7",
   "metadata": {},
   "outputs": [],
   "source": [
    "#df_users = pd.read_csv(\"/Users/ivankoh/Library/CloudStorage/OneDrive-NationalUniversityofSingapore/1D/NUS Y3S1/BT4012/Data/combined_twitter_data_with_tweets_corpus.csv\")\n",
    "df_users = pd.read_csv(\"/Users/wenyin/Desktop/BT4012/Data/combined_twitter_data_with_tweets_corpus.csv\")"
   ]
  },
  {
   "cell_type": "code",
   "execution_count": 9,
   "id": "3f5819ea",
   "metadata": {},
   "outputs": [],
   "source": [
    "# get tweets df\n",
    "#base = \"/Users/ivankoh/Library/CloudStorage/OneDrive-NationalUniversityofSingapore/1D/NUS Y3S1/BT4012/\"\n",
    "base = '/Users/wenyin/Desktop/BT4012/'\n",
    "filenames_tweets = [\n",
    "    \"Data/all tweets 2017/tweets_fake_followers.csv\",\n",
    "    \"Data/all tweets 2017/tweets_genuine_accounts.csv\",\n",
    "    \"Data/all tweets 2017/tweets_social_spambots_1.csv\",\n",
    "    \"Data/all tweets 2017/tweets_social_spambots_2.csv\",\n",
    "    \"Data/all tweets 2017/tweets_social_spambots_3.csv\",\n",
    "    \"Data/all tweets 2017/tweets_traditional_spambots_1.csv\",\n",
    "\n",
    "    \"Data/tweets 2015/tweets_E13.csv\",\n",
    "    \"Data/tweets 2015/tweets_FSF.csv\",\n",
    "    \"Data/tweets 2015/tweets_INT.csv\",\n",
    "    \"Data/tweets 2015/tweets_TFP.csv\",\n",
    "    \"Data/tweets 2015/tweets_TWT.csv\"\n",
    "]\n",
    "filenames_tweets = map(lambda x: base+x, filenames_tweets)\n",
    "\n",
    "for i,fn in enumerate(filenames_tweets):\n",
    "    if i == 0:\n",
    "        df_tweets = pd.read_csv(fn, encoding='ISO-8859-1')\n",
    "    else:\n",
    "        df_tweets = pd.concat([df_tweets, pd.read_csv(fn, encoding='ISO-8859-1') ], axis=0)\n"
   ]
  },
  {
   "cell_type": "code",
   "execution_count": 10,
   "id": "0349e7e5",
   "metadata": {},
   "outputs": [],
   "source": [
    "df_tweets = df_tweets.dropna(subset = [\"user_id\"])  \n",
    "df_tweets[\"user_id\"] = df_tweets[\"user_id\"].apply(int)"
   ]
  },
  {
   "cell_type": "markdown",
   "id": "e83285bd",
   "metadata": {},
   "source": [
    "## Date Formatting"
   ]
  },
  {
   "cell_type": "code",
   "execution_count": 11,
   "id": "b730fc8f",
   "metadata": {},
   "outputs": [],
   "source": [
    "# takes around 10 min to run\n",
    "df_tweets['created_at_formatted'] = pd.to_datetime(df_tweets['timestamp'], infer_datetime_format=True, errors='coerce')"
   ]
  },
  {
   "cell_type": "code",
   "execution_count": null,
   "metadata": {},
   "outputs": [],
   "source": [
    "df_tweets['created_at_date'] = df_tweets['created_at_formatted'].apply(lambda x: x.date())"
   ]
  },
  {
   "cell_type": "markdown",
   "id": "4271d532",
   "metadata": {},
   "source": [
    "## User Tweet Frequency"
   ]
  },
  {
   "cell_type": "code",
   "execution_count": 13,
   "id": "b9f590f9",
   "metadata": {},
   "outputs": [],
   "source": [
    "# user tweet frequency = total number of tweets / number of user active days \n",
    "# shows how often the user tweets among the days that a user tweets at least once. User activity is defined by whether the user tweets in a given day\n",
    "# 1 = user tweets only once per active day \n",
    "# >1 = user tweets more than once a day on average, in the days that the user is active \n",
    "\n",
    "df_tweets_per_day = df_tweets.groupby(by=[\"user_id\"]).agg(tweet_count=('text', 'count'),\n",
    "                                                          date_count=('created_at_date', lambda x: x.nunique()))\n",
    "\n",
    "dict_tweets_average = {user_id: df_tweets_per_day.loc[user_id]['tweet_count'] / df_tweets_per_day.loc[user_id]['date_count'] for user_id in df_tweets_per_day.index}"
   ]
  },
  {
   "cell_type": "code",
   "execution_count": 14,
   "id": "bbeb8624",
   "metadata": {},
   "outputs": [],
   "source": [
    "#create new column for user tweet frequency \n",
    "df_users['tweet_frequency'] = df_users['id'].map(dict_tweets_average)"
   ]
  },
  {
   "cell_type": "markdown",
   "id": "7bde9014",
   "metadata": {},
   "source": [
    "## Tags and Mentions"
   ]
  },
  {
   "cell_type": "code",
   "execution_count": 15,
   "id": "2d023005",
   "metadata": {},
   "outputs": [],
   "source": [
    "# average number of tags per post = total number of tags used per tweet \n",
    "# average number of mentions per post = total number of mentions per tweet \n",
    "\n",
    "df_tweets['text'] = df_tweets['text'].apply(str) #convert all text to string\n",
    "df_tweets['number_of_tags'] = df_tweets['text'].apply(lambda x: x.count(\"#\"))\n",
    "df_tweets['number_of_mentions'] = df_tweets['text'].apply(lambda x: x.count(\"@\"))"
   ]
  },
  {
   "cell_type": "code",
   "execution_count": 16,
   "id": "8fc3d385",
   "metadata": {},
   "outputs": [],
   "source": [
    "tags_dict = df_tweets.groupby(by=[\"user_id\"])['number_of_tags'].sum().to_dict()\n",
    "mentions_dict = df_tweets.groupby(by=[\"user_id\"])['number_of_mentions'].sum().to_dict() \n",
    "\n",
    "#create new column for number of tags\n",
    "df_users['number_of_tags'] = df_users['id'].map(tags_dict)\n",
    "#create new column for number of mentions\n",
    "df_users['number_of_mentions'] = df_users['id'].map(mentions_dict)\n"
   ]
  },
  {
   "source": [
    "## User tweets on weekdays and weekends"
   ],
   "cell_type": "markdown",
   "metadata": {}
  },
  {
   "cell_type": "code",
   "execution_count": 17,
   "id": "9d43299a",
   "metadata": {},
   "outputs": [],
   "source": [
    "# return 0 if weekend, 1 if weekday \n",
    "def is_weekday(dt):\n",
    "    return 0 if dt.weekday() > 4 else 1\n",
    "\n",
    "# return day of week \n",
    "def get_weekday(dt):\n",
    "    return dt.weekday()"
   ]
  },
  {
   "cell_type": "code",
   "execution_count": null,
   "metadata": {},
   "outputs": [],
   "source": [
    "def get_weekend_weekday_frequency(df_tweets, df_users):\n",
    "    df_tweets['weekday'] = df_tweets['created_at_formatted'].apply(lambda x: is_weekday(x))\n",
    "    df_tweets_weekday_weekend = df_tweets.groupby(by=[\"user_id\", \"weekday\"]).agg(tweet_count=('text', 'count'),\n",
    "                                                          date_count=('created_at_date', lambda x: x.nunique()))\n",
    "    dict_tweets_weekend = {user_id: df_tweets_weekday_weekend.loc[(user_id, weekday)]['tweet_count'] / df_tweets_weekday_weekend.loc[(user_id, weekday)]['date_count'] for (user_id, weekday) in df_tweets_weekday_weekend.index if weekday == 0}\n",
    "    df_users['tweet_weekend_frequency'] = df_users['id'].map(dict_tweets_weekend)        \n",
    "    dict_tweets_weekday = {user_id: df_tweets_weekday_weekend.loc[(user_id, weekday)]['tweet_count'] / df_tweets_weekday_weekend.loc[(user_id, weekday)]['date_count'] for (user_id, weekday) in df_tweets_weekday_weekend.index if weekday == 1}\n",
    "    df_users['tweet_weekday_frequency'] = df_users['id'].map(dict_tweets_weekday)\n",
    "    return df_users             "
   ]
  },
  {
   "cell_type": "code",
   "execution_count": 42,
   "metadata": {},
   "outputs": [
    {
     "output_type": "execute_result",
     "data": {
      "text/plain": [
       "   Unnamed: 0.1  Unnamed: 0      id               name   screen_name  \\\n",
       "0             0           1   22903            effeffe       effeffe   \n",
       "1             1           3  286543  Alessio Bragadini       abragad   \n",
       "2             2           4  438023       fullcaffeine  fullcaffeine   \n",
       "3             3           5  586003   Maurizio Tesconi    myself2048   \n",
       "4             4           6  628563    Massimo Moretti    MaxMoretti   \n",
       "\n",
       "   statuses_count  followers_count  friends_count  favourites_count  \\\n",
       "0             164              132            194                12   \n",
       "1            6892              930            535               478   \n",
       "2            2885              173            444                41   \n",
       "3             216               97            234                 2   \n",
       "4             505              154            314                 0   \n",
       "\n",
       "   listed_count  ...                                        description  \\\n",
       "0             4  ...  L'uomo ha creato dio a sua immagine e somiglia...   \n",
       "1            28  ...          Web and social media developer from Italy   \n",
       "2             2  ...                                                NaN   \n",
       "3             0  ...  CNR Researcher. Web developer. Social media ge...   \n",
       "4             3  ...                            The truth is out there!   \n",
       "\n",
       "                       created_at          updated account_type  \\\n",
       "0  Sun Nov 26 15:19:32 +0000 2006  14/2/2015 11:32         real   \n",
       "1  Wed Dec 27 14:55:17 +0000 2006  14/2/2015 11:32         real   \n",
       "2  Tue Jan 02 09:01:50 +0000 2007  14/2/2015 11:32         real   \n",
       "3  Fri Jan 05 16:20:42 +0000 2007  14/2/2015 11:32         real   \n",
       "4  Fri Jan 12 11:06:17 +0000 2007  14/2/2015 11:32         real   \n",
       "\n",
       "                                         tweets_list  tweet_frequency  \\\n",
       "0  ['@TheFakeProject cerca followers reali!!! #Im...         1.842697   \n",
       "1  [\"RT @hotdogsladies: The real problem with ema...         4.438070   \n",
       "2  ['Amare il #giornalismo : @Internazionale @la_...         5.971014   \n",
       "3  ['RT @TheFakeProject: Dear followers, phase 2 ...         1.745763   \n",
       "4  ['@Swype  when the Italian dictionary will be ...         2.193833   \n",
       "\n",
       "   number_of_tags number_of_mentions tweet_weekend_frequency  \\\n",
       "0            28.0              126.0                1.684211   \n",
       "1          1051.0             2441.0                4.652968   \n",
       "2           128.0              368.0                5.000000   \n",
       "3           160.0              240.0                1.607143   \n",
       "4            51.0              106.0                2.311688   \n",
       "\n",
       "   tweet_weekday_frequency  \n",
       "0                 1.885714  \n",
       "1                 4.352190  \n",
       "2                 6.306407  \n",
       "3                 1.788889  \n",
       "4                 2.133333  \n",
       "\n",
       "[5 rows x 42 columns]"
      ],
      "text/html": "<div>\n<style scoped>\n    .dataframe tbody tr th:only-of-type {\n        vertical-align: middle;\n    }\n\n    .dataframe tbody tr th {\n        vertical-align: top;\n    }\n\n    .dataframe thead th {\n        text-align: right;\n    }\n</style>\n<table border=\"1\" class=\"dataframe\">\n  <thead>\n    <tr style=\"text-align: right;\">\n      <th></th>\n      <th>Unnamed: 0.1</th>\n      <th>Unnamed: 0</th>\n      <th>id</th>\n      <th>name</th>\n      <th>screen_name</th>\n      <th>statuses_count</th>\n      <th>followers_count</th>\n      <th>friends_count</th>\n      <th>favourites_count</th>\n      <th>listed_count</th>\n      <th>...</th>\n      <th>description</th>\n      <th>created_at</th>\n      <th>updated</th>\n      <th>account_type</th>\n      <th>tweets_list</th>\n      <th>tweet_frequency</th>\n      <th>number_of_tags</th>\n      <th>number_of_mentions</th>\n      <th>tweet_weekend_frequency</th>\n      <th>tweet_weekday_frequency</th>\n    </tr>\n  </thead>\n  <tbody>\n    <tr>\n      <th>0</th>\n      <td>0</td>\n      <td>1</td>\n      <td>22903</td>\n      <td>effeffe</td>\n      <td>effeffe</td>\n      <td>164</td>\n      <td>132</td>\n      <td>194</td>\n      <td>12</td>\n      <td>4</td>\n      <td>...</td>\n      <td>L'uomo ha creato dio a sua immagine e somiglia...</td>\n      <td>Sun Nov 26 15:19:32 +0000 2006</td>\n      <td>14/2/2015 11:32</td>\n      <td>real</td>\n      <td>['@TheFakeProject cerca followers reali!!! #Im...</td>\n      <td>1.842697</td>\n      <td>28.0</td>\n      <td>126.0</td>\n      <td>1.684211</td>\n      <td>1.885714</td>\n    </tr>\n    <tr>\n      <th>1</th>\n      <td>1</td>\n      <td>3</td>\n      <td>286543</td>\n      <td>Alessio Bragadini</td>\n      <td>abragad</td>\n      <td>6892</td>\n      <td>930</td>\n      <td>535</td>\n      <td>478</td>\n      <td>28</td>\n      <td>...</td>\n      <td>Web and social media developer from Italy</td>\n      <td>Wed Dec 27 14:55:17 +0000 2006</td>\n      <td>14/2/2015 11:32</td>\n      <td>real</td>\n      <td>[\"RT @hotdogsladies: The real problem with ema...</td>\n      <td>4.438070</td>\n      <td>1051.0</td>\n      <td>2441.0</td>\n      <td>4.652968</td>\n      <td>4.352190</td>\n    </tr>\n    <tr>\n      <th>2</th>\n      <td>2</td>\n      <td>4</td>\n      <td>438023</td>\n      <td>fullcaffeine</td>\n      <td>fullcaffeine</td>\n      <td>2885</td>\n      <td>173</td>\n      <td>444</td>\n      <td>41</td>\n      <td>2</td>\n      <td>...</td>\n      <td>NaN</td>\n      <td>Tue Jan 02 09:01:50 +0000 2007</td>\n      <td>14/2/2015 11:32</td>\n      <td>real</td>\n      <td>['Amare il #giornalismo : @Internazionale @la_...</td>\n      <td>5.971014</td>\n      <td>128.0</td>\n      <td>368.0</td>\n      <td>5.000000</td>\n      <td>6.306407</td>\n    </tr>\n    <tr>\n      <th>3</th>\n      <td>3</td>\n      <td>5</td>\n      <td>586003</td>\n      <td>Maurizio Tesconi</td>\n      <td>myself2048</td>\n      <td>216</td>\n      <td>97</td>\n      <td>234</td>\n      <td>2</td>\n      <td>0</td>\n      <td>...</td>\n      <td>CNR Researcher. Web developer. Social media ge...</td>\n      <td>Fri Jan 05 16:20:42 +0000 2007</td>\n      <td>14/2/2015 11:32</td>\n      <td>real</td>\n      <td>['RT @TheFakeProject: Dear followers, phase 2 ...</td>\n      <td>1.745763</td>\n      <td>160.0</td>\n      <td>240.0</td>\n      <td>1.607143</td>\n      <td>1.788889</td>\n    </tr>\n    <tr>\n      <th>4</th>\n      <td>4</td>\n      <td>6</td>\n      <td>628563</td>\n      <td>Massimo Moretti</td>\n      <td>MaxMoretti</td>\n      <td>505</td>\n      <td>154</td>\n      <td>314</td>\n      <td>0</td>\n      <td>3</td>\n      <td>...</td>\n      <td>The truth is out there!</td>\n      <td>Fri Jan 12 11:06:17 +0000 2007</td>\n      <td>14/2/2015 11:32</td>\n      <td>real</td>\n      <td>['@Swype  when the Italian dictionary will be ...</td>\n      <td>2.193833</td>\n      <td>51.0</td>\n      <td>106.0</td>\n      <td>2.311688</td>\n      <td>2.133333</td>\n    </tr>\n  </tbody>\n</table>\n<p>5 rows × 42 columns</p>\n</div>"
     },
     "metadata": {},
     "execution_count": 42
    }
   ],
   "source": [
    "df_users.head()"
   ]
  },
  {
   "cell_type": "code",
   "execution_count": null,
   "metadata": {},
   "outputs": [],
   "source": []
  }
 ],
 "metadata": {
  "kernelspec": {
   "name": "python3",
   "display_name": "Python 3.8.5 64-bit ('base': conda)",
   "metadata": {
    "interpreter": {
     "hash": "0b5e695f973a7cdd4fc74ba2ed65a7a37ab2a96a506d329d22c7ff6a81e833be"
    }
   }
  },
  "language_info": {
   "codemirror_mode": {
    "name": "ipython",
    "version": 3
   },
   "file_extension": ".py",
   "mimetype": "text/x-python",
   "name": "python",
   "nbconvert_exporter": "python",
   "pygments_lexer": "ipython3",
   "version": "3.8.5-final"
  }
 },
 "nbformat": 4,
 "nbformat_minor": 5
}