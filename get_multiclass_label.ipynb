{
 "cells": [
  {
   "cell_type": "code",
   "execution_count": 54,
   "metadata": {
    "ExecuteTime": {
     "end_time": "2022-11-13T07:20:13.725446Z",
     "start_time": "2022-11-13T07:20:13.171401Z"
    }
   },
   "outputs": [],
   "source": [
    "import pandas as pd"
   ]
  },
  {
   "cell_type": "code",
   "execution_count": 55,
   "metadata": {
    "ExecuteTime": {
     "end_time": "2022-11-13T07:20:18.685231Z",
     "start_time": "2022-11-13T07:20:13.726833Z"
    }
   },
   "outputs": [],
   "source": [
    "train_df = pd.read_csv(\"data/twitter_data_train.csv\")\n",
    "test_df = pd.read_csv(\"data/twitter_data_test.csv\")"
   ]
  },
  {
   "cell_type": "code",
   "execution_count": 66,
   "metadata": {},
   "outputs": [
    {
     "name": "stdout",
     "output_type": "stream",
     "text": [
      "(9446, 237)\n",
      "(1667, 237)\n"
     ]
    },
    {
     "ename": "",
     "evalue": "",
     "output_type": "error",
     "traceback": [
      "\u001b[1;31mThe Kernel crashed while executing code in the the current cell or a previous cell. Please review the code in the cell(s) to identify a possible cause of the failure. Click <a href='https://aka.ms/vscodeJupyterKernelCrash'>here</a> for more info. View Jupyter <a href='command:jupyter.viewOutput'>log</a> for further details."
     ]
    }
   ],
   "source": [
    "train_df[train_df['id'] == 1]\n",
    "print(train_df.shape)\n",
    "print(test_df.shape)"
   ]
  },
  {
   "cell_type": "code",
   "execution_count": 61,
   "metadata": {
    "ExecuteTime": {
     "end_time": "2022-11-13T07:20:18.918055Z",
     "start_time": "2022-11-13T07:20:18.773165Z"
    }
   },
   "outputs": [],
   "source": [
    "ff = pd.read_csv(\"./data/cresci2017/fake_followers.csv\")\n",
    "ga = pd.read_csv(\"data/cresci2017/genuine_accounts.csv\") # real\n",
    "ss1 = pd.read_csv(\"data/cresci2017/social_spambots_1.csv\")\n",
    "ss2 = pd.read_csv(\"data/cresci2017/social_spambots_2.csv\")\n",
    "ss3 = pd.read_csv(\"data/cresci2017/social_spambots_3.csv\")\n",
    "ts1 = pd.read_csv(\"data/cresci2017/traditional_spambots_1.csv\")\n",
    "ts2 = pd.read_csv(\"data/cresci2017/traditional_spambots_2.csv\")\n",
    "ts3 = pd.read_csv(\"data/cresci2017/traditional_spambots_3.csv\")\n",
    "ts4 = pd.read_csv(\"data/cresci2017/traditional_spambots_4.csv\")\n",
    "\n",
    "\n",
    "ga = pd.concat([ga, pd.read_csv(\"data/cresci2015/E13.csv\")], axis=0)  # real\n",
    "ff = pd.concat([ff, pd.read_csv(\"data/cresci2015/FSF.csv\")], axis=0) \n",
    "ff = pd.concat([ff, pd.read_csv(\"data/cresci2015/INT.csv\")], axis=0) \n",
    "ga = pd.concat([ga, pd.read_csv(\"data/cresci2015/TFP.csv\")], axis=0)  # real\n",
    "ff = pd.concat([ff, pd.read_csv(\"data/cresci2015/TWT.csv\")], axis=0) \n",
    "\n",
    "REAL_ACCOUNT = 0\n",
    "FAKE_FOLLOWER = 1\n",
    "TRADITIONAL_SPAMMER = 2\n",
    "SOCIAL_SPAMMER = 3\n",
    "\n",
    "\n",
    "def gettype(id):\n",
    "    \n",
    "    if id in list(ff.id):\n",
    "        return FAKE_FOLLOWER\n",
    "    elif id in list(ga.id):\n",
    "        return REAL_ACCOUNT\n",
    "\n",
    "    elif (id in list(ss1.id)) or (id in list(ss2.id)) or (id in list(ss3.id)):\n",
    "        return SOCIAL_SPAMMER\n",
    "\n",
    "    elif id in list(ts1.id) or (id in list(ts2.id)) or (id in list(ts3.id)) or (id in list(ts4.id)) :\n",
    "        return TRADITIONAL_SPAMMER\n",
    "\n",
    "    else:\n",
    "        print(\"ID is\", id)\n",
    "        return -1\n",
    "        \n"
   ]
  },
  {
   "cell_type": "code",
   "execution_count": 58,
   "metadata": {
    "ExecuteTime": {
     "end_time": "2022-11-13T07:20:18.922632Z",
     "start_time": "2022-11-13T07:20:18.919054Z"
    }
   },
   "outputs": [
    {
     "name": "stdout",
     "output_type": "stream",
     "text": [
      "ID is 1\n"
     ]
    },
    {
     "data": {
      "text/plain": [
       "-1"
      ]
     },
     "execution_count": 58,
     "metadata": {},
     "output_type": "execute_result"
    }
   ],
   "source": [
    "gettype(1)"
   ]
  },
  {
   "cell_type": "code",
   "execution_count": 59,
   "metadata": {
    "ExecuteTime": {
     "end_time": "2022-11-13T07:20:25.600311Z",
     "start_time": "2022-11-13T07:20:18.923414Z"
    }
   },
   "outputs": [],
   "source": [
    "train_df[\"account_type_multi\"] = train_df[\"id\"].apply(lambda id: gettype(id))\n",
    "test_df[\"account_type_multi\"] = test_df[\"id\"].apply(lambda id: gettype(id))"
   ]
  },
  {
   "cell_type": "code",
   "execution_count": 60,
   "metadata": {
    "ExecuteTime": {
     "end_time": "2022-11-13T07:20:25.604089Z",
     "start_time": "2022-11-13T07:20:25.601169Z"
    }
   },
   "outputs": [
    {
     "data": {
      "text/plain": [
       "array([0, 1, 3, 2], dtype=int64)"
      ]
     },
     "execution_count": 60,
     "metadata": {},
     "output_type": "execute_result"
    }
   ],
   "source": [
    "train_df[\"account_type_multi\"].unique()\n"
   ]
  },
  {
   "cell_type": "code",
   "execution_count": 62,
   "metadata": {
    "ExecuteTime": {
     "end_time": "2022-11-13T07:20:25.607691Z",
     "start_time": "2022-11-13T07:20:25.604971Z"
    }
   },
   "outputs": [
    {
     "data": {
      "text/plain": [
       "array([1, 0, 3, 2], dtype=int64)"
      ]
     },
     "execution_count": 62,
     "metadata": {},
     "output_type": "execute_result"
    }
   ],
   "source": [
    "test_df[\"account_type_multi\"].unique()"
   ]
  },
  {
   "cell_type": "code",
   "execution_count": 63,
   "metadata": {
    "ExecuteTime": {
     "end_time": "2022-11-13T07:20:33.830330Z",
     "start_time": "2022-11-13T07:20:25.608445Z"
    }
   },
   "outputs": [],
   "source": [
    "train_df.to_csv(\"data/twitter_data_train_multiclass.csv\")\n",
    "test_df.to_csv(\"data/twitter_data_test_multiclass.csv\")"
   ]
  },
  {
   "cell_type": "code",
   "execution_count": null,
   "metadata": {},
   "outputs": [],
   "source": []
  }
 ],
 "metadata": {
  "kernelspec": {
   "display_name": "Python 3.10.8 64-bit (microsoft store)",
   "language": "python",
   "name": "python3"
  },
  "language_info": {
   "codemirror_mode": {
    "name": "ipython",
    "version": 3
   },
   "file_extension": ".py",
   "mimetype": "text/x-python",
   "name": "python",
   "nbconvert_exporter": "python",
   "pygments_lexer": "ipython3",
   "version": "3.10.8"
  },
  "toc": {
   "base_numbering": 1,
   "nav_menu": {},
   "number_sections": false,
   "sideBar": true,
   "skip_h1_title": false,
   "title_cell": "Table of Contents",
   "title_sidebar": "Contents",
   "toc_cell": false,
   "toc_position": {},
   "toc_section_display": true,
   "toc_window_display": false
  },
  "vscode": {
   "interpreter": {
    "hash": "b14d2bd7895077ad303f266db7ad1f8a11e285bbfcdfa868008aad211f623e81"
   }
  }
 },
 "nbformat": 4,
 "nbformat_minor": 2
}
