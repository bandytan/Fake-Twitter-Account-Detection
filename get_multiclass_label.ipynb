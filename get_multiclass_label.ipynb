{
 "cells": [
  {
   "cell_type": "code",
   "execution_count": 2,
   "metadata": {
    "ExecuteTime": {
     "end_time": "2022-11-13T07:20:13.725446Z",
     "start_time": "2022-11-13T07:20:13.171401Z"
    }
   },
   "outputs": [],
   "source": [
    "import pandas as pd"
   ]
  },
  {
   "cell_type": "code",
   "execution_count": 3,
   "metadata": {
    "ExecuteTime": {
     "end_time": "2022-11-13T07:20:18.685231Z",
     "start_time": "2022-11-13T07:20:13.726833Z"
    }
   },
   "outputs": [],
   "source": [
    "train_df = pd.read_csv(\"data/twitter_data_train.csv\")\n",
    "test_df = pd.read_csv(\"data/twitter_data_test.csv\")"
   ]
  },
  {
   "cell_type": "code",
   "execution_count": 4,
   "metadata": {
    "ExecuteTime": {
     "end_time": "2022-11-13T07:20:18.696820Z",
     "start_time": "2022-11-13T07:20:18.686166Z"
    }
   },
   "outputs": [
    {
     "data": {
      "text/html": [
       "<div>\n",
       "<style scoped>\n",
       "    .dataframe tbody tr th:only-of-type {\n",
       "        vertical-align: middle;\n",
       "    }\n",
       "\n",
       "    .dataframe tbody tr th {\n",
       "        vertical-align: top;\n",
       "    }\n",
       "\n",
       "    .dataframe thead th {\n",
       "        text-align: right;\n",
       "    }\n",
       "</style>\n",
       "<table border=\"1\" class=\"dataframe\">\n",
       "  <thead>\n",
       "    <tr style=\"text-align: right;\">\n",
       "      <th></th>\n",
       "      <th>id</th>\n",
       "      <th>name</th>\n",
       "      <th>screen_name</th>\n",
       "      <th>statuses_count</th>\n",
       "      <th>followers_count</th>\n",
       "      <th>friends_count</th>\n",
       "      <th>favourites_count</th>\n",
       "      <th>listed_count</th>\n",
       "      <th>url</th>\n",
       "      <th>default_profile</th>\n",
       "      <th>...</th>\n",
       "      <th>description_92</th>\n",
       "      <th>description_93</th>\n",
       "      <th>description_94</th>\n",
       "      <th>description_95</th>\n",
       "      <th>description_96</th>\n",
       "      <th>description_97</th>\n",
       "      <th>description_98</th>\n",
       "      <th>description_99</th>\n",
       "      <th>has_face</th>\n",
       "      <th>reciprocity</th>\n",
       "    </tr>\n",
       "  </thead>\n",
       "  <tbody>\n",
       "  </tbody>\n",
       "</table>\n",
       "<p>0 rows × 236 columns</p>\n",
       "</div>"
      ],
      "text/plain": [
       "Empty DataFrame\n",
       "Columns: [id, name, screen_name, statuses_count, followers_count, friends_count, favourites_count, listed_count, url, default_profile, default_profile_image, geo_enabled, profile_image_url, profile_use_background_image, profile_background_tile, protected, verified, description, account_type, tweets_list, tweet_frequency, number_of_tags, number_of_mentions, tweet_weekend_frequency, tweet_weekday_frequency, following_to_followers_ratio, username_length, screen_name_length, username_spec_char_count, screen_name_spec_char_count, has_url, has_desc, tweets_list_processed, description_processed, tweets_0, tweets_1, tweets_2, tweets_3, tweets_4, tweets_5, tweets_6, tweets_7, tweets_8, tweets_9, tweets_10, tweets_11, tweets_12, tweets_13, tweets_14, tweets_15, tweets_16, tweets_17, tweets_18, tweets_19, tweets_20, tweets_21, tweets_22, tweets_23, tweets_24, tweets_25, tweets_26, tweets_27, tweets_28, tweets_29, tweets_30, tweets_31, tweets_32, tweets_33, tweets_34, tweets_35, tweets_36, tweets_37, tweets_38, tweets_39, tweets_40, tweets_41, tweets_42, tweets_43, tweets_44, tweets_45, tweets_46, tweets_47, tweets_48, tweets_49, tweets_50, tweets_51, tweets_52, tweets_53, tweets_54, tweets_55, tweets_56, tweets_57, tweets_58, tweets_59, tweets_60, tweets_61, tweets_62, tweets_63, tweets_64, tweets_65, ...]\n",
       "Index: []\n",
       "\n",
       "[0 rows x 236 columns]"
      ]
     },
     "execution_count": 4,
     "metadata": {},
     "output_type": "execute_result"
    }
   ],
   "source": [
    "train_df[train_df.id==1]"
   ]
  },
  {
   "cell_type": "code",
   "execution_count": 5,
   "metadata": {
    "ExecuteTime": {
     "end_time": "2022-11-13T07:20:18.712381Z",
     "start_time": "2022-11-13T07:20:18.697703Z"
    }
   },
   "outputs": [],
   "source": [
    "df_import = pd.read_csv(\"data/cresci2017/traditional_spambots_4.csv\")\n",
    "#df_import = pd.read_csv(\"/Users/ivankoh/Downloads/traditional_spambots_4.csv\")"
   ]
  },
  {
   "cell_type": "code",
   "execution_count": 6,
   "metadata": {
    "ExecuteTime": {
     "end_time": "2022-11-13T07:20:18.771976Z",
     "start_time": "2022-11-13T07:20:18.752956Z"
    }
   },
   "outputs": [
    {
     "data": {
      "text/html": [
       "<div>\n",
       "<style scoped>\n",
       "    .dataframe tbody tr th:only-of-type {\n",
       "        vertical-align: middle;\n",
       "    }\n",
       "\n",
       "    .dataframe tbody tr th {\n",
       "        vertical-align: top;\n",
       "    }\n",
       "\n",
       "    .dataframe thead th {\n",
       "        text-align: right;\n",
       "    }\n",
       "</style>\n",
       "<table border=\"1\" class=\"dataframe\">\n",
       "  <thead>\n",
       "    <tr style=\"text-align: right;\">\n",
       "      <th></th>\n",
       "      <th>id</th>\n",
       "      <th>name</th>\n",
       "      <th>screen_name</th>\n",
       "      <th>statuses_count</th>\n",
       "      <th>followers_count</th>\n",
       "      <th>friends_count</th>\n",
       "      <th>favourites_count</th>\n",
       "      <th>listed_count</th>\n",
       "      <th>url</th>\n",
       "      <th>lang</th>\n",
       "      <th>...</th>\n",
       "      <th>protected</th>\n",
       "      <th>verified</th>\n",
       "      <th>notifications</th>\n",
       "      <th>description</th>\n",
       "      <th>contributors_enabled</th>\n",
       "      <th>following</th>\n",
       "      <th>created_at</th>\n",
       "      <th>timestamp</th>\n",
       "      <th>crawled_at</th>\n",
       "      <th>updated</th>\n",
       "    </tr>\n",
       "  </thead>\n",
       "  <tbody>\n",
       "    <tr>\n",
       "      <th>0</th>\n",
       "      <td>21478911</td>\n",
       "      <td>TMJ- CLT Util Jobs</td>\n",
       "      <td>tmj_clt_util</td>\n",
       "      <td>4</td>\n",
       "      <td>344</td>\n",
       "      <td>295</td>\n",
       "      <td>0</td>\n",
       "      <td>5</td>\n",
       "      <td>https://t.co/DByWt45HZj</td>\n",
       "      <td>en</td>\n",
       "      <td>...</td>\n",
       "      <td>NaN</td>\n",
       "      <td>NaN</td>\n",
       "      <td>NaN</td>\n",
       "      <td>Follow this account for geo-targeted Utilities...</td>\n",
       "      <td>NaN</td>\n",
       "      <td>NaN</td>\n",
       "      <td>Sat Feb 21 12:04:47 +0000 2009</td>\n",
       "      <td>2009-02-21 13:04:47</td>\n",
       "      <td>2016-03-15 13:48:59</td>\n",
       "      <td>2016-03-15 13:48:59</td>\n",
       "    </tr>\n",
       "    <tr>\n",
       "      <th>1</th>\n",
       "      <td>21479094</td>\n",
       "      <td>TMJ - SFO Util Jobs</td>\n",
       "      <td>tmj_sfo_util</td>\n",
       "      <td>3</td>\n",
       "      <td>353</td>\n",
       "      <td>322</td>\n",
       "      <td>0</td>\n",
       "      <td>16</td>\n",
       "      <td>https://t.co/DByWt45HZj</td>\n",
       "      <td>en</td>\n",
       "      <td>...</td>\n",
       "      <td>NaN</td>\n",
       "      <td>NaN</td>\n",
       "      <td>NaN</td>\n",
       "      <td>Follow this account for geo-targeted Utilities...</td>\n",
       "      <td>NaN</td>\n",
       "      <td>NaN</td>\n",
       "      <td>Sat Feb 21 12:09:26 +0000 2009</td>\n",
       "      <td>2009-02-21 13:09:26</td>\n",
       "      <td>2016-03-15 13:48:59</td>\n",
       "      <td>2016-03-15 13:48:59</td>\n",
       "    </tr>\n",
       "    <tr>\n",
       "      <th>2</th>\n",
       "      <td>21479204</td>\n",
       "      <td>TMJ - WAS Util Jobs</td>\n",
       "      <td>tmj_dc_util</td>\n",
       "      <td>1</td>\n",
       "      <td>323</td>\n",
       "      <td>294</td>\n",
       "      <td>0</td>\n",
       "      <td>2</td>\n",
       "      <td>https://t.co/DByWt45HZj</td>\n",
       "      <td>en</td>\n",
       "      <td>...</td>\n",
       "      <td>NaN</td>\n",
       "      <td>NaN</td>\n",
       "      <td>NaN</td>\n",
       "      <td>Follow this account for geo-targeted Utilities...</td>\n",
       "      <td>NaN</td>\n",
       "      <td>NaN</td>\n",
       "      <td>Sat Feb 21 12:12:01 +0000 2009</td>\n",
       "      <td>2009-02-21 13:12:01</td>\n",
       "      <td>2016-03-15 13:48:59</td>\n",
       "      <td>2016-03-15 13:48:59</td>\n",
       "    </tr>\n",
       "    <tr>\n",
       "      <th>3</th>\n",
       "      <td>21479275</td>\n",
       "      <td>TMJ - JAX Util Jobs</td>\n",
       "      <td>tmj_jax_util</td>\n",
       "      <td>4</td>\n",
       "      <td>311</td>\n",
       "      <td>292</td>\n",
       "      <td>0</td>\n",
       "      <td>4</td>\n",
       "      <td>https://t.co/DByWt45HZj</td>\n",
       "      <td>en</td>\n",
       "      <td>...</td>\n",
       "      <td>NaN</td>\n",
       "      <td>NaN</td>\n",
       "      <td>NaN</td>\n",
       "      <td>Follow this account for geo-targeted Utilities...</td>\n",
       "      <td>NaN</td>\n",
       "      <td>NaN</td>\n",
       "      <td>Sat Feb 21 12:13:37 +0000 2009</td>\n",
       "      <td>2009-02-21 13:13:37</td>\n",
       "      <td>2016-03-15 13:48:59</td>\n",
       "      <td>2016-03-15 13:48:59</td>\n",
       "    </tr>\n",
       "    <tr>\n",
       "      <th>4</th>\n",
       "      <td>21479334</td>\n",
       "      <td>TMJ - CHI Util Jobs</td>\n",
       "      <td>tmj_chi_util</td>\n",
       "      <td>6</td>\n",
       "      <td>339</td>\n",
       "      <td>298</td>\n",
       "      <td>0</td>\n",
       "      <td>7</td>\n",
       "      <td>https://t.co/DByWt45HZj</td>\n",
       "      <td>en</td>\n",
       "      <td>...</td>\n",
       "      <td>NaN</td>\n",
       "      <td>NaN</td>\n",
       "      <td>NaN</td>\n",
       "      <td>Follow this account for geo-targeted Utilities...</td>\n",
       "      <td>NaN</td>\n",
       "      <td>NaN</td>\n",
       "      <td>Sat Feb 21 12:15:21 +0000 2009</td>\n",
       "      <td>2009-02-21 13:15:21</td>\n",
       "      <td>2016-03-15 13:48:59</td>\n",
       "      <td>2016-03-15 13:48:59</td>\n",
       "    </tr>\n",
       "    <tr>\n",
       "      <th>...</th>\n",
       "      <td>...</td>\n",
       "      <td>...</td>\n",
       "      <td>...</td>\n",
       "      <td>...</td>\n",
       "      <td>...</td>\n",
       "      <td>...</td>\n",
       "      <td>...</td>\n",
       "      <td>...</td>\n",
       "      <td>...</td>\n",
       "      <td>...</td>\n",
       "      <td>...</td>\n",
       "      <td>...</td>\n",
       "      <td>...</td>\n",
       "      <td>...</td>\n",
       "      <td>...</td>\n",
       "      <td>...</td>\n",
       "      <td>...</td>\n",
       "      <td>...</td>\n",
       "      <td>...</td>\n",
       "      <td>...</td>\n",
       "      <td>...</td>\n",
       "    </tr>\n",
       "    <tr>\n",
       "      <th>1123</th>\n",
       "      <td>818079408</td>\n",
       "      <td>Columbia Facil. Mgmt</td>\n",
       "      <td>tmj_cae_facmgmt</td>\n",
       "      <td>41</td>\n",
       "      <td>169</td>\n",
       "      <td>151</td>\n",
       "      <td>0</td>\n",
       "      <td>12</td>\n",
       "      <td>http://t.co/TKb82K4tFJ</td>\n",
       "      <td>en</td>\n",
       "      <td>...</td>\n",
       "      <td>NaN</td>\n",
       "      <td>NaN</td>\n",
       "      <td>NaN</td>\n",
       "      <td>Follow this account for geo-targeted Facilitie...</td>\n",
       "      <td>NaN</td>\n",
       "      <td>NaN</td>\n",
       "      <td>Tue Sep 11 20:00:43 +0000 2012</td>\n",
       "      <td>2012-09-11 22:00:43</td>\n",
       "      <td>2016-03-15 13:49:15</td>\n",
       "      <td>2016-03-15 13:49:15</td>\n",
       "    </tr>\n",
       "    <tr>\n",
       "      <th>1124</th>\n",
       "      <td>846108068</td>\n",
       "      <td>NJ Business/Mgmt</td>\n",
       "      <td>tmj_nj_mgmt</td>\n",
       "      <td>218</td>\n",
       "      <td>332</td>\n",
       "      <td>245</td>\n",
       "      <td>0</td>\n",
       "      <td>31</td>\n",
       "      <td>https://t.co/DByWt4njnT</td>\n",
       "      <td>en</td>\n",
       "      <td>...</td>\n",
       "      <td>NaN</td>\n",
       "      <td>NaN</td>\n",
       "      <td>NaN</td>\n",
       "      <td>Follow this account for geo-targeted Business/...</td>\n",
       "      <td>NaN</td>\n",
       "      <td>NaN</td>\n",
       "      <td>Tue Sep 25 19:35:53 +0000 2012</td>\n",
       "      <td>2012-09-25 21:35:53</td>\n",
       "      <td>2016-03-15 13:49:15</td>\n",
       "      <td>2016-03-15 13:49:15</td>\n",
       "    </tr>\n",
       "    <tr>\n",
       "      <th>1125</th>\n",
       "      <td>857076271</td>\n",
       "      <td>PR Customer Ser.</td>\n",
       "      <td>tmj_ptr_cstsrv</td>\n",
       "      <td>17</td>\n",
       "      <td>530</td>\n",
       "      <td>300</td>\n",
       "      <td>0</td>\n",
       "      <td>8</td>\n",
       "      <td>http://t.co/paWgrkSWfT</td>\n",
       "      <td>en</td>\n",
       "      <td>...</td>\n",
       "      <td>NaN</td>\n",
       "      <td>NaN</td>\n",
       "      <td>NaN</td>\n",
       "      <td>Follow this account for geo-targeted Customer ...</td>\n",
       "      <td>NaN</td>\n",
       "      <td>NaN</td>\n",
       "      <td>Mon Oct 01 21:47:23 +0000 2012</td>\n",
       "      <td>2012-10-01 23:47:23</td>\n",
       "      <td>2016-03-15 13:49:15</td>\n",
       "      <td>2016-03-15 13:49:15</td>\n",
       "    </tr>\n",
       "    <tr>\n",
       "      <th>1126</th>\n",
       "      <td>872126906</td>\n",
       "      <td>PR Soft Dev Java</td>\n",
       "      <td>tmj_ptr_itjava</td>\n",
       "      <td>2</td>\n",
       "      <td>247</td>\n",
       "      <td>202</td>\n",
       "      <td>0</td>\n",
       "      <td>1</td>\n",
       "      <td>http://t.co/OnFSpFHC7G</td>\n",
       "      <td>en</td>\n",
       "      <td>...</td>\n",
       "      <td>NaN</td>\n",
       "      <td>NaN</td>\n",
       "      <td>NaN</td>\n",
       "      <td>Follow this account for geo-targeted Software ...</td>\n",
       "      <td>NaN</td>\n",
       "      <td>NaN</td>\n",
       "      <td>Wed Oct 10 16:44:09 +0000 2012</td>\n",
       "      <td>2012-10-10 18:44:09</td>\n",
       "      <td>2016-03-15 13:49:15</td>\n",
       "      <td>2016-03-15 13:49:15</td>\n",
       "    </tr>\n",
       "    <tr>\n",
       "      <th>1127</th>\n",
       "      <td>979406250</td>\n",
       "      <td>Harrisburg Cust. Ser</td>\n",
       "      <td>tmj_hpa_cstsrv</td>\n",
       "      <td>47</td>\n",
       "      <td>267</td>\n",
       "      <td>234</td>\n",
       "      <td>0</td>\n",
       "      <td>7</td>\n",
       "      <td>http://t.co/Kz252i4r</td>\n",
       "      <td>en</td>\n",
       "      <td>...</td>\n",
       "      <td>NaN</td>\n",
       "      <td>NaN</td>\n",
       "      <td>NaN</td>\n",
       "      <td>Follow this account for geo-targeted Customer ...</td>\n",
       "      <td>NaN</td>\n",
       "      <td>NaN</td>\n",
       "      <td>Fri Nov 30 00:08:26 +0000 2012</td>\n",
       "      <td>2012-11-30 01:08:26</td>\n",
       "      <td>2016-03-15 13:49:15</td>\n",
       "      <td>2016-03-15 13:49:15</td>\n",
       "    </tr>\n",
       "  </tbody>\n",
       "</table>\n",
       "<p>1128 rows × 40 columns</p>\n",
       "</div>"
      ],
      "text/plain": [
       "             id                  name      screen_name  statuses_count  \\\n",
       "0      21478911    TMJ- CLT Util Jobs     tmj_clt_util               4   \n",
       "1      21479094   TMJ - SFO Util Jobs     tmj_sfo_util               3   \n",
       "2      21479204   TMJ - WAS Util Jobs      tmj_dc_util               1   \n",
       "3      21479275   TMJ - JAX Util Jobs     tmj_jax_util               4   \n",
       "4      21479334   TMJ - CHI Util Jobs     tmj_chi_util               6   \n",
       "...         ...                   ...              ...             ...   \n",
       "1123  818079408  Columbia Facil. Mgmt  tmj_cae_facmgmt              41   \n",
       "1124  846108068      NJ Business/Mgmt      tmj_nj_mgmt             218   \n",
       "1125  857076271      PR Customer Ser.   tmj_ptr_cstsrv              17   \n",
       "1126  872126906      PR Soft Dev Java   tmj_ptr_itjava               2   \n",
       "1127  979406250  Harrisburg Cust. Ser   tmj_hpa_cstsrv              47   \n",
       "\n",
       "      followers_count  friends_count  favourites_count  listed_count  \\\n",
       "0                 344            295                 0             5   \n",
       "1                 353            322                 0            16   \n",
       "2                 323            294                 0             2   \n",
       "3                 311            292                 0             4   \n",
       "4                 339            298                 0             7   \n",
       "...               ...            ...               ...           ...   \n",
       "1123              169            151                 0            12   \n",
       "1124              332            245                 0            31   \n",
       "1125              530            300                 0             8   \n",
       "1126              247            202                 0             1   \n",
       "1127              267            234                 0             7   \n",
       "\n",
       "                          url lang  ... protected verified  notifications  \\\n",
       "0     https://t.co/DByWt45HZj   en  ...       NaN      NaN            NaN   \n",
       "1     https://t.co/DByWt45HZj   en  ...       NaN      NaN            NaN   \n",
       "2     https://t.co/DByWt45HZj   en  ...       NaN      NaN            NaN   \n",
       "3     https://t.co/DByWt45HZj   en  ...       NaN      NaN            NaN   \n",
       "4     https://t.co/DByWt45HZj   en  ...       NaN      NaN            NaN   \n",
       "...                       ...  ...  ...       ...      ...            ...   \n",
       "1123   http://t.co/TKb82K4tFJ   en  ...       NaN      NaN            NaN   \n",
       "1124  https://t.co/DByWt4njnT   en  ...       NaN      NaN            NaN   \n",
       "1125   http://t.co/paWgrkSWfT   en  ...       NaN      NaN            NaN   \n",
       "1126   http://t.co/OnFSpFHC7G   en  ...       NaN      NaN            NaN   \n",
       "1127     http://t.co/Kz252i4r   en  ...       NaN      NaN            NaN   \n",
       "\n",
       "                                            description  contributors_enabled  \\\n",
       "0     Follow this account for geo-targeted Utilities...                   NaN   \n",
       "1     Follow this account for geo-targeted Utilities...                   NaN   \n",
       "2     Follow this account for geo-targeted Utilities...                   NaN   \n",
       "3     Follow this account for geo-targeted Utilities...                   NaN   \n",
       "4     Follow this account for geo-targeted Utilities...                   NaN   \n",
       "...                                                 ...                   ...   \n",
       "1123  Follow this account for geo-targeted Facilitie...                   NaN   \n",
       "1124  Follow this account for geo-targeted Business/...                   NaN   \n",
       "1125  Follow this account for geo-targeted Customer ...                   NaN   \n",
       "1126  Follow this account for geo-targeted Software ...                   NaN   \n",
       "1127  Follow this account for geo-targeted Customer ...                   NaN   \n",
       "\n",
       "     following                      created_at            timestamp  \\\n",
       "0          NaN  Sat Feb 21 12:04:47 +0000 2009  2009-02-21 13:04:47   \n",
       "1          NaN  Sat Feb 21 12:09:26 +0000 2009  2009-02-21 13:09:26   \n",
       "2          NaN  Sat Feb 21 12:12:01 +0000 2009  2009-02-21 13:12:01   \n",
       "3          NaN  Sat Feb 21 12:13:37 +0000 2009  2009-02-21 13:13:37   \n",
       "4          NaN  Sat Feb 21 12:15:21 +0000 2009  2009-02-21 13:15:21   \n",
       "...        ...                             ...                  ...   \n",
       "1123       NaN  Tue Sep 11 20:00:43 +0000 2012  2012-09-11 22:00:43   \n",
       "1124       NaN  Tue Sep 25 19:35:53 +0000 2012  2012-09-25 21:35:53   \n",
       "1125       NaN  Mon Oct 01 21:47:23 +0000 2012  2012-10-01 23:47:23   \n",
       "1126       NaN  Wed Oct 10 16:44:09 +0000 2012  2012-10-10 18:44:09   \n",
       "1127       NaN  Fri Nov 30 00:08:26 +0000 2012  2012-11-30 01:08:26   \n",
       "\n",
       "               crawled_at              updated  \n",
       "0     2016-03-15 13:48:59  2016-03-15 13:48:59  \n",
       "1     2016-03-15 13:48:59  2016-03-15 13:48:59  \n",
       "2     2016-03-15 13:48:59  2016-03-15 13:48:59  \n",
       "3     2016-03-15 13:48:59  2016-03-15 13:48:59  \n",
       "4     2016-03-15 13:48:59  2016-03-15 13:48:59  \n",
       "...                   ...                  ...  \n",
       "1123  2016-03-15 13:49:15  2016-03-15 13:49:15  \n",
       "1124  2016-03-15 13:49:15  2016-03-15 13:49:15  \n",
       "1125  2016-03-15 13:49:15  2016-03-15 13:49:15  \n",
       "1126  2016-03-15 13:49:15  2016-03-15 13:49:15  \n",
       "1127  2016-03-15 13:49:15  2016-03-15 13:49:15  \n",
       "\n",
       "[1128 rows x 40 columns]"
      ]
     },
     "execution_count": 6,
     "metadata": {},
     "output_type": "execute_result"
    }
   ],
   "source": [
    "df_import\n"
   ]
  },
  {
   "cell_type": "code",
   "execution_count": 7,
   "metadata": {
    "ExecuteTime": {
     "end_time": "2022-11-13T07:20:18.918055Z",
     "start_time": "2022-11-13T07:20:18.773165Z"
    }
   },
   "outputs": [],
   "source": [
    "\n",
    "\n",
    "ff = pd.read_csv(\"data/cresci2017/fake_followers.csv\")\n",
    "ga = pd.read_csv(\"data/cresci2017/genuine_accounts.csv\") # real\n",
    "ss1 = pd.read_csv(\"data/cresci2017/social_spambots_1.csv\")\n",
    "ss2 = pd.read_csv(\"data/cresci2017/social_spambots_2.csv\")\n",
    "ss3 = pd.read_csv(\"data/cresci2017/social_spambots_3.csv\")\n",
    "ts1 = pd.read_csv(\"data/cresci2017/traditional_spambots_1.csv\")\n",
    "ts2 = pd.read_csv(\"data/cresci2017/traditional_spambots_2.csv\")\n",
    "ts3 = pd.read_csv(\"data/cresci2017/traditional_spambots_3.csv\")\n",
    "ts4 = pd.read_csv(\"data/cresci2017/traditional_spambots_4.csv\")\n",
    "\n",
    "\n",
    "ga = pd.concat([ga, pd.read_csv(\"data/cresci2015/E13.csv\")], axis=0)  # real\n",
    "ff = pd.concat([ff, pd.read_csv(\"data/cresci2015/FSF.csv\")], axis=0) \n",
    "ff = pd.concat([ff, pd.read_csv(\"data/cresci2015/INT.csv\")], axis=0) \n",
    "ga = pd.concat([ga, pd.read_csv(\"data/cresci2015/TFP.csv\")], axis=0)  # real\n",
    "ff = pd.concat([ff, pd.read_csv(\"data/cresci2015/TWT.csv\")], axis=0) \n",
    "\n",
    "REAL_ACCOUNT = 0\n",
    "FAKE_FOLLOWER = 1\n",
    "POLITICAL_SPAMMERS = 2\n",
    "ADVERTISING_SPAMMERS = 3\n",
    "OTHER_SPAMMERS = 4\n",
    "SCAMMERS = 5\n",
    "\n",
    "def gettype(id):\n",
    "    \n",
    "    if id in list(ff.id):\n",
    "        return FAKE_FOLLOWER\n",
    "\n",
    "    elif id in list(ga.id):\n",
    "        return REAL_ACCOUNT\n",
    "\n",
    "    elif id in list(ss1.id):\n",
    "        return POLITICAL_SPAMMERS\n",
    "    elif id in list(ss2.id):\n",
    "        return ADVERTISING_SPAMMERS\n",
    "    elif id in list(ss3.id):\n",
    "        return ADVERTISING_SPAMMERS\n",
    "\n",
    "    elif id in list(ts1.id):\n",
    "        return OTHER_SPAMMERS\n",
    "    elif id in list(ts2.id):\n",
    "        return SCAMMERS\n",
    "    elif id in list(ts3.id):\n",
    "        return ADVERTISING_SPAMMERS\n",
    "    elif id in list(ts4.id):\n",
    "        return ADVERTISING_SPAMMERS\n",
    "\n",
    "    else:\n",
    "        print(id)\n",
    "        return -1\n",
    "        \n"
   ]
  },
  {
   "cell_type": "code",
   "execution_count": 8,
   "metadata": {
    "ExecuteTime": {
     "end_time": "2022-11-13T07:20:18.922632Z",
     "start_time": "2022-11-13T07:20:18.919054Z"
    }
   },
   "outputs": [
    {
     "name": "stdout",
     "output_type": "stream",
     "text": [
      "1\n"
     ]
    },
    {
     "data": {
      "text/plain": [
       "-1"
      ]
     },
     "execution_count": 8,
     "metadata": {},
     "output_type": "execute_result"
    }
   ],
   "source": [
    "gettype(1)"
   ]
  },
  {
   "cell_type": "code",
   "execution_count": 9,
   "metadata": {
    "ExecuteTime": {
     "end_time": "2022-11-13T07:20:25.600311Z",
     "start_time": "2022-11-13T07:20:18.923414Z"
    }
   },
   "outputs": [],
   "source": [
    "train_df[\"account_type_multi\"] = train_df[\"id\"].apply(lambda id: gettype(id))\n",
    "test_df[\"account_type_multi\"] = test_df[\"id\"].apply(lambda id: gettype(id))"
   ]
  },
  {
   "cell_type": "code",
   "execution_count": 10,
   "metadata": {
    "ExecuteTime": {
     "end_time": "2022-11-13T07:20:25.604089Z",
     "start_time": "2022-11-13T07:20:25.601169Z"
    }
   },
   "outputs": [
    {
     "data": {
      "text/plain": [
       "array([0, 1, 3, 2, 5, 4], dtype=int64)"
      ]
     },
     "execution_count": 10,
     "metadata": {},
     "output_type": "execute_result"
    }
   ],
   "source": [
    "train_df[\"account_type_multi\"].unique()\n"
   ]
  },
  {
   "cell_type": "code",
   "execution_count": 11,
   "metadata": {
    "ExecuteTime": {
     "end_time": "2022-11-13T07:20:25.607691Z",
     "start_time": "2022-11-13T07:20:25.604971Z"
    }
   },
   "outputs": [
    {
     "data": {
      "text/plain": [
       "array([1, 0, 3, 4, 2, 5], dtype=int64)"
      ]
     },
     "execution_count": 11,
     "metadata": {},
     "output_type": "execute_result"
    }
   ],
   "source": [
    "test_df[\"account_type_multi\"].unique()"
   ]
  },
  {
   "cell_type": "code",
   "execution_count": 12,
   "metadata": {
    "ExecuteTime": {
     "end_time": "2022-11-13T07:20:33.830330Z",
     "start_time": "2022-11-13T07:20:25.608445Z"
    }
   },
   "outputs": [],
   "source": [
    "train_df.to_csv(\"data/twitter_data_train_multiclass.csv\")\n",
    "test_df.to_csv(\"data/twitter_data_test_multiclass.csv\")"
   ]
  },
  {
   "cell_type": "code",
   "execution_count": null,
   "metadata": {},
   "outputs": [],
   "source": []
  }
 ],
 "metadata": {
  "kernelspec": {
   "display_name": "Python 3.9.12 ('base')",
   "language": "python",
   "name": "python3"
  },
  "language_info": {
   "codemirror_mode": {
    "name": "ipython",
    "version": 3
   },
   "file_extension": ".py",
   "mimetype": "text/x-python",
   "name": "python",
   "nbconvert_exporter": "python",
   "pygments_lexer": "ipython3",
   "version": "3.9.12"
  },
  "toc": {
   "base_numbering": 1,
   "nav_menu": {},
   "number_sections": false,
   "sideBar": true,
   "skip_h1_title": false,
   "title_cell": "Table of Contents",
   "title_sidebar": "Contents",
   "toc_cell": false,
   "toc_position": {},
   "toc_section_display": true,
   "toc_window_display": false
  },
  "vscode": {
   "interpreter": {
    "hash": "77238a471535228e8cd55a3ca9e771a69c6c0bc66c44a56c972f9554a4042742"
   }
  }
 },
 "nbformat": 4,
 "nbformat_minor": 2
}
