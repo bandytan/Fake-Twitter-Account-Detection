{
 "cells": [
  {
   "cell_type": "code",
   "execution_count": 1,
   "metadata": {},
   "outputs": [
    {
     "name": "stderr",
     "output_type": "stream",
     "text": [
      "2022-11-14 18:01:18.326660: I tensorflow/core/platform/cpu_feature_guard.cc:193] This TensorFlow binary is optimized with oneAPI Deep Neural Network Library (oneDNN) to use the following CPU instructions in performance-critical operations:  AVX2 FMA\n",
      "To enable them in other operations, rebuild TensorFlow with the appropriate compiler flags.\n"
     ]
    }
   ],
   "source": [
    "import pandas as pd \n",
    "import numpy as np \n",
    "import re\n",
    "import matplotlib.pyplot as plt\n",
    "import keras\n",
    "import tensorflow as tf\n",
    "import cv2\n",
    "import time\n",
    "\n",
    "from sklearn.model_selection import train_test_split\n",
    "from sklearn.preprocessing import MinMaxScaler\n",
    "\n",
    "from sklearn.inspection import permutation_importance\n",
    "from sklearn.metrics import classification_report\n",
    "\n",
    "from tensorflow.keras.layers import concatenate\n",
    "from keras.layers import Conv2D, MaxPooling2D, Input, Flatten, Dense, Dropout, BatchNormalization\n",
    "from keras.models import Sequential, Model\n",
    "from keras.metrics import CategoricalAccuracy\n",
    "from keras.regularizers import l2\n",
    "from tensorflow.keras.applications.inception_v3 import InceptionV3\n",
    "\n",
    "pd.set_option('display.max_columns', None)"
   ]
  },
  {
   "cell_type": "code",
   "execution_count": 2,
   "metadata": {},
   "outputs": [],
   "source": [
    "train_df = pd.read_csv('data/twitter_data_train_multiclass.csv')\n",
    "test_df = pd.read_csv('data/twitter_data_test_multiclass.csv')"
   ]
  },
  {
   "cell_type": "code",
   "execution_count": 3,
   "metadata": {},
   "outputs": [],
   "source": [
    "scaler = MinMaxScaler() \n",
    "train_df[['statuses_count', 'favourites_count', 'followers_count', 'friends_count', 'number_of_mentions', 'listed_count', 'number_of_tags']] = scaler.fit_transform(train_df[['statuses_count', 'favourites_count', 'followers_count', 'friends_count', 'number_of_mentions', 'listed_count', 'number_of_tags']])\n",
    "test_df[['statuses_count', 'favourites_count', 'followers_count', 'friends_count', 'number_of_mentions', 'listed_count', 'number_of_tags']] = scaler.transform(test_df[['statuses_count', 'favourites_count', 'followers_count', 'friends_count', 'number_of_mentions', 'listed_count', 'number_of_tags']])"
   ]
  },
  {
   "cell_type": "markdown",
   "metadata": {},
   "source": [
    "## ANN\n",
    "training a ANN with categorical and numerical attributes"
   ]
  },
  {
   "cell_type": "code",
   "execution_count": 4,
   "metadata": {},
   "outputs": [],
   "source": [
    "to_drop = ['Unnamed: 0', 'screen_name', 'url', 'profile_image_url', 'description',\n",
    "           'id', 'name', 'account_type', 'tweets_list', 'tweets_list_processed',\n",
    "          'description_processed', 'protected', 'verified', 'account_type_multi', \n",
    "          'profile_use_background_image', 'profile_background_tile']\n",
    "\n",
    "x_train, y_train = train_df.drop(to_drop, axis=1), train_df['account_type_multi']\n",
    "x_test, y_test = test_df.drop(to_drop, axis=1), test_df['account_type_multi']"
   ]
  },
  {
   "cell_type": "code",
   "execution_count": 122,
   "metadata": {},
   "outputs": [],
   "source": [
    "x_train, x_val, y_train, y_val = train_test_split(x_train, y_train, test_size=0.15, random_state=69)"
   ]
  },
  {
   "cell_type": "code",
   "execution_count": 123,
   "metadata": {},
   "outputs": [
    {
     "name": "stdout",
     "output_type": "stream",
     "text": [
      "Model: \"sequential_15\"\n",
      "_________________________________________________________________\n",
      " Layer (type)                Output Shape              Param #   \n",
      "=================================================================\n",
      " dense_45 (Dense)            (None, 64)                14272     \n",
      "                                                                 \n",
      " dropout_15 (Dropout)        (None, 64)                0         \n",
      "                                                                 \n",
      " dense_46 (Dense)            (None, 128)               8320      \n",
      "                                                                 \n",
      " dense_47 (Dense)            (None, 6)                 774       \n",
      "                                                                 \n",
      "=================================================================\n",
      "Total params: 23,366\n",
      "Trainable params: 23,366\n",
      "Non-trainable params: 0\n",
      "_________________________________________________________________\n"
     ]
    }
   ],
   "source": [
    "start_time = time.time()\n",
    "\n",
    "ann_model = Sequential()\n",
    "ann_model.add(Dense(64, activation = 'relu', input_dim = 222))\n",
    "ann_model.add(Dropout(.1))\n",
    "ann_model.add(Dense(128, activation='relu'))\n",
    "ann_model.add(Dense(6, activation='softmax'))\n",
    "\n",
    "ann_model.summary()\n",
    "# configure the model\n",
    "ann_model.compile(optimizer='adam',\n",
    "                    loss='sparse_categorical_crossentropy',\n",
    "                    metrics=['accuracy'])"
   ]
  },
  {
   "cell_type": "code",
   "execution_count": 124,
   "metadata": {},
   "outputs": [
    {
     "name": "stdout",
     "output_type": "stream",
     "text": [
      "Epoch 1/20\n",
      "161/161 [==============================] - 1s 2ms/step - loss: 0.7565 - accuracy: 0.7612 - val_loss: 0.3322 - val_accuracy: 0.9104\n",
      "Epoch 2/20\n",
      "161/161 [==============================] - 0s 1ms/step - loss: 0.2990 - accuracy: 0.9126 - val_loss: 0.1813 - val_accuracy: 0.9492\n",
      "Epoch 3/20\n",
      "161/161 [==============================] - 0s 1ms/step - loss: 0.1851 - accuracy: 0.9471 - val_loss: 0.1823 - val_accuracy: 0.9647\n",
      "Epoch 4/20\n",
      "161/161 [==============================] - 0s 1ms/step - loss: 0.1390 - accuracy: 0.9594 - val_loss: 0.1204 - val_accuracy: 0.9732\n",
      "Epoch 5/20\n",
      "161/161 [==============================] - 0s 1ms/step - loss: 0.1238 - accuracy: 0.9710 - val_loss: 0.1084 - val_accuracy: 0.9746\n",
      "Epoch 6/20\n",
      "161/161 [==============================] - 0s 1ms/step - loss: 0.0959 - accuracy: 0.9730 - val_loss: 0.0924 - val_accuracy: 0.9788\n",
      "Epoch 7/20\n",
      "161/161 [==============================] - 0s 1ms/step - loss: 0.0981 - accuracy: 0.9750 - val_loss: 0.1008 - val_accuracy: 0.9760\n",
      "Epoch 8/20\n",
      "161/161 [==============================] - 0s 1ms/step - loss: 0.0853 - accuracy: 0.9771 - val_loss: 0.1058 - val_accuracy: 0.9760\n",
      "Epoch 9/20\n",
      "161/161 [==============================] - 0s 1ms/step - loss: 0.0762 - accuracy: 0.9787 - val_loss: 0.0977 - val_accuracy: 0.9767\n",
      "Epoch 10/20\n",
      "161/161 [==============================] - 0s 1ms/step - loss: 0.0658 - accuracy: 0.9819 - val_loss: 0.0903 - val_accuracy: 0.9767\n",
      "Epoch 11/20\n",
      "161/161 [==============================] - 0s 1ms/step - loss: 0.0740 - accuracy: 0.9801 - val_loss: 0.0859 - val_accuracy: 0.9760\n",
      "Epoch 12/20\n",
      "161/161 [==============================] - 0s 1ms/step - loss: 0.0595 - accuracy: 0.9833 - val_loss: 0.1058 - val_accuracy: 0.9788\n",
      "Epoch 13/20\n",
      "161/161 [==============================] - 0s 1ms/step - loss: 0.0573 - accuracy: 0.9826 - val_loss: 0.0901 - val_accuracy: 0.9802\n",
      "Epoch 14/20\n",
      "161/161 [==============================] - 0s 1ms/step - loss: 0.0582 - accuracy: 0.9844 - val_loss: 0.1141 - val_accuracy: 0.9732\n",
      "Epoch 15/20\n",
      "161/161 [==============================] - 0s 1ms/step - loss: 0.0600 - accuracy: 0.9826 - val_loss: 0.1123 - val_accuracy: 0.9753\n",
      "Epoch 16/20\n",
      "161/161 [==============================] - 0s 1ms/step - loss: 0.0532 - accuracy: 0.9849 - val_loss: 0.0844 - val_accuracy: 0.9795\n",
      "Epoch 17/20\n",
      "161/161 [==============================] - 0s 1ms/step - loss: 0.0469 - accuracy: 0.9868 - val_loss: 0.1014 - val_accuracy: 0.9802\n",
      "Epoch 18/20\n",
      "161/161 [==============================] - 0s 1ms/step - loss: 0.0433 - accuracy: 0.9870 - val_loss: 0.0964 - val_accuracy: 0.9774\n",
      "Epoch 19/20\n",
      "161/161 [==============================] - 0s 1ms/step - loss: 0.0393 - accuracy: 0.9873 - val_loss: 0.0995 - val_accuracy: 0.9760\n",
      "Epoch 20/20\n",
      "161/161 [==============================] - 0s 1ms/step - loss: 0.0413 - accuracy: 0.9880 - val_loss: 0.1197 - val_accuracy: 0.9739\n",
      "Total time taken for the program execution 4.616868019104004\n",
      "Train loss: 0.03512515872716904 / Train accuracy: 0.9899115562438965\n",
      "Test loss: 0.11746948957443237 / Test accuracy: 0.97780442237854\n"
     ]
    }
   ],
   "source": [
    "start_time = time.time()\n",
    "history = ann_model.fit(x_train, y_train, epochs=20, batch_size=50, validation_data=(x_val, y_val))\n",
    "time_taken = time.time() - start_time\n",
    "print(\"Total time taken for the program execution\", time_taken) # seconds\n",
    "\n",
    "score = ann_model.evaluate(x_train, y_train, verbose=0)\n",
    "print(f'Train loss: {score[0]} / Train accuracy: {score[1]}')\n",
    "\n",
    "score = ann_model.evaluate(x_test, y_test, verbose=0)\n",
    "print(f'Test loss: {score[0]} / Test accuracy: {score[1]}')"
   ]
  },
  {
   "cell_type": "code",
   "execution_count": 125,
   "metadata": {},
   "outputs": [
    {
     "data": {
      "image/png": "[encoded data removed]",
      "text/plain": [
       "<Figure size 1200x600 with 2 Axes>"
      ]
     },
     "metadata": {
      "needs_background": "light"
     },
     "output_type": "display_data"
    }
   ],
   "source": [
    "acc = history.history['accuracy']\n",
    "val_acc = history.history['val_accuracy']\n",
    "loss = history.history['loss']\n",
    "val_loss = history.history['val_loss']\n",
    "\n",
    "plt.figure(figsize=(12, 6), dpi=100)\n",
    "plt.subplot(2,1,1)\n",
    "plt.plot(acc, 'r', label='train acc')\n",
    "plt.plot(val_acc, 'b', label='val acc')\n",
    "plt.title('Train and Validation Accuracy')\n",
    "plt.legend()\n",
    "\n",
    "plt.subplot(2,1,2)\n",
    "plt.plot(loss, 'r', label='train loss')\n",
    "plt.plot(val_loss, 'b', label='val loss')\n",
    "plt.title('Train and Validation Loss')\n",
    "plt.legend()\n",
    "\n",
    "plt.show()"
   ]
  },
  {
   "cell_type": "code",
   "execution_count": 126,
   "metadata": {},
   "outputs": [
    {
     "name": "stdout",
     "output_type": "stream",
     "text": [
      "53/53 [==============================] - 0s 825us/step\n",
      "              precision    recall  f1-score   support\n",
      "\n",
      "           0    0.96145   0.96610   0.96377       413\n",
      "           1    0.97441   0.99348   0.98385       460\n",
      "           2    0.98113   0.89655   0.93694        58\n",
      "           3    0.99543   0.98198   0.98866       666\n",
      "           4    0.91228   0.98113   0.94545        53\n",
      "           5    1.00000   0.94118   0.96970        17\n",
      "\n",
      "    accuracy                        0.97780      1667\n",
      "   macro avg    0.97078   0.96007   0.96473      1667\n",
      "weighted avg    0.97812   0.97780   0.97780      1667\n",
      "\n"
     ]
    }
   ],
   "source": [
    "pred = ann_model.predict(x_test)\n",
    "pred = np.argmax(pred,axis=1)\n",
    "print(classification_report(y_test, pred, digits=5))"
   ]
  },
  {
   "cell_type": "markdown",
   "metadata": {},
   "source": [
    "## CNN\n",
    "training a CNN using user's profile photos"
   ]
  },
  {
   "cell_type": "code",
   "execution_count": 5,
   "metadata": {},
   "outputs": [],
   "source": [
    "faces_base = \"../new batch profile pics/\""
   ]
  },
  {
   "cell_type": "code",
   "execution_count": 6,
   "metadata": {},
   "outputs": [],
   "source": [
    "# get all image pathnames from base\n",
    "# list to store files\n",
    "res = []\n",
    "res2 = []\n",
    "\n",
    "# Iterate directory\n",
    "for path in os.listdir(faces_base):\n",
    "    # check if current path is a file\n",
    "    if os.path.isfile(os.path.join(faces_base, path)):\n",
    "        res.append(faces_base + path)\n",
    "        res2.append(path)"
   ]
  },
  {
   "cell_type": "markdown",
   "metadata": {},
   "source": [
    "### Pre trained CNN: InceptionV3"
   ]
  },
  {
   "cell_type": "code",
   "execution_count": 7,
   "metadata": {
    "tags": []
   },
   "outputs": [
    {
     "name": "stdout",
     "output_type": "stream",
     "text": [
      "none\n",
      "none\n",
      "none\n",
      "none\n",
      "none\n",
      "none\n",
      "none\n",
      "none\n",
      "none\n",
      "none\n",
      "libpng warning: iCCP: profile 'icc': 'RGB ': RGB color space not permitted on grayscale PNG\n",
      "none\n",
      "none\n",
      "none\n",
      "none\n",
      "libpng warning: iCCP: profile 'icc': 'RGB ': RGB color space not permitted on grayscale PNG\n",
      "none\n",
      "none\n",
      "libpng warning: iCCP: known incorrect sRGB profile\n",
      "none\n",
      "none\n",
      "none\n",
      "none\n",
      "none\n"
     ]
    }
   ],
   "source": [
    "train_img_dict2 = {}\n",
    "test_img_dict2 = {}\n",
    "train_img2 = []\n",
    "test_img2 = []\n",
    "for i in range(len(res)):\n",
    "    pic = res[i]\n",
    "    id_name = re.match(r\"[^\\/\\\\]+(?=\\.png|\\.jpg)\", res2[i]).group(0)\n",
    "    try:\n",
    "        img = cv2.imread(pic)\n",
    "        if img is None:\n",
    "            print(\"none\")\n",
    "            continue\n",
    "        img = cv2.resize(img, (75, 75))\n",
    "        if int(id_name) in list(train_df['id']):\n",
    "            train_img_dict2[int(id_name)] = img \n",
    "            train_img2.append(img)\n",
    "        elif int(id_name) in list(test_df['id']):\n",
    "            test_img_dict2[int(id_name)] = img\n",
    "            test_img2.append(img)\n",
    "        #img.close()\n",
    "    except Exception as e:\n",
    "        print(e)"
   ]
  },
  {
   "cell_type": "code",
   "execution_count": 8,
   "metadata": {},
   "outputs": [],
   "source": [
    "train_img_df2 = pd.DataFrame(train_img_dict2.items(), columns = ['id', 'img'])  \n",
    "test_img_df2 = pd.DataFrame(test_img_dict2.items(), columns = ['id', 'img'])  \n",
    "train_df_with_img2 = pd.merge(train_img_df2, train_df, on='id')\n",
    "test_df_with_img2 = pd.merge(test_img_df2, test_df, on='id')"
   ]
  },
  {
   "cell_type": "code",
   "execution_count": 9,
   "metadata": {},
   "outputs": [
    {
     "name": "stderr",
     "output_type": "stream",
     "text": [
      "2022-11-14 18:03:16.741421: I tensorflow/core/platform/cpu_feature_guard.cc:193] This TensorFlow binary is optimized with oneAPI Deep Neural Network Library (oneDNN) to use the following CPU instructions in performance-critical operations:  AVX2 FMA\n",
      "To enable them in other operations, rebuild TensorFlow with the appropriate compiler flags.\n"
     ]
    }
   ],
   "source": [
    "base_model = InceptionV3(input_shape = (75, 75, 3), include_top = False, weights = 'imagenet')\n",
    "\n",
    "for layer in base_model.layers:\n",
    "    layer.trainable = False\n",
    "x = Flatten()(base_model.output)\n",
    "x = Dense(70, activation='relu')(x)\n",
    "x = Dropout(0.5)(x)\n",
    "x = Dense(6, activation='softmax')(x)\n",
    "model = Model(base_model.input, x)\n",
    "# configure the model\n",
    "model.compile(optimizer='adam',\n",
    "                    loss='sparse_categorical_crossentropy',\n",
    "                    metrics=['accuracy'])"
   ]
  },
  {
   "cell_type": "code",
   "execution_count": 10,
   "metadata": {},
   "outputs": [],
   "source": [
    "x_train2, x_val2, y_train2, y_val2 = train_test_split(np.array(train_img2) / 255.0, train_df_with_img2['account_type_multi'], test_size=0.15)"
   ]
  },
  {
   "cell_type": "code",
   "execution_count": 12,
   "metadata": {},
   "outputs": [
    {
     "name": "stdout",
     "output_type": "stream",
     "text": [
      "Epoch 1/20\n",
      "161/161 [==============================] - 39s 210ms/step - loss: 1.3083 - accuracy: 0.4459 - val_loss: 1.1507 - val_accuracy: 0.4926\n",
      "Epoch 2/20\n",
      "161/161 [==============================] - 34s 209ms/step - loss: 1.1577 - accuracy: 0.5083 - val_loss: 1.0883 - val_accuracy: 0.5251\n",
      "Epoch 3/20\n",
      "161/161 [==============================] - 32s 202ms/step - loss: 1.0921 - accuracy: 0.5422 - val_loss: 1.0846 - val_accuracy: 0.5223\n",
      "Epoch 4/20\n",
      "161/161 [==============================] - 32s 197ms/step - loss: 1.0449 - accuracy: 0.5642 - val_loss: 1.0798 - val_accuracy: 0.5406\n",
      "Epoch 5/20\n",
      "161/161 [==============================] - 39s 241ms/step - loss: 1.0055 - accuracy: 0.5778 - val_loss: 1.0681 - val_accuracy: 0.5456\n",
      "Epoch 6/20\n",
      "161/161 [==============================] - 38s 236ms/step - loss: 0.9645 - accuracy: 0.5950 - val_loss: 1.0966 - val_accuracy: 0.5562\n",
      "Epoch 7/20\n",
      "161/161 [==============================] - 42s 261ms/step - loss: 0.9281 - accuracy: 0.6137 - val_loss: 1.0644 - val_accuracy: 0.5590\n",
      "Epoch 8/20\n",
      "161/161 [==============================] - 45s 277ms/step - loss: 0.8893 - accuracy: 0.6308 - val_loss: 1.0920 - val_accuracy: 0.5512\n",
      "Epoch 9/20\n",
      "161/161 [==============================] - 35s 217ms/step - loss: 0.8609 - accuracy: 0.6368 - val_loss: 1.0661 - val_accuracy: 0.5661\n",
      "Epoch 10/20\n",
      "161/161 [==============================] - 36s 223ms/step - loss: 0.8337 - accuracy: 0.6544 - val_loss: 1.0837 - val_accuracy: 0.5633\n",
      "Epoch 11/20\n",
      "161/161 [==============================] - 38s 237ms/step - loss: 0.7881 - accuracy: 0.6699 - val_loss: 1.1199 - val_accuracy: 0.5717\n",
      "Epoch 12/20\n",
      "161/161 [==============================] - 38s 234ms/step - loss: 0.7747 - accuracy: 0.6724 - val_loss: 1.1100 - val_accuracy: 0.5710\n",
      "Epoch 13/20\n",
      "161/161 [==============================] - 43s 266ms/step - loss: 0.7488 - accuracy: 0.6878 - val_loss: 1.1101 - val_accuracy: 0.5809\n",
      "Epoch 14/20\n",
      "161/161 [==============================] - 40s 251ms/step - loss: 0.7221 - accuracy: 0.6976 - val_loss: 1.1323 - val_accuracy: 0.5936\n",
      "Epoch 15/20\n",
      "161/161 [==============================] - 48s 297ms/step - loss: 0.6937 - accuracy: 0.7105 - val_loss: 1.1766 - val_accuracy: 0.5731\n",
      "Epoch 16/20\n",
      "161/161 [==============================] - 40s 250ms/step - loss: 0.6718 - accuracy: 0.7070 - val_loss: 1.1559 - val_accuracy: 0.5816\n",
      "Epoch 17/20\n",
      "161/161 [==============================] - 37s 229ms/step - loss: 0.6537 - accuracy: 0.7199 - val_loss: 1.1853 - val_accuracy: 0.5830\n",
      "Epoch 18/20\n",
      "161/161 [==============================] - 39s 243ms/step - loss: 0.6419 - accuracy: 0.7246 - val_loss: 1.1893 - val_accuracy: 0.5887\n",
      "Epoch 19/20\n",
      "161/161 [==============================] - 38s 235ms/step - loss: 0.6171 - accuracy: 0.7384 - val_loss: 1.2186 - val_accuracy: 0.5823\n",
      "Epoch 20/20\n",
      "161/161 [==============================] - 40s 250ms/step - loss: 0.5929 - accuracy: 0.7465 - val_loss: 1.2474 - val_accuracy: 0.5816\n",
      "Total time taken for the program execution 773.1298911571503\n"
     ]
    }
   ],
   "source": [
    "#es_callback = keras.callbacks.EarlyStopping(monitor='val_accuracy', patience=15)\n",
    "start_time = time.time()\n",
    "inc_history = model.fit(x_train2, y_train2, epochs=20, batch_size=50, validation_data=(x_val2, y_val2))\n",
    "time_taken = time.time() - start_time\n",
    "print(\"Total time taken for the program execution\", time_taken) # seconds"
   ]
  },
  {
   "cell_type": "code",
   "execution_count": 17,
   "metadata": {},
   "outputs": [
    {
     "name": "stdout",
     "output_type": "stream",
     "text": [
      "Train loss: 0.3621826469898224 / Train accuracy: 0.8792264461517334\n"
     ]
    }
   ],
   "source": [
    "score = model.evaluate(x_train2, y_train2, verbose=0)\n",
    "print(f'Train loss: {score[0]} / Train accuracy: {score[1]}')"
   ]
  },
  {
   "cell_type": "code",
   "execution_count": 18,
   "metadata": {},
   "outputs": [
    {
     "name": "stdout",
     "output_type": "stream",
     "text": [
      "Test loss: 1.1748358011245728 / Test accuracy: 0.590252697467804\n"
     ]
    }
   ],
   "source": [
    "score = model.evaluate(np.array(test_img2) / 255.0, test_df_with_img2['account_type_multi'], verbose=0)\n",
    "print(f'Test loss: {score[0]} / Test accuracy: {score[1]}')"
   ]
  },
  {
   "cell_type": "code",
   "execution_count": 19,
   "metadata": {},
   "outputs": [
    {
     "name": "stdout",
     "output_type": "stream",
     "text": [
      "52/52 [==============================] - 8s 160ms/step\n"
     ]
    }
   ],
   "source": [
    "pred = model.predict(np.array(test_img2) / 255.0)\n",
    "pred = np.argmax(pred,axis=1)"
   ]
  },
  {
   "cell_type": "code",
   "execution_count": 16,
   "metadata": {},
   "outputs": [
    {
     "name": "stdout",
     "output_type": "stream",
     "text": [
      "              precision    recall  f1-score   support\n",
      "\n",
      "           0    0.48011   0.43932   0.45881       412\n",
      "           1    0.49611   0.55435   0.52361       460\n",
      "           2    0.00000   0.00000   0.00000        56\n",
      "           3    0.70281   0.78829   0.74310       666\n",
      "           4    0.66667   0.07843   0.14035        51\n",
      "           5    1.00000   0.94118   0.96970        17\n",
      "\n",
      "    accuracy                        0.59025      1662\n",
      "   macro avg    0.55762   0.46693   0.47260      1662\n",
      "weighted avg    0.56864   0.59025   0.57066      1662\n",
      "\n"
     ]
    }
   ],
   "source": [
    "print(classification_report(test_df_with_img2['account_type_multi'], pred, digits=5))"
   ]
  },
  {
   "cell_type": "markdown",
   "metadata": {},
   "source": [
    "### Self-train CNN"
   ]
  },
  {
   "cell_type": "code",
   "execution_count": 44,
   "metadata": {},
   "outputs": [
    {
     "name": "stdout",
     "output_type": "stream",
     "text": [
      "none\n",
      "none\n",
      "none\n",
      "none\n",
      "none\n",
      "none\n",
      "none\n",
      "none\n",
      "none\n",
      "none\n",
      "libpng warning: iCCP: profile 'icc': 'RGB ': RGB color space not permitted on grayscale PNG\n",
      "none\n",
      "none\n",
      "none\n",
      "none\n",
      "libpng warning: iCCP: profile 'icc': 'RGB ': RGB color space not permitted on grayscale PNG\n",
      "none\n",
      "none\n",
      "libpng warning: iCCP: known incorrect sRGB profile\n",
      "none\n",
      "none\n",
      "none\n",
      "none\n",
      "none\n"
     ]
    }
   ],
   "source": [
    "train_img_dict = {}\n",
    "test_img_dict = {}\n",
    "train_img = []\n",
    "test_img = []\n",
    "for i in range(len(res)):\n",
    "    pic = res[i]\n",
    "    id_name = re.match(r\"[^\\/\\\\]+(?=\\.png|\\.jpg)\", res2[i]).group(0)\n",
    "    try:\n",
    "        img = cv2.imread(pic)\n",
    "        if img is None:\n",
    "            print(\"none\")\n",
    "            continue\n",
    "        if int(id_name) in list(train_df['id']):\n",
    "            train_img_dict[int(id_name)] = img \n",
    "            train_img.append(img)\n",
    "        elif int(id_name) in list(test_df['id']):\n",
    "            test_img_dict[int(id_name)] = img\n",
    "            test_img.append(img)\n",
    "        #img.close()\n",
    "    except Exception as e:\n",
    "        print(e)"
   ]
  },
  {
   "cell_type": "code",
   "execution_count": 348,
   "metadata": {},
   "outputs": [
    {
     "data": {
      "text/plain": [
       "9430"
      ]
     },
     "execution_count": 348,
     "metadata": {},
     "output_type": "execute_result"
    }
   ],
   "source": [
    "len(train_img_dict)"
   ]
  },
  {
   "cell_type": "code",
   "execution_count": 45,
   "metadata": {},
   "outputs": [],
   "source": [
    "train_img_df = pd.DataFrame(train_img_dict.items(), columns = ['id', 'img'])  \n",
    "test_img_df = pd.DataFrame(test_img_dict.items(), columns = ['id', 'img'])  \n",
    "train_df_with_img = pd.merge(train_img_df, train_df, on='id')\n",
    "test_df_with_img = pd.merge(test_img_df, test_df, on='id')"
   ]
  },
  {
   "cell_type": "code",
   "execution_count": 383,
   "metadata": {},
   "outputs": [],
   "source": [
    "kernel_size = (3, 3)\n",
    "stride_size = (1, 1)\n",
    "filters = [4, 8, 16]\n",
    "\n",
    "cnn_model = Sequential()\n",
    "cnn_model.add(Input(shape=(48, 48, 3)))\n",
    "for f in filters:\n",
    "    cnn_model.add(Conv2D(f, kernel_size, strides=stride_size, activation='relu'))\n",
    "    cnn_model.add(Dropout(0.1))\n",
    "    cnn_model.add(Conv2D(f, kernel_size, strides=stride_size, activation='relu'))\n",
    "    cnn_model.add(BatchNormalization(axis = -1))\n",
    "    cnn_model.add(MaxPooling2D(pool_size=(2, 2)))\n",
    "\n",
    "cnn_model.add(Flatten())\n",
    "cnn_model.add(Dense(100, activation='relu'))\n",
    "cnn_model.add(Dropout(0.3))\n",
    "cnn_model.add(Dense(100, activation='relu'))\n",
    "cnn_model.add(Dropout(0.3))\n",
    "cnn_model.add(Dense(100, activation='relu'))\n",
    "cnn_model.add(Dense(6, activation='softmax'))\n",
    "# configure the model\n",
    "cnn_model.compile(optimizer='adam',\n",
    "                    loss='sparse_categorical_crossentropy',\n",
    "                    metrics=['accuracy'])"
   ]
  },
  {
   "cell_type": "code",
   "execution_count": 431,
   "metadata": {},
   "outputs": [],
   "source": [
    "kernel_size = (3, 3)\n",
    "stride_size = (1, 1)\n",
    "filters = [4, 10, 24]\n",
    "\n",
    "cnn_model = Sequential()\n",
    "cnn_model.add(Input(shape=(48, 48, 3)))\n",
    "for f in filters:\n",
    "    cnn_model.add(Conv2D(f, kernel_size, strides=stride_size, activation='relu', kernel_regularizer=l2(0.01), bias_regularizer=l2(0.01)))\n",
    "    cnn_model.add(Conv2D(f, kernel_size, strides=stride_size, activation='relu', kernel_regularizer=l2(0.01), bias_regularizer=l2(0.01)))\n",
    "    cnn_model.add(BatchNormalization(axis = -1))\n",
    "    cnn_model.add(MaxPooling2D(pool_size=(2, 2)))\n",
    "\n",
    "cnn_model.add(Flatten())\n",
    "cnn_model.add(Dense(100, activation='relu'))\n",
    "cnn_model.add(Dropout(0.1))\n",
    "\n",
    "cnn_model.add(Dense(100, activation='relu'))\n",
    "cnn_model.add(Dropout(0.1))\n",
    "cnn_model.add(Dense(100, activation='relu'))\n",
    "\n",
    "cnn_model.add(Dense(6, activation='softmax'))\n",
    "# configure the model\n",
    "cnn_model.compile(optimizer='adam',\n",
    "                    loss='sparse_categorical_crossentropy',\n",
    "                    metrics=['accuracy'])"
   ]
  },
  {
   "cell_type": "code",
   "execution_count": 432,
   "metadata": {},
   "outputs": [],
   "source": [
    "x_train, x_val, y_train, y_val = train_test_split(np.array(train_img) / 255.0, train_df_with_img['account_type_multi'], test_size=0.15)"
   ]
  },
  {
   "cell_type": "code",
   "execution_count": 433,
   "metadata": {},
   "outputs": [
    {
     "name": "stdout",
     "output_type": "stream",
     "text": [
      "Epoch 1/100\n",
      "401/401 [==============================] - 17s 38ms/step - loss: 1.7331 - accuracy: 0.4354 - val_loss: 1.8124 - val_accuracy: 0.3880\n",
      "Epoch 2/100\n",
      "401/401 [==============================] - 14s 35ms/step - loss: 1.5007 - accuracy: 0.4770 - val_loss: 1.4975 - val_accuracy: 0.4353\n",
      "Epoch 3/100\n",
      "401/401 [==============================] - 14s 36ms/step - loss: 1.3867 - accuracy: 0.4957 - val_loss: 1.3613 - val_accuracy: 0.4890\n",
      "Epoch 4/100\n",
      "401/401 [==============================] - 14s 36ms/step - loss: 1.3133 - accuracy: 0.4987 - val_loss: 1.3241 - val_accuracy: 0.4905\n",
      "Epoch 5/100\n",
      "401/401 [==============================] - 14s 35ms/step - loss: 1.2707 - accuracy: 0.5154 - val_loss: 1.2847 - val_accuracy: 0.4883\n",
      "Epoch 6/100\n",
      "401/401 [==============================] - 14s 36ms/step - loss: 1.2424 - accuracy: 0.5188 - val_loss: 1.2548 - val_accuracy: 0.5088\n",
      "Epoch 7/100\n",
      "401/401 [==============================] - 14s 36ms/step - loss: 1.2212 - accuracy: 0.5279 - val_loss: 1.2828 - val_accuracy: 0.4488\n",
      "Epoch 8/100\n",
      "401/401 [==============================] - 14s 35ms/step - loss: 1.2001 - accuracy: 0.5346 - val_loss: 1.4448 - val_accuracy: 0.4078\n",
      "Epoch 9/100\n",
      "401/401 [==============================] - 14s 35ms/step - loss: 1.1866 - accuracy: 0.5364 - val_loss: 1.2377 - val_accuracy: 0.4898\n",
      "Epoch 10/100\n",
      "401/401 [==============================] - 14s 35ms/step - loss: 1.1793 - accuracy: 0.5411 - val_loss: 1.2753 - val_accuracy: 0.4848\n",
      "Epoch 11/100\n",
      "401/401 [==============================] - 14s 35ms/step - loss: 1.1614 - accuracy: 0.5429 - val_loss: 1.2598 - val_accuracy: 0.4742\n",
      "Epoch 12/100\n",
      "401/401 [==============================] - 14s 35ms/step - loss: 1.1459 - accuracy: 0.5607 - val_loss: 1.2861 - val_accuracy: 0.4862\n",
      "Epoch 13/100\n",
      "401/401 [==============================] - 14s 35ms/step - loss: 1.1459 - accuracy: 0.5566 - val_loss: 1.3325 - val_accuracy: 0.4332\n",
      "Epoch 14/100\n",
      "401/401 [==============================] - 14s 35ms/step - loss: 1.1342 - accuracy: 0.5691 - val_loss: 1.2330 - val_accuracy: 0.5166\n",
      "Epoch 15/100\n",
      "401/401 [==============================] - 14s 35ms/step - loss: 1.1194 - accuracy: 0.5797 - val_loss: 1.2363 - val_accuracy: 0.5095\n",
      "Epoch 16/100\n",
      "401/401 [==============================] - 14s 35ms/step - loss: 1.1121 - accuracy: 0.5774 - val_loss: 1.2344 - val_accuracy: 0.4989\n",
      "Epoch 17/100\n",
      "401/401 [==============================] - 14s 35ms/step - loss: 1.1119 - accuracy: 0.5774 - val_loss: 1.2458 - val_accuracy: 0.4975\n",
      "Epoch 18/100\n",
      "401/401 [==============================] - 14s 35ms/step - loss: 1.0896 - accuracy: 0.5939 - val_loss: 1.3051 - val_accuracy: 0.4643\n",
      "Epoch 19/100\n",
      "401/401 [==============================] - 14s 34ms/step - loss: 1.0983 - accuracy: 0.5857 - val_loss: 1.3260 - val_accuracy: 0.4799\n",
      "Epoch 20/100\n",
      "401/401 [==============================] - 14s 34ms/step - loss: 1.0795 - accuracy: 0.6062 - val_loss: 1.2950 - val_accuracy: 0.5011\n",
      "Epoch 21/100\n",
      "401/401 [==============================] - 14s 36ms/step - loss: 1.0704 - accuracy: 0.6029 - val_loss: 1.3045 - val_accuracy: 0.4975\n",
      "Epoch 22/100\n",
      "401/401 [==============================] - 16s 39ms/step - loss: 1.0701 - accuracy: 0.6055 - val_loss: 1.2420 - val_accuracy: 0.5322\n",
      "Epoch 23/100\n",
      "401/401 [==============================] - 15s 37ms/step - loss: 1.0488 - accuracy: 0.6205 - val_loss: 1.2347 - val_accuracy: 0.5371\n",
      "Epoch 24/100\n",
      "401/401 [==============================] - 15s 37ms/step - loss: 1.0627 - accuracy: 0.6180 - val_loss: 1.3592 - val_accuracy: 0.4975\n",
      "Epoch 25/100\n",
      "401/401 [==============================] - 16s 39ms/step - loss: 1.0360 - accuracy: 0.6293 - val_loss: 1.2786 - val_accuracy: 0.5293\n",
      "Epoch 26/100\n",
      "401/401 [==============================] - 17s 41ms/step - loss: 1.0178 - accuracy: 0.6353 - val_loss: 1.2800 - val_accuracy: 0.5293\n",
      "Epoch 27/100\n",
      "401/401 [==============================] - 16s 40ms/step - loss: 1.0052 - accuracy: 0.6478 - val_loss: 1.3054 - val_accuracy: 0.5223\n",
      "Epoch 28/100\n",
      "401/401 [==============================] - 17s 43ms/step - loss: 0.9979 - accuracy: 0.6445 - val_loss: 1.5256 - val_accuracy: 0.4989\n",
      "Epoch 29/100\n",
      "401/401 [==============================] - 15s 38ms/step - loss: 0.9975 - accuracy: 0.6505 - val_loss: 1.3173 - val_accuracy: 0.5166\n",
      "Epoch 30/100\n",
      "401/401 [==============================] - 16s 39ms/step - loss: 0.9842 - accuracy: 0.6580 - val_loss: 1.3415 - val_accuracy: 0.5088\n",
      "Epoch 31/100\n",
      "401/401 [==============================] - 15s 37ms/step - loss: 0.9712 - accuracy: 0.6685 - val_loss: 1.4797 - val_accuracy: 0.5265\n",
      "Epoch 32/100\n",
      "401/401 [==============================] - 15s 37ms/step - loss: 0.9505 - accuracy: 0.6711 - val_loss: 1.3227 - val_accuracy: 0.5336\n",
      "Epoch 33/100\n",
      "401/401 [==============================] - 14s 36ms/step - loss: 0.9536 - accuracy: 0.6759 - val_loss: 1.3770 - val_accuracy: 0.5265\n",
      "Epoch 34/100\n",
      "401/401 [==============================] - 15s 37ms/step - loss: 0.9324 - accuracy: 0.6825 - val_loss: 1.3860 - val_accuracy: 0.5145\n",
      "Epoch 35/100\n",
      "401/401 [==============================] - 14s 35ms/step - loss: 0.9163 - accuracy: 0.6967 - val_loss: 1.4192 - val_accuracy: 0.5463\n",
      "Epoch 36/100\n",
      "401/401 [==============================] - 14s 35ms/step - loss: 0.9065 - accuracy: 0.7001 - val_loss: 1.4519 - val_accuracy: 0.5314\n",
      "Epoch 37/100\n",
      "401/401 [==============================] - 14s 35ms/step - loss: 0.9144 - accuracy: 0.6967 - val_loss: 1.4608 - val_accuracy: 0.5314\n",
      "Epoch 38/100\n",
      "401/401 [==============================] - 15s 38ms/step - loss: 0.8919 - accuracy: 0.7104 - val_loss: 1.3783 - val_accuracy: 0.5463\n",
      "Epoch 39/100\n",
      "401/401 [==============================] - 16s 39ms/step - loss: 0.8854 - accuracy: 0.7168 - val_loss: 1.4634 - val_accuracy: 0.5251\n",
      "Epoch 40/100\n",
      "401/401 [==============================] - 14s 36ms/step - loss: 0.8953 - accuracy: 0.7103 - val_loss: 1.4096 - val_accuracy: 0.5399\n",
      "Epoch 41/100\n",
      "401/401 [==============================] - 14s 35ms/step - loss: 0.8502 - accuracy: 0.7315 - val_loss: 1.4791 - val_accuracy: 0.5329\n",
      "Epoch 42/100\n",
      "401/401 [==============================] - 14s 34ms/step - loss: 0.8683 - accuracy: 0.7249 - val_loss: 1.4815 - val_accuracy: 0.5307\n",
      "Epoch 43/100\n",
      "401/401 [==============================] - 14s 36ms/step - loss: 0.8561 - accuracy: 0.7324 - val_loss: 1.4587 - val_accuracy: 0.5420\n",
      "Epoch 44/100\n",
      "401/401 [==============================] - 18s 45ms/step - loss: 0.8459 - accuracy: 0.7397 - val_loss: 1.5132 - val_accuracy: 0.5300\n",
      "Epoch 45/100\n",
      "401/401 [==============================] - 15s 37ms/step - loss: 0.8461 - accuracy: 0.7367 - val_loss: 1.5220 - val_accuracy: 0.5343\n",
      "Epoch 46/100\n",
      "401/401 [==============================] - 14s 35ms/step - loss: 0.8486 - accuracy: 0.7405 - val_loss: 1.4241 - val_accuracy: 0.5498\n",
      "Epoch 47/100\n",
      "401/401 [==============================] - 14s 36ms/step - loss: 0.8190 - accuracy: 0.7470 - val_loss: 1.6051 - val_accuracy: 0.5201\n",
      "Epoch 48/100\n",
      "401/401 [==============================] - 15s 37ms/step - loss: 0.8144 - accuracy: 0.7538 - val_loss: 1.5669 - val_accuracy: 0.5159\n",
      "Epoch 49/100\n",
      "401/401 [==============================] - 14s 35ms/step - loss: 0.8163 - accuracy: 0.7508 - val_loss: 1.4834 - val_accuracy: 0.5293\n",
      "Epoch 50/100\n",
      "401/401 [==============================] - 14s 35ms/step - loss: 0.7932 - accuracy: 0.7659 - val_loss: 1.5493 - val_accuracy: 0.5322\n",
      "Epoch 51/100\n",
      "401/401 [==============================] - 14s 34ms/step - loss: 0.8041 - accuracy: 0.7626 - val_loss: 1.4918 - val_accuracy: 0.5272\n",
      "Epoch 52/100\n",
      "401/401 [==============================] - 14s 36ms/step - loss: 0.8007 - accuracy: 0.7623 - val_loss: 1.5731 - val_accuracy: 0.5293\n",
      "Epoch 53/100\n",
      "401/401 [==============================] - 16s 39ms/step - loss: 0.7859 - accuracy: 0.7734 - val_loss: 1.6062 - val_accuracy: 0.5470\n",
      "Epoch 54/100\n",
      "401/401 [==============================] - 15s 38ms/step - loss: 0.7833 - accuracy: 0.7658 - val_loss: 1.6941 - val_accuracy: 0.5314\n",
      "Epoch 55/100\n",
      "401/401 [==============================] - 15s 38ms/step - loss: 0.7868 - accuracy: 0.7734 - val_loss: 1.7301 - val_accuracy: 0.5329\n",
      "Epoch 56/100\n",
      "401/401 [==============================] - 15s 37ms/step - loss: 0.7812 - accuracy: 0.7760 - val_loss: 1.6373 - val_accuracy: 0.5300\n",
      "Epoch 57/100\n",
      "401/401 [==============================] - 15s 38ms/step - loss: 0.7838 - accuracy: 0.7797 - val_loss: 1.6616 - val_accuracy: 0.5180\n",
      "Epoch 58/100\n",
      "401/401 [==============================] - 16s 40ms/step - loss: 0.7741 - accuracy: 0.7837 - val_loss: 1.6247 - val_accuracy: 0.5216\n",
      "Epoch 59/100\n",
      "401/401 [==============================] - 16s 40ms/step - loss: 0.7595 - accuracy: 0.7868 - val_loss: 1.9254 - val_accuracy: 0.4876\n",
      "Epoch 60/100\n",
      "401/401 [==============================] - 15s 37ms/step - loss: 0.7577 - accuracy: 0.7853 - val_loss: 1.6997 - val_accuracy: 0.5032\n",
      "Epoch 61/100\n",
      "401/401 [==============================] - 19s 48ms/step - loss: 0.7442 - accuracy: 0.7938 - val_loss: 1.6526 - val_accuracy: 0.5343\n"
     ]
    }
   ],
   "source": [
    "es_callback = keras.callbacks.EarlyStopping(monitor='val_accuracy', patience=15)\n",
    "history = cnn_model.fit(x_train, y_train, epochs=100, batch_size=20, validation_data=(x_val, y_val), callbacks = es_callback)"
   ]
  },
  {
   "cell_type": "code",
   "execution_count": 434,
   "metadata": {},
   "outputs": [
    {
     "name": "stdout",
     "output_type": "stream",
     "text": [
      "Train loss: 0.653897225856781 / Train accuracy: 0.8326886892318726\n"
     ]
    }
   ],
   "source": [
    "score = cnn_model.evaluate(x_train, y_train, verbose=0)\n",
    "print(f'Train loss: {score[0]} / Train accuracy: {score[1]}')"
   ]
  },
  {
   "cell_type": "code",
   "execution_count": 435,
   "metadata": {},
   "outputs": [
    {
     "name": "stdout",
     "output_type": "stream",
     "text": [
      "Test loss: 1.6942102909088135 / Test accuracy: 0.5391095280647278\n"
     ]
    }
   ],
   "source": [
    "score = cnn_model.evaluate(np.array(test_img) / 255.0, test_df_with_img['account_type_multi'], verbose=0)\n",
    "print(f'Test loss: {score[0]} / Test accuracy: {score[1]}')"
   ]
  },
  {
   "cell_type": "markdown",
   "metadata": {},
   "source": [
    "## ANN + CNN\n",
    "train a neural network that combines categorical/numerical attributes with images"
   ]
  },
  {
   "cell_type": "code",
   "execution_count": 20,
   "metadata": {},
   "outputs": [],
   "source": [
    "x_train, y_train = train_df_with_img2.drop(to_drop, axis=1), train_df_with_img2['account_type_multi']\n",
    "x_test, y_test = test_df_with_img2.drop(to_drop, axis=1), test_df_with_img2['account_type_multi']"
   ]
  },
  {
   "cell_type": "code",
   "execution_count": 21,
   "metadata": {},
   "outputs": [],
   "source": [
    "x_train, x_val, y_train, y_val = train_test_split(x_train, y_train, test_size=0.15)"
   ]
  },
  {
   "cell_type": "code",
   "execution_count": 22,
   "metadata": {},
   "outputs": [],
   "source": [
    "x_train_img, x_train_attr = np.stack(x_train['img']) / 255.0, x_train.drop('img', axis=1)\n",
    "x_val_img, x_val_attr = np.stack(x_val['img']) / 255.0, x_val.drop('img', axis=1)\n",
    "x_test_img, x_test_attr = np.stack(x_test['img']) / 255.0, x_test.drop('img', axis=1)"
   ]
  },
  {
   "cell_type": "code",
   "execution_count": 23,
   "metadata": {},
   "outputs": [],
   "source": [
    "def create_ann():\n",
    "    ann_model = Sequential()\n",
    "    ann_model.add(Dense(64, activation = 'relu', input_dim = 222))\n",
    "    ann_model.add(Dropout(.1))\n",
    "    ann_model.add(Dense(128, activation='relu'))\n",
    "    return ann_model"
   ]
  },
  {
   "cell_type": "code",
   "execution_count": 24,
   "metadata": {},
   "outputs": [],
   "source": [
    "def create_cnn():    \n",
    "    base_model = InceptionV3(input_shape = (75, 75, 3), include_top = False, weights = 'imagenet')\n",
    "\n",
    "    for layer in base_model.layers:\n",
    "        layer.trainable = False\n",
    "    x = Flatten()(base_model.output)\n",
    "    x = Dense(70, activation='relu')(x)\n",
    "    x = Dropout(0.5)(x)\n",
    "    x = Dense(50, activation='softmax')(x)\n",
    "    cnn_model = Model(base_model.input, x)\n",
    "    return cnn_model"
   ]
  },
  {
   "cell_type": "code",
   "execution_count": 25,
   "metadata": {},
   "outputs": [],
   "source": [
    "ann_model = create_ann()\n",
    "cnn_model = create_cnn()\n",
    "combined_input = concatenate([ann_model.output, cnn_model.output])\n",
    "x = Dense(50, activation=\"relu\")(combined_input)\n",
    "x = Dense(6, activation=\"softmax\")(x)\n",
    "combined_model = Model(inputs=[ann_model.input, cnn_model.input], outputs=x)\n",
    "combined_model.compile(optimizer='adam',\n",
    "                    loss='sparse_categorical_crossentropy',\n",
    "                    metrics=['accuracy'])"
   ]
  },
  {
   "cell_type": "code",
   "execution_count": 26,
   "metadata": {},
   "outputs": [
    {
     "name": "stdout",
     "output_type": "stream",
     "text": [
      "Epoch 1/20\n",
      "161/161 [==============================] - 44s 235ms/step - loss: 0.7093 - accuracy: 0.7758 - val_loss: 0.3526 - val_accuracy: 0.8643\n",
      "Epoch 2/20\n",
      "161/161 [==============================] - 33s 206ms/step - loss: 0.2921 - accuracy: 0.9109 - val_loss: 0.2093 - val_accuracy: 0.9420\n",
      "Epoch 3/20\n",
      "161/161 [==============================] - 31s 193ms/step - loss: 0.1790 - accuracy: 0.9485 - val_loss: 0.1144 - val_accuracy: 0.9682\n",
      "Epoch 4/20\n",
      "161/161 [==============================] - 31s 191ms/step - loss: 0.1411 - accuracy: 0.9622 - val_loss: 0.1013 - val_accuracy: 0.9760\n",
      "Epoch 5/20\n",
      "161/161 [==============================] - 38s 234ms/step - loss: 0.1169 - accuracy: 0.9689 - val_loss: 0.0955 - val_accuracy: 0.9746\n",
      "Epoch 6/20\n",
      "161/161 [==============================] - 37s 232ms/step - loss: 0.1014 - accuracy: 0.9727 - val_loss: 0.0769 - val_accuracy: 0.9795\n",
      "Epoch 7/20\n",
      "161/161 [==============================] - 37s 227ms/step - loss: 0.0863 - accuracy: 0.9779 - val_loss: 0.0766 - val_accuracy: 0.9781\n",
      "Epoch 8/20\n",
      "161/161 [==============================] - 41s 254ms/step - loss: 0.0805 - accuracy: 0.9778 - val_loss: 0.0857 - val_accuracy: 0.9774\n",
      "Epoch 9/20\n",
      "161/161 [==============================] - 35s 220ms/step - loss: 0.0727 - accuracy: 0.9793 - val_loss: 0.0886 - val_accuracy: 0.9753\n",
      "Epoch 10/20\n",
      "161/161 [==============================] - 38s 238ms/step - loss: 0.0656 - accuracy: 0.9819 - val_loss: 0.0733 - val_accuracy: 0.9788\n",
      "Epoch 11/20\n",
      "161/161 [==============================] - 39s 245ms/step - loss: 0.0577 - accuracy: 0.9833 - val_loss: 0.0679 - val_accuracy: 0.9823\n",
      "Epoch 12/20\n",
      "161/161 [==============================] - 37s 229ms/step - loss: 0.0651 - accuracy: 0.9829 - val_loss: 0.0870 - val_accuracy: 0.9802\n",
      "Epoch 13/20\n",
      "161/161 [==============================] - 40s 252ms/step - loss: 0.0571 - accuracy: 0.9847 - val_loss: 0.0691 - val_accuracy: 0.9823\n",
      "Epoch 14/20\n",
      "161/161 [==============================] - 37s 227ms/step - loss: 0.0552 - accuracy: 0.9840 - val_loss: 0.0637 - val_accuracy: 0.9837\n",
      "Epoch 15/20\n",
      "161/161 [==============================] - 37s 232ms/step - loss: 0.0483 - accuracy: 0.9863 - val_loss: 0.0763 - val_accuracy: 0.9823\n",
      "Epoch 16/20\n",
      "161/161 [==============================] - 43s 265ms/step - loss: 0.0475 - accuracy: 0.9871 - val_loss: 0.0696 - val_accuracy: 0.9830\n",
      "Epoch 17/20\n",
      "161/161 [==============================] - 40s 249ms/step - loss: 0.0422 - accuracy: 0.9871 - val_loss: 0.0706 - val_accuracy: 0.9830\n",
      "Epoch 18/20\n",
      "161/161 [==============================] - 43s 266ms/step - loss: 0.0448 - accuracy: 0.9874 - val_loss: 0.0703 - val_accuracy: 0.9809\n",
      "Epoch 19/20\n",
      "161/161 [==============================] - 40s 245ms/step - loss: 0.0420 - accuracy: 0.9889 - val_loss: 0.0745 - val_accuracy: 0.9809\n",
      "Epoch 20/20\n",
      "161/161 [==============================] - 41s 252ms/step - loss: 0.0340 - accuracy: 0.9893 - val_loss: 0.0653 - val_accuracy: 0.9837\n",
      "Total time taken for the program execution 762.8093330860138\n"
     ]
    }
   ],
   "source": [
    "#es_callback = keras.callbacks.EarlyStopping(monitor='val_accuracy', patience=15)\n",
    "start_time = time.time()\n",
    "combined_model.fit(\n",
    "\tx=[x_train_attr, x_train_img], y=y_train,\n",
    "\tvalidation_data=([x_val_attr, x_val_img], y_val),\n",
    "\tepochs=20, batch_size=50)\n",
    "time_taken = time.time() - start_time\n",
    "print(\"Total time taken for the program execution\", time_taken) # seconds"
   ]
  },
  {
   "cell_type": "code",
   "execution_count": 27,
   "metadata": {},
   "outputs": [
    {
     "name": "stdout",
     "output_type": "stream",
     "text": [
      "Train loss: 0.02487354539334774 / Train accuracy: 0.9933874011039734\n"
     ]
    }
   ],
   "source": [
    "score = combined_model.evaluate([x_train_attr, x_train_img], y_train, verbose=0)\n",
    "print(f'Train loss: {score[0]} / Train accuracy: {score[1]}')"
   ]
  },
  {
   "cell_type": "code",
   "execution_count": 28,
   "metadata": {},
   "outputs": [
    {
     "name": "stdout",
     "output_type": "stream",
     "text": [
      "Test loss: 0.08349698781967163 / Test accuracy: 0.9801443815231323\n"
     ]
    }
   ],
   "source": [
    "score = combined_model.evaluate([x_test_attr, x_test_img], y_test, verbose=0)\n",
    "print(f'Test loss: {score[0]} / Test accuracy: {score[1]}')"
   ]
  },
  {
   "cell_type": "code",
   "execution_count": 29,
   "metadata": {},
   "outputs": [
    {
     "name": "stdout",
     "output_type": "stream",
     "text": [
      "52/52 [==============================] - 8s 121ms/step\n"
     ]
    }
   ],
   "source": [
    "pred = combined_model.predict([x_test_attr, x_test_img])\n",
    "pred = np.argmax(pred,axis=1)"
   ]
  },
  {
   "cell_type": "code",
   "execution_count": 30,
   "metadata": {},
   "outputs": [
    {
     "name": "stdout",
     "output_type": "stream",
     "text": [
      "              precision    recall  f1-score   support\n",
      "\n",
      "           0    0.95238   0.97087   0.96154       412\n",
      "           1    0.98704   0.99348   0.99025       460\n",
      "           2    0.96154   0.89286   0.92593        56\n",
      "           3    0.99544   0.98348   0.98943       666\n",
      "           4    0.96226   1.00000   0.98077        51\n",
      "           5    1.00000   0.94118   0.96970        17\n",
      "\n",
      "    accuracy                        0.98014      1662\n",
      "   macro avg    0.97644   0.96364   0.96960      1662\n",
      "weighted avg    0.98033   0.98014   0.98013      1662\n",
      "\n"
     ]
    }
   ],
   "source": [
    "print(classification_report(y_test, pred, digits=5))"
   ]
  },
  {
   "cell_type": "code",
   "execution_count": null,
   "metadata": {},
   "outputs": [],
   "source": []
  }
 ],
 "metadata": {
  "kernelspec": {
   "display_name": "Python 3 (ipykernel)",
   "language": "python",
   "name": "python3"
  },
  "language_info": {
   "codemirror_mode": {
    "name": "ipython",
    "version": 3
   },
   "file_extension": ".py",
   "mimetype": "text/x-python",
   "name": "python",
   "nbconvert_exporter": "python",
   "pygments_lexer": "ipython3",
   "version": "3.9.13"
  },
  "toc": {
   "base_numbering": 1,
   "nav_menu": {},
   "number_sections": false,
   "sideBar": true,
   "skip_h1_title": false,
   "title_cell": "Table of Contents",
   "title_sidebar": "Contents",
   "toc_cell": false,
   "toc_position": {},
   "toc_section_display": true,
   "toc_window_display": false
  },
  "vscode": {
   "interpreter": {
    "hash": "77238a471535228e8cd55a3ca9e771a69c6c0bc66c44a56c972f9554a4042742"
   }
  }
 },
 "nbformat": 4,
 "nbformat_minor": 2
}
