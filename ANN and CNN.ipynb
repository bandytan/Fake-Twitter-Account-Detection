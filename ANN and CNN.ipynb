{
 "metadata": {
  "language_info": {
   "codemirror_mode": {
    "name": "ipython",
    "version": 3
   },
   "file_extension": ".py",
   "mimetype": "text/x-python",
   "name": "python",
   "nbconvert_exporter": "python",
   "pygments_lexer": "ipython3",
   "version": "3.8.5-final"
  },
  "orig_nbformat": 2,
  "kernelspec": {
   "name": "python3",
   "display_name": "Python 3.8.5 64-bit ('base': conda)",
   "metadata": {
    "interpreter": {
     "hash": "0b5e695f973a7cdd4fc74ba2ed65a7a37ab2a96a506d329d22c7ff6a81e833be"
    }
   }
  }
 },
 "nbformat": 4,
 "nbformat_minor": 2,
 "cells": [
  {
   "cell_type": "code",
   "execution_count": 1,
   "metadata": {},
   "outputs": [
    {
     "output_type": "stream",
     "name": "stderr",
     "text": [
      "2022-11-13 21:34:29.314506: I tensorflow/core/platform/cpu_feature_guard.cc:193] This TensorFlow binary is optimized with oneAPI Deep Neural Network Library (oneDNN) to use the following CPU instructions in performance-critical operations:  AVX2 FMA\nTo enable them in other operations, rebuild TensorFlow with the appropriate compiler flags.\n"
     ]
    }
   ],
   "source": [
    "import pandas as pd \n",
    "import numpy as np \n",
    "import re\n",
    "import matplotlib.pyplot as plt\n",
    "import keras\n",
    "import tensorflow as tf\n",
    "import cv2\n",
    "\n",
    "from sklearn.model_selection import train_test_split\n",
    "from sklearn.preprocessing import MinMaxScaler\n",
    "\n",
    "from sklearn.inspection import permutation_importance\n",
    "from sklearn.metrics import classification_report\n",
    "\n",
    "from tensorflow.keras.layers import concatenate\n",
    "from keras.layers import Conv2D, MaxPooling2D, Input, Flatten, Dense, Dropout, BatchNormalization\n",
    "from keras.models import Sequential, Model\n",
    "from keras.metrics import CategoricalAccuracy\n",
    "from keras.regularizers import l2\n",
    "from tensorflow.keras.applications.inception_v3 import InceptionV3\n",
    "\n",
    "pd.set_option('display.max_columns', None)"
   ]
  },
  {
   "cell_type": "code",
   "execution_count": 2,
   "metadata": {},
   "outputs": [],
   "source": [
    "train_df = pd.read_csv('../twitter_data_train_multiclass.csv')\n",
    "test_df = pd.read_csv('../twitter_data_test_multiclass.csv')"
   ]
  },
  {
   "cell_type": "code",
   "execution_count": 3,
   "metadata": {},
   "outputs": [],
   "source": [
    "scaler = MinMaxScaler() \n",
    "train_df[['statuses_count', 'favourites_count', 'followers_count', 'friends_count', 'number_of_mentions', 'listed_count', 'number_of_tags']] = scaler.fit_transform(train_df[['statuses_count', 'favourites_count', 'followers_count', 'friends_count', 'number_of_mentions', 'listed_count', 'number_of_tags']])\n",
    "test_df[['statuses_count', 'favourites_count', 'followers_count', 'friends_count', 'number_of_mentions', 'listed_count', 'number_of_tags']] = scaler.transform(test_df[['statuses_count', 'favourites_count', 'followers_count', 'friends_count', 'number_of_mentions', 'listed_count', 'number_of_tags']])"
   ]
  },
  {
   "source": [
    "## ANN\n",
    "training a ANN with categorical and numerical attributes"
   ],
   "cell_type": "markdown",
   "metadata": {}
  },
  {
   "cell_type": "code",
   "execution_count": 57,
   "metadata": {},
   "outputs": [],
   "source": [
    "to_drop = ['Unnamed: 0', 'screen_name', 'url', 'profile_image_url', 'description',\n",
    "           'id', 'name', 'account_type', 'tweets_list', 'tweets_list_processed',\n",
    "          'description_processed', 'protected', 'verified', 'account_type_multi', \n",
    "          'profile_use_background_image', 'profile_background_tile']\n",
    "\n",
    "x_train, y_train = train_df.drop(to_drop, axis=1), train_df['account_type_multi']\n",
    "x_test, y_test = test_df.drop(to_drop, axis=1), test_df['account_type_multi']"
   ]
  },
  {
   "cell_type": "code",
   "execution_count": 31,
   "metadata": {},
   "outputs": [],
   "source": [
    "x_train, x_val, y_train, y_val = train_test_split(x_train, y_train, test_size=0.15)"
   ]
  },
  {
   "cell_type": "code",
   "execution_count": 32,
   "metadata": {},
   "outputs": [],
   "source": [
    "ann_model = Sequential()\n",
    "ann_model.add(Dense(100, activation = 'relu', input_dim = 220))\n",
    "ann_model.add(Dense(100, activation='relu')) \n",
    "ann_model.add(Dense(100, activation='relu')) \n",
    "ann_model.add(Dense(100, activation='relu')) \n",
    "ann_model.add(Dense(100, activation='relu')) \n",
    "ann_model.add(Dense(100, activation='relu'))\n",
    "ann_model.add(Dense(100, activation='relu')) \n",
    "ann_model.add(Dense(6, activation='softmax'))\n",
    "# configure the model\n",
    "ann_model.compile(optimizer='adam',\n",
    "                    loss='sparse_categorical_crossentropy',\n",
    "                    metrics=['accuracy'])"
   ]
  },
  {
   "cell_type": "code",
   "execution_count": 33,
   "metadata": {},
   "outputs": [
    {
     "output_type": "stream",
     "name": "stdout",
     "text": [
      "Epoch 1/100\n",
      "402/402 [==============================] - 2s 4ms/step - loss: 0.4675 - accuracy: 0.8527 - val_loss: 0.3837 - val_accuracy: 0.8730\n",
      "Epoch 2/100\n",
      "402/402 [==============================] - 1s 3ms/step - loss: 0.1937 - accuracy: 0.9386 - val_loss: 0.1257 - val_accuracy: 0.9562\n",
      "Epoch 3/100\n",
      "402/402 [==============================] - 1s 3ms/step - loss: 0.1297 - accuracy: 0.9620 - val_loss: 0.1221 - val_accuracy: 0.9605\n",
      "Epoch 4/100\n",
      "402/402 [==============================] - 1s 3ms/step - loss: 0.1262 - accuracy: 0.9639 - val_loss: 0.1242 - val_accuracy: 0.9675\n",
      "Epoch 5/100\n",
      "402/402 [==============================] - 1s 3ms/step - loss: 0.0900 - accuracy: 0.9775 - val_loss: 0.0913 - val_accuracy: 0.9725\n",
      "Epoch 6/100\n",
      "402/402 [==============================] - 1s 3ms/step - loss: 0.0920 - accuracy: 0.9737 - val_loss: 0.0864 - val_accuracy: 0.9753\n",
      "Epoch 7/100\n",
      "402/402 [==============================] - 1s 3ms/step - loss: 0.0745 - accuracy: 0.9807 - val_loss: 0.0806 - val_accuracy: 0.9795\n",
      "Epoch 8/100\n",
      "402/402 [==============================] - 1s 3ms/step - loss: 0.0681 - accuracy: 0.9822 - val_loss: 0.0866 - val_accuracy: 0.9753\n",
      "Epoch 9/100\n",
      "402/402 [==============================] - 1s 3ms/step - loss: 0.0799 - accuracy: 0.9791 - val_loss: 0.0744 - val_accuracy: 0.9809\n",
      "Epoch 10/100\n",
      "402/402 [==============================] - 1s 3ms/step - loss: 0.0687 - accuracy: 0.9803 - val_loss: 0.0587 - val_accuracy: 0.9866\n",
      "Epoch 11/100\n",
      "402/402 [==============================] - 1s 3ms/step - loss: 0.0643 - accuracy: 0.9823 - val_loss: 0.0709 - val_accuracy: 0.9838\n",
      "Epoch 12/100\n",
      "402/402 [==============================] - 1s 3ms/step - loss: 0.0598 - accuracy: 0.9834 - val_loss: 0.0672 - val_accuracy: 0.9824\n",
      "Epoch 13/100\n",
      "402/402 [==============================] - 1s 3ms/step - loss: 0.0550 - accuracy: 0.9852 - val_loss: 0.0501 - val_accuracy: 0.9852\n",
      "Epoch 14/100\n",
      "402/402 [==============================] - 1s 3ms/step - loss: 0.0676 - accuracy: 0.9812 - val_loss: 0.0855 - val_accuracy: 0.9767\n",
      "Epoch 15/100\n",
      "402/402 [==============================] - 1s 3ms/step - loss: 0.0520 - accuracy: 0.9875 - val_loss: 0.0670 - val_accuracy: 0.9824\n",
      "Epoch 16/100\n",
      "402/402 [==============================] - 1s 3ms/step - loss: 0.0577 - accuracy: 0.9851 - val_loss: 0.0652 - val_accuracy: 0.9824\n",
      "Epoch 17/100\n",
      "402/402 [==============================] - 1s 3ms/step - loss: 0.0532 - accuracy: 0.9858 - val_loss: 0.0708 - val_accuracy: 0.9866\n",
      "Epoch 18/100\n",
      "402/402 [==============================] - 1s 3ms/step - loss: 0.0705 - accuracy: 0.9802 - val_loss: 0.0881 - val_accuracy: 0.9781\n",
      "Epoch 19/100\n",
      "402/402 [==============================] - 1s 3ms/step - loss: 0.0774 - accuracy: 0.9823 - val_loss: 0.0615 - val_accuracy: 0.9831\n",
      "Epoch 20/100\n",
      "402/402 [==============================] - 1s 3ms/step - loss: 0.0614 - accuracy: 0.9852 - val_loss: 0.0689 - val_accuracy: 0.9809\n",
      "Epoch 21/100\n",
      "402/402 [==============================] - 1s 3ms/step - loss: 0.0811 - accuracy: 0.9799 - val_loss: 0.0711 - val_accuracy: 0.9824\n",
      "Epoch 22/100\n",
      "402/402 [==============================] - 1s 3ms/step - loss: 0.0474 - accuracy: 0.9872 - val_loss: 0.0789 - val_accuracy: 0.9809\n",
      "Epoch 23/100\n",
      "402/402 [==============================] - 1s 3ms/step - loss: 0.0503 - accuracy: 0.9858 - val_loss: 0.0721 - val_accuracy: 0.9838\n",
      "Epoch 24/100\n",
      "402/402 [==============================] - 1s 3ms/step - loss: 0.0430 - accuracy: 0.9888 - val_loss: 0.0662 - val_accuracy: 0.9817\n",
      "Epoch 25/100\n",
      "402/402 [==============================] - 1s 3ms/step - loss: 0.0404 - accuracy: 0.9893 - val_loss: 0.0778 - val_accuracy: 0.9809\n",
      "Epoch 26/100\n",
      "402/402 [==============================] - 1s 3ms/step - loss: 0.0467 - accuracy: 0.9872 - val_loss: 0.2235 - val_accuracy: 0.9393\n",
      "Epoch 27/100\n",
      "402/402 [==============================] - 1s 3ms/step - loss: 0.0506 - accuracy: 0.9851 - val_loss: 0.0799 - val_accuracy: 0.9781\n",
      "Epoch 28/100\n",
      "402/402 [==============================] - 1s 3ms/step - loss: 0.0355 - accuracy: 0.9904 - val_loss: 0.0786 - val_accuracy: 0.9859\n",
      "Epoch 29/100\n",
      "402/402 [==============================] - 1s 3ms/step - loss: 0.0316 - accuracy: 0.9904 - val_loss: 0.0616 - val_accuracy: 0.9845\n",
      "Epoch 30/100\n",
      "402/402 [==============================] - 1s 3ms/step - loss: 0.0379 - accuracy: 0.9893 - val_loss: 0.0824 - val_accuracy: 0.9831\n",
      "Epoch 31/100\n",
      "402/402 [==============================] - 1s 3ms/step - loss: 0.0471 - accuracy: 0.9874 - val_loss: 0.0737 - val_accuracy: 0.9802\n",
      "Epoch 32/100\n",
      "402/402 [==============================] - 1s 3ms/step - loss: 0.0312 - accuracy: 0.9920 - val_loss: 0.1012 - val_accuracy: 0.9838\n",
      "Epoch 33/100\n",
      "402/402 [==============================] - 1s 3ms/step - loss: 0.0365 - accuracy: 0.9902 - val_loss: 0.1008 - val_accuracy: 0.9802\n",
      "Epoch 34/100\n",
      "402/402 [==============================] - 1s 3ms/step - loss: 0.0352 - accuracy: 0.9904 - val_loss: 0.0930 - val_accuracy: 0.9817\n",
      "Epoch 35/100\n",
      "402/402 [==============================] - 1s 3ms/step - loss: 0.0429 - accuracy: 0.9900 - val_loss: 0.0822 - val_accuracy: 0.9831\n",
      "Epoch 36/100\n",
      "402/402 [==============================] - 1s 3ms/step - loss: 0.0385 - accuracy: 0.9888 - val_loss: 0.1015 - val_accuracy: 0.9781\n",
      "Epoch 37/100\n",
      "402/402 [==============================] - 1s 3ms/step - loss: 0.0277 - accuracy: 0.9913 - val_loss: 0.0941 - val_accuracy: 0.9831\n",
      "Epoch 38/100\n",
      "402/402 [==============================] - 1s 3ms/step - loss: 0.0367 - accuracy: 0.9894 - val_loss: 0.0855 - val_accuracy: 0.9795\n",
      "Epoch 39/100\n",
      "402/402 [==============================] - 1s 3ms/step - loss: 0.0404 - accuracy: 0.9889 - val_loss: 0.0982 - val_accuracy: 0.9781\n",
      "Epoch 40/100\n",
      "402/402 [==============================] - 1s 3ms/step - loss: 0.0376 - accuracy: 0.9909 - val_loss: 0.1078 - val_accuracy: 0.9852\n",
      "Epoch 41/100\n",
      "402/402 [==============================] - 1s 3ms/step - loss: 0.0627 - accuracy: 0.9836 - val_loss: 0.1072 - val_accuracy: 0.9817\n",
      "Epoch 42/100\n",
      "402/402 [==============================] - 1s 3ms/step - loss: 0.0400 - accuracy: 0.9905 - val_loss: 0.0719 - val_accuracy: 0.9852\n",
      "Epoch 43/100\n",
      "402/402 [==============================] - 1s 3ms/step - loss: 0.0263 - accuracy: 0.9930 - val_loss: 0.0789 - val_accuracy: 0.9852\n",
      "Epoch 44/100\n",
      "402/402 [==============================] - 1s 3ms/step - loss: 0.0254 - accuracy: 0.9923 - val_loss: 0.0763 - val_accuracy: 0.9873\n",
      "Epoch 45/100\n",
      "402/402 [==============================] - 1s 3ms/step - loss: 0.0283 - accuracy: 0.9910 - val_loss: 0.0987 - val_accuracy: 0.9831\n",
      "Epoch 46/100\n",
      "402/402 [==============================] - 1s 3ms/step - loss: 0.0296 - accuracy: 0.9909 - val_loss: 0.0938 - val_accuracy: 0.9781\n",
      "Epoch 47/100\n",
      "402/402 [==============================] - 1s 3ms/step - loss: 0.0375 - accuracy: 0.9889 - val_loss: 0.0816 - val_accuracy: 0.9901\n",
      "Epoch 48/100\n",
      "402/402 [==============================] - 1s 3ms/step - loss: 0.0458 - accuracy: 0.9870 - val_loss: 0.0774 - val_accuracy: 0.9788\n",
      "Epoch 49/100\n",
      "402/402 [==============================] - 1s 3ms/step - loss: 0.0283 - accuracy: 0.9919 - val_loss: 0.0717 - val_accuracy: 0.9781\n",
      "Epoch 50/100\n",
      "402/402 [==============================] - 1s 3ms/step - loss: 0.0253 - accuracy: 0.9933 - val_loss: 0.0890 - val_accuracy: 0.9809\n",
      "Epoch 51/100\n",
      "402/402 [==============================] - 1s 3ms/step - loss: 0.0269 - accuracy: 0.9923 - val_loss: 0.0791 - val_accuracy: 0.9795\n",
      "Epoch 52/100\n",
      "402/402 [==============================] - 1s 3ms/step - loss: 0.0340 - accuracy: 0.9890 - val_loss: 0.0824 - val_accuracy: 0.9824\n",
      "Epoch 53/100\n",
      "402/402 [==============================] - 1s 3ms/step - loss: 0.0313 - accuracy: 0.9907 - val_loss: 0.0754 - val_accuracy: 0.9831\n",
      "Epoch 54/100\n",
      "402/402 [==============================] - 1s 3ms/step - loss: 0.0258 - accuracy: 0.9934 - val_loss: 0.1064 - val_accuracy: 0.9838\n",
      "Epoch 55/100\n",
      "402/402 [==============================] - 1s 3ms/step - loss: 0.0237 - accuracy: 0.9929 - val_loss: 0.1441 - val_accuracy: 0.9866\n",
      "Epoch 56/100\n",
      "402/402 [==============================] - 1s 3ms/step - loss: 0.0284 - accuracy: 0.9928 - val_loss: 0.1153 - val_accuracy: 0.9852\n",
      "Epoch 57/100\n",
      "402/402 [==============================] - 1s 3ms/step - loss: 0.0294 - accuracy: 0.9930 - val_loss: 0.1124 - val_accuracy: 0.9788\n",
      "Epoch 58/100\n",
      "402/402 [==============================] - 1s 3ms/step - loss: 0.0342 - accuracy: 0.9909 - val_loss: 0.1059 - val_accuracy: 0.9824\n",
      "Epoch 59/100\n",
      "402/402 [==============================] - 1s 3ms/step - loss: 0.0391 - accuracy: 0.9903 - val_loss: 0.0774 - val_accuracy: 0.9866\n",
      "Epoch 60/100\n",
      "402/402 [==============================] - 1s 3ms/step - loss: 0.0256 - accuracy: 0.9928 - val_loss: 0.1171 - val_accuracy: 0.9838\n",
      "Epoch 61/100\n",
      "402/402 [==============================] - 1s 3ms/step - loss: 0.0269 - accuracy: 0.9924 - val_loss: 0.0754 - val_accuracy: 0.9809\n",
      "Epoch 62/100\n",
      "402/402 [==============================] - 1s 3ms/step - loss: 0.0221 - accuracy: 0.9944 - val_loss: 0.0772 - val_accuracy: 0.9873\n",
      "Epoch 63/100\n",
      "402/402 [==============================] - 1s 3ms/step - loss: 0.0208 - accuracy: 0.9933 - val_loss: 0.1555 - val_accuracy: 0.9697\n",
      "Epoch 64/100\n",
      "402/402 [==============================] - 1s 3ms/step - loss: 0.0221 - accuracy: 0.9934 - val_loss: 0.1427 - val_accuracy: 0.9767\n",
      "Epoch 65/100\n",
      "402/402 [==============================] - 1s 3ms/step - loss: 0.0253 - accuracy: 0.9928 - val_loss: 0.1179 - val_accuracy: 0.9845\n",
      "Epoch 66/100\n",
      "402/402 [==============================] - 1s 3ms/step - loss: 0.0271 - accuracy: 0.9925 - val_loss: 0.0959 - val_accuracy: 0.9817\n",
      "Epoch 67/100\n",
      "402/402 [==============================] - 1s 3ms/step - loss: 0.0186 - accuracy: 0.9940 - val_loss: 0.1019 - val_accuracy: 0.9788\n",
      "Epoch 68/100\n",
      "402/402 [==============================] - 1s 3ms/step - loss: 0.0324 - accuracy: 0.9898 - val_loss: 0.0993 - val_accuracy: 0.9838\n",
      "Epoch 69/100\n",
      "402/402 [==============================] - 1s 3ms/step - loss: 0.0242 - accuracy: 0.9927 - val_loss: 0.0994 - val_accuracy: 0.9866\n",
      "Epoch 70/100\n",
      "402/402 [==============================] - 1s 3ms/step - loss: 0.0310 - accuracy: 0.9933 - val_loss: 0.1248 - val_accuracy: 0.9802\n",
      "Epoch 71/100\n",
      "402/402 [==============================] - 1s 3ms/step - loss: 0.0716 - accuracy: 0.9857 - val_loss: 0.0856 - val_accuracy: 0.9817\n",
      "Epoch 72/100\n",
      "402/402 [==============================] - 1s 3ms/step - loss: 0.0499 - accuracy: 0.9904 - val_loss: 0.0886 - val_accuracy: 0.9760\n",
      "Epoch 73/100\n",
      "402/402 [==============================] - 1s 3ms/step - loss: 0.0314 - accuracy: 0.9912 - val_loss: 0.1094 - val_accuracy: 0.9845\n",
      "Epoch 74/100\n",
      "402/402 [==============================] - 1s 3ms/step - loss: 0.0250 - accuracy: 0.9925 - val_loss: 0.0807 - val_accuracy: 0.9852\n",
      "Epoch 75/100\n",
      "402/402 [==============================] - 1s 3ms/step - loss: 0.0253 - accuracy: 0.9946 - val_loss: 0.0983 - val_accuracy: 0.9788\n",
      "Epoch 76/100\n",
      "402/402 [==============================] - 1s 3ms/step - loss: 0.0215 - accuracy: 0.9940 - val_loss: 0.1206 - val_accuracy: 0.9817\n",
      "Epoch 77/100\n",
      "402/402 [==============================] - 1s 3ms/step - loss: 0.0228 - accuracy: 0.9930 - val_loss: 0.1008 - val_accuracy: 0.9831\n",
      "Epoch 78/100\n",
      "402/402 [==============================] - 1s 3ms/step - loss: 0.0286 - accuracy: 0.9917 - val_loss: 0.1056 - val_accuracy: 0.9859\n",
      "Epoch 79/100\n",
      "402/402 [==============================] - 1s 3ms/step - loss: 0.0258 - accuracy: 0.9925 - val_loss: 0.0945 - val_accuracy: 0.9859\n",
      "Epoch 80/100\n",
      "402/402 [==============================] - 1s 3ms/step - loss: 0.0164 - accuracy: 0.9949 - val_loss: 0.1216 - val_accuracy: 0.9767\n",
      "Epoch 81/100\n",
      "402/402 [==============================] - 1s 3ms/step - loss: 0.0188 - accuracy: 0.9951 - val_loss: 0.1186 - val_accuracy: 0.9795\n",
      "Epoch 82/100\n",
      "402/402 [==============================] - 1s 3ms/step - loss: 0.0241 - accuracy: 0.9933 - val_loss: 0.0751 - val_accuracy: 0.9838\n",
      "Epoch 83/100\n",
      "402/402 [==============================] - 1s 3ms/step - loss: 0.0204 - accuracy: 0.9939 - val_loss: 0.1494 - val_accuracy: 0.9802\n",
      "Epoch 84/100\n",
      "402/402 [==============================] - 1s 3ms/step - loss: 0.0260 - accuracy: 0.9933 - val_loss: 0.1140 - val_accuracy: 0.9746\n",
      "Epoch 85/100\n",
      "402/402 [==============================] - 1s 3ms/step - loss: 0.0212 - accuracy: 0.9936 - val_loss: 0.1321 - val_accuracy: 0.9845\n",
      "Epoch 86/100\n",
      "402/402 [==============================] - 1s 3ms/step - loss: 0.0186 - accuracy: 0.9948 - val_loss: 0.1790 - val_accuracy: 0.9739\n",
      "Epoch 87/100\n",
      "402/402 [==============================] - 1s 3ms/step - loss: 0.0161 - accuracy: 0.9950 - val_loss: 0.1467 - val_accuracy: 0.9795\n",
      "Epoch 88/100\n",
      "402/402 [==============================] - 1s 3ms/step - loss: 0.0232 - accuracy: 0.9928 - val_loss: 0.1089 - val_accuracy: 0.9824\n",
      "Epoch 89/100\n",
      "402/402 [==============================] - 1s 3ms/step - loss: 0.0306 - accuracy: 0.9936 - val_loss: 0.2421 - val_accuracy: 0.9767\n",
      "Epoch 90/100\n",
      "402/402 [==============================] - 1s 3ms/step - loss: 0.0462 - accuracy: 0.9912 - val_loss: 0.2001 - val_accuracy: 0.9831\n",
      "Epoch 91/100\n",
      "402/402 [==============================] - 1s 3ms/step - loss: 0.0207 - accuracy: 0.9950 - val_loss: 0.1658 - val_accuracy: 0.9831\n",
      "Epoch 92/100\n",
      "402/402 [==============================] - 1s 3ms/step - loss: 0.0198 - accuracy: 0.9941 - val_loss: 0.1451 - val_accuracy: 0.9831\n",
      "Epoch 93/100\n",
      "402/402 [==============================] - 1s 3ms/step - loss: 0.0205 - accuracy: 0.9948 - val_loss: 0.1240 - val_accuracy: 0.9859\n",
      "Epoch 94/100\n",
      "402/402 [==============================] - 1s 3ms/step - loss: 0.0165 - accuracy: 0.9954 - val_loss: 0.1997 - val_accuracy: 0.9824\n",
      "Epoch 95/100\n",
      "402/402 [==============================] - 1s 3ms/step - loss: 0.0205 - accuracy: 0.9924 - val_loss: 0.1524 - val_accuracy: 0.9831\n",
      "Epoch 96/100\n",
      "402/402 [==============================] - 1s 3ms/step - loss: 0.0323 - accuracy: 0.9912 - val_loss: 0.1337 - val_accuracy: 0.9817\n",
      "Epoch 97/100\n",
      "402/402 [==============================] - 1s 3ms/step - loss: 0.0149 - accuracy: 0.9949 - val_loss: 0.1930 - val_accuracy: 0.9746\n",
      "Epoch 98/100\n",
      "402/402 [==============================] - 1s 3ms/step - loss: 0.0176 - accuracy: 0.9940 - val_loss: 0.1544 - val_accuracy: 0.9824\n",
      "Epoch 99/100\n",
      "402/402 [==============================] - 1s 3ms/step - loss: 0.0197 - accuracy: 0.9933 - val_loss: 0.1653 - val_accuracy: 0.9788\n",
      "Epoch 100/100\n",
      "402/402 [==============================] - 1s 3ms/step - loss: 0.0362 - accuracy: 0.9928 - val_loss: 0.0871 - val_accuracy: 0.9838\n"
     ]
    }
   ],
   "source": [
    "history = ann_model.fit(x_train, y_train, epochs=100, batch_size=20, validation_data=(x_val, y_val))"
   ]
  },
  {
   "cell_type": "code",
   "execution_count": 37,
   "metadata": {},
   "outputs": [
    {
     "output_type": "stream",
     "name": "stdout",
     "text": [
      "Train loss: 0.01268608309328556 / Train accuracy: 0.9958899021148682\n"
     ]
    }
   ],
   "source": [
    "score = ann_model.evaluate(x_train, y_train, verbose=0)\n",
    "print(f'Train loss: {score[0]} / Train accuracy: {score[1]}')"
   ]
  },
  {
   "cell_type": "code",
   "execution_count": 38,
   "metadata": {},
   "outputs": [
    {
     "output_type": "stream",
     "name": "stdout",
     "text": [
      "Test loss: 0.24726222455501556 / Test accuracy: 0.9754049181938171\n"
     ]
    }
   ],
   "source": [
    "score = ann_model.evaluate(x_test, y_test, verbose=0)\n",
    "print(f'Test loss: {score[0]} / Test accuracy: {score[1]}')"
   ]
  },
  {
   "cell_type": "code",
   "execution_count": 39,
   "metadata": {},
   "outputs": [
    {
     "output_type": "display_data",
     "data": {
      "text/plain": "<Figure size 1200x600 with 2 Axes>",
      "image/svg+xml": "<?xml version=\"1.0\" encoding=\"utf-8\" standalone=\"no\"?>\n<!DOCTYPE svg PUBLIC \"-//W3C//DTD SVG 1.1//EN\"\n  \"http://www.w3.org/Graphics/SVG/1.1/DTD/svg11.dtd\">\n<!-- Created with matplotlib (https://matplotlib.org/) -->\n<svg height=\"378.83625pt\" version=\"1.1\" viewBox=\"0 0 719.628125 378.83625\" width=\"719.628125pt\" xmlns=\"http://www.w3.org/2000/svg\" xmlns:xlink=\"http://www.w3.org/1999/xlink\">\n <metadata>\n  <rdf:RDF xmlns:cc=\"http://creativecommons.org/ns#\" xmlns:dc=\"http://purl.org/dc/elements/1.1/\" xmlns:rdf=\"http://www.w3.org/1999/02/22-rdf-syntax-ns#\">\n   <cc:Work>\n    <dc:type rdf:resource=\"http://purl.org/dc/dcmitype/StillImage\"/>\n    <dc:date>2022-11-13T22:29:05.615337</dc:date>\n    <dc:format>image/svg+xml</dc:format>\n    <dc:creator>\n     <cc:Agent>\n      <dc:title>Matplotlib v3.3.2, https://matplotlib.org/</dc:title>\n     </cc:Agent>\n    </dc:creator>\n   </cc:Work>\n  </rdf:RDF>\n </metadata>\n <defs>\n  <style type=\"text/css\">*{stroke-linecap:butt;stroke-linejoin:round;}</style>\n </defs>\n <g id=\"figure_1\">\n  <g id=\"patch_1\">\n   <path d=\"M 0 378.83625 \nL 719.628125 378.83625 \nL 719.628125 0 \nL 0 0 \nz\n\" style=\"fill:#ffffff;\"/>\n  </g>\n  <g id=\"axes_1\">\n   <g id=\"patch_2\">\n    <path d=\"M 42.828125 173.518125 \nL 712.428125 173.518125 \nL 712.428125 22.318125 \nL 42.828125 22.318125 \nz\n\" style=\"fill:#ffffff;\"/>\n   </g>\n   <g id=\"matplotlib.axis_1\">\n    <g id=\"xtick_1\">\n     <g id=\"line2d_1\">\n      <defs>\n       <path d=\"M 0 0 \nL 0 3.5 \n\" id=\"mbf8b4c1f91\" style=\"stroke:#000000;stroke-width:0.8;\"/>\n      </defs>\n      <g>\n       <use style=\"stroke:#000000;stroke-width:0.8;\" x=\"73.264489\" xlink:href=\"#mbf8b4c1f91\" y=\"173.518125\"/>\n      </g>\n     </g>\n     <g id=\"text_1\">\n      <!-- 0 -->\n      <g transform=\"translate(70.083239 188.116562)scale(0.1 -0.1)\">\n       <defs>\n        <path d=\"M 31.78125 66.40625 \nQ 24.171875 66.40625 20.328125 58.90625 \nQ 16.5 51.421875 16.5 36.375 \nQ 16.5 21.390625 20.328125 13.890625 \nQ 24.171875 6.390625 31.78125 6.390625 \nQ 39.453125 6.390625 43.28125 13.890625 \nQ 47.125 21.390625 47.125 36.375 \nQ 47.125 51.421875 43.28125 58.90625 \nQ 39.453125 66.40625 31.78125 66.40625 \nz\nM 31.78125 74.21875 \nQ 44.046875 74.21875 50.515625 64.515625 \nQ 56.984375 54.828125 56.984375 36.375 \nQ 56.984375 17.96875 50.515625 8.265625 \nQ 44.046875 -1.421875 31.78125 -1.421875 \nQ 19.53125 -1.421875 13.0625 8.265625 \nQ 6.59375 17.96875 6.59375 36.375 \nQ 6.59375 54.828125 13.0625 64.515625 \nQ 19.53125 74.21875 31.78125 74.21875 \nz\n\" id=\"DejaVuSans-48\"/>\n       </defs>\n       <use xlink:href=\"#DejaVuSans-48\"/>\n      </g>\n     </g>\n    </g>\n    <g id=\"xtick_2\">\n     <g id=\"line2d_2\">\n      <g>\n       <use style=\"stroke:#000000;stroke-width:0.8;\" x=\"196.239695\" xlink:href=\"#mbf8b4c1f91\" y=\"173.518125\"/>\n      </g>\n     </g>\n     <g id=\"text_2\">\n      <!-- 20 -->\n      <g transform=\"translate(189.877195 188.116562)scale(0.1 -0.1)\">\n       <defs>\n        <path d=\"M 19.1875 8.296875 \nL 53.609375 8.296875 \nL 53.609375 0 \nL 7.328125 0 \nL 7.328125 8.296875 \nQ 12.9375 14.109375 22.625 23.890625 \nQ 32.328125 33.6875 34.8125 36.53125 \nQ 39.546875 41.84375 41.421875 45.53125 \nQ 43.3125 49.21875 43.3125 52.78125 \nQ 43.3125 58.59375 39.234375 62.25 \nQ 35.15625 65.921875 28.609375 65.921875 \nQ 23.96875 65.921875 18.8125 64.3125 \nQ 13.671875 62.703125 7.8125 59.421875 \nL 7.8125 69.390625 \nQ 13.765625 71.78125 18.9375 73 \nQ 24.125 74.21875 28.421875 74.21875 \nQ 39.75 74.21875 46.484375 68.546875 \nQ 53.21875 62.890625 53.21875 53.421875 \nQ 53.21875 48.921875 51.53125 44.890625 \nQ 49.859375 40.875 45.40625 35.40625 \nQ 44.1875 33.984375 37.640625 27.21875 \nQ 31.109375 20.453125 19.1875 8.296875 \nz\n\" id=\"DejaVuSans-50\"/>\n       </defs>\n       <use xlink:href=\"#DejaVuSans-50\"/>\n       <use x=\"63.623047\" xlink:href=\"#DejaVuSans-48\"/>\n      </g>\n     </g>\n    </g>\n    <g id=\"xtick_3\">\n     <g id=\"line2d_3\">\n      <g>\n       <use style=\"stroke:#000000;stroke-width:0.8;\" x=\"319.214902\" xlink:href=\"#mbf8b4c1f91\" y=\"173.518125\"/>\n      </g>\n     </g>\n     <g id=\"text_3\">\n      <!-- 40 -->\n      <g transform=\"translate(312.852402 188.116562)scale(0.1 -0.1)\">\n       <defs>\n        <path d=\"M 37.796875 64.3125 \nL 12.890625 25.390625 \nL 37.796875 25.390625 \nz\nM 35.203125 72.90625 \nL 47.609375 72.90625 \nL 47.609375 25.390625 \nL 58.015625 25.390625 \nL 58.015625 17.1875 \nL 47.609375 17.1875 \nL 47.609375 0 \nL 37.796875 0 \nL 37.796875 17.1875 \nL 4.890625 17.1875 \nL 4.890625 26.703125 \nz\n\" id=\"DejaVuSans-52\"/>\n       </defs>\n       <use xlink:href=\"#DejaVuSans-52\"/>\n       <use x=\"63.623047\" xlink:href=\"#DejaVuSans-48\"/>\n      </g>\n     </g>\n    </g>\n    <g id=\"xtick_4\">\n     <g id=\"line2d_4\">\n      <g>\n       <use style=\"stroke:#000000;stroke-width:0.8;\" x=\"442.190108\" xlink:href=\"#mbf8b4c1f91\" y=\"173.518125\"/>\n      </g>\n     </g>\n     <g id=\"text_4\">\n      <!-- 60 -->\n      <g transform=\"translate(435.827608 188.116562)scale(0.1 -0.1)\">\n       <defs>\n        <path d=\"M 33.015625 40.375 \nQ 26.375 40.375 22.484375 35.828125 \nQ 18.609375 31.296875 18.609375 23.390625 \nQ 18.609375 15.53125 22.484375 10.953125 \nQ 26.375 6.390625 33.015625 6.390625 \nQ 39.65625 6.390625 43.53125 10.953125 \nQ 47.40625 15.53125 47.40625 23.390625 \nQ 47.40625 31.296875 43.53125 35.828125 \nQ 39.65625 40.375 33.015625 40.375 \nz\nM 52.59375 71.296875 \nL 52.59375 62.3125 \nQ 48.875 64.0625 45.09375 64.984375 \nQ 41.3125 65.921875 37.59375 65.921875 \nQ 27.828125 65.921875 22.671875 59.328125 \nQ 17.53125 52.734375 16.796875 39.40625 \nQ 19.671875 43.65625 24.015625 45.921875 \nQ 28.375 48.1875 33.59375 48.1875 \nQ 44.578125 48.1875 50.953125 41.515625 \nQ 57.328125 34.859375 57.328125 23.390625 \nQ 57.328125 12.15625 50.6875 5.359375 \nQ 44.046875 -1.421875 33.015625 -1.421875 \nQ 20.359375 -1.421875 13.671875 8.265625 \nQ 6.984375 17.96875 6.984375 36.375 \nQ 6.984375 53.65625 15.1875 63.9375 \nQ 23.390625 74.21875 37.203125 74.21875 \nQ 40.921875 74.21875 44.703125 73.484375 \nQ 48.484375 72.75 52.59375 71.296875 \nz\n\" id=\"DejaVuSans-54\"/>\n       </defs>\n       <use xlink:href=\"#DejaVuSans-54\"/>\n       <use x=\"63.623047\" xlink:href=\"#DejaVuSans-48\"/>\n      </g>\n     </g>\n    </g>\n    <g id=\"xtick_5\">\n     <g id=\"line2d_5\">\n      <g>\n       <use style=\"stroke:#000000;stroke-width:0.8;\" x=\"565.165315\" xlink:href=\"#mbf8b4c1f91\" y=\"173.518125\"/>\n      </g>\n     </g>\n     <g id=\"text_5\">\n      <!-- 80 -->\n      <g transform=\"translate(558.802815 188.116562)scale(0.1 -0.1)\">\n       <defs>\n        <path d=\"M 31.78125 34.625 \nQ 24.75 34.625 20.71875 30.859375 \nQ 16.703125 27.09375 16.703125 20.515625 \nQ 16.703125 13.921875 20.71875 10.15625 \nQ 24.75 6.390625 31.78125 6.390625 \nQ 38.8125 6.390625 42.859375 10.171875 \nQ 46.921875 13.96875 46.921875 20.515625 \nQ 46.921875 27.09375 42.890625 30.859375 \nQ 38.875 34.625 31.78125 34.625 \nz\nM 21.921875 38.8125 \nQ 15.578125 40.375 12.03125 44.71875 \nQ 8.5 49.078125 8.5 55.328125 \nQ 8.5 64.0625 14.71875 69.140625 \nQ 20.953125 74.21875 31.78125 74.21875 \nQ 42.671875 74.21875 48.875 69.140625 \nQ 55.078125 64.0625 55.078125 55.328125 \nQ 55.078125 49.078125 51.53125 44.71875 \nQ 48 40.375 41.703125 38.8125 \nQ 48.828125 37.15625 52.796875 32.3125 \nQ 56.78125 27.484375 56.78125 20.515625 \nQ 56.78125 9.90625 50.3125 4.234375 \nQ 43.84375 -1.421875 31.78125 -1.421875 \nQ 19.734375 -1.421875 13.25 4.234375 \nQ 6.78125 9.90625 6.78125 20.515625 \nQ 6.78125 27.484375 10.78125 32.3125 \nQ 14.796875 37.15625 21.921875 38.8125 \nz\nM 18.3125 54.390625 \nQ 18.3125 48.734375 21.84375 45.5625 \nQ 25.390625 42.390625 31.78125 42.390625 \nQ 38.140625 42.390625 41.71875 45.5625 \nQ 45.3125 48.734375 45.3125 54.390625 \nQ 45.3125 60.0625 41.71875 63.234375 \nQ 38.140625 66.40625 31.78125 66.40625 \nQ 25.390625 66.40625 21.84375 63.234375 \nQ 18.3125 60.0625 18.3125 54.390625 \nz\n\" id=\"DejaVuSans-56\"/>\n       </defs>\n       <use xlink:href=\"#DejaVuSans-56\"/>\n       <use x=\"63.623047\" xlink:href=\"#DejaVuSans-48\"/>\n      </g>\n     </g>\n    </g>\n    <g id=\"xtick_6\">\n     <g id=\"line2d_6\">\n      <g>\n       <use style=\"stroke:#000000;stroke-width:0.8;\" x=\"688.140522\" xlink:href=\"#mbf8b4c1f91\" y=\"173.518125\"/>\n      </g>\n     </g>\n     <g id=\"text_6\">\n      <!-- 100 -->\n      <g transform=\"translate(678.596772 188.116562)scale(0.1 -0.1)\">\n       <defs>\n        <path d=\"M 12.40625 8.296875 \nL 28.515625 8.296875 \nL 28.515625 63.921875 \nL 10.984375 60.40625 \nL 10.984375 69.390625 \nL 28.421875 72.90625 \nL 38.28125 72.90625 \nL 38.28125 8.296875 \nL 54.390625 8.296875 \nL 54.390625 0 \nL 12.40625 0 \nz\n\" id=\"DejaVuSans-49\"/>\n       </defs>\n       <use xlink:href=\"#DejaVuSans-49\"/>\n       <use x=\"63.623047\" xlink:href=\"#DejaVuSans-48\"/>\n       <use x=\"127.246094\" xlink:href=\"#DejaVuSans-48\"/>\n      </g>\n     </g>\n    </g>\n   </g>\n   <g id=\"matplotlib.axis_2\">\n    <g id=\"ytick_1\">\n     <g id=\"line2d_7\">\n      <defs>\n       <path d=\"M 0 0 \nL -3.5 0 \n\" id=\"m2cfd241d00\" style=\"stroke:#000000;stroke-width:0.8;\"/>\n      </defs>\n      <g>\n       <use style=\"stroke:#000000;stroke-width:0.8;\" x=\"42.828125\" xlink:href=\"#m2cfd241d00\" y=\"169.206174\"/>\n      </g>\n     </g>\n     <g id=\"text_7\">\n      <!-- 0.850 -->\n      <g transform=\"translate(7.2 173.005392)scale(0.1 -0.1)\">\n       <defs>\n        <path d=\"M 10.6875 12.40625 \nL 21 12.40625 \nL 21 0 \nL 10.6875 0 \nz\n\" id=\"DejaVuSans-46\"/>\n        <path d=\"M 10.796875 72.90625 \nL 49.515625 72.90625 \nL 49.515625 64.59375 \nL 19.828125 64.59375 \nL 19.828125 46.734375 \nQ 21.96875 47.46875 24.109375 47.828125 \nQ 26.265625 48.1875 28.421875 48.1875 \nQ 40.625 48.1875 47.75 41.5 \nQ 54.890625 34.8125 54.890625 23.390625 \nQ 54.890625 11.625 47.5625 5.09375 \nQ 40.234375 -1.421875 26.90625 -1.421875 \nQ 22.3125 -1.421875 17.546875 -0.640625 \nQ 12.796875 0.140625 7.71875 1.703125 \nL 7.71875 11.625 \nQ 12.109375 9.234375 16.796875 8.0625 \nQ 21.484375 6.890625 26.703125 6.890625 \nQ 35.15625 6.890625 40.078125 11.328125 \nQ 45.015625 15.765625 45.015625 23.390625 \nQ 45.015625 31 40.078125 35.4375 \nQ 35.15625 39.890625 26.703125 39.890625 \nQ 22.75 39.890625 18.8125 39.015625 \nQ 14.890625 38.140625 10.796875 36.28125 \nz\n\" id=\"DejaVuSans-53\"/>\n       </defs>\n       <use xlink:href=\"#DejaVuSans-48\"/>\n       <use x=\"63.623047\" xlink:href=\"#DejaVuSans-46\"/>\n       <use x=\"95.410156\" xlink:href=\"#DejaVuSans-56\"/>\n       <use x=\"159.033203\" xlink:href=\"#DejaVuSans-53\"/>\n       <use x=\"222.65625\" xlink:href=\"#DejaVuSans-48\"/>\n      </g>\n     </g>\n    </g>\n    <g id=\"ytick_2\">\n     <g id=\"line2d_8\">\n      <g>\n       <use style=\"stroke:#000000;stroke-width:0.8;\" x=\"42.828125\" xlink:href=\"#m2cfd241d00\" y=\"145.130642\"/>\n      </g>\n     </g>\n     <g id=\"text_8\">\n      <!-- 0.875 -->\n      <g transform=\"translate(7.2 148.929861)scale(0.1 -0.1)\">\n       <defs>\n        <path d=\"M 8.203125 72.90625 \nL 55.078125 72.90625 \nL 55.078125 68.703125 \nL 28.609375 0 \nL 18.3125 0 \nL 43.21875 64.59375 \nL 8.203125 64.59375 \nz\n\" id=\"DejaVuSans-55\"/>\n       </defs>\n       <use xlink:href=\"#DejaVuSans-48\"/>\n       <use x=\"63.623047\" xlink:href=\"#DejaVuSans-46\"/>\n       <use x=\"95.410156\" xlink:href=\"#DejaVuSans-56\"/>\n       <use x=\"159.033203\" xlink:href=\"#DejaVuSans-55\"/>\n       <use x=\"222.65625\" xlink:href=\"#DejaVuSans-53\"/>\n      </g>\n     </g>\n    </g>\n    <g id=\"ytick_3\">\n     <g id=\"line2d_9\">\n      <g>\n       <use style=\"stroke:#000000;stroke-width:0.8;\" x=\"42.828125\" xlink:href=\"#m2cfd241d00\" y=\"121.055111\"/>\n      </g>\n     </g>\n     <g id=\"text_9\">\n      <!-- 0.900 -->\n      <g transform=\"translate(7.2 124.85433)scale(0.1 -0.1)\">\n       <defs>\n        <path d=\"M 10.984375 1.515625 \nL 10.984375 10.5 \nQ 14.703125 8.734375 18.5 7.8125 \nQ 22.3125 6.890625 25.984375 6.890625 \nQ 35.75 6.890625 40.890625 13.453125 \nQ 46.046875 20.015625 46.78125 33.40625 \nQ 43.953125 29.203125 39.59375 26.953125 \nQ 35.25 24.703125 29.984375 24.703125 \nQ 19.046875 24.703125 12.671875 31.3125 \nQ 6.296875 37.9375 6.296875 49.421875 \nQ 6.296875 60.640625 12.9375 67.421875 \nQ 19.578125 74.21875 30.609375 74.21875 \nQ 43.265625 74.21875 49.921875 64.515625 \nQ 56.59375 54.828125 56.59375 36.375 \nQ 56.59375 19.140625 48.40625 8.859375 \nQ 40.234375 -1.421875 26.421875 -1.421875 \nQ 22.703125 -1.421875 18.890625 -0.6875 \nQ 15.09375 0.046875 10.984375 1.515625 \nz\nM 30.609375 32.421875 \nQ 37.25 32.421875 41.125 36.953125 \nQ 45.015625 41.5 45.015625 49.421875 \nQ 45.015625 57.28125 41.125 61.84375 \nQ 37.25 66.40625 30.609375 66.40625 \nQ 23.96875 66.40625 20.09375 61.84375 \nQ 16.21875 57.28125 16.21875 49.421875 \nQ 16.21875 41.5 20.09375 36.953125 \nQ 23.96875 32.421875 30.609375 32.421875 \nz\n\" id=\"DejaVuSans-57\"/>\n       </defs>\n       <use xlink:href=\"#DejaVuSans-48\"/>\n       <use x=\"63.623047\" xlink:href=\"#DejaVuSans-46\"/>\n       <use x=\"95.410156\" xlink:href=\"#DejaVuSans-57\"/>\n       <use x=\"159.033203\" xlink:href=\"#DejaVuSans-48\"/>\n       <use x=\"222.65625\" xlink:href=\"#DejaVuSans-48\"/>\n      </g>\n     </g>\n    </g>\n    <g id=\"ytick_4\">\n     <g id=\"line2d_10\">\n      <g>\n       <use style=\"stroke:#000000;stroke-width:0.8;\" x=\"42.828125\" xlink:href=\"#m2cfd241d00\" y=\"96.97958\"/>\n      </g>\n     </g>\n     <g id=\"text_10\">\n      <!-- 0.925 -->\n      <g transform=\"translate(7.2 100.778799)scale(0.1 -0.1)\">\n       <use xlink:href=\"#DejaVuSans-48\"/>\n       <use x=\"63.623047\" xlink:href=\"#DejaVuSans-46\"/>\n       <use x=\"95.410156\" xlink:href=\"#DejaVuSans-57\"/>\n       <use x=\"159.033203\" xlink:href=\"#DejaVuSans-50\"/>\n       <use x=\"222.65625\" xlink:href=\"#DejaVuSans-53\"/>\n      </g>\n     </g>\n    </g>\n    <g id=\"ytick_5\">\n     <g id=\"line2d_11\">\n      <g>\n       <use style=\"stroke:#000000;stroke-width:0.8;\" x=\"42.828125\" xlink:href=\"#m2cfd241d00\" y=\"72.904049\"/>\n      </g>\n     </g>\n     <g id=\"text_11\">\n      <!-- 0.950 -->\n      <g transform=\"translate(7.2 76.703268)scale(0.1 -0.1)\">\n       <use xlink:href=\"#DejaVuSans-48\"/>\n       <use x=\"63.623047\" xlink:href=\"#DejaVuSans-46\"/>\n       <use x=\"95.410156\" xlink:href=\"#DejaVuSans-57\"/>\n       <use x=\"159.033203\" xlink:href=\"#DejaVuSans-53\"/>\n       <use x=\"222.65625\" xlink:href=\"#DejaVuSans-48\"/>\n      </g>\n     </g>\n    </g>\n    <g id=\"ytick_6\">\n     <g id=\"line2d_12\">\n      <g>\n       <use style=\"stroke:#000000;stroke-width:0.8;\" x=\"42.828125\" xlink:href=\"#m2cfd241d00\" y=\"48.828518\"/>\n      </g>\n     </g>\n     <g id=\"text_12\">\n      <!-- 0.975 -->\n      <g transform=\"translate(7.2 52.627737)scale(0.1 -0.1)\">\n       <use xlink:href=\"#DejaVuSans-48\"/>\n       <use x=\"63.623047\" xlink:href=\"#DejaVuSans-46\"/>\n       <use x=\"95.410156\" xlink:href=\"#DejaVuSans-57\"/>\n       <use x=\"159.033203\" xlink:href=\"#DejaVuSans-55\"/>\n       <use x=\"222.65625\" xlink:href=\"#DejaVuSans-53\"/>\n      </g>\n     </g>\n    </g>\n    <g id=\"ytick_7\">\n     <g id=\"line2d_13\">\n      <g>\n       <use style=\"stroke:#000000;stroke-width:0.8;\" x=\"42.828125\" xlink:href=\"#m2cfd241d00\" y=\"24.752987\"/>\n      </g>\n     </g>\n     <g id=\"text_13\">\n      <!-- 1.000 -->\n      <g transform=\"translate(7.2 28.552206)scale(0.1 -0.1)\">\n       <use xlink:href=\"#DejaVuSans-49\"/>\n       <use x=\"63.623047\" xlink:href=\"#DejaVuSans-46\"/>\n       <use x=\"95.410156\" xlink:href=\"#DejaVuSans-48\"/>\n       <use x=\"159.033203\" xlink:href=\"#DejaVuSans-48\"/>\n       <use x=\"222.65625\" xlink:href=\"#DejaVuSans-48\"/>\n      </g>\n     </g>\n    </g>\n   </g>\n   <g id=\"line2d_14\">\n    <path clip-path=\"url(#p81c9a7d8dc)\" d=\"M 73.264489 166.645398 \nL 79.413249 83.884841 \nL 85.562009 61.335556 \nL 91.71077 59.536393 \nL 97.85953 46.462617 \nL 104.00829 50.060942 \nL 110.157051 43.344103 \nL 116.305811 41.904842 \nL 122.454571 44.903389 \nL 128.603332 43.703947 \nL 134.752092 41.784875 \nL 140.900852 40.7054 \nL 147.049613 39.026205 \nL 153.198373 42.86435 \nL 159.347133 36.747289 \nL 165.495894 39.146115 \nL 171.644654 38.426484 \nL 177.793414 43.823914 \nL 183.942175 41.784875 \nL 190.090935 39.026205 \nL 196.239695 44.063791 \nL 202.388456 37.107075 \nL 208.537216 38.426484 \nL 214.685976 35.547847 \nL 220.834737 35.068093 \nL 226.983497 37.107075 \nL 233.132257 39.146115 \nL 239.281018 33.988562 \nL 245.429778 33.988562 \nL 251.578538 35.068093 \nL 257.727299 36.867199 \nL 263.876059 32.429333 \nL 270.024819 34.228496 \nL 276.17358 33.988562 \nL 282.32234 34.348406 \nL 288.4711 35.547847 \nL 294.619861 33.148964 \nL 300.768621 34.948126 \nL 306.917381 35.42788 \nL 313.066142 33.508808 \nL 319.214902 40.585433 \nL 325.363662 33.868652 \nL 331.512423 31.469768 \nL 337.661183 32.189456 \nL 343.809943 33.388898 \nL 349.958704 33.508808 \nL 356.107464 35.42788 \nL 362.256224 37.227043 \nL 368.404985 32.5493 \nL 374.553745 31.229892 \nL 380.702505 32.189456 \nL 386.851265 35.30797 \nL 393.000026 33.748685 \nL 399.148786 31.109982 \nL 405.297546 31.589736 \nL 411.446307 31.709645 \nL 417.595067 31.469768 \nL 423.743827 33.508808 \nL 429.892588 34.108529 \nL 436.041348 31.709645 \nL 442.190108 32.069489 \nL 448.338869 30.150417 \nL 454.487629 31.229892 \nL 460.636389 31.109982 \nL 466.78515 31.709645 \nL 472.93391 31.94958 \nL 479.08267 30.510261 \nL 485.231431 34.588282 \nL 491.380191 31.829612 \nL 497.528951 31.229892 \nL 503.677712 38.546394 \nL 509.826472 33.988562 \nL 515.975232 33.268931 \nL 522.123993 31.94958 \nL 528.272753 29.91054 \nL 534.421513 30.510261 \nL 540.570274 31.469768 \nL 546.719034 32.789177 \nL 552.867794 31.94958 \nL 559.016555 29.670663 \nL 565.165315 29.430787 \nL 571.314075 31.229892 \nL 577.462836 30.630171 \nL 583.611596 31.229892 \nL 589.760356 30.870048 \nL 595.909117 29.790573 \nL 602.057877 29.550696 \nL 608.206637 31.709645 \nL 614.355398 30.870048 \nL 620.504158 33.268931 \nL 626.652918 29.550696 \nL 632.801679 30.390294 \nL 638.950439 29.790573 \nL 645.099199 29.190852 \nL 651.24796 32.069489 \nL 657.39672 33.268931 \nL 663.54548 29.670663 \nL 669.694241 30.510261 \nL 675.843001 31.229892 \nL 681.991761 31.709645 \n\" style=\"fill:none;stroke:#ff0000;stroke-linecap:square;stroke-width:1.5;\"/>\n   </g>\n   <g id=\"line2d_15\">\n    <path clip-path=\"url(#p81c9a7d8dc)\" d=\"M 73.264489 147.084557 \nL 79.413249 66.889403 \nL 85.562009 62.811668 \nL 91.71077 56.015502 \nL 97.85953 51.258145 \nL 104.00829 48.539656 \nL 110.157051 44.461979 \nL 116.305811 48.539656 \nL 122.454571 43.102734 \nL 128.603332 37.665755 \nL 134.752092 40.384244 \nL 140.900852 41.743489 \nL 147.049613 39.025 \nL 153.198373 47.180468 \nL 159.347133 41.743489 \nL 165.495894 41.743489 \nL 171.644654 37.665755 \nL 177.793414 45.821223 \nL 183.942175 41.063867 \nL 190.090935 43.102734 \nL 196.239695 41.743489 \nL 202.388456 43.102734 \nL 208.537216 40.384244 \nL 214.685976 42.423112 \nL 220.834737 43.102734 \nL 226.983497 83.200282 \nL 233.132257 45.821223 \nL 239.281018 38.345377 \nL 245.429778 39.704622 \nL 251.578538 41.063867 \nL 257.727299 43.782356 \nL 263.876059 40.384244 \nL 270.024819 43.782356 \nL 276.17358 42.423112 \nL 282.32234 41.063867 \nL 288.4711 45.821223 \nL 294.619861 41.063867 \nL 300.768621 44.461979 \nL 306.917381 45.821223 \nL 313.066142 39.025 \nL 319.214902 42.423112 \nL 325.363662 39.025 \nL 331.512423 39.025 \nL 337.661183 36.986132 \nL 343.809943 41.063867 \nL 349.958704 45.821223 \nL 356.107464 34.267643 \nL 362.256224 45.141601 \nL 368.404985 45.821223 \nL 374.553745 43.102734 \nL 380.702505 44.461979 \nL 386.851265 41.743489 \nL 393.000026 41.063867 \nL 399.148786 40.384244 \nL 405.297546 37.665755 \nL 411.446307 39.025 \nL 417.595067 45.141601 \nL 423.743827 41.743489 \nL 429.892588 37.665755 \nL 436.041348 40.384244 \nL 442.190108 43.102734 \nL 448.338869 36.986132 \nL 454.487629 53.976635 \nL 460.636389 47.180468 \nL 466.78515 39.704622 \nL 472.93391 42.423112 \nL 479.08267 45.141601 \nL 485.231431 40.384244 \nL 491.380191 37.665755 \nL 497.528951 43.782356 \nL 503.677712 42.423112 \nL 509.826472 47.860033 \nL 515.975232 39.704622 \nL 522.123993 39.025 \nL 528.272753 45.141601 \nL 534.421513 42.423112 \nL 540.570274 41.063867 \nL 546.719034 38.345377 \nL 552.867794 38.345377 \nL 559.016555 47.180468 \nL 565.165315 44.461979 \nL 571.314075 40.384244 \nL 577.462836 43.782356 \nL 583.611596 49.219278 \nL 589.760356 39.704622 \nL 595.909117 49.8989 \nL 602.057877 44.461979 \nL 608.206637 41.743489 \nL 614.355398 47.180468 \nL 620.504158 41.063867 \nL 626.652918 41.063867 \nL 632.801679 41.063867 \nL 638.950439 38.345377 \nL 645.099199 41.743489 \nL 651.24796 41.063867 \nL 657.39672 42.423112 \nL 663.54548 49.219278 \nL 669.694241 41.743489 \nL 675.843001 45.141601 \nL 681.991761 40.384244 \n\" style=\"fill:none;stroke:#0000ff;stroke-linecap:square;stroke-width:1.5;\"/>\n   </g>\n   <g id=\"patch_3\">\n    <path d=\"M 42.828125 173.518125 \nL 42.828125 22.318125 \n\" style=\"fill:none;stroke:#000000;stroke-linecap:square;stroke-linejoin:miter;stroke-width:0.8;\"/>\n   </g>\n   <g id=\"patch_4\">\n    <path d=\"M 712.428125 173.518125 \nL 712.428125 22.318125 \n\" style=\"fill:none;stroke:#000000;stroke-linecap:square;stroke-linejoin:miter;stroke-width:0.8;\"/>\n   </g>\n   <g id=\"patch_5\">\n    <path d=\"M 42.828125 173.518125 \nL 712.428125 173.518125 \n\" style=\"fill:none;stroke:#000000;stroke-linecap:square;stroke-linejoin:miter;stroke-width:0.8;\"/>\n   </g>\n   <g id=\"patch_6\">\n    <path d=\"M 42.828125 22.318125 \nL 712.428125 22.318125 \n\" style=\"fill:none;stroke:#000000;stroke-linecap:square;stroke-linejoin:miter;stroke-width:0.8;\"/>\n   </g>\n   <g id=\"text_14\">\n    <!-- Train and Validation Accuracy -->\n    <g transform=\"translate(289.204063 16.318125)scale(0.12 -0.12)\">\n     <defs>\n      <path d=\"M -0.296875 72.90625 \nL 61.375 72.90625 \nL 61.375 64.59375 \nL 35.5 64.59375 \nL 35.5 0 \nL 25.59375 0 \nL 25.59375 64.59375 \nL -0.296875 64.59375 \nz\n\" id=\"DejaVuSans-84\"/>\n      <path d=\"M 41.109375 46.296875 \nQ 39.59375 47.171875 37.8125 47.578125 \nQ 36.03125 48 33.890625 48 \nQ 26.265625 48 22.1875 43.046875 \nQ 18.109375 38.09375 18.109375 28.8125 \nL 18.109375 0 \nL 9.078125 0 \nL 9.078125 54.6875 \nL 18.109375 54.6875 \nL 18.109375 46.1875 \nQ 20.953125 51.171875 25.484375 53.578125 \nQ 30.03125 56 36.53125 56 \nQ 37.453125 56 38.578125 55.875 \nQ 39.703125 55.765625 41.0625 55.515625 \nz\n\" id=\"DejaVuSans-114\"/>\n      <path d=\"M 34.28125 27.484375 \nQ 23.390625 27.484375 19.1875 25 \nQ 14.984375 22.515625 14.984375 16.5 \nQ 14.984375 11.71875 18.140625 8.90625 \nQ 21.296875 6.109375 26.703125 6.109375 \nQ 34.1875 6.109375 38.703125 11.40625 \nQ 43.21875 16.703125 43.21875 25.484375 \nL 43.21875 27.484375 \nz\nM 52.203125 31.203125 \nL 52.203125 0 \nL 43.21875 0 \nL 43.21875 8.296875 \nQ 40.140625 3.328125 35.546875 0.953125 \nQ 30.953125 -1.421875 24.3125 -1.421875 \nQ 15.921875 -1.421875 10.953125 3.296875 \nQ 6 8.015625 6 15.921875 \nQ 6 25.140625 12.171875 29.828125 \nQ 18.359375 34.515625 30.609375 34.515625 \nL 43.21875 34.515625 \nL 43.21875 35.40625 \nQ 43.21875 41.609375 39.140625 45 \nQ 35.0625 48.390625 27.6875 48.390625 \nQ 23 48.390625 18.546875 47.265625 \nQ 14.109375 46.140625 10.015625 43.890625 \nL 10.015625 52.203125 \nQ 14.9375 54.109375 19.578125 55.046875 \nQ 24.21875 56 28.609375 56 \nQ 40.484375 56 46.34375 49.84375 \nQ 52.203125 43.703125 52.203125 31.203125 \nz\n\" id=\"DejaVuSans-97\"/>\n      <path d=\"M 9.421875 54.6875 \nL 18.40625 54.6875 \nL 18.40625 0 \nL 9.421875 0 \nz\nM 9.421875 75.984375 \nL 18.40625 75.984375 \nL 18.40625 64.59375 \nL 9.421875 64.59375 \nz\n\" id=\"DejaVuSans-105\"/>\n      <path d=\"M 54.890625 33.015625 \nL 54.890625 0 \nL 45.90625 0 \nL 45.90625 32.71875 \nQ 45.90625 40.484375 42.875 44.328125 \nQ 39.84375 48.1875 33.796875 48.1875 \nQ 26.515625 48.1875 22.3125 43.546875 \nQ 18.109375 38.921875 18.109375 30.90625 \nL 18.109375 0 \nL 9.078125 0 \nL 9.078125 54.6875 \nL 18.109375 54.6875 \nL 18.109375 46.1875 \nQ 21.34375 51.125 25.703125 53.5625 \nQ 30.078125 56 35.796875 56 \nQ 45.21875 56 50.046875 50.171875 \nQ 54.890625 44.34375 54.890625 33.015625 \nz\n\" id=\"DejaVuSans-110\"/>\n      <path id=\"DejaVuSans-32\"/>\n      <path d=\"M 45.40625 46.390625 \nL 45.40625 75.984375 \nL 54.390625 75.984375 \nL 54.390625 0 \nL 45.40625 0 \nL 45.40625 8.203125 \nQ 42.578125 3.328125 38.25 0.953125 \nQ 33.9375 -1.421875 27.875 -1.421875 \nQ 17.96875 -1.421875 11.734375 6.484375 \nQ 5.515625 14.40625 5.515625 27.296875 \nQ 5.515625 40.1875 11.734375 48.09375 \nQ 17.96875 56 27.875 56 \nQ 33.9375 56 38.25 53.625 \nQ 42.578125 51.265625 45.40625 46.390625 \nz\nM 14.796875 27.296875 \nQ 14.796875 17.390625 18.875 11.75 \nQ 22.953125 6.109375 30.078125 6.109375 \nQ 37.203125 6.109375 41.296875 11.75 \nQ 45.40625 17.390625 45.40625 27.296875 \nQ 45.40625 37.203125 41.296875 42.84375 \nQ 37.203125 48.484375 30.078125 48.484375 \nQ 22.953125 48.484375 18.875 42.84375 \nQ 14.796875 37.203125 14.796875 27.296875 \nz\n\" id=\"DejaVuSans-100\"/>\n      <path d=\"M 28.609375 0 \nL 0.78125 72.90625 \nL 11.078125 72.90625 \nL 34.1875 11.53125 \nL 57.328125 72.90625 \nL 67.578125 72.90625 \nL 39.796875 0 \nz\n\" id=\"DejaVuSans-86\"/>\n      <path d=\"M 9.421875 75.984375 \nL 18.40625 75.984375 \nL 18.40625 0 \nL 9.421875 0 \nz\n\" id=\"DejaVuSans-108\"/>\n      <path d=\"M 18.3125 70.21875 \nL 18.3125 54.6875 \nL 36.8125 54.6875 \nL 36.8125 47.703125 \nL 18.3125 47.703125 \nL 18.3125 18.015625 \nQ 18.3125 11.328125 20.140625 9.421875 \nQ 21.96875 7.515625 27.59375 7.515625 \nL 36.8125 7.515625 \nL 36.8125 0 \nL 27.59375 0 \nQ 17.1875 0 13.234375 3.875 \nQ 9.28125 7.765625 9.28125 18.015625 \nL 9.28125 47.703125 \nL 2.6875 47.703125 \nL 2.6875 54.6875 \nL 9.28125 54.6875 \nL 9.28125 70.21875 \nz\n\" id=\"DejaVuSans-116\"/>\n      <path d=\"M 30.609375 48.390625 \nQ 23.390625 48.390625 19.1875 42.75 \nQ 14.984375 37.109375 14.984375 27.296875 \nQ 14.984375 17.484375 19.15625 11.84375 \nQ 23.34375 6.203125 30.609375 6.203125 \nQ 37.796875 6.203125 41.984375 11.859375 \nQ 46.1875 17.53125 46.1875 27.296875 \nQ 46.1875 37.015625 41.984375 42.703125 \nQ 37.796875 48.390625 30.609375 48.390625 \nz\nM 30.609375 56 \nQ 42.328125 56 49.015625 48.375 \nQ 55.71875 40.765625 55.71875 27.296875 \nQ 55.71875 13.875 49.015625 6.21875 \nQ 42.328125 -1.421875 30.609375 -1.421875 \nQ 18.84375 -1.421875 12.171875 6.21875 \nQ 5.515625 13.875 5.515625 27.296875 \nQ 5.515625 40.765625 12.171875 48.375 \nQ 18.84375 56 30.609375 56 \nz\n\" id=\"DejaVuSans-111\"/>\n      <path d=\"M 34.1875 63.1875 \nL 20.796875 26.90625 \nL 47.609375 26.90625 \nz\nM 28.609375 72.90625 \nL 39.796875 72.90625 \nL 67.578125 0 \nL 57.328125 0 \nL 50.6875 18.703125 \nL 17.828125 18.703125 \nL 11.1875 0 \nL 0.78125 0 \nz\n\" id=\"DejaVuSans-65\"/>\n      <path d=\"M 48.78125 52.59375 \nL 48.78125 44.1875 \nQ 44.96875 46.296875 41.140625 47.34375 \nQ 37.3125 48.390625 33.40625 48.390625 \nQ 24.65625 48.390625 19.8125 42.84375 \nQ 14.984375 37.3125 14.984375 27.296875 \nQ 14.984375 17.28125 19.8125 11.734375 \nQ 24.65625 6.203125 33.40625 6.203125 \nQ 37.3125 6.203125 41.140625 7.25 \nQ 44.96875 8.296875 48.78125 10.40625 \nL 48.78125 2.09375 \nQ 45.015625 0.34375 40.984375 -0.53125 \nQ 36.96875 -1.421875 32.421875 -1.421875 \nQ 20.0625 -1.421875 12.78125 6.34375 \nQ 5.515625 14.109375 5.515625 27.296875 \nQ 5.515625 40.671875 12.859375 48.328125 \nQ 20.21875 56 33.015625 56 \nQ 37.15625 56 41.109375 55.140625 \nQ 45.0625 54.296875 48.78125 52.59375 \nz\n\" id=\"DejaVuSans-99\"/>\n      <path d=\"M 8.5 21.578125 \nL 8.5 54.6875 \nL 17.484375 54.6875 \nL 17.484375 21.921875 \nQ 17.484375 14.15625 20.5 10.265625 \nQ 23.53125 6.390625 29.59375 6.390625 \nQ 36.859375 6.390625 41.078125 11.03125 \nQ 45.3125 15.671875 45.3125 23.6875 \nL 45.3125 54.6875 \nL 54.296875 54.6875 \nL 54.296875 0 \nL 45.3125 0 \nL 45.3125 8.40625 \nQ 42.046875 3.421875 37.71875 1 \nQ 33.40625 -1.421875 27.6875 -1.421875 \nQ 18.265625 -1.421875 13.375 4.4375 \nQ 8.5 10.296875 8.5 21.578125 \nz\nM 31.109375 56 \nz\n\" id=\"DejaVuSans-117\"/>\n      <path d=\"M 32.171875 -5.078125 \nQ 28.375 -14.84375 24.75 -17.8125 \nQ 21.140625 -20.796875 15.09375 -20.796875 \nL 7.90625 -20.796875 \nL 7.90625 -13.28125 \nL 13.1875 -13.28125 \nQ 16.890625 -13.28125 18.9375 -11.515625 \nQ 21 -9.765625 23.484375 -3.21875 \nL 25.09375 0.875 \nL 2.984375 54.6875 \nL 12.5 54.6875 \nL 29.59375 11.921875 \nL 46.6875 54.6875 \nL 56.203125 54.6875 \nz\n\" id=\"DejaVuSans-121\"/>\n     </defs>\n     <use xlink:href=\"#DejaVuSans-84\"/>\n     <use x=\"46.333984\" xlink:href=\"#DejaVuSans-114\"/>\n     <use x=\"87.447266\" xlink:href=\"#DejaVuSans-97\"/>\n     <use x=\"148.726562\" xlink:href=\"#DejaVuSans-105\"/>\n     <use x=\"176.509766\" xlink:href=\"#DejaVuSans-110\"/>\n     <use x=\"239.888672\" xlink:href=\"#DejaVuSans-32\"/>\n     <use x=\"271.675781\" xlink:href=\"#DejaVuSans-97\"/>\n     <use x=\"332.955078\" xlink:href=\"#DejaVuSans-110\"/>\n     <use x=\"396.333984\" xlink:href=\"#DejaVuSans-100\"/>\n     <use x=\"459.810547\" xlink:href=\"#DejaVuSans-32\"/>\n     <use x=\"491.597656\" xlink:href=\"#DejaVuSans-86\"/>\n     <use x=\"552.255859\" xlink:href=\"#DejaVuSans-97\"/>\n     <use x=\"613.535156\" xlink:href=\"#DejaVuSans-108\"/>\n     <use x=\"641.318359\" xlink:href=\"#DejaVuSans-105\"/>\n     <use x=\"669.101562\" xlink:href=\"#DejaVuSans-100\"/>\n     <use x=\"732.578125\" xlink:href=\"#DejaVuSans-97\"/>\n     <use x=\"793.857422\" xlink:href=\"#DejaVuSans-116\"/>\n     <use x=\"833.066406\" xlink:href=\"#DejaVuSans-105\"/>\n     <use x=\"860.849609\" xlink:href=\"#DejaVuSans-111\"/>\n     <use x=\"922.03125\" xlink:href=\"#DejaVuSans-110\"/>\n     <use x=\"985.410156\" xlink:href=\"#DejaVuSans-32\"/>\n     <use x=\"1017.197266\" xlink:href=\"#DejaVuSans-65\"/>\n     <use x=\"1083.855469\" xlink:href=\"#DejaVuSans-99\"/>\n     <use x=\"1138.835938\" xlink:href=\"#DejaVuSans-99\"/>\n     <use x=\"1193.816406\" xlink:href=\"#DejaVuSans-117\"/>\n     <use x=\"1257.195312\" xlink:href=\"#DejaVuSans-114\"/>\n     <use x=\"1298.308594\" xlink:href=\"#DejaVuSans-97\"/>\n     <use x=\"1359.587891\" xlink:href=\"#DejaVuSans-99\"/>\n     <use x=\"1414.568359\" xlink:href=\"#DejaVuSans-121\"/>\n    </g>\n   </g>\n   <g id=\"legend_1\">\n    <g id=\"patch_7\">\n     <path d=\"M 629.85 168.518125 \nL 705.428125 168.518125 \nQ 707.428125 168.518125 707.428125 166.518125 \nL 707.428125 138.161875 \nQ 707.428125 136.161875 705.428125 136.161875 \nL 629.85 136.161875 \nQ 627.85 136.161875 627.85 138.161875 \nL 627.85 166.518125 \nQ 627.85 168.518125 629.85 168.518125 \nz\n\" style=\"fill:#ffffff;opacity:0.8;stroke:#cccccc;stroke-linejoin:miter;\"/>\n    </g>\n    <g id=\"line2d_16\">\n     <path d=\"M 631.85 144.260312 \nL 651.85 144.260312 \n\" style=\"fill:none;stroke:#ff0000;stroke-linecap:square;stroke-width:1.5;\"/>\n    </g>\n    <g id=\"line2d_17\"/>\n    <g id=\"text_15\">\n     <!-- train acc -->\n     <g transform=\"translate(659.85 147.760312)scale(0.1 -0.1)\">\n      <use xlink:href=\"#DejaVuSans-116\"/>\n      <use x=\"39.208984\" xlink:href=\"#DejaVuSans-114\"/>\n      <use x=\"80.322266\" xlink:href=\"#DejaVuSans-97\"/>\n      <use x=\"141.601562\" xlink:href=\"#DejaVuSans-105\"/>\n      <use x=\"169.384766\" xlink:href=\"#DejaVuSans-110\"/>\n      <use x=\"232.763672\" xlink:href=\"#DejaVuSans-32\"/>\n      <use x=\"264.550781\" xlink:href=\"#DejaVuSans-97\"/>\n      <use x=\"325.830078\" xlink:href=\"#DejaVuSans-99\"/>\n      <use x=\"380.810547\" xlink:href=\"#DejaVuSans-99\"/>\n     </g>\n    </g>\n    <g id=\"line2d_18\">\n     <path d=\"M 631.85 158.938437 \nL 651.85 158.938437 \n\" style=\"fill:none;stroke:#0000ff;stroke-linecap:square;stroke-width:1.5;\"/>\n    </g>\n    <g id=\"line2d_19\"/>\n    <g id=\"text_16\">\n     <!-- val acc -->\n     <g transform=\"translate(659.85 162.438437)scale(0.1 -0.1)\">\n      <defs>\n       <path d=\"M 2.984375 54.6875 \nL 12.5 54.6875 \nL 29.59375 8.796875 \nL 46.6875 54.6875 \nL 56.203125 54.6875 \nL 35.6875 0 \nL 23.484375 0 \nz\n\" id=\"DejaVuSans-118\"/>\n      </defs>\n      <use xlink:href=\"#DejaVuSans-118\"/>\n      <use x=\"59.179688\" xlink:href=\"#DejaVuSans-97\"/>\n      <use x=\"120.458984\" xlink:href=\"#DejaVuSans-108\"/>\n      <use x=\"148.242188\" xlink:href=\"#DejaVuSans-32\"/>\n      <use x=\"180.029297\" xlink:href=\"#DejaVuSans-97\"/>\n      <use x=\"241.308594\" xlink:href=\"#DejaVuSans-99\"/>\n      <use x=\"296.289062\" xlink:href=\"#DejaVuSans-99\"/>\n     </g>\n    </g>\n   </g>\n  </g>\n  <g id=\"axes_2\">\n   <g id=\"patch_8\">\n    <path d=\"M 42.828125 354.958125 \nL 712.428125 354.958125 \nL 712.428125 203.758125 \nL 42.828125 203.758125 \nz\n\" style=\"fill:#ffffff;\"/>\n   </g>\n   <g id=\"matplotlib.axis_3\">\n    <g id=\"xtick_7\">\n     <g id=\"line2d_20\">\n      <g>\n       <use style=\"stroke:#000000;stroke-width:0.8;\" x=\"73.264489\" xlink:href=\"#mbf8b4c1f91\" y=\"354.958125\"/>\n      </g>\n     </g>\n     <g id=\"text_17\">\n      <!-- 0 -->\n      <g transform=\"translate(70.083239 369.556562)scale(0.1 -0.1)\">\n       <use xlink:href=\"#DejaVuSans-48\"/>\n      </g>\n     </g>\n    </g>\n    <g id=\"xtick_8\">\n     <g id=\"line2d_21\">\n      <g>\n       <use style=\"stroke:#000000;stroke-width:0.8;\" x=\"196.239695\" xlink:href=\"#mbf8b4c1f91\" y=\"354.958125\"/>\n      </g>\n     </g>\n     <g id=\"text_18\">\n      <!-- 20 -->\n      <g transform=\"translate(189.877195 369.556562)scale(0.1 -0.1)\">\n       <use xlink:href=\"#DejaVuSans-50\"/>\n       <use x=\"63.623047\" xlink:href=\"#DejaVuSans-48\"/>\n      </g>\n     </g>\n    </g>\n    <g id=\"xtick_9\">\n     <g id=\"line2d_22\">\n      <g>\n       <use style=\"stroke:#000000;stroke-width:0.8;\" x=\"319.214902\" xlink:href=\"#mbf8b4c1f91\" y=\"354.958125\"/>\n      </g>\n     </g>\n     <g id=\"text_19\">\n      <!-- 40 -->\n      <g transform=\"translate(312.852402 369.556562)scale(0.1 -0.1)\">\n       <use xlink:href=\"#DejaVuSans-52\"/>\n       <use x=\"63.623047\" xlink:href=\"#DejaVuSans-48\"/>\n      </g>\n     </g>\n    </g>\n    <g id=\"xtick_10\">\n     <g id=\"line2d_23\">\n      <g>\n       <use style=\"stroke:#000000;stroke-width:0.8;\" x=\"442.190108\" xlink:href=\"#mbf8b4c1f91\" y=\"354.958125\"/>\n      </g>\n     </g>\n     <g id=\"text_20\">\n      <!-- 60 -->\n      <g transform=\"translate(435.827608 369.556562)scale(0.1 -0.1)\">\n       <use xlink:href=\"#DejaVuSans-54\"/>\n       <use x=\"63.623047\" xlink:href=\"#DejaVuSans-48\"/>\n      </g>\n     </g>\n    </g>\n    <g id=\"xtick_11\">\n     <g id=\"line2d_24\">\n      <g>\n       <use style=\"stroke:#000000;stroke-width:0.8;\" x=\"565.165315\" xlink:href=\"#mbf8b4c1f91\" y=\"354.958125\"/>\n      </g>\n     </g>\n     <g id=\"text_21\">\n      <!-- 80 -->\n      <g transform=\"translate(558.802815 369.556562)scale(0.1 -0.1)\">\n       <use xlink:href=\"#DejaVuSans-56\"/>\n       <use x=\"63.623047\" xlink:href=\"#DejaVuSans-48\"/>\n      </g>\n     </g>\n    </g>\n    <g id=\"xtick_12\">\n     <g id=\"line2d_25\">\n      <g>\n       <use style=\"stroke:#000000;stroke-width:0.8;\" x=\"688.140522\" xlink:href=\"#mbf8b4c1f91\" y=\"354.958125\"/>\n      </g>\n     </g>\n     <g id=\"text_22\">\n      <!-- 100 -->\n      <g transform=\"translate(678.596772 369.556562)scale(0.1 -0.1)\">\n       <use xlink:href=\"#DejaVuSans-49\"/>\n       <use x=\"63.623047\" xlink:href=\"#DejaVuSans-48\"/>\n       <use x=\"127.246094\" xlink:href=\"#DejaVuSans-48\"/>\n      </g>\n     </g>\n    </g>\n   </g>\n   <g id=\"matplotlib.axis_4\">\n    <g id=\"ytick_8\">\n     <g id=\"line2d_26\">\n      <g>\n       <use style=\"stroke:#000000;stroke-width:0.8;\" x=\"42.828125\" xlink:href=\"#m2cfd241d00\" y=\"352.612984\"/>\n      </g>\n     </g>\n     <g id=\"text_23\">\n      <!-- 0.0 -->\n      <g transform=\"translate(19.925 356.412203)scale(0.1 -0.1)\">\n       <use xlink:href=\"#DejaVuSans-48\"/>\n       <use x=\"63.623047\" xlink:href=\"#DejaVuSans-46\"/>\n       <use x=\"95.410156\" xlink:href=\"#DejaVuSans-48\"/>\n      </g>\n     </g>\n    </g>\n    <g id=\"ytick_9\">\n     <g id=\"line2d_27\">\n      <g>\n       <use style=\"stroke:#000000;stroke-width:0.8;\" x=\"42.828125\" xlink:href=\"#m2cfd241d00\" y=\"322.24321\"/>\n      </g>\n     </g>\n     <g id=\"text_24\">\n      <!-- 0.1 -->\n      <g transform=\"translate(19.925 326.042429)scale(0.1 -0.1)\">\n       <use xlink:href=\"#DejaVuSans-48\"/>\n       <use x=\"63.623047\" xlink:href=\"#DejaVuSans-46\"/>\n       <use x=\"95.410156\" xlink:href=\"#DejaVuSans-49\"/>\n      </g>\n     </g>\n    </g>\n    <g id=\"ytick_10\">\n     <g id=\"line2d_28\">\n      <g>\n       <use style=\"stroke:#000000;stroke-width:0.8;\" x=\"42.828125\" xlink:href=\"#m2cfd241d00\" y=\"291.873436\"/>\n      </g>\n     </g>\n     <g id=\"text_25\">\n      <!-- 0.2 -->\n      <g transform=\"translate(19.925 295.672655)scale(0.1 -0.1)\">\n       <use xlink:href=\"#DejaVuSans-48\"/>\n       <use x=\"63.623047\" xlink:href=\"#DejaVuSans-46\"/>\n       <use x=\"95.410156\" xlink:href=\"#DejaVuSans-50\"/>\n      </g>\n     </g>\n    </g>\n    <g id=\"ytick_11\">\n     <g id=\"line2d_29\">\n      <g>\n       <use style=\"stroke:#000000;stroke-width:0.8;\" x=\"42.828125\" xlink:href=\"#m2cfd241d00\" y=\"261.503663\"/>\n      </g>\n     </g>\n     <g id=\"text_26\">\n      <!-- 0.3 -->\n      <g transform=\"translate(19.925 265.302882)scale(0.1 -0.1)\">\n       <defs>\n        <path d=\"M 40.578125 39.3125 \nQ 47.65625 37.796875 51.625 33 \nQ 55.609375 28.21875 55.609375 21.1875 \nQ 55.609375 10.40625 48.1875 4.484375 \nQ 40.765625 -1.421875 27.09375 -1.421875 \nQ 22.515625 -1.421875 17.65625 -0.515625 \nQ 12.796875 0.390625 7.625 2.203125 \nL 7.625 11.71875 \nQ 11.71875 9.328125 16.59375 8.109375 \nQ 21.484375 6.890625 26.8125 6.890625 \nQ 36.078125 6.890625 40.9375 10.546875 \nQ 45.796875 14.203125 45.796875 21.1875 \nQ 45.796875 27.640625 41.28125 31.265625 \nQ 36.765625 34.90625 28.71875 34.90625 \nL 20.21875 34.90625 \nL 20.21875 43.015625 \nL 29.109375 43.015625 \nQ 36.375 43.015625 40.234375 45.921875 \nQ 44.09375 48.828125 44.09375 54.296875 \nQ 44.09375 59.90625 40.109375 62.90625 \nQ 36.140625 65.921875 28.71875 65.921875 \nQ 24.65625 65.921875 20.015625 65.03125 \nQ 15.375 64.15625 9.8125 62.3125 \nL 9.8125 71.09375 \nQ 15.4375 72.65625 20.34375 73.4375 \nQ 25.25 74.21875 29.59375 74.21875 \nQ 40.828125 74.21875 47.359375 69.109375 \nQ 53.90625 64.015625 53.90625 55.328125 \nQ 53.90625 49.265625 50.4375 45.09375 \nQ 46.96875 40.921875 40.578125 39.3125 \nz\n\" id=\"DejaVuSans-51\"/>\n       </defs>\n       <use xlink:href=\"#DejaVuSans-48\"/>\n       <use x=\"63.623047\" xlink:href=\"#DejaVuSans-46\"/>\n       <use x=\"95.410156\" xlink:href=\"#DejaVuSans-51\"/>\n      </g>\n     </g>\n    </g>\n    <g id=\"ytick_12\">\n     <g id=\"line2d_30\">\n      <g>\n       <use style=\"stroke:#000000;stroke-width:0.8;\" x=\"42.828125\" xlink:href=\"#m2cfd241d00\" y=\"231.133889\"/>\n      </g>\n     </g>\n     <g id=\"text_27\">\n      <!-- 0.4 -->\n      <g transform=\"translate(19.925 234.933108)scale(0.1 -0.1)\">\n       <use xlink:href=\"#DejaVuSans-48\"/>\n       <use x=\"63.623047\" xlink:href=\"#DejaVuSans-46\"/>\n       <use x=\"95.410156\" xlink:href=\"#DejaVuSans-52\"/>\n      </g>\n     </g>\n    </g>\n   </g>\n   <g id=\"line2d_31\">\n    <path clip-path=\"url(#p28f7d9fa9f)\" d=\"M 73.264489 210.630852 \nL 79.413249 293.790316 \nL 85.562009 313.228441 \nL 91.71077 314.286848 \nL 97.85953 325.271756 \nL 104.00829 324.685011 \nL 110.157051 329.999049 \nL 116.305811 331.933802 \nL 122.454571 328.33858 \nL 128.603332 331.762686 \nL 134.752092 333.075401 \nL 140.900852 334.444262 \nL 147.049613 335.914767 \nL 153.198373 332.086837 \nL 159.347133 336.831503 \nL 165.495894 335.079248 \nL 171.644654 336.462289 \nL 177.793414 331.211344 \nL 183.942175 329.110913 \nL 190.090935 333.973909 \nL 196.239695 327.978682 \nL 202.388456 338.210456 \nL 208.537216 337.33758 \nL 214.685976 339.538918 \nL 220.834737 340.347795 \nL 226.983497 338.436669 \nL 233.132257 337.234607 \nL 239.281018 341.838112 \nL 245.429778 343.022063 \nL 251.578538 341.091453 \nL 257.727299 338.298229 \nL 263.876059 343.132448 \nL 270.024819 341.542367 \nL 276.17358 341.912964 \nL 282.32234 339.597035 \nL 288.4711 340.908293 \nL 294.619861 344.203469 \nL 300.768621 341.459836 \nL 306.917381 340.340072 \nL 313.066142 341.197929 \nL 319.214902 333.583921 \nL 325.363662 340.459214 \nL 331.512423 344.617741 \nL 337.661183 344.898305 \nL 343.809943 344.008721 \nL 349.958704 343.634426 \nL 356.107464 341.216925 \nL 362.256224 338.693128 \nL 368.404985 344.018446 \nL 374.553745 344.936855 \nL 380.702505 344.432371 \nL 386.851265 342.288057 \nL 393.000026 343.108785 \nL 399.148786 344.773808 \nL 405.297546 345.411812 \nL 411.446307 343.989516 \nL 417.595067 343.698483 \nL 423.743827 342.240102 \nL 429.892588 340.751681 \nL 436.041348 344.834143 \nL 442.190108 344.457658 \nL 448.338869 345.906597 \nL 454.487629 346.29475 \nL 460.636389 345.896117 \nL 466.78515 344.918539 \nL 472.93391 344.388352 \nL 479.08267 346.951926 \nL 485.231431 342.768369 \nL 491.380191 345.251004 \nL 497.528951 343.201573 \nL 503.677712 330.867113 \nL 509.826472 337.467835 \nL 515.975232 343.087641 \nL 522.123993 345.010138 \nL 528.272753 344.922059 \nL 534.421513 346.089095 \nL 540.570274 345.673505 \nL 546.719034 343.928228 \nL 552.867794 344.770055 \nL 559.016555 347.632855 \nL 565.165315 346.918359 \nL 571.314075 345.302015 \nL 577.462836 346.412132 \nL 583.611596 344.709245 \nL 589.760356 346.166222 \nL 595.909117 346.968224 \nL 602.057877 347.738306 \nL 608.206637 345.563418 \nL 614.355398 343.320583 \nL 620.504158 338.587065 \nL 626.652918 346.330413 \nL 632.801679 346.610769 \nL 638.950439 346.394715 \nL 645.099199 347.60236 \nL 651.24796 346.381567 \nL 657.39672 342.789271 \nL 663.54548 348.085398 \nL 669.694241 347.274302 \nL 675.843001 346.638403 \nL 681.991761 341.628797 \n\" style=\"fill:none;stroke:#ff0000;stroke-linecap:square;stroke-width:1.5;\"/>\n   </g>\n   <g id=\"line2d_32\">\n    <path clip-path=\"url(#p28f7d9fa9f)\" d=\"M 73.264489 236.082113 \nL 79.413249 314.438333 \nL 85.562009 315.518304 \nL 91.71077 314.893317 \nL 97.85953 324.896186 \nL 104.00829 326.386932 \nL 110.157051 328.123786 \nL 116.305811 326.319908 \nL 122.454571 330.02714 \nL 128.603332 334.800852 \nL 134.752092 331.082206 \nL 140.900852 332.194756 \nL 147.049613 337.398368 \nL 153.198373 326.644933 \nL 159.347133 332.257184 \nL 165.495894 332.80082 \nL 171.644654 331.103661 \nL 177.793414 325.856369 \nL 183.942175 333.944949 \nL 190.090935 331.70062 \nL 196.239695 331.014098 \nL 202.388456 328.641713 \nL 208.537216 330.722079 \nL 214.685976 332.507233 \nL 220.834737 328.996444 \nL 226.983497 284.729535 \nL 233.132257 328.336057 \nL 239.281018 328.752047 \nL 245.429778 333.902282 \nL 251.578538 327.590462 \nL 257.727299 330.237399 \nL 263.876059 321.870817 \nL 270.024819 322.004146 \nL 276.17358 324.36992 \nL 282.32234 327.639884 \nL 288.4711 321.774799 \nL 294.619861 324.043499 \nL 300.768621 326.643315 \nL 306.917381 322.777572 \nL 313.066142 319.868408 \nL 319.214902 320.053707 \nL 325.363662 330.767314 \nL 331.512423 328.642943 \nL 337.661183 329.430324 \nL 343.809943 322.643402 \nL 349.958704 324.12159 \nL 356.107464 327.835282 \nL 362.256224 329.112074 \nL 368.404985 330.827812 \nL 374.553745 325.598801 \nL 380.702505 328.585977 \nL 386.851265 327.598063 \nL 393.000026 329.70064 \nL 399.148786 320.292725 \nL 405.297546 308.856065 \nL 411.446307 317.591155 \nL 417.595067 318.485865 \nL 423.743827 320.463964 \nL 429.892588 329.107954 \nL 436.041348 317.0427 \nL 442.190108 329.722736 \nL 448.338869 329.181644 \nL 454.487629 305.388349 \nL 460.636389 309.2739 \nL 466.78515 316.821161 \nL 472.93391 323.481044 \nL 479.08267 321.662357 \nL 485.231431 322.446341 \nL 491.380191 322.412163 \nL 497.528951 314.720975 \nL 503.677712 326.623901 \nL 509.826472 325.698833 \nL 515.975232 319.39591 \nL 522.123993 328.109545 \nL 528.272753 322.754877 \nL 534.421513 315.999733 \nL 540.570274 321.985619 \nL 546.719034 320.543673 \nL 552.867794 323.913523 \nL 559.016555 315.672715 \nL 565.165315 316.600595 \nL 571.314075 329.811222 \nL 577.462836 307.242747 \nL 583.611596 317.987717 \nL 589.760356 312.48161 \nL 595.909117 298.245014 \nL 602.057877 308.047521 \nL 608.206637 319.548167 \nL 614.355398 279.091287 \nL 620.504158 291.837033 \nL 626.652918 302.254535 \nL 632.801679 308.532717 \nL 638.950439 314.949462 \nL 645.099199 291.966673 \nL 651.24796 306.317048 \nL 657.39672 312.021544 \nL 663.54548 294.003243 \nL 669.694241 305.710398 \nL 675.843001 302.420035 \nL 681.991761 326.148432 \n\" style=\"fill:none;stroke:#0000ff;stroke-linecap:square;stroke-width:1.5;\"/>\n   </g>\n   <g id=\"patch_9\">\n    <path d=\"M 42.828125 354.958125 \nL 42.828125 203.758125 \n\" style=\"fill:none;stroke:#000000;stroke-linecap:square;stroke-linejoin:miter;stroke-width:0.8;\"/>\n   </g>\n   <g id=\"patch_10\">\n    <path d=\"M 712.428125 354.958125 \nL 712.428125 203.758125 \n\" style=\"fill:none;stroke:#000000;stroke-linecap:square;stroke-linejoin:miter;stroke-width:0.8;\"/>\n   </g>\n   <g id=\"patch_11\">\n    <path d=\"M 42.828125 354.958125 \nL 712.428125 354.958125 \n\" style=\"fill:none;stroke:#000000;stroke-linecap:square;stroke-linejoin:miter;stroke-width:0.8;\"/>\n   </g>\n   <g id=\"patch_12\">\n    <path d=\"M 42.828125 203.758125 \nL 712.428125 203.758125 \n\" style=\"fill:none;stroke:#000000;stroke-linecap:square;stroke-linejoin:miter;stroke-width:0.8;\"/>\n   </g>\n   <g id=\"text_28\">\n    <!-- Train and Validation Loss -->\n    <g transform=\"translate(303.437187 197.758125)scale(0.12 -0.12)\">\n     <defs>\n      <path d=\"M 9.8125 72.90625 \nL 19.671875 72.90625 \nL 19.671875 8.296875 \nL 55.171875 8.296875 \nL 55.171875 0 \nL 9.8125 0 \nz\n\" id=\"DejaVuSans-76\"/>\n      <path d=\"M 44.28125 53.078125 \nL 44.28125 44.578125 \nQ 40.484375 46.53125 36.375 47.5 \nQ 32.28125 48.484375 27.875 48.484375 \nQ 21.1875 48.484375 17.84375 46.4375 \nQ 14.5 44.390625 14.5 40.28125 \nQ 14.5 37.15625 16.890625 35.375 \nQ 19.28125 33.59375 26.515625 31.984375 \nL 29.59375 31.296875 \nQ 39.15625 29.25 43.1875 25.515625 \nQ 47.21875 21.78125 47.21875 15.09375 \nQ 47.21875 7.46875 41.1875 3.015625 \nQ 35.15625 -1.421875 24.609375 -1.421875 \nQ 20.21875 -1.421875 15.453125 -0.5625 \nQ 10.6875 0.296875 5.421875 2 \nL 5.421875 11.28125 \nQ 10.40625 8.6875 15.234375 7.390625 \nQ 20.0625 6.109375 24.8125 6.109375 \nQ 31.15625 6.109375 34.5625 8.28125 \nQ 37.984375 10.453125 37.984375 14.40625 \nQ 37.984375 18.0625 35.515625 20.015625 \nQ 33.0625 21.96875 24.703125 23.78125 \nL 21.578125 24.515625 \nQ 13.234375 26.265625 9.515625 29.90625 \nQ 5.8125 33.546875 5.8125 39.890625 \nQ 5.8125 47.609375 11.28125 51.796875 \nQ 16.75 56 26.8125 56 \nQ 31.78125 56 36.171875 55.265625 \nQ 40.578125 54.546875 44.28125 53.078125 \nz\n\" id=\"DejaVuSans-115\"/>\n     </defs>\n     <use xlink:href=\"#DejaVuSans-84\"/>\n     <use x=\"46.333984\" xlink:href=\"#DejaVuSans-114\"/>\n     <use x=\"87.447266\" xlink:href=\"#DejaVuSans-97\"/>\n     <use x=\"148.726562\" xlink:href=\"#DejaVuSans-105\"/>\n     <use x=\"176.509766\" xlink:href=\"#DejaVuSans-110\"/>\n     <use x=\"239.888672\" xlink:href=\"#DejaVuSans-32\"/>\n     <use x=\"271.675781\" xlink:href=\"#DejaVuSans-97\"/>\n     <use x=\"332.955078\" xlink:href=\"#DejaVuSans-110\"/>\n     <use x=\"396.333984\" xlink:href=\"#DejaVuSans-100\"/>\n     <use x=\"459.810547\" xlink:href=\"#DejaVuSans-32\"/>\n     <use x=\"491.597656\" xlink:href=\"#DejaVuSans-86\"/>\n     <use x=\"552.255859\" xlink:href=\"#DejaVuSans-97\"/>\n     <use x=\"613.535156\" xlink:href=\"#DejaVuSans-108\"/>\n     <use x=\"641.318359\" xlink:href=\"#DejaVuSans-105\"/>\n     <use x=\"669.101562\" xlink:href=\"#DejaVuSans-100\"/>\n     <use x=\"732.578125\" xlink:href=\"#DejaVuSans-97\"/>\n     <use x=\"793.857422\" xlink:href=\"#DejaVuSans-116\"/>\n     <use x=\"833.066406\" xlink:href=\"#DejaVuSans-105\"/>\n     <use x=\"860.849609\" xlink:href=\"#DejaVuSans-111\"/>\n     <use x=\"922.03125\" xlink:href=\"#DejaVuSans-110\"/>\n     <use x=\"985.410156\" xlink:href=\"#DejaVuSans-32\"/>\n     <use x=\"1017.197266\" xlink:href=\"#DejaVuSans-76\"/>\n     <use x=\"1071.160156\" xlink:href=\"#DejaVuSans-111\"/>\n     <use x=\"1132.341797\" xlink:href=\"#DejaVuSans-115\"/>\n     <use x=\"1184.441406\" xlink:href=\"#DejaVuSans-115\"/>\n    </g>\n   </g>\n   <g id=\"legend_2\">\n    <g id=\"patch_13\">\n     <path d=\"M 627.659375 241.114375 \nL 705.428125 241.114375 \nQ 707.428125 241.114375 707.428125 239.114375 \nL 707.428125 210.758125 \nQ 707.428125 208.758125 705.428125 208.758125 \nL 627.659375 208.758125 \nQ 625.659375 208.758125 625.659375 210.758125 \nL 625.659375 239.114375 \nQ 625.659375 241.114375 627.659375 241.114375 \nz\n\" style=\"fill:#ffffff;opacity:0.8;stroke:#cccccc;stroke-linejoin:miter;\"/>\n    </g>\n    <g id=\"line2d_33\">\n     <path d=\"M 629.659375 216.856563 \nL 649.659375 216.856563 \n\" style=\"fill:none;stroke:#ff0000;stroke-linecap:square;stroke-width:1.5;\"/>\n    </g>\n    <g id=\"line2d_34\"/>\n    <g id=\"text_29\">\n     <!-- train loss -->\n     <g transform=\"translate(657.659375 220.356563)scale(0.1 -0.1)\">\n      <use xlink:href=\"#DejaVuSans-116\"/>\n      <use x=\"39.208984\" xlink:href=\"#DejaVuSans-114\"/>\n      <use x=\"80.322266\" xlink:href=\"#DejaVuSans-97\"/>\n      <use x=\"141.601562\" xlink:href=\"#DejaVuSans-105\"/>\n      <use x=\"169.384766\" xlink:href=\"#DejaVuSans-110\"/>\n      <use x=\"232.763672\" xlink:href=\"#DejaVuSans-32\"/>\n      <use x=\"264.550781\" xlink:href=\"#DejaVuSans-108\"/>\n      <use x=\"292.333984\" xlink:href=\"#DejaVuSans-111\"/>\n      <use x=\"353.515625\" xlink:href=\"#DejaVuSans-115\"/>\n      <use x=\"405.615234\" xlink:href=\"#DejaVuSans-115\"/>\n     </g>\n    </g>\n    <g id=\"line2d_35\">\n     <path d=\"M 629.659375 231.534688 \nL 649.659375 231.534688 \n\" style=\"fill:none;stroke:#0000ff;stroke-linecap:square;stroke-width:1.5;\"/>\n    </g>\n    <g id=\"line2d_36\"/>\n    <g id=\"text_30\">\n     <!-- val loss -->\n     <g transform=\"translate(657.659375 235.034688)scale(0.1 -0.1)\">\n      <use xlink:href=\"#DejaVuSans-118\"/>\n      <use x=\"59.179688\" xlink:href=\"#DejaVuSans-97\"/>\n      <use x=\"120.458984\" xlink:href=\"#DejaVuSans-108\"/>\n      <use x=\"148.242188\" xlink:href=\"#DejaVuSans-32\"/>\n      <use x=\"180.029297\" xlink:href=\"#DejaVuSans-108\"/>\n      <use x=\"207.8125\" xlink:href=\"#DejaVuSans-111\"/>\n      <use x=\"268.994141\" xlink:href=\"#DejaVuSans-115\"/>\n      <use x=\"321.09375\" xlink:href=\"#DejaVuSans-115\"/>\n     </g>\n    </g>\n   </g>\n  </g>\n </g>\n <defs>\n  <clipPath id=\"p81c9a7d8dc\">\n   <rect height=\"151.2\" width=\"669.6\" x=\"42.828125\" y=\"22.318125\"/>\n  </clipPath>\n  <clipPath id=\"p28f7d9fa9f\">\n   <rect height=\"151.2\" width=\"669.6\" x=\"42.828125\" y=\"203.758125\"/>\n  </clipPath>\n </defs>\n</svg>\n",
      "image/png": "[encoded data removed]"
     },
     "metadata": {}
    }
   ],
   "source": [
    "acc = history.history['accuracy']\n",
    "val_acc = history.history['val_accuracy']\n",
    "loss = history.history['loss']\n",
    "val_loss = history.history['val_loss']\n",
    "\n",
    "plt.figure(figsize=(12, 6), dpi=100)\n",
    "plt.subplot(2,1,1)\n",
    "plt.plot(acc, 'r', label='train acc')\n",
    "plt.plot(val_acc, 'b', label='val acc')\n",
    "plt.title('Train and Validation Accuracy')\n",
    "plt.legend()\n",
    "\n",
    "plt.subplot(2,1,2)\n",
    "plt.plot(loss, 'r', label='train loss')\n",
    "plt.plot(val_loss, 'b', label='val loss')\n",
    "plt.title('Train and Validation Loss')\n",
    "plt.legend()\n",
    "\n",
    "plt.show()"
   ]
  },
  {
   "cell_type": "code",
   "execution_count": 40,
   "metadata": {},
   "outputs": [
    {
     "output_type": "stream",
     "name": "stdout",
     "text": [
      "53/53 [==============================] - 0s 2ms/step\n"
     ]
    }
   ],
   "source": [
    "pred = ann_model.predict(x_test)\n",
    "pred = np.argmax(pred,axis=1)"
   ]
  },
  {
   "cell_type": "code",
   "execution_count": 41,
   "metadata": {},
   "outputs": [
    {
     "output_type": "stream",
     "name": "stdout",
     "text": [
      "              precision    recall  f1-score   support\n\n           0    0.95192   0.95884   0.95537       413\n           1    0.97859   0.99348   0.98598       460\n           2    0.94737   0.93103   0.93913        58\n           3    0.99543   0.98048   0.98790       666\n           4    0.90909   0.94340   0.92593        53\n           5    1.00000   0.94118   0.96970        17\n\n    accuracy                        0.97540      1667\n   macro avg    0.96373   0.95807   0.96067      1667\nweighted avg    0.97563   0.97540   0.97546      1667\n\n"
     ]
    }
   ],
   "source": [
    "print(classification_report(y_test, pred, digits=5))"
   ]
  },
  {
   "source": [
    "## CNN\n",
    "training a CNN using user's profile photos"
   ],
   "cell_type": "markdown",
   "metadata": {}
  },
  {
   "cell_type": "code",
   "execution_count": 4,
   "metadata": {},
   "outputs": [],
   "source": [
    "faces_base = \"../new batch profile pics/\""
   ]
  },
  {
   "cell_type": "code",
   "execution_count": 5,
   "metadata": {},
   "outputs": [],
   "source": [
    "# get all image pathnames from base\n",
    "# list to store files\n",
    "res = []\n",
    "res2 = []\n",
    "\n",
    "# Iterate directory\n",
    "for path in os.listdir(faces_base):\n",
    "    # check if current path is a file\n",
    "    if os.path.isfile(os.path.join(faces_base, path)):\n",
    "        res.append(faces_base + path)\n",
    "        res2.append(path)"
   ]
  },
  {
   "source": [
    "### Pre trained CNN: InceptionV3"
   ],
   "cell_type": "markdown",
   "metadata": {}
  },
  {
   "cell_type": "code",
   "execution_count": 6,
   "metadata": {
    "tags": []
   },
   "outputs": [
    {
     "output_type": "stream",
     "name": "stdout",
     "text": [
      "none\n",
      "none\n",
      "none\n",
      "none\n",
      "none\n",
      "none\n",
      "none\n",
      "none\n",
      "none\n",
      "none\n",
      "libpng warning: iCCP: profile 'icc': 'RGB ': RGB color space not permitted on grayscale PNG\n",
      "none\n",
      "none\n",
      "none\n",
      "none\n",
      "libpng warning: iCCP: profile 'icc': 'RGB ': RGB color space not permitted on grayscale PNG\n",
      "none\n",
      "none\n",
      "libpng warning: iCCP: known incorrect sRGB profile\n",
      "none\n",
      "none\n",
      "none\n",
      "none\n",
      "none\n"
     ]
    }
   ],
   "source": [
    "train_img_dict2 = {}\n",
    "test_img_dict2 = {}\n",
    "train_img2 = []\n",
    "test_img2 = []\n",
    "for i in range(len(res)):\n",
    "    pic = res[i]\n",
    "    id_name = re.match(r\"[^\\/\\\\]+(?=\\.png|\\.jpg)\", res2[i]).group(0)\n",
    "    try:\n",
    "        img = cv2.imread(pic)\n",
    "        if img is None:\n",
    "            print(\"none\")\n",
    "            continue\n",
    "        img = cv2.resize(img, (75, 75))\n",
    "        if int(id_name) in list(train_df['id']):\n",
    "            train_img_dict2[int(id_name)] = img \n",
    "            train_img2.append(img)\n",
    "        elif int(id_name) in list(test_df['id']):\n",
    "            test_img_dict2[int(id_name)] = img\n",
    "            test_img2.append(img)\n",
    "        #img.close()\n",
    "    except Exception as e:\n",
    "        print(e)"
   ]
  },
  {
   "cell_type": "code",
   "execution_count": 7,
   "metadata": {},
   "outputs": [],
   "source": [
    "train_img_df2 = pd.DataFrame(train_img_dict2.items(), columns = ['id', 'img'])  \n",
    "test_img_df2 = pd.DataFrame(test_img_dict2.items(), columns = ['id', 'img'])  \n",
    "train_df_with_img2 = pd.merge(train_img_df2, train_df, on='id')\n",
    "test_df_with_img2 = pd.merge(test_img_df2, test_df, on='id')"
   ]
  },
  {
   "cell_type": "code",
   "execution_count": 8,
   "metadata": {},
   "outputs": [
    {
     "output_type": "stream",
     "name": "stderr",
     "text": [
      "2022-11-13 21:36:07.743057: I tensorflow/core/platform/cpu_feature_guard.cc:193] This TensorFlow binary is optimized with oneAPI Deep Neural Network Library (oneDNN) to use the following CPU instructions in performance-critical operations:  AVX2 FMA\nTo enable them in other operations, rebuild TensorFlow with the appropriate compiler flags.\n"
     ]
    }
   ],
   "source": [
    "base_model = InceptionV3(input_shape = (75, 75, 3), include_top = False, weights = 'imagenet')\n",
    "\n",
    "for layer in base_model.layers:\n",
    "    layer.trainable = False\n",
    "x = Flatten()(base_model.output)\n",
    "x = Dense(70, activation='relu')(x)\n",
    "x = Dropout(0.5)(x)\n",
    "x = Dense(6, activation='softmax')(x)\n",
    "model = Model(base_model.input, x)\n",
    "# configure the model\n",
    "model.compile(optimizer='adam',\n",
    "                    loss='sparse_categorical_crossentropy',\n",
    "                    metrics=['accuracy'])"
   ]
  },
  {
   "cell_type": "code",
   "execution_count": 9,
   "metadata": {},
   "outputs": [],
   "source": [
    "x_train2, x_val2, y_train2, y_val2 = train_test_split(np.array(train_img2) / 255.0, train_df_with_img2['account_type_multi'], test_size=0.15)"
   ]
  },
  {
   "cell_type": "code",
   "execution_count": 10,
   "metadata": {},
   "outputs": [
    {
     "output_type": "stream",
     "name": "stdout",
     "text": [
      "Epoch 1/100\n",
      "401/401 [==============================] - 94s 194ms/step - loss: 1.2926 - accuracy: 0.4468 - val_loss: 1.1150 - val_accuracy: 0.5095\n",
      "Epoch 2/100\n",
      "401/401 [==============================] - 75s 187ms/step - loss: 1.1433 - accuracy: 0.5117 - val_loss: 1.0774 - val_accuracy: 0.5350\n",
      "Epoch 3/100\n",
      "401/401 [==============================] - 65s 163ms/step - loss: 1.0892 - accuracy: 0.5289 - val_loss: 1.0589 - val_accuracy: 0.5399\n",
      "Epoch 4/100\n",
      "401/401 [==============================] - 60s 151ms/step - loss: 1.0404 - accuracy: 0.5490 - val_loss: 1.0397 - val_accuracy: 0.5463\n",
      "Epoch 5/100\n",
      "401/401 [==============================] - 45s 112ms/step - loss: 0.9998 - accuracy: 0.5728 - val_loss: 1.0414 - val_accuracy: 0.5449\n",
      "Epoch 6/100\n",
      "401/401 [==============================] - 33s 82ms/step - loss: 0.9652 - accuracy: 0.5929 - val_loss: 1.0578 - val_accuracy: 0.5456\n",
      "Epoch 7/100\n",
      "401/401 [==============================] - 34s 84ms/step - loss: 0.9355 - accuracy: 0.6124 - val_loss: 1.0521 - val_accuracy: 0.5590\n",
      "Epoch 8/100\n",
      "401/401 [==============================] - 33s 83ms/step - loss: 0.8970 - accuracy: 0.6230 - val_loss: 1.0487 - val_accuracy: 0.5654\n",
      "Epoch 9/100\n",
      "401/401 [==============================] - 33s 83ms/step - loss: 0.8712 - accuracy: 0.6269 - val_loss: 1.0208 - val_accuracy: 0.5703\n",
      "Epoch 10/100\n",
      "401/401 [==============================] - 33s 82ms/step - loss: 0.8291 - accuracy: 0.6479 - val_loss: 1.0463 - val_accuracy: 0.5668\n",
      "Epoch 11/100\n",
      "401/401 [==============================] - 35s 88ms/step - loss: 0.7961 - accuracy: 0.6633 - val_loss: 1.0697 - val_accuracy: 0.5633\n",
      "Epoch 12/100\n",
      "401/401 [==============================] - 34s 85ms/step - loss: 0.7738 - accuracy: 0.6741 - val_loss: 1.0690 - val_accuracy: 0.5703\n",
      "Epoch 13/100\n",
      "401/401 [==============================] - 33s 83ms/step - loss: 0.7383 - accuracy: 0.6875 - val_loss: 1.1139 - val_accuracy: 0.5753\n",
      "Epoch 14/100\n",
      "401/401 [==============================] - 35s 88ms/step - loss: 0.7248 - accuracy: 0.6880 - val_loss: 1.1043 - val_accuracy: 0.5746\n",
      "Epoch 15/100\n",
      "401/401 [==============================] - 35s 88ms/step - loss: 0.7085 - accuracy: 0.6947 - val_loss: 1.1293 - val_accuracy: 0.5696\n",
      "Epoch 16/100\n",
      "401/401 [==============================] - 34s 84ms/step - loss: 0.6831 - accuracy: 0.7105 - val_loss: 1.1568 - val_accuracy: 0.5625\n",
      "Epoch 17/100\n",
      "401/401 [==============================] - 34s 84ms/step - loss: 0.6665 - accuracy: 0.7070 - val_loss: 1.1554 - val_accuracy: 0.5717\n",
      "Epoch 18/100\n",
      "401/401 [==============================] - 33s 83ms/step - loss: 0.6363 - accuracy: 0.7250 - val_loss: 1.1635 - val_accuracy: 0.5739\n",
      "Epoch 19/100\n",
      "401/401 [==============================] - 34s 84ms/step - loss: 0.6198 - accuracy: 0.7360 - val_loss: 1.2269 - val_accuracy: 0.5731\n",
      "Epoch 20/100\n",
      "401/401 [==============================] - 33s 83ms/step - loss: 0.5963 - accuracy: 0.7364 - val_loss: 1.2149 - val_accuracy: 0.5816\n",
      "Epoch 21/100\n",
      "401/401 [==============================] - 35s 86ms/step - loss: 0.5802 - accuracy: 0.7441 - val_loss: 1.2857 - val_accuracy: 0.5859\n",
      "Epoch 22/100\n",
      "401/401 [==============================] - 37s 93ms/step - loss: 0.5660 - accuracy: 0.7563 - val_loss: 1.3420 - val_accuracy: 0.5795\n",
      "Epoch 23/100\n",
      "401/401 [==============================] - 38s 94ms/step - loss: 0.5457 - accuracy: 0.7616 - val_loss: 1.2797 - val_accuracy: 0.5816\n",
      "Epoch 24/100\n",
      "401/401 [==============================] - 37s 92ms/step - loss: 0.5423 - accuracy: 0.7672 - val_loss: 1.3359 - val_accuracy: 0.5781\n",
      "Epoch 25/100\n",
      "401/401 [==============================] - 36s 91ms/step - loss: 0.5252 - accuracy: 0.7718 - val_loss: 1.3674 - val_accuracy: 0.5830\n",
      "Epoch 26/100\n",
      "401/401 [==============================] - 38s 95ms/step - loss: 0.5174 - accuracy: 0.7697 - val_loss: 1.3598 - val_accuracy: 0.5887\n",
      "Epoch 27/100\n",
      "401/401 [==============================] - 37s 92ms/step - loss: 0.5106 - accuracy: 0.7760 - val_loss: 1.3960 - val_accuracy: 0.5880\n",
      "Epoch 28/100\n",
      "401/401 [==============================] - 38s 93ms/step - loss: 0.5045 - accuracy: 0.7707 - val_loss: 1.4558 - val_accuracy: 0.5845\n",
      "Epoch 29/100\n",
      "401/401 [==============================] - 35s 88ms/step - loss: 0.4889 - accuracy: 0.7812 - val_loss: 1.4816 - val_accuracy: 0.5845\n",
      "Epoch 30/100\n",
      "401/401 [==============================] - 40s 100ms/step - loss: 0.4876 - accuracy: 0.7795 - val_loss: 1.5387 - val_accuracy: 0.5901\n",
      "Epoch 31/100\n",
      "401/401 [==============================] - 41s 101ms/step - loss: 0.4685 - accuracy: 0.7915 - val_loss: 1.5146 - val_accuracy: 0.5929\n",
      "Epoch 32/100\n",
      "401/401 [==============================] - 40s 100ms/step - loss: 0.4547 - accuracy: 0.7950 - val_loss: 1.5496 - val_accuracy: 0.5845\n",
      "Epoch 33/100\n",
      "401/401 [==============================] - 39s 98ms/step - loss: 0.4690 - accuracy: 0.7875 - val_loss: 1.5331 - val_accuracy: 0.5774\n",
      "Epoch 34/100\n",
      "401/401 [==============================] - 38s 95ms/step - loss: 0.4472 - accuracy: 0.8040 - val_loss: 1.5976 - val_accuracy: 0.5731\n",
      "Epoch 35/100\n",
      "401/401 [==============================] - 34s 85ms/step - loss: 0.4509 - accuracy: 0.7958 - val_loss: 1.5597 - val_accuracy: 0.5724\n",
      "Epoch 36/100\n",
      "401/401 [==============================] - 36s 89ms/step - loss: 0.4441 - accuracy: 0.7980 - val_loss: 1.6843 - val_accuracy: 0.5880\n",
      "Epoch 37/100\n",
      "401/401 [==============================] - 36s 89ms/step - loss: 0.4238 - accuracy: 0.8109 - val_loss: 1.7320 - val_accuracy: 0.5866\n",
      "Epoch 38/100\n",
      "401/401 [==============================] - 35s 86ms/step - loss: 0.4341 - accuracy: 0.8044 - val_loss: 1.6670 - val_accuracy: 0.5816\n",
      "Epoch 39/100\n",
      "401/401 [==============================] - 34s 86ms/step - loss: 0.4177 - accuracy: 0.8094 - val_loss: 1.7475 - val_accuracy: 0.5908\n",
      "Epoch 40/100\n",
      "401/401 [==============================] - 36s 90ms/step - loss: 0.4164 - accuracy: 0.8094 - val_loss: 1.6883 - val_accuracy: 0.5852\n",
      "Epoch 41/100\n",
      "401/401 [==============================] - 36s 90ms/step - loss: 0.4152 - accuracy: 0.8105 - val_loss: 1.8834 - val_accuracy: 0.5767\n",
      "Epoch 42/100\n",
      "401/401 [==============================] - 35s 88ms/step - loss: 0.4155 - accuracy: 0.8137 - val_loss: 1.7596 - val_accuracy: 0.5802\n",
      "Epoch 43/100\n",
      "401/401 [==============================] - 35s 87ms/step - loss: 0.3988 - accuracy: 0.8153 - val_loss: 1.7868 - val_accuracy: 0.5809\n",
      "Epoch 44/100\n",
      "401/401 [==============================] - 37s 91ms/step - loss: 0.4043 - accuracy: 0.8196 - val_loss: 1.9436 - val_accuracy: 0.5887\n",
      "Epoch 45/100\n",
      "401/401 [==============================] - 36s 89ms/step - loss: 0.4001 - accuracy: 0.8248 - val_loss: 1.8439 - val_accuracy: 0.5894\n",
      "Epoch 46/100\n",
      "401/401 [==============================] - 36s 90ms/step - loss: 0.3884 - accuracy: 0.8202 - val_loss: 1.9710 - val_accuracy: 0.5887\n"
     ]
    }
   ],
   "source": [
    "es_callback = keras.callbacks.EarlyStopping(monitor='val_accuracy', patience=15)\n",
    "inc_history = model.fit(x_train2, y_train2, epochs=100, batch_size=20, validation_data=(x_val2, y_val2), callbacks = es_callback)"
   ]
  },
  {
   "cell_type": "code",
   "execution_count": 11,
   "metadata": {},
   "outputs": [
    {
     "output_type": "stream",
     "name": "stdout",
     "text": [
      "Train loss: 0.12508568167686462 / Train accuracy: 0.9568309187889099\n"
     ]
    }
   ],
   "source": [
    "score = model.evaluate(x_train2, y_train2, verbose=0)\n",
    "print(f'Train loss: {score[0]} / Train accuracy: {score[1]}')"
   ]
  },
  {
   "cell_type": "code",
   "execution_count": 14,
   "metadata": {},
   "outputs": [
    {
     "output_type": "stream",
     "name": "stdout",
     "text": [
      "Test loss: 2.0648679733276367 / Test accuracy: 0.5932611227035522\n"
     ]
    }
   ],
   "source": [
    "score = model.evaluate(np.array(test_img2) / 255.0, test_df_with_img2['account_type_multi'], verbose=0)\n",
    "print(f'Test loss: {score[0]} / Test accuracy: {score[1]}')"
   ]
  },
  {
   "cell_type": "code",
   "execution_count": 25,
   "metadata": {},
   "outputs": [
    {
     "output_type": "stream",
     "name": "stdout",
     "text": [
      "52/52 [==============================] - 6s 117ms/step\n"
     ]
    }
   ],
   "source": [
    "pred = model.predict(np.array(test_img2) / 255.0)\n",
    "pred = np.argmax(pred,axis=1)"
   ]
  },
  {
   "cell_type": "code",
   "execution_count": 29,
   "metadata": {},
   "outputs": [
    {
     "output_type": "stream",
     "name": "stdout",
     "text": [
      "              precision    recall  f1-score   support\n\n           0    0.44811   0.46117   0.45455       412\n           1    0.50713   0.54130   0.52366       460\n           2    0.27273   0.05357   0.08955        56\n           3    0.73521   0.78378   0.75872       666\n           4    0.60000   0.11765   0.19672        51\n           5    1.00000   0.94118   0.96970        17\n\n    accuracy                        0.59326      1662\n   macro avg    0.59386   0.48311   0.49882      1662\nweighted avg    0.58389   0.59326   0.58062      1662\n\n"
     ]
    }
   ],
   "source": [
    "print(classification_report(test_df_with_img2['account_type_multi'], pred, digits=5))"
   ]
  },
  {
   "source": [
    "### Self-train CNN"
   ],
   "cell_type": "markdown",
   "metadata": {}
  },
  {
   "cell_type": "code",
   "execution_count": 44,
   "metadata": {},
   "outputs": [
    {
     "output_type": "stream",
     "name": "stdout",
     "text": [
      "none\n",
      "none\n",
      "none\n",
      "none\n",
      "none\n",
      "none\n",
      "none\n",
      "none\n",
      "none\n",
      "none\n",
      "libpng warning: iCCP: profile 'icc': 'RGB ': RGB color space not permitted on grayscale PNG\n",
      "none\n",
      "none\n",
      "none\n",
      "none\n",
      "libpng warning: iCCP: profile 'icc': 'RGB ': RGB color space not permitted on grayscale PNG\n",
      "none\n",
      "none\n",
      "libpng warning: iCCP: known incorrect sRGB profile\n",
      "none\n",
      "none\n",
      "none\n",
      "none\n",
      "none\n"
     ]
    }
   ],
   "source": [
    "train_img_dict = {}\n",
    "test_img_dict = {}\n",
    "train_img = []\n",
    "test_img = []\n",
    "for i in range(len(res)):\n",
    "    pic = res[i]\n",
    "    id_name = re.match(r\"[^\\/\\\\]+(?=\\.png|\\.jpg)\", res2[i]).group(0)\n",
    "    try:\n",
    "        img = cv2.imread(pic)\n",
    "        if img is None:\n",
    "            print(\"none\")\n",
    "            continue\n",
    "        if int(id_name) in list(train_df['id']):\n",
    "            train_img_dict[int(id_name)] = img \n",
    "            train_img.append(img)\n",
    "        elif int(id_name) in list(test_df['id']):\n",
    "            test_img_dict[int(id_name)] = img\n",
    "            test_img.append(img)\n",
    "        #img.close()\n",
    "    except Exception as e:\n",
    "        print(e)"
   ]
  },
  {
   "cell_type": "code",
   "execution_count": 348,
   "metadata": {},
   "outputs": [
    {
     "output_type": "execute_result",
     "data": {
      "text/plain": [
       "9430"
      ]
     },
     "metadata": {},
     "execution_count": 348
    }
   ],
   "source": [
    "len(train_img_dict)"
   ]
  },
  {
   "cell_type": "code",
   "execution_count": 45,
   "metadata": {},
   "outputs": [],
   "source": [
    "train_img_df = pd.DataFrame(train_img_dict.items(), columns = ['id', 'img'])  \n",
    "test_img_df = pd.DataFrame(test_img_dict.items(), columns = ['id', 'img'])  \n",
    "train_df_with_img = pd.merge(train_img_df, train_df, on='id')\n",
    "test_df_with_img = pd.merge(test_img_df, test_df, on='id')"
   ]
  },
  {
   "cell_type": "code",
   "execution_count": 383,
   "metadata": {},
   "outputs": [],
   "source": [
    "kernel_size = (3, 3)\n",
    "stride_size = (1, 1)\n",
    "filters = [4, 8, 16]\n",
    "\n",
    "cnn_model = Sequential()\n",
    "cnn_model.add(Input(shape=(48, 48, 3)))\n",
    "for f in filters:\n",
    "    cnn_model.add(Conv2D(f, kernel_size, strides=stride_size, activation='relu'))\n",
    "    cnn_model.add(Dropout(0.1))\n",
    "    cnn_model.add(Conv2D(f, kernel_size, strides=stride_size, activation='relu'))\n",
    "    cnn_model.add(BatchNormalization(axis = -1))\n",
    "    cnn_model.add(MaxPooling2D(pool_size=(2, 2)))\n",
    "\n",
    "cnn_model.add(Flatten())\n",
    "cnn_model.add(Dense(100, activation='relu'))\n",
    "cnn_model.add(Dropout(0.3))\n",
    "cnn_model.add(Dense(100, activation='relu'))\n",
    "cnn_model.add(Dropout(0.3))\n",
    "cnn_model.add(Dense(100, activation='relu'))\n",
    "cnn_model.add(Dense(6, activation='softmax'))\n",
    "# configure the model\n",
    "cnn_model.compile(optimizer='adam',\n",
    "                    loss='sparse_categorical_crossentropy',\n",
    "                    metrics=['accuracy'])"
   ]
  },
  {
   "cell_type": "code",
   "execution_count": 431,
   "metadata": {},
   "outputs": [],
   "source": [
    "kernel_size = (3, 3)\n",
    "stride_size = (1, 1)\n",
    "filters = [4, 10, 24]\n",
    "\n",
    "cnn_model = Sequential()\n",
    "cnn_model.add(Input(shape=(48, 48, 3)))\n",
    "for f in filters:\n",
    "    cnn_model.add(Conv2D(f, kernel_size, strides=stride_size, activation='relu', kernel_regularizer=l2(0.01), bias_regularizer=l2(0.01)))\n",
    "    cnn_model.add(Conv2D(f, kernel_size, strides=stride_size, activation='relu', kernel_regularizer=l2(0.01), bias_regularizer=l2(0.01)))\n",
    "    cnn_model.add(BatchNormalization(axis = -1))\n",
    "    cnn_model.add(MaxPooling2D(pool_size=(2, 2)))\n",
    "\n",
    "cnn_model.add(Flatten())\n",
    "cnn_model.add(Dense(100, activation='relu'))\n",
    "cnn_model.add(Dropout(0.1))\n",
    "\n",
    "cnn_model.add(Dense(100, activation='relu'))\n",
    "cnn_model.add(Dropout(0.1))\n",
    "cnn_model.add(Dense(100, activation='relu'))\n",
    "\n",
    "cnn_model.add(Dense(6, activation='softmax'))\n",
    "# configure the model\n",
    "cnn_model.compile(optimizer='adam',\n",
    "                    loss='sparse_categorical_crossentropy',\n",
    "                    metrics=['accuracy'])"
   ]
  },
  {
   "cell_type": "code",
   "execution_count": 432,
   "metadata": {},
   "outputs": [],
   "source": [
    "x_train, x_val, y_train, y_val = train_test_split(np.array(train_img) / 255.0, train_df_with_img['account_type_multi'], test_size=0.15)"
   ]
  },
  {
   "cell_type": "code",
   "execution_count": 433,
   "metadata": {},
   "outputs": [
    {
     "output_type": "stream",
     "name": "stdout",
     "text": [
      "Epoch 1/100\n",
      "401/401 [==============================] - 17s 38ms/step - loss: 1.7331 - accuracy: 0.4354 - val_loss: 1.8124 - val_accuracy: 0.3880\n",
      "Epoch 2/100\n",
      "401/401 [==============================] - 14s 35ms/step - loss: 1.5007 - accuracy: 0.4770 - val_loss: 1.4975 - val_accuracy: 0.4353\n",
      "Epoch 3/100\n",
      "401/401 [==============================] - 14s 36ms/step - loss: 1.3867 - accuracy: 0.4957 - val_loss: 1.3613 - val_accuracy: 0.4890\n",
      "Epoch 4/100\n",
      "401/401 [==============================] - 14s 36ms/step - loss: 1.3133 - accuracy: 0.4987 - val_loss: 1.3241 - val_accuracy: 0.4905\n",
      "Epoch 5/100\n",
      "401/401 [==============================] - 14s 35ms/step - loss: 1.2707 - accuracy: 0.5154 - val_loss: 1.2847 - val_accuracy: 0.4883\n",
      "Epoch 6/100\n",
      "401/401 [==============================] - 14s 36ms/step - loss: 1.2424 - accuracy: 0.5188 - val_loss: 1.2548 - val_accuracy: 0.5088\n",
      "Epoch 7/100\n",
      "401/401 [==============================] - 14s 36ms/step - loss: 1.2212 - accuracy: 0.5279 - val_loss: 1.2828 - val_accuracy: 0.4488\n",
      "Epoch 8/100\n",
      "401/401 [==============================] - 14s 35ms/step - loss: 1.2001 - accuracy: 0.5346 - val_loss: 1.4448 - val_accuracy: 0.4078\n",
      "Epoch 9/100\n",
      "401/401 [==============================] - 14s 35ms/step - loss: 1.1866 - accuracy: 0.5364 - val_loss: 1.2377 - val_accuracy: 0.4898\n",
      "Epoch 10/100\n",
      "401/401 [==============================] - 14s 35ms/step - loss: 1.1793 - accuracy: 0.5411 - val_loss: 1.2753 - val_accuracy: 0.4848\n",
      "Epoch 11/100\n",
      "401/401 [==============================] - 14s 35ms/step - loss: 1.1614 - accuracy: 0.5429 - val_loss: 1.2598 - val_accuracy: 0.4742\n",
      "Epoch 12/100\n",
      "401/401 [==============================] - 14s 35ms/step - loss: 1.1459 - accuracy: 0.5607 - val_loss: 1.2861 - val_accuracy: 0.4862\n",
      "Epoch 13/100\n",
      "401/401 [==============================] - 14s 35ms/step - loss: 1.1459 - accuracy: 0.5566 - val_loss: 1.3325 - val_accuracy: 0.4332\n",
      "Epoch 14/100\n",
      "401/401 [==============================] - 14s 35ms/step - loss: 1.1342 - accuracy: 0.5691 - val_loss: 1.2330 - val_accuracy: 0.5166\n",
      "Epoch 15/100\n",
      "401/401 [==============================] - 14s 35ms/step - loss: 1.1194 - accuracy: 0.5797 - val_loss: 1.2363 - val_accuracy: 0.5095\n",
      "Epoch 16/100\n",
      "401/401 [==============================] - 14s 35ms/step - loss: 1.1121 - accuracy: 0.5774 - val_loss: 1.2344 - val_accuracy: 0.4989\n",
      "Epoch 17/100\n",
      "401/401 [==============================] - 14s 35ms/step - loss: 1.1119 - accuracy: 0.5774 - val_loss: 1.2458 - val_accuracy: 0.4975\n",
      "Epoch 18/100\n",
      "401/401 [==============================] - 14s 35ms/step - loss: 1.0896 - accuracy: 0.5939 - val_loss: 1.3051 - val_accuracy: 0.4643\n",
      "Epoch 19/100\n",
      "401/401 [==============================] - 14s 34ms/step - loss: 1.0983 - accuracy: 0.5857 - val_loss: 1.3260 - val_accuracy: 0.4799\n",
      "Epoch 20/100\n",
      "401/401 [==============================] - 14s 34ms/step - loss: 1.0795 - accuracy: 0.6062 - val_loss: 1.2950 - val_accuracy: 0.5011\n",
      "Epoch 21/100\n",
      "401/401 [==============================] - 14s 36ms/step - loss: 1.0704 - accuracy: 0.6029 - val_loss: 1.3045 - val_accuracy: 0.4975\n",
      "Epoch 22/100\n",
      "401/401 [==============================] - 16s 39ms/step - loss: 1.0701 - accuracy: 0.6055 - val_loss: 1.2420 - val_accuracy: 0.5322\n",
      "Epoch 23/100\n",
      "401/401 [==============================] - 15s 37ms/step - loss: 1.0488 - accuracy: 0.6205 - val_loss: 1.2347 - val_accuracy: 0.5371\n",
      "Epoch 24/100\n",
      "401/401 [==============================] - 15s 37ms/step - loss: 1.0627 - accuracy: 0.6180 - val_loss: 1.3592 - val_accuracy: 0.4975\n",
      "Epoch 25/100\n",
      "401/401 [==============================] - 16s 39ms/step - loss: 1.0360 - accuracy: 0.6293 - val_loss: 1.2786 - val_accuracy: 0.5293\n",
      "Epoch 26/100\n",
      "401/401 [==============================] - 17s 41ms/step - loss: 1.0178 - accuracy: 0.6353 - val_loss: 1.2800 - val_accuracy: 0.5293\n",
      "Epoch 27/100\n",
      "401/401 [==============================] - 16s 40ms/step - loss: 1.0052 - accuracy: 0.6478 - val_loss: 1.3054 - val_accuracy: 0.5223\n",
      "Epoch 28/100\n",
      "401/401 [==============================] - 17s 43ms/step - loss: 0.9979 - accuracy: 0.6445 - val_loss: 1.5256 - val_accuracy: 0.4989\n",
      "Epoch 29/100\n",
      "401/401 [==============================] - 15s 38ms/step - loss: 0.9975 - accuracy: 0.6505 - val_loss: 1.3173 - val_accuracy: 0.5166\n",
      "Epoch 30/100\n",
      "401/401 [==============================] - 16s 39ms/step - loss: 0.9842 - accuracy: 0.6580 - val_loss: 1.3415 - val_accuracy: 0.5088\n",
      "Epoch 31/100\n",
      "401/401 [==============================] - 15s 37ms/step - loss: 0.9712 - accuracy: 0.6685 - val_loss: 1.4797 - val_accuracy: 0.5265\n",
      "Epoch 32/100\n",
      "401/401 [==============================] - 15s 37ms/step - loss: 0.9505 - accuracy: 0.6711 - val_loss: 1.3227 - val_accuracy: 0.5336\n",
      "Epoch 33/100\n",
      "401/401 [==============================] - 14s 36ms/step - loss: 0.9536 - accuracy: 0.6759 - val_loss: 1.3770 - val_accuracy: 0.5265\n",
      "Epoch 34/100\n",
      "401/401 [==============================] - 15s 37ms/step - loss: 0.9324 - accuracy: 0.6825 - val_loss: 1.3860 - val_accuracy: 0.5145\n",
      "Epoch 35/100\n",
      "401/401 [==============================] - 14s 35ms/step - loss: 0.9163 - accuracy: 0.6967 - val_loss: 1.4192 - val_accuracy: 0.5463\n",
      "Epoch 36/100\n",
      "401/401 [==============================] - 14s 35ms/step - loss: 0.9065 - accuracy: 0.7001 - val_loss: 1.4519 - val_accuracy: 0.5314\n",
      "Epoch 37/100\n",
      "401/401 [==============================] - 14s 35ms/step - loss: 0.9144 - accuracy: 0.6967 - val_loss: 1.4608 - val_accuracy: 0.5314\n",
      "Epoch 38/100\n",
      "401/401 [==============================] - 15s 38ms/step - loss: 0.8919 - accuracy: 0.7104 - val_loss: 1.3783 - val_accuracy: 0.5463\n",
      "Epoch 39/100\n",
      "401/401 [==============================] - 16s 39ms/step - loss: 0.8854 - accuracy: 0.7168 - val_loss: 1.4634 - val_accuracy: 0.5251\n",
      "Epoch 40/100\n",
      "401/401 [==============================] - 14s 36ms/step - loss: 0.8953 - accuracy: 0.7103 - val_loss: 1.4096 - val_accuracy: 0.5399\n",
      "Epoch 41/100\n",
      "401/401 [==============================] - 14s 35ms/step - loss: 0.8502 - accuracy: 0.7315 - val_loss: 1.4791 - val_accuracy: 0.5329\n",
      "Epoch 42/100\n",
      "401/401 [==============================] - 14s 34ms/step - loss: 0.8683 - accuracy: 0.7249 - val_loss: 1.4815 - val_accuracy: 0.5307\n",
      "Epoch 43/100\n",
      "401/401 [==============================] - 14s 36ms/step - loss: 0.8561 - accuracy: 0.7324 - val_loss: 1.4587 - val_accuracy: 0.5420\n",
      "Epoch 44/100\n",
      "401/401 [==============================] - 18s 45ms/step - loss: 0.8459 - accuracy: 0.7397 - val_loss: 1.5132 - val_accuracy: 0.5300\n",
      "Epoch 45/100\n",
      "401/401 [==============================] - 15s 37ms/step - loss: 0.8461 - accuracy: 0.7367 - val_loss: 1.5220 - val_accuracy: 0.5343\n",
      "Epoch 46/100\n",
      "401/401 [==============================] - 14s 35ms/step - loss: 0.8486 - accuracy: 0.7405 - val_loss: 1.4241 - val_accuracy: 0.5498\n",
      "Epoch 47/100\n",
      "401/401 [==============================] - 14s 36ms/step - loss: 0.8190 - accuracy: 0.7470 - val_loss: 1.6051 - val_accuracy: 0.5201\n",
      "Epoch 48/100\n",
      "401/401 [==============================] - 15s 37ms/step - loss: 0.8144 - accuracy: 0.7538 - val_loss: 1.5669 - val_accuracy: 0.5159\n",
      "Epoch 49/100\n",
      "401/401 [==============================] - 14s 35ms/step - loss: 0.8163 - accuracy: 0.7508 - val_loss: 1.4834 - val_accuracy: 0.5293\n",
      "Epoch 50/100\n",
      "401/401 [==============================] - 14s 35ms/step - loss: 0.7932 - accuracy: 0.7659 - val_loss: 1.5493 - val_accuracy: 0.5322\n",
      "Epoch 51/100\n",
      "401/401 [==============================] - 14s 34ms/step - loss: 0.8041 - accuracy: 0.7626 - val_loss: 1.4918 - val_accuracy: 0.5272\n",
      "Epoch 52/100\n",
      "401/401 [==============================] - 14s 36ms/step - loss: 0.8007 - accuracy: 0.7623 - val_loss: 1.5731 - val_accuracy: 0.5293\n",
      "Epoch 53/100\n",
      "401/401 [==============================] - 16s 39ms/step - loss: 0.7859 - accuracy: 0.7734 - val_loss: 1.6062 - val_accuracy: 0.5470\n",
      "Epoch 54/100\n",
      "401/401 [==============================] - 15s 38ms/step - loss: 0.7833 - accuracy: 0.7658 - val_loss: 1.6941 - val_accuracy: 0.5314\n",
      "Epoch 55/100\n",
      "401/401 [==============================] - 15s 38ms/step - loss: 0.7868 - accuracy: 0.7734 - val_loss: 1.7301 - val_accuracy: 0.5329\n",
      "Epoch 56/100\n",
      "401/401 [==============================] - 15s 37ms/step - loss: 0.7812 - accuracy: 0.7760 - val_loss: 1.6373 - val_accuracy: 0.5300\n",
      "Epoch 57/100\n",
      "401/401 [==============================] - 15s 38ms/step - loss: 0.7838 - accuracy: 0.7797 - val_loss: 1.6616 - val_accuracy: 0.5180\n",
      "Epoch 58/100\n",
      "401/401 [==============================] - 16s 40ms/step - loss: 0.7741 - accuracy: 0.7837 - val_loss: 1.6247 - val_accuracy: 0.5216\n",
      "Epoch 59/100\n",
      "401/401 [==============================] - 16s 40ms/step - loss: 0.7595 - accuracy: 0.7868 - val_loss: 1.9254 - val_accuracy: 0.4876\n",
      "Epoch 60/100\n",
      "401/401 [==============================] - 15s 37ms/step - loss: 0.7577 - accuracy: 0.7853 - val_loss: 1.6997 - val_accuracy: 0.5032\n",
      "Epoch 61/100\n",
      "401/401 [==============================] - 19s 48ms/step - loss: 0.7442 - accuracy: 0.7938 - val_loss: 1.6526 - val_accuracy: 0.5343\n"
     ]
    }
   ],
   "source": [
    "es_callback = keras.callbacks.EarlyStopping(monitor='val_accuracy', patience=15)\n",
    "history = cnn_model.fit(x_train, y_train, epochs=100, batch_size=20, validation_data=(x_val, y_val), callbacks = es_callback)"
   ]
  },
  {
   "cell_type": "code",
   "execution_count": 434,
   "metadata": {},
   "outputs": [
    {
     "output_type": "stream",
     "name": "stdout",
     "text": [
      "Train loss: 0.653897225856781 / Train accuracy: 0.8326886892318726\n"
     ]
    }
   ],
   "source": [
    "score = cnn_model.evaluate(x_train, y_train, verbose=0)\n",
    "print(f'Train loss: {score[0]} / Train accuracy: {score[1]}')"
   ]
  },
  {
   "cell_type": "code",
   "execution_count": 435,
   "metadata": {},
   "outputs": [
    {
     "output_type": "stream",
     "name": "stdout",
     "text": [
      "Test loss: 1.6942102909088135 / Test accuracy: 0.5391095280647278\n"
     ]
    }
   ],
   "source": [
    "score = cnn_model.evaluate(np.array(test_img) / 255.0, test_df_with_img['account_type_multi'], verbose=0)\n",
    "print(f'Test loss: {score[0]} / Test accuracy: {score[1]}')"
   ]
  },
  {
   "source": [
    "## ANN + CNN\n",
    "train a neural network that combines categorical/numerical attributes with images"
   ],
   "cell_type": "markdown",
   "metadata": {}
  },
  {
   "cell_type": "code",
   "execution_count": 90,
   "metadata": {},
   "outputs": [],
   "source": [
    "x_train, y_train = train_df_with_img2.drop(to_drop, axis=1), train_df_with_img2['account_type_multi']\n",
    "x_test, y_test = test_df_with_img2.drop(to_drop, axis=1), test_df_with_img2['account_type_multi']"
   ]
  },
  {
   "cell_type": "code",
   "execution_count": 91,
   "metadata": {},
   "outputs": [],
   "source": [
    "x_train, x_val, y_train, y_val = train_test_split(x_train, y_train, test_size=0.15)"
   ]
  },
  {
   "cell_type": "code",
   "execution_count": 114,
   "metadata": {},
   "outputs": [],
   "source": [
    "x_train_img, x_train_attr = np.stack(x_train['img']) / 255.0, x_train.drop('img', axis=1)\n",
    "x_val_img, x_val_attr = np.stack(x_val['img']) / 255.0, x_val.drop('img', axis=1)\n",
    "x_test_img, x_test_attr = np.stack(x_test['img']) / 255.0, x_test.drop('img', axis=1)"
   ]
  },
  {
   "source": [
    "def create_ann():\n",
    "    ann_model = Sequential()\n",
    "    ann_model.add(Dense(100, activation = 'relu', input_dim = 220))\n",
    "    ann_model.add(Dense(100, activation='relu')) \n",
    "    ann_model.add(Dense(100, activation='relu')) \n",
    "    ann_model.add(Dense(100, activation='relu')) \n",
    "    ann_model.add(Dense(100, activation='relu')) \n",
    "    ann_model.add(Dense(100, activation='relu'))\n",
    "    ann_model.add(Dense(50, activation='relu')) \n",
    "    return ann_model"
   ],
   "cell_type": "code",
   "metadata": {},
   "execution_count": 119,
   "outputs": []
  },
  {
   "cell_type": "code",
   "execution_count": 118,
   "metadata": {},
   "outputs": [],
   "source": [
    "def create_cnn():    \n",
    "    base_model = InceptionV3(input_shape = (75, 75, 3), include_top = False, weights = 'imagenet')\n",
    "\n",
    "    for layer in base_model.layers:\n",
    "        layer.trainable = False\n",
    "    x = Flatten()(base_model.output)\n",
    "    x = Dense(70, activation='relu')(x)\n",
    "    x = Dropout(0.5)(x)\n",
    "    x = Dense(50, activation='softmax')(x)\n",
    "    cnn_model = Model(base_model.input, x)\n",
    "    return cnn_model"
   ]
  },
  {
   "cell_type": "code",
   "execution_count": 126,
   "metadata": {},
   "outputs": [],
   "source": [
    "ann_model = create_ann()\n",
    "cnn_model = create_cnn()\n",
    "combined_input = concatenate([ann_model.output, cnn_model.output])\n",
    "x = Dense(50, activation=\"relu\")(combined_input)\n",
    "x = Dense(6, activation=\"softmax\")(x)\n",
    "combined_model = Model(inputs=[ann_model.input, cnn_model.input], outputs=x)\n",
    "combined_model.compile(optimizer='adam',\n",
    "                    loss='sparse_categorical_crossentropy',\n",
    "                    metrics=['accuracy'])"
   ]
  },
  {
   "cell_type": "code",
   "execution_count": 127,
   "metadata": {},
   "outputs": [
    {
     "output_type": "stream",
     "name": "stdout",
     "text": [
      "Epoch 1/100\n",
      "401/401 [==============================] - 43s 92ms/step - loss: 0.4707 - accuracy: 0.8500 - val_loss: 0.1949 - val_accuracy: 0.9286\n",
      "Epoch 2/100\n",
      "401/401 [==============================] - 34s 85ms/step - loss: 0.1951 - accuracy: 0.9410 - val_loss: 0.1779 - val_accuracy: 0.9477\n",
      "Epoch 3/100\n",
      "401/401 [==============================] - 35s 87ms/step - loss: 0.1668 - accuracy: 0.9541 - val_loss: 0.2211 - val_accuracy: 0.9562\n",
      "Epoch 4/100\n",
      "401/401 [==============================] - 35s 86ms/step - loss: 0.1268 - accuracy: 0.9667 - val_loss: 0.0923 - val_accuracy: 0.9731\n",
      "Epoch 5/100\n",
      "401/401 [==============================] - 39s 96ms/step - loss: 0.0905 - accuracy: 0.9752 - val_loss: 0.1274 - val_accuracy: 0.9604\n",
      "Epoch 6/100\n",
      "401/401 [==============================] - 37s 92ms/step - loss: 0.0734 - accuracy: 0.9790 - val_loss: 0.1175 - val_accuracy: 0.9647\n",
      "Epoch 7/100\n",
      "401/401 [==============================] - 41s 102ms/step - loss: 0.0739 - accuracy: 0.9814 - val_loss: 0.0946 - val_accuracy: 0.9746\n",
      "Epoch 8/100\n",
      "401/401 [==============================] - 42s 105ms/step - loss: 0.0709 - accuracy: 0.9813 - val_loss: 0.0846 - val_accuracy: 0.9767\n",
      "Epoch 9/100\n",
      "401/401 [==============================] - 39s 97ms/step - loss: 0.0676 - accuracy: 0.9818 - val_loss: 0.0840 - val_accuracy: 0.9774\n",
      "Epoch 10/100\n",
      "401/401 [==============================] - 33s 83ms/step - loss: 0.0559 - accuracy: 0.9847 - val_loss: 0.0639 - val_accuracy: 0.9802\n",
      "Epoch 11/100\n",
      "401/401 [==============================] - 33s 82ms/step - loss: 0.0516 - accuracy: 0.9860 - val_loss: 0.1332 - val_accuracy: 0.9640\n",
      "Epoch 12/100\n",
      "401/401 [==============================] - 33s 83ms/step - loss: 0.0560 - accuracy: 0.9834 - val_loss: 0.0721 - val_accuracy: 0.9830\n",
      "Epoch 13/100\n",
      "401/401 [==============================] - 33s 83ms/step - loss: 0.0531 - accuracy: 0.9860 - val_loss: 0.1364 - val_accuracy: 0.9703\n",
      "Epoch 14/100\n",
      "401/401 [==============================] - 33s 82ms/step - loss: 0.0457 - accuracy: 0.9883 - val_loss: 0.0836 - val_accuracy: 0.9781\n",
      "Epoch 15/100\n",
      "401/401 [==============================] - 34s 84ms/step - loss: 0.0647 - accuracy: 0.9833 - val_loss: 0.1019 - val_accuracy: 0.9710\n",
      "Epoch 16/100\n",
      "401/401 [==============================] - 33s 82ms/step - loss: 0.0781 - accuracy: 0.9748 - val_loss: 0.1716 - val_accuracy: 0.9767\n",
      "Epoch 17/100\n",
      "401/401 [==============================] - 35s 87ms/step - loss: 0.0755 - accuracy: 0.9817 - val_loss: 0.1333 - val_accuracy: 0.9534\n",
      "Epoch 18/100\n",
      "401/401 [==============================] - 34s 86ms/step - loss: 0.0589 - accuracy: 0.9844 - val_loss: 0.0737 - val_accuracy: 0.9816\n",
      "Epoch 19/100\n",
      "401/401 [==============================] - 33s 84ms/step - loss: 0.0493 - accuracy: 0.9869 - val_loss: 0.0924 - val_accuracy: 0.9760\n",
      "Epoch 20/100\n",
      "401/401 [==============================] - 33s 82ms/step - loss: 0.0376 - accuracy: 0.9906 - val_loss: 0.1196 - val_accuracy: 0.9739\n",
      "Epoch 21/100\n",
      "401/401 [==============================] - 33s 83ms/step - loss: 0.0399 - accuracy: 0.9881 - val_loss: 0.1058 - val_accuracy: 0.9788\n",
      "Epoch 22/100\n",
      "401/401 [==============================] - 33s 83ms/step - loss: 0.0422 - accuracy: 0.9890 - val_loss: 0.0738 - val_accuracy: 0.9823\n",
      "Epoch 23/100\n",
      "401/401 [==============================] - 33s 83ms/step - loss: 0.0460 - accuracy: 0.9869 - val_loss: 0.1313 - val_accuracy: 0.9696\n",
      "Epoch 24/100\n",
      "401/401 [==============================] - 34s 85ms/step - loss: 0.0341 - accuracy: 0.9908 - val_loss: 0.0785 - val_accuracy: 0.9774\n",
      "Epoch 25/100\n",
      "401/401 [==============================] - 38s 95ms/step - loss: 0.0375 - accuracy: 0.9896 - val_loss: 0.0776 - val_accuracy: 0.9809\n",
      "Epoch 26/100\n",
      "401/401 [==============================] - 36s 89ms/step - loss: 0.0355 - accuracy: 0.9908 - val_loss: 0.1217 - val_accuracy: 0.9753\n",
      "Epoch 27/100\n",
      "401/401 [==============================] - 35s 88ms/step - loss: 0.0401 - accuracy: 0.9879 - val_loss: 0.1700 - val_accuracy: 0.9569\n"
     ]
    },
    {
     "output_type": "execute_result",
     "data": {
      "text/plain": [
       "<keras.callbacks.History at 0x7fcf2ac701c0>"
      ]
     },
     "metadata": {},
     "execution_count": 127
    }
   ],
   "source": [
    "es_callback = keras.callbacks.EarlyStopping(monitor='val_accuracy', patience=15)\n",
    "combined_model.fit(\n",
    "\tx=[x_train_attr, x_train_img], y=y_train,\n",
    "\tvalidation_data=([x_val_attr, x_val_img], y_val),\n",
    "\tepochs=100, batch_size=20, callbacks=es_callback)"
   ]
  },
  {
   "cell_type": "code",
   "execution_count": 128,
   "metadata": {},
   "outputs": [
    {
     "output_type": "stream",
     "name": "stdout",
     "text": [
      "Train loss: 0.09133722633123398 / Train accuracy: 0.9699313640594482\n"
     ]
    }
   ],
   "source": [
    "score = combined_model.evaluate([x_train_attr, x_train_img], y_train, verbose=0)\n",
    "print(f'Train loss: {score[0]} / Train accuracy: {score[1]}')"
   ]
  },
  {
   "cell_type": "code",
   "execution_count": 132,
   "metadata": {},
   "outputs": [
    {
     "output_type": "stream",
     "name": "stdout",
     "text": [
      "Test loss: 0.22793838381767273 / Test accuracy: 0.9584837555885315\n"
     ]
    }
   ],
   "source": [
    "score = combined_model.evaluate([x_test_attr, x_test_img], y_test, verbose=0)\n",
    "print(f'Test loss: {score[0]} / Test accuracy: {score[1]}')"
   ]
  },
  {
   "cell_type": "code",
   "execution_count": 133,
   "metadata": {},
   "outputs": [
    {
     "output_type": "stream",
     "name": "stdout",
     "text": [
      "52/52 [==============================] - 8s 114ms/step\n"
     ]
    }
   ],
   "source": [
    "pred = combined_model.predict([x_test_attr, x_test_img])\n",
    "pred = np.argmax(pred,axis=1)"
   ]
  },
  {
   "cell_type": "code",
   "execution_count": 134,
   "metadata": {},
   "outputs": [
    {
     "output_type": "stream",
     "name": "stdout",
     "text": [
      "              precision    recall  f1-score   support\n\n           0    0.89955   0.97816   0.93721       412\n           1    0.96025   0.99783   0.97868       460\n           2    0.96078   0.87500   0.91589        56\n           3    0.99542   0.97898   0.98713       666\n           4    1.00000   0.27451   0.43077        51\n           5    1.00000   0.94118   0.96970        17\n\n    accuracy                        0.95848      1662\n   macro avg    0.96933   0.84094   0.86990      1662\nweighted avg    0.96094   0.95848   0.95276      1662\n\n"
     ]
    }
   ],
   "source": [
    "print(classification_report(y_test, pred, digits=5))"
   ]
  },
  {
   "cell_type": "code",
   "execution_count": null,
   "metadata": {},
   "outputs": [],
   "source": []
  }
 ]
}