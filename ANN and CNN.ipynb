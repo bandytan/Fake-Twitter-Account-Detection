{
 "cells": [
  {
   "cell_type": "code",
   "execution_count": 1,
   "metadata": {},
   "outputs": [
    {
     "output_type": "stream",
     "name": "stderr",
     "text": [
      "2022-11-14 18:01:18.326660: I tensorflow/core/platform/cpu_feature_guard.cc:193] This TensorFlow binary is optimized with oneAPI Deep Neural Network Library (oneDNN) to use the following CPU instructions in performance-critical operations:  AVX2 FMA\nTo enable them in other operations, rebuild TensorFlow with the appropriate compiler flags.\n"
     ]
    }
   ],
   "source": [
    "import pandas as pd \n",
    "import numpy as np \n",
    "import re\n",
    "import matplotlib.pyplot as plt\n",
    "import keras\n",
    "import tensorflow as tf\n",
    "import cv2\n",
    "import time\n",
    "\n",
    "from sklearn.model_selection import train_test_split\n",
    "from sklearn.preprocessing import MinMaxScaler\n",
    "\n",
    "from sklearn.inspection import permutation_importance\n",
    "from sklearn.metrics import classification_report\n",
    "\n",
    "from tensorflow.keras.layers import concatenate\n",
    "from keras.layers import Conv2D, MaxPooling2D, Input, Flatten, Dense, Dropout, BatchNormalization\n",
    "from keras.models import Sequential, Model\n",
    "from keras.metrics import CategoricalAccuracy\n",
    "from keras.regularizers import l2\n",
    "from tensorflow.keras.applications.inception_v3 import InceptionV3\n",
    "\n",
    "pd.set_option('display.max_columns', None)"
   ]
  },
  {
   "cell_type": "code",
   "execution_count": 68,
   "metadata": {},
   "outputs": [],
   "source": [
    "train_df = pd.read_csv('/twitter_data_train_multiclass.csv')\n",
    "test_df = pd.read_csv('data/twitter_data_test_multiclass.csv')"
   ]
  },
  {
   "cell_type": "code",
   "execution_count": 69,
   "metadata": {},
   "outputs": [],
   "source": [
    "scaler = MinMaxScaler() \n",
    "train_df[['statuses_count', 'favourites_count', 'followers_count', 'friends_count', 'number_of_mentions', 'listed_count', 'number_of_tags']] = scaler.fit_transform(train_df[['statuses_count', 'favourites_count', 'followers_count', 'friends_count', 'number_of_mentions', 'listed_count', 'number_of_tags']])\n",
    "test_df[['statuses_count', 'favourites_count', 'followers_count', 'friends_count', 'number_of_mentions', 'listed_count', 'number_of_tags']] = scaler.transform(test_df[['statuses_count', 'favourites_count', 'followers_count', 'friends_count', 'number_of_mentions', 'listed_count', 'number_of_tags']])"
   ]
  },
  {
   "cell_type": "code",
   "execution_count": null,
   "metadata": {},
   "outputs": [],
   "source": [
    "#ANN subset"
   ]
  },
  {
   "cell_type": "code",
   "execution_count": 71,
   "metadata": {},
   "outputs": [],
   "source": [
    "to_drop = ['Unnamed: 0', 'screen_name', 'url', 'profile_image_url', 'description',\n",
    "           'id', 'name', 'account_type', 'tweets_list', 'tweets_list_processed',\n",
    "          'description_processed', 'protected', 'verified', 'account_type_multi', \n",
    "          'profile_use_background_image', 'profile_background_tile']\n",
    "\n",
    "x_train, y_train = train_df.drop(to_drop, axis=1), train_df['account_type_multi']\n",
    "x_test, y_test = test_df.drop(to_drop, axis=1), test_df['account_type_multi']"
   ]
  },
  {
   "cell_type": "code",
   "execution_count": 72,
   "metadata": {},
   "outputs": [],
   "source": [
    "x_train = x_train.drop(x_train.iloc[:, 8:20].columns, axis=1)\n",
    "x_test = x_test.drop(x_test.iloc[:, 8:20].columns, axis=1)\n",
    "x_train = x_train.drop(x_train.iloc[:, -2:].columns , axis=1)\n",
    "x_test = x_test.drop(x_test.iloc[:, -2:].columns, axis=1)"
   ]
  },
  {
   "cell_type": "code",
   "execution_count": 73,
   "metadata": {},
   "outputs": [
    {
     "output_type": "execute_result",
     "data": {
      "text/plain": [
       "   statuses_count  followers_count  friends_count  favourites_count  \\\n",
       "0        0.000240         0.000019       0.000429          0.000049   \n",
       "1        0.000052         0.000007       0.002113          0.000000   \n",
       "2        0.000060         0.000011       0.002652          0.000000   \n",
       "3        0.000128         0.000006       0.000451          0.000000   \n",
       "4        0.000093         0.000004       0.000396          0.000000   \n",
       "\n",
       "   listed_count  default_profile  default_profile_image  geo_enabled  \\\n",
       "0           0.0              0.0                    0.0          0.0   \n",
       "1           0.0              1.0                    0.0          0.0   \n",
       "2           0.0              1.0                    0.0          0.0   \n",
       "3           0.0              0.0                    0.0          0.0   \n",
       "4           0.0              0.0                    0.0          0.0   \n",
       "\n",
       "   tweets_0  tweets_1  tweets_2  tweets_3  tweets_4  tweets_5  tweets_6  \\\n",
       "0  0.091977  0.034554  0.000000  0.059238  0.000000  0.000000  0.000000   \n",
       "1  0.000000  0.000000  0.000000  0.000000  0.213376  0.000000  0.000000   \n",
       "2  0.000000  0.000000  0.000000  0.000000  0.326747  0.000000  0.326068   \n",
       "3  0.000000  0.051097  0.099407  0.087598  0.000000  0.192483  0.049504   \n",
       "4  0.000000  0.135142  0.000000  0.000000  0.065601  0.254544  0.000000   \n",
       "\n",
       "   tweets_7  tweets_8  tweets_9  tweets_10  tweets_11  tweets_12  tweets_13  \\\n",
       "0  0.056452  0.048987  0.058207    0.11607   0.125471        0.0   0.000000   \n",
       "1  0.000000  0.000000  0.000000    0.00000   0.000000        0.0   0.000000   \n",
       "2  0.000000  0.000000  0.000000    0.00000   0.152764        0.0   0.000000   \n",
       "3  0.083478  0.000000  0.000000    0.00000   0.092771        0.0   0.157222   \n",
       "4  0.000000  0.000000  0.000000    0.00000   0.000000        0.0   0.138609   \n",
       "\n",
       "   tweets_14  tweets_15  tweets_16  tweets_17  tweets_18  tweets_19  \\\n",
       "0   0.151018   0.000000   0.000000   0.058498    0.15312   0.118353   \n",
       "1   0.000000   0.000000   0.193488   0.000000    0.00000   0.000000   \n",
       "2   0.367734   0.000000   0.296292   0.000000    0.00000   0.000000   \n",
       "3   0.000000   0.044817   0.000000   0.000000    0.00000   0.000000   \n",
       "4   0.000000   0.118533   0.118974   0.000000    0.00000   0.000000   \n",
       "\n",
       "   tweets_20  tweets_21  tweets_22  tweets_23  tweets_24  tweets_25  \\\n",
       "0   0.439767   0.000000   0.200249        0.0   0.000000   0.178702   \n",
       "1   0.000000   0.000000   0.212284        0.0   0.000000   0.000000   \n",
       "2   0.000000   0.000000   0.325076        0.0   0.000000   0.000000   \n",
       "3   0.000000   0.180025   0.000000        0.0   0.134194   0.000000   \n",
       "4   0.000000   0.119035   0.000000        0.0   0.118307   0.000000   \n",
       "\n",
       "   tweets_26  tweets_27  tweets_28  tweets_29  tweets_30  tweets_31  \\\n",
       "0   0.030877   0.000000   0.000000   0.000000   0.000000        0.0   \n",
       "1   0.000000   0.000000   0.000000   0.213317   0.000000        0.0   \n",
       "2   0.000000   0.165395   0.151137   0.163328   0.165001        0.0   \n",
       "3   0.273960   0.150662   0.183566   0.148780   0.000000        0.0   \n",
       "4   0.241527   0.132826   0.121376   0.000000   0.000000        0.0   \n",
       "\n",
       "   tweets_32  tweets_33  tweets_34  tweets_35  tweets_36  tweets_37  \\\n",
       "0   0.030396        0.0        0.0   0.386811   0.028850        0.0   \n",
       "1   0.000000        0.0        0.0   0.000000   0.183501        0.0   \n",
       "2   0.000000        0.0        0.0   0.000000   0.000000        0.0   \n",
       "3   0.134846        0.0        0.0   0.081714   0.255969        0.0   \n",
       "4   0.000000        0.0        0.0   0.000000   0.338499        0.0   \n",
       "\n",
       "   tweets_38  tweets_39  tweets_40  tweets_41  tweets_42  tweets_43  \\\n",
       "0   0.111074   0.000000   0.069019   0.071754   0.000000   0.000000   \n",
       "1   0.000000   0.000000   0.658502   0.000000   0.000000   0.199179   \n",
       "2   0.000000   0.155325   0.000000   0.000000   0.000000   0.000000   \n",
       "3   0.000000   0.047163   0.000000   0.159160   0.000000   0.185226   \n",
       "4   0.000000   0.062370   0.000000   0.000000   0.091928   0.367420   \n",
       "\n",
       "   tweets_44  tweets_45  tweets_46  tweets_47  tweets_48  tweets_49  \\\n",
       "0   0.000000        0.0   0.000000   0.000000   0.000000        0.0   \n",
       "1   0.187112        0.0   0.000000   0.000000   0.187065        0.0   \n",
       "2   0.000000        0.0   0.000000   0.000000   0.000000        0.0   \n",
       "3   0.130503        0.0   0.146159   0.054831   0.130471        0.0   \n",
       "4   0.115053        0.0   0.193284   0.072510   0.172537        0.0   \n",
       "\n",
       "   tweets_50  tweets_51  tweets_52  tweets_53  tweets_54  tweets_55  \\\n",
       "0   0.031558   0.000000   0.000000   0.000000        0.0   0.000000   \n",
       "1   0.000000   0.000000   0.000000   0.000000        0.0   0.000000   \n",
       "2   0.000000   0.000000   0.000000   0.000000        0.0   0.155387   \n",
       "3   0.186667   0.196652   0.064543   0.132027        0.0   0.000000   \n",
       "4   0.123426   0.000000   0.000000   0.000000        0.0   0.062394   \n",
       "\n",
       "   tweets_56  tweets_57  tweets_58  tweets_59  tweets_60  tweets_61  \\\n",
       "0   0.063091   0.000000   0.000000   0.161387   0.059978   0.000000   \n",
       "1   0.000000   0.000000   0.000000   0.000000   0.190748   0.000000   \n",
       "2   0.000000   0.319592   0.000000   0.000000   0.146048   0.000000   \n",
       "3   0.093296   0.097041   0.049041   0.000000   0.088693   0.093235   \n",
       "4   0.185066   0.256659   0.000000   0.000000   0.000000   0.123296   \n",
       "\n",
       "   tweets_62  tweets_63  tweets_64  tweets_65  tweets_66  tweets_67  \\\n",
       "0   0.294536        0.0        0.0        0.0        0.0        0.0   \n",
       "1   0.000000        0.0        0.0        0.0        0.0        0.0   \n",
       "2   0.000000        0.0        0.0        0.0        0.0        0.0   \n",
       "3   0.000000        0.0        0.0        0.0        0.0        0.0   \n",
       "4   0.000000        0.0        0.0        0.0        0.0        0.0   \n",
       "\n",
       "   tweets_68  tweets_69  tweets_70  tweets_71  tweets_72  tweets_73  \\\n",
       "0   0.000000   0.000000   0.000000   0.083316   0.000000        0.0   \n",
       "1   0.000000   0.000000   0.222132   0.000000   0.212284        0.0   \n",
       "2   0.000000   0.000000   0.170078   0.000000   0.162538        0.0   \n",
       "3   0.052269   0.160015   0.051643   0.000000   0.246766        0.0   \n",
       "4   0.069122   0.070536   0.000000   0.000000   0.130532        0.0   \n",
       "\n",
       "   tweets_74  tweets_75  tweets_76  tweets_77  tweets_78  tweets_79  \\\n",
       "0   0.000000   0.136500        0.0   0.000000   0.114215   0.374189   \n",
       "1   0.000000   0.289408        0.0   0.000000   0.000000   0.000000   \n",
       "2   0.000000   0.000000        0.0   0.000000   0.000000   0.000000   \n",
       "3   0.080587   0.000000        0.0   0.000000   0.000000   0.000000   \n",
       "4   0.106569   0.000000        0.0   0.071715   0.000000   0.000000   \n",
       "\n",
       "   tweets_80  tweets_81  tweets_82  tweets_83  tweets_84  tweets_85  \\\n",
       "0   0.000000        0.0   0.000000   0.000000        0.0   0.029388   \n",
       "1   0.000000        0.0   0.000000   0.000000        0.0   0.186925   \n",
       "2   0.000000        0.0   0.161666   0.161688        0.0   0.143121   \n",
       "3   0.203775        0.0   0.294531   0.049095        0.0   0.086915   \n",
       "4   0.134738        0.0   0.129831   0.000000        0.0   0.114938   \n",
       "\n",
       "   tweets_86  tweets_87  tweets_88  tweets_89  tweets_90  tweets_91  \\\n",
       "0   0.000000   0.177164   0.180592   0.000000   0.267742        0.0   \n",
       "1   0.000000   0.000000   0.000000   0.000000   0.000000        0.0   \n",
       "2   0.000000   0.000000   0.175899   0.000000   0.000000        0.0   \n",
       "3   0.202677   0.000000   0.053410   0.135054   0.065987        0.0   \n",
       "4   0.201018   0.000000   0.000000   0.059533   0.000000        0.0   \n",
       "\n",
       "   tweets_92  tweets_93  tweets_94  tweets_95  tweets_96  tweets_97  \\\n",
       "0   0.091636   0.000000   0.000000   0.000000   0.000000   0.000000   \n",
       "1   0.000000   0.000000   0.000000   0.000000   0.000000   0.000000   \n",
       "2   0.000000   0.000000   0.000000   0.000000   0.000000   0.000000   \n",
       "3   0.000000   0.046821   0.188003   0.000000   0.000000   0.000000   \n",
       "4   0.000000   0.123833   0.248619   0.067321   0.137761   0.068264   \n",
       "\n",
       "   tweets_98  tweets_99  description_0  description_1  description_2  \\\n",
       "0   0.000000   0.000000            0.0            0.0            0.0   \n",
       "1   0.000000   0.000000            0.0            0.0            0.0   \n",
       "2   0.000000   0.000000            0.0            0.0            0.0   \n",
       "3   0.000000   0.102325            0.0            0.0            0.0   \n",
       "4   0.072532   0.135316            0.0            0.0            0.0   \n",
       "\n",
       "   description_3  description_4  description_5  description_6  description_7  \\\n",
       "0            0.0            0.0            0.0            0.0            0.0   \n",
       "1            0.0            0.0            0.0            0.0            0.0   \n",
       "2            0.0            0.0            0.0            0.0            0.0   \n",
       "3            0.0            0.0            0.0            0.0            0.0   \n",
       "4            0.0            0.0            0.0            0.0            0.0   \n",
       "\n",
       "   description_8  description_9  description_10  description_11  \\\n",
       "0            0.0            0.0             0.0             0.0   \n",
       "1            0.0            0.0             0.0             0.0   \n",
       "2            0.0            0.0             0.0             0.0   \n",
       "3            0.0            0.0             0.0             0.0   \n",
       "4            0.0            0.0             0.0             0.0   \n",
       "\n",
       "   description_12  description_13  description_14  description_15  \\\n",
       "0             0.0             0.0             0.0             0.0   \n",
       "1             0.0             0.0             0.0             0.0   \n",
       "2             0.0             0.0             0.0             0.0   \n",
       "3             0.0             0.0             0.0             0.0   \n",
       "4             0.0             0.0             0.0             0.0   \n",
       "\n",
       "   description_16  description_17  description_18  description_19  \\\n",
       "0             0.0             0.0             0.0             0.0   \n",
       "1             0.0             0.0             0.0             0.0   \n",
       "2             0.0             0.0             0.0             0.0   \n",
       "3             0.0             0.0             0.0             0.0   \n",
       "4             0.0             0.0             0.0             0.0   \n",
       "\n",
       "   description_20  description_21  description_22  description_23  \\\n",
       "0             0.0             0.0             0.0             0.0   \n",
       "1             0.0             0.0             0.0             0.0   \n",
       "2             0.0             0.0             0.0             0.0   \n",
       "3             0.0             0.0             0.0             0.0   \n",
       "4             0.0             0.0             0.0             0.0   \n",
       "\n",
       "   description_24  description_25  description_26  description_27  \\\n",
       "0             0.0             0.0             0.0             0.0   \n",
       "1             0.0             0.0             0.0             0.0   \n",
       "2             0.0             0.0             0.0             0.0   \n",
       "3             0.0             0.0             0.0             0.0   \n",
       "4             0.0             0.0             0.0             0.0   \n",
       "\n",
       "   description_28  description_29  description_30  description_31  \\\n",
       "0             0.0             0.0             0.0             0.0   \n",
       "1             0.0             0.0             0.0             0.0   \n",
       "2             0.0             0.0             0.0             0.0   \n",
       "3             0.0             0.0             0.0             0.0   \n",
       "4             0.0             0.0             0.0             0.0   \n",
       "\n",
       "   description_32  description_33  description_34  description_35  \\\n",
       "0             0.0             0.0             0.0             0.0   \n",
       "1             0.0             0.0             0.0             0.0   \n",
       "2             0.0             0.0             0.0             0.0   \n",
       "3             0.0             0.0             0.0             0.0   \n",
       "4             0.0             0.0             0.0             0.0   \n",
       "\n",
       "   description_36  description_37  description_38  description_39  \\\n",
       "0             0.0             0.0             0.0             0.0   \n",
       "1             0.0             0.0             0.0             0.0   \n",
       "2             0.0             0.0             0.0             0.0   \n",
       "3             0.0             0.0             0.0             0.0   \n",
       "4             0.0             0.0             0.0             0.0   \n",
       "\n",
       "   description_40  description_41  description_42  description_43  \\\n",
       "0             0.0             0.0             0.0             0.0   \n",
       "1             0.0             0.0             0.0             0.0   \n",
       "2             0.0             0.0             0.0             0.0   \n",
       "3             0.0             0.0             0.0             0.0   \n",
       "4             0.0             0.0             0.0             0.0   \n",
       "\n",
       "   description_44  description_45  description_46  description_47  \\\n",
       "0             0.0             0.0             0.0             0.0   \n",
       "1             0.0             0.0             0.0             0.0   \n",
       "2             0.0             0.0             0.0             0.0   \n",
       "3             0.0             0.0             0.0             0.0   \n",
       "4             0.0             0.0             0.0             0.0   \n",
       "\n",
       "   description_48  description_49  description_50  description_51  \\\n",
       "0             0.0             0.0             0.0             0.0   \n",
       "1             0.0             0.0             0.0             0.0   \n",
       "2             0.0             0.0             0.0             0.0   \n",
       "3             0.0             0.0             0.0             0.0   \n",
       "4             0.0             0.0             0.0             0.0   \n",
       "\n",
       "   description_52  description_53  description_54  description_55  \\\n",
       "0             0.0             0.0             0.0             0.0   \n",
       "1             0.0             0.0             1.0             0.0   \n",
       "2             0.0             0.0             0.0             0.0   \n",
       "3             0.0             0.0             0.0             0.0   \n",
       "4             0.0             0.0             0.0             0.0   \n",
       "\n",
       "   description_56  description_57  description_58  description_59  \\\n",
       "0             0.0             0.0             0.0             0.0   \n",
       "1             0.0             0.0             0.0             0.0   \n",
       "2             0.0             0.0             0.0             0.0   \n",
       "3             0.0             0.0             0.0             0.0   \n",
       "4             0.0             0.0             0.0             0.0   \n",
       "\n",
       "   description_60  description_61  description_62  description_63  \\\n",
       "0             0.0             0.0             0.0             0.0   \n",
       "1             0.0             0.0             0.0             0.0   \n",
       "2             0.0             0.0             0.0             0.0   \n",
       "3             0.0             0.0             0.0             0.0   \n",
       "4             0.0             0.0             0.0             0.0   \n",
       "\n",
       "   description_64  description_65  description_66  description_67  \\\n",
       "0             0.0             0.0             0.0             0.0   \n",
       "1             0.0             0.0             0.0             0.0   \n",
       "2             0.0             0.0             0.0             0.0   \n",
       "3             0.0             0.0             0.0             0.0   \n",
       "4             0.0             0.0             0.0             0.0   \n",
       "\n",
       "   description_68  description_69  description_70  description_71  \\\n",
       "0             0.0             0.0             0.0             0.0   \n",
       "1             0.0             0.0             0.0             0.0   \n",
       "2             0.0             0.0             0.0             0.0   \n",
       "3             0.0             0.0             0.0             0.0   \n",
       "4             0.0             0.0             0.0             0.0   \n",
       "\n",
       "   description_72  description_73  description_74  description_75  \\\n",
       "0             0.0             0.0             0.0             0.0   \n",
       "1             0.0             0.0             0.0             0.0   \n",
       "2             0.0             0.0             0.0             0.0   \n",
       "3             0.0             0.0             0.0             0.0   \n",
       "4             0.0             0.0             0.0             0.0   \n",
       "\n",
       "   description_76  description_77  description_78  description_79  \\\n",
       "0             0.0             0.0             0.0             0.0   \n",
       "1             0.0             0.0             0.0             0.0   \n",
       "2             0.0             0.0             0.0             0.0   \n",
       "3             0.0             0.0             0.0             0.0   \n",
       "4             0.0             0.0             0.0             0.0   \n",
       "\n",
       "   description_80  description_81  description_82  description_83  \\\n",
       "0             0.0             0.0             0.0             0.0   \n",
       "1             0.0             0.0             0.0             0.0   \n",
       "2             0.0             0.0             0.0             0.0   \n",
       "3             0.0             0.0             0.0             0.0   \n",
       "4             0.0             0.0             0.0             0.0   \n",
       "\n",
       "   description_84  description_85  description_86  description_87  \\\n",
       "0             0.0             0.0             0.0             0.0   \n",
       "1             0.0             0.0             0.0             0.0   \n",
       "2             0.0             0.0             0.0             0.0   \n",
       "3             0.0             0.0             0.0             0.0   \n",
       "4             0.0             0.0             0.0             0.0   \n",
       "\n",
       "   description_88  description_89  description_90  description_91  \\\n",
       "0             0.0             0.0             0.0             0.0   \n",
       "1             0.0             0.0             0.0             0.0   \n",
       "2             0.0             0.0             0.0             0.0   \n",
       "3             0.0             0.0             0.0             0.0   \n",
       "4             0.0             0.0             0.0             0.0   \n",
       "\n",
       "   description_92  description_93  description_94  description_95  \\\n",
       "0             0.0             0.0             0.0             0.0   \n",
       "1             0.0             0.0             0.0             0.0   \n",
       "2             0.0             0.0             0.0             0.0   \n",
       "3             0.0             0.0             0.0             0.0   \n",
       "4             0.0             0.0             0.0             0.0   \n",
       "\n",
       "   description_96  description_97  description_98  description_99  \n",
       "0             0.0             0.0             0.0             0.0  \n",
       "1             0.0             0.0             0.0             0.0  \n",
       "2             0.0             0.0             0.0             0.0  \n",
       "3             0.0             0.0             0.0             0.0  \n",
       "4             0.0             0.0             0.0             0.0  "
      ],
      "text/html": "<div>\n<style scoped>\n    .dataframe tbody tr th:only-of-type {\n        vertical-align: middle;\n    }\n\n    .dataframe tbody tr th {\n        vertical-align: top;\n    }\n\n    .dataframe thead th {\n        text-align: right;\n    }\n</style>\n<table border=\"1\" class=\"dataframe\">\n  <thead>\n    <tr style=\"text-align: right;\">\n      <th></th>\n      <th>statuses_count</th>\n      <th>followers_count</th>\n      <th>friends_count</th>\n      <th>favourites_count</th>\n      <th>listed_count</th>\n      <th>default_profile</th>\n      <th>default_profile_image</th>\n      <th>geo_enabled</th>\n      <th>tweets_0</th>\n      <th>tweets_1</th>\n      <th>tweets_2</th>\n      <th>tweets_3</th>\n      <th>tweets_4</th>\n      <th>tweets_5</th>\n      <th>tweets_6</th>\n      <th>tweets_7</th>\n      <th>tweets_8</th>\n      <th>tweets_9</th>\n      <th>tweets_10</th>\n      <th>tweets_11</th>\n      <th>tweets_12</th>\n      <th>tweets_13</th>\n      <th>tweets_14</th>\n      <th>tweets_15</th>\n      <th>tweets_16</th>\n      <th>tweets_17</th>\n      <th>tweets_18</th>\n      <th>tweets_19</th>\n      <th>tweets_20</th>\n      <th>tweets_21</th>\n      <th>tweets_22</th>\n      <th>tweets_23</th>\n      <th>tweets_24</th>\n      <th>tweets_25</th>\n      <th>tweets_26</th>\n      <th>tweets_27</th>\n      <th>tweets_28</th>\n      <th>tweets_29</th>\n      <th>tweets_30</th>\n      <th>tweets_31</th>\n      <th>tweets_32</th>\n      <th>tweets_33</th>\n      <th>tweets_34</th>\n      <th>tweets_35</th>\n      <th>tweets_36</th>\n      <th>tweets_37</th>\n      <th>tweets_38</th>\n      <th>tweets_39</th>\n      <th>tweets_40</th>\n      <th>tweets_41</th>\n      <th>tweets_42</th>\n      <th>tweets_43</th>\n      <th>tweets_44</th>\n      <th>tweets_45</th>\n      <th>tweets_46</th>\n      <th>tweets_47</th>\n      <th>tweets_48</th>\n      <th>tweets_49</th>\n      <th>tweets_50</th>\n      <th>tweets_51</th>\n      <th>tweets_52</th>\n      <th>tweets_53</th>\n      <th>tweets_54</th>\n      <th>tweets_55</th>\n      <th>tweets_56</th>\n      <th>tweets_57</th>\n      <th>tweets_58</th>\n      <th>tweets_59</th>\n      <th>tweets_60</th>\n      <th>tweets_61</th>\n      <th>tweets_62</th>\n      <th>tweets_63</th>\n      <th>tweets_64</th>\n      <th>tweets_65</th>\n      <th>tweets_66</th>\n      <th>tweets_67</th>\n      <th>tweets_68</th>\n      <th>tweets_69</th>\n      <th>tweets_70</th>\n      <th>tweets_71</th>\n      <th>tweets_72</th>\n      <th>tweets_73</th>\n      <th>tweets_74</th>\n      <th>tweets_75</th>\n      <th>tweets_76</th>\n      <th>tweets_77</th>\n      <th>tweets_78</th>\n      <th>tweets_79</th>\n      <th>tweets_80</th>\n      <th>tweets_81</th>\n      <th>tweets_82</th>\n      <th>tweets_83</th>\n      <th>tweets_84</th>\n      <th>tweets_85</th>\n      <th>tweets_86</th>\n      <th>tweets_87</th>\n      <th>tweets_88</th>\n      <th>tweets_89</th>\n      <th>tweets_90</th>\n      <th>tweets_91</th>\n      <th>tweets_92</th>\n      <th>tweets_93</th>\n      <th>tweets_94</th>\n      <th>tweets_95</th>\n      <th>tweets_96</th>\n      <th>tweets_97</th>\n      <th>tweets_98</th>\n      <th>tweets_99</th>\n      <th>description_0</th>\n      <th>description_1</th>\n      <th>description_2</th>\n      <th>description_3</th>\n      <th>description_4</th>\n      <th>description_5</th>\n      <th>description_6</th>\n      <th>description_7</th>\n      <th>description_8</th>\n      <th>description_9</th>\n      <th>description_10</th>\n      <th>description_11</th>\n      <th>description_12</th>\n      <th>description_13</th>\n      <th>description_14</th>\n      <th>description_15</th>\n      <th>description_16</th>\n      <th>description_17</th>\n      <th>description_18</th>\n      <th>description_19</th>\n      <th>description_20</th>\n      <th>description_21</th>\n      <th>description_22</th>\n      <th>description_23</th>\n      <th>description_24</th>\n      <th>description_25</th>\n      <th>description_26</th>\n      <th>description_27</th>\n      <th>description_28</th>\n      <th>description_29</th>\n      <th>description_30</th>\n      <th>description_31</th>\n      <th>description_32</th>\n      <th>description_33</th>\n      <th>description_34</th>\n      <th>description_35</th>\n      <th>description_36</th>\n      <th>description_37</th>\n      <th>description_38</th>\n      <th>description_39</th>\n      <th>description_40</th>\n      <th>description_41</th>\n      <th>description_42</th>\n      <th>description_43</th>\n      <th>description_44</th>\n      <th>description_45</th>\n      <th>description_46</th>\n      <th>description_47</th>\n      <th>description_48</th>\n      <th>description_49</th>\n      <th>description_50</th>\n      <th>description_51</th>\n      <th>description_52</th>\n      <th>description_53</th>\n      <th>description_54</th>\n      <th>description_55</th>\n      <th>description_56</th>\n      <th>description_57</th>\n      <th>description_58</th>\n      <th>description_59</th>\n      <th>description_60</th>\n      <th>description_61</th>\n      <th>description_62</th>\n      <th>description_63</th>\n      <th>description_64</th>\n      <th>description_65</th>\n      <th>description_66</th>\n      <th>description_67</th>\n      <th>description_68</th>\n      <th>description_69</th>\n      <th>description_70</th>\n      <th>description_71</th>\n      <th>description_72</th>\n      <th>description_73</th>\n      <th>description_74</th>\n      <th>description_75</th>\n      <th>description_76</th>\n      <th>description_77</th>\n      <th>description_78</th>\n      <th>description_79</th>\n      <th>description_80</th>\n      <th>description_81</th>\n      <th>description_82</th>\n      <th>description_83</th>\n      <th>description_84</th>\n      <th>description_85</th>\n      <th>description_86</th>\n      <th>description_87</th>\n      <th>description_88</th>\n      <th>description_89</th>\n      <th>description_90</th>\n      <th>description_91</th>\n      <th>description_92</th>\n      <th>description_93</th>\n      <th>description_94</th>\n      <th>description_95</th>\n      <th>description_96</th>\n      <th>description_97</th>\n      <th>description_98</th>\n      <th>description_99</th>\n    </tr>\n  </thead>\n  <tbody>\n    <tr>\n      <th>0</th>\n      <td>0.000240</td>\n      <td>0.000019</td>\n      <td>0.000429</td>\n      <td>0.000049</td>\n      <td>0.0</td>\n      <td>0.0</td>\n      <td>0.0</td>\n      <td>0.0</td>\n      <td>0.091977</td>\n      <td>0.034554</td>\n      <td>0.000000</td>\n      <td>0.059238</td>\n      <td>0.000000</td>\n      <td>0.000000</td>\n      <td>0.000000</td>\n      <td>0.056452</td>\n      <td>0.048987</td>\n      <td>0.058207</td>\n      <td>0.11607</td>\n      <td>0.125471</td>\n      <td>0.0</td>\n      <td>0.000000</td>\n      <td>0.151018</td>\n      <td>0.000000</td>\n      <td>0.000000</td>\n      <td>0.058498</td>\n      <td>0.15312</td>\n      <td>0.118353</td>\n      <td>0.439767</td>\n      <td>0.000000</td>\n      <td>0.200249</td>\n      <td>0.0</td>\n      <td>0.000000</td>\n      <td>0.178702</td>\n      <td>0.030877</td>\n      <td>0.000000</td>\n      <td>0.000000</td>\n      <td>0.000000</td>\n      <td>0.000000</td>\n      <td>0.0</td>\n      <td>0.030396</td>\n      <td>0.0</td>\n      <td>0.0</td>\n      <td>0.386811</td>\n      <td>0.028850</td>\n      <td>0.0</td>\n      <td>0.111074</td>\n      <td>0.000000</td>\n      <td>0.069019</td>\n      <td>0.071754</td>\n      <td>0.000000</td>\n      <td>0.000000</td>\n      <td>0.000000</td>\n      <td>0.0</td>\n      <td>0.000000</td>\n      <td>0.000000</td>\n      <td>0.000000</td>\n      <td>0.0</td>\n      <td>0.031558</td>\n      <td>0.000000</td>\n      <td>0.000000</td>\n      <td>0.000000</td>\n      <td>0.0</td>\n      <td>0.000000</td>\n      <td>0.063091</td>\n      <td>0.000000</td>\n      <td>0.000000</td>\n      <td>0.161387</td>\n      <td>0.059978</td>\n      <td>0.000000</td>\n      <td>0.294536</td>\n      <td>0.0</td>\n      <td>0.0</td>\n      <td>0.0</td>\n      <td>0.0</td>\n      <td>0.0</td>\n      <td>0.000000</td>\n      <td>0.000000</td>\n      <td>0.000000</td>\n      <td>0.083316</td>\n      <td>0.000000</td>\n      <td>0.0</td>\n      <td>0.000000</td>\n      <td>0.136500</td>\n      <td>0.0</td>\n      <td>0.000000</td>\n      <td>0.114215</td>\n      <td>0.374189</td>\n      <td>0.000000</td>\n      <td>0.0</td>\n      <td>0.000000</td>\n      <td>0.000000</td>\n      <td>0.0</td>\n      <td>0.029388</td>\n      <td>0.000000</td>\n      <td>0.177164</td>\n      <td>0.180592</td>\n      <td>0.000000</td>\n      <td>0.267742</td>\n      <td>0.0</td>\n      <td>0.091636</td>\n      <td>0.000000</td>\n      <td>0.000000</td>\n      <td>0.000000</td>\n      <td>0.000000</td>\n      <td>0.000000</td>\n      <td>0.000000</td>\n      <td>0.000000</td>\n      <td>0.0</td>\n      <td>0.0</td>\n      <td>0.0</td>\n      <td>0.0</td>\n      <td>0.0</td>\n      <td>0.0</td>\n      <td>0.0</td>\n      <td>0.0</td>\n      <td>0.0</td>\n      <td>0.0</td>\n      <td>0.0</td>\n      <td>0.0</td>\n      <td>0.0</td>\n      <td>0.0</td>\n      <td>0.0</td>\n      <td>0.0</td>\n      <td>0.0</td>\n      <td>0.0</td>\n      <td>0.0</td>\n      <td>0.0</td>\n      <td>0.0</td>\n      <td>0.0</td>\n      <td>0.0</td>\n      <td>0.0</td>\n      <td>0.0</td>\n      <td>0.0</td>\n      <td>0.0</td>\n      <td>0.0</td>\n      <td>0.0</td>\n      <td>0.0</td>\n      <td>0.0</td>\n      <td>0.0</td>\n      <td>0.0</td>\n      <td>0.0</td>\n      <td>0.0</td>\n      <td>0.0</td>\n      <td>0.0</td>\n      <td>0.0</td>\n      <td>0.0</td>\n      <td>0.0</td>\n      <td>0.0</td>\n      <td>0.0</td>\n      <td>0.0</td>\n      <td>0.0</td>\n      <td>0.0</td>\n      <td>0.0</td>\n      <td>0.0</td>\n      <td>0.0</td>\n      <td>0.0</td>\n      <td>0.0</td>\n      <td>0.0</td>\n      <td>0.0</td>\n      <td>0.0</td>\n      <td>0.0</td>\n      <td>0.0</td>\n      <td>0.0</td>\n      <td>0.0</td>\n      <td>0.0</td>\n      <td>0.0</td>\n      <td>0.0</td>\n      <td>0.0</td>\n      <td>0.0</td>\n      <td>0.0</td>\n      <td>0.0</td>\n      <td>0.0</td>\n      <td>0.0</td>\n      <td>0.0</td>\n      <td>0.0</td>\n      <td>0.0</td>\n      <td>0.0</td>\n      <td>0.0</td>\n      <td>0.0</td>\n      <td>0.0</td>\n      <td>0.0</td>\n      <td>0.0</td>\n      <td>0.0</td>\n      <td>0.0</td>\n      <td>0.0</td>\n      <td>0.0</td>\n      <td>0.0</td>\n      <td>0.0</td>\n      <td>0.0</td>\n      <td>0.0</td>\n      <td>0.0</td>\n      <td>0.0</td>\n      <td>0.0</td>\n      <td>0.0</td>\n      <td>0.0</td>\n      <td>0.0</td>\n      <td>0.0</td>\n      <td>0.0</td>\n      <td>0.0</td>\n      <td>0.0</td>\n      <td>0.0</td>\n      <td>0.0</td>\n      <td>0.0</td>\n      <td>0.0</td>\n      <td>0.0</td>\n      <td>0.0</td>\n      <td>0.0</td>\n    </tr>\n    <tr>\n      <th>1</th>\n      <td>0.000052</td>\n      <td>0.000007</td>\n      <td>0.002113</td>\n      <td>0.000000</td>\n      <td>0.0</td>\n      <td>1.0</td>\n      <td>0.0</td>\n      <td>0.0</td>\n      <td>0.000000</td>\n      <td>0.000000</td>\n      <td>0.000000</td>\n      <td>0.000000</td>\n      <td>0.213376</td>\n      <td>0.000000</td>\n      <td>0.000000</td>\n      <td>0.000000</td>\n      <td>0.000000</td>\n      <td>0.000000</td>\n      <td>0.00000</td>\n      <td>0.000000</td>\n      <td>0.0</td>\n      <td>0.000000</td>\n      <td>0.000000</td>\n      <td>0.000000</td>\n      <td>0.193488</td>\n      <td>0.000000</td>\n      <td>0.00000</td>\n      <td>0.000000</td>\n      <td>0.000000</td>\n      <td>0.000000</td>\n      <td>0.212284</td>\n      <td>0.0</td>\n      <td>0.000000</td>\n      <td>0.000000</td>\n      <td>0.000000</td>\n      <td>0.000000</td>\n      <td>0.000000</td>\n      <td>0.213317</td>\n      <td>0.000000</td>\n      <td>0.0</td>\n      <td>0.000000</td>\n      <td>0.0</td>\n      <td>0.0</td>\n      <td>0.000000</td>\n      <td>0.183501</td>\n      <td>0.0</td>\n      <td>0.000000</td>\n      <td>0.000000</td>\n      <td>0.658502</td>\n      <td>0.000000</td>\n      <td>0.000000</td>\n      <td>0.199179</td>\n      <td>0.187112</td>\n      <td>0.0</td>\n      <td>0.000000</td>\n      <td>0.000000</td>\n      <td>0.187065</td>\n      <td>0.0</td>\n      <td>0.000000</td>\n      <td>0.000000</td>\n      <td>0.000000</td>\n      <td>0.000000</td>\n      <td>0.0</td>\n      <td>0.000000</td>\n      <td>0.000000</td>\n      <td>0.000000</td>\n      <td>0.000000</td>\n      <td>0.000000</td>\n      <td>0.190748</td>\n      <td>0.000000</td>\n      <td>0.000000</td>\n      <td>0.0</td>\n      <td>0.0</td>\n      <td>0.0</td>\n      <td>0.0</td>\n      <td>0.0</td>\n      <td>0.000000</td>\n      <td>0.000000</td>\n      <td>0.222132</td>\n      <td>0.000000</td>\n      <td>0.212284</td>\n      <td>0.0</td>\n      <td>0.000000</td>\n      <td>0.289408</td>\n      <td>0.0</td>\n      <td>0.000000</td>\n      <td>0.000000</td>\n      <td>0.000000</td>\n      <td>0.000000</td>\n      <td>0.0</td>\n      <td>0.000000</td>\n      <td>0.000000</td>\n      <td>0.0</td>\n      <td>0.186925</td>\n      <td>0.000000</td>\n      <td>0.000000</td>\n      <td>0.000000</td>\n      <td>0.000000</td>\n      <td>0.000000</td>\n      <td>0.0</td>\n      <td>0.000000</td>\n      <td>0.000000</td>\n      <td>0.000000</td>\n      <td>0.000000</td>\n      <td>0.000000</td>\n      <td>0.000000</td>\n      <td>0.000000</td>\n      <td>0.000000</td>\n      <td>0.0</td>\n      <td>0.0</td>\n      <td>0.0</td>\n      <td>0.0</td>\n      <td>0.0</td>\n      <td>0.0</td>\n      <td>0.0</td>\n      <td>0.0</td>\n      <td>0.0</td>\n      <td>0.0</td>\n      <td>0.0</td>\n      <td>0.0</td>\n      <td>0.0</td>\n      <td>0.0</td>\n      <td>0.0</td>\n      <td>0.0</td>\n      <td>0.0</td>\n      <td>0.0</td>\n      <td>0.0</td>\n      <td>0.0</td>\n      <td>0.0</td>\n      <td>0.0</td>\n      <td>0.0</td>\n      <td>0.0</td>\n      <td>0.0</td>\n      <td>0.0</td>\n      <td>0.0</td>\n      <td>0.0</td>\n      <td>0.0</td>\n      <td>0.0</td>\n      <td>0.0</td>\n      <td>0.0</td>\n      <td>0.0</td>\n      <td>0.0</td>\n      <td>0.0</td>\n      <td>0.0</td>\n      <td>0.0</td>\n      <td>0.0</td>\n      <td>0.0</td>\n      <td>0.0</td>\n      <td>0.0</td>\n      <td>0.0</td>\n      <td>0.0</td>\n      <td>0.0</td>\n      <td>0.0</td>\n      <td>0.0</td>\n      <td>0.0</td>\n      <td>0.0</td>\n      <td>0.0</td>\n      <td>0.0</td>\n      <td>0.0</td>\n      <td>0.0</td>\n      <td>0.0</td>\n      <td>0.0</td>\n      <td>1.0</td>\n      <td>0.0</td>\n      <td>0.0</td>\n      <td>0.0</td>\n      <td>0.0</td>\n      <td>0.0</td>\n      <td>0.0</td>\n      <td>0.0</td>\n      <td>0.0</td>\n      <td>0.0</td>\n      <td>0.0</td>\n      <td>0.0</td>\n      <td>0.0</td>\n      <td>0.0</td>\n      <td>0.0</td>\n      <td>0.0</td>\n      <td>0.0</td>\n      <td>0.0</td>\n      <td>0.0</td>\n      <td>0.0</td>\n      <td>0.0</td>\n      <td>0.0</td>\n      <td>0.0</td>\n      <td>0.0</td>\n      <td>0.0</td>\n      <td>0.0</td>\n      <td>0.0</td>\n      <td>0.0</td>\n      <td>0.0</td>\n      <td>0.0</td>\n      <td>0.0</td>\n      <td>0.0</td>\n      <td>0.0</td>\n      <td>0.0</td>\n      <td>0.0</td>\n      <td>0.0</td>\n      <td>0.0</td>\n      <td>0.0</td>\n      <td>0.0</td>\n      <td>0.0</td>\n      <td>0.0</td>\n      <td>0.0</td>\n      <td>0.0</td>\n      <td>0.0</td>\n      <td>0.0</td>\n      <td>0.0</td>\n    </tr>\n    <tr>\n      <th>2</th>\n      <td>0.000060</td>\n      <td>0.000011</td>\n      <td>0.002652</td>\n      <td>0.000000</td>\n      <td>0.0</td>\n      <td>1.0</td>\n      <td>0.0</td>\n      <td>0.0</td>\n      <td>0.000000</td>\n      <td>0.000000</td>\n      <td>0.000000</td>\n      <td>0.000000</td>\n      <td>0.326747</td>\n      <td>0.000000</td>\n      <td>0.326068</td>\n      <td>0.000000</td>\n      <td>0.000000</td>\n      <td>0.000000</td>\n      <td>0.00000</td>\n      <td>0.152764</td>\n      <td>0.0</td>\n      <td>0.000000</td>\n      <td>0.367734</td>\n      <td>0.000000</td>\n      <td>0.296292</td>\n      <td>0.000000</td>\n      <td>0.00000</td>\n      <td>0.000000</td>\n      <td>0.000000</td>\n      <td>0.000000</td>\n      <td>0.325076</td>\n      <td>0.0</td>\n      <td>0.000000</td>\n      <td>0.000000</td>\n      <td>0.000000</td>\n      <td>0.165395</td>\n      <td>0.151137</td>\n      <td>0.163328</td>\n      <td>0.165001</td>\n      <td>0.0</td>\n      <td>0.000000</td>\n      <td>0.0</td>\n      <td>0.0</td>\n      <td>0.000000</td>\n      <td>0.000000</td>\n      <td>0.0</td>\n      <td>0.000000</td>\n      <td>0.155325</td>\n      <td>0.000000</td>\n      <td>0.000000</td>\n      <td>0.000000</td>\n      <td>0.000000</td>\n      <td>0.000000</td>\n      <td>0.0</td>\n      <td>0.000000</td>\n      <td>0.000000</td>\n      <td>0.000000</td>\n      <td>0.0</td>\n      <td>0.000000</td>\n      <td>0.000000</td>\n      <td>0.000000</td>\n      <td>0.000000</td>\n      <td>0.0</td>\n      <td>0.155387</td>\n      <td>0.000000</td>\n      <td>0.319592</td>\n      <td>0.000000</td>\n      <td>0.000000</td>\n      <td>0.146048</td>\n      <td>0.000000</td>\n      <td>0.000000</td>\n      <td>0.0</td>\n      <td>0.0</td>\n      <td>0.0</td>\n      <td>0.0</td>\n      <td>0.0</td>\n      <td>0.000000</td>\n      <td>0.000000</td>\n      <td>0.170078</td>\n      <td>0.000000</td>\n      <td>0.162538</td>\n      <td>0.0</td>\n      <td>0.000000</td>\n      <td>0.000000</td>\n      <td>0.0</td>\n      <td>0.000000</td>\n      <td>0.000000</td>\n      <td>0.000000</td>\n      <td>0.000000</td>\n      <td>0.0</td>\n      <td>0.161666</td>\n      <td>0.161688</td>\n      <td>0.0</td>\n      <td>0.143121</td>\n      <td>0.000000</td>\n      <td>0.000000</td>\n      <td>0.175899</td>\n      <td>0.000000</td>\n      <td>0.000000</td>\n      <td>0.0</td>\n      <td>0.000000</td>\n      <td>0.000000</td>\n      <td>0.000000</td>\n      <td>0.000000</td>\n      <td>0.000000</td>\n      <td>0.000000</td>\n      <td>0.000000</td>\n      <td>0.000000</td>\n      <td>0.0</td>\n      <td>0.0</td>\n      <td>0.0</td>\n      <td>0.0</td>\n      <td>0.0</td>\n      <td>0.0</td>\n      <td>0.0</td>\n      <td>0.0</td>\n      <td>0.0</td>\n      <td>0.0</td>\n      <td>0.0</td>\n      <td>0.0</td>\n      <td>0.0</td>\n      <td>0.0</td>\n      <td>0.0</td>\n      <td>0.0</td>\n      <td>0.0</td>\n      <td>0.0</td>\n      <td>0.0</td>\n      <td>0.0</td>\n      <td>0.0</td>\n      <td>0.0</td>\n      <td>0.0</td>\n      <td>0.0</td>\n      <td>0.0</td>\n      <td>0.0</td>\n      <td>0.0</td>\n      <td>0.0</td>\n      <td>0.0</td>\n      <td>0.0</td>\n      <td>0.0</td>\n      <td>0.0</td>\n      <td>0.0</td>\n      <td>0.0</td>\n      <td>0.0</td>\n      <td>0.0</td>\n      <td>0.0</td>\n      <td>0.0</td>\n      <td>0.0</td>\n      <td>0.0</td>\n      <td>0.0</td>\n      <td>0.0</td>\n      <td>0.0</td>\n      <td>0.0</td>\n      <td>0.0</td>\n      <td>0.0</td>\n      <td>0.0</td>\n      <td>0.0</td>\n      <td>0.0</td>\n      <td>0.0</td>\n      <td>0.0</td>\n      <td>0.0</td>\n      <td>0.0</td>\n      <td>0.0</td>\n      <td>0.0</td>\n      <td>0.0</td>\n      <td>0.0</td>\n      <td>0.0</td>\n      <td>0.0</td>\n      <td>0.0</td>\n      <td>0.0</td>\n      <td>0.0</td>\n      <td>0.0</td>\n      <td>0.0</td>\n      <td>0.0</td>\n      <td>0.0</td>\n      <td>0.0</td>\n      <td>0.0</td>\n      <td>0.0</td>\n      <td>0.0</td>\n      <td>0.0</td>\n      <td>0.0</td>\n      <td>0.0</td>\n      <td>0.0</td>\n      <td>0.0</td>\n      <td>0.0</td>\n      <td>0.0</td>\n      <td>0.0</td>\n      <td>0.0</td>\n      <td>0.0</td>\n      <td>0.0</td>\n      <td>0.0</td>\n      <td>0.0</td>\n      <td>0.0</td>\n      <td>0.0</td>\n      <td>0.0</td>\n      <td>0.0</td>\n      <td>0.0</td>\n      <td>0.0</td>\n      <td>0.0</td>\n      <td>0.0</td>\n      <td>0.0</td>\n      <td>0.0</td>\n      <td>0.0</td>\n      <td>0.0</td>\n      <td>0.0</td>\n      <td>0.0</td>\n      <td>0.0</td>\n      <td>0.0</td>\n      <td>0.0</td>\n    </tr>\n    <tr>\n      <th>3</th>\n      <td>0.000128</td>\n      <td>0.000006</td>\n      <td>0.000451</td>\n      <td>0.000000</td>\n      <td>0.0</td>\n      <td>0.0</td>\n      <td>0.0</td>\n      <td>0.0</td>\n      <td>0.000000</td>\n      <td>0.051097</td>\n      <td>0.099407</td>\n      <td>0.087598</td>\n      <td>0.000000</td>\n      <td>0.192483</td>\n      <td>0.049504</td>\n      <td>0.083478</td>\n      <td>0.000000</td>\n      <td>0.000000</td>\n      <td>0.00000</td>\n      <td>0.092771</td>\n      <td>0.0</td>\n      <td>0.157222</td>\n      <td>0.000000</td>\n      <td>0.044817</td>\n      <td>0.000000</td>\n      <td>0.000000</td>\n      <td>0.00000</td>\n      <td>0.000000</td>\n      <td>0.000000</td>\n      <td>0.180025</td>\n      <td>0.000000</td>\n      <td>0.0</td>\n      <td>0.134194</td>\n      <td>0.000000</td>\n      <td>0.273960</td>\n      <td>0.150662</td>\n      <td>0.183566</td>\n      <td>0.148780</td>\n      <td>0.000000</td>\n      <td>0.0</td>\n      <td>0.134846</td>\n      <td>0.0</td>\n      <td>0.0</td>\n      <td>0.081714</td>\n      <td>0.255969</td>\n      <td>0.0</td>\n      <td>0.000000</td>\n      <td>0.047163</td>\n      <td>0.000000</td>\n      <td>0.159160</td>\n      <td>0.000000</td>\n      <td>0.185226</td>\n      <td>0.130503</td>\n      <td>0.0</td>\n      <td>0.146159</td>\n      <td>0.054831</td>\n      <td>0.130471</td>\n      <td>0.0</td>\n      <td>0.186667</td>\n      <td>0.196652</td>\n      <td>0.064543</td>\n      <td>0.132027</td>\n      <td>0.0</td>\n      <td>0.000000</td>\n      <td>0.093296</td>\n      <td>0.097041</td>\n      <td>0.049041</td>\n      <td>0.000000</td>\n      <td>0.088693</td>\n      <td>0.093235</td>\n      <td>0.000000</td>\n      <td>0.0</td>\n      <td>0.0</td>\n      <td>0.0</td>\n      <td>0.0</td>\n      <td>0.0</td>\n      <td>0.052269</td>\n      <td>0.160015</td>\n      <td>0.051643</td>\n      <td>0.000000</td>\n      <td>0.246766</td>\n      <td>0.0</td>\n      <td>0.080587</td>\n      <td>0.000000</td>\n      <td>0.0</td>\n      <td>0.000000</td>\n      <td>0.000000</td>\n      <td>0.000000</td>\n      <td>0.203775</td>\n      <td>0.0</td>\n      <td>0.294531</td>\n      <td>0.049095</td>\n      <td>0.0</td>\n      <td>0.086915</td>\n      <td>0.202677</td>\n      <td>0.000000</td>\n      <td>0.053410</td>\n      <td>0.135054</td>\n      <td>0.065987</td>\n      <td>0.0</td>\n      <td>0.000000</td>\n      <td>0.046821</td>\n      <td>0.188003</td>\n      <td>0.000000</td>\n      <td>0.000000</td>\n      <td>0.000000</td>\n      <td>0.000000</td>\n      <td>0.102325</td>\n      <td>0.0</td>\n      <td>0.0</td>\n      <td>0.0</td>\n      <td>0.0</td>\n      <td>0.0</td>\n      <td>0.0</td>\n      <td>0.0</td>\n      <td>0.0</td>\n      <td>0.0</td>\n      <td>0.0</td>\n      <td>0.0</td>\n      <td>0.0</td>\n      <td>0.0</td>\n      <td>0.0</td>\n      <td>0.0</td>\n      <td>0.0</td>\n      <td>0.0</td>\n      <td>0.0</td>\n      <td>0.0</td>\n      <td>0.0</td>\n      <td>0.0</td>\n      <td>0.0</td>\n      <td>0.0</td>\n      <td>0.0</td>\n      <td>0.0</td>\n      <td>0.0</td>\n      <td>0.0</td>\n      <td>0.0</td>\n      <td>0.0</td>\n      <td>0.0</td>\n      <td>0.0</td>\n      <td>0.0</td>\n      <td>0.0</td>\n      <td>0.0</td>\n      <td>0.0</td>\n      <td>0.0</td>\n      <td>0.0</td>\n      <td>0.0</td>\n      <td>0.0</td>\n      <td>0.0</td>\n      <td>0.0</td>\n      <td>0.0</td>\n      <td>0.0</td>\n      <td>0.0</td>\n      <td>0.0</td>\n      <td>0.0</td>\n      <td>0.0</td>\n      <td>0.0</td>\n      <td>0.0</td>\n      <td>0.0</td>\n      <td>0.0</td>\n      <td>0.0</td>\n      <td>0.0</td>\n      <td>0.0</td>\n      <td>0.0</td>\n      <td>0.0</td>\n      <td>0.0</td>\n      <td>0.0</td>\n      <td>0.0</td>\n      <td>0.0</td>\n      <td>0.0</td>\n      <td>0.0</td>\n      <td>0.0</td>\n      <td>0.0</td>\n      <td>0.0</td>\n      <td>0.0</td>\n      <td>0.0</td>\n      <td>0.0</td>\n      <td>0.0</td>\n      <td>0.0</td>\n      <td>0.0</td>\n      <td>0.0</td>\n      <td>0.0</td>\n      <td>0.0</td>\n      <td>0.0</td>\n      <td>0.0</td>\n      <td>0.0</td>\n      <td>0.0</td>\n      <td>0.0</td>\n      <td>0.0</td>\n      <td>0.0</td>\n      <td>0.0</td>\n      <td>0.0</td>\n      <td>0.0</td>\n      <td>0.0</td>\n      <td>0.0</td>\n      <td>0.0</td>\n      <td>0.0</td>\n      <td>0.0</td>\n      <td>0.0</td>\n      <td>0.0</td>\n      <td>0.0</td>\n      <td>0.0</td>\n      <td>0.0</td>\n      <td>0.0</td>\n      <td>0.0</td>\n      <td>0.0</td>\n      <td>0.0</td>\n      <td>0.0</td>\n      <td>0.0</td>\n    </tr>\n    <tr>\n      <th>4</th>\n      <td>0.000093</td>\n      <td>0.000004</td>\n      <td>0.000396</td>\n      <td>0.000000</td>\n      <td>0.0</td>\n      <td>0.0</td>\n      <td>0.0</td>\n      <td>0.0</td>\n      <td>0.000000</td>\n      <td>0.135142</td>\n      <td>0.000000</td>\n      <td>0.000000</td>\n      <td>0.065601</td>\n      <td>0.254544</td>\n      <td>0.000000</td>\n      <td>0.000000</td>\n      <td>0.000000</td>\n      <td>0.000000</td>\n      <td>0.00000</td>\n      <td>0.000000</td>\n      <td>0.0</td>\n      <td>0.138609</td>\n      <td>0.000000</td>\n      <td>0.118533</td>\n      <td>0.118974</td>\n      <td>0.000000</td>\n      <td>0.00000</td>\n      <td>0.000000</td>\n      <td>0.000000</td>\n      <td>0.119035</td>\n      <td>0.000000</td>\n      <td>0.0</td>\n      <td>0.118307</td>\n      <td>0.000000</td>\n      <td>0.241527</td>\n      <td>0.132826</td>\n      <td>0.121376</td>\n      <td>0.000000</td>\n      <td>0.000000</td>\n      <td>0.0</td>\n      <td>0.000000</td>\n      <td>0.0</td>\n      <td>0.0</td>\n      <td>0.000000</td>\n      <td>0.338499</td>\n      <td>0.0</td>\n      <td>0.000000</td>\n      <td>0.062370</td>\n      <td>0.000000</td>\n      <td>0.000000</td>\n      <td>0.091928</td>\n      <td>0.367420</td>\n      <td>0.115053</td>\n      <td>0.0</td>\n      <td>0.193284</td>\n      <td>0.072510</td>\n      <td>0.172537</td>\n      <td>0.0</td>\n      <td>0.123426</td>\n      <td>0.000000</td>\n      <td>0.000000</td>\n      <td>0.000000</td>\n      <td>0.0</td>\n      <td>0.062394</td>\n      <td>0.185066</td>\n      <td>0.256659</td>\n      <td>0.000000</td>\n      <td>0.000000</td>\n      <td>0.000000</td>\n      <td>0.123296</td>\n      <td>0.000000</td>\n      <td>0.0</td>\n      <td>0.0</td>\n      <td>0.0</td>\n      <td>0.0</td>\n      <td>0.0</td>\n      <td>0.069122</td>\n      <td>0.070536</td>\n      <td>0.000000</td>\n      <td>0.000000</td>\n      <td>0.130532</td>\n      <td>0.0</td>\n      <td>0.106569</td>\n      <td>0.000000</td>\n      <td>0.0</td>\n      <td>0.071715</td>\n      <td>0.000000</td>\n      <td>0.000000</td>\n      <td>0.134738</td>\n      <td>0.0</td>\n      <td>0.129831</td>\n      <td>0.000000</td>\n      <td>0.0</td>\n      <td>0.114938</td>\n      <td>0.201018</td>\n      <td>0.000000</td>\n      <td>0.000000</td>\n      <td>0.059533</td>\n      <td>0.000000</td>\n      <td>0.0</td>\n      <td>0.000000</td>\n      <td>0.123833</td>\n      <td>0.248619</td>\n      <td>0.067321</td>\n      <td>0.137761</td>\n      <td>0.068264</td>\n      <td>0.072532</td>\n      <td>0.135316</td>\n      <td>0.0</td>\n      <td>0.0</td>\n      <td>0.0</td>\n      <td>0.0</td>\n      <td>0.0</td>\n      <td>0.0</td>\n      <td>0.0</td>\n      <td>0.0</td>\n      <td>0.0</td>\n      <td>0.0</td>\n      <td>0.0</td>\n      <td>0.0</td>\n      <td>0.0</td>\n      <td>0.0</td>\n      <td>0.0</td>\n      <td>0.0</td>\n      <td>0.0</td>\n      <td>0.0</td>\n      <td>0.0</td>\n      <td>0.0</td>\n      <td>0.0</td>\n      <td>0.0</td>\n      <td>0.0</td>\n      <td>0.0</td>\n      <td>0.0</td>\n      <td>0.0</td>\n      <td>0.0</td>\n      <td>0.0</td>\n      <td>0.0</td>\n      <td>0.0</td>\n      <td>0.0</td>\n      <td>0.0</td>\n      <td>0.0</td>\n      <td>0.0</td>\n      <td>0.0</td>\n      <td>0.0</td>\n      <td>0.0</td>\n      <td>0.0</td>\n      <td>0.0</td>\n      <td>0.0</td>\n      <td>0.0</td>\n      <td>0.0</td>\n      <td>0.0</td>\n      <td>0.0</td>\n      <td>0.0</td>\n      <td>0.0</td>\n      <td>0.0</td>\n      <td>0.0</td>\n      <td>0.0</td>\n      <td>0.0</td>\n      <td>0.0</td>\n      <td>0.0</td>\n      <td>0.0</td>\n      <td>0.0</td>\n      <td>0.0</td>\n      <td>0.0</td>\n      <td>0.0</td>\n      <td>0.0</td>\n      <td>0.0</td>\n      <td>0.0</td>\n      <td>0.0</td>\n      <td>0.0</td>\n      <td>0.0</td>\n      <td>0.0</td>\n      <td>0.0</td>\n      <td>0.0</td>\n      <td>0.0</td>\n      <td>0.0</td>\n      <td>0.0</td>\n      <td>0.0</td>\n      <td>0.0</td>\n      <td>0.0</td>\n      <td>0.0</td>\n      <td>0.0</td>\n      <td>0.0</td>\n      <td>0.0</td>\n      <td>0.0</td>\n      <td>0.0</td>\n      <td>0.0</td>\n      <td>0.0</td>\n      <td>0.0</td>\n      <td>0.0</td>\n      <td>0.0</td>\n      <td>0.0</td>\n      <td>0.0</td>\n      <td>0.0</td>\n      <td>0.0</td>\n      <td>0.0</td>\n      <td>0.0</td>\n      <td>0.0</td>\n      <td>0.0</td>\n      <td>0.0</td>\n      <td>0.0</td>\n      <td>0.0</td>\n      <td>0.0</td>\n      <td>0.0</td>\n      <td>0.0</td>\n      <td>0.0</td>\n      <td>0.0</td>\n      <td>0.0</td>\n    </tr>\n  </tbody>\n</table>\n</div>"
     },
     "metadata": {},
     "execution_count": 73
    }
   ],
   "source": [
    "x_train.head()"
   ]
  },
  {
   "cell_type": "code",
   "execution_count": 74,
   "metadata": {},
   "outputs": [],
   "source": [
    "x_train, x_val, y_train, y_val = train_test_split(x_train, y_train, test_size=0.15, random_state=69)"
   ]
  },
  {
   "cell_type": "code",
   "execution_count": 75,
   "metadata": {},
   "outputs": [
    {
     "output_type": "stream",
     "name": "stdout",
     "text": [
      "Model: \"sequential_5\"\n",
      "_________________________________________________________________\n",
      " Layer (type)                Output Shape              Param #   \n",
      "=================================================================\n",
      " dense_20 (Dense)            (None, 64)                13376     \n",
      "                                                                 \n",
      " dropout_7 (Dropout)         (None, 64)                0         \n",
      "                                                                 \n",
      " dense_21 (Dense)            (None, 128)               8320      \n",
      "                                                                 \n",
      " dense_22 (Dense)            (None, 6)                 774       \n",
      "                                                                 \n",
      "=================================================================\n",
      "Total params: 22,470\n",
      "Trainable params: 22,470\n",
      "Non-trainable params: 0\n",
      "_________________________________________________________________\n"
     ]
    }
   ],
   "source": [
    "ann_model = Sequential()\n",
    "ann_model.add(Dense(64, activation = 'relu', input_dim = 208))\n",
    "ann_model.add(Dropout(.1))\n",
    "ann_model.add(Dense(128, activation='relu'))\n",
    "ann_model.add(Dense(6, activation='softmax'))\n",
    "\n",
    "ann_model.summary()\n",
    "# configure the model\n",
    "ann_model.compile(optimizer='adam',\n",
    "                    loss='sparse_categorical_crossentropy',\n",
    "                    metrics=['accuracy'])"
   ]
  },
  {
   "cell_type": "code",
   "execution_count": 76,
   "metadata": {},
   "outputs": [
    {
     "output_type": "stream",
     "name": "stdout",
     "text": [
      "Epoch 1/20\n",
      "161/161 [==============================] - 1s 4ms/step - loss: 0.6408 - accuracy: 0.8210 - val_loss: 0.2898 - val_accuracy: 0.8998\n",
      "Epoch 2/20\n",
      "161/161 [==============================] - 0s 2ms/step - loss: 0.1964 - accuracy: 0.9331 - val_loss: 0.2154 - val_accuracy: 0.9139\n",
      "Epoch 3/20\n",
      "161/161 [==============================] - 0s 2ms/step - loss: 0.1598 - accuracy: 0.9426 - val_loss: 0.1919 - val_accuracy: 0.9330\n",
      "Epoch 4/20\n",
      "161/161 [==============================] - 0s 2ms/step - loss: 0.1433 - accuracy: 0.9486 - val_loss: 0.1887 - val_accuracy: 0.9506\n",
      "Epoch 5/20\n",
      "161/161 [==============================] - 0s 2ms/step - loss: 0.1291 - accuracy: 0.9549 - val_loss: 0.1787 - val_accuracy: 0.9358\n",
      "Epoch 6/20\n",
      "161/161 [==============================] - 0s 2ms/step - loss: 0.1193 - accuracy: 0.9565 - val_loss: 0.1759 - val_accuracy: 0.9428\n",
      "Epoch 7/20\n",
      "161/161 [==============================] - 0s 2ms/step - loss: 0.1099 - accuracy: 0.9620 - val_loss: 0.1668 - val_accuracy: 0.9386\n",
      "Epoch 8/20\n",
      "161/161 [==============================] - 0s 2ms/step - loss: 0.1021 - accuracy: 0.9636 - val_loss: 0.1701 - val_accuracy: 0.9478\n",
      "Epoch 9/20\n",
      "161/161 [==============================] - 0s 2ms/step - loss: 0.0980 - accuracy: 0.9666 - val_loss: 0.1591 - val_accuracy: 0.9541\n",
      "Epoch 10/20\n",
      "161/161 [==============================] - 0s 2ms/step - loss: 0.0927 - accuracy: 0.9657 - val_loss: 0.1623 - val_accuracy: 0.9555\n",
      "Epoch 11/20\n",
      "161/161 [==============================] - 0s 2ms/step - loss: 0.0895 - accuracy: 0.9676 - val_loss: 0.1580 - val_accuracy: 0.9513\n",
      "Epoch 12/20\n",
      "161/161 [==============================] - 0s 2ms/step - loss: 0.0846 - accuracy: 0.9676 - val_loss: 0.1610 - val_accuracy: 0.9520\n",
      "Epoch 13/20\n",
      "161/161 [==============================] - 0s 2ms/step - loss: 0.0809 - accuracy: 0.9702 - val_loss: 0.1655 - val_accuracy: 0.9534\n",
      "Epoch 14/20\n",
      "161/161 [==============================] - 0s 2ms/step - loss: 0.0764 - accuracy: 0.9694 - val_loss: 0.1650 - val_accuracy: 0.9520\n",
      "Epoch 15/20\n",
      "161/161 [==============================] - 0s 2ms/step - loss: 0.0721 - accuracy: 0.9730 - val_loss: 0.1618 - val_accuracy: 0.9506\n",
      "Epoch 16/20\n",
      "161/161 [==============================] - 0s 2ms/step - loss: 0.0685 - accuracy: 0.9745 - val_loss: 0.1671 - val_accuracy: 0.9534\n",
      "Epoch 17/20\n",
      "161/161 [==============================] - 0s 2ms/step - loss: 0.0681 - accuracy: 0.9746 - val_loss: 0.1724 - val_accuracy: 0.9464\n",
      "Epoch 18/20\n",
      "161/161 [==============================] - 0s 2ms/step - loss: 0.0634 - accuracy: 0.9770 - val_loss: 0.1680 - val_accuracy: 0.9570\n",
      "Epoch 19/20\n",
      "161/161 [==============================] - 0s 2ms/step - loss: 0.0616 - accuracy: 0.9777 - val_loss: 0.1716 - val_accuracy: 0.9548\n",
      "Epoch 20/20\n",
      "161/161 [==============================] - 0s 2ms/step - loss: 0.0610 - accuracy: 0.9772 - val_loss: 0.1725 - val_accuracy: 0.9534\n",
      "Total time taken for the program execution 7.449026107788086\n",
      "Train loss: 0.046613141894340515 / Train accuracy: 0.982687771320343\n",
      "Test loss: 0.21222521364688873 / Test accuracy: 0.9562087655067444\n"
     ]
    }
   ],
   "source": [
    "start_time = time.time()\n",
    "history = ann_model.fit(x_train, y_train, epochs=20, batch_size=50, validation_data=(x_val, y_val))\n",
    "time_taken = time.time() - start_time\n",
    "print(\"Total time taken for the program execution\", time_taken) # seconds\n",
    "\n",
    "score = ann_model.evaluate(x_train, y_train, verbose=0)\n",
    "print(f'Train loss: {score[0]} / Train accuracy: {score[1]}')\n",
    "\n",
    "score = ann_model.evaluate(x_test, y_test, verbose=0)\n",
    "print(f'Test loss: {score[0]} / Test accuracy: {score[1]}')"
   ]
  },
  {
   "cell_type": "code",
   "execution_count": 77,
   "metadata": {},
   "outputs": [
    {
     "output_type": "stream",
     "name": "stdout",
     "text": [
      "53/53 [==============================] - 0s 1ms/step\n",
      "              precision    recall  f1-score   support\n",
      "\n",
      "           0    0.93046   0.93947   0.93494       413\n",
      "           1    0.94255   0.96304   0.95269       460\n",
      "           2    0.96992   0.93478   0.95203       276\n",
      "           3    0.98249   0.97490   0.97868       518\n",
      "\n",
      "    accuracy                        0.95621      1667\n",
      "   macro avg    0.95636   0.95305   0.95458      1667\n",
      "weighted avg    0.95650   0.95621   0.95626      1667\n",
      "\n"
     ]
    }
   ],
   "source": [
    "pred = ann_model.predict(x_test)\n",
    "pred = np.argmax(pred,axis=1)\n",
    "print(classification_report(y_test, pred, digits=5))"
   ]
  },
  {
   "cell_type": "markdown",
   "metadata": {},
   "source": [
    "## ANN\n",
    "training a ANN with categorical and numerical attributes"
   ]
  },
  {
   "cell_type": "code",
   "execution_count": 83,
   "metadata": {},
   "outputs": [],
   "source": [
    "to_drop = ['Unnamed: 0', 'screen_name', 'url', 'profile_image_url', 'description',\n",
    "           'id', 'name', 'account_type', 'tweets_list', 'tweets_list_processed',\n",
    "          'description_processed', 'protected', 'verified', 'account_type_multi', \n",
    "          'profile_use_background_image', 'profile_background_tile']\n",
    "\n",
    "x_train, y_train = train_df.drop(to_drop, axis=1), train_df['account_type_multi']\n",
    "x_test, y_test = test_df.drop(to_drop, axis=1), test_df['account_type_multi']"
   ]
  },
  {
   "cell_type": "code",
   "execution_count": 84,
   "metadata": {},
   "outputs": [],
   "source": [
    "x_train, x_val, y_train, y_val = train_test_split(x_train, y_train, test_size=0.15, random_state=69)"
   ]
  },
  {
   "cell_type": "code",
   "execution_count": 85,
   "metadata": {},
   "outputs": [
    {
     "output_type": "stream",
     "name": "stdout",
     "text": [
      "Model: \"sequential_7\"\n",
      "_________________________________________________________________\n",
      " Layer (type)                Output Shape              Param #   \n",
      "=================================================================\n",
      " dense_26 (Dense)            (None, 64)                14272     \n",
      "                                                                 \n",
      " dropout_9 (Dropout)         (None, 64)                0         \n",
      "                                                                 \n",
      " dense_27 (Dense)            (None, 128)               8320      \n",
      "                                                                 \n",
      " dense_28 (Dense)            (None, 6)                 774       \n",
      "                                                                 \n",
      "=================================================================\n",
      "Total params: 23,366\n",
      "Trainable params: 23,366\n",
      "Non-trainable params: 0\n",
      "_________________________________________________________________\n"
     ]
    }
   ],
   "source": [
    "start_time = time.time()\n",
    "\n",
    "ann_model = Sequential()\n",
    "ann_model.add(Dense(64, activation = 'relu', input_dim = 222))\n",
    "ann_model.add(Dropout(.1))\n",
    "ann_model.add(Dense(128, activation='relu'))\n",
    "ann_model.add(Dense(6, activation='softmax'))\n",
    "\n",
    "ann_model.summary()\n",
    "# configure the model\n",
    "ann_model.compile(optimizer='adam',\n",
    "                    loss='sparse_categorical_crossentropy',\n",
    "                    metrics=['accuracy'])"
   ]
  },
  {
   "cell_type": "code",
   "execution_count": 86,
   "metadata": {},
   "outputs": [
    {
     "output_type": "stream",
     "name": "stdout",
     "text": [
      "Epoch 1/20\n",
      "161/161 [==============================] - 1s 4ms/step - loss: 0.5580 - accuracy: 0.8250 - val_loss: 0.2441 - val_accuracy: 0.9358\n",
      "Epoch 2/20\n",
      "161/161 [==============================] - 0s 2ms/step - loss: 0.2441 - accuracy: 0.9248 - val_loss: 0.2012 - val_accuracy: 0.9492\n",
      "Epoch 3/20\n",
      "161/161 [==============================] - 0s 2ms/step - loss: 0.1615 - accuracy: 0.9539 - val_loss: 0.1680 - val_accuracy: 0.9661\n",
      "Epoch 4/20\n",
      "161/161 [==============================] - 0s 2ms/step - loss: 0.1306 - accuracy: 0.9655 - val_loss: 0.1317 - val_accuracy: 0.9732\n",
      "Epoch 5/20\n",
      "161/161 [==============================] - 0s 2ms/step - loss: 0.1088 - accuracy: 0.9701 - val_loss: 0.1301 - val_accuracy: 0.9753\n",
      "Epoch 6/20\n",
      "161/161 [==============================] - 0s 2ms/step - loss: 0.0827 - accuracy: 0.9765 - val_loss: 0.1092 - val_accuracy: 0.9682\n",
      "Epoch 7/20\n",
      "161/161 [==============================] - 0s 2ms/step - loss: 0.0849 - accuracy: 0.9762 - val_loss: 0.1267 - val_accuracy: 0.9760\n",
      "Epoch 8/20\n",
      "161/161 [==============================] - 0s 2ms/step - loss: 0.0786 - accuracy: 0.9801 - val_loss: 0.2178 - val_accuracy: 0.9661\n",
      "Epoch 9/20\n",
      "161/161 [==============================] - 0s 2ms/step - loss: 0.0781 - accuracy: 0.9787 - val_loss: 0.1045 - val_accuracy: 0.9774\n",
      "Epoch 10/20\n",
      "161/161 [==============================] - 0s 2ms/step - loss: 0.0709 - accuracy: 0.9826 - val_loss: 0.1774 - val_accuracy: 0.9647\n",
      "Epoch 11/20\n",
      "161/161 [==============================] - 0s 2ms/step - loss: 0.0629 - accuracy: 0.9822 - val_loss: 0.0921 - val_accuracy: 0.9774\n",
      "Epoch 12/20\n",
      "161/161 [==============================] - 0s 2ms/step - loss: 0.0529 - accuracy: 0.9844 - val_loss: 0.0987 - val_accuracy: 0.9781\n",
      "Epoch 13/20\n",
      "161/161 [==============================] - 0s 2ms/step - loss: 0.0559 - accuracy: 0.9831 - val_loss: 0.1105 - val_accuracy: 0.9788\n",
      "Epoch 14/20\n",
      "161/161 [==============================] - 0s 2ms/step - loss: 0.0531 - accuracy: 0.9852 - val_loss: 0.0845 - val_accuracy: 0.9774\n",
      "Epoch 15/20\n",
      "161/161 [==============================] - 0s 2ms/step - loss: 0.0465 - accuracy: 0.9867 - val_loss: 0.0831 - val_accuracy: 0.9817\n",
      "Epoch 16/20\n",
      "161/161 [==============================] - 0s 2ms/step - loss: 0.0459 - accuracy: 0.9874 - val_loss: 0.0908 - val_accuracy: 0.9788\n",
      "Epoch 17/20\n",
      "161/161 [==============================] - 0s 2ms/step - loss: 0.0423 - accuracy: 0.9878 - val_loss: 0.0863 - val_accuracy: 0.9788\n",
      "Epoch 18/20\n",
      "161/161 [==============================] - 0s 2ms/step - loss: 0.0461 - accuracy: 0.9874 - val_loss: 0.0879 - val_accuracy: 0.9767\n",
      "Epoch 19/20\n",
      "161/161 [==============================] - 0s 2ms/step - loss: 0.0429 - accuracy: 0.9865 - val_loss: 0.1121 - val_accuracy: 0.9781\n",
      "Epoch 20/20\n",
      "161/161 [==============================] - 0s 2ms/step - loss: 0.0416 - accuracy: 0.9872 - val_loss: 0.0893 - val_accuracy: 0.9795\n",
      "Total time taken for the program execution 6.7363951206207275\n",
      "Train loss: 0.03321533277630806 / Train accuracy: 0.990036129951477\n",
      "Test loss: 0.10333868116140366 / Test accuracy: 0.9772045612335205\n"
     ]
    }
   ],
   "source": [
    "start_time = time.time()\n",
    "history = ann_model.fit(x_train, y_train, epochs=20, batch_size=50, validation_data=(x_val, y_val))\n",
    "time_taken = time.time() - start_time\n",
    "print(\"Total time taken for the program execution\", time_taken) # seconds\n",
    "\n",
    "score = ann_model.evaluate(x_train, y_train, verbose=0)\n",
    "print(f'Train loss: {score[0]} / Train accuracy: {score[1]}')\n",
    "\n",
    "score = ann_model.evaluate(x_test, y_test, verbose=0)\n",
    "print(f'Test loss: {score[0]} / Test accuracy: {score[1]}')"
   ]
  },
  {
   "cell_type": "code",
   "execution_count": 87,
   "metadata": {},
   "outputs": [
    {
     "output_type": "display_data",
     "data": {
      "text/plain": "<Figure size 1200x600 with 2 Axes>",
      "image/svg+xml": "<?xml version=\"1.0\" encoding=\"utf-8\" standalone=\"no\"?>\n<!DOCTYPE svg PUBLIC \"-//W3C//DTD SVG 1.1//EN\"\n  \"http://www.w3.org/Graphics/SVG/1.1/DTD/svg11.dtd\">\n<!-- Created with matplotlib (https://matplotlib.org/) -->\n<svg height=\"378.83625pt\" version=\"1.1\" viewBox=\"0 0 713.265625 378.83625\" width=\"713.265625pt\" xmlns=\"http://www.w3.org/2000/svg\" xmlns:xlink=\"http://www.w3.org/1999/xlink\">\n <metadata>\n  <rdf:RDF xmlns:cc=\"http://creativecommons.org/ns#\" xmlns:dc=\"http://purl.org/dc/elements/1.1/\" xmlns:rdf=\"http://www.w3.org/1999/02/22-rdf-syntax-ns#\">\n   <cc:Work>\n    <dc:type rdf:resource=\"http://purl.org/dc/dcmitype/StillImage\"/>\n    <dc:date>2022-11-15T20:49:16.562811</dc:date>\n    <dc:format>image/svg+xml</dc:format>\n    <dc:creator>\n     <cc:Agent>\n      <dc:title>Matplotlib v3.3.2, https://matplotlib.org/</dc:title>\n     </cc:Agent>\n    </dc:creator>\n   </cc:Work>\n  </rdf:RDF>\n </metadata>\n <defs>\n  <style type=\"text/css\">*{stroke-linecap:butt;stroke-linejoin:round;}</style>\n </defs>\n <g id=\"figure_1\">\n  <g id=\"patch_1\">\n   <path d=\"M 0 378.83625 \nL 713.265625 378.83625 \nL 713.265625 0 \nL 0 0 \nz\n\" style=\"fill:#ffffff;\"/>\n  </g>\n  <g id=\"axes_1\">\n   <g id=\"patch_2\">\n    <path d=\"M 36.465625 173.518125 \nL 706.065625 173.518125 \nL 706.065625 22.318125 \nL 36.465625 22.318125 \nz\n\" style=\"fill:#ffffff;\"/>\n   </g>\n   <g id=\"matplotlib.axis_1\">\n    <g id=\"xtick_1\">\n     <g id=\"line2d_1\">\n      <defs>\n       <path d=\"M 0 0 \nL 0 3.5 \n\" id=\"mfce5398858\" style=\"stroke:#000000;stroke-width:0.8;\"/>\n      </defs>\n      <g>\n       <use style=\"stroke:#000000;stroke-width:0.8;\" x=\"66.901989\" xlink:href=\"#mfce5398858\" y=\"173.518125\"/>\n      </g>\n     </g>\n     <g id=\"text_1\">\n      <!-- 0.0 -->\n      <g transform=\"translate(58.950426 188.116562)scale(0.1 -0.1)\">\n       <defs>\n        <path d=\"M 31.78125 66.40625 \nQ 24.171875 66.40625 20.328125 58.90625 \nQ 16.5 51.421875 16.5 36.375 \nQ 16.5 21.390625 20.328125 13.890625 \nQ 24.171875 6.390625 31.78125 6.390625 \nQ 39.453125 6.390625 43.28125 13.890625 \nQ 47.125 21.390625 47.125 36.375 \nQ 47.125 51.421875 43.28125 58.90625 \nQ 39.453125 66.40625 31.78125 66.40625 \nz\nM 31.78125 74.21875 \nQ 44.046875 74.21875 50.515625 64.515625 \nQ 56.984375 54.828125 56.984375 36.375 \nQ 56.984375 17.96875 50.515625 8.265625 \nQ 44.046875 -1.421875 31.78125 -1.421875 \nQ 19.53125 -1.421875 13.0625 8.265625 \nQ 6.59375 17.96875 6.59375 36.375 \nQ 6.59375 54.828125 13.0625 64.515625 \nQ 19.53125 74.21875 31.78125 74.21875 \nz\n\" id=\"DejaVuSans-48\"/>\n        <path d=\"M 10.6875 12.40625 \nL 21 12.40625 \nL 21 0 \nL 10.6875 0 \nz\n\" id=\"DejaVuSans-46\"/>\n       </defs>\n       <use xlink:href=\"#DejaVuSans-48\"/>\n       <use x=\"63.623047\" xlink:href=\"#DejaVuSans-46\"/>\n       <use x=\"95.410156\" xlink:href=\"#DejaVuSans-48\"/>\n      </g>\n     </g>\n    </g>\n    <g id=\"xtick_2\">\n     <g id=\"line2d_2\">\n      <g>\n       <use style=\"stroke:#000000;stroke-width:0.8;\" x=\"146.997682\" xlink:href=\"#mfce5398858\" y=\"173.518125\"/>\n      </g>\n     </g>\n     <g id=\"text_2\">\n      <!-- 2.5 -->\n      <g transform=\"translate(139.04612 188.116562)scale(0.1 -0.1)\">\n       <defs>\n        <path d=\"M 19.1875 8.296875 \nL 53.609375 8.296875 \nL 53.609375 0 \nL 7.328125 0 \nL 7.328125 8.296875 \nQ 12.9375 14.109375 22.625 23.890625 \nQ 32.328125 33.6875 34.8125 36.53125 \nQ 39.546875 41.84375 41.421875 45.53125 \nQ 43.3125 49.21875 43.3125 52.78125 \nQ 43.3125 58.59375 39.234375 62.25 \nQ 35.15625 65.921875 28.609375 65.921875 \nQ 23.96875 65.921875 18.8125 64.3125 \nQ 13.671875 62.703125 7.8125 59.421875 \nL 7.8125 69.390625 \nQ 13.765625 71.78125 18.9375 73 \nQ 24.125 74.21875 28.421875 74.21875 \nQ 39.75 74.21875 46.484375 68.546875 \nQ 53.21875 62.890625 53.21875 53.421875 \nQ 53.21875 48.921875 51.53125 44.890625 \nQ 49.859375 40.875 45.40625 35.40625 \nQ 44.1875 33.984375 37.640625 27.21875 \nQ 31.109375 20.453125 19.1875 8.296875 \nz\n\" id=\"DejaVuSans-50\"/>\n        <path d=\"M 10.796875 72.90625 \nL 49.515625 72.90625 \nL 49.515625 64.59375 \nL 19.828125 64.59375 \nL 19.828125 46.734375 \nQ 21.96875 47.46875 24.109375 47.828125 \nQ 26.265625 48.1875 28.421875 48.1875 \nQ 40.625 48.1875 47.75 41.5 \nQ 54.890625 34.8125 54.890625 23.390625 \nQ 54.890625 11.625 47.5625 5.09375 \nQ 40.234375 -1.421875 26.90625 -1.421875 \nQ 22.3125 -1.421875 17.546875 -0.640625 \nQ 12.796875 0.140625 7.71875 1.703125 \nL 7.71875 11.625 \nQ 12.109375 9.234375 16.796875 8.0625 \nQ 21.484375 6.890625 26.703125 6.890625 \nQ 35.15625 6.890625 40.078125 11.328125 \nQ 45.015625 15.765625 45.015625 23.390625 \nQ 45.015625 31 40.078125 35.4375 \nQ 35.15625 39.890625 26.703125 39.890625 \nQ 22.75 39.890625 18.8125 39.015625 \nQ 14.890625 38.140625 10.796875 36.28125 \nz\n\" id=\"DejaVuSans-53\"/>\n       </defs>\n       <use xlink:href=\"#DejaVuSans-50\"/>\n       <use x=\"63.623047\" xlink:href=\"#DejaVuSans-46\"/>\n       <use x=\"95.410156\" xlink:href=\"#DejaVuSans-53\"/>\n      </g>\n     </g>\n    </g>\n    <g id=\"xtick_3\">\n     <g id=\"line2d_3\">\n      <g>\n       <use style=\"stroke:#000000;stroke-width:0.8;\" x=\"227.093376\" xlink:href=\"#mfce5398858\" y=\"173.518125\"/>\n      </g>\n     </g>\n     <g id=\"text_3\">\n      <!-- 5.0 -->\n      <g transform=\"translate(219.141814 188.116562)scale(0.1 -0.1)\">\n       <use xlink:href=\"#DejaVuSans-53\"/>\n       <use x=\"63.623047\" xlink:href=\"#DejaVuSans-46\"/>\n       <use x=\"95.410156\" xlink:href=\"#DejaVuSans-48\"/>\n      </g>\n     </g>\n    </g>\n    <g id=\"xtick_4\">\n     <g id=\"line2d_4\">\n      <g>\n       <use style=\"stroke:#000000;stroke-width:0.8;\" x=\"307.18907\" xlink:href=\"#mfce5398858\" y=\"173.518125\"/>\n      </g>\n     </g>\n     <g id=\"text_4\">\n      <!-- 7.5 -->\n      <g transform=\"translate(299.237507 188.116562)scale(0.1 -0.1)\">\n       <defs>\n        <path d=\"M 8.203125 72.90625 \nL 55.078125 72.90625 \nL 55.078125 68.703125 \nL 28.609375 0 \nL 18.3125 0 \nL 43.21875 64.59375 \nL 8.203125 64.59375 \nz\n\" id=\"DejaVuSans-55\"/>\n       </defs>\n       <use xlink:href=\"#DejaVuSans-55\"/>\n       <use x=\"63.623047\" xlink:href=\"#DejaVuSans-46\"/>\n       <use x=\"95.410156\" xlink:href=\"#DejaVuSans-53\"/>\n      </g>\n     </g>\n    </g>\n    <g id=\"xtick_5\">\n     <g id=\"line2d_5\">\n      <g>\n       <use style=\"stroke:#000000;stroke-width:0.8;\" x=\"387.284764\" xlink:href=\"#mfce5398858\" y=\"173.518125\"/>\n      </g>\n     </g>\n     <g id=\"text_5\">\n      <!-- 10.0 -->\n      <g transform=\"translate(376.151951 188.116562)scale(0.1 -0.1)\">\n       <defs>\n        <path d=\"M 12.40625 8.296875 \nL 28.515625 8.296875 \nL 28.515625 63.921875 \nL 10.984375 60.40625 \nL 10.984375 69.390625 \nL 28.421875 72.90625 \nL 38.28125 72.90625 \nL 38.28125 8.296875 \nL 54.390625 8.296875 \nL 54.390625 0 \nL 12.40625 0 \nz\n\" id=\"DejaVuSans-49\"/>\n       </defs>\n       <use xlink:href=\"#DejaVuSans-49\"/>\n       <use x=\"63.623047\" xlink:href=\"#DejaVuSans-48\"/>\n       <use x=\"127.246094\" xlink:href=\"#DejaVuSans-46\"/>\n       <use x=\"159.033203\" xlink:href=\"#DejaVuSans-48\"/>\n      </g>\n     </g>\n    </g>\n    <g id=\"xtick_6\">\n     <g id=\"line2d_6\">\n      <g>\n       <use style=\"stroke:#000000;stroke-width:0.8;\" x=\"467.380458\" xlink:href=\"#mfce5398858\" y=\"173.518125\"/>\n      </g>\n     </g>\n     <g id=\"text_6\">\n      <!-- 12.5 -->\n      <g transform=\"translate(456.247645 188.116562)scale(0.1 -0.1)\">\n       <use xlink:href=\"#DejaVuSans-49\"/>\n       <use x=\"63.623047\" xlink:href=\"#DejaVuSans-50\"/>\n       <use x=\"127.246094\" xlink:href=\"#DejaVuSans-46\"/>\n       <use x=\"159.033203\" xlink:href=\"#DejaVuSans-53\"/>\n      </g>\n     </g>\n    </g>\n    <g id=\"xtick_7\">\n     <g id=\"line2d_7\">\n      <g>\n       <use style=\"stroke:#000000;stroke-width:0.8;\" x=\"547.476151\" xlink:href=\"#mfce5398858\" y=\"173.518125\"/>\n      </g>\n     </g>\n     <g id=\"text_7\">\n      <!-- 15.0 -->\n      <g transform=\"translate(536.343339 188.116562)scale(0.1 -0.1)\">\n       <use xlink:href=\"#DejaVuSans-49\"/>\n       <use x=\"63.623047\" xlink:href=\"#DejaVuSans-53\"/>\n       <use x=\"127.246094\" xlink:href=\"#DejaVuSans-46\"/>\n       <use x=\"159.033203\" xlink:href=\"#DejaVuSans-48\"/>\n      </g>\n     </g>\n    </g>\n    <g id=\"xtick_8\">\n     <g id=\"line2d_8\">\n      <g>\n       <use style=\"stroke:#000000;stroke-width:0.8;\" x=\"627.571845\" xlink:href=\"#mfce5398858\" y=\"173.518125\"/>\n      </g>\n     </g>\n     <g id=\"text_8\">\n      <!-- 17.5 -->\n      <g transform=\"translate(616.439033 188.116562)scale(0.1 -0.1)\">\n       <use xlink:href=\"#DejaVuSans-49\"/>\n       <use x=\"63.623047\" xlink:href=\"#DejaVuSans-55\"/>\n       <use x=\"127.246094\" xlink:href=\"#DejaVuSans-46\"/>\n       <use x=\"159.033203\" xlink:href=\"#DejaVuSans-53\"/>\n      </g>\n     </g>\n    </g>\n   </g>\n   <g id=\"matplotlib.axis_2\">\n    <g id=\"ytick_1\">\n     <g id=\"line2d_9\">\n      <defs>\n       <path d=\"M 0 0 \nL -3.5 0 \n\" id=\"m6a77a1aedf\" style=\"stroke:#000000;stroke-width:0.8;\"/>\n      </defs>\n      <g>\n       <use style=\"stroke:#000000;stroke-width:0.8;\" x=\"36.465625\" xlink:href=\"#m6a77a1aedf\" y=\"145.543443\"/>\n      </g>\n     </g>\n     <g id=\"text_9\">\n      <!-- 0.85 -->\n      <g transform=\"translate(7.2 149.342662)scale(0.1 -0.1)\">\n       <defs>\n        <path d=\"M 31.78125 34.625 \nQ 24.75 34.625 20.71875 30.859375 \nQ 16.703125 27.09375 16.703125 20.515625 \nQ 16.703125 13.921875 20.71875 10.15625 \nQ 24.75 6.390625 31.78125 6.390625 \nQ 38.8125 6.390625 42.859375 10.171875 \nQ 46.921875 13.96875 46.921875 20.515625 \nQ 46.921875 27.09375 42.890625 30.859375 \nQ 38.875 34.625 31.78125 34.625 \nz\nM 21.921875 38.8125 \nQ 15.578125 40.375 12.03125 44.71875 \nQ 8.5 49.078125 8.5 55.328125 \nQ 8.5 64.0625 14.71875 69.140625 \nQ 20.953125 74.21875 31.78125 74.21875 \nQ 42.671875 74.21875 48.875 69.140625 \nQ 55.078125 64.0625 55.078125 55.328125 \nQ 55.078125 49.078125 51.53125 44.71875 \nQ 48 40.375 41.703125 38.8125 \nQ 48.828125 37.15625 52.796875 32.3125 \nQ 56.78125 27.484375 56.78125 20.515625 \nQ 56.78125 9.90625 50.3125 4.234375 \nQ 43.84375 -1.421875 31.78125 -1.421875 \nQ 19.734375 -1.421875 13.25 4.234375 \nQ 6.78125 9.90625 6.78125 20.515625 \nQ 6.78125 27.484375 10.78125 32.3125 \nQ 14.796875 37.15625 21.921875 38.8125 \nz\nM 18.3125 54.390625 \nQ 18.3125 48.734375 21.84375 45.5625 \nQ 25.390625 42.390625 31.78125 42.390625 \nQ 38.140625 42.390625 41.71875 45.5625 \nQ 45.3125 48.734375 45.3125 54.390625 \nQ 45.3125 60.0625 41.71875 63.234375 \nQ 38.140625 66.40625 31.78125 66.40625 \nQ 25.390625 66.40625 21.84375 63.234375 \nQ 18.3125 60.0625 18.3125 54.390625 \nz\n\" id=\"DejaVuSans-56\"/>\n       </defs>\n       <use xlink:href=\"#DejaVuSans-48\"/>\n       <use x=\"63.623047\" xlink:href=\"#DejaVuSans-46\"/>\n       <use x=\"95.410156\" xlink:href=\"#DejaVuSans-56\"/>\n       <use x=\"159.033203\" xlink:href=\"#DejaVuSans-53\"/>\n      </g>\n     </g>\n    </g>\n    <g id=\"ytick_2\">\n     <g id=\"line2d_10\">\n      <g>\n       <use style=\"stroke:#000000;stroke-width:0.8;\" x=\"36.465625\" xlink:href=\"#m6a77a1aedf\" y=\"103.323751\"/>\n      </g>\n     </g>\n     <g id=\"text_10\">\n      <!-- 0.90 -->\n      <g transform=\"translate(7.2 107.12297)scale(0.1 -0.1)\">\n       <defs>\n        <path d=\"M 10.984375 1.515625 \nL 10.984375 10.5 \nQ 14.703125 8.734375 18.5 7.8125 \nQ 22.3125 6.890625 25.984375 6.890625 \nQ 35.75 6.890625 40.890625 13.453125 \nQ 46.046875 20.015625 46.78125 33.40625 \nQ 43.953125 29.203125 39.59375 26.953125 \nQ 35.25 24.703125 29.984375 24.703125 \nQ 19.046875 24.703125 12.671875 31.3125 \nQ 6.296875 37.9375 6.296875 49.421875 \nQ 6.296875 60.640625 12.9375 67.421875 \nQ 19.578125 74.21875 30.609375 74.21875 \nQ 43.265625 74.21875 49.921875 64.515625 \nQ 56.59375 54.828125 56.59375 36.375 \nQ 56.59375 19.140625 48.40625 8.859375 \nQ 40.234375 -1.421875 26.421875 -1.421875 \nQ 22.703125 -1.421875 18.890625 -0.6875 \nQ 15.09375 0.046875 10.984375 1.515625 \nz\nM 30.609375 32.421875 \nQ 37.25 32.421875 41.125 36.953125 \nQ 45.015625 41.5 45.015625 49.421875 \nQ 45.015625 57.28125 41.125 61.84375 \nQ 37.25 66.40625 30.609375 66.40625 \nQ 23.96875 66.40625 20.09375 61.84375 \nQ 16.21875 57.28125 16.21875 49.421875 \nQ 16.21875 41.5 20.09375 36.953125 \nQ 23.96875 32.421875 30.609375 32.421875 \nz\n\" id=\"DejaVuSans-57\"/>\n       </defs>\n       <use xlink:href=\"#DejaVuSans-48\"/>\n       <use x=\"63.623047\" xlink:href=\"#DejaVuSans-46\"/>\n       <use x=\"95.410156\" xlink:href=\"#DejaVuSans-57\"/>\n       <use x=\"159.033203\" xlink:href=\"#DejaVuSans-48\"/>\n      </g>\n     </g>\n    </g>\n    <g id=\"ytick_3\">\n     <g id=\"line2d_11\">\n      <g>\n       <use style=\"stroke:#000000;stroke-width:0.8;\" x=\"36.465625\" xlink:href=\"#m6a77a1aedf\" y=\"61.104059\"/>\n      </g>\n     </g>\n     <g id=\"text_11\">\n      <!-- 0.95 -->\n      <g transform=\"translate(7.2 64.903278)scale(0.1 -0.1)\">\n       <use xlink:href=\"#DejaVuSans-48\"/>\n       <use x=\"63.623047\" xlink:href=\"#DejaVuSans-46\"/>\n       <use x=\"95.410156\" xlink:href=\"#DejaVuSans-57\"/>\n       <use x=\"159.033203\" xlink:href=\"#DejaVuSans-53\"/>\n      </g>\n     </g>\n    </g>\n   </g>\n   <g id=\"line2d_12\">\n    <path clip-path=\"url(#p6319ceea97)\" d=\"M 66.901989 166.645398 \nL 98.940266 82.405853 \nL 130.978544 57.796546 \nL 163.016821 48.015907 \nL 195.055099 44.124709 \nL 227.093376 38.761113 \nL 259.131654 38.971441 \nL 291.169931 35.711228 \nL 323.208209 36.868109 \nL 355.246486 33.607896 \nL 387.284764 33.923413 \nL 419.323041 32.030359 \nL 451.361319 33.187239 \nL 483.399596 31.399374 \nL 515.437874 30.137354 \nL 547.476151 29.506319 \nL 579.514429 29.190852 \nL 611.552706 29.506319 \nL 643.590984 30.242493 \nL 675.629261 29.716648 \n\" style=\"fill:none;stroke:#ff0000;stroke-linecap:square;stroke-width:1.5;\"/>\n   </g>\n   <g id=\"line2d_13\">\n    <path clip-path=\"url(#p6319ceea97)\" d=\"M 66.901989 73.1115 \nL 98.940266 61.78936 \nL 130.978544 47.487696 \nL 163.016821 41.528648 \nL 195.055099 39.740934 \nL 227.093376 45.699981 \nL 259.131654 39.145029 \nL 291.169931 47.487696 \nL 323.208209 37.95327 \nL 355.246486 48.679505 \nL 387.284764 37.95327 \nL 419.323041 37.357365 \nL 451.361319 36.76146 \nL 483.399596 37.95327 \nL 515.437874 34.377841 \nL 547.476151 36.76146 \nL 579.514429 36.76146 \nL 611.552706 38.549174 \nL 643.590984 37.357365 \nL 675.629261 36.165555 \n\" style=\"fill:none;stroke:#0000ff;stroke-linecap:square;stroke-width:1.5;\"/>\n   </g>\n   <g id=\"patch_3\">\n    <path d=\"M 36.465625 173.518125 \nL 36.465625 22.318125 \n\" style=\"fill:none;stroke:#000000;stroke-linecap:square;stroke-linejoin:miter;stroke-width:0.8;\"/>\n   </g>\n   <g id=\"patch_4\">\n    <path d=\"M 706.065625 173.518125 \nL 706.065625 22.318125 \n\" style=\"fill:none;stroke:#000000;stroke-linecap:square;stroke-linejoin:miter;stroke-width:0.8;\"/>\n   </g>\n   <g id=\"patch_5\">\n    <path d=\"M 36.465625 173.518125 \nL 706.065625 173.518125 \n\" style=\"fill:none;stroke:#000000;stroke-linecap:square;stroke-linejoin:miter;stroke-width:0.8;\"/>\n   </g>\n   <g id=\"patch_6\">\n    <path d=\"M 36.465625 22.318125 \nL 706.065625 22.318125 \n\" style=\"fill:none;stroke:#000000;stroke-linecap:square;stroke-linejoin:miter;stroke-width:0.8;\"/>\n   </g>\n   <g id=\"text_12\">\n    <!-- Train and Validation Accuracy -->\n    <g transform=\"translate(282.841562 16.318125)scale(0.12 -0.12)\">\n     <defs>\n      <path d=\"M -0.296875 72.90625 \nL 61.375 72.90625 \nL 61.375 64.59375 \nL 35.5 64.59375 \nL 35.5 0 \nL 25.59375 0 \nL 25.59375 64.59375 \nL -0.296875 64.59375 \nz\n\" id=\"DejaVuSans-84\"/>\n      <path d=\"M 41.109375 46.296875 \nQ 39.59375 47.171875 37.8125 47.578125 \nQ 36.03125 48 33.890625 48 \nQ 26.265625 48 22.1875 43.046875 \nQ 18.109375 38.09375 18.109375 28.8125 \nL 18.109375 0 \nL 9.078125 0 \nL 9.078125 54.6875 \nL 18.109375 54.6875 \nL 18.109375 46.1875 \nQ 20.953125 51.171875 25.484375 53.578125 \nQ 30.03125 56 36.53125 56 \nQ 37.453125 56 38.578125 55.875 \nQ 39.703125 55.765625 41.0625 55.515625 \nz\n\" id=\"DejaVuSans-114\"/>\n      <path d=\"M 34.28125 27.484375 \nQ 23.390625 27.484375 19.1875 25 \nQ 14.984375 22.515625 14.984375 16.5 \nQ 14.984375 11.71875 18.140625 8.90625 \nQ 21.296875 6.109375 26.703125 6.109375 \nQ 34.1875 6.109375 38.703125 11.40625 \nQ 43.21875 16.703125 43.21875 25.484375 \nL 43.21875 27.484375 \nz\nM 52.203125 31.203125 \nL 52.203125 0 \nL 43.21875 0 \nL 43.21875 8.296875 \nQ 40.140625 3.328125 35.546875 0.953125 \nQ 30.953125 -1.421875 24.3125 -1.421875 \nQ 15.921875 -1.421875 10.953125 3.296875 \nQ 6 8.015625 6 15.921875 \nQ 6 25.140625 12.171875 29.828125 \nQ 18.359375 34.515625 30.609375 34.515625 \nL 43.21875 34.515625 \nL 43.21875 35.40625 \nQ 43.21875 41.609375 39.140625 45 \nQ 35.0625 48.390625 27.6875 48.390625 \nQ 23 48.390625 18.546875 47.265625 \nQ 14.109375 46.140625 10.015625 43.890625 \nL 10.015625 52.203125 \nQ 14.9375 54.109375 19.578125 55.046875 \nQ 24.21875 56 28.609375 56 \nQ 40.484375 56 46.34375 49.84375 \nQ 52.203125 43.703125 52.203125 31.203125 \nz\n\" id=\"DejaVuSans-97\"/>\n      <path d=\"M 9.421875 54.6875 \nL 18.40625 54.6875 \nL 18.40625 0 \nL 9.421875 0 \nz\nM 9.421875 75.984375 \nL 18.40625 75.984375 \nL 18.40625 64.59375 \nL 9.421875 64.59375 \nz\n\" id=\"DejaVuSans-105\"/>\n      <path d=\"M 54.890625 33.015625 \nL 54.890625 0 \nL 45.90625 0 \nL 45.90625 32.71875 \nQ 45.90625 40.484375 42.875 44.328125 \nQ 39.84375 48.1875 33.796875 48.1875 \nQ 26.515625 48.1875 22.3125 43.546875 \nQ 18.109375 38.921875 18.109375 30.90625 \nL 18.109375 0 \nL 9.078125 0 \nL 9.078125 54.6875 \nL 18.109375 54.6875 \nL 18.109375 46.1875 \nQ 21.34375 51.125 25.703125 53.5625 \nQ 30.078125 56 35.796875 56 \nQ 45.21875 56 50.046875 50.171875 \nQ 54.890625 44.34375 54.890625 33.015625 \nz\n\" id=\"DejaVuSans-110\"/>\n      <path id=\"DejaVuSans-32\"/>\n      <path d=\"M 45.40625 46.390625 \nL 45.40625 75.984375 \nL 54.390625 75.984375 \nL 54.390625 0 \nL 45.40625 0 \nL 45.40625 8.203125 \nQ 42.578125 3.328125 38.25 0.953125 \nQ 33.9375 -1.421875 27.875 -1.421875 \nQ 17.96875 -1.421875 11.734375 6.484375 \nQ 5.515625 14.40625 5.515625 27.296875 \nQ 5.515625 40.1875 11.734375 48.09375 \nQ 17.96875 56 27.875 56 \nQ 33.9375 56 38.25 53.625 \nQ 42.578125 51.265625 45.40625 46.390625 \nz\nM 14.796875 27.296875 \nQ 14.796875 17.390625 18.875 11.75 \nQ 22.953125 6.109375 30.078125 6.109375 \nQ 37.203125 6.109375 41.296875 11.75 \nQ 45.40625 17.390625 45.40625 27.296875 \nQ 45.40625 37.203125 41.296875 42.84375 \nQ 37.203125 48.484375 30.078125 48.484375 \nQ 22.953125 48.484375 18.875 42.84375 \nQ 14.796875 37.203125 14.796875 27.296875 \nz\n\" id=\"DejaVuSans-100\"/>\n      <path d=\"M 28.609375 0 \nL 0.78125 72.90625 \nL 11.078125 72.90625 \nL 34.1875 11.53125 \nL 57.328125 72.90625 \nL 67.578125 72.90625 \nL 39.796875 0 \nz\n\" id=\"DejaVuSans-86\"/>\n      <path d=\"M 9.421875 75.984375 \nL 18.40625 75.984375 \nL 18.40625 0 \nL 9.421875 0 \nz\n\" id=\"DejaVuSans-108\"/>\n      <path d=\"M 18.3125 70.21875 \nL 18.3125 54.6875 \nL 36.8125 54.6875 \nL 36.8125 47.703125 \nL 18.3125 47.703125 \nL 18.3125 18.015625 \nQ 18.3125 11.328125 20.140625 9.421875 \nQ 21.96875 7.515625 27.59375 7.515625 \nL 36.8125 7.515625 \nL 36.8125 0 \nL 27.59375 0 \nQ 17.1875 0 13.234375 3.875 \nQ 9.28125 7.765625 9.28125 18.015625 \nL 9.28125 47.703125 \nL 2.6875 47.703125 \nL 2.6875 54.6875 \nL 9.28125 54.6875 \nL 9.28125 70.21875 \nz\n\" id=\"DejaVuSans-116\"/>\n      <path d=\"M 30.609375 48.390625 \nQ 23.390625 48.390625 19.1875 42.75 \nQ 14.984375 37.109375 14.984375 27.296875 \nQ 14.984375 17.484375 19.15625 11.84375 \nQ 23.34375 6.203125 30.609375 6.203125 \nQ 37.796875 6.203125 41.984375 11.859375 \nQ 46.1875 17.53125 46.1875 27.296875 \nQ 46.1875 37.015625 41.984375 42.703125 \nQ 37.796875 48.390625 30.609375 48.390625 \nz\nM 30.609375 56 \nQ 42.328125 56 49.015625 48.375 \nQ 55.71875 40.765625 55.71875 27.296875 \nQ 55.71875 13.875 49.015625 6.21875 \nQ 42.328125 -1.421875 30.609375 -1.421875 \nQ 18.84375 -1.421875 12.171875 6.21875 \nQ 5.515625 13.875 5.515625 27.296875 \nQ 5.515625 40.765625 12.171875 48.375 \nQ 18.84375 56 30.609375 56 \nz\n\" id=\"DejaVuSans-111\"/>\n      <path d=\"M 34.1875 63.1875 \nL 20.796875 26.90625 \nL 47.609375 26.90625 \nz\nM 28.609375 72.90625 \nL 39.796875 72.90625 \nL 67.578125 0 \nL 57.328125 0 \nL 50.6875 18.703125 \nL 17.828125 18.703125 \nL 11.1875 0 \nL 0.78125 0 \nz\n\" id=\"DejaVuSans-65\"/>\n      <path d=\"M 48.78125 52.59375 \nL 48.78125 44.1875 \nQ 44.96875 46.296875 41.140625 47.34375 \nQ 37.3125 48.390625 33.40625 48.390625 \nQ 24.65625 48.390625 19.8125 42.84375 \nQ 14.984375 37.3125 14.984375 27.296875 \nQ 14.984375 17.28125 19.8125 11.734375 \nQ 24.65625 6.203125 33.40625 6.203125 \nQ 37.3125 6.203125 41.140625 7.25 \nQ 44.96875 8.296875 48.78125 10.40625 \nL 48.78125 2.09375 \nQ 45.015625 0.34375 40.984375 -0.53125 \nQ 36.96875 -1.421875 32.421875 -1.421875 \nQ 20.0625 -1.421875 12.78125 6.34375 \nQ 5.515625 14.109375 5.515625 27.296875 \nQ 5.515625 40.671875 12.859375 48.328125 \nQ 20.21875 56 33.015625 56 \nQ 37.15625 56 41.109375 55.140625 \nQ 45.0625 54.296875 48.78125 52.59375 \nz\n\" id=\"DejaVuSans-99\"/>\n      <path d=\"M 8.5 21.578125 \nL 8.5 54.6875 \nL 17.484375 54.6875 \nL 17.484375 21.921875 \nQ 17.484375 14.15625 20.5 10.265625 \nQ 23.53125 6.390625 29.59375 6.390625 \nQ 36.859375 6.390625 41.078125 11.03125 \nQ 45.3125 15.671875 45.3125 23.6875 \nL 45.3125 54.6875 \nL 54.296875 54.6875 \nL 54.296875 0 \nL 45.3125 0 \nL 45.3125 8.40625 \nQ 42.046875 3.421875 37.71875 1 \nQ 33.40625 -1.421875 27.6875 -1.421875 \nQ 18.265625 -1.421875 13.375 4.4375 \nQ 8.5 10.296875 8.5 21.578125 \nz\nM 31.109375 56 \nz\n\" id=\"DejaVuSans-117\"/>\n      <path d=\"M 32.171875 -5.078125 \nQ 28.375 -14.84375 24.75 -17.8125 \nQ 21.140625 -20.796875 15.09375 -20.796875 \nL 7.90625 -20.796875 \nL 7.90625 -13.28125 \nL 13.1875 -13.28125 \nQ 16.890625 -13.28125 18.9375 -11.515625 \nQ 21 -9.765625 23.484375 -3.21875 \nL 25.09375 0.875 \nL 2.984375 54.6875 \nL 12.5 54.6875 \nL 29.59375 11.921875 \nL 46.6875 54.6875 \nL 56.203125 54.6875 \nz\n\" id=\"DejaVuSans-121\"/>\n     </defs>\n     <use xlink:href=\"#DejaVuSans-84\"/>\n     <use x=\"46.333984\" xlink:href=\"#DejaVuSans-114\"/>\n     <use x=\"87.447266\" xlink:href=\"#DejaVuSans-97\"/>\n     <use x=\"148.726562\" xlink:href=\"#DejaVuSans-105\"/>\n     <use x=\"176.509766\" xlink:href=\"#DejaVuSans-110\"/>\n     <use x=\"239.888672\" xlink:href=\"#DejaVuSans-32\"/>\n     <use x=\"271.675781\" xlink:href=\"#DejaVuSans-97\"/>\n     <use x=\"332.955078\" xlink:href=\"#DejaVuSans-110\"/>\n     <use x=\"396.333984\" xlink:href=\"#DejaVuSans-100\"/>\n     <use x=\"459.810547\" xlink:href=\"#DejaVuSans-32\"/>\n     <use x=\"491.597656\" xlink:href=\"#DejaVuSans-86\"/>\n     <use x=\"552.255859\" xlink:href=\"#DejaVuSans-97\"/>\n     <use x=\"613.535156\" xlink:href=\"#DejaVuSans-108\"/>\n     <use x=\"641.318359\" xlink:href=\"#DejaVuSans-105\"/>\n     <use x=\"669.101562\" xlink:href=\"#DejaVuSans-100\"/>\n     <use x=\"732.578125\" xlink:href=\"#DejaVuSans-97\"/>\n     <use x=\"793.857422\" xlink:href=\"#DejaVuSans-116\"/>\n     <use x=\"833.066406\" xlink:href=\"#DejaVuSans-105\"/>\n     <use x=\"860.849609\" xlink:href=\"#DejaVuSans-111\"/>\n     <use x=\"922.03125\" xlink:href=\"#DejaVuSans-110\"/>\n     <use x=\"985.410156\" xlink:href=\"#DejaVuSans-32\"/>\n     <use x=\"1017.197266\" xlink:href=\"#DejaVuSans-65\"/>\n     <use x=\"1083.855469\" xlink:href=\"#DejaVuSans-99\"/>\n     <use x=\"1138.835938\" xlink:href=\"#DejaVuSans-99\"/>\n     <use x=\"1193.816406\" xlink:href=\"#DejaVuSans-117\"/>\n     <use x=\"1257.195312\" xlink:href=\"#DejaVuSans-114\"/>\n     <use x=\"1298.308594\" xlink:href=\"#DejaVuSans-97\"/>\n     <use x=\"1359.587891\" xlink:href=\"#DejaVuSans-99\"/>\n     <use x=\"1414.568359\" xlink:href=\"#DejaVuSans-121\"/>\n    </g>\n   </g>\n   <g id=\"legend_1\">\n    <g id=\"patch_7\">\n     <path d=\"M 623.4875 168.518125 \nL 699.065625 168.518125 \nQ 701.065625 168.518125 701.065625 166.518125 \nL 701.065625 138.161875 \nQ 701.065625 136.161875 699.065625 136.161875 \nL 623.4875 136.161875 \nQ 621.4875 136.161875 621.4875 138.161875 \nL 621.4875 166.518125 \nQ 621.4875 168.518125 623.4875 168.518125 \nz\n\" style=\"fill:#ffffff;opacity:0.8;stroke:#cccccc;stroke-linejoin:miter;\"/>\n    </g>\n    <g id=\"line2d_14\">\n     <path d=\"M 625.4875 144.260312 \nL 645.4875 144.260312 \n\" style=\"fill:none;stroke:#ff0000;stroke-linecap:square;stroke-width:1.5;\"/>\n    </g>\n    <g id=\"line2d_15\"/>\n    <g id=\"text_13\">\n     <!-- train acc -->\n     <g transform=\"translate(653.4875 147.760312)scale(0.1 -0.1)\">\n      <use xlink:href=\"#DejaVuSans-116\"/>\n      <use x=\"39.208984\" xlink:href=\"#DejaVuSans-114\"/>\n      <use x=\"80.322266\" xlink:href=\"#DejaVuSans-97\"/>\n      <use x=\"141.601562\" xlink:href=\"#DejaVuSans-105\"/>\n      <use x=\"169.384766\" xlink:href=\"#DejaVuSans-110\"/>\n      <use x=\"232.763672\" xlink:href=\"#DejaVuSans-32\"/>\n      <use x=\"264.550781\" xlink:href=\"#DejaVuSans-97\"/>\n      <use x=\"325.830078\" xlink:href=\"#DejaVuSans-99\"/>\n      <use x=\"380.810547\" xlink:href=\"#DejaVuSans-99\"/>\n     </g>\n    </g>\n    <g id=\"line2d_16\">\n     <path d=\"M 625.4875 158.938437 \nL 645.4875 158.938437 \n\" style=\"fill:none;stroke:#0000ff;stroke-linecap:square;stroke-width:1.5;\"/>\n    </g>\n    <g id=\"line2d_17\"/>\n    <g id=\"text_14\">\n     <!-- val acc -->\n     <g transform=\"translate(653.4875 162.438437)scale(0.1 -0.1)\">\n      <defs>\n       <path d=\"M 2.984375 54.6875 \nL 12.5 54.6875 \nL 29.59375 8.796875 \nL 46.6875 54.6875 \nL 56.203125 54.6875 \nL 35.6875 0 \nL 23.484375 0 \nz\n\" id=\"DejaVuSans-118\"/>\n      </defs>\n      <use xlink:href=\"#DejaVuSans-118\"/>\n      <use x=\"59.179688\" xlink:href=\"#DejaVuSans-97\"/>\n      <use x=\"120.458984\" xlink:href=\"#DejaVuSans-108\"/>\n      <use x=\"148.242188\" xlink:href=\"#DejaVuSans-32\"/>\n      <use x=\"180.029297\" xlink:href=\"#DejaVuSans-97\"/>\n      <use x=\"241.308594\" xlink:href=\"#DejaVuSans-99\"/>\n      <use x=\"296.289062\" xlink:href=\"#DejaVuSans-99\"/>\n     </g>\n    </g>\n   </g>\n  </g>\n  <g id=\"axes_2\">\n   <g id=\"patch_8\">\n    <path d=\"M 36.465625 354.958125 \nL 706.065625 354.958125 \nL 706.065625 203.758125 \nL 36.465625 203.758125 \nz\n\" style=\"fill:#ffffff;\"/>\n   </g>\n   <g id=\"matplotlib.axis_3\">\n    <g id=\"xtick_9\">\n     <g id=\"line2d_18\">\n      <g>\n       <use style=\"stroke:#000000;stroke-width:0.8;\" x=\"66.901989\" xlink:href=\"#mfce5398858\" y=\"354.958125\"/>\n      </g>\n     </g>\n     <g id=\"text_15\">\n      <!-- 0.0 -->\n      <g transform=\"translate(58.950426 369.556562)scale(0.1 -0.1)\">\n       <use xlink:href=\"#DejaVuSans-48\"/>\n       <use x=\"63.623047\" xlink:href=\"#DejaVuSans-46\"/>\n       <use x=\"95.410156\" xlink:href=\"#DejaVuSans-48\"/>\n      </g>\n     </g>\n    </g>\n    <g id=\"xtick_10\">\n     <g id=\"line2d_19\">\n      <g>\n       <use style=\"stroke:#000000;stroke-width:0.8;\" x=\"146.997682\" xlink:href=\"#mfce5398858\" y=\"354.958125\"/>\n      </g>\n     </g>\n     <g id=\"text_16\">\n      <!-- 2.5 -->\n      <g transform=\"translate(139.04612 369.556562)scale(0.1 -0.1)\">\n       <use xlink:href=\"#DejaVuSans-50\"/>\n       <use x=\"63.623047\" xlink:href=\"#DejaVuSans-46\"/>\n       <use x=\"95.410156\" xlink:href=\"#DejaVuSans-53\"/>\n      </g>\n     </g>\n    </g>\n    <g id=\"xtick_11\">\n     <g id=\"line2d_20\">\n      <g>\n       <use style=\"stroke:#000000;stroke-width:0.8;\" x=\"227.093376\" xlink:href=\"#mfce5398858\" y=\"354.958125\"/>\n      </g>\n     </g>\n     <g id=\"text_17\">\n      <!-- 5.0 -->\n      <g transform=\"translate(219.141814 369.556562)scale(0.1 -0.1)\">\n       <use xlink:href=\"#DejaVuSans-53\"/>\n       <use x=\"63.623047\" xlink:href=\"#DejaVuSans-46\"/>\n       <use x=\"95.410156\" xlink:href=\"#DejaVuSans-48\"/>\n      </g>\n     </g>\n    </g>\n    <g id=\"xtick_12\">\n     <g id=\"line2d_21\">\n      <g>\n       <use style=\"stroke:#000000;stroke-width:0.8;\" x=\"307.18907\" xlink:href=\"#mfce5398858\" y=\"354.958125\"/>\n      </g>\n     </g>\n     <g id=\"text_18\">\n      <!-- 7.5 -->\n      <g transform=\"translate(299.237507 369.556562)scale(0.1 -0.1)\">\n       <use xlink:href=\"#DejaVuSans-55\"/>\n       <use x=\"63.623047\" xlink:href=\"#DejaVuSans-46\"/>\n       <use x=\"95.410156\" xlink:href=\"#DejaVuSans-53\"/>\n      </g>\n     </g>\n    </g>\n    <g id=\"xtick_13\">\n     <g id=\"line2d_22\">\n      <g>\n       <use style=\"stroke:#000000;stroke-width:0.8;\" x=\"387.284764\" xlink:href=\"#mfce5398858\" y=\"354.958125\"/>\n      </g>\n     </g>\n     <g id=\"text_19\">\n      <!-- 10.0 -->\n      <g transform=\"translate(376.151951 369.556562)scale(0.1 -0.1)\">\n       <use xlink:href=\"#DejaVuSans-49\"/>\n       <use x=\"63.623047\" xlink:href=\"#DejaVuSans-48\"/>\n       <use x=\"127.246094\" xlink:href=\"#DejaVuSans-46\"/>\n       <use x=\"159.033203\" xlink:href=\"#DejaVuSans-48\"/>\n      </g>\n     </g>\n    </g>\n    <g id=\"xtick_14\">\n     <g id=\"line2d_23\">\n      <g>\n       <use style=\"stroke:#000000;stroke-width:0.8;\" x=\"467.380458\" xlink:href=\"#mfce5398858\" y=\"354.958125\"/>\n      </g>\n     </g>\n     <g id=\"text_20\">\n      <!-- 12.5 -->\n      <g transform=\"translate(456.247645 369.556562)scale(0.1 -0.1)\">\n       <use xlink:href=\"#DejaVuSans-49\"/>\n       <use x=\"63.623047\" xlink:href=\"#DejaVuSans-50\"/>\n       <use x=\"127.246094\" xlink:href=\"#DejaVuSans-46\"/>\n       <use x=\"159.033203\" xlink:href=\"#DejaVuSans-53\"/>\n      </g>\n     </g>\n    </g>\n    <g id=\"xtick_15\">\n     <g id=\"line2d_24\">\n      <g>\n       <use style=\"stroke:#000000;stroke-width:0.8;\" x=\"547.476151\" xlink:href=\"#mfce5398858\" y=\"354.958125\"/>\n      </g>\n     </g>\n     <g id=\"text_21\">\n      <!-- 15.0 -->\n      <g transform=\"translate(536.343339 369.556562)scale(0.1 -0.1)\">\n       <use xlink:href=\"#DejaVuSans-49\"/>\n       <use x=\"63.623047\" xlink:href=\"#DejaVuSans-53\"/>\n       <use x=\"127.246094\" xlink:href=\"#DejaVuSans-46\"/>\n       <use x=\"159.033203\" xlink:href=\"#DejaVuSans-48\"/>\n      </g>\n     </g>\n    </g>\n    <g id=\"xtick_16\">\n     <g id=\"line2d_25\">\n      <g>\n       <use style=\"stroke:#000000;stroke-width:0.8;\" x=\"627.571845\" xlink:href=\"#mfce5398858\" y=\"354.958125\"/>\n      </g>\n     </g>\n     <g id=\"text_22\">\n      <!-- 17.5 -->\n      <g transform=\"translate(616.439033 369.556562)scale(0.1 -0.1)\">\n       <use xlink:href=\"#DejaVuSans-49\"/>\n       <use x=\"63.623047\" xlink:href=\"#DejaVuSans-55\"/>\n       <use x=\"127.246094\" xlink:href=\"#DejaVuSans-46\"/>\n       <use x=\"159.033203\" xlink:href=\"#DejaVuSans-53\"/>\n      </g>\n     </g>\n    </g>\n   </g>\n   <g id=\"matplotlib.axis_4\">\n    <g id=\"ytick_4\">\n     <g id=\"line2d_26\">\n      <g>\n       <use style=\"stroke:#000000;stroke-width:0.8;\" x=\"36.465625\" xlink:href=\"#m6a77a1aedf\" y=\"332.539135\"/>\n      </g>\n     </g>\n     <g id=\"text_23\">\n      <!-- 0.1 -->\n      <g transform=\"translate(13.5625 336.338354)scale(0.1 -0.1)\">\n       <use xlink:href=\"#DejaVuSans-48\"/>\n       <use x=\"63.623047\" xlink:href=\"#DejaVuSans-46\"/>\n       <use x=\"95.410156\" xlink:href=\"#DejaVuSans-49\"/>\n      </g>\n     </g>\n    </g>\n    <g id=\"ytick_5\">\n     <g id=\"line2d_27\">\n      <g>\n       <use style=\"stroke:#000000;stroke-width:0.8;\" x=\"36.465625\" xlink:href=\"#m6a77a1aedf\" y=\"305.920226\"/>\n      </g>\n     </g>\n     <g id=\"text_24\">\n      <!-- 0.2 -->\n      <g transform=\"translate(13.5625 309.719445)scale(0.1 -0.1)\">\n       <use xlink:href=\"#DejaVuSans-48\"/>\n       <use x=\"63.623047\" xlink:href=\"#DejaVuSans-46\"/>\n       <use x=\"95.410156\" xlink:href=\"#DejaVuSans-50\"/>\n      </g>\n     </g>\n    </g>\n    <g id=\"ytick_6\">\n     <g id=\"line2d_28\">\n      <g>\n       <use style=\"stroke:#000000;stroke-width:0.8;\" x=\"36.465625\" xlink:href=\"#m6a77a1aedf\" y=\"279.301316\"/>\n      </g>\n     </g>\n     <g id=\"text_25\">\n      <!-- 0.3 -->\n      <g transform=\"translate(13.5625 283.100535)scale(0.1 -0.1)\">\n       <defs>\n        <path d=\"M 40.578125 39.3125 \nQ 47.65625 37.796875 51.625 33 \nQ 55.609375 28.21875 55.609375 21.1875 \nQ 55.609375 10.40625 48.1875 4.484375 \nQ 40.765625 -1.421875 27.09375 -1.421875 \nQ 22.515625 -1.421875 17.65625 -0.515625 \nQ 12.796875 0.390625 7.625 2.203125 \nL 7.625 11.71875 \nQ 11.71875 9.328125 16.59375 8.109375 \nQ 21.484375 6.890625 26.8125 6.890625 \nQ 36.078125 6.890625 40.9375 10.546875 \nQ 45.796875 14.203125 45.796875 21.1875 \nQ 45.796875 27.640625 41.28125 31.265625 \nQ 36.765625 34.90625 28.71875 34.90625 \nL 20.21875 34.90625 \nL 20.21875 43.015625 \nL 29.109375 43.015625 \nQ 36.375 43.015625 40.234375 45.921875 \nQ 44.09375 48.828125 44.09375 54.296875 \nQ 44.09375 59.90625 40.109375 62.90625 \nQ 36.140625 65.921875 28.71875 65.921875 \nQ 24.65625 65.921875 20.015625 65.03125 \nQ 15.375 64.15625 9.8125 62.3125 \nL 9.8125 71.09375 \nQ 15.4375 72.65625 20.34375 73.4375 \nQ 25.25 74.21875 29.59375 74.21875 \nQ 40.828125 74.21875 47.359375 69.109375 \nQ 53.90625 64.015625 53.90625 55.328125 \nQ 53.90625 49.265625 50.4375 45.09375 \nQ 46.96875 40.921875 40.578125 39.3125 \nz\n\" id=\"DejaVuSans-51\"/>\n       </defs>\n       <use xlink:href=\"#DejaVuSans-48\"/>\n       <use x=\"63.623047\" xlink:href=\"#DejaVuSans-46\"/>\n       <use x=\"95.410156\" xlink:href=\"#DejaVuSans-51\"/>\n      </g>\n     </g>\n    </g>\n    <g id=\"ytick_7\">\n     <g id=\"line2d_29\">\n      <g>\n       <use style=\"stroke:#000000;stroke-width:0.8;\" x=\"36.465625\" xlink:href=\"#m6a77a1aedf\" y=\"252.682406\"/>\n      </g>\n     </g>\n     <g id=\"text_26\">\n      <!-- 0.4 -->\n      <g transform=\"translate(13.5625 256.481625)scale(0.1 -0.1)\">\n       <defs>\n        <path d=\"M 37.796875 64.3125 \nL 12.890625 25.390625 \nL 37.796875 25.390625 \nz\nM 35.203125 72.90625 \nL 47.609375 72.90625 \nL 47.609375 25.390625 \nL 58.015625 25.390625 \nL 58.015625 17.1875 \nL 47.609375 17.1875 \nL 47.609375 0 \nL 37.796875 0 \nL 37.796875 17.1875 \nL 4.890625 17.1875 \nL 4.890625 26.703125 \nz\n\" id=\"DejaVuSans-52\"/>\n       </defs>\n       <use xlink:href=\"#DejaVuSans-48\"/>\n       <use x=\"63.623047\" xlink:href=\"#DejaVuSans-46\"/>\n       <use x=\"95.410156\" xlink:href=\"#DejaVuSans-52\"/>\n      </g>\n     </g>\n    </g>\n    <g id=\"ytick_8\">\n     <g id=\"line2d_30\">\n      <g>\n       <use style=\"stroke:#000000;stroke-width:0.8;\" x=\"36.465625\" xlink:href=\"#m6a77a1aedf\" y=\"226.063497\"/>\n      </g>\n     </g>\n     <g id=\"text_27\">\n      <!-- 0.5 -->\n      <g transform=\"translate(13.5625 229.862716)scale(0.1 -0.1)\">\n       <use xlink:href=\"#DejaVuSans-48\"/>\n       <use x=\"63.623047\" xlink:href=\"#DejaVuSans-46\"/>\n       <use x=\"95.410156\" xlink:href=\"#DejaVuSans-53\"/>\n      </g>\n     </g>\n    </g>\n   </g>\n   <g id=\"line2d_31\">\n    <path clip-path=\"url(#p2ad95e2356)\" d=\"M 66.901989 210.630852 \nL 98.940266 294.190718 \nL 130.978544 316.168976 \nL 163.016821 324.384153 \nL 195.055099 330.197044 \nL 227.093376 337.135907 \nL 259.131654 336.559706 \nL 291.169931 338.23327 \nL 323.208209 338.370855 \nL 355.246486 340.27241 \nL 387.284764 342.425391 \nL 419.323041 345.076107 \nL 451.361319 344.275441 \nL 483.399596 345.011801 \nL 515.437874 346.785488 \nL 547.476151 346.947386 \nL 579.514429 347.893395 \nL 611.552706 346.896777 \nL 643.590984 347.735552 \nL 675.629261 348.085398 \n\" style=\"fill:none;stroke:#ff0000;stroke-linecap:square;stroke-width:1.5;\"/>\n   </g>\n   <g id=\"line2d_32\">\n    <path clip-path=\"url(#p2ad95e2356)\" d=\"M 66.901989 294.190456 \nL 98.940266 305.606639 \nL 130.978544 314.432609 \nL 163.016821 324.08967 \nL 195.055099 324.514786 \nL 227.093376 330.090904 \nL 259.131654 325.428138 \nL 291.169931 301.181911 \nL 323.208209 331.335112 \nL 355.246486 311.933146 \nL 387.284764 334.645139 \nL 419.323041 332.887765 \nL 451.361319 329.751936 \nL 483.399596 336.669263 \nL 515.437874 337.044863 \nL 547.476151 334.989144 \nL 579.514429 336.199015 \nL 611.552706 335.763413 \nL 643.590984 329.322498 \nL 675.629261 335.398979 \n\" style=\"fill:none;stroke:#0000ff;stroke-linecap:square;stroke-width:1.5;\"/>\n   </g>\n   <g id=\"patch_9\">\n    <path d=\"M 36.465625 354.958125 \nL 36.465625 203.758125 \n\" style=\"fill:none;stroke:#000000;stroke-linecap:square;stroke-linejoin:miter;stroke-width:0.8;\"/>\n   </g>\n   <g id=\"patch_10\">\n    <path d=\"M 706.065625 354.958125 \nL 706.065625 203.758125 \n\" style=\"fill:none;stroke:#000000;stroke-linecap:square;stroke-linejoin:miter;stroke-width:0.8;\"/>\n   </g>\n   <g id=\"patch_11\">\n    <path d=\"M 36.465625 354.958125 \nL 706.065625 354.958125 \n\" style=\"fill:none;stroke:#000000;stroke-linecap:square;stroke-linejoin:miter;stroke-width:0.8;\"/>\n   </g>\n   <g id=\"patch_12\">\n    <path d=\"M 36.465625 203.758125 \nL 706.065625 203.758125 \n\" style=\"fill:none;stroke:#000000;stroke-linecap:square;stroke-linejoin:miter;stroke-width:0.8;\"/>\n   </g>\n   <g id=\"text_28\">\n    <!-- Train and Validation Loss -->\n    <g transform=\"translate(297.074687 197.758125)scale(0.12 -0.12)\">\n     <defs>\n      <path d=\"M 9.8125 72.90625 \nL 19.671875 72.90625 \nL 19.671875 8.296875 \nL 55.171875 8.296875 \nL 55.171875 0 \nL 9.8125 0 \nz\n\" id=\"DejaVuSans-76\"/>\n      <path d=\"M 44.28125 53.078125 \nL 44.28125 44.578125 \nQ 40.484375 46.53125 36.375 47.5 \nQ 32.28125 48.484375 27.875 48.484375 \nQ 21.1875 48.484375 17.84375 46.4375 \nQ 14.5 44.390625 14.5 40.28125 \nQ 14.5 37.15625 16.890625 35.375 \nQ 19.28125 33.59375 26.515625 31.984375 \nL 29.59375 31.296875 \nQ 39.15625 29.25 43.1875 25.515625 \nQ 47.21875 21.78125 47.21875 15.09375 \nQ 47.21875 7.46875 41.1875 3.015625 \nQ 35.15625 -1.421875 24.609375 -1.421875 \nQ 20.21875 -1.421875 15.453125 -0.5625 \nQ 10.6875 0.296875 5.421875 2 \nL 5.421875 11.28125 \nQ 10.40625 8.6875 15.234375 7.390625 \nQ 20.0625 6.109375 24.8125 6.109375 \nQ 31.15625 6.109375 34.5625 8.28125 \nQ 37.984375 10.453125 37.984375 14.40625 \nQ 37.984375 18.0625 35.515625 20.015625 \nQ 33.0625 21.96875 24.703125 23.78125 \nL 21.578125 24.515625 \nQ 13.234375 26.265625 9.515625 29.90625 \nQ 5.8125 33.546875 5.8125 39.890625 \nQ 5.8125 47.609375 11.28125 51.796875 \nQ 16.75 56 26.8125 56 \nQ 31.78125 56 36.171875 55.265625 \nQ 40.578125 54.546875 44.28125 53.078125 \nz\n\" id=\"DejaVuSans-115\"/>\n     </defs>\n     <use xlink:href=\"#DejaVuSans-84\"/>\n     <use x=\"46.333984\" xlink:href=\"#DejaVuSans-114\"/>\n     <use x=\"87.447266\" xlink:href=\"#DejaVuSans-97\"/>\n     <use x=\"148.726562\" xlink:href=\"#DejaVuSans-105\"/>\n     <use x=\"176.509766\" xlink:href=\"#DejaVuSans-110\"/>\n     <use x=\"239.888672\" xlink:href=\"#DejaVuSans-32\"/>\n     <use x=\"271.675781\" xlink:href=\"#DejaVuSans-97\"/>\n     <use x=\"332.955078\" xlink:href=\"#DejaVuSans-110\"/>\n     <use x=\"396.333984\" xlink:href=\"#DejaVuSans-100\"/>\n     <use x=\"459.810547\" xlink:href=\"#DejaVuSans-32\"/>\n     <use x=\"491.597656\" xlink:href=\"#DejaVuSans-86\"/>\n     <use x=\"552.255859\" xlink:href=\"#DejaVuSans-97\"/>\n     <use x=\"613.535156\" xlink:href=\"#DejaVuSans-108\"/>\n     <use x=\"641.318359\" xlink:href=\"#DejaVuSans-105\"/>\n     <use x=\"669.101562\" xlink:href=\"#DejaVuSans-100\"/>\n     <use x=\"732.578125\" xlink:href=\"#DejaVuSans-97\"/>\n     <use x=\"793.857422\" xlink:href=\"#DejaVuSans-116\"/>\n     <use x=\"833.066406\" xlink:href=\"#DejaVuSans-105\"/>\n     <use x=\"860.849609\" xlink:href=\"#DejaVuSans-111\"/>\n     <use x=\"922.03125\" xlink:href=\"#DejaVuSans-110\"/>\n     <use x=\"985.410156\" xlink:href=\"#DejaVuSans-32\"/>\n     <use x=\"1017.197266\" xlink:href=\"#DejaVuSans-76\"/>\n     <use x=\"1071.160156\" xlink:href=\"#DejaVuSans-111\"/>\n     <use x=\"1132.341797\" xlink:href=\"#DejaVuSans-115\"/>\n     <use x=\"1184.441406\" xlink:href=\"#DejaVuSans-115\"/>\n    </g>\n   </g>\n   <g id=\"legend_2\">\n    <g id=\"patch_13\">\n     <path d=\"M 621.296875 241.114375 \nL 699.065625 241.114375 \nQ 701.065625 241.114375 701.065625 239.114375 \nL 701.065625 210.758125 \nQ 701.065625 208.758125 699.065625 208.758125 \nL 621.296875 208.758125 \nQ 619.296875 208.758125 619.296875 210.758125 \nL 619.296875 239.114375 \nQ 619.296875 241.114375 621.296875 241.114375 \nz\n\" style=\"fill:#ffffff;opacity:0.8;stroke:#cccccc;stroke-linejoin:miter;\"/>\n    </g>\n    <g id=\"line2d_33\">\n     <path d=\"M 623.296875 216.856563 \nL 643.296875 216.856563 \n\" style=\"fill:none;stroke:#ff0000;stroke-linecap:square;stroke-width:1.5;\"/>\n    </g>\n    <g id=\"line2d_34\"/>\n    <g id=\"text_29\">\n     <!-- train loss -->\n     <g transform=\"translate(651.296875 220.356563)scale(0.1 -0.1)\">\n      <use xlink:href=\"#DejaVuSans-116\"/>\n      <use x=\"39.208984\" xlink:href=\"#DejaVuSans-114\"/>\n      <use x=\"80.322266\" xlink:href=\"#DejaVuSans-97\"/>\n      <use x=\"141.601562\" xlink:href=\"#DejaVuSans-105\"/>\n      <use x=\"169.384766\" xlink:href=\"#DejaVuSans-110\"/>\n      <use x=\"232.763672\" xlink:href=\"#DejaVuSans-32\"/>\n      <use x=\"264.550781\" xlink:href=\"#DejaVuSans-108\"/>\n      <use x=\"292.333984\" xlink:href=\"#DejaVuSans-111\"/>\n      <use x=\"353.515625\" xlink:href=\"#DejaVuSans-115\"/>\n      <use x=\"405.615234\" xlink:href=\"#DejaVuSans-115\"/>\n     </g>\n    </g>\n    <g id=\"line2d_35\">\n     <path d=\"M 623.296875 231.534688 \nL 643.296875 231.534688 \n\" style=\"fill:none;stroke:#0000ff;stroke-linecap:square;stroke-width:1.5;\"/>\n    </g>\n    <g id=\"line2d_36\"/>\n    <g id=\"text_30\">\n     <!-- val loss -->\n     <g transform=\"translate(651.296875 235.034688)scale(0.1 -0.1)\">\n      <use xlink:href=\"#DejaVuSans-118\"/>\n      <use x=\"59.179688\" xlink:href=\"#DejaVuSans-97\"/>\n      <use x=\"120.458984\" xlink:href=\"#DejaVuSans-108\"/>\n      <use x=\"148.242188\" xlink:href=\"#DejaVuSans-32\"/>\n      <use x=\"180.029297\" xlink:href=\"#DejaVuSans-108\"/>\n      <use x=\"207.8125\" xlink:href=\"#DejaVuSans-111\"/>\n      <use x=\"268.994141\" xlink:href=\"#DejaVuSans-115\"/>\n      <use x=\"321.09375\" xlink:href=\"#DejaVuSans-115\"/>\n     </g>\n    </g>\n   </g>\n  </g>\n </g>\n <defs>\n  <clipPath id=\"p6319ceea97\">\n   <rect height=\"151.2\" width=\"669.6\" x=\"36.465625\" y=\"22.318125\"/>\n  </clipPath>\n  <clipPath id=\"p2ad95e2356\">\n   <rect height=\"151.2\" width=\"669.6\" x=\"36.465625\" y=\"203.758125\"/>\n  </clipPath>\n </defs>\n</svg>\n",
      "image/png": "[encoded data removed]"
     },
     "metadata": {}
    }
   ],
   "source": [
    "acc = history.history['accuracy']\n",
    "val_acc = history.history['val_accuracy']\n",
    "loss = history.history['loss']\n",
    "val_loss = history.history['val_loss']\n",
    "\n",
    "plt.figure(figsize=(12, 6), dpi=100)\n",
    "plt.subplot(2,1,1)\n",
    "plt.plot(acc, 'r', label='train acc')\n",
    "plt.plot(val_acc, 'b', label='val acc')\n",
    "plt.title('Train and Validation Accuracy')\n",
    "plt.legend()\n",
    "\n",
    "plt.subplot(2,1,2)\n",
    "plt.plot(loss, 'r', label='train loss')\n",
    "plt.plot(val_loss, 'b', label='val loss')\n",
    "plt.title('Train and Validation Loss')\n",
    "plt.legend()\n",
    "\n",
    "plt.show()"
   ]
  },
  {
   "cell_type": "code",
   "execution_count": 88,
   "metadata": {},
   "outputs": [
    {
     "output_type": "stream",
     "name": "stdout",
     "text": [
      "53/53 [==============================] - 0s 992us/step\n",
      "              precision    recall  f1-score   support\n",
      "\n",
      "           0    0.95238   0.96852   0.96038       413\n",
      "           1    0.98701   0.99130   0.98915       460\n",
      "           2    0.97818   0.97464   0.97641       276\n",
      "           3    0.98824   0.97297   0.98054       518\n",
      "\n",
      "    accuracy                        0.97720      1667\n",
      "   macro avg    0.97645   0.97686   0.97662      1667\n",
      "weighted avg    0.97735   0.97720   0.97724      1667\n",
      "\n"
     ]
    }
   ],
   "source": [
    "pred = ann_model.predict(x_test)\n",
    "pred = np.argmax(pred,axis=1)\n",
    "print(classification_report(y_test, pred, digits=5))"
   ]
  },
  {
   "cell_type": "markdown",
   "metadata": {},
   "source": [
    "## CNN\n",
    "training a CNN using user's profile photos"
   ]
  },
  {
   "cell_type": "code",
   "execution_count": 89,
   "metadata": {},
   "outputs": [],
   "source": [
    "faces_base = \"../new batch profile pics/\""
   ]
  },
  {
   "cell_type": "code",
   "execution_count": 90,
   "metadata": {},
   "outputs": [],
   "source": [
    "# get all image pathnames from base\n",
    "# list to store files\n",
    "res = []\n",
    "res2 = []\n",
    "\n",
    "# Iterate directory\n",
    "for path in os.listdir(faces_base):\n",
    "    # check if current path is a file\n",
    "    if os.path.isfile(os.path.join(faces_base, path)):\n",
    "        res.append(faces_base + path)\n",
    "        res2.append(path)"
   ]
  },
  {
   "cell_type": "markdown",
   "metadata": {},
   "source": [
    "### Pre trained CNN: InceptionV3"
   ]
  },
  {
   "cell_type": "code",
   "execution_count": 91,
   "metadata": {
    "tags": []
   },
   "outputs": [
    {
     "output_type": "stream",
     "name": "stdout",
     "text": [
      "none\n",
      "none\n",
      "none\n",
      "none\n",
      "none\n",
      "none\n",
      "none\n",
      "none\n",
      "none\n",
      "none\n",
      "libpng warning: iCCP: profile 'icc': 'RGB ': RGB color space not permitted on grayscale PNG\n",
      "none\n",
      "none\n",
      "none\n",
      "none\n",
      "libpng warning: iCCP: profile 'icc': 'RGB ': RGB color space not permitted on grayscale PNG\n",
      "none\n",
      "none\n",
      "libpng warning: iCCP: known incorrect sRGB profile\n",
      "none\n",
      "none\n",
      "none\n",
      "none\n",
      "none\n"
     ]
    }
   ],
   "source": [
    "train_img_dict2 = {}\n",
    "test_img_dict2 = {}\n",
    "train_img2 = []\n",
    "test_img2 = []\n",
    "for i in range(len(res)):\n",
    "    pic = res[i]\n",
    "    id_name = re.match(r\"[^\\/\\\\]+(?=\\.png|\\.jpg)\", res2[i]).group(0)\n",
    "    try:\n",
    "        img = cv2.imread(pic)\n",
    "        if img is None:\n",
    "            print(\"none\")\n",
    "            continue\n",
    "        img = cv2.resize(img, (75, 75))\n",
    "        if int(id_name) in list(train_df['id']):\n",
    "            train_img_dict2[int(id_name)] = img \n",
    "            train_img2.append(img)\n",
    "        elif int(id_name) in list(test_df['id']):\n",
    "            test_img_dict2[int(id_name)] = img\n",
    "            test_img2.append(img)\n",
    "        #img.close()\n",
    "    except Exception as e:\n",
    "        print(e)"
   ]
  },
  {
   "cell_type": "code",
   "execution_count": 92,
   "metadata": {},
   "outputs": [],
   "source": [
    "train_img_df2 = pd.DataFrame(train_img_dict2.items(), columns = ['id', 'img'])  \n",
    "test_img_df2 = pd.DataFrame(test_img_dict2.items(), columns = ['id', 'img'])  \n",
    "train_df_with_img2 = pd.merge(train_img_df2, train_df, on='id')\n",
    "test_df_with_img2 = pd.merge(test_img_df2, test_df, on='id')"
   ]
  },
  {
   "cell_type": "code",
   "execution_count": 93,
   "metadata": {},
   "outputs": [],
   "source": [
    "base_model = InceptionV3(input_shape = (75, 75, 3), include_top = False, weights = 'imagenet')\n",
    "\n",
    "for layer in base_model.layers:\n",
    "    layer.trainable = False\n",
    "x = Flatten()(base_model.output)\n",
    "x = Dense(70, activation='relu')(x)\n",
    "x = Dropout(0.5)(x)\n",
    "x = Dense(6, activation='softmax')(x)\n",
    "model = Model(base_model.input, x)\n",
    "# configure the model\n",
    "model.compile(optimizer='adam',\n",
    "                    loss='sparse_categorical_crossentropy',\n",
    "                    metrics=['accuracy'])"
   ]
  },
  {
   "cell_type": "code",
   "execution_count": 94,
   "metadata": {},
   "outputs": [],
   "source": [
    "x_train2, x_val2, y_train2, y_val2 = train_test_split(np.array(train_img2) / 255.0, train_df_with_img2['account_type_multi'], test_size=0.15)"
   ]
  },
  {
   "cell_type": "code",
   "execution_count": 95,
   "metadata": {},
   "outputs": [
    {
     "output_type": "stream",
     "name": "stdout",
     "text": [
      "Epoch 1/20\n",
      "161/161 [==============================] - 35s 193ms/step - loss: 1.2554 - accuracy: 0.4530 - val_loss: 1.0318 - val_accuracy: 0.5152\n",
      "Epoch 2/20\n",
      "161/161 [==============================] - 30s 186ms/step - loss: 1.0592 - accuracy: 0.5195 - val_loss: 0.9994 - val_accuracy: 0.5272\n",
      "Epoch 3/20\n",
      "161/161 [==============================] - 31s 195ms/step - loss: 1.0125 - accuracy: 0.5410 - val_loss: 0.9858 - val_accuracy: 0.5343\n",
      "Epoch 4/20\n",
      "161/161 [==============================] - 37s 232ms/step - loss: 0.9721 - accuracy: 0.5673 - val_loss: 0.9675 - val_accuracy: 0.5519\n",
      "Epoch 5/20\n",
      "161/161 [==============================] - 33s 203ms/step - loss: 0.9377 - accuracy: 0.5901 - val_loss: 0.9596 - val_accuracy: 0.5527\n",
      "Epoch 6/20\n",
      "161/161 [==============================] - 35s 220ms/step - loss: 0.9056 - accuracy: 0.5981 - val_loss: 0.9721 - val_accuracy: 0.5541\n",
      "Epoch 7/20\n",
      "161/161 [==============================] - 34s 208ms/step - loss: 0.8772 - accuracy: 0.6178 - val_loss: 0.9658 - val_accuracy: 0.5576\n",
      "Epoch 8/20\n",
      "161/161 [==============================] - 36s 226ms/step - loss: 0.8493 - accuracy: 0.6314 - val_loss: 0.9704 - val_accuracy: 0.5618\n",
      "Epoch 9/20\n",
      "161/161 [==============================] - 35s 220ms/step - loss: 0.8265 - accuracy: 0.6409 - val_loss: 0.9652 - val_accuracy: 0.5696\n",
      "Epoch 10/20\n",
      "161/161 [==============================] - 32s 198ms/step - loss: 0.7806 - accuracy: 0.6598 - val_loss: 0.9945 - val_accuracy: 0.5746\n",
      "Epoch 11/20\n",
      "161/161 [==============================] - 41s 253ms/step - loss: 0.7568 - accuracy: 0.6754 - val_loss: 0.9829 - val_accuracy: 0.5823\n",
      "Epoch 12/20\n",
      "161/161 [==============================] - 34s 214ms/step - loss: 0.7301 - accuracy: 0.6850 - val_loss: 0.9982 - val_accuracy: 0.5760\n",
      "Epoch 13/20\n",
      "161/161 [==============================] - 35s 216ms/step - loss: 0.6930 - accuracy: 0.6992 - val_loss: 1.0056 - val_accuracy: 0.5675\n",
      "Epoch 14/20\n",
      "161/161 [==============================] - 35s 215ms/step - loss: 0.6765 - accuracy: 0.7070 - val_loss: 1.0452 - val_accuracy: 0.5717\n",
      "Epoch 15/20\n",
      "161/161 [==============================] - 34s 213ms/step - loss: 0.6504 - accuracy: 0.7255 - val_loss: 1.0537 - val_accuracy: 0.5597\n",
      "Epoch 16/20\n",
      "161/161 [==============================] - 48s 299ms/step - loss: 0.6257 - accuracy: 0.7366 - val_loss: 1.0610 - val_accuracy: 0.5746\n",
      "Epoch 17/20\n",
      "161/161 [==============================] - 40s 247ms/step - loss: 0.6205 - accuracy: 0.7333 - val_loss: 1.0618 - val_accuracy: 0.5739\n",
      "Epoch 18/20\n",
      "161/161 [==============================] - 44s 276ms/step - loss: 0.5817 - accuracy: 0.7500 - val_loss: 1.1475 - val_accuracy: 0.5675\n",
      "Epoch 19/20\n",
      "161/161 [==============================] - 43s 266ms/step - loss: 0.5591 - accuracy: 0.7545 - val_loss: 1.1142 - val_accuracy: 0.5597\n",
      "Epoch 20/20\n",
      "161/161 [==============================] - 42s 258ms/step - loss: 0.5439 - accuracy: 0.7651 - val_loss: 1.1108 - val_accuracy: 0.5781\n",
      "Total time taken for the program execution 735.5138609409332\n"
     ]
    }
   ],
   "source": [
    "#es_callback = keras.callbacks.EarlyStopping(monitor='val_accuracy', patience=15)\n",
    "start_time = time.time()\n",
    "inc_history = model.fit(x_train2, y_train2, epochs=20, batch_size=50, validation_data=(x_val2, y_val2))\n",
    "time_taken = time.time() - start_time\n",
    "print(\"Total time taken for the program execution\", time_taken) # seconds"
   ]
  },
  {
   "cell_type": "code",
   "execution_count": 96,
   "metadata": {},
   "outputs": [
    {
     "output_type": "stream",
     "name": "stdout",
     "text": [
      "Train loss: 0.3346036374568939 / Train accuracy: 0.9026824831962585\n"
     ]
    }
   ],
   "source": [
    "score = model.evaluate(x_train2, y_train2, verbose=0)\n",
    "print(f'Train loss: {score[0]} / Train accuracy: {score[1]}')"
   ]
  },
  {
   "cell_type": "code",
   "execution_count": 97,
   "metadata": {},
   "outputs": [
    {
     "output_type": "stream",
     "name": "stdout",
     "text": [
      "Test loss: 1.0615887641906738 / Test accuracy: 0.605896532535553\n"
     ]
    }
   ],
   "source": [
    "score = model.evaluate(np.array(test_img2) / 255.0, test_df_with_img2['account_type_multi'], verbose=0)\n",
    "print(f'Test loss: {score[0]} / Test accuracy: {score[1]}')"
   ]
  },
  {
   "cell_type": "code",
   "execution_count": 98,
   "metadata": {},
   "outputs": [
    {
     "output_type": "stream",
     "name": "stdout",
     "text": [
      "52/52 [==============================] - 22s 125ms/step\n"
     ]
    }
   ],
   "source": [
    "pred = model.predict(np.array(test_img2) / 255.0)\n",
    "pred = np.argmax(pred,axis=1)"
   ]
  },
  {
   "cell_type": "code",
   "execution_count": 99,
   "metadata": {},
   "outputs": [
    {
     "output_type": "stream",
     "name": "stdout",
     "text": [
      "              precision    recall  f1-score   support\n\n           0    0.48387   0.47330   0.47853       412\n           1    0.51442   0.46522   0.48858       460\n           2    0.93506   0.78832   0.85545       274\n           3    0.62418   0.74031   0.67730       516\n\n    accuracy                        0.60590      1662\n   macro avg    0.63939   0.61679   0.62497      1662\nweighted avg    0.61027   0.60590   0.60516      1662\n\n"
     ]
    }
   ],
   "source": [
    "print(classification_report(test_df_with_img2['account_type_multi'], pred, digits=5))"
   ]
  },
  {
   "cell_type": "markdown",
   "metadata": {},
   "source": [
    "### Self-train CNN"
   ]
  },
  {
   "cell_type": "code",
   "execution_count": 44,
   "metadata": {},
   "outputs": [
    {
     "name": "stdout",
     "output_type": "stream",
     "text": [
      "none\n",
      "none\n",
      "none\n",
      "none\n",
      "none\n",
      "none\n",
      "none\n",
      "none\n",
      "none\n",
      "none\n",
      "libpng warning: iCCP: profile 'icc': 'RGB ': RGB color space not permitted on grayscale PNG\n",
      "none\n",
      "none\n",
      "none\n",
      "none\n",
      "libpng warning: iCCP: profile 'icc': 'RGB ': RGB color space not permitted on grayscale PNG\n",
      "none\n",
      "none\n",
      "libpng warning: iCCP: known incorrect sRGB profile\n",
      "none\n",
      "none\n",
      "none\n",
      "none\n",
      "none\n"
     ]
    }
   ],
   "source": [
    "train_img_dict = {}\n",
    "test_img_dict = {}\n",
    "train_img = []\n",
    "test_img = []\n",
    "for i in range(len(res)):\n",
    "    pic = res[i]\n",
    "    id_name = re.match(r\"[^\\/\\\\]+(?=\\.png|\\.jpg)\", res2[i]).group(0)\n",
    "    try:\n",
    "        img = cv2.imread(pic)\n",
    "        if img is None:\n",
    "            print(\"none\")\n",
    "            continue\n",
    "        if int(id_name) in list(train_df['id']):\n",
    "            train_img_dict[int(id_name)] = img \n",
    "            train_img.append(img)\n",
    "        elif int(id_name) in list(test_df['id']):\n",
    "            test_img_dict[int(id_name)] = img\n",
    "            test_img.append(img)\n",
    "        #img.close()\n",
    "    except Exception as e:\n",
    "        print(e)"
   ]
  },
  {
   "cell_type": "code",
   "execution_count": 348,
   "metadata": {},
   "outputs": [
    {
     "data": {
      "text/plain": [
       "9430"
      ]
     },
     "execution_count": 348,
     "metadata": {},
     "output_type": "execute_result"
    }
   ],
   "source": [
    "len(train_img_dict)"
   ]
  },
  {
   "cell_type": "code",
   "execution_count": 45,
   "metadata": {},
   "outputs": [],
   "source": [
    "train_img_df = pd.DataFrame(train_img_dict.items(), columns = ['id', 'img'])  \n",
    "test_img_df = pd.DataFrame(test_img_dict.items(), columns = ['id', 'img'])  \n",
    "train_df_with_img = pd.merge(train_img_df, train_df, on='id')\n",
    "test_df_with_img = pd.merge(test_img_df, test_df, on='id')"
   ]
  },
  {
   "cell_type": "code",
   "execution_count": 383,
   "metadata": {},
   "outputs": [],
   "source": [
    "kernel_size = (3, 3)\n",
    "stride_size = (1, 1)\n",
    "filters = [4, 8, 16]\n",
    "\n",
    "cnn_model = Sequential()\n",
    "cnn_model.add(Input(shape=(48, 48, 3)))\n",
    "for f in filters:\n",
    "    cnn_model.add(Conv2D(f, kernel_size, strides=stride_size, activation='relu'))\n",
    "    cnn_model.add(Dropout(0.1))\n",
    "    cnn_model.add(Conv2D(f, kernel_size, strides=stride_size, activation='relu'))\n",
    "    cnn_model.add(BatchNormalization(axis = -1))\n",
    "    cnn_model.add(MaxPooling2D(pool_size=(2, 2)))\n",
    "\n",
    "cnn_model.add(Flatten())\n",
    "cnn_model.add(Dense(100, activation='relu'))\n",
    "cnn_model.add(Dropout(0.3))\n",
    "cnn_model.add(Dense(100, activation='relu'))\n",
    "cnn_model.add(Dropout(0.3))\n",
    "cnn_model.add(Dense(100, activation='relu'))\n",
    "cnn_model.add(Dense(6, activation='softmax'))\n",
    "# configure the model\n",
    "cnn_model.compile(optimizer='adam',\n",
    "                    loss='sparse_categorical_crossentropy',\n",
    "                    metrics=['accuracy'])"
   ]
  },
  {
   "cell_type": "code",
   "execution_count": 431,
   "metadata": {},
   "outputs": [],
   "source": [
    "kernel_size = (3, 3)\n",
    "stride_size = (1, 1)\n",
    "filters = [4, 10, 24]\n",
    "\n",
    "cnn_model = Sequential()\n",
    "cnn_model.add(Input(shape=(48, 48, 3)))\n",
    "for f in filters:\n",
    "    cnn_model.add(Conv2D(f, kernel_size, strides=stride_size, activation='relu', kernel_regularizer=l2(0.01), bias_regularizer=l2(0.01)))\n",
    "    cnn_model.add(Conv2D(f, kernel_size, strides=stride_size, activation='relu', kernel_regularizer=l2(0.01), bias_regularizer=l2(0.01)))\n",
    "    cnn_model.add(BatchNormalization(axis = -1))\n",
    "    cnn_model.add(MaxPooling2D(pool_size=(2, 2)))\n",
    "\n",
    "cnn_model.add(Flatten())\n",
    "cnn_model.add(Dense(100, activation='relu'))\n",
    "cnn_model.add(Dropout(0.1))\n",
    "\n",
    "cnn_model.add(Dense(100, activation='relu'))\n",
    "cnn_model.add(Dropout(0.1))\n",
    "cnn_model.add(Dense(100, activation='relu'))\n",
    "\n",
    "cnn_model.add(Dense(6, activation='softmax'))\n",
    "# configure the model\n",
    "cnn_model.compile(optimizer='adam',\n",
    "                    loss='sparse_categorical_crossentropy',\n",
    "                    metrics=['accuracy'])"
   ]
  },
  {
   "cell_type": "code",
   "execution_count": 432,
   "metadata": {},
   "outputs": [],
   "source": [
    "x_train, x_val, y_train, y_val = train_test_split(np.array(train_img) / 255.0, train_df_with_img['account_type_multi'], test_size=0.15)"
   ]
  },
  {
   "cell_type": "code",
   "execution_count": 433,
   "metadata": {},
   "outputs": [
    {
     "name": "stdout",
     "output_type": "stream",
     "text": [
      "Epoch 1/100\n",
      "401/401 [==============================] - 17s 38ms/step - loss: 1.7331 - accuracy: 0.4354 - val_loss: 1.8124 - val_accuracy: 0.3880\n",
      "Epoch 2/100\n",
      "401/401 [==============================] - 14s 35ms/step - loss: 1.5007 - accuracy: 0.4770 - val_loss: 1.4975 - val_accuracy: 0.4353\n",
      "Epoch 3/100\n",
      "401/401 [==============================] - 14s 36ms/step - loss: 1.3867 - accuracy: 0.4957 - val_loss: 1.3613 - val_accuracy: 0.4890\n",
      "Epoch 4/100\n",
      "401/401 [==============================] - 14s 36ms/step - loss: 1.3133 - accuracy: 0.4987 - val_loss: 1.3241 - val_accuracy: 0.4905\n",
      "Epoch 5/100\n",
      "401/401 [==============================] - 14s 35ms/step - loss: 1.2707 - accuracy: 0.5154 - val_loss: 1.2847 - val_accuracy: 0.4883\n",
      "Epoch 6/100\n",
      "401/401 [==============================] - 14s 36ms/step - loss: 1.2424 - accuracy: 0.5188 - val_loss: 1.2548 - val_accuracy: 0.5088\n",
      "Epoch 7/100\n",
      "401/401 [==============================] - 14s 36ms/step - loss: 1.2212 - accuracy: 0.5279 - val_loss: 1.2828 - val_accuracy: 0.4488\n",
      "Epoch 8/100\n",
      "401/401 [==============================] - 14s 35ms/step - loss: 1.2001 - accuracy: 0.5346 - val_loss: 1.4448 - val_accuracy: 0.4078\n",
      "Epoch 9/100\n",
      "401/401 [==============================] - 14s 35ms/step - loss: 1.1866 - accuracy: 0.5364 - val_loss: 1.2377 - val_accuracy: 0.4898\n",
      "Epoch 10/100\n",
      "401/401 [==============================] - 14s 35ms/step - loss: 1.1793 - accuracy: 0.5411 - val_loss: 1.2753 - val_accuracy: 0.4848\n",
      "Epoch 11/100\n",
      "401/401 [==============================] - 14s 35ms/step - loss: 1.1614 - accuracy: 0.5429 - val_loss: 1.2598 - val_accuracy: 0.4742\n",
      "Epoch 12/100\n",
      "401/401 [==============================] - 14s 35ms/step - loss: 1.1459 - accuracy: 0.5607 - val_loss: 1.2861 - val_accuracy: 0.4862\n",
      "Epoch 13/100\n",
      "401/401 [==============================] - 14s 35ms/step - loss: 1.1459 - accuracy: 0.5566 - val_loss: 1.3325 - val_accuracy: 0.4332\n",
      "Epoch 14/100\n",
      "401/401 [==============================] - 14s 35ms/step - loss: 1.1342 - accuracy: 0.5691 - val_loss: 1.2330 - val_accuracy: 0.5166\n",
      "Epoch 15/100\n",
      "401/401 [==============================] - 14s 35ms/step - loss: 1.1194 - accuracy: 0.5797 - val_loss: 1.2363 - val_accuracy: 0.5095\n",
      "Epoch 16/100\n",
      "401/401 [==============================] - 14s 35ms/step - loss: 1.1121 - accuracy: 0.5774 - val_loss: 1.2344 - val_accuracy: 0.4989\n",
      "Epoch 17/100\n",
      "401/401 [==============================] - 14s 35ms/step - loss: 1.1119 - accuracy: 0.5774 - val_loss: 1.2458 - val_accuracy: 0.4975\n",
      "Epoch 18/100\n",
      "401/401 [==============================] - 14s 35ms/step - loss: 1.0896 - accuracy: 0.5939 - val_loss: 1.3051 - val_accuracy: 0.4643\n",
      "Epoch 19/100\n",
      "401/401 [==============================] - 14s 34ms/step - loss: 1.0983 - accuracy: 0.5857 - val_loss: 1.3260 - val_accuracy: 0.4799\n",
      "Epoch 20/100\n",
      "401/401 [==============================] - 14s 34ms/step - loss: 1.0795 - accuracy: 0.6062 - val_loss: 1.2950 - val_accuracy: 0.5011\n",
      "Epoch 21/100\n",
      "401/401 [==============================] - 14s 36ms/step - loss: 1.0704 - accuracy: 0.6029 - val_loss: 1.3045 - val_accuracy: 0.4975\n",
      "Epoch 22/100\n",
      "401/401 [==============================] - 16s 39ms/step - loss: 1.0701 - accuracy: 0.6055 - val_loss: 1.2420 - val_accuracy: 0.5322\n",
      "Epoch 23/100\n",
      "401/401 [==============================] - 15s 37ms/step - loss: 1.0488 - accuracy: 0.6205 - val_loss: 1.2347 - val_accuracy: 0.5371\n",
      "Epoch 24/100\n",
      "401/401 [==============================] - 15s 37ms/step - loss: 1.0627 - accuracy: 0.6180 - val_loss: 1.3592 - val_accuracy: 0.4975\n",
      "Epoch 25/100\n",
      "401/401 [==============================] - 16s 39ms/step - loss: 1.0360 - accuracy: 0.6293 - val_loss: 1.2786 - val_accuracy: 0.5293\n",
      "Epoch 26/100\n",
      "401/401 [==============================] - 17s 41ms/step - loss: 1.0178 - accuracy: 0.6353 - val_loss: 1.2800 - val_accuracy: 0.5293\n",
      "Epoch 27/100\n",
      "401/401 [==============================] - 16s 40ms/step - loss: 1.0052 - accuracy: 0.6478 - val_loss: 1.3054 - val_accuracy: 0.5223\n",
      "Epoch 28/100\n",
      "401/401 [==============================] - 17s 43ms/step - loss: 0.9979 - accuracy: 0.6445 - val_loss: 1.5256 - val_accuracy: 0.4989\n",
      "Epoch 29/100\n",
      "401/401 [==============================] - 15s 38ms/step - loss: 0.9975 - accuracy: 0.6505 - val_loss: 1.3173 - val_accuracy: 0.5166\n",
      "Epoch 30/100\n",
      "401/401 [==============================] - 16s 39ms/step - loss: 0.9842 - accuracy: 0.6580 - val_loss: 1.3415 - val_accuracy: 0.5088\n",
      "Epoch 31/100\n",
      "401/401 [==============================] - 15s 37ms/step - loss: 0.9712 - accuracy: 0.6685 - val_loss: 1.4797 - val_accuracy: 0.5265\n",
      "Epoch 32/100\n",
      "401/401 [==============================] - 15s 37ms/step - loss: 0.9505 - accuracy: 0.6711 - val_loss: 1.3227 - val_accuracy: 0.5336\n",
      "Epoch 33/100\n",
      "401/401 [==============================] - 14s 36ms/step - loss: 0.9536 - accuracy: 0.6759 - val_loss: 1.3770 - val_accuracy: 0.5265\n",
      "Epoch 34/100\n",
      "401/401 [==============================] - 15s 37ms/step - loss: 0.9324 - accuracy: 0.6825 - val_loss: 1.3860 - val_accuracy: 0.5145\n",
      "Epoch 35/100\n",
      "401/401 [==============================] - 14s 35ms/step - loss: 0.9163 - accuracy: 0.6967 - val_loss: 1.4192 - val_accuracy: 0.5463\n",
      "Epoch 36/100\n",
      "401/401 [==============================] - 14s 35ms/step - loss: 0.9065 - accuracy: 0.7001 - val_loss: 1.4519 - val_accuracy: 0.5314\n",
      "Epoch 37/100\n",
      "401/401 [==============================] - 14s 35ms/step - loss: 0.9144 - accuracy: 0.6967 - val_loss: 1.4608 - val_accuracy: 0.5314\n",
      "Epoch 38/100\n",
      "401/401 [==============================] - 15s 38ms/step - loss: 0.8919 - accuracy: 0.7104 - val_loss: 1.3783 - val_accuracy: 0.5463\n",
      "Epoch 39/100\n",
      "401/401 [==============================] - 16s 39ms/step - loss: 0.8854 - accuracy: 0.7168 - val_loss: 1.4634 - val_accuracy: 0.5251\n",
      "Epoch 40/100\n",
      "401/401 [==============================] - 14s 36ms/step - loss: 0.8953 - accuracy: 0.7103 - val_loss: 1.4096 - val_accuracy: 0.5399\n",
      "Epoch 41/100\n",
      "401/401 [==============================] - 14s 35ms/step - loss: 0.8502 - accuracy: 0.7315 - val_loss: 1.4791 - val_accuracy: 0.5329\n",
      "Epoch 42/100\n",
      "401/401 [==============================] - 14s 34ms/step - loss: 0.8683 - accuracy: 0.7249 - val_loss: 1.4815 - val_accuracy: 0.5307\n",
      "Epoch 43/100\n",
      "401/401 [==============================] - 14s 36ms/step - loss: 0.8561 - accuracy: 0.7324 - val_loss: 1.4587 - val_accuracy: 0.5420\n",
      "Epoch 44/100\n",
      "401/401 [==============================] - 18s 45ms/step - loss: 0.8459 - accuracy: 0.7397 - val_loss: 1.5132 - val_accuracy: 0.5300\n",
      "Epoch 45/100\n",
      "401/401 [==============================] - 15s 37ms/step - loss: 0.8461 - accuracy: 0.7367 - val_loss: 1.5220 - val_accuracy: 0.5343\n",
      "Epoch 46/100\n",
      "401/401 [==============================] - 14s 35ms/step - loss: 0.8486 - accuracy: 0.7405 - val_loss: 1.4241 - val_accuracy: 0.5498\n",
      "Epoch 47/100\n",
      "401/401 [==============================] - 14s 36ms/step - loss: 0.8190 - accuracy: 0.7470 - val_loss: 1.6051 - val_accuracy: 0.5201\n",
      "Epoch 48/100\n",
      "401/401 [==============================] - 15s 37ms/step - loss: 0.8144 - accuracy: 0.7538 - val_loss: 1.5669 - val_accuracy: 0.5159\n",
      "Epoch 49/100\n",
      "401/401 [==============================] - 14s 35ms/step - loss: 0.8163 - accuracy: 0.7508 - val_loss: 1.4834 - val_accuracy: 0.5293\n",
      "Epoch 50/100\n",
      "401/401 [==============================] - 14s 35ms/step - loss: 0.7932 - accuracy: 0.7659 - val_loss: 1.5493 - val_accuracy: 0.5322\n",
      "Epoch 51/100\n",
      "401/401 [==============================] - 14s 34ms/step - loss: 0.8041 - accuracy: 0.7626 - val_loss: 1.4918 - val_accuracy: 0.5272\n",
      "Epoch 52/100\n",
      "401/401 [==============================] - 14s 36ms/step - loss: 0.8007 - accuracy: 0.7623 - val_loss: 1.5731 - val_accuracy: 0.5293\n",
      "Epoch 53/100\n",
      "401/401 [==============================] - 16s 39ms/step - loss: 0.7859 - accuracy: 0.7734 - val_loss: 1.6062 - val_accuracy: 0.5470\n",
      "Epoch 54/100\n",
      "401/401 [==============================] - 15s 38ms/step - loss: 0.7833 - accuracy: 0.7658 - val_loss: 1.6941 - val_accuracy: 0.5314\n",
      "Epoch 55/100\n",
      "401/401 [==============================] - 15s 38ms/step - loss: 0.7868 - accuracy: 0.7734 - val_loss: 1.7301 - val_accuracy: 0.5329\n",
      "Epoch 56/100\n",
      "401/401 [==============================] - 15s 37ms/step - loss: 0.7812 - accuracy: 0.7760 - val_loss: 1.6373 - val_accuracy: 0.5300\n",
      "Epoch 57/100\n",
      "401/401 [==============================] - 15s 38ms/step - loss: 0.7838 - accuracy: 0.7797 - val_loss: 1.6616 - val_accuracy: 0.5180\n",
      "Epoch 58/100\n",
      "401/401 [==============================] - 16s 40ms/step - loss: 0.7741 - accuracy: 0.7837 - val_loss: 1.6247 - val_accuracy: 0.5216\n",
      "Epoch 59/100\n",
      "401/401 [==============================] - 16s 40ms/step - loss: 0.7595 - accuracy: 0.7868 - val_loss: 1.9254 - val_accuracy: 0.4876\n",
      "Epoch 60/100\n",
      "401/401 [==============================] - 15s 37ms/step - loss: 0.7577 - accuracy: 0.7853 - val_loss: 1.6997 - val_accuracy: 0.5032\n",
      "Epoch 61/100\n",
      "401/401 [==============================] - 19s 48ms/step - loss: 0.7442 - accuracy: 0.7938 - val_loss: 1.6526 - val_accuracy: 0.5343\n"
     ]
    }
   ],
   "source": [
    "es_callback = keras.callbacks.EarlyStopping(monitor='val_accuracy', patience=15)\n",
    "history = cnn_model.fit(x_train, y_train, epochs=100, batch_size=20, validation_data=(x_val, y_val), callbacks = es_callback)"
   ]
  },
  {
   "cell_type": "code",
   "execution_count": 434,
   "metadata": {},
   "outputs": [
    {
     "name": "stdout",
     "output_type": "stream",
     "text": [
      "Train loss: 0.653897225856781 / Train accuracy: 0.8326886892318726\n"
     ]
    }
   ],
   "source": [
    "score = cnn_model.evaluate(x_train, y_train, verbose=0)\n",
    "print(f'Train loss: {score[0]} / Train accuracy: {score[1]}')"
   ]
  },
  {
   "cell_type": "code",
   "execution_count": 435,
   "metadata": {},
   "outputs": [
    {
     "name": "stdout",
     "output_type": "stream",
     "text": [
      "Test loss: 1.6942102909088135 / Test accuracy: 0.5391095280647278\n"
     ]
    }
   ],
   "source": [
    "score = cnn_model.evaluate(np.array(test_img) / 255.0, test_df_with_img['account_type_multi'], verbose=0)\n",
    "print(f'Test loss: {score[0]} / Test accuracy: {score[1]}')"
   ]
  },
  {
   "cell_type": "markdown",
   "metadata": {},
   "source": [
    "## ANN + CNN\n",
    "train a neural network that combines categorical/numerical attributes with images"
   ]
  },
  {
   "cell_type": "code",
   "execution_count": 100,
   "metadata": {},
   "outputs": [],
   "source": [
    "x_train, y_train = train_df_with_img2.drop(to_drop, axis=1), train_df_with_img2['account_type_multi']\n",
    "x_test, y_test = test_df_with_img2.drop(to_drop, axis=1), test_df_with_img2['account_type_multi']"
   ]
  },
  {
   "cell_type": "code",
   "execution_count": 101,
   "metadata": {},
   "outputs": [],
   "source": [
    "x_train, x_val, y_train, y_val = train_test_split(x_train, y_train, test_size=0.15)"
   ]
  },
  {
   "cell_type": "code",
   "execution_count": 102,
   "metadata": {},
   "outputs": [],
   "source": [
    "x_train_img, x_train_attr = np.stack(x_train['img']) / 255.0, x_train.drop('img', axis=1)\n",
    "x_val_img, x_val_attr = np.stack(x_val['img']) / 255.0, x_val.drop('img', axis=1)\n",
    "x_test_img, x_test_attr = np.stack(x_test['img']) / 255.0, x_test.drop('img', axis=1)"
   ]
  },
  {
   "cell_type": "code",
   "execution_count": 103,
   "metadata": {},
   "outputs": [],
   "source": [
    "def create_ann():\n",
    "    ann_model = Sequential()\n",
    "    ann_model.add(Dense(64, activation = 'relu', input_dim = 222))\n",
    "    ann_model.add(Dropout(.1))\n",
    "    ann_model.add(Dense(128, activation='relu'))\n",
    "    return ann_model"
   ]
  },
  {
   "cell_type": "code",
   "execution_count": 104,
   "metadata": {},
   "outputs": [],
   "source": [
    "def create_cnn():    \n",
    "    base_model = InceptionV3(input_shape = (75, 75, 3), include_top = False, weights = 'imagenet')\n",
    "\n",
    "    for layer in base_model.layers:\n",
    "        layer.trainable = False\n",
    "    x = Flatten()(base_model.output)\n",
    "    x = Dense(70, activation='relu')(x)\n",
    "    x = Dropout(0.5)(x)\n",
    "    x = Dense(50, activation='softmax')(x)\n",
    "    cnn_model = Model(base_model.input, x)\n",
    "    return cnn_model"
   ]
  },
  {
   "cell_type": "code",
   "execution_count": 105,
   "metadata": {},
   "outputs": [],
   "source": [
    "ann_model = create_ann()\n",
    "cnn_model = create_cnn()\n",
    "combined_input = concatenate([ann_model.output, cnn_model.output])\n",
    "x = Dense(50, activation=\"relu\")(combined_input)\n",
    "x = Dense(6, activation=\"softmax\")(x)\n",
    "combined_model = Model(inputs=[ann_model.input, cnn_model.input], outputs=x)\n",
    "combined_model.compile(optimizer='adam',\n",
    "                    loss='sparse_categorical_crossentropy',\n",
    "                    metrics=['accuracy'])"
   ]
  },
  {
   "cell_type": "code",
   "execution_count": 106,
   "metadata": {},
   "outputs": [
    {
     "output_type": "stream",
     "name": "stdout",
     "text": [
      "Epoch 1/20\n",
      "161/161 [==============================] - 38s 202ms/step - loss: 0.5380 - accuracy: 0.8196 - val_loss: 0.2438 - val_accuracy: 0.9223\n",
      "Epoch 2/20\n",
      "161/161 [==============================] - 39s 244ms/step - loss: 0.2178 - accuracy: 0.9329 - val_loss: 0.1329 - val_accuracy: 0.9583\n",
      "Epoch 3/20\n",
      "161/161 [==============================] - 45s 278ms/step - loss: 0.1412 - accuracy: 0.9592 - val_loss: 0.0962 - val_accuracy: 0.9654\n",
      "Epoch 4/20\n",
      "161/161 [==============================] - 36s 224ms/step - loss: 0.1096 - accuracy: 0.9692 - val_loss: 0.1078 - val_accuracy: 0.9604\n",
      "Epoch 5/20\n",
      "161/161 [==============================] - 37s 231ms/step - loss: 0.0967 - accuracy: 0.9735 - val_loss: 0.0969 - val_accuracy: 0.9675\n",
      "Epoch 6/20\n",
      "161/161 [==============================] - 39s 242ms/step - loss: 0.0884 - accuracy: 0.9752 - val_loss: 0.0848 - val_accuracy: 0.9731\n",
      "Epoch 7/20\n",
      "161/161 [==============================] - 39s 244ms/step - loss: 0.0787 - accuracy: 0.9784 - val_loss: 0.0723 - val_accuracy: 0.9802\n",
      "Epoch 8/20\n",
      "161/161 [==============================] - 36s 222ms/step - loss: 0.0700 - accuracy: 0.9813 - val_loss: 0.0882 - val_accuracy: 0.9731\n",
      "Epoch 9/20\n",
      "161/161 [==============================] - 38s 237ms/step - loss: 0.0594 - accuracy: 0.9825 - val_loss: 0.0684 - val_accuracy: 0.9760\n",
      "Epoch 10/20\n",
      "161/161 [==============================] - 35s 215ms/step - loss: 0.0608 - accuracy: 0.9827 - val_loss: 0.0657 - val_accuracy: 0.9809\n",
      "Epoch 11/20\n",
      "161/161 [==============================] - 35s 216ms/step - loss: 0.0586 - accuracy: 0.9805 - val_loss: 0.0662 - val_accuracy: 0.9781\n",
      "Epoch 12/20\n",
      "161/161 [==============================] - 35s 220ms/step - loss: 0.0529 - accuracy: 0.9848 - val_loss: 0.0620 - val_accuracy: 0.9830\n",
      "Epoch 13/20\n",
      "161/161 [==============================] - 32s 199ms/step - loss: 0.0509 - accuracy: 0.9859 - val_loss: 0.0645 - val_accuracy: 0.9809\n",
      "Epoch 14/20\n",
      "161/161 [==============================] - 34s 213ms/step - loss: 0.0484 - accuracy: 0.9858 - val_loss: 0.0596 - val_accuracy: 0.9845\n",
      "Epoch 15/20\n",
      "161/161 [==============================] - 36s 221ms/step - loss: 0.0437 - accuracy: 0.9869 - val_loss: 0.0592 - val_accuracy: 0.9852\n",
      "Epoch 16/20\n",
      "161/161 [==============================] - 32s 202ms/step - loss: 0.0411 - accuracy: 0.9871 - val_loss: 0.0634 - val_accuracy: 0.9802\n",
      "Epoch 17/20\n",
      "161/161 [==============================] - 30s 187ms/step - loss: 0.0434 - accuracy: 0.9881 - val_loss: 0.0616 - val_accuracy: 0.9809\n",
      "Epoch 18/20\n",
      "161/161 [==============================] - 36s 226ms/step - loss: 0.0368 - accuracy: 0.9893 - val_loss: 0.0601 - val_accuracy: 0.9823\n",
      "Epoch 19/20\n",
      "161/161 [==============================] - 36s 227ms/step - loss: 0.0384 - accuracy: 0.9876 - val_loss: 0.0622 - val_accuracy: 0.9809\n",
      "Epoch 20/20\n",
      "161/161 [==============================] - 32s 200ms/step - loss: 0.0413 - accuracy: 0.9876 - val_loss: 0.0690 - val_accuracy: 0.9816\n",
      "Total time taken for the program execution 722.1817548274994\n"
     ]
    }
   ],
   "source": [
    "#es_callback = keras.callbacks.EarlyStopping(monitor='val_accuracy', patience=15)\n",
    "start_time = time.time()\n",
    "combined_model.fit(\n",
    "\tx=[x_train_attr, x_train_img], y=y_train,\n",
    "\tvalidation_data=([x_val_attr, x_val_img], y_val),\n",
    "\tepochs=20, batch_size=50)\n",
    "time_taken = time.time() - start_time\n",
    "print(\"Total time taken for the program execution\", time_taken) # seconds"
   ]
  },
  {
   "cell_type": "code",
   "execution_count": 107,
   "metadata": {},
   "outputs": [
    {
     "output_type": "stream",
     "name": "stdout",
     "text": [
      "Train loss: 0.026401977986097336 / Train accuracy: 0.9920149445533752\n"
     ]
    }
   ],
   "source": [
    "score = combined_model.evaluate([x_train_attr, x_train_img], y_train, verbose=0)\n",
    "print(f'Train loss: {score[0]} / Train accuracy: {score[1]}')"
   ]
  },
  {
   "cell_type": "code",
   "execution_count": 108,
   "metadata": {},
   "outputs": [
    {
     "output_type": "stream",
     "name": "stdout",
     "text": [
      "Test loss: 0.1009983941912651 / Test accuracy: 0.9753309488296509\n"
     ]
    }
   ],
   "source": [
    "score = combined_model.evaluate([x_test_attr, x_test_img], y_test, verbose=0)\n",
    "print(f'Test loss: {score[0]} / Test accuracy: {score[1]}')"
   ]
  },
  {
   "cell_type": "code",
   "execution_count": 109,
   "metadata": {},
   "outputs": [
    {
     "output_type": "stream",
     "name": "stdout",
     "text": [
      "52/52 [==============================] - 7s 103ms/step\n"
     ]
    }
   ],
   "source": [
    "pred = combined_model.predict([x_test_attr, x_test_img])\n",
    "pred = np.argmax(pred,axis=1)"
   ]
  },
  {
   "cell_type": "code",
   "execution_count": 110,
   "metadata": {},
   "outputs": [
    {
     "output_type": "stream",
     "name": "stdout",
     "text": [
      "              precision    recall  f1-score   support\n\n           0    0.94159   0.97816   0.95952       412\n           1    0.98911   0.98696   0.98803       460\n           2    0.98134   0.95985   0.97048       274\n           3    0.98817   0.97093   0.97947       516\n\n    accuracy                        0.97533      1662\n   macro avg    0.97505   0.97397   0.97438      1662\nweighted avg    0.97576   0.97533   0.97541      1662\n\n"
     ]
    }
   ],
   "source": [
    "print(classification_report(y_test, pred, digits=5))"
   ]
  },
  {
   "cell_type": "code",
   "execution_count": null,
   "metadata": {},
   "outputs": [],
   "source": []
  }
 ],
 "metadata": {
  "kernelspec": {
   "display_name": "Python 3 (ipykernel)",
   "language": "python",
   "name": "python3"
  },
  "language_info": {
   "codemirror_mode": {
    "name": "ipython",
    "version": 3
   },
   "file_extension": ".py",
   "mimetype": "text/x-python",
   "name": "python",
   "nbconvert_exporter": "python",
   "pygments_lexer": "ipython3",
   "version": "3.8.5-final"
  },
  "orig_nbformat": 2,
  "vscode": {
   "interpreter": {
    "hash": "77238a471535228e8cd55a3ca9e771a69c6c0bc66c44a56c972f9554a4042742"
   }
  }
 },
 "nbformat": 4,
 "nbformat_minor": 2
}