{
 "cells": [
  {
   "cell_type": "code",
   "execution_count": 1,
   "metadata": {},
   "outputs": [],
   "source": [
    "import pandas as pd \n",
    "import numpy as np \n",
    "import re\n",
    "import matplotlib.pyplot as plt\n",
    "import keras\n",
    "import tensorflow as tf\n",
    "import cv2\n",
    "import time\n",
    "\n",
    "from sklearn.model_selection import train_test_split\n",
    "from sklearn.preprocessing import MinMaxScaler\n",
    "\n",
    "from sklearn.inspection import permutation_importance\n",
    "from sklearn.metrics import classification_report\n",
    "\n",
    "from tensorflow.keras.layers import concatenate\n",
    "from keras.layers import Conv2D, MaxPooling2D, Input, Flatten, Dense, Dropout, BatchNormalization\n",
    "from keras.models import Sequential, Model\n",
    "from keras.metrics import CategoricalAccuracy\n",
    "from keras.regularizers import l2\n",
    "from tensorflow.keras.applications.inception_v3 import InceptionV3\n",
    "\n",
    "pd.set_option('display.max_columns', None)"
   ]
  },
  {
   "cell_type": "code",
   "execution_count": 2,
   "metadata": {},
   "outputs": [],
   "source": [
    "train_df = pd.read_csv('data/twitter_data_train_multiclass.csv')\n",
    "test_df = pd.read_csv('data/twitter_data_test_multiclass.csv')"
   ]
  },
  {
   "cell_type": "code",
   "execution_count": 3,
   "metadata": {},
   "outputs": [],
   "source": [
    "scaler = MinMaxScaler() \n",
    "train_df[['statuses_count', 'favourites_count', 'followers_count', 'friends_count', 'number_of_mentions', 'listed_count', 'number_of_tags']] = scaler.fit_transform(train_df[['statuses_count', 'favourites_count', 'followers_count', 'friends_count', 'number_of_mentions', 'listed_count', 'number_of_tags']])\n",
    "test_df[['statuses_count', 'favourites_count', 'followers_count', 'friends_count', 'number_of_mentions', 'listed_count', 'number_of_tags']] = scaler.transform(test_df[['statuses_count', 'favourites_count', 'followers_count', 'friends_count', 'number_of_mentions', 'listed_count', 'number_of_tags']])"
   ]
  },
  {
   "cell_type": "markdown",
   "metadata": {},
   "source": [
    "## ANN\n",
    "training a ANN with categorical and numerical attributes"
   ]
  },
  {
   "cell_type": "code",
   "execution_count": 4,
   "metadata": {},
   "outputs": [],
   "source": [
    "to_drop = ['Unnamed: 0', 'screen_name', 'url', 'profile_image_url', 'description',\n",
    "           'id', 'name', 'account_type', 'tweets_list', 'tweets_list_processed',\n",
    "          'description_processed', 'protected', 'verified', 'account_type_multi', \n",
    "          'profile_use_background_image', 'profile_background_tile']\n",
    "\n",
    "x_train, y_train = train_df.drop(to_drop, axis=1), train_df['account_type_multi']\n",
    "x_test, y_test = test_df.drop(to_drop, axis=1), test_df['account_type_multi']"
   ]
  },
  {
   "cell_type": "code",
   "execution_count": 5,
   "metadata": {},
   "outputs": [],
   "source": [
    "x_train, x_val, y_train, y_val = train_test_split(x_train, y_train, test_size=0.15)"
   ]
  },
  {
   "cell_type": "code",
   "execution_count": 114,
   "metadata": {},
   "outputs": [
    {
     "name": "stdout",
     "output_type": "stream",
     "text": [
      "Model: \"sequential_14\"\n",
      "_________________________________________________________________\n",
      " Layer (type)                Output Shape              Param #   \n",
      "=================================================================\n",
      " dense_42 (Dense)            (None, 64)                14272     \n",
      "                                                                 \n",
      " dropout_14 (Dropout)        (None, 64)                0         \n",
      "                                                                 \n",
      " dense_43 (Dense)            (None, 128)               8320      \n",
      "                                                                 \n",
      " dense_44 (Dense)            (None, 6)                 774       \n",
      "                                                                 \n",
      "=================================================================\n",
      "Total params: 23,366\n",
      "Trainable params: 23,366\n",
      "Non-trainable params: 0\n",
      "_________________________________________________________________\n"
     ]
    }
   ],
   "source": [
    "start_time = time.time()\n",
    "\n",
    "ann_model = Sequential()\n",
    "ann_model.add(Dense(64, activation = 'relu', input_dim = 222))\n",
    "ann_model.add(Dropout(.1))\n",
    "ann_model.add(Dense(128, activation='relu'))\n",
    "ann_model.add(Dense(6, activation='softmax'))\n",
    "\n",
    "ann_model.summary()\n",
    "# configure the model\n",
    "ann_model.compile(optimizer='adam',\n",
    "                    loss='sparse_categorical_crossentropy',\n",
    "                    metrics=['accuracy'])"
   ]
  },
  {
   "cell_type": "code",
   "execution_count": 115,
   "metadata": {},
   "outputs": [
    {
     "name": "stdout",
     "output_type": "stream",
     "text": [
      "Epoch 1/20\n",
      "161/161 [==============================] - 1s 2ms/step - loss: 0.7071 - accuracy: 0.7824 - val_loss: 0.2900 - val_accuracy: 0.9224\n",
      "Epoch 2/20\n",
      "161/161 [==============================] - 0s 1ms/step - loss: 0.2680 - accuracy: 0.9210 - val_loss: 0.1545 - val_accuracy: 0.9584\n",
      "Epoch 3/20\n",
      "161/161 [==============================] - 0s 1ms/step - loss: 0.1655 - accuracy: 0.9558 - val_loss: 0.1237 - val_accuracy: 0.9633\n",
      "Epoch 4/20\n",
      "161/161 [==============================] - 0s 1ms/step - loss: 0.1478 - accuracy: 0.9656 - val_loss: 0.1012 - val_accuracy: 0.9774\n",
      "Epoch 5/20\n",
      "161/161 [==============================] - 0s 1ms/step - loss: 0.1141 - accuracy: 0.9721 - val_loss: 0.1542 - val_accuracy: 0.9739\n",
      "Epoch 6/20\n",
      "161/161 [==============================] - 0s 1ms/step - loss: 0.0989 - accuracy: 0.9746 - val_loss: 0.1095 - val_accuracy: 0.9781\n",
      "Epoch 7/20\n",
      "161/161 [==============================] - 0s 1ms/step - loss: 0.1026 - accuracy: 0.9776 - val_loss: 0.0869 - val_accuracy: 0.9802\n",
      "Epoch 8/20\n",
      "161/161 [==============================] - 0s 1ms/step - loss: 0.0812 - accuracy: 0.9763 - val_loss: 0.0886 - val_accuracy: 0.9795\n",
      "Epoch 9/20\n",
      "161/161 [==============================] - 0s 1ms/step - loss: 0.0782 - accuracy: 0.9790 - val_loss: 0.0707 - val_accuracy: 0.9831\n",
      "Epoch 10/20\n",
      "161/161 [==============================] - 0s 1ms/step - loss: 0.0761 - accuracy: 0.9797 - val_loss: 0.1023 - val_accuracy: 0.9767\n",
      "Epoch 11/20\n",
      "161/161 [==============================] - 0s 1ms/step - loss: 0.0749 - accuracy: 0.9802 - val_loss: 0.0740 - val_accuracy: 0.9838\n",
      "Epoch 12/20\n",
      "161/161 [==============================] - 0s 1ms/step - loss: 0.0653 - accuracy: 0.9827 - val_loss: 0.0913 - val_accuracy: 0.9817\n",
      "Epoch 13/20\n",
      "161/161 [==============================] - 0s 1ms/step - loss: 0.0634 - accuracy: 0.9821 - val_loss: 0.0841 - val_accuracy: 0.9838\n",
      "Epoch 14/20\n",
      "161/161 [==============================] - 0s 1ms/step - loss: 0.0687 - accuracy: 0.9819 - val_loss: 0.0724 - val_accuracy: 0.9817\n",
      "Epoch 15/20\n",
      "161/161 [==============================] - 0s 1ms/step - loss: 0.0490 - accuracy: 0.9849 - val_loss: 0.0614 - val_accuracy: 0.9831\n",
      "Epoch 16/20\n",
      "161/161 [==============================] - 0s 1ms/step - loss: 0.0511 - accuracy: 0.9847 - val_loss: 0.0640 - val_accuracy: 0.9838\n",
      "Epoch 17/20\n",
      "161/161 [==============================] - 0s 1ms/step - loss: 0.0456 - accuracy: 0.9872 - val_loss: 0.0642 - val_accuracy: 0.9838\n",
      "Epoch 18/20\n",
      "161/161 [==============================] - 0s 1ms/step - loss: 0.0466 - accuracy: 0.9861 - val_loss: 0.0577 - val_accuracy: 0.9817\n",
      "Epoch 19/20\n",
      "161/161 [==============================] - 0s 1ms/step - loss: 0.0455 - accuracy: 0.9882 - val_loss: 0.0569 - val_accuracy: 0.9852\n",
      "Epoch 20/20\n",
      "161/161 [==============================] - 0s 1ms/step - loss: 0.0436 - accuracy: 0.9883 - val_loss: 0.0680 - val_accuracy: 0.9774\n",
      "Total time taken for the program execution 4.67647647857666\n",
      "Train loss: 0.03977852687239647 / Train accuracy: 0.9881678819656372\n",
      "Test loss: 0.09177057445049286 / Test accuracy: 0.9784043431282043\n"
     ]
    }
   ],
   "source": [
    "start_time = time.time()\n",
    "history = ann_model.fit(x_train, y_train, epochs=20, batch_size=50, validation_data=(x_val, y_val))\n",
    "time_taken = time.time() - start_time\n",
    "print(\"Total time taken for the program execution\", time_taken) # seconds\n",
    "\n",
    "score = ann_model.evaluate(x_train, y_train, verbose=0)\n",
    "print(f'Train loss: {score[0]} / Train accuracy: {score[1]}')\n",
    "\n",
    "score = ann_model.evaluate(x_test, y_test, verbose=0)\n",
    "print(f'Test loss: {score[0]} / Test accuracy: {score[1]}')"
   ]
  },
  {
   "cell_type": "code",
   "execution_count": 116,
   "metadata": {},
   "outputs": [
    {
     "data": {
      "image/png": "[encoded data removed]",
      "text/plain": [
       "<Figure size 1200x600 with 2 Axes>"
      ]
     },
     "metadata": {
      "needs_background": "light"
     },
     "output_type": "display_data"
    }
   ],
   "source": [
    "acc = history.history['accuracy']\n",
    "val_acc = history.history['val_accuracy']\n",
    "loss = history.history['loss']\n",
    "val_loss = history.history['val_loss']\n",
    "\n",
    "plt.figure(figsize=(12, 6), dpi=100)\n",
    "plt.subplot(2,1,1)\n",
    "plt.plot(acc, 'r', label='train acc')\n",
    "plt.plot(val_acc, 'b', label='val acc')\n",
    "plt.title('Train and Validation Accuracy')\n",
    "plt.legend()\n",
    "\n",
    "plt.subplot(2,1,2)\n",
    "plt.plot(loss, 'r', label='train loss')\n",
    "plt.plot(val_loss, 'b', label='val loss')\n",
    "plt.title('Train and Validation Loss')\n",
    "plt.legend()\n",
    "\n",
    "plt.show()"
   ]
  },
  {
   "cell_type": "code",
   "execution_count": 117,
   "metadata": {},
   "outputs": [
    {
     "name": "stdout",
     "output_type": "stream",
     "text": [
      "53/53 [==============================] - 0s 701us/step\n",
      "              precision    recall  f1-score   support\n",
      "\n",
      "           0    0.96359   0.96126   0.96242       413\n",
      "           1    0.97655   0.99565   0.98601       460\n",
      "           2    0.96364   0.91379   0.93805        58\n",
      "           3    0.99545   0.98498   0.99019       666\n",
      "           4    0.91071   0.96226   0.93578        53\n",
      "           5    1.00000   0.94118   0.96970        17\n",
      "\n",
      "    accuracy                        0.97840      1667\n",
      "   macro avg    0.96832   0.95985   0.96369      1667\n",
      "weighted avg    0.97859   0.97840   0.97840      1667\n",
      "\n"
     ]
    }
   ],
   "source": [
    "pred = ann_model.predict(x_test)\n",
    "pred = np.argmax(pred,axis=1)\n",
    "print(classification_report(y_test, pred, digits=5))"
   ]
  },
  {
   "cell_type": "markdown",
   "metadata": {},
   "source": [
    "## CNN\n",
    "training a CNN using user's profile photos"
   ]
  },
  {
   "cell_type": "code",
   "execution_count": 4,
   "metadata": {},
   "outputs": [],
   "source": [
    "faces_base = \"../new batch profile pics/\""
   ]
  },
  {
   "cell_type": "code",
   "execution_count": 5,
   "metadata": {},
   "outputs": [],
   "source": [
    "# get all image pathnames from base\n",
    "# list to store files\n",
    "res = []\n",
    "res2 = []\n",
    "\n",
    "# Iterate directory\n",
    "for path in os.listdir(faces_base):\n",
    "    # check if current path is a file\n",
    "    if os.path.isfile(os.path.join(faces_base, path)):\n",
    "        res.append(faces_base + path)\n",
    "        res2.append(path)"
   ]
  },
  {
   "cell_type": "markdown",
   "metadata": {},
   "source": [
    "### Pre trained CNN: InceptionV3"
   ]
  },
  {
   "cell_type": "code",
   "execution_count": 6,
   "metadata": {
    "tags": []
   },
   "outputs": [
    {
     "name": "stdout",
     "output_type": "stream",
     "text": [
      "none\n",
      "none\n",
      "none\n",
      "none\n",
      "none\n",
      "none\n",
      "none\n",
      "none\n",
      "none\n",
      "none\n",
      "libpng warning: iCCP: profile 'icc': 'RGB ': RGB color space not permitted on grayscale PNG\n",
      "none\n",
      "none\n",
      "none\n",
      "none\n",
      "libpng warning: iCCP: profile 'icc': 'RGB ': RGB color space not permitted on grayscale PNG\n",
      "none\n",
      "none\n",
      "libpng warning: iCCP: known incorrect sRGB profile\n",
      "none\n",
      "none\n",
      "none\n",
      "none\n",
      "none\n"
     ]
    }
   ],
   "source": [
    "train_img_dict2 = {}\n",
    "test_img_dict2 = {}\n",
    "train_img2 = []\n",
    "test_img2 = []\n",
    "for i in range(len(res)):\n",
    "    pic = res[i]\n",
    "    id_name = re.match(r\"[^\\/\\\\]+(?=\\.png|\\.jpg)\", res2[i]).group(0)\n",
    "    try:\n",
    "        img = cv2.imread(pic)\n",
    "        if img is None:\n",
    "            print(\"none\")\n",
    "            continue\n",
    "        img = cv2.resize(img, (75, 75))\n",
    "        if int(id_name) in list(train_df['id']):\n",
    "            train_img_dict2[int(id_name)] = img \n",
    "            train_img2.append(img)\n",
    "        elif int(id_name) in list(test_df['id']):\n",
    "            test_img_dict2[int(id_name)] = img\n",
    "            test_img2.append(img)\n",
    "        #img.close()\n",
    "    except Exception as e:\n",
    "        print(e)"
   ]
  },
  {
   "cell_type": "code",
   "execution_count": 7,
   "metadata": {},
   "outputs": [],
   "source": [
    "train_img_df2 = pd.DataFrame(train_img_dict2.items(), columns = ['id', 'img'])  \n",
    "test_img_df2 = pd.DataFrame(test_img_dict2.items(), columns = ['id', 'img'])  \n",
    "train_df_with_img2 = pd.merge(train_img_df2, train_df, on='id')\n",
    "test_df_with_img2 = pd.merge(test_img_df2, test_df, on='id')"
   ]
  },
  {
   "cell_type": "code",
   "execution_count": 8,
   "metadata": {},
   "outputs": [
    {
     "name": "stderr",
     "output_type": "stream",
     "text": [
      "2022-11-13 21:36:07.743057: I tensorflow/core/platform/cpu_feature_guard.cc:193] This TensorFlow binary is optimized with oneAPI Deep Neural Network Library (oneDNN) to use the following CPU instructions in performance-critical operations:  AVX2 FMA\n",
      "To enable them in other operations, rebuild TensorFlow with the appropriate compiler flags.\n"
     ]
    }
   ],
   "source": [
    "base_model = InceptionV3(input_shape = (75, 75, 3), include_top = False, weights = 'imagenet')\n",
    "\n",
    "for layer in base_model.layers:\n",
    "    layer.trainable = False\n",
    "x = Flatten()(base_model.output)\n",
    "x = Dense(70, activation='relu')(x)\n",
    "x = Dropout(0.5)(x)\n",
    "x = Dense(6, activation='softmax')(x)\n",
    "model = Model(base_model.input, x)\n",
    "# configure the model\n",
    "model.compile(optimizer='adam',\n",
    "                    loss='sparse_categorical_crossentropy',\n",
    "                    metrics=['accuracy'])"
   ]
  },
  {
   "cell_type": "code",
   "execution_count": 9,
   "metadata": {},
   "outputs": [],
   "source": [
    "x_train2, x_val2, y_train2, y_val2 = train_test_split(np.array(train_img2) / 255.0, train_df_with_img2['account_type_multi'], test_size=0.15)"
   ]
  },
  {
   "cell_type": "code",
   "execution_count": 10,
   "metadata": {},
   "outputs": [
    {
     "name": "stdout",
     "output_type": "stream",
     "text": [
      "Epoch 1/100\n",
      "401/401 [==============================] - 94s 194ms/step - loss: 1.2926 - accuracy: 0.4468 - val_loss: 1.1150 - val_accuracy: 0.5095\n",
      "Epoch 2/100\n",
      "401/401 [==============================] - 75s 187ms/step - loss: 1.1433 - accuracy: 0.5117 - val_loss: 1.0774 - val_accuracy: 0.5350\n",
      "Epoch 3/100\n",
      "401/401 [==============================] - 65s 163ms/step - loss: 1.0892 - accuracy: 0.5289 - val_loss: 1.0589 - val_accuracy: 0.5399\n",
      "Epoch 4/100\n",
      "401/401 [==============================] - 60s 151ms/step - loss: 1.0404 - accuracy: 0.5490 - val_loss: 1.0397 - val_accuracy: 0.5463\n",
      "Epoch 5/100\n",
      "401/401 [==============================] - 45s 112ms/step - loss: 0.9998 - accuracy: 0.5728 - val_loss: 1.0414 - val_accuracy: 0.5449\n",
      "Epoch 6/100\n",
      "401/401 [==============================] - 33s 82ms/step - loss: 0.9652 - accuracy: 0.5929 - val_loss: 1.0578 - val_accuracy: 0.5456\n",
      "Epoch 7/100\n",
      "401/401 [==============================] - 34s 84ms/step - loss: 0.9355 - accuracy: 0.6124 - val_loss: 1.0521 - val_accuracy: 0.5590\n",
      "Epoch 8/100\n",
      "401/401 [==============================] - 33s 83ms/step - loss: 0.8970 - accuracy: 0.6230 - val_loss: 1.0487 - val_accuracy: 0.5654\n",
      "Epoch 9/100\n",
      "401/401 [==============================] - 33s 83ms/step - loss: 0.8712 - accuracy: 0.6269 - val_loss: 1.0208 - val_accuracy: 0.5703\n",
      "Epoch 10/100\n",
      "401/401 [==============================] - 33s 82ms/step - loss: 0.8291 - accuracy: 0.6479 - val_loss: 1.0463 - val_accuracy: 0.5668\n",
      "Epoch 11/100\n",
      "401/401 [==============================] - 35s 88ms/step - loss: 0.7961 - accuracy: 0.6633 - val_loss: 1.0697 - val_accuracy: 0.5633\n",
      "Epoch 12/100\n",
      "401/401 [==============================] - 34s 85ms/step - loss: 0.7738 - accuracy: 0.6741 - val_loss: 1.0690 - val_accuracy: 0.5703\n",
      "Epoch 13/100\n",
      "401/401 [==============================] - 33s 83ms/step - loss: 0.7383 - accuracy: 0.6875 - val_loss: 1.1139 - val_accuracy: 0.5753\n",
      "Epoch 14/100\n",
      "401/401 [==============================] - 35s 88ms/step - loss: 0.7248 - accuracy: 0.6880 - val_loss: 1.1043 - val_accuracy: 0.5746\n",
      "Epoch 15/100\n",
      "401/401 [==============================] - 35s 88ms/step - loss: 0.7085 - accuracy: 0.6947 - val_loss: 1.1293 - val_accuracy: 0.5696\n",
      "Epoch 16/100\n",
      "401/401 [==============================] - 34s 84ms/step - loss: 0.6831 - accuracy: 0.7105 - val_loss: 1.1568 - val_accuracy: 0.5625\n",
      "Epoch 17/100\n",
      "401/401 [==============================] - 34s 84ms/step - loss: 0.6665 - accuracy: 0.7070 - val_loss: 1.1554 - val_accuracy: 0.5717\n",
      "Epoch 18/100\n",
      "401/401 [==============================] - 33s 83ms/step - loss: 0.6363 - accuracy: 0.7250 - val_loss: 1.1635 - val_accuracy: 0.5739\n",
      "Epoch 19/100\n",
      "401/401 [==============================] - 34s 84ms/step - loss: 0.6198 - accuracy: 0.7360 - val_loss: 1.2269 - val_accuracy: 0.5731\n",
      "Epoch 20/100\n",
      "401/401 [==============================] - 33s 83ms/step - loss: 0.5963 - accuracy: 0.7364 - val_loss: 1.2149 - val_accuracy: 0.5816\n",
      "Epoch 21/100\n",
      "401/401 [==============================] - 35s 86ms/step - loss: 0.5802 - accuracy: 0.7441 - val_loss: 1.2857 - val_accuracy: 0.5859\n",
      "Epoch 22/100\n",
      "401/401 [==============================] - 37s 93ms/step - loss: 0.5660 - accuracy: 0.7563 - val_loss: 1.3420 - val_accuracy: 0.5795\n",
      "Epoch 23/100\n",
      "401/401 [==============================] - 38s 94ms/step - loss: 0.5457 - accuracy: 0.7616 - val_loss: 1.2797 - val_accuracy: 0.5816\n",
      "Epoch 24/100\n",
      "401/401 [==============================] - 37s 92ms/step - loss: 0.5423 - accuracy: 0.7672 - val_loss: 1.3359 - val_accuracy: 0.5781\n",
      "Epoch 25/100\n",
      "401/401 [==============================] - 36s 91ms/step - loss: 0.5252 - accuracy: 0.7718 - val_loss: 1.3674 - val_accuracy: 0.5830\n",
      "Epoch 26/100\n",
      "401/401 [==============================] - 38s 95ms/step - loss: 0.5174 - accuracy: 0.7697 - val_loss: 1.3598 - val_accuracy: 0.5887\n",
      "Epoch 27/100\n",
      "401/401 [==============================] - 37s 92ms/step - loss: 0.5106 - accuracy: 0.7760 - val_loss: 1.3960 - val_accuracy: 0.5880\n",
      "Epoch 28/100\n",
      "401/401 [==============================] - 38s 93ms/step - loss: 0.5045 - accuracy: 0.7707 - val_loss: 1.4558 - val_accuracy: 0.5845\n",
      "Epoch 29/100\n",
      "401/401 [==============================] - 35s 88ms/step - loss: 0.4889 - accuracy: 0.7812 - val_loss: 1.4816 - val_accuracy: 0.5845\n",
      "Epoch 30/100\n",
      "401/401 [==============================] - 40s 100ms/step - loss: 0.4876 - accuracy: 0.7795 - val_loss: 1.5387 - val_accuracy: 0.5901\n",
      "Epoch 31/100\n",
      "401/401 [==============================] - 41s 101ms/step - loss: 0.4685 - accuracy: 0.7915 - val_loss: 1.5146 - val_accuracy: 0.5929\n",
      "Epoch 32/100\n",
      "401/401 [==============================] - 40s 100ms/step - loss: 0.4547 - accuracy: 0.7950 - val_loss: 1.5496 - val_accuracy: 0.5845\n",
      "Epoch 33/100\n",
      "401/401 [==============================] - 39s 98ms/step - loss: 0.4690 - accuracy: 0.7875 - val_loss: 1.5331 - val_accuracy: 0.5774\n",
      "Epoch 34/100\n",
      "401/401 [==============================] - 38s 95ms/step - loss: 0.4472 - accuracy: 0.8040 - val_loss: 1.5976 - val_accuracy: 0.5731\n",
      "Epoch 35/100\n",
      "401/401 [==============================] - 34s 85ms/step - loss: 0.4509 - accuracy: 0.7958 - val_loss: 1.5597 - val_accuracy: 0.5724\n",
      "Epoch 36/100\n",
      "401/401 [==============================] - 36s 89ms/step - loss: 0.4441 - accuracy: 0.7980 - val_loss: 1.6843 - val_accuracy: 0.5880\n",
      "Epoch 37/100\n",
      "401/401 [==============================] - 36s 89ms/step - loss: 0.4238 - accuracy: 0.8109 - val_loss: 1.7320 - val_accuracy: 0.5866\n",
      "Epoch 38/100\n",
      "401/401 [==============================] - 35s 86ms/step - loss: 0.4341 - accuracy: 0.8044 - val_loss: 1.6670 - val_accuracy: 0.5816\n",
      "Epoch 39/100\n",
      "401/401 [==============================] - 34s 86ms/step - loss: 0.4177 - accuracy: 0.8094 - val_loss: 1.7475 - val_accuracy: 0.5908\n",
      "Epoch 40/100\n",
      "401/401 [==============================] - 36s 90ms/step - loss: 0.4164 - accuracy: 0.8094 - val_loss: 1.6883 - val_accuracy: 0.5852\n",
      "Epoch 41/100\n",
      "401/401 [==============================] - 36s 90ms/step - loss: 0.4152 - accuracy: 0.8105 - val_loss: 1.8834 - val_accuracy: 0.5767\n",
      "Epoch 42/100\n",
      "401/401 [==============================] - 35s 88ms/step - loss: 0.4155 - accuracy: 0.8137 - val_loss: 1.7596 - val_accuracy: 0.5802\n",
      "Epoch 43/100\n",
      "401/401 [==============================] - 35s 87ms/step - loss: 0.3988 - accuracy: 0.8153 - val_loss: 1.7868 - val_accuracy: 0.5809\n",
      "Epoch 44/100\n",
      "401/401 [==============================] - 37s 91ms/step - loss: 0.4043 - accuracy: 0.8196 - val_loss: 1.9436 - val_accuracy: 0.5887\n",
      "Epoch 45/100\n",
      "401/401 [==============================] - 36s 89ms/step - loss: 0.4001 - accuracy: 0.8248 - val_loss: 1.8439 - val_accuracy: 0.5894\n",
      "Epoch 46/100\n",
      "401/401 [==============================] - 36s 90ms/step - loss: 0.3884 - accuracy: 0.8202 - val_loss: 1.9710 - val_accuracy: 0.5887\n"
     ]
    }
   ],
   "source": [
    "es_callback = keras.callbacks.EarlyStopping(monitor='val_accuracy', patience=15)\n",
    "inc_history = model.fit(x_train2, y_train2, epochs=100, batch_size=20, validation_data=(x_val2, y_val2), callbacks = es_callback)"
   ]
  },
  {
   "cell_type": "code",
   "execution_count": 11,
   "metadata": {},
   "outputs": [
    {
     "name": "stdout",
     "output_type": "stream",
     "text": [
      "Train loss: 0.12508568167686462 / Train accuracy: 0.9568309187889099\n"
     ]
    }
   ],
   "source": [
    "score = model.evaluate(x_train2, y_train2, verbose=0)\n",
    "print(f'Train loss: {score[0]} / Train accuracy: {score[1]}')"
   ]
  },
  {
   "cell_type": "code",
   "execution_count": 14,
   "metadata": {},
   "outputs": [
    {
     "name": "stdout",
     "output_type": "stream",
     "text": [
      "Test loss: 2.0648679733276367 / Test accuracy: 0.5932611227035522\n"
     ]
    }
   ],
   "source": [
    "score = model.evaluate(np.array(test_img2) / 255.0, test_df_with_img2['account_type_multi'], verbose=0)\n",
    "print(f'Test loss: {score[0]} / Test accuracy: {score[1]}')"
   ]
  },
  {
   "cell_type": "code",
   "execution_count": 25,
   "metadata": {},
   "outputs": [
    {
     "name": "stdout",
     "output_type": "stream",
     "text": [
      "52/52 [==============================] - 6s 117ms/step\n"
     ]
    }
   ],
   "source": [
    "pred = model.predict(np.array(test_img2) / 255.0)\n",
    "pred = np.argmax(pred,axis=1)"
   ]
  },
  {
   "cell_type": "code",
   "execution_count": 29,
   "metadata": {},
   "outputs": [
    {
     "name": "stdout",
     "output_type": "stream",
     "text": [
      "              precision    recall  f1-score   support\n",
      "\n",
      "           0    0.44811   0.46117   0.45455       412\n",
      "           1    0.50713   0.54130   0.52366       460\n",
      "           2    0.27273   0.05357   0.08955        56\n",
      "           3    0.73521   0.78378   0.75872       666\n",
      "           4    0.60000   0.11765   0.19672        51\n",
      "           5    1.00000   0.94118   0.96970        17\n",
      "\n",
      "    accuracy                        0.59326      1662\n",
      "   macro avg    0.59386   0.48311   0.49882      1662\n",
      "weighted avg    0.58389   0.59326   0.58062      1662\n",
      "\n"
     ]
    }
   ],
   "source": [
    "print(classification_report(test_df_with_img2['account_type_multi'], pred, digits=5))"
   ]
  },
  {
   "cell_type": "markdown",
   "metadata": {},
   "source": [
    "### Self-train CNN"
   ]
  },
  {
   "cell_type": "code",
   "execution_count": 44,
   "metadata": {},
   "outputs": [
    {
     "name": "stdout",
     "output_type": "stream",
     "text": [
      "none\n",
      "none\n",
      "none\n",
      "none\n",
      "none\n",
      "none\n",
      "none\n",
      "none\n",
      "none\n",
      "none\n",
      "libpng warning: iCCP: profile 'icc': 'RGB ': RGB color space not permitted on grayscale PNG\n",
      "none\n",
      "none\n",
      "none\n",
      "none\n",
      "libpng warning: iCCP: profile 'icc': 'RGB ': RGB color space not permitted on grayscale PNG\n",
      "none\n",
      "none\n",
      "libpng warning: iCCP: known incorrect sRGB profile\n",
      "none\n",
      "none\n",
      "none\n",
      "none\n",
      "none\n"
     ]
    }
   ],
   "source": [
    "train_img_dict = {}\n",
    "test_img_dict = {}\n",
    "train_img = []\n",
    "test_img = []\n",
    "for i in range(len(res)):\n",
    "    pic = res[i]\n",
    "    id_name = re.match(r\"[^\\/\\\\]+(?=\\.png|\\.jpg)\", res2[i]).group(0)\n",
    "    try:\n",
    "        img = cv2.imread(pic)\n",
    "        if img is None:\n",
    "            print(\"none\")\n",
    "            continue\n",
    "        if int(id_name) in list(train_df['id']):\n",
    "            train_img_dict[int(id_name)] = img \n",
    "            train_img.append(img)\n",
    "        elif int(id_name) in list(test_df['id']):\n",
    "            test_img_dict[int(id_name)] = img\n",
    "            test_img.append(img)\n",
    "        #img.close()\n",
    "    except Exception as e:\n",
    "        print(e)"
   ]
  },
  {
   "cell_type": "code",
   "execution_count": 348,
   "metadata": {},
   "outputs": [
    {
     "data": {
      "text/plain": [
       "9430"
      ]
     },
     "execution_count": 348,
     "metadata": {},
     "output_type": "execute_result"
    }
   ],
   "source": [
    "len(train_img_dict)"
   ]
  },
  {
   "cell_type": "code",
   "execution_count": 45,
   "metadata": {},
   "outputs": [],
   "source": [
    "train_img_df = pd.DataFrame(train_img_dict.items(), columns = ['id', 'img'])  \n",
    "test_img_df = pd.DataFrame(test_img_dict.items(), columns = ['id', 'img'])  \n",
    "train_df_with_img = pd.merge(train_img_df, train_df, on='id')\n",
    "test_df_with_img = pd.merge(test_img_df, test_df, on='id')"
   ]
  },
  {
   "cell_type": "code",
   "execution_count": 383,
   "metadata": {},
   "outputs": [],
   "source": [
    "kernel_size = (3, 3)\n",
    "stride_size = (1, 1)\n",
    "filters = [4, 8, 16]\n",
    "\n",
    "cnn_model = Sequential()\n",
    "cnn_model.add(Input(shape=(48, 48, 3)))\n",
    "for f in filters:\n",
    "    cnn_model.add(Conv2D(f, kernel_size, strides=stride_size, activation='relu'))\n",
    "    cnn_model.add(Dropout(0.1))\n",
    "    cnn_model.add(Conv2D(f, kernel_size, strides=stride_size, activation='relu'))\n",
    "    cnn_model.add(BatchNormalization(axis = -1))\n",
    "    cnn_model.add(MaxPooling2D(pool_size=(2, 2)))\n",
    "\n",
    "cnn_model.add(Flatten())\n",
    "cnn_model.add(Dense(100, activation='relu'))\n",
    "cnn_model.add(Dropout(0.3))\n",
    "cnn_model.add(Dense(100, activation='relu'))\n",
    "cnn_model.add(Dropout(0.3))\n",
    "cnn_model.add(Dense(100, activation='relu'))\n",
    "cnn_model.add(Dense(6, activation='softmax'))\n",
    "# configure the model\n",
    "cnn_model.compile(optimizer='adam',\n",
    "                    loss='sparse_categorical_crossentropy',\n",
    "                    metrics=['accuracy'])"
   ]
  },
  {
   "cell_type": "code",
   "execution_count": 431,
   "metadata": {},
   "outputs": [],
   "source": [
    "kernel_size = (3, 3)\n",
    "stride_size = (1, 1)\n",
    "filters = [4, 10, 24]\n",
    "\n",
    "cnn_model = Sequential()\n",
    "cnn_model.add(Input(shape=(48, 48, 3)))\n",
    "for f in filters:\n",
    "    cnn_model.add(Conv2D(f, kernel_size, strides=stride_size, activation='relu', kernel_regularizer=l2(0.01), bias_regularizer=l2(0.01)))\n",
    "    cnn_model.add(Conv2D(f, kernel_size, strides=stride_size, activation='relu', kernel_regularizer=l2(0.01), bias_regularizer=l2(0.01)))\n",
    "    cnn_model.add(BatchNormalization(axis = -1))\n",
    "    cnn_model.add(MaxPooling2D(pool_size=(2, 2)))\n",
    "\n",
    "cnn_model.add(Flatten())\n",
    "cnn_model.add(Dense(100, activation='relu'))\n",
    "cnn_model.add(Dropout(0.1))\n",
    "\n",
    "cnn_model.add(Dense(100, activation='relu'))\n",
    "cnn_model.add(Dropout(0.1))\n",
    "cnn_model.add(Dense(100, activation='relu'))\n",
    "\n",
    "cnn_model.add(Dense(6, activation='softmax'))\n",
    "# configure the model\n",
    "cnn_model.compile(optimizer='adam',\n",
    "                    loss='sparse_categorical_crossentropy',\n",
    "                    metrics=['accuracy'])"
   ]
  },
  {
   "cell_type": "code",
   "execution_count": 432,
   "metadata": {},
   "outputs": [],
   "source": [
    "x_train, x_val, y_train, y_val = train_test_split(np.array(train_img) / 255.0, train_df_with_img['account_type_multi'], test_size=0.15)"
   ]
  },
  {
   "cell_type": "code",
   "execution_count": 433,
   "metadata": {},
   "outputs": [
    {
     "name": "stdout",
     "output_type": "stream",
     "text": [
      "Epoch 1/100\n",
      "401/401 [==============================] - 17s 38ms/step - loss: 1.7331 - accuracy: 0.4354 - val_loss: 1.8124 - val_accuracy: 0.3880\n",
      "Epoch 2/100\n",
      "401/401 [==============================] - 14s 35ms/step - loss: 1.5007 - accuracy: 0.4770 - val_loss: 1.4975 - val_accuracy: 0.4353\n",
      "Epoch 3/100\n",
      "401/401 [==============================] - 14s 36ms/step - loss: 1.3867 - accuracy: 0.4957 - val_loss: 1.3613 - val_accuracy: 0.4890\n",
      "Epoch 4/100\n",
      "401/401 [==============================] - 14s 36ms/step - loss: 1.3133 - accuracy: 0.4987 - val_loss: 1.3241 - val_accuracy: 0.4905\n",
      "Epoch 5/100\n",
      "401/401 [==============================] - 14s 35ms/step - loss: 1.2707 - accuracy: 0.5154 - val_loss: 1.2847 - val_accuracy: 0.4883\n",
      "Epoch 6/100\n",
      "401/401 [==============================] - 14s 36ms/step - loss: 1.2424 - accuracy: 0.5188 - val_loss: 1.2548 - val_accuracy: 0.5088\n",
      "Epoch 7/100\n",
      "401/401 [==============================] - 14s 36ms/step - loss: 1.2212 - accuracy: 0.5279 - val_loss: 1.2828 - val_accuracy: 0.4488\n",
      "Epoch 8/100\n",
      "401/401 [==============================] - 14s 35ms/step - loss: 1.2001 - accuracy: 0.5346 - val_loss: 1.4448 - val_accuracy: 0.4078\n",
      "Epoch 9/100\n",
      "401/401 [==============================] - 14s 35ms/step - loss: 1.1866 - accuracy: 0.5364 - val_loss: 1.2377 - val_accuracy: 0.4898\n",
      "Epoch 10/100\n",
      "401/401 [==============================] - 14s 35ms/step - loss: 1.1793 - accuracy: 0.5411 - val_loss: 1.2753 - val_accuracy: 0.4848\n",
      "Epoch 11/100\n",
      "401/401 [==============================] - 14s 35ms/step - loss: 1.1614 - accuracy: 0.5429 - val_loss: 1.2598 - val_accuracy: 0.4742\n",
      "Epoch 12/100\n",
      "401/401 [==============================] - 14s 35ms/step - loss: 1.1459 - accuracy: 0.5607 - val_loss: 1.2861 - val_accuracy: 0.4862\n",
      "Epoch 13/100\n",
      "401/401 [==============================] - 14s 35ms/step - loss: 1.1459 - accuracy: 0.5566 - val_loss: 1.3325 - val_accuracy: 0.4332\n",
      "Epoch 14/100\n",
      "401/401 [==============================] - 14s 35ms/step - loss: 1.1342 - accuracy: 0.5691 - val_loss: 1.2330 - val_accuracy: 0.5166\n",
      "Epoch 15/100\n",
      "401/401 [==============================] - 14s 35ms/step - loss: 1.1194 - accuracy: 0.5797 - val_loss: 1.2363 - val_accuracy: 0.5095\n",
      "Epoch 16/100\n",
      "401/401 [==============================] - 14s 35ms/step - loss: 1.1121 - accuracy: 0.5774 - val_loss: 1.2344 - val_accuracy: 0.4989\n",
      "Epoch 17/100\n",
      "401/401 [==============================] - 14s 35ms/step - loss: 1.1119 - accuracy: 0.5774 - val_loss: 1.2458 - val_accuracy: 0.4975\n",
      "Epoch 18/100\n",
      "401/401 [==============================] - 14s 35ms/step - loss: 1.0896 - accuracy: 0.5939 - val_loss: 1.3051 - val_accuracy: 0.4643\n",
      "Epoch 19/100\n",
      "401/401 [==============================] - 14s 34ms/step - loss: 1.0983 - accuracy: 0.5857 - val_loss: 1.3260 - val_accuracy: 0.4799\n",
      "Epoch 20/100\n",
      "401/401 [==============================] - 14s 34ms/step - loss: 1.0795 - accuracy: 0.6062 - val_loss: 1.2950 - val_accuracy: 0.5011\n",
      "Epoch 21/100\n",
      "401/401 [==============================] - 14s 36ms/step - loss: 1.0704 - accuracy: 0.6029 - val_loss: 1.3045 - val_accuracy: 0.4975\n",
      "Epoch 22/100\n",
      "401/401 [==============================] - 16s 39ms/step - loss: 1.0701 - accuracy: 0.6055 - val_loss: 1.2420 - val_accuracy: 0.5322\n",
      "Epoch 23/100\n",
      "401/401 [==============================] - 15s 37ms/step - loss: 1.0488 - accuracy: 0.6205 - val_loss: 1.2347 - val_accuracy: 0.5371\n",
      "Epoch 24/100\n",
      "401/401 [==============================] - 15s 37ms/step - loss: 1.0627 - accuracy: 0.6180 - val_loss: 1.3592 - val_accuracy: 0.4975\n",
      "Epoch 25/100\n",
      "401/401 [==============================] - 16s 39ms/step - loss: 1.0360 - accuracy: 0.6293 - val_loss: 1.2786 - val_accuracy: 0.5293\n",
      "Epoch 26/100\n",
      "401/401 [==============================] - 17s 41ms/step - loss: 1.0178 - accuracy: 0.6353 - val_loss: 1.2800 - val_accuracy: 0.5293\n",
      "Epoch 27/100\n",
      "401/401 [==============================] - 16s 40ms/step - loss: 1.0052 - accuracy: 0.6478 - val_loss: 1.3054 - val_accuracy: 0.5223\n",
      "Epoch 28/100\n",
      "401/401 [==============================] - 17s 43ms/step - loss: 0.9979 - accuracy: 0.6445 - val_loss: 1.5256 - val_accuracy: 0.4989\n",
      "Epoch 29/100\n",
      "401/401 [==============================] - 15s 38ms/step - loss: 0.9975 - accuracy: 0.6505 - val_loss: 1.3173 - val_accuracy: 0.5166\n",
      "Epoch 30/100\n",
      "401/401 [==============================] - 16s 39ms/step - loss: 0.9842 - accuracy: 0.6580 - val_loss: 1.3415 - val_accuracy: 0.5088\n",
      "Epoch 31/100\n",
      "401/401 [==============================] - 15s 37ms/step - loss: 0.9712 - accuracy: 0.6685 - val_loss: 1.4797 - val_accuracy: 0.5265\n",
      "Epoch 32/100\n",
      "401/401 [==============================] - 15s 37ms/step - loss: 0.9505 - accuracy: 0.6711 - val_loss: 1.3227 - val_accuracy: 0.5336\n",
      "Epoch 33/100\n",
      "401/401 [==============================] - 14s 36ms/step - loss: 0.9536 - accuracy: 0.6759 - val_loss: 1.3770 - val_accuracy: 0.5265\n",
      "Epoch 34/100\n",
      "401/401 [==============================] - 15s 37ms/step - loss: 0.9324 - accuracy: 0.6825 - val_loss: 1.3860 - val_accuracy: 0.5145\n",
      "Epoch 35/100\n",
      "401/401 [==============================] - 14s 35ms/step - loss: 0.9163 - accuracy: 0.6967 - val_loss: 1.4192 - val_accuracy: 0.5463\n",
      "Epoch 36/100\n",
      "401/401 [==============================] - 14s 35ms/step - loss: 0.9065 - accuracy: 0.7001 - val_loss: 1.4519 - val_accuracy: 0.5314\n",
      "Epoch 37/100\n",
      "401/401 [==============================] - 14s 35ms/step - loss: 0.9144 - accuracy: 0.6967 - val_loss: 1.4608 - val_accuracy: 0.5314\n",
      "Epoch 38/100\n",
      "401/401 [==============================] - 15s 38ms/step - loss: 0.8919 - accuracy: 0.7104 - val_loss: 1.3783 - val_accuracy: 0.5463\n",
      "Epoch 39/100\n",
      "401/401 [==============================] - 16s 39ms/step - loss: 0.8854 - accuracy: 0.7168 - val_loss: 1.4634 - val_accuracy: 0.5251\n",
      "Epoch 40/100\n",
      "401/401 [==============================] - 14s 36ms/step - loss: 0.8953 - accuracy: 0.7103 - val_loss: 1.4096 - val_accuracy: 0.5399\n",
      "Epoch 41/100\n",
      "401/401 [==============================] - 14s 35ms/step - loss: 0.8502 - accuracy: 0.7315 - val_loss: 1.4791 - val_accuracy: 0.5329\n",
      "Epoch 42/100\n",
      "401/401 [==============================] - 14s 34ms/step - loss: 0.8683 - accuracy: 0.7249 - val_loss: 1.4815 - val_accuracy: 0.5307\n",
      "Epoch 43/100\n",
      "401/401 [==============================] - 14s 36ms/step - loss: 0.8561 - accuracy: 0.7324 - val_loss: 1.4587 - val_accuracy: 0.5420\n",
      "Epoch 44/100\n",
      "401/401 [==============================] - 18s 45ms/step - loss: 0.8459 - accuracy: 0.7397 - val_loss: 1.5132 - val_accuracy: 0.5300\n",
      "Epoch 45/100\n",
      "401/401 [==============================] - 15s 37ms/step - loss: 0.8461 - accuracy: 0.7367 - val_loss: 1.5220 - val_accuracy: 0.5343\n",
      "Epoch 46/100\n",
      "401/401 [==============================] - 14s 35ms/step - loss: 0.8486 - accuracy: 0.7405 - val_loss: 1.4241 - val_accuracy: 0.5498\n",
      "Epoch 47/100\n",
      "401/401 [==============================] - 14s 36ms/step - loss: 0.8190 - accuracy: 0.7470 - val_loss: 1.6051 - val_accuracy: 0.5201\n",
      "Epoch 48/100\n",
      "401/401 [==============================] - 15s 37ms/step - loss: 0.8144 - accuracy: 0.7538 - val_loss: 1.5669 - val_accuracy: 0.5159\n",
      "Epoch 49/100\n",
      "401/401 [==============================] - 14s 35ms/step - loss: 0.8163 - accuracy: 0.7508 - val_loss: 1.4834 - val_accuracy: 0.5293\n",
      "Epoch 50/100\n",
      "401/401 [==============================] - 14s 35ms/step - loss: 0.7932 - accuracy: 0.7659 - val_loss: 1.5493 - val_accuracy: 0.5322\n",
      "Epoch 51/100\n",
      "401/401 [==============================] - 14s 34ms/step - loss: 0.8041 - accuracy: 0.7626 - val_loss: 1.4918 - val_accuracy: 0.5272\n",
      "Epoch 52/100\n",
      "401/401 [==============================] - 14s 36ms/step - loss: 0.8007 - accuracy: 0.7623 - val_loss: 1.5731 - val_accuracy: 0.5293\n",
      "Epoch 53/100\n",
      "401/401 [==============================] - 16s 39ms/step - loss: 0.7859 - accuracy: 0.7734 - val_loss: 1.6062 - val_accuracy: 0.5470\n",
      "Epoch 54/100\n",
      "401/401 [==============================] - 15s 38ms/step - loss: 0.7833 - accuracy: 0.7658 - val_loss: 1.6941 - val_accuracy: 0.5314\n",
      "Epoch 55/100\n",
      "401/401 [==============================] - 15s 38ms/step - loss: 0.7868 - accuracy: 0.7734 - val_loss: 1.7301 - val_accuracy: 0.5329\n",
      "Epoch 56/100\n",
      "401/401 [==============================] - 15s 37ms/step - loss: 0.7812 - accuracy: 0.7760 - val_loss: 1.6373 - val_accuracy: 0.5300\n",
      "Epoch 57/100\n",
      "401/401 [==============================] - 15s 38ms/step - loss: 0.7838 - accuracy: 0.7797 - val_loss: 1.6616 - val_accuracy: 0.5180\n",
      "Epoch 58/100\n",
      "401/401 [==============================] - 16s 40ms/step - loss: 0.7741 - accuracy: 0.7837 - val_loss: 1.6247 - val_accuracy: 0.5216\n",
      "Epoch 59/100\n",
      "401/401 [==============================] - 16s 40ms/step - loss: 0.7595 - accuracy: 0.7868 - val_loss: 1.9254 - val_accuracy: 0.4876\n",
      "Epoch 60/100\n",
      "401/401 [==============================] - 15s 37ms/step - loss: 0.7577 - accuracy: 0.7853 - val_loss: 1.6997 - val_accuracy: 0.5032\n",
      "Epoch 61/100\n",
      "401/401 [==============================] - 19s 48ms/step - loss: 0.7442 - accuracy: 0.7938 - val_loss: 1.6526 - val_accuracy: 0.5343\n"
     ]
    }
   ],
   "source": [
    "es_callback = keras.callbacks.EarlyStopping(monitor='val_accuracy', patience=15)\n",
    "history = cnn_model.fit(x_train, y_train, epochs=100, batch_size=20, validation_data=(x_val, y_val), callbacks = es_callback)"
   ]
  },
  {
   "cell_type": "code",
   "execution_count": 434,
   "metadata": {},
   "outputs": [
    {
     "name": "stdout",
     "output_type": "stream",
     "text": [
      "Train loss: 0.653897225856781 / Train accuracy: 0.8326886892318726\n"
     ]
    }
   ],
   "source": [
    "score = cnn_model.evaluate(x_train, y_train, verbose=0)\n",
    "print(f'Train loss: {score[0]} / Train accuracy: {score[1]}')"
   ]
  },
  {
   "cell_type": "code",
   "execution_count": 435,
   "metadata": {},
   "outputs": [
    {
     "name": "stdout",
     "output_type": "stream",
     "text": [
      "Test loss: 1.6942102909088135 / Test accuracy: 0.5391095280647278\n"
     ]
    }
   ],
   "source": [
    "score = cnn_model.evaluate(np.array(test_img) / 255.0, test_df_with_img['account_type_multi'], verbose=0)\n",
    "print(f'Test loss: {score[0]} / Test accuracy: {score[1]}')"
   ]
  },
  {
   "cell_type": "markdown",
   "metadata": {},
   "source": [
    "## ANN + CNN\n",
    "train a neural network that combines categorical/numerical attributes with images"
   ]
  },
  {
   "cell_type": "code",
   "execution_count": 90,
   "metadata": {},
   "outputs": [],
   "source": [
    "x_train, y_train = train_df_with_img2.drop(to_drop, axis=1), train_df_with_img2['account_type_multi']\n",
    "x_test, y_test = test_df_with_img2.drop(to_drop, axis=1), test_df_with_img2['account_type_multi']"
   ]
  },
  {
   "cell_type": "code",
   "execution_count": 91,
   "metadata": {},
   "outputs": [],
   "source": [
    "x_train, x_val, y_train, y_val = train_test_split(x_train, y_train, test_size=0.15)"
   ]
  },
  {
   "cell_type": "code",
   "execution_count": 114,
   "metadata": {},
   "outputs": [],
   "source": [
    "x_train_img, x_train_attr = np.stack(x_train['img']) / 255.0, x_train.drop('img', axis=1)\n",
    "x_val_img, x_val_attr = np.stack(x_val['img']) / 255.0, x_val.drop('img', axis=1)\n",
    "x_test_img, x_test_attr = np.stack(x_test['img']) / 255.0, x_test.drop('img', axis=1)"
   ]
  },
  {
   "cell_type": "code",
   "execution_count": 119,
   "metadata": {},
   "outputs": [],
   "source": [
    "def create_ann():\n",
    "    ann_model = Sequential()\n",
    "    ann_model.add(Dense(100, activation = 'relu', input_dim = 220))\n",
    "    ann_model.add(Dense(100, activation='relu')) \n",
    "    ann_model.add(Dense(100, activation='relu')) \n",
    "    ann_model.add(Dense(100, activation='relu')) \n",
    "    ann_model.add(Dense(100, activation='relu')) \n",
    "    ann_model.add(Dense(100, activation='relu'))\n",
    "    ann_model.add(Dense(50, activation='relu')) \n",
    "    return ann_model"
   ]
  },
  {
   "cell_type": "code",
   "execution_count": 118,
   "metadata": {},
   "outputs": [],
   "source": [
    "def create_cnn():    \n",
    "    base_model = InceptionV3(input_shape = (75, 75, 3), include_top = False, weights = 'imagenet')\n",
    "\n",
    "    for layer in base_model.layers:\n",
    "        layer.trainable = False\n",
    "    x = Flatten()(base_model.output)\n",
    "    x = Dense(70, activation='relu')(x)\n",
    "    x = Dropout(0.5)(x)\n",
    "    x = Dense(50, activation='softmax')(x)\n",
    "    cnn_model = Model(base_model.input, x)\n",
    "    return cnn_model"
   ]
  },
  {
   "cell_type": "code",
   "execution_count": 126,
   "metadata": {},
   "outputs": [],
   "source": [
    "ann_model = create_ann()\n",
    "cnn_model = create_cnn()\n",
    "combined_input = concatenate([ann_model.output, cnn_model.output])\n",
    "x = Dense(50, activation=\"relu\")(combined_input)\n",
    "x = Dense(6, activation=\"softmax\")(x)\n",
    "combined_model = Model(inputs=[ann_model.input, cnn_model.input], outputs=x)\n",
    "combined_model.compile(optimizer='adam',\n",
    "                    loss='sparse_categorical_crossentropy',\n",
    "                    metrics=['accuracy'])"
   ]
  },
  {
   "cell_type": "code",
   "execution_count": 127,
   "metadata": {},
   "outputs": [
    {
     "name": "stdout",
     "output_type": "stream",
     "text": [
      "Epoch 1/100\n",
      "401/401 [==============================] - 43s 92ms/step - loss: 0.4707 - accuracy: 0.8500 - val_loss: 0.1949 - val_accuracy: 0.9286\n",
      "Epoch 2/100\n",
      "401/401 [==============================] - 34s 85ms/step - loss: 0.1951 - accuracy: 0.9410 - val_loss: 0.1779 - val_accuracy: 0.9477\n",
      "Epoch 3/100\n",
      "401/401 [==============================] - 35s 87ms/step - loss: 0.1668 - accuracy: 0.9541 - val_loss: 0.2211 - val_accuracy: 0.9562\n",
      "Epoch 4/100\n",
      "401/401 [==============================] - 35s 86ms/step - loss: 0.1268 - accuracy: 0.9667 - val_loss: 0.0923 - val_accuracy: 0.9731\n",
      "Epoch 5/100\n",
      "401/401 [==============================] - 39s 96ms/step - loss: 0.0905 - accuracy: 0.9752 - val_loss: 0.1274 - val_accuracy: 0.9604\n",
      "Epoch 6/100\n",
      "401/401 [==============================] - 37s 92ms/step - loss: 0.0734 - accuracy: 0.9790 - val_loss: 0.1175 - val_accuracy: 0.9647\n",
      "Epoch 7/100\n",
      "401/401 [==============================] - 41s 102ms/step - loss: 0.0739 - accuracy: 0.9814 - val_loss: 0.0946 - val_accuracy: 0.9746\n",
      "Epoch 8/100\n",
      "401/401 [==============================] - 42s 105ms/step - loss: 0.0709 - accuracy: 0.9813 - val_loss: 0.0846 - val_accuracy: 0.9767\n",
      "Epoch 9/100\n",
      "401/401 [==============================] - 39s 97ms/step - loss: 0.0676 - accuracy: 0.9818 - val_loss: 0.0840 - val_accuracy: 0.9774\n",
      "Epoch 10/100\n",
      "401/401 [==============================] - 33s 83ms/step - loss: 0.0559 - accuracy: 0.9847 - val_loss: 0.0639 - val_accuracy: 0.9802\n",
      "Epoch 11/100\n",
      "401/401 [==============================] - 33s 82ms/step - loss: 0.0516 - accuracy: 0.9860 - val_loss: 0.1332 - val_accuracy: 0.9640\n",
      "Epoch 12/100\n",
      "401/401 [==============================] - 33s 83ms/step - loss: 0.0560 - accuracy: 0.9834 - val_loss: 0.0721 - val_accuracy: 0.9830\n",
      "Epoch 13/100\n",
      "401/401 [==============================] - 33s 83ms/step - loss: 0.0531 - accuracy: 0.9860 - val_loss: 0.1364 - val_accuracy: 0.9703\n",
      "Epoch 14/100\n",
      "401/401 [==============================] - 33s 82ms/step - loss: 0.0457 - accuracy: 0.9883 - val_loss: 0.0836 - val_accuracy: 0.9781\n",
      "Epoch 15/100\n",
      "401/401 [==============================] - 34s 84ms/step - loss: 0.0647 - accuracy: 0.9833 - val_loss: 0.1019 - val_accuracy: 0.9710\n",
      "Epoch 16/100\n",
      "401/401 [==============================] - 33s 82ms/step - loss: 0.0781 - accuracy: 0.9748 - val_loss: 0.1716 - val_accuracy: 0.9767\n",
      "Epoch 17/100\n",
      "401/401 [==============================] - 35s 87ms/step - loss: 0.0755 - accuracy: 0.9817 - val_loss: 0.1333 - val_accuracy: 0.9534\n",
      "Epoch 18/100\n",
      "401/401 [==============================] - 34s 86ms/step - loss: 0.0589 - accuracy: 0.9844 - val_loss: 0.0737 - val_accuracy: 0.9816\n",
      "Epoch 19/100\n",
      "401/401 [==============================] - 33s 84ms/step - loss: 0.0493 - accuracy: 0.9869 - val_loss: 0.0924 - val_accuracy: 0.9760\n",
      "Epoch 20/100\n",
      "401/401 [==============================] - 33s 82ms/step - loss: 0.0376 - accuracy: 0.9906 - val_loss: 0.1196 - val_accuracy: 0.9739\n",
      "Epoch 21/100\n",
      "401/401 [==============================] - 33s 83ms/step - loss: 0.0399 - accuracy: 0.9881 - val_loss: 0.1058 - val_accuracy: 0.9788\n",
      "Epoch 22/100\n",
      "401/401 [==============================] - 33s 83ms/step - loss: 0.0422 - accuracy: 0.9890 - val_loss: 0.0738 - val_accuracy: 0.9823\n",
      "Epoch 23/100\n",
      "401/401 [==============================] - 33s 83ms/step - loss: 0.0460 - accuracy: 0.9869 - val_loss: 0.1313 - val_accuracy: 0.9696\n",
      "Epoch 24/100\n",
      "401/401 [==============================] - 34s 85ms/step - loss: 0.0341 - accuracy: 0.9908 - val_loss: 0.0785 - val_accuracy: 0.9774\n",
      "Epoch 25/100\n",
      "401/401 [==============================] - 38s 95ms/step - loss: 0.0375 - accuracy: 0.9896 - val_loss: 0.0776 - val_accuracy: 0.9809\n",
      "Epoch 26/100\n",
      "401/401 [==============================] - 36s 89ms/step - loss: 0.0355 - accuracy: 0.9908 - val_loss: 0.1217 - val_accuracy: 0.9753\n",
      "Epoch 27/100\n",
      "401/401 [==============================] - 35s 88ms/step - loss: 0.0401 - accuracy: 0.9879 - val_loss: 0.1700 - val_accuracy: 0.9569\n"
     ]
    },
    {
     "data": {
      "text/plain": [
       "<keras.callbacks.History at 0x7fcf2ac701c0>"
      ]
     },
     "execution_count": 127,
     "metadata": {},
     "output_type": "execute_result"
    }
   ],
   "source": [
    "es_callback = keras.callbacks.EarlyStopping(monitor='val_accuracy', patience=15)\n",
    "combined_model.fit(\n",
    "\tx=[x_train_attr, x_train_img], y=y_train,\n",
    "\tvalidation_data=([x_val_attr, x_val_img], y_val),\n",
    "\tepochs=100, batch_size=20, callbacks=es_callback)"
   ]
  },
  {
   "cell_type": "code",
   "execution_count": 128,
   "metadata": {},
   "outputs": [
    {
     "name": "stdout",
     "output_type": "stream",
     "text": [
      "Train loss: 0.09133722633123398 / Train accuracy: 0.9699313640594482\n"
     ]
    }
   ],
   "source": [
    "score = combined_model.evaluate([x_train_attr, x_train_img], y_train, verbose=0)\n",
    "print(f'Train loss: {score[0]} / Train accuracy: {score[1]}')"
   ]
  },
  {
   "cell_type": "code",
   "execution_count": 132,
   "metadata": {},
   "outputs": [
    {
     "name": "stdout",
     "output_type": "stream",
     "text": [
      "Test loss: 0.22793838381767273 / Test accuracy: 0.9584837555885315\n"
     ]
    }
   ],
   "source": [
    "score = combined_model.evaluate([x_test_attr, x_test_img], y_test, verbose=0)\n",
    "print(f'Test loss: {score[0]} / Test accuracy: {score[1]}')"
   ]
  },
  {
   "cell_type": "code",
   "execution_count": 133,
   "metadata": {},
   "outputs": [
    {
     "name": "stdout",
     "output_type": "stream",
     "text": [
      "52/52 [==============================] - 8s 114ms/step\n"
     ]
    }
   ],
   "source": [
    "pred = combined_model.predict([x_test_attr, x_test_img])\n",
    "pred = np.argmax(pred,axis=1)"
   ]
  },
  {
   "cell_type": "code",
   "execution_count": 134,
   "metadata": {},
   "outputs": [
    {
     "name": "stdout",
     "output_type": "stream",
     "text": [
      "              precision    recall  f1-score   support\n",
      "\n",
      "           0    0.89955   0.97816   0.93721       412\n",
      "           1    0.96025   0.99783   0.97868       460\n",
      "           2    0.96078   0.87500   0.91589        56\n",
      "           3    0.99542   0.97898   0.98713       666\n",
      "           4    1.00000   0.27451   0.43077        51\n",
      "           5    1.00000   0.94118   0.96970        17\n",
      "\n",
      "    accuracy                        0.95848      1662\n",
      "   macro avg    0.96933   0.84094   0.86990      1662\n",
      "weighted avg    0.96094   0.95848   0.95276      1662\n",
      "\n"
     ]
    }
   ],
   "source": [
    "print(classification_report(y_test, pred, digits=5))"
   ]
  },
  {
   "cell_type": "code",
   "execution_count": null,
   "metadata": {},
   "outputs": [],
   "source": []
  }
 ],
 "metadata": {
  "kernelspec": {
   "display_name": "Python 3.9.12 ('base')",
   "language": "python",
   "name": "python3"
  },
  "language_info": {
   "codemirror_mode": {
    "name": "ipython",
    "version": 3
   },
   "file_extension": ".py",
   "mimetype": "text/x-python",
   "name": "python",
   "nbconvert_exporter": "python",
   "pygments_lexer": "ipython3",
   "version": "3.9.12"
  },
  "orig_nbformat": 2,
  "vscode": {
   "interpreter": {
    "hash": "77238a471535228e8cd55a3ca9e771a69c6c0bc66c44a56c972f9554a4042742"
   }
  }
 },
 "nbformat": 4,
 "nbformat_minor": 2
}
