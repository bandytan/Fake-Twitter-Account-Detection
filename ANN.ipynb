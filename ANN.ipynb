{
 "cells": [
  {
   "cell_type": "code",
   "execution_count": 1,
   "metadata": {},
   "outputs": [
    {
     "output_type": "stream",
     "name": "stderr",
     "text": [
      "2022-11-15 21:54:07.934330: I tensorflow/core/platform/cpu_feature_guard.cc:193] This TensorFlow binary is optimized with oneAPI Deep Neural Network Library (oneDNN) to use the following CPU instructions in performance-critical operations:  AVX2 FMA\nTo enable them in other operations, rebuild TensorFlow with the appropriate compiler flags.\n"
     ]
    }
   ],
   "source": [
    "import pandas as pd, numpy as np\n",
    "from keras.models import Sequential\n",
    "from keras.layers import Flatten, Dense, Dropout\n",
    "from sklearn.metrics import roc_auc_score, accuracy_score, classification_report, roc_curve, f1_score\n",
    "from sklearn.preprocessing import MinMaxScaler\n",
    "from sklearn.model_selection import train_test_split\n",
    "import time\n"
   ]
  },
  {
   "cell_type": "code",
   "execution_count": 2,
   "metadata": {},
   "outputs": [
    {
     "output_type": "stream",
     "name": "stdout",
     "text": [
      "(9446, 238)\n(1667, 238)\n"
     ]
    }
   ],
   "source": [
    "train_df = pd.read_csv(\"data/twitter_data_train_multiclass.csv\")\n",
    "test_df = pd.read_csv(\"data/twitter_data_test_multiclass.csv\")\n",
    "\n",
    "print(train_df.shape)\n",
    "print(test_df.shape)"
   ]
  },
  {
   "cell_type": "code",
   "execution_count": 3,
   "metadata": {},
   "outputs": [],
   "source": [
    "to_drop = [\n",
    "    'Unnamed: 0',\n",
    "    'account_type', \n",
    "    'account_type_multi',\n",
    "    'id', \n",
    "    'name', \n",
    "    'screen_name',\n",
    "    'profile_image_url',\n",
    "    'protected',\n",
    "    'verified',\n",
    "    'description',\n",
    "    'description_processed',\n",
    "    'tweets_list',\n",
    "    'tweets_list_processed',\n",
    "    'url',\n",
    "    'profile_use_background_image', \n",
    "    'profile_background_tile'\n",
    "    ]\n",
    "\n",
    "scaler = MinMaxScaler() \n",
    "train_df[['statuses_count', 'favourites_count', 'followers_count', 'friends_count', 'number_of_mentions', 'listed_count', 'number_of_tags']] = scaler.fit_transform(train_df[['statuses_count', 'favourites_count', 'followers_count', 'friends_count', 'number_of_mentions', 'listed_count', 'number_of_tags']])\n",
    "test_df[['statuses_count', 'favourites_count', 'followers_count', 'friends_count', 'number_of_mentions', 'listed_count', 'number_of_tags']] = scaler.transform(test_df[['statuses_count', 'favourites_count', 'followers_count', 'friends_count', 'number_of_mentions', 'listed_count', 'number_of_tags']])\n",
    "\n",
    "X_train, y_train = train_df.drop(to_drop, axis=1), train_df['account_type_multi']\n",
    "X_test, y_test = test_df.drop(to_drop, axis=1), test_df['account_type_multi']\n",
    "\n",
    "# validation split\n",
    "X_train, X_val, y_train, y_val = train_test_split(X_train, y_train, test_size=0.15)"
   ]
  },
  {
   "cell_type": "code",
   "execution_count": 4,
   "metadata": {},
   "outputs": [],
   "source": [
    "from keras.utils import to_categorical\n",
    "y_train_cat = to_categorical(y_train)\n",
    "y_val_cat = to_categorical(y_val)\n",
    "y_test_cat  = to_categorical(y_test)"
   ]
  },
  {
   "cell_type": "code",
   "execution_count": 11,
   "metadata": {},
   "outputs": [
    {
     "output_type": "stream",
     "name": "stdout",
     "text": [
      "Model: \"sequential_3\"\n",
      "_________________________________________________________________\n",
      " Layer (type)                Output Shape              Param #   \n",
      "=================================================================\n",
      " dense_9 (Dense)             (None, 64)                14272     \n",
      "                                                                 \n",
      " dropout_3 (Dropout)         (None, 64)                0         \n",
      "                                                                 \n",
      " dense_10 (Dense)            (None, 128)               8320      \n",
      "                                                                 \n",
      " dense_11 (Dense)            (None, 4)                 516       \n",
      "                                                                 \n",
      "=================================================================\n",
      "Total params: 23,108\n",
      "Trainable params: 23,108\n",
      "Non-trainable params: 0\n",
      "_________________________________________________________________\n",
      "Epoch 1/20\n",
      "251/251 [==============================] - 1s 3ms/step - loss: 0.5005 - acc: 0.8353 - val_loss: 0.2180 - val_acc: 0.9224\n",
      "Epoch 2/20\n",
      "251/251 [==============================] - 0s 2ms/step - loss: 0.2118 - acc: 0.9397 - val_loss: 0.1090 - val_acc: 0.9605\n",
      "Epoch 3/20\n",
      "251/251 [==============================] - 0s 2ms/step - loss: 0.1441 - acc: 0.9615 - val_loss: 0.1453 - val_acc: 0.9640\n",
      "Epoch 4/20\n",
      "251/251 [==============================] - 0s 2ms/step - loss: 0.1212 - acc: 0.9689 - val_loss: 0.0955 - val_acc: 0.9718\n",
      "Epoch 5/20\n",
      "251/251 [==============================] - 0s 2ms/step - loss: 0.0977 - acc: 0.9743 - val_loss: 0.0771 - val_acc: 0.9753\n",
      "Epoch 6/20\n",
      "251/251 [==============================] - 0s 2ms/step - loss: 0.0860 - acc: 0.9778 - val_loss: 0.0773 - val_acc: 0.9781\n",
      "Epoch 7/20\n",
      "251/251 [==============================] - 0s 1ms/step - loss: 0.0742 - acc: 0.9807 - val_loss: 0.0859 - val_acc: 0.9781\n",
      "Epoch 8/20\n",
      "251/251 [==============================] - 0s 2ms/step - loss: 0.0623 - acc: 0.9827 - val_loss: 0.0912 - val_acc: 0.9774\n",
      "Epoch 9/20\n",
      "251/251 [==============================] - 0s 1ms/step - loss: 0.0775 - acc: 0.9809 - val_loss: 0.0856 - val_acc: 0.9781\n",
      "Epoch 10/20\n",
      "251/251 [==============================] - 0s 1ms/step - loss: 0.0752 - acc: 0.9826 - val_loss: 0.0753 - val_acc: 0.9746\n",
      "Epoch 11/20\n",
      "251/251 [==============================] - 0s 2ms/step - loss: 0.0595 - acc: 0.9838 - val_loss: 0.0821 - val_acc: 0.9753\n",
      "Epoch 12/20\n",
      "251/251 [==============================] - 0s 1ms/step - loss: 0.0623 - acc: 0.9843 - val_loss: 0.0904 - val_acc: 0.9767\n",
      "Epoch 13/20\n",
      "251/251 [==============================] - 0s 2ms/step - loss: 0.0564 - acc: 0.9858 - val_loss: 0.1003 - val_acc: 0.9711\n",
      "Epoch 14/20\n",
      "251/251 [==============================] - 0s 2ms/step - loss: 0.0576 - acc: 0.9857 - val_loss: 0.0750 - val_acc: 0.9795\n",
      "Epoch 15/20\n",
      "251/251 [==============================] - 0s 1ms/step - loss: 0.0469 - acc: 0.9863 - val_loss: 0.0908 - val_acc: 0.9711\n",
      "Epoch 16/20\n",
      "251/251 [==============================] - 0s 2ms/step - loss: 0.0460 - acc: 0.9864 - val_loss: 0.1000 - val_acc: 0.9767\n",
      "Epoch 17/20\n",
      "251/251 [==============================] - 0s 1ms/step - loss: 0.0453 - acc: 0.9883 - val_loss: 0.1114 - val_acc: 0.9753\n",
      "Epoch 18/20\n",
      "251/251 [==============================] - 0s 1ms/step - loss: 0.0404 - acc: 0.9883 - val_loss: 0.0946 - val_acc: 0.9760\n",
      "Epoch 19/20\n",
      "251/251 [==============================] - 0s 2ms/step - loss: 0.0438 - acc: 0.9897 - val_loss: 0.0768 - val_acc: 0.9781\n",
      "Epoch 20/20\n",
      "251/251 [==============================] - 0s 2ms/step - loss: 0.0422 - acc: 0.9888 - val_loss: 0.1309 - val_acc: 0.9767\n",
      "Total time taken for the program execution 8.526926040649414\n"
     ]
    }
   ],
   "source": [
    "start_time = time.time()\n",
    "\n",
    "model = Sequential()\n",
    "model.add(Dense(64, activation = 'relu', input_dim = 222))\n",
    "model.add(Dropout(.1))\n",
    "model.add(Dense(128, activation='relu'))\n",
    "model.add(Dense(4, activation='softmax'))\n",
    "\n",
    "model.summary()\n",
    "\n",
    "model.compile(optimizer='adam',\n",
    "              loss='categorical_crossentropy',\n",
    "              metrics=['acc'])\n",
    "\n",
    "model.fit(X_train, y_train_cat, epochs=20, validation_data=(X_val, y_val_cat))\n",
    "\n",
    "time_taken = time.time() - start_time\n",
    "print(\"Total time taken for the program execution\", time_taken) # seconds\n"
   ]
  },
  {
   "cell_type": "markdown",
   "metadata": {},
   "source": [
    "Train"
   ]
  },
  {
   "cell_type": "code",
   "execution_count": 12,
   "metadata": {},
   "outputs": [
    {
     "output_type": "stream",
     "name": "stdout",
     "text": [
      "251/251 [==============================] - 0s 823us/step\n",
      "Total time taken for the program execution 0.39833712577819824\n",
      "              precision    recall  f1-score   support\n",
      "\n",
      "           0    0.97385   0.99747   0.98552      1979\n",
      "           1    0.99693   0.99085   0.99388      2295\n",
      "           2    0.99760   0.99127   0.99443      1260\n",
      "           3    1.00000   0.98958   0.99476      2495\n",
      "\n",
      "    accuracy                        0.99215      8029\n",
      "   macro avg    0.99210   0.99229   0.99215      8029\n",
      "weighted avg    0.99230   0.99215   0.99218      8029\n",
      "\n",
      "F1 weighted:  0.9921801299502511\n"
     ]
    }
   ],
   "source": [
    "best_clf = model\n",
    "\n",
    "start_time = time.time()\n",
    "\n",
    "y_pred_train = best_clf.predict(X_train)\n",
    "y_pred_train = np.argmax(y_pred_train,axis=1)\n",
    "\n",
    "time_taken = time.time() - start_time\n",
    "print(\"Total time taken for the program execution\", time_taken) # seconds\n",
    "print(classification_report(y_train, y_pred_train, digits=5))\n",
    "# roc_auc_score(y_test, y_pred_test)\n",
    "print(\"F1 weighted: \", f1_score(y_train, y_pred_train, average='weighted'))"
   ]
  },
  {
   "cell_type": "markdown",
   "metadata": {},
   "source": [
    "test"
   ]
  },
  {
   "cell_type": "code",
   "execution_count": 13,
   "metadata": {},
   "outputs": [
    {
     "output_type": "stream",
     "name": "stdout",
     "text": [
      "53/53 [==============================] - 0s 2ms/step\n",
      "Total time taken for the program execution 0.3230469226837158\n",
      "              precision    recall  f1-score   support\n",
      "\n",
      "           0    0.95047   0.97579   0.96296       413\n",
      "           1    0.98482   0.98696   0.98588       460\n",
      "           2    0.97112   0.97464   0.97288       276\n",
      "           3    0.99406   0.96911   0.98143       518\n",
      "\n",
      "    accuracy                        0.97660      1667\n",
      "   macro avg    0.97512   0.97662   0.97579      1667\n",
      "weighted avg    0.97691   0.97660   0.97667      1667\n",
      "\n",
      "F1 weighted:  0.9766668267991423\n"
     ]
    }
   ],
   "source": [
    "start_time = time.time()\n",
    "\n",
    "y_pred_test = best_clf.predict(X_test)\n",
    "y_pred_test = np.argmax(y_pred_test,axis=1)\n",
    "\n",
    "time_taken = time.time() - start_time\n",
    "print(\"Total time taken for the program execution\", time_taken) # seconds\n",
    "print(classification_report(y_test, y_pred_test, digits=5))\n",
    "# roc_auc_score(y_test, y_pred_test)\n",
    "print(\"F1 weighted: \", f1_score(y_test, y_pred_test, average='weighted'))"
   ]
  },
  {
   "cell_type": "code",
   "execution_count": null,
   "metadata": {},
   "outputs": [],
   "source": []
  }
 ],
 "metadata": {
  "kernelspec": {
   "display_name": "Python 3 (ipykernel)",
   "language": "python",
   "name": "python3"
  },
  "language_info": {
   "codemirror_mode": {
    "name": "ipython",
    "version": 3
   },
   "file_extension": ".py",
   "mimetype": "text/x-python",
   "name": "python",
   "nbconvert_exporter": "python",
   "pygments_lexer": "ipython3",
   "version": "3.8.5-final"
  },
  "orig_nbformat": 4,
  "vscode": {
   "interpreter": {
    "hash": "77238a471535228e8cd55a3ca9e771a69c6c0bc66c44a56c972f9554a4042742"
   }
  }
 },
 "nbformat": 4,
 "nbformat_minor": 2
}