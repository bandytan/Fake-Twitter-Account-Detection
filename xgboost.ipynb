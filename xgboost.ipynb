{
 "cells": [
  {
   "cell_type": "code",
   "execution_count": 1,
   "metadata": {},
   "outputs": [],
   "source": [
    "import numpy as np\n",
    "import pandas as pd\n",
    "import re\n",
    "import xgboost as xgb\n",
    "from sklearn.model_selection import train_test_split\n",
    "from sklearn.model_selection import RandomizedSearchCV, RepeatedStratifiedKFold\n",
    "from sklearn.metrics import roc_auc_score, recall_score, classification_report,confusion_matrix, f1_score\n",
    "import glob\n",
    "import os\n",
    "import matplotlib.pyplot as plt"
   ]
  },
  {
   "cell_type": "code",
   "execution_count": 2,
   "metadata": {},
   "outputs": [
    {
     "name": "stdout",
     "output_type": "stream",
     "text": [
      "(9445, 235)\n",
      "(1667, 235)\n"
     ]
    }
   ],
   "source": [
    "# train_path = max(glob.glob('./data/twitter_data_train/*.csv'), key=os.path.getctime) \n",
    "# test_path = max(glob.glob('./data/test/*.csv'), key=os.path.getctime) \n",
    "train_df = pd.read_csv('./data/twitter_data_train_multiclass.csv')\n",
    "test_df = pd.read_csv('./data/twitter_data_test_multiclass.csv')\n",
    "\n",
    "print(train_df.shape)\n",
    "print(test_df.shape)"
   ]
  },
  {
   "cell_type": "code",
   "execution_count": 3,
   "metadata": {},
   "outputs": [],
   "source": [
    "to_drop = ['screen_name', 'url', 'profile_image_url', 'description',\n",
    "           'id', 'name', 'account_type','account_type_multi', 'tweets_list', 'tweets_list_processed',\n",
    "          'description_processed', 'protected', 'verified']\n",
    "\n",
    "X_train, y_train = train_df.drop(to_drop, axis=1), train_df['account_type_multi']\n",
    "X_test, y_test = test_df.drop(to_drop, axis=1), test_df['account_type_multi']"
   ]
  },
  {
   "cell_type": "code",
   "execution_count": 4,
   "metadata": {},
   "outputs": [
    {
     "data": {
      "text/plain": [
       "Index(['Unnamed: 0', 'statuses_count', 'followers_count', 'friends_count',\n",
       "       'favourites_count', 'listed_count', 'default_profile',\n",
       "       'default_profile_image', 'geo_enabled', 'profile_use_background_image',\n",
       "       'profile_background_tile', 'tweet_frequency', 'number_of_tags',\n",
       "       'number_of_mentions', 'tweet_weekend_frequency',\n",
       "       'tweet_weekday_frequency', 'following_to_followers_ratio',\n",
       "       'username_length', 'screen_name_length', 'username_spec_char_count',\n",
       "       'screen_name_spec_char_count', 'has_url', 'tweets_0', 'tweets_1',\n",
       "       'tweets_2', 'tweets_3', 'tweets_4', 'tweets_5', 'tweets_6', 'tweets_7'],\n",
       "      dtype='object')"
      ]
     },
     "execution_count": 4,
     "metadata": {},
     "output_type": "execute_result"
    }
   ],
   "source": [
    "X_train.columns[:30]"
   ]
  },
  {
   "cell_type": "code",
   "execution_count": 5,
   "metadata": {},
   "outputs": [],
   "source": [
    "# Combine train and test data set tgt\n",
    "\n",
    "X = pd.concat([X_train, X_test])\n",
    "y = pd.concat([y_train, y_test])"
   ]
  },
  {
   "cell_type": "code",
   "execution_count": 6,
   "metadata": {},
   "outputs": [
    {
     "name": "stdout",
     "output_type": "stream",
     "text": [
      "(9445, 222)\n",
      "(9445,)\n",
      "(1667, 222)\n",
      "(1667,)\n"
     ]
    }
   ],
   "source": [
    "# Check if dataset is balanced\n",
    "print(X_train.shape)\n",
    "print(y_train.shape)\n",
    "print(X_test.shape)\n",
    "print(y_test.shape)"
   ]
  },
  {
   "cell_type": "code",
   "execution_count": 7,
   "metadata": {},
   "outputs": [
    {
     "data": {
      "text/plain": [
       "array([dtype('int64'), dtype('float64')], dtype=object)"
      ]
     },
     "execution_count": 7,
     "metadata": {},
     "output_type": "execute_result"
    }
   ],
   "source": [
    "# Make sure all data are of integer of float type\n",
    "X_train.dtypes.unique()"
   ]
  },
  {
   "cell_type": "code",
   "execution_count": 8,
   "metadata": {},
   "outputs": [
    {
     "name": "stderr",
     "output_type": "stream",
     "text": [
      "c:\\Users\\bandy\\AppData\\Local\\Programs\\Python\\Python310\\lib\\site-packages\\xgboost\\sklearn.py:793: UserWarning: `early_stopping_rounds` in `fit` method is deprecated for better compatibility with scikit-learn, use `early_stopping_rounds` in constructor or`set_params` instead.\n",
      "  warnings.warn(\n"
     ]
    },
    {
     "name": "stdout",
     "output_type": "stream",
     "text": [
      "[0]\tvalidation_0-mlogloss:1.03431\n",
      "[1]\tvalidation_0-mlogloss:0.72202\n",
      "[2]\tvalidation_0-mlogloss:0.53013\n",
      "[3]\tvalidation_0-mlogloss:0.39909\n",
      "[4]\tvalidation_0-mlogloss:0.30820\n",
      "[5]\tvalidation_0-mlogloss:0.24296\n",
      "[6]\tvalidation_0-mlogloss:0.19545\n",
      "[7]\tvalidation_0-mlogloss:0.16075\n",
      "[8]\tvalidation_0-mlogloss:0.13401\n",
      "[9]\tvalidation_0-mlogloss:0.11343\n",
      "[10]\tvalidation_0-mlogloss:0.09742\n",
      "[11]\tvalidation_0-mlogloss:0.08565\n",
      "[12]\tvalidation_0-mlogloss:0.07629\n",
      "[13]\tvalidation_0-mlogloss:0.06953\n",
      "[14]\tvalidation_0-mlogloss:0.06424\n",
      "[15]\tvalidation_0-mlogloss:0.06047\n",
      "[16]\tvalidation_0-mlogloss:0.05760\n",
      "[17]\tvalidation_0-mlogloss:0.05436\n",
      "[18]\tvalidation_0-mlogloss:0.05272\n",
      "[19]\tvalidation_0-mlogloss:0.05056\n",
      "[20]\tvalidation_0-mlogloss:0.04923\n",
      "[21]\tvalidation_0-mlogloss:0.04810\n",
      "[22]\tvalidation_0-mlogloss:0.04779\n",
      "[23]\tvalidation_0-mlogloss:0.04754\n",
      "[24]\tvalidation_0-mlogloss:0.04695\n",
      "[25]\tvalidation_0-mlogloss:0.04621\n",
      "[26]\tvalidation_0-mlogloss:0.04589\n",
      "[27]\tvalidation_0-mlogloss:0.04577\n",
      "[28]\tvalidation_0-mlogloss:0.04524\n",
      "[29]\tvalidation_0-mlogloss:0.04488\n",
      "[30]\tvalidation_0-mlogloss:0.04510\n",
      "[31]\tvalidation_0-mlogloss:0.04486\n",
      "[32]\tvalidation_0-mlogloss:0.04444\n",
      "[33]\tvalidation_0-mlogloss:0.04441\n",
      "[34]\tvalidation_0-mlogloss:0.04447\n",
      "[35]\tvalidation_0-mlogloss:0.04421\n",
      "[36]\tvalidation_0-mlogloss:0.04401\n",
      "[37]\tvalidation_0-mlogloss:0.04397\n",
      "[38]\tvalidation_0-mlogloss:0.04378\n",
      "[39]\tvalidation_0-mlogloss:0.04370\n",
      "[40]\tvalidation_0-mlogloss:0.04357\n",
      "[41]\tvalidation_0-mlogloss:0.04357\n",
      "[42]\tvalidation_0-mlogloss:0.04367\n",
      "[43]\tvalidation_0-mlogloss:0.04356\n",
      "[44]\tvalidation_0-mlogloss:0.04343\n",
      "[45]\tvalidation_0-mlogloss:0.04358\n",
      "[46]\tvalidation_0-mlogloss:0.04347\n",
      "[47]\tvalidation_0-mlogloss:0.04340\n",
      "[48]\tvalidation_0-mlogloss:0.04355\n",
      "[49]\tvalidation_0-mlogloss:0.04346\n",
      "[50]\tvalidation_0-mlogloss:0.04327\n",
      "[51]\tvalidation_0-mlogloss:0.04329\n",
      "[52]\tvalidation_0-mlogloss:0.04327\n",
      "[53]\tvalidation_0-mlogloss:0.04322\n",
      "[54]\tvalidation_0-mlogloss:0.04326\n",
      "[55]\tvalidation_0-mlogloss:0.04324\n",
      "[56]\tvalidation_0-mlogloss:0.04334\n",
      "[57]\tvalidation_0-mlogloss:0.04335\n",
      "[58]\tvalidation_0-mlogloss:0.04345\n",
      "[59]\tvalidation_0-mlogloss:0.04342\n",
      "[60]\tvalidation_0-mlogloss:0.04341\n",
      "[61]\tvalidation_0-mlogloss:0.04331\n",
      "[62]\tvalidation_0-mlogloss:0.04324\n",
      "[63]\tvalidation_0-mlogloss:0.04320\n",
      "[64]\tvalidation_0-mlogloss:0.04321\n",
      "[65]\tvalidation_0-mlogloss:0.04333\n",
      "[66]\tvalidation_0-mlogloss:0.04333\n",
      "[67]\tvalidation_0-mlogloss:0.04332\n",
      "[68]\tvalidation_0-mlogloss:0.04349\n",
      "[69]\tvalidation_0-mlogloss:0.04355\n",
      "[70]\tvalidation_0-mlogloss:0.04363\n",
      "[71]\tvalidation_0-mlogloss:0.04364\n",
      "[72]\tvalidation_0-mlogloss:0.04358\n"
     ]
    }
   ],
   "source": [
    "#Default model\n",
    "model_xgboost_default = xgb.XGBClassifier(objective='multi:softprob')\n",
    "\n",
    "model_xgboost_default.fit(X_train,\n",
    "                  y_train,\n",
    "                  early_stopping_rounds=10,\n",
    "                  eval_set=[(X_test, y_test)],\n",
    "                  verbose=True)\n",
    "\n",
    "xgb_train_default_predict = model_xgboost_default.predict(X_train)\n",
    "xgb_test_default_predict = model_xgboost_default.predict(X_test)\n"
   ]
  },
  {
   "cell_type": "code",
   "execution_count": 9,
   "metadata": {},
   "outputs": [
    {
     "name": "stdout",
     "output_type": "stream",
     "text": [
      "<bound method XGBModel.get_params of XGBClassifier(base_score=0.5, booster='gbtree', callbacks=None,\n",
      "              colsample_bylevel=1, colsample_bynode=1, colsample_bytree=1,\n",
      "              early_stopping_rounds=None, enable_categorical=False,\n",
      "              eval_metric=None, gamma=0, gpu_id=-1, grow_policy='depthwise',\n",
      "              importance_type=None, interaction_constraints='',\n",
      "              learning_rate=0.300000012, max_bin=256, max_cat_to_onehot=4,\n",
      "              max_delta_step=0, max_depth=6, max_leaves=0, min_child_weight=1,\n",
      "              missing=nan, monotone_constraints='()', n_estimators=100,\n",
      "              n_jobs=0, num_parallel_tree=1, objective='multi:softprob',\n",
      "              predictor='auto', random_state=0, reg_alpha=0, ...)>\n"
     ]
    }
   ],
   "source": [
    "print(model_xgboost_default.get_params)"
   ]
  },
  {
   "cell_type": "markdown",
   "metadata": {},
   "source": [
    "**Evaluate Model Performance**"
   ]
  },
  {
   "cell_type": "code",
   "execution_count": 11,
   "metadata": {},
   "outputs": [
    {
     "name": "stdout",
     "output_type": "stream",
     "text": [
      "[[2343    0    0    0    0    0]\n",
      " [   0 2701    0    0    0    0]\n",
      " [   0    0  300    0    0    0]\n",
      " [   0    0    0 3706    0    0]\n",
      " [   0    0    0    0  316    0]\n",
      " [   0    0    0    0    0   79]]\n",
      "              precision    recall  f1-score   support\n",
      "\n",
      "           0       1.00      1.00      1.00      2343\n",
      "           1       1.00      1.00      1.00      2701\n",
      "           2       1.00      1.00      1.00       300\n",
      "           3       1.00      1.00      1.00      3706\n",
      "           4       1.00      1.00      1.00       316\n",
      "           5       1.00      1.00      1.00        79\n",
      "\n",
      "    accuracy                           1.00      9445\n",
      "   macro avg       1.00      1.00      1.00      9445\n",
      "weighted avg       1.00      1.00      1.00      9445\n",
      "\n"
     ]
    }
   ],
   "source": [
    "print(confusion_matrix(y_train, xgb_train_default_predict))\n",
    "print(classification_report(y_train, xgb_train_default_predict))"
   ]
  },
  {
   "cell_type": "code",
   "execution_count": 12,
   "metadata": {},
   "outputs": [
    {
     "name": "stdout",
     "output_type": "stream",
     "text": [
      "[[409   1   1   2   0   0]\n",
      " [  2 459   0   0   2   0]\n",
      " [  4   0  55   0   0   0]\n",
      " [  5   0   0 657   1   0]\n",
      " [  1   0   0   0  50   0]\n",
      " [  0   0   0   0   0  18]]\n",
      "              precision    recall  f1-score   support\n",
      "\n",
      "           0       0.97      0.99      0.98       413\n",
      "           1       1.00      0.99      0.99       463\n",
      "           2       0.98      0.93      0.96        59\n",
      "           3       1.00      0.99      0.99       663\n",
      "           4       0.94      0.98      0.96        51\n",
      "           5       1.00      1.00      1.00        18\n",
      "\n",
      "    accuracy                           0.99      1667\n",
      "   macro avg       0.98      0.98      0.98      1667\n",
      "weighted avg       0.99      0.99      0.99      1667\n",
      "\n"
     ]
    }
   ],
   "source": [
    "print(confusion_matrix(y_test, xgb_test_default_predict))\n",
    "print(classification_report(y_test, xgb_test_default_predict))"
   ]
  },
  {
   "cell_type": "markdown",
   "metadata": {},
   "source": [
    "**Hyperparameter Tuning**"
   ]
  },
  {
   "cell_type": "code",
   "execution_count": 8,
   "metadata": {},
   "outputs": [
    {
     "name": "stdout",
     "output_type": "stream",
     "text": [
      "27\n"
     ]
    },
    {
     "data": {
      "text/plain": [
       "{'learning_rate': [0.01, 0.1, 0.5],\n",
       " 'max_depth': [2, 5, 8],\n",
       " 'n_estimators': [50, 100, 150]}"
      ]
     },
     "execution_count": 8,
     "metadata": {},
     "output_type": "execute_result"
    }
   ],
   "source": [
    "learning_rate_list = [0.01, 0.1, 0.5]\n",
    "max_depth_list = [2, 5, 8]\n",
    "n_estimators_list = [50, 100, 150]\n",
    "# reg_lambda = [10, 20, 100]\n",
    "\n",
    "params_dict = {\"learning_rate\": learning_rate_list,\n",
    "               \"max_depth\": max_depth_list,\n",
    "               \"n_estimators\": n_estimators_list}\n",
    "\n",
    "num_combinations = 1\n",
    "for v in params_dict.values(): num_combinations *= len(v) \n",
    "\n",
    "print(num_combinations)\n",
    "params_dict"
   ]
  },
  {
   "cell_type": "code",
   "execution_count": 10,
   "metadata": {},
   "outputs": [
    {
     "name": "stdout",
     "output_type": "stream",
     "text": [
      "Fitting 15 folds for each of 10 candidates, totalling 150 fits\n",
      "[CV] END ..learning_rate=0.01, max_depth=8, n_estimators=100; total time=  16.0s\n",
      "[CV] END ..learning_rate=0.01, max_depth=8, n_estimators=100; total time=  14.6s\n",
      "[CV] END ..learning_rate=0.01, max_depth=8, n_estimators=100; total time=  14.4s\n",
      "[CV] END ..learning_rate=0.01, max_depth=8, n_estimators=100; total time=  17.3s\n",
      "[CV] END ..learning_rate=0.01, max_depth=8, n_estimators=100; total time=  16.7s\n",
      "[CV] END ..learning_rate=0.01, max_depth=8, n_estimators=100; total time=  17.3s\n",
      "[CV] END ..learning_rate=0.01, max_depth=8, n_estimators=100; total time=  15.0s\n",
      "[CV] END ..learning_rate=0.01, max_depth=8, n_estimators=100; total time=  13.9s\n",
      "[CV] END ..learning_rate=0.01, max_depth=8, n_estimators=100; total time=  15.6s\n",
      "[CV] END ..learning_rate=0.01, max_depth=8, n_estimators=100; total time=  15.2s\n",
      "[CV] END ..learning_rate=0.01, max_depth=8, n_estimators=100; total time=  16.0s\n",
      "[CV] END ..learning_rate=0.01, max_depth=8, n_estimators=100; total time=  16.7s\n",
      "[CV] END ..learning_rate=0.01, max_depth=8, n_estimators=100; total time=  16.5s\n",
      "[CV] END ..learning_rate=0.01, max_depth=8, n_estimators=100; total time=  14.8s\n",
      "[CV] END ..learning_rate=0.01, max_depth=8, n_estimators=100; total time=  14.9s\n",
      "[CV] END ....learning_rate=0.1, max_depth=8, n_estimators=50; total time=   7.0s\n",
      "[CV] END ....learning_rate=0.1, max_depth=8, n_estimators=50; total time=   6.9s\n",
      "[CV] END ....learning_rate=0.1, max_depth=8, n_estimators=50; total time=   7.0s\n",
      "[CV] END ....learning_rate=0.1, max_depth=8, n_estimators=50; total time=   6.9s\n",
      "[CV] END ....learning_rate=0.1, max_depth=8, n_estimators=50; total time=   6.9s\n",
      "[CV] END ....learning_rate=0.1, max_depth=8, n_estimators=50; total time=   6.9s\n",
      "[CV] END ....learning_rate=0.1, max_depth=8, n_estimators=50; total time=   6.9s\n",
      "[CV] END ....learning_rate=0.1, max_depth=8, n_estimators=50; total time=   6.8s\n",
      "[CV] END ....learning_rate=0.1, max_depth=8, n_estimators=50; total time=   6.8s\n",
      "[CV] END ....learning_rate=0.1, max_depth=8, n_estimators=50; total time=   6.8s\n",
      "[CV] END ....learning_rate=0.1, max_depth=8, n_estimators=50; total time=   6.8s\n",
      "[CV] END ....learning_rate=0.1, max_depth=8, n_estimators=50; total time=   6.9s\n",
      "[CV] END ....learning_rate=0.1, max_depth=8, n_estimators=50; total time=   6.8s\n",
      "[CV] END ....learning_rate=0.1, max_depth=8, n_estimators=50; total time=   6.6s\n",
      "[CV] END ....learning_rate=0.1, max_depth=8, n_estimators=50; total time=   6.9s\n",
      "[CV] END ..learning_rate=0.01, max_depth=5, n_estimators=100; total time=  10.0s\n",
      "[CV] END ..learning_rate=0.01, max_depth=5, n_estimators=100; total time=  10.0s\n",
      "[CV] END ..learning_rate=0.01, max_depth=5, n_estimators=100; total time=   9.8s\n",
      "[CV] END ..learning_rate=0.01, max_depth=5, n_estimators=100; total time=   9.7s\n",
      "[CV] END ..learning_rate=0.01, max_depth=5, n_estimators=100; total time=  10.0s\n",
      "[CV] END ..learning_rate=0.01, max_depth=5, n_estimators=100; total time=  10.1s\n",
      "[CV] END ..learning_rate=0.01, max_depth=5, n_estimators=100; total time=  10.0s\n",
      "[CV] END ..learning_rate=0.01, max_depth=5, n_estimators=100; total time=   9.8s\n",
      "[CV] END ..learning_rate=0.01, max_depth=5, n_estimators=100; total time=   9.8s\n",
      "[CV] END ..learning_rate=0.01, max_depth=5, n_estimators=100; total time=  10.3s\n",
      "[CV] END ..learning_rate=0.01, max_depth=5, n_estimators=100; total time=  10.7s\n",
      "[CV] END ..learning_rate=0.01, max_depth=5, n_estimators=100; total time=  10.8s\n",
      "[CV] END ..learning_rate=0.01, max_depth=5, n_estimators=100; total time=  10.7s\n",
      "[CV] END ..learning_rate=0.01, max_depth=5, n_estimators=100; total time=  10.6s\n",
      "[CV] END ..learning_rate=0.01, max_depth=5, n_estimators=100; total time=  11.4s\n",
      "[CV] END ...learning_rate=0.5, max_depth=8, n_estimators=150; total time=   8.0s\n",
      "[CV] END ...learning_rate=0.5, max_depth=8, n_estimators=150; total time=   7.1s\n",
      "[CV] END ...learning_rate=0.5, max_depth=8, n_estimators=150; total time=   7.2s\n",
      "[CV] END ...learning_rate=0.5, max_depth=8, n_estimators=150; total time=   7.2s\n",
      "[CV] END ...learning_rate=0.5, max_depth=8, n_estimators=150; total time=   7.4s\n",
      "[CV] END ...learning_rate=0.5, max_depth=8, n_estimators=150; total time=   7.5s\n",
      "[CV] END ...learning_rate=0.5, max_depth=8, n_estimators=150; total time=   7.6s\n",
      "[CV] END ...learning_rate=0.5, max_depth=8, n_estimators=150; total time=   7.2s\n",
      "[CV] END ...learning_rate=0.5, max_depth=8, n_estimators=150; total time=   6.9s\n",
      "[CV] END ...learning_rate=0.5, max_depth=8, n_estimators=150; total time=   6.8s\n",
      "[CV] END ...learning_rate=0.5, max_depth=8, n_estimators=150; total time=   6.7s\n",
      "[CV] END ...learning_rate=0.5, max_depth=8, n_estimators=150; total time=   7.0s\n",
      "[CV] END ...learning_rate=0.5, max_depth=8, n_estimators=150; total time=   6.9s\n",
      "[CV] END ...learning_rate=0.5, max_depth=8, n_estimators=150; total time=   6.9s\n",
      "[CV] END ...learning_rate=0.5, max_depth=8, n_estimators=150; total time=   7.1s\n",
      "[CV] END ...learning_rate=0.5, max_depth=2, n_estimators=100; total time=   4.0s\n",
      "[CV] END ...learning_rate=0.5, max_depth=2, n_estimators=100; total time=   4.0s\n",
      "[CV] END ...learning_rate=0.5, max_depth=2, n_estimators=100; total time=   4.0s\n",
      "[CV] END ...learning_rate=0.5, max_depth=2, n_estimators=100; total time=   4.1s\n",
      "[CV] END ...learning_rate=0.5, max_depth=2, n_estimators=100; total time=   4.1s\n",
      "[CV] END ...learning_rate=0.5, max_depth=2, n_estimators=100; total time=   4.1s\n",
      "[CV] END ...learning_rate=0.5, max_depth=2, n_estimators=100; total time=   4.0s\n",
      "[CV] END ...learning_rate=0.5, max_depth=2, n_estimators=100; total time=   4.2s\n",
      "[CV] END ...learning_rate=0.5, max_depth=2, n_estimators=100; total time=   4.4s\n",
      "[CV] END ...learning_rate=0.5, max_depth=2, n_estimators=100; total time=   4.0s\n",
      "[CV] END ...learning_rate=0.5, max_depth=2, n_estimators=100; total time=   3.9s\n",
      "[CV] END ...learning_rate=0.5, max_depth=2, n_estimators=100; total time=   4.0s\n",
      "[CV] END ...learning_rate=0.5, max_depth=2, n_estimators=100; total time=   4.0s\n",
      "[CV] END ...learning_rate=0.5, max_depth=2, n_estimators=100; total time=   3.9s\n",
      "[CV] END ...learning_rate=0.5, max_depth=2, n_estimators=100; total time=   4.2s\n",
      "[CV] END ....learning_rate=0.1, max_depth=5, n_estimators=50; total time=   5.3s\n",
      "[CV] END ....learning_rate=0.1, max_depth=5, n_estimators=50; total time=   4.9s\n",
      "[CV] END ....learning_rate=0.1, max_depth=5, n_estimators=50; total time=   5.2s\n",
      "[CV] END ....learning_rate=0.1, max_depth=5, n_estimators=50; total time=   5.0s\n",
      "[CV] END ....learning_rate=0.1, max_depth=5, n_estimators=50; total time=   5.1s\n",
      "[CV] END ....learning_rate=0.1, max_depth=5, n_estimators=50; total time=   5.1s\n",
      "[CV] END ....learning_rate=0.1, max_depth=5, n_estimators=50; total time=   5.1s\n",
      "[CV] END ....learning_rate=0.1, max_depth=5, n_estimators=50; total time=   5.0s\n",
      "[CV] END ....learning_rate=0.1, max_depth=5, n_estimators=50; total time=   5.0s\n",
      "[CV] END ....learning_rate=0.1, max_depth=5, n_estimators=50; total time=   5.1s\n",
      "[CV] END ....learning_rate=0.1, max_depth=5, n_estimators=50; total time=   5.2s\n",
      "[CV] END ....learning_rate=0.1, max_depth=5, n_estimators=50; total time=   5.2s\n",
      "[CV] END ....learning_rate=0.1, max_depth=5, n_estimators=50; total time=   5.9s\n",
      "[CV] END ....learning_rate=0.1, max_depth=5, n_estimators=50; total time=   5.6s\n",
      "[CV] END ....learning_rate=0.1, max_depth=5, n_estimators=50; total time=   5.3s\n",
      "[CV] END ..learning_rate=0.01, max_depth=5, n_estimators=150; total time=  17.0s\n",
      "[CV] END ..learning_rate=0.01, max_depth=5, n_estimators=150; total time=  17.0s\n",
      "[CV] END ..learning_rate=0.01, max_depth=5, n_estimators=150; total time=  16.7s\n",
      "[CV] END ..learning_rate=0.01, max_depth=5, n_estimators=150; total time=  19.8s\n",
      "[CV] END ..learning_rate=0.01, max_depth=5, n_estimators=150; total time=  19.4s\n",
      "[CV] END ..learning_rate=0.01, max_depth=5, n_estimators=150; total time=  19.2s\n",
      "[CV] END ..learning_rate=0.01, max_depth=5, n_estimators=150; total time=  19.1s\n",
      "[CV] END ..learning_rate=0.01, max_depth=5, n_estimators=150; total time=  23.7s\n",
      "[CV] END ..learning_rate=0.01, max_depth=5, n_estimators=150; total time=  19.8s\n",
      "[CV] END ..learning_rate=0.01, max_depth=5, n_estimators=150; total time=  16.3s\n",
      "[CV] END ..learning_rate=0.01, max_depth=5, n_estimators=150; total time=  16.6s\n",
      "[CV] END ..learning_rate=0.01, max_depth=5, n_estimators=150; total time=  16.2s\n",
      "[CV] END ..learning_rate=0.01, max_depth=5, n_estimators=150; total time=  18.9s\n",
      "[CV] END ..learning_rate=0.01, max_depth=5, n_estimators=150; total time=  20.7s\n",
      "[CV] END ..learning_rate=0.01, max_depth=5, n_estimators=150; total time=  17.2s\n",
      "[CV] END ...learning_rate=0.1, max_depth=2, n_estimators=100; total time=   5.7s\n",
      "[CV] END ...learning_rate=0.1, max_depth=2, n_estimators=100; total time=   5.7s\n",
      "[CV] END ...learning_rate=0.1, max_depth=2, n_estimators=100; total time=   6.3s\n",
      "[CV] END ...learning_rate=0.1, max_depth=2, n_estimators=100; total time=   6.4s\n",
      "[CV] END ...learning_rate=0.1, max_depth=2, n_estimators=100; total time=   6.1s\n",
      "[CV] END ...learning_rate=0.1, max_depth=2, n_estimators=100; total time=   6.1s\n",
      "[CV] END ...learning_rate=0.1, max_depth=2, n_estimators=100; total time=   6.3s\n",
      "[CV] END ...learning_rate=0.1, max_depth=2, n_estimators=100; total time=   6.2s\n",
      "[CV] END ...learning_rate=0.1, max_depth=2, n_estimators=100; total time=   6.1s\n",
      "[CV] END ...learning_rate=0.1, max_depth=2, n_estimators=100; total time=   6.0s\n",
      "[CV] END ...learning_rate=0.1, max_depth=2, n_estimators=100; total time=   6.0s\n",
      "[CV] END ...learning_rate=0.1, max_depth=2, n_estimators=100; total time=   6.5s\n",
      "[CV] END ...learning_rate=0.1, max_depth=2, n_estimators=100; total time=   6.5s\n",
      "[CV] END ...learning_rate=0.1, max_depth=2, n_estimators=100; total time=   6.3s\n",
      "[CV] END ...learning_rate=0.1, max_depth=2, n_estimators=100; total time=   5.9s\n",
      "[CV] END ..learning_rate=0.01, max_depth=2, n_estimators=150; total time=   9.2s\n",
      "[CV] END ..learning_rate=0.01, max_depth=2, n_estimators=150; total time=   9.2s\n",
      "[CV] END ..learning_rate=0.01, max_depth=2, n_estimators=150; total time=   9.3s\n",
      "[CV] END ..learning_rate=0.01, max_depth=2, n_estimators=150; total time=   9.5s\n",
      "[CV] END ..learning_rate=0.01, max_depth=2, n_estimators=150; total time=   9.6s\n",
      "[CV] END ..learning_rate=0.01, max_depth=2, n_estimators=150; total time=   9.5s\n",
      "[CV] END ..learning_rate=0.01, max_depth=2, n_estimators=150; total time=   9.4s\n",
      "[CV] END ..learning_rate=0.01, max_depth=2, n_estimators=150; total time=   7.5s\n",
      "[CV] END ..learning_rate=0.01, max_depth=2, n_estimators=150; total time=   6.9s\n",
      "[CV] END ..learning_rate=0.01, max_depth=2, n_estimators=150; total time=   6.9s\n",
      "[CV] END ..learning_rate=0.01, max_depth=2, n_estimators=150; total time=   6.9s\n",
      "[CV] END ..learning_rate=0.01, max_depth=2, n_estimators=150; total time=   6.9s\n",
      "[CV] END ..learning_rate=0.01, max_depth=2, n_estimators=150; total time=   7.0s\n",
      "[CV] END ..learning_rate=0.01, max_depth=2, n_estimators=150; total time=   7.0s\n",
      "[CV] END ..learning_rate=0.01, max_depth=2, n_estimators=150; total time=   7.0s\n",
      "[CV] END ....learning_rate=0.5, max_depth=5, n_estimators=50; total time=   3.1s\n",
      "[CV] END ....learning_rate=0.5, max_depth=5, n_estimators=50; total time=   3.2s\n",
      "[CV] END ....learning_rate=0.5, max_depth=5, n_estimators=50; total time=   3.2s\n",
      "[CV] END ....learning_rate=0.5, max_depth=5, n_estimators=50; total time=   3.2s\n",
      "[CV] END ....learning_rate=0.5, max_depth=5, n_estimators=50; total time=   3.3s\n",
      "[CV] END ....learning_rate=0.5, max_depth=5, n_estimators=50; total time=   3.2s\n",
      "[CV] END ....learning_rate=0.5, max_depth=5, n_estimators=50; total time=   3.2s\n",
      "[CV] END ....learning_rate=0.5, max_depth=5, n_estimators=50; total time=   3.3s\n",
      "[CV] END ....learning_rate=0.5, max_depth=5, n_estimators=50; total time=   3.3s\n",
      "[CV] END ....learning_rate=0.5, max_depth=5, n_estimators=50; total time=   3.2s\n",
      "[CV] END ....learning_rate=0.5, max_depth=5, n_estimators=50; total time=   3.3s\n",
      "[CV] END ....learning_rate=0.5, max_depth=5, n_estimators=50; total time=   3.4s\n",
      "[CV] END ....learning_rate=0.5, max_depth=5, n_estimators=50; total time=   3.3s\n",
      "[CV] END ....learning_rate=0.5, max_depth=5, n_estimators=50; total time=   3.2s\n",
      "[CV] END ....learning_rate=0.5, max_depth=5, n_estimators=50; total time=   3.4s\n"
     ]
    },
    {
     "data": {
      "text/html": [
       "<style>#sk-container-id-1 {color: black;background-color: white;}#sk-container-id-1 pre{padding: 0;}#sk-container-id-1 div.sk-toggleable {background-color: white;}#sk-container-id-1 label.sk-toggleable__label {cursor: pointer;display: block;width: 100%;margin-bottom: 0;padding: 0.3em;box-sizing: border-box;text-align: center;}#sk-container-id-1 label.sk-toggleable__label-arrow:before {content: \"▸\";float: left;margin-right: 0.25em;color: #696969;}#sk-container-id-1 label.sk-toggleable__label-arrow:hover:before {color: black;}#sk-container-id-1 div.sk-estimator:hover label.sk-toggleable__label-arrow:before {color: black;}#sk-container-id-1 div.sk-toggleable__content {max-height: 0;max-width: 0;overflow: hidden;text-align: left;background-color: #f0f8ff;}#sk-container-id-1 div.sk-toggleable__content pre {margin: 0.2em;color: black;border-radius: 0.25em;background-color: #f0f8ff;}#sk-container-id-1 input.sk-toggleable__control:checked~div.sk-toggleable__content {max-height: 200px;max-width: 100%;overflow: auto;}#sk-container-id-1 input.sk-toggleable__control:checked~label.sk-toggleable__label-arrow:before {content: \"▾\";}#sk-container-id-1 div.sk-estimator input.sk-toggleable__control:checked~label.sk-toggleable__label {background-color: #d4ebff;}#sk-container-id-1 div.sk-label input.sk-toggleable__control:checked~label.sk-toggleable__label {background-color: #d4ebff;}#sk-container-id-1 input.sk-hidden--visually {border: 0;clip: rect(1px 1px 1px 1px);clip: rect(1px, 1px, 1px, 1px);height: 1px;margin: -1px;overflow: hidden;padding: 0;position: absolute;width: 1px;}#sk-container-id-1 div.sk-estimator {font-family: monospace;background-color: #f0f8ff;border: 1px dotted black;border-radius: 0.25em;box-sizing: border-box;margin-bottom: 0.5em;}#sk-container-id-1 div.sk-estimator:hover {background-color: #d4ebff;}#sk-container-id-1 div.sk-parallel-item::after {content: \"\";width: 100%;border-bottom: 1px solid gray;flex-grow: 1;}#sk-container-id-1 div.sk-label:hover label.sk-toggleable__label {background-color: #d4ebff;}#sk-container-id-1 div.sk-serial::before {content: \"\";position: absolute;border-left: 1px solid gray;box-sizing: border-box;top: 0;bottom: 0;left: 50%;z-index: 0;}#sk-container-id-1 div.sk-serial {display: flex;flex-direction: column;align-items: center;background-color: white;padding-right: 0.2em;padding-left: 0.2em;position: relative;}#sk-container-id-1 div.sk-item {position: relative;z-index: 1;}#sk-container-id-1 div.sk-parallel {display: flex;align-items: stretch;justify-content: center;background-color: white;position: relative;}#sk-container-id-1 div.sk-item::before, #sk-container-id-1 div.sk-parallel-item::before {content: \"\";position: absolute;border-left: 1px solid gray;box-sizing: border-box;top: 0;bottom: 0;left: 50%;z-index: -1;}#sk-container-id-1 div.sk-parallel-item {display: flex;flex-direction: column;z-index: 1;position: relative;background-color: white;}#sk-container-id-1 div.sk-parallel-item:first-child::after {align-self: flex-end;width: 50%;}#sk-container-id-1 div.sk-parallel-item:last-child::after {align-self: flex-start;width: 50%;}#sk-container-id-1 div.sk-parallel-item:only-child::after {width: 0;}#sk-container-id-1 div.sk-dashed-wrapped {border: 1px dashed gray;margin: 0 0.4em 0.5em 0.4em;box-sizing: border-box;padding-bottom: 0.4em;background-color: white;}#sk-container-id-1 div.sk-label label {font-family: monospace;font-weight: bold;display: inline-block;line-height: 1.2em;}#sk-container-id-1 div.sk-label-container {text-align: center;}#sk-container-id-1 div.sk-container {/* jupyter's `normalize.less` sets `[hidden] { display: none; }` but bootstrap.min.css set `[hidden] { display: none !important; }` so we also need the `!important` here to be able to override the default hidden behavior on the sphinx rendered scikit-learn.org. See: https://github.com/scikit-learn/scikit-learn/issues/21755 */display: inline-block !important;position: relative;}#sk-container-id-1 div.sk-text-repr-fallback {display: none;}</style><div id=\"sk-container-id-1\" class=\"sk-top-container\"><div class=\"sk-text-repr-fallback\"><pre>RandomizedSearchCV(cv=RepeatedStratifiedKFold(n_repeats=3, n_splits=5, random_state=2022),\n",
       "                   estimator=XGBClassifier(base_score=None, booster=None,\n",
       "                                           callbacks=None,\n",
       "                                           colsample_bylevel=None,\n",
       "                                           colsample_bynode=None,\n",
       "                                           colsample_bytree=None,\n",
       "                                           early_stopping_rounds=None,\n",
       "                                           enable_categorical=False,\n",
       "                                           eval_metric=None, gamma=None,\n",
       "                                           gpu_id=None, grow_policy=None,\n",
       "                                           importance_type=No...\n",
       "                                           min_child_weight=None, missing=nan,\n",
       "                                           monotone_constraints=None,\n",
       "                                           n_estimators=100, n_jobs=None,\n",
       "                                           num_parallel_tree=None,\n",
       "                                           predictor=None, random_state=None,\n",
       "                                           reg_alpha=None, reg_lambda=None, ...),\n",
       "                   param_distributions={&#x27;learning_rate&#x27;: [0.01, 0.1, 0.5],\n",
       "                                        &#x27;max_depth&#x27;: [2, 5, 8],\n",
       "                                        &#x27;n_estimators&#x27;: [50, 100, 150]},\n",
       "                   random_state=2022, return_train_score=True,\n",
       "                   scoring=&#x27;f1_weighted&#x27;, verbose=2)</pre><b>In a Jupyter environment, please rerun this cell to show the HTML representation or trust the notebook. <br />On GitHub, the HTML representation is unable to render, please try loading this page with nbviewer.org.</b></div><div class=\"sk-container\" hidden><div class=\"sk-item sk-dashed-wrapped\"><div class=\"sk-label-container\"><div class=\"sk-label sk-toggleable\"><input class=\"sk-toggleable__control sk-hidden--visually\" id=\"sk-estimator-id-1\" type=\"checkbox\" ><label for=\"sk-estimator-id-1\" class=\"sk-toggleable__label sk-toggleable__label-arrow\">RandomizedSearchCV</label><div class=\"sk-toggleable__content\"><pre>RandomizedSearchCV(cv=RepeatedStratifiedKFold(n_repeats=3, n_splits=5, random_state=2022),\n",
       "                   estimator=XGBClassifier(base_score=None, booster=None,\n",
       "                                           callbacks=None,\n",
       "                                           colsample_bylevel=None,\n",
       "                                           colsample_bynode=None,\n",
       "                                           colsample_bytree=None,\n",
       "                                           early_stopping_rounds=None,\n",
       "                                           enable_categorical=False,\n",
       "                                           eval_metric=None, gamma=None,\n",
       "                                           gpu_id=None, grow_policy=None,\n",
       "                                           importance_type=No...\n",
       "                                           min_child_weight=None, missing=nan,\n",
       "                                           monotone_constraints=None,\n",
       "                                           n_estimators=100, n_jobs=None,\n",
       "                                           num_parallel_tree=None,\n",
       "                                           predictor=None, random_state=None,\n",
       "                                           reg_alpha=None, reg_lambda=None, ...),\n",
       "                   param_distributions={&#x27;learning_rate&#x27;: [0.01, 0.1, 0.5],\n",
       "                                        &#x27;max_depth&#x27;: [2, 5, 8],\n",
       "                                        &#x27;n_estimators&#x27;: [50, 100, 150]},\n",
       "                   random_state=2022, return_train_score=True,\n",
       "                   scoring=&#x27;f1_weighted&#x27;, verbose=2)</pre></div></div></div><div class=\"sk-parallel\"><div class=\"sk-parallel-item\"><div class=\"sk-item\"><div class=\"sk-label-container\"><div class=\"sk-label sk-toggleable\"><input class=\"sk-toggleable__control sk-hidden--visually\" id=\"sk-estimator-id-2\" type=\"checkbox\" ><label for=\"sk-estimator-id-2\" class=\"sk-toggleable__label sk-toggleable__label-arrow\">estimator: XGBClassifier</label><div class=\"sk-toggleable__content\"><pre>XGBClassifier(base_score=None, booster=None, callbacks=None,\n",
       "              colsample_bylevel=None, colsample_bynode=None,\n",
       "              colsample_bytree=None, early_stopping_rounds=None,\n",
       "              enable_categorical=False, eval_metric=None, gamma=None,\n",
       "              gpu_id=None, grow_policy=None, importance_type=None,\n",
       "              interaction_constraints=None, learning_rate=None, max_bin=None,\n",
       "              max_cat_to_onehot=None, max_delta_step=None, max_depth=None,\n",
       "              max_leaves=None, min_child_weight=None, missing=nan,\n",
       "              monotone_constraints=None, n_estimators=100, n_jobs=None,\n",
       "              num_parallel_tree=None, predictor=None, random_state=None,\n",
       "              reg_alpha=None, reg_lambda=None, ...)</pre></div></div></div><div class=\"sk-serial\"><div class=\"sk-item\"><div class=\"sk-estimator sk-toggleable\"><input class=\"sk-toggleable__control sk-hidden--visually\" id=\"sk-estimator-id-3\" type=\"checkbox\" ><label for=\"sk-estimator-id-3\" class=\"sk-toggleable__label sk-toggleable__label-arrow\">XGBClassifier</label><div class=\"sk-toggleable__content\"><pre>XGBClassifier(base_score=None, booster=None, callbacks=None,\n",
       "              colsample_bylevel=None, colsample_bynode=None,\n",
       "              colsample_bytree=None, early_stopping_rounds=None,\n",
       "              enable_categorical=False, eval_metric=None, gamma=None,\n",
       "              gpu_id=None, grow_policy=None, importance_type=None,\n",
       "              interaction_constraints=None, learning_rate=None, max_bin=None,\n",
       "              max_cat_to_onehot=None, max_delta_step=None, max_depth=None,\n",
       "              max_leaves=None, min_child_weight=None, missing=nan,\n",
       "              monotone_constraints=None, n_estimators=100, n_jobs=None,\n",
       "              num_parallel_tree=None, predictor=None, random_state=None,\n",
       "              reg_alpha=None, reg_lambda=None, ...)</pre></div></div></div></div></div></div></div></div></div></div>"
      ],
      "text/plain": [
       "RandomizedSearchCV(cv=RepeatedStratifiedKFold(n_repeats=3, n_splits=5, random_state=2022),\n",
       "                   estimator=XGBClassifier(base_score=None, booster=None,\n",
       "                                           callbacks=None,\n",
       "                                           colsample_bylevel=None,\n",
       "                                           colsample_bynode=None,\n",
       "                                           colsample_bytree=None,\n",
       "                                           early_stopping_rounds=None,\n",
       "                                           enable_categorical=False,\n",
       "                                           eval_metric=None, gamma=None,\n",
       "                                           gpu_id=None, grow_policy=None,\n",
       "                                           importance_type=No...\n",
       "                                           min_child_weight=None, missing=nan,\n",
       "                                           monotone_constraints=None,\n",
       "                                           n_estimators=100, n_jobs=None,\n",
       "                                           num_parallel_tree=None,\n",
       "                                           predictor=None, random_state=None,\n",
       "                                           reg_alpha=None, reg_lambda=None, ...),\n",
       "                   param_distributions={'learning_rate': [0.01, 0.1, 0.5],\n",
       "                                        'max_depth': [2, 5, 8],\n",
       "                                        'n_estimators': [50, 100, 150]},\n",
       "                   random_state=2022, return_train_score=True,\n",
       "                   scoring='f1_weighted', verbose=2)"
      ]
     },
     "execution_count": 10,
     "metadata": {},
     "output_type": "execute_result"
    }
   ],
   "source": [
    "# Custom cross-validation method\n",
    "cv_method = RepeatedStratifiedKFold(n_splits=5, \n",
    "                                    n_repeats=3, \n",
    "                                    random_state=2022)\n",
    "\n",
    "model_xgboost_tuning = RandomizedSearchCV(estimator=xgb.XGBClassifier(),\n",
    "                                param_distributions = params_dict,\n",
    "                                cv=cv_method,\n",
    "                                scoring='f1_weighted',\n",
    "                                return_train_score=True,\n",
    "                                verbose=2,\n",
    "                                random_state=2022)\n",
    "\n",
    "model_xgboost_tuning.fit(X, y)"
   ]
  },
  {
   "cell_type": "code",
   "execution_count": 15,
   "metadata": {},
   "outputs": [
    {
     "data": {
      "text/plain": [
       "{'n_estimators': 100, 'max_depth': 2, 'learning_rate': 0.5}"
      ]
     },
     "execution_count": 15,
     "metadata": {},
     "output_type": "execute_result"
    }
   ],
   "source": [
    "model_xgboost_tuning.best_params_"
   ]
  },
  {
   "cell_type": "code",
   "execution_count": 11,
   "metadata": {},
   "outputs": [
    {
     "data": {
      "text/html": [
       "<div>\n",
       "<style scoped>\n",
       "    .dataframe tbody tr th:only-of-type {\n",
       "        vertical-align: middle;\n",
       "    }\n",
       "\n",
       "    .dataframe tbody tr th {\n",
       "        vertical-align: top;\n",
       "    }\n",
       "\n",
       "    .dataframe thead th {\n",
       "        text-align: right;\n",
       "    }\n",
       "</style>\n",
       "<table border=\"1\" class=\"dataframe\">\n",
       "  <thead>\n",
       "    <tr style=\"text-align: right;\">\n",
       "      <th></th>\n",
       "      <th>rank_test_score</th>\n",
       "      <th>mean_test_score</th>\n",
       "      <th>mean_train_score</th>\n",
       "      <th>param_learning_rate</th>\n",
       "      <th>param_max_depth</th>\n",
       "      <th>param_n_estimators</th>\n",
       "    </tr>\n",
       "  </thead>\n",
       "  <tbody>\n",
       "    <tr>\n",
       "      <th>4</th>\n",
       "      <td>1</td>\n",
       "      <td>0.991138</td>\n",
       "      <td>1.000000</td>\n",
       "      <td>0.5</td>\n",
       "      <td>2</td>\n",
       "      <td>100</td>\n",
       "    </tr>\n",
       "    <tr>\n",
       "      <th>3</th>\n",
       "      <td>2</td>\n",
       "      <td>0.990892</td>\n",
       "      <td>1.000000</td>\n",
       "      <td>0.5</td>\n",
       "      <td>8</td>\n",
       "      <td>150</td>\n",
       "    </tr>\n",
       "    <tr>\n",
       "      <th>9</th>\n",
       "      <td>3</td>\n",
       "      <td>0.990834</td>\n",
       "      <td>1.000000</td>\n",
       "      <td>0.5</td>\n",
       "      <td>5</td>\n",
       "      <td>50</td>\n",
       "    </tr>\n",
       "    <tr>\n",
       "      <th>7</th>\n",
       "      <td>4</td>\n",
       "      <td>0.988734</td>\n",
       "      <td>0.992200</td>\n",
       "      <td>0.1</td>\n",
       "      <td>2</td>\n",
       "      <td>100</td>\n",
       "    </tr>\n",
       "    <tr>\n",
       "      <th>1</th>\n",
       "      <td>5</td>\n",
       "      <td>0.988197</td>\n",
       "      <td>0.999450</td>\n",
       "      <td>0.1</td>\n",
       "      <td>8</td>\n",
       "      <td>50</td>\n",
       "    </tr>\n",
       "    <tr>\n",
       "      <th>5</th>\n",
       "      <td>6</td>\n",
       "      <td>0.988196</td>\n",
       "      <td>0.997681</td>\n",
       "      <td>0.1</td>\n",
       "      <td>5</td>\n",
       "      <td>50</td>\n",
       "    </tr>\n",
       "    <tr>\n",
       "      <th>0</th>\n",
       "      <td>7</td>\n",
       "      <td>0.984831</td>\n",
       "      <td>0.992646</td>\n",
       "      <td>0.01</td>\n",
       "      <td>8</td>\n",
       "      <td>100</td>\n",
       "    </tr>\n",
       "    <tr>\n",
       "      <th>6</th>\n",
       "      <td>8</td>\n",
       "      <td>0.983992</td>\n",
       "      <td>0.990817</td>\n",
       "      <td>0.01</td>\n",
       "      <td>5</td>\n",
       "      <td>150</td>\n",
       "    </tr>\n",
       "    <tr>\n",
       "      <th>2</th>\n",
       "      <td>9</td>\n",
       "      <td>0.983095</td>\n",
       "      <td>0.988915</td>\n",
       "      <td>0.01</td>\n",
       "      <td>5</td>\n",
       "      <td>100</td>\n",
       "    </tr>\n",
       "    <tr>\n",
       "      <th>8</th>\n",
       "      <td>10</td>\n",
       "      <td>0.974850</td>\n",
       "      <td>0.976702</td>\n",
       "      <td>0.01</td>\n",
       "      <td>2</td>\n",
       "      <td>150</td>\n",
       "    </tr>\n",
       "  </tbody>\n",
       "</table>\n",
       "</div>"
      ],
      "text/plain": [
       "   rank_test_score  mean_test_score  mean_train_score param_learning_rate  \\\n",
       "4                1         0.991138          1.000000                 0.5   \n",
       "3                2         0.990892          1.000000                 0.5   \n",
       "9                3         0.990834          1.000000                 0.5   \n",
       "7                4         0.988734          0.992200                 0.1   \n",
       "1                5         0.988197          0.999450                 0.1   \n",
       "5                6         0.988196          0.997681                 0.1   \n",
       "0                7         0.984831          0.992646                0.01   \n",
       "6                8         0.983992          0.990817                0.01   \n",
       "2                9         0.983095          0.988915                0.01   \n",
       "8               10         0.974850          0.976702                0.01   \n",
       "\n",
       "  param_max_depth param_n_estimators  \n",
       "4               2                100  \n",
       "3               8                150  \n",
       "9               5                 50  \n",
       "7               2                100  \n",
       "1               8                 50  \n",
       "5               5                 50  \n",
       "0               8                100  \n",
       "6               5                150  \n",
       "2               5                100  \n",
       "8               2                150  "
      ]
     },
     "execution_count": 11,
     "metadata": {},
     "output_type": "execute_result"
    }
   ],
   "source": [
    "df_cv_results = pd.DataFrame(model_xgboost_tuning.cv_results_)\n",
    "df_cv_results = df_cv_results[['rank_test_score','mean_test_score','mean_train_score',\n",
    "                               'param_learning_rate', 'param_max_depth', 'param_n_estimators']]\n",
    "df_cv_results.sort_values(by='rank_test_score', inplace=True)\n",
    "df_cv_results"
   ]
  },
  {
   "cell_type": "markdown",
   "metadata": {},
   "source": [
    "## Final Model\n",
    "Using best parameters from above step"
   ]
  },
  {
   "cell_type": "code",
   "execution_count": 12,
   "metadata": {},
   "outputs": [
    {
     "name": "stdout",
     "output_type": "stream",
     "text": [
      "Total time taken for the program execution 4.327378273010254\n",
      "              precision    recall  f1-score   support\n",
      "\n",
      "           0    0.97156   0.99274   0.98204       413\n",
      "           1    1.00000   0.99568   0.99784       463\n",
      "           2    0.98214   0.93220   0.95652        59\n",
      "           3    0.99697   0.99095   0.99395       663\n",
      "           4    0.98077   1.00000   0.99029        51\n",
      "           5    1.00000   0.94444   0.97143        18\n",
      "\n",
      "    accuracy                        0.99040      1667\n",
      "   macro avg    0.98857   0.97600   0.98201      1667\n",
      "weighted avg    0.99053   0.99040   0.99040      1667\n",
      "\n"
     ]
    },
    {
     "data": {
      "text/plain": [
       "0.9903970739112765"
      ]
     },
     "execution_count": 12,
     "metadata": {},
     "output_type": "execute_result"
    }
   ],
   "source": [
    "import time\n",
    "from sklearn.metrics import f1_score\n",
    "\n",
    "model_xgboost_fin = xgb.XGBClassifier(**model_xgboost_tuning.best_params_)\n",
    "start_time = time.time()\n",
    "\n",
    "model_xgboost_fin.fit(X_train, y_train, verbose =True)\n",
    "y_pred_test = model_xgboost_fin.predict(X_test)\n",
    "\n",
    "time_taken = time.time() - start_time\n",
    "print(\"Total time taken for the program execution\", time_taken) # seconds\n",
    "print(classification_report(y_test, y_pred_test, digits=5))\n",
    "# roc_auc_score(y_test, y_pred_test)\n",
    "f1_score(y_test, y_pred_test, average='weighted')"
   ]
  },
  {
   "cell_type": "code",
   "execution_count": 13,
   "metadata": {},
   "outputs": [
    {
     "data": {
      "text/html": [
       "<div>\n",
       "<style scoped>\n",
       "    .dataframe tbody tr th:only-of-type {\n",
       "        vertical-align: middle;\n",
       "    }\n",
       "\n",
       "    .dataframe tbody tr th {\n",
       "        vertical-align: top;\n",
       "    }\n",
       "\n",
       "    .dataframe thead th {\n",
       "        text-align: right;\n",
       "    }\n",
       "</style>\n",
       "<table border=\"1\" class=\"dataframe\">\n",
       "  <thead>\n",
       "    <tr style=\"text-align: right;\">\n",
       "      <th></th>\n",
       "      <th>Variable</th>\n",
       "      <th>Importance</th>\n",
       "    </tr>\n",
       "  </thead>\n",
       "  <tbody>\n",
       "    <tr>\n",
       "      <th>36</th>\n",
       "      <td>tweets_14</td>\n",
       "      <td>0.339479</td>\n",
       "    </tr>\n",
       "    <tr>\n",
       "      <th>41</th>\n",
       "      <td>tweets_19</td>\n",
       "      <td>0.080444</td>\n",
       "    </tr>\n",
       "    <tr>\n",
       "      <th>168</th>\n",
       "      <td>description_46</td>\n",
       "      <td>0.065323</td>\n",
       "    </tr>\n",
       "    <tr>\n",
       "      <th>4</th>\n",
       "      <td>favourites_count</td>\n",
       "      <td>0.055654</td>\n",
       "    </tr>\n",
       "    <tr>\n",
       "      <th>6</th>\n",
       "      <td>default_profile</td>\n",
       "      <td>0.052490</td>\n",
       "    </tr>\n",
       "    <tr>\n",
       "      <th>45</th>\n",
       "      <td>tweets_23</td>\n",
       "      <td>0.047831</td>\n",
       "    </tr>\n",
       "    <tr>\n",
       "      <th>53</th>\n",
       "      <td>tweets_31</td>\n",
       "      <td>0.044222</td>\n",
       "    </tr>\n",
       "    <tr>\n",
       "      <th>16</th>\n",
       "      <td>following_to_followers_ratio</td>\n",
       "      <td>0.041337</td>\n",
       "    </tr>\n",
       "    <tr>\n",
       "      <th>9</th>\n",
       "      <td>profile_use_background_image</td>\n",
       "      <td>0.032003</td>\n",
       "    </tr>\n",
       "    <tr>\n",
       "      <th>81</th>\n",
       "      <td>tweets_59</td>\n",
       "      <td>0.025980</td>\n",
       "    </tr>\n",
       "  </tbody>\n",
       "</table>\n",
       "</div>"
      ],
      "text/plain": [
       "                         Variable  Importance\n",
       "36                      tweets_14    0.339479\n",
       "41                      tweets_19    0.080444\n",
       "168                description_46    0.065323\n",
       "4                favourites_count    0.055654\n",
       "6                 default_profile    0.052490\n",
       "45                      tweets_23    0.047831\n",
       "53                      tweets_31    0.044222\n",
       "16   following_to_followers_ratio    0.041337\n",
       "9    profile_use_background_image    0.032003\n",
       "81                      tweets_59    0.025980"
      ]
     },
     "execution_count": 13,
     "metadata": {},
     "output_type": "execute_result"
    }
   ],
   "source": [
    "var_colums = [c for c in X_train.columns if c not in ['state']]\n",
    "\n",
    "df_var_imp = pd.DataFrame({\"Variable\": var_colums,\n",
    "                           \"Importance\": model_xgboost_fin.feature_importances_})\\\n",
    "                        .sort_values(by='Importance', ascending=False)\n",
    "df_var_imp[:10]"
   ]
  }
 ],
 "metadata": {
  "kernelspec": {
   "display_name": "Python 3 (ipykernel)",
   "language": "python",
   "name": "python3"
  },
  "language_info": {
   "codemirror_mode": {
    "name": "ipython",
    "version": 3
   },
   "file_extension": ".py",
   "mimetype": "text/x-python",
   "name": "python",
   "nbconvert_exporter": "python",
   "pygments_lexer": "ipython3",
   "version": "3.10.5"
  },
  "vscode": {
   "interpreter": {
    "hash": "3d8ed9d5f82d3a6b03b0c02db761342dfdb80b03ec2829061c6d06f1ae9d9b4d"
   }
  }
 },
 "nbformat": 4,
 "nbformat_minor": 2
}
