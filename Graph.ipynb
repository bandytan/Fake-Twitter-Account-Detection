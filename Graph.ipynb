{
 "cells": [
  {
   "cell_type": "code",
   "execution_count": 105,
   "id": "38193441",
   "metadata": {
    "ExecuteTime": {
     "end_time": "2022-11-12T16:00:15.238432Z",
     "start_time": "2022-11-12T16:00:15.229685Z"
    }
   },
   "outputs": [],
   "source": [
    "import pandas as pd \n",
    "import numpy as np\n",
    "import networkx as nx\n",
    "import re\n",
    "import swifter\n",
    "import matplotlib.pyplot as plt\n",
    "%matplotlib inline"
   ]
  },
  {
   "cell_type": "code",
   "execution_count": 2,
   "id": "e8f594b5",
   "metadata": {
    "ExecuteTime": {
     "end_time": "2022-11-12T13:40:47.771139Z",
     "start_time": "2022-11-12T13:40:09.104615Z"
    }
   },
   "outputs": [
    {
     "name": "stderr",
     "output_type": "stream",
     "text": [
      "/var/folders/dq/33rpc0cx4f54t0vx2cdcgczr0000gn/T/ipykernel_11877/2074397400.py:21: DtypeWarning: Columns (8,11) have mixed types. Specify dtype option on import or set low_memory=False.\n",
      "  df_tweets = pd.read_csv(fn, encoding='ISO-8859-1')\n",
      "/var/folders/dq/33rpc0cx4f54t0vx2cdcgczr0000gn/T/ipykernel_11877/2074397400.py:23: DtypeWarning: Columns (0) have mixed types. Specify dtype option on import or set low_memory=False.\n",
      "  df_tweets = pd.concat([df_tweets, pd.read_csv(fn, encoding='ISO-8859-1') ], axis=0) #user_id\n",
      "/var/folders/dq/33rpc0cx4f54t0vx2cdcgczr0000gn/T/ipykernel_11877/2074397400.py:23: DtypeWarning: Columns (10) have mixed types. Specify dtype option on import or set low_memory=False.\n",
      "  df_tweets = pd.concat([df_tweets, pd.read_csv(fn, encoding='ISO-8859-1') ], axis=0) #user_id\n",
      "/var/folders/dq/33rpc0cx4f54t0vx2cdcgczr0000gn/T/ipykernel_11877/2074397400.py:23: DtypeWarning: Columns (10) have mixed types. Specify dtype option on import or set low_memory=False.\n",
      "  df_tweets = pd.concat([df_tweets, pd.read_csv(fn, encoding='ISO-8859-1') ], axis=0) #user_id\n",
      "/var/folders/dq/33rpc0cx4f54t0vx2cdcgczr0000gn/T/ipykernel_11877/2074397400.py:23: DtypeWarning: Columns (7,10) have mixed types. Specify dtype option on import or set low_memory=False.\n",
      "  df_tweets = pd.concat([df_tweets, pd.read_csv(fn, encoding='ISO-8859-1') ], axis=0) #user_id\n",
      "/var/folders/dq/33rpc0cx4f54t0vx2cdcgczr0000gn/T/ipykernel_11877/2074397400.py:23: DtypeWarning: Columns (8) have mixed types. Specify dtype option on import or set low_memory=False.\n",
      "  df_tweets = pd.concat([df_tweets, pd.read_csv(fn, encoding='ISO-8859-1') ], axis=0) #user_id\n"
     ]
    }
   ],
   "source": [
    "df_users = pd.read_csv(\"data/combined_twitter_data_with_tweets_corpus.csv\") #id\n",
    "\n",
    "# get tweets df\n",
    "filenames_tweets = [\n",
    "    \"data/all tweets 2017/tweets_fake_followers.csv\",\n",
    "    \"data/all tweets 2017/tweets_genuine_accounts.csv\",\n",
    "    \"data/all tweets 2017/tweets_social_spambots_1.csv\",\n",
    "    \"data/all tweets 2017/tweets_social_spambots_2.csv\",\n",
    "    \"data/all tweets 2017/tweets_social_spambots_3.csv\",\n",
    "    \"data/all tweets 2017/tweets_traditional_spambots_1.csv\",\n",
    "\n",
    "    \"data/tweets 2015/tweets_E13.csv\",\n",
    "    \"data/tweets 2015/tweets_FSF.csv\",\n",
    "    \"data/tweets 2015/tweets_INT.csv\",\n",
    "    \"data/tweets 2015/tweets_TFP.csv\",\n",
    "    \"data/tweets 2015/tweets_TWT.csv\"\n",
    "]\n",
    "\n",
    "for i,fn in enumerate(filenames_tweets):\n",
    "    if i == 0:\n",
    "        df_tweets = pd.read_csv(fn, encoding='ISO-8859-1')\n",
    "    else:\n",
    "        df_tweets = pd.concat([df_tweets, pd.read_csv(fn, encoding='ISO-8859-1') ], axis=0) #user_id"
   ]
  },
  {
   "cell_type": "markdown",
   "id": "3768ded7",
   "metadata": {},
   "source": [
    "## Build edge list\n",
    "- mentions "
   ]
  },
  {
   "cell_type": "code",
   "execution_count": 155,
   "id": "c4851565",
   "metadata": {
    "ExecuteTime": {
     "end_time": "2022-11-13T05:33:13.448630Z",
     "start_time": "2022-11-13T05:33:13.436638Z"
    }
   },
   "outputs": [],
   "source": [
    "edges = set()\n",
    "\n",
    "def add_edges(user_id, tweet):\n",
    "    mentioned_users = re.findall(r\"@[a-zA-Z0-9_]{0,15}\", str(tweet))\n",
    "    if mentioned_users:\n",
    "        mentioned_users = list(map(lambda x: x[1:], mentioned_users)) #remove @ in name\n",
    "        for mentioned in mentioned_users: #get the ID from df_users \n",
    "            mentioned_id = df_users[df_users['screen_name'] == mentioned]\n",
    "            if mentioned_id.size > 0:\n",
    "                edges.add((int(user_id), mentioned_id.loc[:,\"id\"].values[0])) #add edge \n",
    "            else: #mentioned_id not in df_users \n",
    "                continue\n",
    "    else: #no mentions in tweet\n",
    "        return\n",
    "    return"
   ]
  },
  {
   "cell_type": "code",
   "execution_count": 156,
   "id": "36e9afb7",
   "metadata": {
    "ExecuteTime": {
     "end_time": "2022-11-13T06:04:04.419976Z",
     "start_time": "2022-11-13T05:33:19.046021Z"
    }
   },
   "outputs": [
    {
     "data": {
      "application/vnd.jupyter.widget-view+json": {
       "model_id": "f37a060b8a054ef3b7dce851ef865f25",
       "version_major": 2,
       "version_minor": 0
      },
      "text/plain": [
       "Pandas Apply:   0%|          | 0/9465373 [00:00<?, ?it/s]"
      ]
     },
     "metadata": {},
     "output_type": "display_data"
    },
    {
     "data": {
      "text/plain": [
       "0         None\n",
       "1         None\n",
       "2         None\n",
       "3         None\n",
       "4         None\n",
       "          ... \n",
       "114187    None\n",
       "114188    None\n",
       "114189    None\n",
       "114190    None\n",
       "114191    None\n",
       "Length: 9465373, dtype: object"
      ]
     },
     "execution_count": 156,
     "metadata": {},
     "output_type": "execute_result"
    }
   ],
   "source": [
    "#run time 31m 13s\n",
    "df_tweets.swifter.apply(lambda x: add_edges(x['user_id'], x['text']), axis=1)"
   ]
  },
  {
   "cell_type": "markdown",
   "id": "02857c0e",
   "metadata": {},
   "source": [
    "## Implement Reciprocity"
   ]
  },
  {
   "cell_type": "code",
   "execution_count": 157,
   "id": "7575140d",
   "metadata": {
    "ExecuteTime": {
     "end_time": "2022-11-13T06:43:44.344654Z",
     "start_time": "2022-11-13T06:43:44.272228Z"
    }
   },
   "outputs": [
    {
     "name": "stdout",
     "output_type": "stream",
     "text": [
      "0.05016648168701443\n"
     ]
    }
   ],
   "source": [
    "edge_list = list(edges)\n",
    "directed_graph = nx.DiGraph()\n",
    "directed_graph.add_edges_from(edge_list)\n",
    "#plt.figure(figsize=(10,10))\n",
    "#nx.draw_circular(directed_graph, with_labels=True, node_size=1800, alpha=0.6), font_size=20)\n",
    "\n",
    "# Reciprocity (Directed Graph)\n",
    "# The ratio of the number of relations which are reciprocated over the total number of relations in a directed network\n",
    "print(nx.algorithms.reciprocity(directed_graph))\n",
    "\n",
    "# interested in node level - for each node, how many relations are reciprocated? \n",
    "reci_d = nx.algorithms.reciprocity(directed_graph, directed_graph.nodes)"
   ]
  },
  {
   "cell_type": "code",
   "execution_count": 166,
   "id": "61f7555a",
   "metadata": {
    "ExecuteTime": {
     "end_time": "2022-11-13T06:51:08.127266Z",
     "start_time": "2022-11-13T06:51:08.110060Z"
    }
   },
   "outputs": [
    {
     "name": "stdout",
     "output_type": "stream",
     "text": [
      "2751\n"
     ]
    }
   ],
   "source": [
    "print(len(reci_d))\n",
    "\n",
    "# missing nodes means no edges - could mean that mentioned user is not in our data (bot/not bot) or no activity (bot/not bot) \n",
    "# impute both with 0\n",
    "reci_d_add = {k:0 for k in df_users[~df_users['id'].isin(reci_d.keys())]['id']}\n",
    "final_reci_d = reci_d | reci_d_add"
   ]
  },
  {
   "cell_type": "code",
   "execution_count": 173,
   "id": "4bd7b504",
   "metadata": {
    "ExecuteTime": {
     "end_time": "2022-11-13T06:52:28.075984Z",
     "start_time": "2022-11-13T06:52:28.066536Z"
    }
   },
   "outputs": [
    {
     "name": "stdout",
     "output_type": "stream",
     "text": [
      "11848\n"
     ]
    }
   ],
   "source": [
    "print(len(final_reci_d))"
   ]
  },
  {
   "cell_type": "markdown",
   "id": "c92eef42",
   "metadata": {},
   "source": [
    "## Export "
   ]
  },
  {
   "cell_type": "code",
   "execution_count": 174,
   "id": "9ba71225",
   "metadata": {
    "ExecuteTime": {
     "end_time": "2022-11-13T06:54:20.406291Z",
     "start_time": "2022-11-13T06:54:20.391241Z"
    }
   },
   "outputs": [],
   "source": [
    "# export dictionary \n",
    "# with open('data/reciprocity.pkl', 'wb') as f:\n",
    "#     pickle.dump(final_reci_d, f)"
   ]
  },
  {
   "cell_type": "code",
   "execution_count": null,
   "id": "e97f3a92",
   "metadata": {},
   "outputs": [],
   "source": []
  }
 ],
 "metadata": {
  "kernelspec": {
   "display_name": "Python 3 (ipykernel)",
   "language": "python",
   "name": "python3"
  },
  "language_info": {
   "codemirror_mode": {
    "name": "ipython",
    "version": 3
   },
   "file_extension": ".py",
   "mimetype": "text/x-python",
   "name": "python",
   "nbconvert_exporter": "python",
   "pygments_lexer": "ipython3",
   "version": "3.9.13"
  },
  "toc": {
   "base_numbering": 1,
   "nav_menu": {},
   "number_sections": false,
   "sideBar": true,
   "skip_h1_title": false,
   "title_cell": "Table of Contents",
   "title_sidebar": "Contents",
   "toc_cell": false,
   "toc_position": {},
   "toc_section_display": true,
   "toc_window_display": false
  }
 },
 "nbformat": 4,
 "nbformat_minor": 5
}
