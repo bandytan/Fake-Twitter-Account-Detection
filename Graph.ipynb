{
 "cells": [
  {
   "cell_type": "code",
   "execution_count": 105,
   "id": "38193441",
   "metadata": {
    "ExecuteTime": {
     "end_time": "2022-11-12T16:00:15.238432Z",
     "start_time": "2022-11-12T16:00:15.229685Z"
    }
   },
   "outputs": [],
   "source": [
    "import pandas as pd \n",
    "import numpy as np\n",
    "import networkx as nx\n",
    "import re\n",
    "import swifter\n",
    "import matplotlib.pyplot as plt\n",
    "%matplotlib inline"
   ]
  },
  {
   "cell_type": "code",
   "execution_count": 2,
   "id": "e8f594b5",
   "metadata": {
    "ExecuteTime": {
     "end_time": "2022-11-12T13:40:47.771139Z",
     "start_time": "2022-11-12T13:40:09.104615Z"
    }
   },
   "outputs": [
    {
     "name": "stderr",
     "output_type": "stream",
     "text": [
      "/var/folders/dq/33rpc0cx4f54t0vx2cdcgczr0000gn/T/ipykernel_11877/2074397400.py:21: DtypeWarning: Columns (8,11) have mixed types. Specify dtype option on import or set low_memory=False.\n",
      "  df_tweets = pd.read_csv(fn, encoding='ISO-8859-1')\n",
      "/var/folders/dq/33rpc0cx4f54t0vx2cdcgczr0000gn/T/ipykernel_11877/2074397400.py:23: DtypeWarning: Columns (0) have mixed types. Specify dtype option on import or set low_memory=False.\n",
      "  df_tweets = pd.concat([df_tweets, pd.read_csv(fn, encoding='ISO-8859-1') ], axis=0) #user_id\n",
      "/var/folders/dq/33rpc0cx4f54t0vx2cdcgczr0000gn/T/ipykernel_11877/2074397400.py:23: DtypeWarning: Columns (10) have mixed types. Specify dtype option on import or set low_memory=False.\n",
      "  df_tweets = pd.concat([df_tweets, pd.read_csv(fn, encoding='ISO-8859-1') ], axis=0) #user_id\n",
      "/var/folders/dq/33rpc0cx4f54t0vx2cdcgczr0000gn/T/ipykernel_11877/2074397400.py:23: DtypeWarning: Columns (10) have mixed types. Specify dtype option on import or set low_memory=False.\n",
      "  df_tweets = pd.concat([df_tweets, pd.read_csv(fn, encoding='ISO-8859-1') ], axis=0) #user_id\n",
      "/var/folders/dq/33rpc0cx4f54t0vx2cdcgczr0000gn/T/ipykernel_11877/2074397400.py:23: DtypeWarning: Columns (7,10) have mixed types. Specify dtype option on import or set low_memory=False.\n",
      "  df_tweets = pd.concat([df_tweets, pd.read_csv(fn, encoding='ISO-8859-1') ], axis=0) #user_id\n",
      "/var/folders/dq/33rpc0cx4f54t0vx2cdcgczr0000gn/T/ipykernel_11877/2074397400.py:23: DtypeWarning: Columns (8) have mixed types. Specify dtype option on import or set low_memory=False.\n",
      "  df_tweets = pd.concat([df_tweets, pd.read_csv(fn, encoding='ISO-8859-1') ], axis=0) #user_id\n"
     ]
    }
   ],
   "source": [
    "df_users = pd.read_csv(\"data/combined_twitter_data_with_tweets_corpus.csv\") #id\n",
    "\n",
    "# get tweets df\n",
    "filenames_tweets = [\n",
    "    \"data/all tweets 2017/tweets_fake_followers.csv\",\n",
    "    \"data/all tweets 2017/tweets_genuine_accounts.csv\",\n",
    "    \"data/all tweets 2017/tweets_social_spambots_1.csv\",\n",
    "    \"data/all tweets 2017/tweets_social_spambots_2.csv\",\n",
    "    \"data/all tweets 2017/tweets_social_spambots_3.csv\",\n",
    "    \"data/all tweets 2017/tweets_traditional_spambots_1.csv\",\n",
    "\n",
    "    \"data/tweets 2015/tweets_E13.csv\",\n",
    "    \"data/tweets 2015/tweets_FSF.csv\",\n",
    "    \"data/tweets 2015/tweets_INT.csv\",\n",
    "    \"data/tweets 2015/tweets_TFP.csv\",\n",
    "    \"data/tweets 2015/tweets_TWT.csv\"\n",
    "]\n",
    "\n",
    "for i,fn in enumerate(filenames_tweets):\n",
    "    if i == 0:\n",
    "        df_tweets = pd.read_csv(fn, encoding='ISO-8859-1')\n",
    "    else:\n",
    "        df_tweets = pd.concat([df_tweets, pd.read_csv(fn, encoding='ISO-8859-1') ], axis=0) #user_id"
   ]
  },
  {
   "cell_type": "markdown",
   "id": "ef6ed86a",
   "metadata": {},
   "source": [
    "## Build edge list\n",
    "- mentions \n",
    "- following "
   ]
  },
  {
   "cell_type": "code",
   "execution_count": 140,
   "id": "e5c6e670",
   "metadata": {
    "ExecuteTime": {
     "end_time": "2022-11-13T03:20:02.321441Z",
     "start_time": "2022-11-13T03:20:02.312509Z"
    }
   },
   "outputs": [],
   "source": [
    "edges = set()\n",
    "\n",
    "def add_edges(user_id, tweet):\n",
    "    mentioned_users = re.findall(r\"@[a-zA-Z0-9_]{0,15}\", str(tweet))\n",
    "    if mentioned_users:\n",
    "        mentioned_users = list(map(lambda x: x[1:], mentioned_users)) #remove @ in name\n",
    "        for mentioned in mentioned_users: #get the ID from df_users \n",
    "            mentioned_id = df_users[df_users['screen_name'] == mentioned]\n",
    "            if mentioned_id.size > 0:\n",
    "                edges.add((user_id, mentioned_id.loc[:,\"id\"].values[0])) #add edge \n",
    "            else: #mentioned_id not in df_users \n",
    "                continue\n",
    "    else: #no mentions in tweet\n",
    "        return\n",
    "    return"
   ]
  },
  {
   "cell_type": "code",
   "execution_count": 141,
   "id": "7431ae90",
   "metadata": {
    "ExecuteTime": {
     "end_time": "2022-11-13T03:51:16.772523Z",
     "start_time": "2022-11-13T03:20:03.612315Z"
    }
   },
   "outputs": [
    {
     "data": {
      "application/vnd.jupyter.widget-view+json": {
       "model_id": "ea81a2a90f5f49d8b908d45c9b246886",
       "version_major": 2,
       "version_minor": 0
      },
      "text/plain": [
       "Pandas Apply:   0%|          | 0/9465373 [00:00<?, ?it/s]"
      ]
     },
     "metadata": {},
     "output_type": "display_data"
    },
    {
     "data": {
      "text/plain": [
       "0         None\n",
       "1         None\n",
       "2         None\n",
       "3         None\n",
       "4         None\n",
       "          ... \n",
       "114187    None\n",
       "114188    None\n",
       "114189    None\n",
       "114190    None\n",
       "114191    None\n",
       "Length: 9465373, dtype: object"
      ]
     },
     "execution_count": 141,
     "metadata": {},
     "output_type": "execute_result"
    }
   ],
   "source": [
    "df_tweets.swifter.apply(lambda x: add_edges(x['user_id'], x['text']), axis=1)"
   ]
  },
  {
   "cell_type": "markdown",
   "id": "5b8b91bc",
   "metadata": {},
   "source": [
    "## Implement Reciprocity"
   ]
  },
  {
   "cell_type": "code",
   "execution_count": 142,
   "id": "7575140d",
   "metadata": {
    "ExecuteTime": {
     "end_time": "2022-11-13T03:51:54.851985Z",
     "start_time": "2022-11-13T03:51:54.801185Z"
    }
   },
   "outputs": [
    {
     "data": {
      "text/plain": [
       "0.05016648168701443"
      ]
     },
     "execution_count": 142,
     "metadata": {},
     "output_type": "execute_result"
    }
   ],
   "source": [
    "edge_list = list(edges)\n",
    "directed_graph = nx.DiGraph()\n",
    "directed_graph.add_edges_from(edge_list)\n",
    "#plt.figure(figsize=(10,10))\n",
    "#nx.draw_circular(directed_graph, with_labels=True, node_size=1800, alpha=0.6), font_size=20)\n",
    "\n",
    "# Reciprocity (Directed Graph)\n",
    "# The ratio of the number of relations which are reciprocated over the total number of relations in a directed network\n",
    "# real people could have high level of reciprocity in the network \n",
    "nx.algorithms.reciprocity(directed_graph)"
   ]
  },
  {
   "cell_type": "code",
   "execution_count": null,
   "id": "bb2a1fcd",
   "metadata": {},
   "outputs": [],
   "source": []
  }
 ],
 "metadata": {
  "kernelspec": {
   "display_name": "Python 3.9 (bt4012)",
   "language": "python",
   "name": "bt4012"
  },
  "language_info": {
   "codemirror_mode": {
    "name": "ipython",
    "version": 3
   },
   "file_extension": ".py",
   "mimetype": "text/x-python",
   "name": "python",
   "nbconvert_exporter": "python",
   "pygments_lexer": "ipython3",
   "version": "3.10.6"
  },
  "toc": {
   "base_numbering": 1,
   "nav_menu": {},
   "number_sections": false,
   "sideBar": true,
   "skip_h1_title": false,
   "title_cell": "Table of Contents",
   "title_sidebar": "Contents",
   "toc_cell": false,
   "toc_position": {},
   "toc_section_display": true,
   "toc_window_display": false
  }
 },
 "nbformat": 4,
 "nbformat_minor": 5
}
