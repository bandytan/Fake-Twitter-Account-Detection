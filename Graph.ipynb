{
 "cells": [
  {
   "cell_type": "code",
   "execution_count": 105,
   "id": "38193441",
   "metadata": {
    "ExecuteTime": {
     "end_time": "2022-11-12T16:00:15.238432Z",
     "start_time": "2022-11-12T16:00:15.229685Z"
    }
   },
   "outputs": [],
   "source": [
    "import pandas as pd \n",
    "import numpy as np\n",
    "import networkx as nx\n",
    "import re\n",
    "import swifter\n",
    "import matplotlib.pyplot as plt\n",
    "%matplotlib inline"
   ]
  },
  {
   "cell_type": "code",
   "execution_count": 2,
   "id": "e8f594b5",
   "metadata": {
    "ExecuteTime": {
     "end_time": "2022-11-12T13:40:47.771139Z",
     "start_time": "2022-11-12T13:40:09.104615Z"
    }
   },
   "outputs": [
    {
     "name": "stderr",
     "output_type": "stream",
     "text": [
      "/var/folders/dq/33rpc0cx4f54t0vx2cdcgczr0000gn/T/ipykernel_11877/2074397400.py:21: DtypeWarning: Columns (8,11) have mixed types. Specify dtype option on import or set low_memory=False.\n",
      "  df_tweets = pd.read_csv(fn, encoding='ISO-8859-1')\n",
      "/var/folders/dq/33rpc0cx4f54t0vx2cdcgczr0000gn/T/ipykernel_11877/2074397400.py:23: DtypeWarning: Columns (0) have mixed types. Specify dtype option on import or set low_memory=False.\n",
      "  df_tweets = pd.concat([df_tweets, pd.read_csv(fn, encoding='ISO-8859-1') ], axis=0) #user_id\n",
      "/var/folders/dq/33rpc0cx4f54t0vx2cdcgczr0000gn/T/ipykernel_11877/2074397400.py:23: DtypeWarning: Columns (10) have mixed types. Specify dtype option on import or set low_memory=False.\n",
      "  df_tweets = pd.concat([df_tweets, pd.read_csv(fn, encoding='ISO-8859-1') ], axis=0) #user_id\n",
      "/var/folders/dq/33rpc0cx4f54t0vx2cdcgczr0000gn/T/ipykernel_11877/2074397400.py:23: DtypeWarning: Columns (10) have mixed types. Specify dtype option on import or set low_memory=False.\n",
      "  df_tweets = pd.concat([df_tweets, pd.read_csv(fn, encoding='ISO-8859-1') ], axis=0) #user_id\n",
      "/var/folders/dq/33rpc0cx4f54t0vx2cdcgczr0000gn/T/ipykernel_11877/2074397400.py:23: DtypeWarning: Columns (7,10) have mixed types. Specify dtype option on import or set low_memory=False.\n",
      "  df_tweets = pd.concat([df_tweets, pd.read_csv(fn, encoding='ISO-8859-1') ], axis=0) #user_id\n",
      "/var/folders/dq/33rpc0cx4f54t0vx2cdcgczr0000gn/T/ipykernel_11877/2074397400.py:23: DtypeWarning: Columns (8) have mixed types. Specify dtype option on import or set low_memory=False.\n",
      "  df_tweets = pd.concat([df_tweets, pd.read_csv(fn, encoding='ISO-8859-1') ], axis=0) #user_id\n"
     ]
    }
   ],
   "source": [
    "df_users = pd.read_csv(\"data/combined_twitter_data_with_tweets_corpus.csv\") #id\n",
    "\n",
    "# get tweets df\n",
    "filenames_tweets = [\n",
    "    \"data/all tweets 2017/tweets_fake_followers.csv\",\n",
    "    \"data/all tweets 2017/tweets_genuine_accounts.csv\",\n",
    "    \"data/all tweets 2017/tweets_social_spambots_1.csv\",\n",
    "    \"data/all tweets 2017/tweets_social_spambots_2.csv\",\n",
    "    \"data/all tweets 2017/tweets_social_spambots_3.csv\",\n",
    "    \"data/all tweets 2017/tweets_traditional_spambots_1.csv\",\n",
    "\n",
    "    \"data/tweets 2015/tweets_E13.csv\",\n",
    "    \"data/tweets 2015/tweets_FSF.csv\",\n",
    "    \"data/tweets 2015/tweets_INT.csv\",\n",
    "    \"data/tweets 2015/tweets_TFP.csv\",\n",
    "    \"data/tweets 2015/tweets_TWT.csv\"\n",
    "]\n",
    "\n",
    "for i,fn in enumerate(filenames_tweets):\n",
    "    if i == 0:\n",
    "        df_tweets = pd.read_csv(fn, encoding='ISO-8859-1')\n",
    "    else:\n",
    "        df_tweets = pd.concat([df_tweets, pd.read_csv(fn, encoding='ISO-8859-1') ], axis=0) #user_id"
   ]
  },
  {
   "cell_type": "code",
   "execution_count": 95,
   "id": "96be19a3",
   "metadata": {
    "ExecuteTime": {
     "end_time": "2022-11-12T15:24:15.565945Z",
     "start_time": "2022-11-12T15:24:15.553187Z"
    }
   },
   "outputs": [],
   "source": [
    "edges = set()\n",
    "\n",
    "def add_edges(user_id, tweet):\n",
    "    mentioned_users = re.findall(r\"@[a-zA-Z0-9_]{0,15}\", str(tweet))\n",
    "    if mentioned_users:\n",
    "        mentioned_users = list(map(lambda x: x[1:], mentioned_users)) #remove @ in name\n",
    "        for mentioned in mentioned_users: #get the ID from df_users \n",
    "            mentioned_id = df_users[df_users['screen_name'] == mentioned]\n",
    "            if mentioned_id.size > 0:\n",
    "                edges.add((user_id, mentioned_id.loc[:,\"id\"].values[0])) #add edge \n",
    "            else: #mentioned_id not in df_users \n",
    "                continue\n",
    "    else: #no mentions in tweet\n",
    "        return\n",
    "    return"
   ]
  },
  {
   "cell_type": "code",
   "execution_count": 96,
   "id": "c55b8e89",
   "metadata": {
    "ExecuteTime": {
     "end_time": "2022-11-12T15:56:48.464355Z",
     "start_time": "2022-11-12T15:24:16.776802Z"
    }
   },
   "outputs": [
    {
     "data": {
      "application/vnd.jupyter.widget-view+json": {
       "model_id": "9a91f47c709f480bbb08621aacbfa23a",
       "version_major": 2,
       "version_minor": 0
      },
      "text/plain": [
       "Pandas Apply:   0%|          | 0/9465373 [00:00<?, ?it/s]"
      ]
     },
     "metadata": {},
     "output_type": "display_data"
    },
    {
     "data": {
      "text/plain": [
       "0         None\n",
       "1         None\n",
       "2         None\n",
       "3         None\n",
       "4         None\n",
       "          ... \n",
       "114187    None\n",
       "114188    None\n",
       "114189    None\n",
       "114190    None\n",
       "114191    None\n",
       "Length: 9465373, dtype: object"
      ]
     },
     "execution_count": 96,
     "metadata": {},
     "output_type": "execute_result"
    }
   ],
   "source": [
    "df_tweets.swifter.apply(lambda x: add_edges(x['id'], x['text']), axis=1)"
   ]
  },
  {
   "cell_type": "markdown",
   "id": "b5c058f3",
   "metadata": {},
   "source": [
    "## networkx dont support arm architecture? "
   ]
  },
  {
   "cell_type": "code",
   "execution_count": 111,
   "id": "7575140d",
   "metadata": {
    "ExecuteTime": {
     "end_time": "2022-11-12T16:02:47.827518Z",
     "start_time": "2022-11-12T16:02:47.668562Z"
    }
   },
   "outputs": [
    {
     "ename": "TypeError",
     "evalue": "'_AxesStack' object is not callable",
     "output_type": "error",
     "traceback": [
      "\u001b[0;31m---------------------------------------------------------------------------\u001b[0m",
      "\u001b[0;31mTypeError\u001b[0m                                 Traceback (most recent call last)",
      "Input \u001b[0;32mIn [111]\u001b[0m, in \u001b[0;36m<cell line: 5>\u001b[0;34m()\u001b[0m\n\u001b[1;32m      3\u001b[0m directed_graph\u001b[38;5;241m.\u001b[39madd_edges_from(edge_list)\n\u001b[1;32m      4\u001b[0m plt\u001b[38;5;241m.\u001b[39mfigure(figsize\u001b[38;5;241m=\u001b[39m(\u001b[38;5;241m10\u001b[39m,\u001b[38;5;241m10\u001b[39m))\n\u001b[0;32m----> 5\u001b[0m \u001b[43mnx\u001b[49m\u001b[38;5;241;43m.\u001b[39;49m\u001b[43mdraw_circular\u001b[49m\u001b[43m(\u001b[49m\u001b[43mdirected_graph\u001b[49m\u001b[43m,\u001b[49m\u001b[43m \u001b[49m\u001b[43mwith_labels\u001b[49m\u001b[38;5;241;43m=\u001b[39;49m\u001b[38;5;28;43;01mTrue\u001b[39;49;00m\u001b[43m,\u001b[49m\u001b[43m \u001b[49m\u001b[43mnode_size\u001b[49m\u001b[38;5;241;43m=\u001b[39;49m\u001b[38;5;241;43m1800\u001b[39;49m\u001b[43m,\u001b[49m\u001b[43m \u001b[49m\u001b[43malpha\u001b[49m\u001b[38;5;241;43m=\u001b[39;49m\u001b[38;5;241;43m0.6\u001b[39;49m\u001b[43m)\u001b[49m\n",
      "File \u001b[0;32m/opt/homebrew/Caskroom/miniforge/base/envs/bt4012/lib/python3.10/site-packages/networkx/drawing/nx_pylab.py:1218\u001b[0m, in \u001b[0;36mdraw_circular\u001b[0;34m(G, **kwargs)\u001b[0m\n\u001b[1;32m   1187\u001b[0m \u001b[38;5;28;01mdef\u001b[39;00m \u001b[38;5;21mdraw_circular\u001b[39m(G, \u001b[38;5;241m*\u001b[39m\u001b[38;5;241m*\u001b[39mkwargs):\n\u001b[1;32m   1188\u001b[0m     \u001b[38;5;124;03m\"\"\"Draw the graph `G` with a circular layout.\u001b[39;00m\n\u001b[1;32m   1189\u001b[0m \n\u001b[1;32m   1190\u001b[0m \u001b[38;5;124;03m    This is a convenience function equivalent to::\u001b[39;00m\n\u001b[0;32m   (...)\u001b[0m\n\u001b[1;32m   1216\u001b[0m \u001b[38;5;124;03m    :func:`~networkx.drawing.layout.circular_layout`\u001b[39;00m\n\u001b[1;32m   1217\u001b[0m \u001b[38;5;124;03m    \"\"\"\u001b[39;00m\n\u001b[0;32m-> 1218\u001b[0m     \u001b[43mdraw\u001b[49m\u001b[43m(\u001b[49m\u001b[43mG\u001b[49m\u001b[43m,\u001b[49m\u001b[43m \u001b[49m\u001b[43mcircular_layout\u001b[49m\u001b[43m(\u001b[49m\u001b[43mG\u001b[49m\u001b[43m)\u001b[49m\u001b[43m,\u001b[49m\u001b[43m \u001b[49m\u001b[38;5;241;43m*\u001b[39;49m\u001b[38;5;241;43m*\u001b[39;49m\u001b[43mkwargs\u001b[49m\u001b[43m)\u001b[49m\n",
      "File \u001b[0;32m/opt/homebrew/Caskroom/miniforge/base/envs/bt4012/lib/python3.10/site-packages/networkx/drawing/nx_pylab.py:113\u001b[0m, in \u001b[0;36mdraw\u001b[0;34m(G, pos, ax, **kwds)\u001b[0m\n\u001b[1;32m    111\u001b[0m cf\u001b[38;5;241m.\u001b[39mset_facecolor(\u001b[38;5;124m\"\u001b[39m\u001b[38;5;124mw\u001b[39m\u001b[38;5;124m\"\u001b[39m)\n\u001b[1;32m    112\u001b[0m \u001b[38;5;28;01mif\u001b[39;00m ax \u001b[38;5;129;01mis\u001b[39;00m \u001b[38;5;28;01mNone\u001b[39;00m:\n\u001b[0;32m--> 113\u001b[0m     \u001b[38;5;28;01mif\u001b[39;00m \u001b[43mcf\u001b[49m\u001b[38;5;241;43m.\u001b[39;49m\u001b[43m_axstack\u001b[49m\u001b[43m(\u001b[49m\u001b[43m)\u001b[49m \u001b[38;5;129;01mis\u001b[39;00m \u001b[38;5;28;01mNone\u001b[39;00m:\n\u001b[1;32m    114\u001b[0m         ax \u001b[38;5;241m=\u001b[39m cf\u001b[38;5;241m.\u001b[39madd_axes((\u001b[38;5;241m0\u001b[39m, \u001b[38;5;241m0\u001b[39m, \u001b[38;5;241m1\u001b[39m, \u001b[38;5;241m1\u001b[39m))\n\u001b[1;32m    115\u001b[0m     \u001b[38;5;28;01melse\u001b[39;00m:\n",
      "\u001b[0;31mTypeError\u001b[0m: '_AxesStack' object is not callable"
     ]
    },
    {
     "data": {
      "text/plain": [
       "<Figure size 1000x1000 with 0 Axes>"
      ]
     },
     "metadata": {},
     "output_type": "display_data"
    }
   ],
   "source": [
    "edge_list = list(edges)\n",
    "directed_graph = nx.DiGraph()\n",
    "directed_graph.add_edges_from(edge_list)\n",
    "plt.figure(figsize=(10,10))\n",
    "nx.draw_circular(directed_graph, with_labels=True, node_size=1800, alpha=0.6), font_size=20)"
   ]
  },
  {
   "cell_type": "code",
   "execution_count": null,
   "id": "68613019",
   "metadata": {},
   "outputs": [],
   "source": [
    "# Reciprocity (Directed Graph)\n",
    "# The ratio of the number of relations which are reciprocated over the total number of relations in a directed network\n",
    "\n",
    "# This could be a way to guage whether bot or not \n",
    "# real people could have high level of reciprocity in the network "
   ]
  },
  {
   "cell_type": "code",
   "execution_count": 1,
   "id": "f504b1bc",
   "metadata": {
    "ExecuteTime": {
     "end_time": "2022-11-12T09:20:12.754608Z",
     "start_time": "2022-11-12T09:20:12.746926Z"
    }
   },
   "outputs": [],
   "source": [
    "# build the social network graph \n",
    "# unweighted directed graph, nodes are users, there exists an edge if user mentions the other user \n",
    "\n"
   ]
  },
  {
   "cell_type": "code",
   "execution_count": null,
   "id": "7bb4ac0b",
   "metadata": {},
   "outputs": [],
   "source": []
  }
 ],
 "metadata": {
  "kernelspec": {
   "display_name": "Python 3.9 (bt4012)",
   "language": "python",
   "name": "bt4012"
  },
  "language_info": {
   "codemirror_mode": {
    "name": "ipython",
    "version": 3
   },
   "file_extension": ".py",
   "mimetype": "text/x-python",
   "name": "python",
   "nbconvert_exporter": "python",
   "pygments_lexer": "ipython3",
   "version": "3.10.6"
  },
  "toc": {
   "base_numbering": 1,
   "nav_menu": {},
   "number_sections": false,
   "sideBar": true,
   "skip_h1_title": false,
   "title_cell": "Table of Contents",
   "title_sidebar": "Contents",
   "toc_cell": false,
   "toc_position": {},
   "toc_section_display": true,
   "toc_window_display": false
  }
 },
 "nbformat": 4,
 "nbformat_minor": 5
}
