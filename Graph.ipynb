{
 "cells": [
  {
   "cell_type": "code",
   "execution_count": 2,
   "id": "bc658875",
   "metadata": {
    "ExecuteTime": {
     "end_time": "2022-11-12T09:20:29.327172Z",
     "start_time": "2022-11-12T09:20:27.857768Z"
    }
   },
   "outputs": [],
   "source": [
    "import pandas as pd \n",
    "import numpy as np"
   ]
  },
  {
   "cell_type": "code",
   "execution_count": null,
   "id": "8751a74f",
   "metadata": {
    "ExecuteTime": {
     "start_time": "2022-11-12T09:25:05.111Z"
    }
   },
   "outputs": [],
   "source": [
    "df_users = pd.read_csv(\"data/combined_twitter_data_with_tweets_corpus.csv\")\n",
    "\n",
    "# get tweets df\n",
    "#base = \"/Users/ivankoh/Library/CloudStorage/OneDrive-NationalUniversityofSingapore/1D/NUS Y3S1/BT4012/\"\n",
    "#base = '/Users/wenyin/Desktop/BT4012/'\n",
    "filenames_tweets = [\n",
    "    \"data/all tweets 2017/tweets_fake_followers.csv\",\n",
    "    \"data/all tweets 2017/tweets_genuine_accounts.csv\",\n",
    "    \"data/all tweets 2017/tweets_social_spambots_1.csv\",\n",
    "    \"data/all tweets 2017/tweets_social_spambots_2.csv\",\n",
    "    \"data/all tweets 2017/tweets_social_spambots_3.csv\",\n",
    "    \"data/all tweets 2017/tweets_traditional_spambots_1.csv\",\n",
    "\n",
    "    \"data/tweets 2015/tweets_E13.csv\",\n",
    "    \"data/tweets 2015/tweets_FSF.csv\",\n",
    "    \"data/tweets 2015/tweets_INT.csv\",\n",
    "    \"data/tweets 2015/tweets_TFP.csv\",\n",
    "    \"data/tweets 2015/tweets_TWT.csv\"\n",
    "]\n",
    "#filenames_tweets = map(lambda x: base+x, filenames_tweets)\n",
    "\n",
    "for i,fn in enumerate(filenames_tweets):\n",
    "    if i == 0:\n",
    "        df_tweets = pd.read_csv(fn, encoding='ISO-8859-1')\n",
    "    else:\n",
    "        df_tweets = pd.concat([df_tweets, pd.read_csv(fn, encoding='ISO-8859-1') ], axis=0)"
   ]
  },
  {
   "cell_type": "code",
   "execution_count": null,
   "id": "16cf76b7",
   "metadata": {},
   "outputs": [],
   "source": [
    "# Reciprocity (Directed Graph)\n",
    "# The ratio of the number of relations which are reciprocated over the total number of relations in a directed network\n",
    "\n",
    "# This could be a way to guage whether bot or not \n",
    "# real people could have high level of reciprocity in the network "
   ]
  },
  {
   "cell_type": "code",
   "execution_count": 1,
   "id": "5d7f3a3b",
   "metadata": {
    "ExecuteTime": {
     "end_time": "2022-11-12T09:20:12.754608Z",
     "start_time": "2022-11-12T09:20:12.746926Z"
    }
   },
   "outputs": [],
   "source": [
    "# build the social network graph \n",
    "# unweighted directed graph, nodes are users, there exists an edge if user mentions the other user \n",
    "\n"
   ]
  },
  {
   "cell_type": "code",
   "execution_count": null,
   "id": "9c2248b2",
   "metadata": {},
   "outputs": [],
   "source": []
  }
 ],
 "metadata": {
  "kernelspec": {
   "display_name": "Python 3.9 (bt4012)",
   "language": "python",
   "name": "bt4012"
  },
  "language_info": {
   "codemirror_mode": {
    "name": "ipython",
    "version": 3
   },
   "file_extension": ".py",
   "mimetype": "text/x-python",
   "name": "python",
   "nbconvert_exporter": "python",
   "pygments_lexer": "ipython3",
   "version": "3.9.13"
  },
  "toc": {
   "base_numbering": 1,
   "nav_menu": {},
   "number_sections": false,
   "sideBar": true,
   "skip_h1_title": false,
   "title_cell": "Table of Contents",
   "title_sidebar": "Contents",
   "toc_cell": false,
   "toc_position": {},
   "toc_section_display": true,
   "toc_window_display": false
  }
 },
 "nbformat": 4,
 "nbformat_minor": 5
}
