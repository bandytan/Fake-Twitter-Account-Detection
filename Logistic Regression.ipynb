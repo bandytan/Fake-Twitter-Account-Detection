{
 "cells": [
  {
   "cell_type": "code",
   "execution_count": 20,
   "id": "23869af1",
   "metadata": {},
   "outputs": [],
   "source": [
    "import pandas as pd \n",
    "import numpy as np\n",
    "import seaborn as sns\n",
    "import matplotlib.pyplot as plt\n",
    "%matplotlib inline\n",
    "from sklearn.linear_model import LogisticRegression\n",
    "from sklearn.model_selection import RepeatedStratifiedKFold\n",
    "from sklearn.model_selection import GridSearchCV\n",
    "from sklearn import metrics\n",
    "from sklearn.metrics import classification_report, confusion_matrix, roc_auc_score\n",
    "from sklearn.inspection import permutation_importance\n",
    "import glob\n",
    "import os\n",
    "import time"
   ]
  },
  {
   "cell_type": "code",
   "execution_count": 2,
   "id": "a3e00a6f",
   "metadata": {},
   "outputs": [],
   "source": [
    "pd.set_option('mode.use_inf_as_na', True)"
   ]
  },
  {
   "cell_type": "code",
   "execution_count": 84,
   "id": "f87fb3ec",
   "metadata": {},
   "outputs": [
    {
     "name": "stdout",
     "output_type": "stream",
     "text": [
      "(9445, 235)\n",
      "(1667, 235)\n"
     ]
    }
   ],
   "source": [
    "train_df = pd.read_csv(\"data/twitter_data_train_multiclass.csv\")\n",
    "test_df = pd.read_csv(\"data/twitter_data_test_multiclass.csv\")\n",
    "\n",
    "print(train_df.shape)\n",
    "print(test_df.shape)"
   ]
  },
  {
   "cell_type": "code",
   "execution_count": 85,
   "id": "0d4702e4",
   "metadata": {},
   "outputs": [
    {
     "name": "stdout",
     "output_type": "stream",
     "text": [
      "(9445, 222)\n",
      "(9445,)\n",
      "(1667, 222)\n",
      "(1667,)\n"
     ]
    }
   ],
   "source": [
    "to_drop = [\n",
    "    'account_type_multi',\n",
    "    'account_type',\n",
    "    'id', \n",
    "    'name', \n",
    "    'screen_name',\n",
    "    'profile_image_url',\n",
    "    'protected',\n",
    "    'verified',\n",
    "    'description',\n",
    "    'description_processed',\n",
    "    'tweets_list',\n",
    "    'tweets_list_processed',\n",
    "    'url'\n",
    "    ]\n",
    "\n",
    "X_train, y_train = train_df.drop(to_drop, axis=1), train_df['account_type_multi']\n",
    "X_test, y_test = test_df.drop(to_drop, axis=1), test_df['account_type_multi']\n",
    "\n"
   ]
  },
  {
   "cell_type": "code",
   "execution_count": 74,
   "id": "a316b8b8",
   "metadata": {},
   "outputs": [
    {
     "data": {
      "text/plain": [
       "array([dtype('int64'), dtype('float64')], dtype=object)"
      ]
     },
     "execution_count": 74,
     "metadata": {},
     "output_type": "execute_result"
    }
   ],
   "source": [
    "X_train.dtypes.unique()"
   ]
  },
  {
   "cell_type": "code",
   "execution_count": 92,
   "id": "eccd724b",
   "metadata": {},
   "outputs": [
    {
     "name": "stdout",
     "output_type": "stream",
     "text": [
      "(9445, 222)\n",
      "(9445,)\n",
      "(1667, 222)\n",
      "(1667,)\n"
     ]
    }
   ],
   "source": [
    "print(X_train.shape)\n",
    "print(y_train.shape)\n",
    "print(X_test.shape)\n",
    "print(y_test.shape)"
   ]
  },
  {
   "cell_type": "markdown",
   "id": "e9c02dfc",
   "metadata": {},
   "source": [
    "#### Logistic Regression model Training and Hyper parameters tuning"
   ]
  },
  {
   "cell_type": "code",
   "execution_count": 87,
   "id": "ec783dc0",
   "metadata": {},
   "outputs": [
    {
     "name": "stdout",
     "output_type": "stream",
     "text": [
      "Train Set Accuracy Score:  0.8344097406034939\n",
      "Train Set Confusion Matrix \n",
      " [[1812   65   49  388   29    0]\n",
      " [  10 2410    0  130  151    0]\n",
      " [  22    6  107  160    5    0]\n",
      " [  27  221   23 3407   28    0]\n",
      " [   1  135    8   27  145    0]\n",
      " [   0    0    0   79    0    0]]\n",
      "Train Set Classification Report \n",
      "               precision    recall  f1-score   support\n",
      "\n",
      "           0       0.97      0.77      0.86      2343\n",
      "           1       0.85      0.89      0.87      2701\n",
      "           2       0.57      0.36      0.44       300\n",
      "           3       0.81      0.92      0.86      3706\n",
      "           4       0.41      0.46      0.43       316\n",
      "           5       0.00      0.00      0.00        79\n",
      "\n",
      "    accuracy                           0.83      9445\n",
      "   macro avg       0.60      0.57      0.58      9445\n",
      "weighted avg       0.83      0.83      0.83      9445\n",
      "\n",
      "Test Set Accuracy Score:  0.728254349130174\n",
      "Test Set Confusion Matrix \n",
      " [[329  13  36  22  13   0]\n",
      " [  3 319   1   4 136   0]\n",
      " [ 12   0  39   7   1   0]\n",
      " [  7 134  22 482  18   0]\n",
      " [  1   2   2   1  45   0]\n",
      " [  0   0   0  18   0   0]]\n",
      "Test Set Classification Report \n",
      "               precision    recall  f1-score   support\n",
      "\n",
      "           0       0.93      0.80      0.86       413\n",
      "           1       0.68      0.69      0.69       463\n",
      "           2       0.39      0.66      0.49        59\n",
      "           3       0.90      0.73      0.81       663\n",
      "           4       0.21      0.88      0.34        51\n",
      "           5       0.00      0.00      0.00        18\n",
      "\n",
      "    accuracy                           0.73      1667\n",
      "   macro avg       0.52      0.63      0.53      1667\n",
      "weighted avg       0.80      0.73      0.75      1667\n",
      "\n"
     ]
    },
    {
     "name": "stderr",
     "output_type": "stream",
     "text": [
      "C:\\Users\\radellng\\anaconda3\\lib\\site-packages\\sklearn\\linear_model\\_logistic.py:763: ConvergenceWarning: lbfgs failed to converge (status=1):\n",
      "STOP: TOTAL NO. of ITERATIONS REACHED LIMIT.\n",
      "\n",
      "Increase the number of iterations (max_iter) or scale the data as shown in:\n",
      "    https://scikit-learn.org/stable/modules/preprocessing.html\n",
      "Please also refer to the documentation for alternative solver options:\n",
      "    https://scikit-learn.org/stable/modules/linear_model.html#logistic-regression\n",
      "  n_iter_i = _check_optimize_result(\n",
      "C:\\Users\\radellng\\anaconda3\\lib\\site-packages\\sklearn\\metrics\\_classification.py:1248: UndefinedMetricWarning: Precision and F-score are ill-defined and being set to 0.0 in labels with no predicted samples. Use `zero_division` parameter to control this behavior.\n",
      "  _warn_prf(average, modifier, msg_start, len(result))\n",
      "C:\\Users\\radellng\\anaconda3\\lib\\site-packages\\sklearn\\metrics\\_classification.py:1248: UndefinedMetricWarning: Precision and F-score are ill-defined and being set to 0.0 in labels with no predicted samples. Use `zero_division` parameter to control this behavior.\n",
      "  _warn_prf(average, modifier, msg_start, len(result))\n",
      "C:\\Users\\radellng\\anaconda3\\lib\\site-packages\\sklearn\\metrics\\_classification.py:1248: UndefinedMetricWarning: Precision and F-score are ill-defined and being set to 0.0 in labels with no predicted samples. Use `zero_division` parameter to control this behavior.\n",
      "  _warn_prf(average, modifier, msg_start, len(result))\n",
      "C:\\Users\\radellng\\anaconda3\\lib\\site-packages\\sklearn\\metrics\\_classification.py:1248: UndefinedMetricWarning: Precision and F-score are ill-defined and being set to 0.0 in labels with no predicted samples. Use `zero_division` parameter to control this behavior.\n",
      "  _warn_prf(average, modifier, msg_start, len(result))\n",
      "C:\\Users\\radellng\\anaconda3\\lib\\site-packages\\sklearn\\metrics\\_classification.py:1248: UndefinedMetricWarning: Precision and F-score are ill-defined and being set to 0.0 in labels with no predicted samples. Use `zero_division` parameter to control this behavior.\n",
      "  _warn_prf(average, modifier, msg_start, len(result))\n",
      "C:\\Users\\radellng\\anaconda3\\lib\\site-packages\\sklearn\\metrics\\_classification.py:1248: UndefinedMetricWarning: Precision and F-score are ill-defined and being set to 0.0 in labels with no predicted samples. Use `zero_division` parameter to control this behavior.\n",
      "  _warn_prf(average, modifier, msg_start, len(result))\n"
     ]
    }
   ],
   "source": [
    "# uses lbfgs solver as default\n",
    "LRModel = LogisticRegression(multi_class = 'multinomial')\n",
    "LRModel.fit(X_train, y_train)\n",
    "# Train set\n",
    "LRModel_train_score = LRModel.score(X_train, y_train)\n",
    "print('Train Set Accuracy Score: ', LRModel_train_score)\n",
    "pred = LRModel.predict(X_train)\n",
    "print(\"Train Set Confusion Matrix \\n\", confusion_matrix(y_train, pred))\n",
    "print(\"Train Set Classification Report \\n\",classification_report(y_train, pred))\n",
    "\n",
    "#Test Set\n",
    "LRModel_test_score = LRModel.score(X_test, y_test)\n",
    "print('Test Set Accuracy Score: ', LRModel_test_score)\n",
    "test_pred = LRModel.predict(X_test)\n",
    "print(\"Test Set Confusion Matrix \\n\", confusion_matrix(y_test, test_pred))\n",
    "print(\"Test Set Classification Report \\n\",classification_report(y_test, test_pred))"
   ]
  },
  {
   "cell_type": "code",
   "execution_count": 6,
   "id": "03e8af85",
   "metadata": {},
   "outputs": [
    {
     "name": "stdout",
     "output_type": "stream",
     "text": [
      "Best: 0.982107 using {'C': 1.0, 'penalty': 'l1', 'solver': 'liblinear'}\n",
      "0.975613 (0.004766) with: {'C': 0.001, 'penalty': 'none', 'solver': 'newton-cg'}\n",
      "0.911064 (0.007096) with: {'C': 0.001, 'penalty': 'none', 'solver': 'lbfgs'}\n",
      "0.000000 (0.000000) with: {'C': 0.001, 'penalty': 'none', 'solver': 'liblinear'}\n",
      "0.704080 (0.070334) with: {'C': 0.001, 'penalty': 'none', 'solver': 'sag'}\n",
      "0.685834 (0.071493) with: {'C': 0.001, 'penalty': 'none', 'solver': 'saga'}\n",
      "0.000000 (0.000000) with: {'C': 0.001, 'penalty': 'l1', 'solver': 'newton-cg'}\n",
      "0.000000 (0.000000) with: {'C': 0.001, 'penalty': 'l1', 'solver': 'lbfgs'}\n",
      "0.913605 (0.006372) with: {'C': 0.001, 'penalty': 'l1', 'solver': 'liblinear'}\n",
      "0.000000 (0.000000) with: {'C': 0.001, 'penalty': 'l1', 'solver': 'sag'}\n",
      "0.685870 (0.071486) with: {'C': 0.001, 'penalty': 'l1', 'solver': 'saga'}\n",
      "0.939827 (0.006217) with: {'C': 0.001, 'penalty': 'l2', 'solver': 'newton-cg'}\n",
      "0.910922 (0.006754) with: {'C': 0.001, 'penalty': 'l2', 'solver': 'lbfgs'}\n",
      "0.913851 (0.008382) with: {'C': 0.001, 'penalty': 'l2', 'solver': 'liblinear'}\n",
      "0.703974 (0.070369) with: {'C': 0.001, 'penalty': 'l2', 'solver': 'sag'}\n",
      "0.685834 (0.071498) with: {'C': 0.001, 'penalty': 'l2', 'solver': 'saga'}\n",
      "0.000000 (0.000000) with: {'C': 0.001, 'penalty': 'elasticnet', 'solver': 'newton-cg'}\n",
      "0.000000 (0.000000) with: {'C': 0.001, 'penalty': 'elasticnet', 'solver': 'lbfgs'}\n",
      "0.000000 (0.000000) with: {'C': 0.001, 'penalty': 'elasticnet', 'solver': 'liblinear'}\n",
      "0.000000 (0.000000) with: {'C': 0.001, 'penalty': 'elasticnet', 'solver': 'sag'}\n",
      "0.000000 (0.000000) with: {'C': 0.001, 'penalty': 'elasticnet', 'solver': 'saga'}\n",
      "0.975613 (0.004766) with: {'C': 0.01, 'penalty': 'none', 'solver': 'newton-cg'}\n",
      "0.911064 (0.007096) with: {'C': 0.01, 'penalty': 'none', 'solver': 'lbfgs'}\n",
      "0.000000 (0.000000) with: {'C': 0.01, 'penalty': 'none', 'solver': 'liblinear'}\n",
      "0.703974 (0.070498) with: {'C': 0.01, 'penalty': 'none', 'solver': 'sag'}\n",
      "0.685799 (0.071505) with: {'C': 0.01, 'penalty': 'none', 'solver': 'saga'}\n",
      "0.000000 (0.000000) with: {'C': 0.01, 'penalty': 'l1', 'solver': 'newton-cg'}\n",
      "0.000000 (0.000000) with: {'C': 0.01, 'penalty': 'l1', 'solver': 'lbfgs'}\n",
      "0.941732 (0.006411) with: {'C': 0.01, 'penalty': 'l1', 'solver': 'liblinear'}\n",
      "0.000000 (0.000000) with: {'C': 0.01, 'penalty': 'l1', 'solver': 'sag'}\n",
      "0.685870 (0.071481) with: {'C': 0.01, 'penalty': 'l1', 'solver': 'saga'}\n",
      "0.954579 (0.004837) with: {'C': 0.01, 'penalty': 'l2', 'solver': 'newton-cg'}\n",
      "0.911205 (0.006636) with: {'C': 0.01, 'penalty': 'l2', 'solver': 'lbfgs'}\n",
      "0.914203 (0.009827) with: {'C': 0.01, 'penalty': 'l2', 'solver': 'liblinear'}\n",
      "0.703833 (0.070390) with: {'C': 0.01, 'penalty': 'l2', 'solver': 'sag'}\n",
      "0.685870 (0.071602) with: {'C': 0.01, 'penalty': 'l2', 'solver': 'saga'}\n",
      "0.000000 (0.000000) with: {'C': 0.01, 'penalty': 'elasticnet', 'solver': 'newton-cg'}\n",
      "0.000000 (0.000000) with: {'C': 0.01, 'penalty': 'elasticnet', 'solver': 'lbfgs'}\n",
      "0.000000 (0.000000) with: {'C': 0.01, 'penalty': 'elasticnet', 'solver': 'liblinear'}\n",
      "0.000000 (0.000000) with: {'C': 0.01, 'penalty': 'elasticnet', 'solver': 'sag'}\n",
      "0.000000 (0.000000) with: {'C': 0.01, 'penalty': 'elasticnet', 'solver': 'saga'}\n",
      "0.975613 (0.004766) with: {'C': 0.1, 'penalty': 'none', 'solver': 'newton-cg'}\n",
      "0.911064 (0.007096) with: {'C': 0.1, 'penalty': 'none', 'solver': 'lbfgs'}\n",
      "0.000000 (0.000000) with: {'C': 0.1, 'penalty': 'none', 'solver': 'liblinear'}\n",
      "0.703939 (0.070407) with: {'C': 0.1, 'penalty': 'none', 'solver': 'sag'}\n",
      "0.685834 (0.071493) with: {'C': 0.1, 'penalty': 'none', 'solver': 'saga'}\n",
      "0.000000 (0.000000) with: {'C': 0.1, 'penalty': 'l1', 'solver': 'newton-cg'}\n",
      "0.000000 (0.000000) with: {'C': 0.1, 'penalty': 'l1', 'solver': 'lbfgs'}\n",
      "0.961779 (0.005073) with: {'C': 0.1, 'penalty': 'l1', 'solver': 'liblinear'}\n",
      "0.000000 (0.000000) with: {'C': 0.1, 'penalty': 'l1', 'solver': 'sag'}\n",
      "0.685834 (0.071493) with: {'C': 0.1, 'penalty': 'l1', 'solver': 'saga'}\n",
      "0.967002 (0.005100) with: {'C': 0.1, 'penalty': 'l2', 'solver': 'newton-cg'}\n",
      "0.911416 (0.006939) with: {'C': 0.1, 'penalty': 'l2', 'solver': 'lbfgs'}\n",
      "0.915263 (0.008998) with: {'C': 0.1, 'penalty': 'l2', 'solver': 'liblinear'}\n",
      "0.703903 (0.070387) with: {'C': 0.1, 'penalty': 'l2', 'solver': 'sag'}\n",
      "0.685834 (0.071493) with: {'C': 0.1, 'penalty': 'l2', 'solver': 'saga'}\n",
      "0.000000 (0.000000) with: {'C': 0.1, 'penalty': 'elasticnet', 'solver': 'newton-cg'}\n",
      "0.000000 (0.000000) with: {'C': 0.1, 'penalty': 'elasticnet', 'solver': 'lbfgs'}\n",
      "0.000000 (0.000000) with: {'C': 0.1, 'penalty': 'elasticnet', 'solver': 'liblinear'}\n",
      "0.000000 (0.000000) with: {'C': 0.1, 'penalty': 'elasticnet', 'solver': 'sag'}\n",
      "0.000000 (0.000000) with: {'C': 0.1, 'penalty': 'elasticnet', 'solver': 'saga'}\n",
      "0.975613 (0.004766) with: {'C': 1.0, 'penalty': 'none', 'solver': 'newton-cg'}\n",
      "0.911064 (0.007096) with: {'C': 1.0, 'penalty': 'none', 'solver': 'lbfgs'}\n",
      "0.000000 (0.000000) with: {'C': 1.0, 'penalty': 'none', 'solver': 'liblinear'}\n",
      "0.704009 (0.070375) with: {'C': 1.0, 'penalty': 'none', 'solver': 'sag'}\n",
      "0.685799 (0.071505) with: {'C': 1.0, 'penalty': 'none', 'solver': 'saga'}\n",
      "0.000000 (0.000000) with: {'C': 1.0, 'penalty': 'l1', 'solver': 'newton-cg'}\n",
      "0.000000 (0.000000) with: {'C': 1.0, 'penalty': 'l1', 'solver': 'lbfgs'}\n",
      "0.982107 (0.003463) with: {'C': 1.0, 'penalty': 'l1', 'solver': 'liblinear'}\n",
      "0.000000 (0.000000) with: {'C': 1.0, 'penalty': 'l1', 'solver': 'sag'}\n",
      "0.685834 (0.071493) with: {'C': 1.0, 'penalty': 'l1', 'solver': 'saga'}\n",
      "0.974837 (0.005414) with: {'C': 1.0, 'penalty': 'l2', 'solver': 'newton-cg'}\n",
      "0.911664 (0.007093) with: {'C': 1.0, 'penalty': 'l2', 'solver': 'lbfgs'}\n",
      "0.915192 (0.010472) with: {'C': 1.0, 'penalty': 'l2', 'solver': 'liblinear'}\n",
      "0.704044 (0.070332) with: {'C': 1.0, 'penalty': 'l2', 'solver': 'sag'}\n",
      "0.685799 (0.071505) with: {'C': 1.0, 'penalty': 'l2', 'solver': 'saga'}\n",
      "0.000000 (0.000000) with: {'C': 1.0, 'penalty': 'elasticnet', 'solver': 'newton-cg'}\n",
      "0.000000 (0.000000) with: {'C': 1.0, 'penalty': 'elasticnet', 'solver': 'lbfgs'}\n",
      "0.000000 (0.000000) with: {'C': 1.0, 'penalty': 'elasticnet', 'solver': 'liblinear'}\n",
      "0.000000 (0.000000) with: {'C': 1.0, 'penalty': 'elasticnet', 'solver': 'sag'}\n",
      "0.000000 (0.000000) with: {'C': 1.0, 'penalty': 'elasticnet', 'solver': 'saga'}\n",
      "0.975613 (0.004766) with: {'C': 10.0, 'penalty': 'none', 'solver': 'newton-cg'}\n",
      "0.911064 (0.007096) with: {'C': 10.0, 'penalty': 'none', 'solver': 'lbfgs'}\n",
      "0.000000 (0.000000) with: {'C': 10.0, 'penalty': 'none', 'solver': 'liblinear'}\n",
      "0.703974 (0.070393) with: {'C': 10.0, 'penalty': 'none', 'solver': 'sag'}\n",
      "0.685870 (0.071602) with: {'C': 10.0, 'penalty': 'none', 'solver': 'saga'}\n",
      "0.000000 (0.000000) with: {'C': 10.0, 'penalty': 'l1', 'solver': 'newton-cg'}\n",
      "0.000000 (0.000000) with: {'C': 10.0, 'penalty': 'l1', 'solver': 'lbfgs'}\n",
      "0.979672 (0.004284) with: {'C': 10.0, 'penalty': 'l1', 'solver': 'liblinear'}\n",
      "0.000000 (0.000000) with: {'C': 10.0, 'penalty': 'l1', 'solver': 'sag'}\n",
      "0.685834 (0.071493) with: {'C': 10.0, 'penalty': 'l1', 'solver': 'saga'}\n",
      "0.975860 (0.005191) with: {'C': 10.0, 'penalty': 'l2', 'solver': 'newton-cg'}\n",
      "0.911311 (0.006705) with: {'C': 10.0, 'penalty': 'l2', 'solver': 'lbfgs'}\n",
      "0.916497 (0.010876) with: {'C': 10.0, 'penalty': 'l2', 'solver': 'liblinear'}\n",
      "0.703974 (0.070387) with: {'C': 10.0, 'penalty': 'l2', 'solver': 'sag'}\n",
      "0.685870 (0.071486) with: {'C': 10.0, 'penalty': 'l2', 'solver': 'saga'}\n",
      "0.000000 (0.000000) with: {'C': 10.0, 'penalty': 'elasticnet', 'solver': 'newton-cg'}\n",
      "0.000000 (0.000000) with: {'C': 10.0, 'penalty': 'elasticnet', 'solver': 'lbfgs'}\n",
      "0.000000 (0.000000) with: {'C': 10.0, 'penalty': 'elasticnet', 'solver': 'liblinear'}\n",
      "0.000000 (0.000000) with: {'C': 10.0, 'penalty': 'elasticnet', 'solver': 'sag'}\n",
      "0.000000 (0.000000) with: {'C': 10.0, 'penalty': 'elasticnet', 'solver': 'saga'}\n",
      "0.975613 (0.004766) with: {'C': 100.0, 'penalty': 'none', 'solver': 'newton-cg'}\n",
      "0.911064 (0.007096) with: {'C': 100.0, 'penalty': 'none', 'solver': 'lbfgs'}\n",
      "0.000000 (0.000000) with: {'C': 100.0, 'penalty': 'none', 'solver': 'liblinear'}\n",
      "0.703974 (0.070379) with: {'C': 100.0, 'penalty': 'none', 'solver': 'sag'}\n",
      "0.685834 (0.071493) with: {'C': 100.0, 'penalty': 'none', 'solver': 'saga'}\n",
      "0.000000 (0.000000) with: {'C': 100.0, 'penalty': 'l1', 'solver': 'newton-cg'}\n",
      "0.000000 (0.000000) with: {'C': 100.0, 'penalty': 'l1', 'solver': 'lbfgs'}\n",
      "0.978719 (0.004561) with: {'C': 100.0, 'penalty': 'l1', 'solver': 'liblinear'}\n",
      "0.000000 (0.000000) with: {'C': 100.0, 'penalty': 'l1', 'solver': 'sag'}\n",
      "0.685799 (0.071505) with: {'C': 100.0, 'penalty': 'l1', 'solver': 'saga'}\n",
      "0.975260 (0.006773) with: {'C': 100.0, 'penalty': 'l2', 'solver': 'newton-cg'}\n",
      "0.911381 (0.007015) with: {'C': 100.0, 'penalty': 'l2', 'solver': 'lbfgs'}\n",
      "0.915545 (0.007883) with: {'C': 100.0, 'penalty': 'l2', 'solver': 'liblinear'}\n",
      "0.703868 (0.070397) with: {'C': 100.0, 'penalty': 'l2', 'solver': 'sag'}\n",
      "0.685834 (0.071493) with: {'C': 100.0, 'penalty': 'l2', 'solver': 'saga'}\n",
      "0.000000 (0.000000) with: {'C': 100.0, 'penalty': 'elasticnet', 'solver': 'newton-cg'}\n",
      "0.000000 (0.000000) with: {'C': 100.0, 'penalty': 'elasticnet', 'solver': 'lbfgs'}\n",
      "0.000000 (0.000000) with: {'C': 100.0, 'penalty': 'elasticnet', 'solver': 'liblinear'}\n",
      "0.000000 (0.000000) with: {'C': 100.0, 'penalty': 'elasticnet', 'solver': 'sag'}\n",
      "0.000000 (0.000000) with: {'C': 100.0, 'penalty': 'elasticnet', 'solver': 'saga'}\n",
      "0.975613 (0.004766) with: {'C': 1000.0, 'penalty': 'none', 'solver': 'newton-cg'}\n",
      "0.911064 (0.007096) with: {'C': 1000.0, 'penalty': 'none', 'solver': 'lbfgs'}\n",
      "0.000000 (0.000000) with: {'C': 1000.0, 'penalty': 'none', 'solver': 'liblinear'}\n",
      "0.704009 (0.070372) with: {'C': 1000.0, 'penalty': 'none', 'solver': 'sag'}\n",
      "0.685834 (0.071493) with: {'C': 1000.0, 'penalty': 'none', 'solver': 'saga'}\n",
      "0.000000 (0.000000) with: {'C': 1000.0, 'penalty': 'l1', 'solver': 'newton-cg'}\n",
      "0.000000 (0.000000) with: {'C': 1000.0, 'penalty': 'l1', 'solver': 'lbfgs'}\n",
      "0.978295 (0.004773) with: {'C': 1000.0, 'penalty': 'l1', 'solver': 'liblinear'}\n",
      "0.000000 (0.000000) with: {'C': 1000.0, 'penalty': 'l1', 'solver': 'sag'}\n",
      "0.685834 (0.071493) with: {'C': 1000.0, 'penalty': 'l1', 'solver': 'saga'}\n",
      "0.974730 (0.005886) with: {'C': 1000.0, 'penalty': 'l2', 'solver': 'newton-cg'}\n",
      "0.910922 (0.006913) with: {'C': 1000.0, 'penalty': 'l2', 'solver': 'lbfgs'}\n",
      "0.914485 (0.011908) with: {'C': 1000.0, 'penalty': 'l2', 'solver': 'liblinear'}\n",
      "0.704044 (0.070349) with: {'C': 1000.0, 'penalty': 'l2', 'solver': 'sag'}\n",
      "0.685940 (0.071581) with: {'C': 1000.0, 'penalty': 'l2', 'solver': 'saga'}\n",
      "0.000000 (0.000000) with: {'C': 1000.0, 'penalty': 'elasticnet', 'solver': 'newton-cg'}\n",
      "0.000000 (0.000000) with: {'C': 1000.0, 'penalty': 'elasticnet', 'solver': 'lbfgs'}\n",
      "0.000000 (0.000000) with: {'C': 1000.0, 'penalty': 'elasticnet', 'solver': 'liblinear'}\n",
      "0.000000 (0.000000) with: {'C': 1000.0, 'penalty': 'elasticnet', 'solver': 'sag'}\n",
      "0.000000 (0.000000) with: {'C': 1000.0, 'penalty': 'elasticnet', 'solver': 'saga'}\n",
      "0.975613 (0.004766) with: {'C': 10000.0, 'penalty': 'none', 'solver': 'newton-cg'}\n",
      "0.911064 (0.007096) with: {'C': 10000.0, 'penalty': 'none', 'solver': 'lbfgs'}\n",
      "0.000000 (0.000000) with: {'C': 10000.0, 'penalty': 'none', 'solver': 'liblinear'}\n",
      "0.703939 (0.070392) with: {'C': 10000.0, 'penalty': 'none', 'solver': 'sag'}\n",
      "0.685834 (0.071493) with: {'C': 10000.0, 'penalty': 'none', 'solver': 'saga'}\n",
      "0.000000 (0.000000) with: {'C': 10000.0, 'penalty': 'l1', 'solver': 'newton-cg'}\n",
      "0.000000 (0.000000) with: {'C': 10000.0, 'penalty': 'l1', 'solver': 'lbfgs'}\n",
      "0.978648 (0.004720) with: {'C': 10000.0, 'penalty': 'l1', 'solver': 'liblinear'}\n",
      "0.000000 (0.000000) with: {'C': 10000.0, 'penalty': 'l1', 'solver': 'sag'}\n",
      "0.685834 (0.071493) with: {'C': 10000.0, 'penalty': 'l1', 'solver': 'saga'}\n",
      "0.975754 (0.005424) with: {'C': 10000.0, 'penalty': 'l2', 'solver': 'newton-cg'}\n",
      "0.910746 (0.006823) with: {'C': 10000.0, 'penalty': 'l2', 'solver': 'lbfgs'}\n",
      "0.916780 (0.010072) with: {'C': 10000.0, 'penalty': 'l2', 'solver': 'liblinear'}\n",
      "0.703939 (0.070368) with: {'C': 10000.0, 'penalty': 'l2', 'solver': 'sag'}\n",
      "0.685834 (0.071493) with: {'C': 10000.0, 'penalty': 'l2', 'solver': 'saga'}\n",
      "0.000000 (0.000000) with: {'C': 10000.0, 'penalty': 'elasticnet', 'solver': 'newton-cg'}\n",
      "0.000000 (0.000000) with: {'C': 10000.0, 'penalty': 'elasticnet', 'solver': 'lbfgs'}\n",
      "0.000000 (0.000000) with: {'C': 10000.0, 'penalty': 'elasticnet', 'solver': 'liblinear'}\n",
      "0.000000 (0.000000) with: {'C': 10000.0, 'penalty': 'elasticnet', 'solver': 'sag'}\n",
      "0.000000 (0.000000) with: {'C': 10000.0, 'penalty': 'elasticnet', 'solver': 'saga'}\n",
      "0.975613 (0.004766) with: {'C': 100000.0, 'penalty': 'none', 'solver': 'newton-cg'}\n",
      "0.911064 (0.007096) with: {'C': 100000.0, 'penalty': 'none', 'solver': 'lbfgs'}\n",
      "0.000000 (0.000000) with: {'C': 100000.0, 'penalty': 'none', 'solver': 'liblinear'}\n",
      "0.704009 (0.070389) with: {'C': 100000.0, 'penalty': 'none', 'solver': 'sag'}\n",
      "0.685834 (0.071493) with: {'C': 100000.0, 'penalty': 'none', 'solver': 'saga'}\n",
      "0.000000 (0.000000) with: {'C': 100000.0, 'penalty': 'l1', 'solver': 'newton-cg'}\n",
      "0.000000 (0.000000) with: {'C': 100000.0, 'penalty': 'l1', 'solver': 'lbfgs'}\n",
      "0.978543 (0.004750) with: {'C': 100000.0, 'penalty': 'l1', 'solver': 'liblinear'}\n",
      "0.000000 (0.000000) with: {'C': 100000.0, 'penalty': 'l1', 'solver': 'sag'}\n",
      "0.685799 (0.071505) with: {'C': 100000.0, 'penalty': 'l1', 'solver': 'saga'}\n",
      "0.976072 (0.005172) with: {'C': 100000.0, 'penalty': 'l2', 'solver': 'newton-cg'}\n",
      "0.910958 (0.006928) with: {'C': 100000.0, 'penalty': 'l2', 'solver': 'lbfgs'}\n",
      "0.916249 (0.011806) with: {'C': 100000.0, 'penalty': 'l2', 'solver': 'liblinear'}\n",
      "0.703903 (0.070419) with: {'C': 100000.0, 'penalty': 'l2', 'solver': 'sag'}\n",
      "0.685870 (0.071602) with: {'C': 100000.0, 'penalty': 'l2', 'solver': 'saga'}\n",
      "0.000000 (0.000000) with: {'C': 100000.0, 'penalty': 'elasticnet', 'solver': 'newton-cg'}\n",
      "0.000000 (0.000000) with: {'C': 100000.0, 'penalty': 'elasticnet', 'solver': 'lbfgs'}\n",
      "0.000000 (0.000000) with: {'C': 100000.0, 'penalty': 'elasticnet', 'solver': 'liblinear'}\n",
      "0.000000 (0.000000) with: {'C': 100000.0, 'penalty': 'elasticnet', 'solver': 'sag'}\n",
      "0.000000 (0.000000) with: {'C': 100000.0, 'penalty': 'elasticnet', 'solver': 'saga'}\n",
      "0.975613 (0.004766) with: {'C': 1000000.0, 'penalty': 'none', 'solver': 'newton-cg'}\n",
      "0.911064 (0.007096) with: {'C': 1000000.0, 'penalty': 'none', 'solver': 'lbfgs'}\n",
      "0.000000 (0.000000) with: {'C': 1000000.0, 'penalty': 'none', 'solver': 'liblinear'}\n",
      "0.704044 (0.070361) with: {'C': 1000000.0, 'penalty': 'none', 'solver': 'sag'}\n",
      "0.685870 (0.071481) with: {'C': 1000000.0, 'penalty': 'none', 'solver': 'saga'}\n",
      "0.000000 (0.000000) with: {'C': 1000000.0, 'penalty': 'l1', 'solver': 'newton-cg'}\n",
      "0.000000 (0.000000) with: {'C': 1000000.0, 'penalty': 'l1', 'solver': 'lbfgs'}\n",
      "0.978260 (0.004686) with: {'C': 1000000.0, 'penalty': 'l1', 'solver': 'liblinear'}\n",
      "0.000000 (0.000000) with: {'C': 1000000.0, 'penalty': 'l1', 'solver': 'sag'}\n",
      "0.685834 (0.071493) with: {'C': 1000000.0, 'penalty': 'l1', 'solver': 'saga'}\n",
      "0.976248 (0.005086) with: {'C': 1000000.0, 'penalty': 'l2', 'solver': 'newton-cg'}\n",
      "0.910746 (0.006603) with: {'C': 1000000.0, 'penalty': 'l2', 'solver': 'lbfgs'}\n",
      "0.913463 (0.010610) with: {'C': 1000000.0, 'penalty': 'l2', 'solver': 'liblinear'}\n",
      "0.704009 (0.070360) with: {'C': 1000000.0, 'penalty': 'l2', 'solver': 'sag'}\n",
      "0.685870 (0.071602) with: {'C': 1000000.0, 'penalty': 'l2', 'solver': 'saga'}\n",
      "0.000000 (0.000000) with: {'C': 1000000.0, 'penalty': 'elasticnet', 'solver': 'newton-cg'}\n",
      "0.000000 (0.000000) with: {'C': 1000000.0, 'penalty': 'elasticnet', 'solver': 'lbfgs'}\n",
      "0.000000 (0.000000) with: {'C': 1000000.0, 'penalty': 'elasticnet', 'solver': 'liblinear'}\n",
      "0.000000 (0.000000) with: {'C': 1000000.0, 'penalty': 'elasticnet', 'solver': 'sag'}\n",
      "0.000000 (0.000000) with: {'C': 1000000.0, 'penalty': 'elasticnet', 'solver': 'saga'}\n",
      "0.975613 (0.004766) with: {'C': 10000000.0, 'penalty': 'none', 'solver': 'newton-cg'}\n",
      "0.911064 (0.007096) with: {'C': 10000000.0, 'penalty': 'none', 'solver': 'lbfgs'}\n",
      "0.000000 (0.000000) with: {'C': 10000000.0, 'penalty': 'none', 'solver': 'liblinear'}\n",
      "0.703939 (0.070373) with: {'C': 10000000.0, 'penalty': 'none', 'solver': 'sag'}\n",
      "0.685834 (0.071493) with: {'C': 10000000.0, 'penalty': 'none', 'solver': 'saga'}\n",
      "0.000000 (0.000000) with: {'C': 10000000.0, 'penalty': 'l1', 'solver': 'newton-cg'}\n",
      "0.000000 (0.000000) with: {'C': 10000000.0, 'penalty': 'l1', 'solver': 'lbfgs'}\n",
      "0.978366 (0.004661) with: {'C': 10000000.0, 'penalty': 'l1', 'solver': 'liblinear'}\n",
      "0.000000 (0.000000) with: {'C': 10000000.0, 'penalty': 'l1', 'solver': 'sag'}\n",
      "0.685834 (0.071493) with: {'C': 10000000.0, 'penalty': 'l1', 'solver': 'saga'}\n",
      "0.975295 (0.004924) with: {'C': 10000000.0, 'penalty': 'l2', 'solver': 'newton-cg'}\n",
      "0.911382 (0.007595) with: {'C': 10000000.0, 'penalty': 'l2', 'solver': 'lbfgs'}\n",
      "0.913427 (0.009075) with: {'C': 10000000.0, 'penalty': 'l2', 'solver': 'liblinear'}\n",
      "0.703903 (0.070385) with: {'C': 10000000.0, 'penalty': 'l2', 'solver': 'sag'}\n",
      "0.685834 (0.071493) with: {'C': 10000000.0, 'penalty': 'l2', 'solver': 'saga'}\n",
      "0.000000 (0.000000) with: {'C': 10000000.0, 'penalty': 'elasticnet', 'solver': 'newton-cg'}\n",
      "0.000000 (0.000000) with: {'C': 10000000.0, 'penalty': 'elasticnet', 'solver': 'lbfgs'}\n",
      "0.000000 (0.000000) with: {'C': 10000000.0, 'penalty': 'elasticnet', 'solver': 'liblinear'}\n",
      "0.000000 (0.000000) with: {'C': 10000000.0, 'penalty': 'elasticnet', 'solver': 'sag'}\n",
      "0.000000 (0.000000) with: {'C': 10000000.0, 'penalty': 'elasticnet', 'solver': 'saga'}\n"
     ]
    }
   ],
   "source": [
    "#define models and parameters for Logistic Regression\n",
    "#estimate 1 hour to do tuning\n",
    "model = LogisticRegression(multi_class = 'multinomial')\n",
    "solvers = ['newton-cg', 'lbfgs', 'liblinear', 'sag', 'saga']\n",
    "penalty = ['l1','l2']\n",
    "c_values = 10. ** np.arange(-3,8)\n",
    "\n",
    "#define grid seach\n",
    "grid = dict(solver=solvers,penalty=penalty,C=c_values)\n",
    "cv = RepeatedStratifiedKFold(n_splits=10, n_repeats=3, random_state=1)\n",
    "grid_search = GridSearchCV(estimator=model, param_grid=grid, n_jobs=-1, cv=cv, scoring='accuracy',error_score=0)\n",
    "grid_result = grid_search.fit(X_train, y_train)\n",
    "\n",
    "#results \n",
    "print(\"Best: %f using %s\" % (grid_result.best_score_, grid_result.best_params_))\n",
    "means = grid_result.cv_results_['mean_test_score']\n",
    "stds = grid_result.cv_results_['std_test_score']\n",
    "params = grid_result.cv_results_['params']\n",
    "for mean, stdev, param in zip(means, stds, params):\n",
    "    print(\"%f (%f) with: %r\" % (mean, stdev, param))\n",
    "    \n",
    "#Best: 0.982107 using {'C': 1.0, 'penalty': 'l1', 'solver': 'liblinear'}"
   ]
  },
  {
   "cell_type": "markdown",
   "id": "16f13936",
   "metadata": {},
   "source": [
    "#### Testing "
   ]
  },
  {
   "cell_type": "code",
   "execution_count": 7,
   "id": "ce1f34b3",
   "metadata": {},
   "outputs": [
    {
     "name": "stdout",
     "output_type": "stream",
     "text": [
      "(1667, 221)\n",
      "(1667,)\n"
     ]
    }
   ],
   "source": [
    "print(X_test.shape)\n",
    "print(y_test.shape)"
   ]
  },
  {
   "cell_type": "code",
   "execution_count": 88,
   "id": "907b197d",
   "metadata": {},
   "outputs": [
    {
     "name": "stdout",
     "output_type": "stream",
     "text": [
      "Train Set Accuracy Score after tuning:  0.9832715722604553\n",
      "Train Set Confusion Matrix \n",
      " [[2282   26   12   14    9    0]\n",
      " [  33 2660    0    7    1    0]\n",
      " [  17    1  282    0    0    0]\n",
      " [  29    5    0 3672    0    0]\n",
      " [   1    0    0    0  315    0]\n",
      " [   3    0    0    0    0   76]]\n",
      "Train Set Classification Report \n",
      "               precision    recall  f1-score   support\n",
      "\n",
      "           0       0.96      0.97      0.97      2343\n",
      "           1       0.99      0.98      0.99      2701\n",
      "           2       0.96      0.94      0.95       300\n",
      "           3       0.99      0.99      0.99      3706\n",
      "           4       0.97      1.00      0.98       316\n",
      "           5       1.00      0.96      0.98        79\n",
      "\n",
      "    accuracy                           0.98      9445\n",
      "   macro avg       0.98      0.97      0.98      9445\n",
      "weighted avg       0.98      0.98      0.98      9445\n",
      "\n",
      "Test Set Accuracy Score:  0.973005398920216\n",
      "Test Set Confusion Matrix \n",
      " [[395   5   5   6   2   0]\n",
      " [  8 454   0   0   1   0]\n",
      " [  5   0  54   0   0   0]\n",
      " [  8   0   0 654   1   0]\n",
      " [  1   0   0   2  48   0]\n",
      " [  1   0   0   0   0  17]]\n",
      "Test Set Classification Report \n",
      "               precision    recall  f1-score   support\n",
      "\n",
      "           0       0.94      0.96      0.95       413\n",
      "           1       0.99      0.98      0.98       463\n",
      "           2       0.92      0.92      0.92        59\n",
      "           3       0.99      0.99      0.99       663\n",
      "           4       0.92      0.94      0.93        51\n",
      "           5       1.00      0.94      0.97        18\n",
      "\n",
      "    accuracy                           0.97      1667\n",
      "   macro avg       0.96      0.95      0.96      1667\n",
      "weighted avg       0.97      0.97      0.97      1667\n",
      "\n"
     ]
    },
    {
     "name": "stderr",
     "output_type": "stream",
     "text": [
      "C:\\Users\\radellng\\anaconda3\\lib\\site-packages\\sklearn\\svm\\_base.py:985: ConvergenceWarning: Liblinear failed to converge, increase the number of iterations.\n",
      "  warnings.warn(\"Liblinear failed to converge, increase \"\n"
     ]
    }
   ],
   "source": [
    "best_model = LogisticRegression(C=1.0, penalty='l1', solver='liblinear')\n",
    "best_model.fit(X_train, y_train)\n",
    "# Train set\n",
    "best_model_train_score = best_model.score(X_train, y_train)\n",
    "print('Train Set Accuracy Score after tuning: ', best_model_train_score)\n",
    "pred1 = best_model.predict(X_train)\n",
    "print(\"Train Set Confusion Matrix \\n\", confusion_matrix(y_train, pred1))\n",
    "print(\"Train Set Classification Report \\n\",classification_report(y_train, pred1))\n",
    "\n",
    "#Test Set\n",
    "best_model_test_score = best_model.score(X_test, y_test)\n",
    "print('Test Set Accuracy Score: ', best_model_test_score)\n",
    "test_pred1 = best_model.predict(X_test)\n",
    "print(\"Test Set Confusion Matrix \\n\", confusion_matrix(y_test, test_pred1))\n",
    "print(\"Test Set Classification Report \\n\",classification_report(y_test, test_pred1))"
   ]
  },
  {
   "cell_type": "code",
   "execution_count": 16,
   "id": "9dc0a077",
   "metadata": {},
   "outputs": [
    {
     "ename": "ValueError",
     "evalue": "multiclass format is not supported",
     "output_type": "error",
     "traceback": [
      "\u001b[1;31m---------------------------------------------------------------------------\u001b[0m",
      "\u001b[1;31mValueError\u001b[0m                                Traceback (most recent call last)",
      "\u001b[1;32m~\\AppData\\Local\\Temp/ipykernel_22904/1261527229.py\u001b[0m in \u001b[0;36m<module>\u001b[1;34m\u001b[0m\n\u001b[0;32m      1\u001b[0m \u001b[1;32mimport\u001b[0m \u001b[0mmatplotlib\u001b[0m\u001b[1;33m.\u001b[0m\u001b[0mpyplot\u001b[0m \u001b[1;32mas\u001b[0m \u001b[0mplt\u001b[0m\u001b[1;33m\u001b[0m\u001b[1;33m\u001b[0m\u001b[0m\n\u001b[1;32m----> 2\u001b[1;33m \u001b[0mfpr\u001b[0m\u001b[1;33m,\u001b[0m \u001b[0mtpr\u001b[0m\u001b[1;33m,\u001b[0m \u001b[0mthresholds\u001b[0m \u001b[1;33m=\u001b[0m \u001b[0mmetrics\u001b[0m\u001b[1;33m.\u001b[0m\u001b[0mroc_curve\u001b[0m\u001b[1;33m(\u001b[0m\u001b[0my_test\u001b[0m\u001b[1;33m,\u001b[0m \u001b[0mtest_pred\u001b[0m\u001b[1;33m)\u001b[0m\u001b[1;33m\u001b[0m\u001b[1;33m\u001b[0m\u001b[0m\n\u001b[0m\u001b[0;32m      3\u001b[0m \u001b[0mplt\u001b[0m\u001b[1;33m.\u001b[0m\u001b[0mplot\u001b[0m\u001b[1;33m(\u001b[0m\u001b[0mfpr\u001b[0m\u001b[1;33m,\u001b[0m \u001b[0mtpr\u001b[0m\u001b[1;33m,\u001b[0m \u001b[0mlabel\u001b[0m \u001b[1;33m=\u001b[0m \u001b[1;34m\"Without Tuning\"\u001b[0m\u001b[1;33m)\u001b[0m\u001b[1;33m\u001b[0m\u001b[1;33m\u001b[0m\u001b[0m\n\u001b[0;32m      4\u001b[0m \u001b[0mfpr1\u001b[0m\u001b[1;33m,\u001b[0m \u001b[0mtpr1\u001b[0m\u001b[1;33m,\u001b[0m \u001b[0mthresholds1\u001b[0m \u001b[1;33m=\u001b[0m \u001b[0mmetrics\u001b[0m\u001b[1;33m.\u001b[0m\u001b[0mroc_curve\u001b[0m\u001b[1;33m(\u001b[0m\u001b[0my_test\u001b[0m\u001b[1;33m,\u001b[0m \u001b[0mtest_pred1\u001b[0m\u001b[1;33m)\u001b[0m\u001b[1;33m\u001b[0m\u001b[1;33m\u001b[0m\u001b[0m\n\u001b[0;32m      5\u001b[0m \u001b[0mplt\u001b[0m\u001b[1;33m.\u001b[0m\u001b[0mplot\u001b[0m\u001b[1;33m(\u001b[0m\u001b[0mfpr1\u001b[0m\u001b[1;33m,\u001b[0m \u001b[0mtpr1\u001b[0m\u001b[1;33m,\u001b[0m \u001b[0mlabel\u001b[0m \u001b[1;33m=\u001b[0m \u001b[1;34m\"With Tuning\"\u001b[0m\u001b[1;33m)\u001b[0m\u001b[1;33m\u001b[0m\u001b[1;33m\u001b[0m\u001b[0m\n",
      "\u001b[1;32m~\\anaconda3\\lib\\site-packages\\sklearn\\utils\\validation.py\u001b[0m in \u001b[0;36minner_f\u001b[1;34m(*args, **kwargs)\u001b[0m\n\u001b[0;32m     61\u001b[0m             \u001b[0mextra_args\u001b[0m \u001b[1;33m=\u001b[0m \u001b[0mlen\u001b[0m\u001b[1;33m(\u001b[0m\u001b[0margs\u001b[0m\u001b[1;33m)\u001b[0m \u001b[1;33m-\u001b[0m \u001b[0mlen\u001b[0m\u001b[1;33m(\u001b[0m\u001b[0mall_args\u001b[0m\u001b[1;33m)\u001b[0m\u001b[1;33m\u001b[0m\u001b[1;33m\u001b[0m\u001b[0m\n\u001b[0;32m     62\u001b[0m             \u001b[1;32mif\u001b[0m \u001b[0mextra_args\u001b[0m \u001b[1;33m<=\u001b[0m \u001b[1;36m0\u001b[0m\u001b[1;33m:\u001b[0m\u001b[1;33m\u001b[0m\u001b[1;33m\u001b[0m\u001b[0m\n\u001b[1;32m---> 63\u001b[1;33m                 \u001b[1;32mreturn\u001b[0m \u001b[0mf\u001b[0m\u001b[1;33m(\u001b[0m\u001b[1;33m*\u001b[0m\u001b[0margs\u001b[0m\u001b[1;33m,\u001b[0m \u001b[1;33m**\u001b[0m\u001b[0mkwargs\u001b[0m\u001b[1;33m)\u001b[0m\u001b[1;33m\u001b[0m\u001b[1;33m\u001b[0m\u001b[0m\n\u001b[0m\u001b[0;32m     64\u001b[0m \u001b[1;33m\u001b[0m\u001b[0m\n\u001b[0;32m     65\u001b[0m             \u001b[1;31m# extra_args > 0\u001b[0m\u001b[1;33m\u001b[0m\u001b[1;33m\u001b[0m\u001b[0m\n",
      "\u001b[1;32m~\\anaconda3\\lib\\site-packages\\sklearn\\metrics\\_ranking.py\u001b[0m in \u001b[0;36mroc_curve\u001b[1;34m(y_true, y_score, pos_label, sample_weight, drop_intermediate)\u001b[0m\n\u001b[0;32m    911\u001b[0m \u001b[1;33m\u001b[0m\u001b[0m\n\u001b[0;32m    912\u001b[0m     \"\"\"\n\u001b[1;32m--> 913\u001b[1;33m     fps, tps, thresholds = _binary_clf_curve(\n\u001b[0m\u001b[0;32m    914\u001b[0m         y_true, y_score, pos_label=pos_label, sample_weight=sample_weight)\n\u001b[0;32m    915\u001b[0m \u001b[1;33m\u001b[0m\u001b[0m\n",
      "\u001b[1;32m~\\anaconda3\\lib\\site-packages\\sklearn\\metrics\\_ranking.py\u001b[0m in \u001b[0;36m_binary_clf_curve\u001b[1;34m(y_true, y_score, pos_label, sample_weight)\u001b[0m\n\u001b[0;32m    689\u001b[0m     if not (y_type == \"binary\" or\n\u001b[0;32m    690\u001b[0m             (y_type == \"multiclass\" and pos_label is not None)):\n\u001b[1;32m--> 691\u001b[1;33m         \u001b[1;32mraise\u001b[0m \u001b[0mValueError\u001b[0m\u001b[1;33m(\u001b[0m\u001b[1;34m\"{0} format is not supported\"\u001b[0m\u001b[1;33m.\u001b[0m\u001b[0mformat\u001b[0m\u001b[1;33m(\u001b[0m\u001b[0my_type\u001b[0m\u001b[1;33m)\u001b[0m\u001b[1;33m)\u001b[0m\u001b[1;33m\u001b[0m\u001b[1;33m\u001b[0m\u001b[0m\n\u001b[0m\u001b[0;32m    692\u001b[0m \u001b[1;33m\u001b[0m\u001b[0m\n\u001b[0;32m    693\u001b[0m     \u001b[0mcheck_consistent_length\u001b[0m\u001b[1;33m(\u001b[0m\u001b[0my_true\u001b[0m\u001b[1;33m,\u001b[0m \u001b[0my_score\u001b[0m\u001b[1;33m,\u001b[0m \u001b[0msample_weight\u001b[0m\u001b[1;33m)\u001b[0m\u001b[1;33m\u001b[0m\u001b[1;33m\u001b[0m\u001b[0m\n",
      "\u001b[1;31mValueError\u001b[0m: multiclass format is not supported"
     ]
    }
   ],
   "source": [
    "import matplotlib.pyplot as plt\n",
    "fpr, tpr, thresholds = metrics.roc_curve(y_test, test_pred)\n",
    "plt.plot(fpr, tpr, label = \"Without Tuning\")\n",
    "fpr1, tpr1, thresholds1 = metrics.roc_curve(y_test, test_pred1)\n",
    "plt.plot(fpr1, tpr1, label = \"With Tuning\")\n",
    "plt.xlim([0.0, 1.0])\n",
    "plt.ylim([0.0, 1.0])\n",
    "plt.rcParams['font.size'] = 14\n",
    "plt.title('ROC curve of Logistic Regression')\n",
    "plt.xlabel('False Positive Rate (1 - Specificity)')\n",
    "plt.ylabel('True Positive Rate (Sensitivity)')\n",
    "plt.legend()\n",
    "plt.grid(True)"
   ]
  },
  {
   "cell_type": "code",
   "execution_count": 93,
   "id": "a60c428b",
   "metadata": {},
   "outputs": [
    {
     "name": "stdout",
     "output_type": "stream",
     "text": [
      "Execution time: 3.7118613719940186 s\n",
      "Wall time: 3.71 s\n"
     ]
    },
    {
     "name": "stderr",
     "output_type": "stream",
     "text": [
      "C:\\Users\\radellng\\anaconda3\\lib\\site-packages\\sklearn\\svm\\_base.py:985: ConvergenceWarning: Liblinear failed to converge, increase the number of iterations.\n",
      "  warnings.warn(\"Liblinear failed to converge, increase \"\n"
     ]
    }
   ],
   "source": [
    "%%time\n",
    "start_time = time.time()\n",
    "model_time = LogisticRegression(C=1.0, penalty='l1', solver='liblinear')\n",
    "model_time.fit(X_train, y_train)\n",
    "test_pred1 = model_time.predict(X_test)\n",
    "print(\"Execution time: \" + str((time.time() - start_time)) + ' s')"
   ]
  },
  {
   "cell_type": "code",
   "execution_count": 94,
   "id": "1df28050",
   "metadata": {},
   "outputs": [
    {
     "name": "stdout",
     "output_type": "stream",
     "text": [
      "Index(['statuses_count', 'favourites_count', 'following_to_followers_ratio',\n",
      "       'profile_use_background_image', 'tweet_frequency', 'followers_count',\n",
      "       'friends_count', 'number_of_mentions', 'default_profile',\n",
      "       'tweet_weekday_frequency', 'geo_enabled', 'description_87',\n",
      "       'tweet_weekend_frequency', 'description_14', 'tweets_59', 'tweets_35',\n",
      "       'tweets_6', 'description_46', 'description_59', 'tweets_8'],\n",
      "      dtype='object')\n"
     ]
    }
   ],
   "source": [
    "imps = permutation_importance(model_time, X_test, y_test)\n",
    "imps_sorted = imps.importances_mean.argsort()[::-1]\n",
    "\n",
    "print(np.take(X_train.columns, imps_sorted[: 20]))"
   ]
  }
 ],
 "metadata": {
  "kernelspec": {
   "display_name": "Python 3 (ipykernel)",
   "language": "python",
   "name": "python3"
  },
  "language_info": {
   "codemirror_mode": {
    "name": "ipython",
    "version": 3
   },
   "file_extension": ".py",
   "mimetype": "text/x-python",
   "name": "python",
   "nbconvert_exporter": "python",
   "pygments_lexer": "ipython3",
   "version": "3.9.7"
  }
 },
 "nbformat": 4,
 "nbformat_minor": 5
}
