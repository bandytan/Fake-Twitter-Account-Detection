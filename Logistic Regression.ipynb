{
 "cells": [
  {
   "cell_type": "code",
   "execution_count": 1,
   "id": "23869af1",
   "metadata": {},
   "outputs": [],
   "source": [
    "import pandas as pd \n",
    "import numpy as np\n",
    "%matplotlib inline\n",
    "import matplotlib as mpl\n",
    "import matplotlib.pyplot as plt\n",
    "from sklearn.preprocessing import OrdinalEncoder, MinMaxScaler\n",
    "from sklearn.linear_model import LogisticRegression\n",
    "from sklearn.model_selection import RepeatedStratifiedKFold\n",
    "from sklearn.model_selection import GridSearchCV, RandomizedSearchCV\n",
    "from sklearn import metrics\n",
    "from sklearn.metrics import classification_report, confusion_matrix, roc_auc_score\n",
    "from sklearn.inspection import permutation_importance\n",
    "from scipy.stats import loguniform\n",
    "import glob\n",
    "import os\n",
    "import time"
   ]
  },
  {
   "cell_type": "code",
   "execution_count": 2,
   "id": "a3e00a6f",
   "metadata": {},
   "outputs": [],
   "source": [
    "pd.set_option('mode.use_inf_as_na', True)"
   ]
  },
  {
   "cell_type": "code",
   "execution_count": 3,
   "id": "f87fb3ec",
   "metadata": {},
   "outputs": [
    {
     "name": "stdout",
     "output_type": "stream",
     "text": [
      "(9446, 237)\n",
      "(1667, 237)\n"
     ]
    }
   ],
   "source": [
    "train_df = pd.read_csv(\"data/twitter_data_train_multiclass.csv\")\n",
    "test_df = pd.read_csv(\"data/twitter_data_test_multiclass.csv\")\n",
    "\n",
    "print(train_df.shape)\n",
    "print(test_df.shape)"
   ]
  },
  {
   "cell_type": "code",
   "execution_count": 4,
   "id": "3a8ff9d9",
   "metadata": {},
   "outputs": [
    {
     "name": "stdout",
     "output_type": "stream",
     "text": [
      "Unnamed: 0\n",
      "id\n",
      "name\n",
      "screen_name\n",
      "statuses_count\n",
      "followers_count\n",
      "friends_count\n",
      "favourites_count\n",
      "listed_count\n",
      "url\n",
      "default_profile_image\n",
      "geo_enabled\n",
      "profile_image_url\n",
      "profile_use_background_image\n",
      "profile_background_tile\n",
      "protected\n",
      "verified\n",
      "description\n",
      "account_type\n",
      "tweets_list\n",
      "tweet_frequency\n",
      "number_of_tags\n",
      "number_of_mentions\n",
      "tweet_weekend_frequency\n",
      "tweet_weekday_frequency\n",
      "following_to_followers_ratio\n",
      "username_length\n",
      "screen_name_length\n",
      "username_spec_char_count\n",
      "screen_name_spec_char_count\n",
      "has_url\n",
      "has_desc\n",
      "tweets_list_processed\n",
      "description_processed\n",
      "tweets_0\n",
      "tweets_1\n",
      "tweets_2\n",
      "tweets_3\n",
      "tweets_4\n",
      "tweets_5\n",
      "tweets_6\n",
      "tweets_7\n",
      "tweets_8\n",
      "tweets_9\n",
      "tweets_10\n",
      "tweets_11\n",
      "tweets_12\n",
      "tweets_13\n",
      "tweets_14\n",
      "tweets_15\n",
      "tweets_16\n",
      "tweets_17\n",
      "tweets_18\n",
      "tweets_19\n",
      "tweets_20\n",
      "tweets_21\n",
      "tweets_22\n",
      "tweets_23\n",
      "tweets_24\n",
      "tweets_25\n",
      "tweets_26\n",
      "tweets_27\n",
      "tweets_28\n",
      "tweets_29\n",
      "tweets_30\n",
      "tweets_31\n",
      "tweets_32\n",
      "tweets_33\n",
      "tweets_34\n",
      "tweets_35\n",
      "tweets_36\n",
      "tweets_37\n",
      "tweets_38\n",
      "tweets_39\n",
      "tweets_40\n",
      "tweets_41\n",
      "tweets_42\n",
      "tweets_43\n",
      "tweets_44\n",
      "tweets_45\n",
      "tweets_46\n",
      "tweets_47\n",
      "tweets_48\n",
      "tweets_49\n",
      "tweets_50\n",
      "tweets_51\n",
      "tweets_52\n",
      "tweets_53\n",
      "tweets_54\n",
      "tweets_55\n",
      "tweets_56\n",
      "tweets_57\n",
      "tweets_58\n",
      "tweets_59\n",
      "tweets_60\n",
      "tweets_61\n",
      "tweets_62\n",
      "tweets_63\n",
      "tweets_64\n",
      "tweets_65\n",
      "tweets_66\n",
      "tweets_67\n",
      "tweets_68\n",
      "tweets_69\n",
      "tweets_70\n",
      "tweets_71\n",
      "tweets_72\n",
      "tweets_73\n",
      "tweets_74\n",
      "tweets_75\n",
      "tweets_76\n",
      "tweets_77\n",
      "tweets_78\n",
      "tweets_79\n",
      "tweets_80\n",
      "tweets_81\n",
      "tweets_82\n",
      "tweets_83\n",
      "tweets_84\n",
      "tweets_85\n",
      "tweets_86\n",
      "tweets_87\n",
      "tweets_88\n",
      "tweets_89\n",
      "tweets_90\n",
      "tweets_91\n",
      "tweets_92\n",
      "tweets_93\n",
      "tweets_94\n",
      "tweets_95\n",
      "tweets_96\n",
      "tweets_97\n",
      "tweets_98\n",
      "tweets_99\n",
      "description_0\n",
      "description_1\n",
      "description_2\n",
      "description_3\n",
      "description_4\n",
      "description_5\n",
      "description_6\n",
      "description_7\n",
      "description_8\n",
      "description_9\n",
      "description_10\n",
      "description_11\n",
      "description_12\n",
      "description_13\n",
      "description_14\n",
      "description_15\n",
      "description_16\n",
      "description_17\n",
      "description_18\n",
      "description_19\n",
      "description_20\n",
      "description_21\n",
      "description_22\n",
      "description_23\n",
      "description_24\n",
      "description_25\n",
      "description_26\n",
      "description_27\n",
      "description_28\n",
      "description_29\n",
      "description_30\n",
      "description_31\n",
      "description_32\n",
      "description_33\n",
      "description_34\n",
      "description_35\n",
      "description_36\n",
      "description_37\n",
      "description_38\n",
      "description_39\n",
      "description_40\n",
      "description_41\n",
      "description_42\n",
      "description_43\n",
      "description_44\n",
      "description_45\n",
      "description_46\n",
      "description_47\n",
      "description_48\n",
      "description_49\n",
      "description_50\n",
      "description_51\n",
      "description_52\n",
      "description_53\n",
      "description_54\n",
      "description_55\n",
      "description_56\n",
      "description_57\n",
      "description_58\n",
      "description_59\n",
      "description_60\n",
      "description_61\n",
      "description_62\n",
      "description_63\n",
      "description_64\n",
      "description_65\n",
      "description_66\n",
      "description_67\n",
      "description_68\n",
      "description_69\n",
      "description_70\n",
      "description_71\n",
      "description_72\n",
      "description_73\n",
      "description_74\n",
      "description_75\n",
      "description_76\n",
      "description_77\n",
      "description_78\n",
      "description_79\n",
      "description_80\n",
      "description_81\n",
      "description_82\n",
      "description_83\n",
      "description_84\n",
      "description_85\n",
      "description_86\n",
      "description_87\n",
      "description_88\n",
      "description_89\n",
      "description_90\n",
      "description_91\n",
      "description_92\n",
      "description_93\n",
      "description_94\n",
      "description_95\n",
      "description_96\n",
      "description_97\n",
      "description_98\n",
      "description_99\n",
      "has_face\n",
      "reciprocity\n",
      "account_type_multi\n"
     ]
    }
   ],
   "source": [
    "for x in train_df.columns:\n",
    "    print(x)"
   ]
  },
  {
   "cell_type": "code",
   "execution_count": 5,
   "id": "13d6c4d0",
   "metadata": {},
   "outputs": [],
   "source": [
    "scaler = MinMaxScaler() \n",
    "train_df[['statuses_count', 'favourites_count', 'followers_count', 'friends_count', 'number_of_mentions', 'listed_count', 'number_of_tags']] = scaler.fit_transform(train_df[['statuses_count', 'favourites_count', 'followers_count', 'friends_count', 'number_of_mentions', 'listed_count', 'number_of_tags']])\n",
    "test_df[['statuses_count', 'favourites_count', 'followers_count', 'friends_count', 'number_of_mentions', 'listed_count', 'number_of_tags']] = scaler.transform(test_df[['statuses_count', 'favourites_count', 'followers_count', 'friends_count', 'number_of_mentions', 'listed_count', 'number_of_tags']])"
   ]
  },
  {
   "cell_type": "code",
   "execution_count": 6,
   "id": "0d4702e4",
   "metadata": {},
   "outputs": [],
   "source": [
    "to_drop = ['Unnamed: 0', 'screen_name', 'url', 'profile_image_url', 'description',\n",
    "           'id', 'name', 'account_type', 'tweets_list', 'tweets_list_processed',\n",
    "          'description_processed', 'protected', 'verified', 'account_type_multi', \n",
    "          'profile_use_background_image', 'profile_background_tile', 'geo_enabled']\n",
    "\n",
    "X_train, y_train = train_df.drop(to_drop, axis=1), train_df['account_type_multi']\n",
    "X_test, y_test = test_df.drop(to_drop, axis=1), test_df['account_type_multi']\n",
    "\n"
   ]
  },
  {
   "cell_type": "code",
   "execution_count": 7,
   "id": "a316b8b8",
   "metadata": {},
   "outputs": [
    {
     "data": {
      "text/plain": [
       "array([dtype('float64'), dtype('int64')], dtype=object)"
      ]
     },
     "execution_count": 7,
     "metadata": {},
     "output_type": "execute_result"
    }
   ],
   "source": [
    "X_train.dtypes.unique()"
   ]
  },
  {
   "cell_type": "code",
   "execution_count": 8,
   "id": "eccd724b",
   "metadata": {},
   "outputs": [
    {
     "name": "stdout",
     "output_type": "stream",
     "text": [
      "(9446, 220)\n",
      "(9446,)\n",
      "(1667, 220)\n",
      "(1667,)\n"
     ]
    }
   ],
   "source": [
    "print(X_train.shape)\n",
    "print(y_train.shape)\n",
    "print(X_test.shape)\n",
    "print(y_test.shape)"
   ]
  },
  {
   "cell_type": "markdown",
   "id": "e9c02dfc",
   "metadata": {},
   "source": [
    "#### Logistic Regression model Training and Hyper parameters tuning"
   ]
  },
  {
   "cell_type": "code",
   "execution_count": 9,
   "id": "3709f7fc",
   "metadata": {},
   "outputs": [
    {
     "name": "stdout",
     "output_type": "stream",
     "text": [
      "Train Set Accuracy Score:  0.963476603853483\n",
      "Train Set Confusion Matrix \n",
      " [[2271   17   12   38]\n",
      " [  72 2605   17   12]\n",
      " [  46   72 1368    8]\n",
      " [  40   11    0 2857]]\n",
      "Train Set Classification Report \n",
      "               precision    recall  f1-score   support\n",
      "\n",
      "           0       0.93      0.97      0.95      2338\n",
      "           1       0.96      0.96      0.96      2706\n",
      "           2       0.98      0.92      0.95      1494\n",
      "           3       0.98      0.98      0.98      2908\n",
      "\n",
      "    accuracy                           0.96      9446\n",
      "   macro avg       0.96      0.96      0.96      9446\n",
      "weighted avg       0.96      0.96      0.96      9446\n",
      "\n"
     ]
    }
   ],
   "source": [
    "# uses lbfgs solver as default\n",
    "LRModel = LogisticRegression(multi_class = 'ovr', max_iter=10000)\n",
    "LRModel.fit(X_train, y_train)\n",
    "# Train set\n",
    "LRModel_train_score = LRModel.score(X_train, y_train)\n",
    "print('Train Set Accuracy Score: ', LRModel_train_score)\n",
    "pred = LRModel.predict(X_train)\n",
    "print(\"Train Set Confusion Matrix \\n\", confusion_matrix(y_train, pred))\n",
    "print(\"Train Set Classification Report \\n\",classification_report(y_train, pred))"
   ]
  },
  {
   "cell_type": "code",
   "execution_count": 10,
   "id": "ec783dc0",
   "metadata": {},
   "outputs": [
    {
     "name": "stdout",
     "output_type": "stream",
     "text": [
      "Test Set Accuracy Score:  0.9634073185362927\n",
      "Test Set Confusion Matrix \n",
      " [[400   3   0  10]\n",
      " [  7 446   5   2]\n",
      " [ 10   8 258   0]\n",
      " [ 14   1   1 502]]\n",
      "Test Set Classification Report \n",
      "               precision    recall  f1-score   support\n",
      "\n",
      "           0       0.93      0.97      0.95       413\n",
      "           1       0.97      0.97      0.97       460\n",
      "           2       0.98      0.93      0.96       276\n",
      "           3       0.98      0.97      0.97       518\n",
      "\n",
      "    accuracy                           0.96      1667\n",
      "   macro avg       0.96      0.96      0.96      1667\n",
      "weighted avg       0.96      0.96      0.96      1667\n",
      "\n"
     ]
    }
   ],
   "source": [
    "#Test Set\n",
    "LRModel_test_score = LRModel.score(X_test, y_test)\n",
    "print('Test Set Accuracy Score: ', LRModel_test_score)\n",
    "test_pred = LRModel.predict(X_test)\n",
    "print(\"Test Set Confusion Matrix \\n\", confusion_matrix(y_test, test_pred))\n",
    "print(\"Test Set Classification Report \\n\",classification_report(y_test, test_pred))"
   ]
  },
  {
   "cell_type": "markdown",
   "id": "f44ef5ff",
   "metadata": {},
   "source": [
    "### Hyper parameter tuning with RandomizedSearchCV"
   ]
  },
  {
   "cell_type": "code",
   "execution_count": 11,
   "id": "fca11cf4",
   "metadata": {},
   "outputs": [
    {
     "name": "stdout",
     "output_type": "stream",
     "text": [
      "Fitting 15 folds for each of 10 candidates, totalling 150 fits\n"
     ]
    },
    {
     "name": "stderr",
     "output_type": "stream",
     "text": [
      "C:\\Users\\radellng\\anaconda3\\lib\\site-packages\\sklearn\\model_selection\\_validation.py:372: FitFailedWarning: \n",
      "30 fits failed out of a total of 150.\n",
      "The score on these train-test partitions for these parameters will be set to nan.\n",
      "If these failures are not expected, you can try to debug them by setting error_score='raise'.\n",
      "\n",
      "Below are more details about the failures:\n",
      "--------------------------------------------------------------------------------\n",
      "15 fits failed with the following error:\n",
      "Traceback (most recent call last):\n",
      "  File \"C:\\Users\\radellng\\anaconda3\\lib\\site-packages\\sklearn\\model_selection\\_validation.py\", line 680, in _fit_and_score\n",
      "    estimator.fit(X_train, y_train, **fit_params)\n",
      "  File \"C:\\Users\\radellng\\anaconda3\\lib\\site-packages\\sklearn\\linear_model\\_logistic.py\", line 1461, in fit\n",
      "    solver = _check_solver(self.solver, self.penalty, self.dual)\n",
      "  File \"C:\\Users\\radellng\\anaconda3\\lib\\site-packages\\sklearn\\linear_model\\_logistic.py\", line 447, in _check_solver\n",
      "    raise ValueError(\n",
      "ValueError: Solver lbfgs supports only 'l2' or 'none' penalties, got l1 penalty.\n",
      "\n",
      "--------------------------------------------------------------------------------\n",
      "15 fits failed with the following error:\n",
      "Traceback (most recent call last):\n",
      "  File \"C:\\Users\\radellng\\anaconda3\\lib\\site-packages\\sklearn\\model_selection\\_validation.py\", line 680, in _fit_and_score\n",
      "    estimator.fit(X_train, y_train, **fit_params)\n",
      "  File \"C:\\Users\\radellng\\anaconda3\\lib\\site-packages\\sklearn\\linear_model\\_logistic.py\", line 1461, in fit\n",
      "    solver = _check_solver(self.solver, self.penalty, self.dual)\n",
      "  File \"C:\\Users\\radellng\\anaconda3\\lib\\site-packages\\sklearn\\linear_model\\_logistic.py\", line 447, in _check_solver\n",
      "    raise ValueError(\n",
      "ValueError: Solver newton-cg supports only 'l2' or 'none' penalties, got l1 penalty.\n",
      "\n",
      "  warnings.warn(some_fits_failed_message, FitFailedWarning)\n",
      "C:\\Users\\radellng\\anaconda3\\lib\\site-packages\\sklearn\\model_selection\\_search.py:969: UserWarning: One or more of the test scores are non-finite: [0.9626211  0.75044519 0.79301074 0.9175803  0.84063013        nan\n",
      " 0.71337245 0.84070658        nan 0.9649273 ]\n",
      "  warnings.warn(\n"
     ]
    },
    {
     "name": "stdout",
     "output_type": "stream",
     "text": [
      "Best Score: 0.9649273035843181\n",
      "Best Hyperparameters: {'C': 21.786162232558315, 'penalty': 'l2', 'solver': 'liblinear'}\n"
     ]
    }
   ],
   "source": [
    "#using repeatedStratifiedKfold \n",
    "model = LogisticRegression(multi_class='ovr', max_iter=10000)\n",
    "cv = RepeatedStratifiedKFold(n_splits=5, n_repeats=3, random_state=999)\n",
    "space = dict()\n",
    "space['solver'] = ['newton-cg', 'lbfgs', 'liblinear', 'sag', 'saga']\n",
    "space['penalty'] = ['l1', 'l2']\n",
    "space['C'] = loguniform(1e-5, 100)\n",
    "\n",
    "#define search\n",
    "search = RandomizedSearchCV(\n",
    "    model, \n",
    "    space, \n",
    "    n_iter=10, \n",
    "    scoring='f1_weighted', \n",
    "    n_jobs=-1, \n",
    "    cv=cv, \n",
    "    verbose=2,\n",
    "    random_state=999)\n",
    "\n",
    "# execute search\n",
    "result = search.fit(X_train, y_train)\n",
    "\n",
    "print('Best Score: %s' % result.best_score_)\n",
    "print('Best Hyperparameters: %s' % result.best_params_)"
   ]
  },
  {
   "cell_type": "markdown",
   "id": "2d78461d",
   "metadata": {},
   "source": [
    "Best Score: 0.9710773044543977\n",
    "Best Hyperparameters: {'C': 21.786162232558315, 'penalty': 'l2', 'solver': 'liblinear'}"
   ]
  },
  {
   "cell_type": "markdown",
   "id": "16f13936",
   "metadata": {},
   "source": [
    "#### Testing "
   ]
  },
  {
   "cell_type": "code",
   "execution_count": 12,
   "id": "ce1f34b3",
   "metadata": {},
   "outputs": [
    {
     "name": "stdout",
     "output_type": "stream",
     "text": [
      "(1667, 220)\n",
      "(1667,)\n"
     ]
    }
   ],
   "source": [
    "print(X_test.shape)\n",
    "print(y_test.shape)"
   ]
  },
  {
   "cell_type": "code",
   "execution_count": 13,
   "id": "095b8441",
   "metadata": {},
   "outputs": [
    {
     "name": "stdout",
     "output_type": "stream",
     "text": [
      "Train Set Accuracy Score after tuning:  0.9731103112428541\n",
      "Train Set Confusion Matrix \n",
      " [[2286   17   14   21]\n",
      " [  60 2621   21    4]\n",
      " [  33   44 1414    3]\n",
      " [  30    7    0 2871]]\n",
      "Train Set Classification Report \n",
      "               precision    recall  f1-score   support\n",
      "\n",
      "           0       0.95      0.98      0.96      2338\n",
      "           1       0.97      0.97      0.97      2706\n",
      "           2       0.98      0.95      0.96      1494\n",
      "           3       0.99      0.99      0.99      2908\n",
      "\n",
      "    accuracy                           0.97      9446\n",
      "   macro avg       0.97      0.97      0.97      9446\n",
      "weighted avg       0.97      0.97      0.97      9446\n",
      "\n"
     ]
    }
   ],
   "source": [
    "best_model = LogisticRegression(multi_class='ovr', max_iter=10000, **result.best_params_)\n",
    "best_model.fit(X_train, y_train)\n",
    "# Train set\n",
    "best_model_train_score = best_model.score(X_train, y_train)\n",
    "print('Train Set Accuracy Score after tuning: ', best_model_train_score)\n",
    "pred1 = best_model.predict(X_train)\n",
    "print(\"Train Set Confusion Matrix \\n\", confusion_matrix(y_train, pred1))\n",
    "print(\"Train Set Classification Report \\n\",classification_report(y_train, pred1))\n"
   ]
  },
  {
   "cell_type": "code",
   "execution_count": 14,
   "id": "907b197d",
   "metadata": {},
   "outputs": [
    {
     "name": "stdout",
     "output_type": "stream",
     "text": [
      "Test Set Accuracy Score:  0.9640071985602879\n",
      "Test Set Confusion Matrix \n",
      " [[399   6   2   6]\n",
      " [  6 445   8   1]\n",
      " [  7   8 260   1]\n",
      " [ 13   1   1 503]]\n",
      "Test Set Classification Report \n",
      "               precision    recall  f1-score   support\n",
      "\n",
      "           0    0.93882   0.96610   0.95227       413\n",
      "           1    0.96739   0.96739   0.96739       460\n",
      "           2    0.95941   0.94203   0.95064       276\n",
      "           3    0.98434   0.97104   0.97765       518\n",
      "\n",
      "    accuracy                        0.96401      1667\n",
      "   macro avg    0.96249   0.96164   0.96199      1667\n",
      "weighted avg    0.96426   0.96401   0.96406      1667\n",
      "\n"
     ]
    }
   ],
   "source": [
    "#Test Set\n",
    "best_model_test_score = best_model.score(X_test, y_test)\n",
    "print('Test Set Accuracy Score: ', best_model_test_score)\n",
    "test_pred1 = best_model.predict(X_test)\n",
    "print(\"Test Set Confusion Matrix \\n\", confusion_matrix(y_test, test_pred1))\n",
    "print(\"Test Set Classification Report \\n\",classification_report(y_test, test_pred1,digits=5))"
   ]
  },
  {
   "cell_type": "code",
   "execution_count": 15,
   "id": "a60c428b",
   "metadata": {},
   "outputs": [
    {
     "name": "stdout",
     "output_type": "stream",
     "text": [
      "Execution time: 5.399878978729248 s\n",
      "Wall time: 5.4 s\n"
     ]
    }
   ],
   "source": [
    "%%time\n",
    "start_time = time.time()\n",
    "model_time = LogisticRegression(multi_class='ovr', max_iter=10000, **result.best_params_)\n",
    "model_time.fit(X_train, y_train)\n",
    "test_pred1 = model_time.predict(X_test)\n",
    "print(\"Execution time: \" + str((time.time() - start_time)) + ' s')"
   ]
  },
  {
   "cell_type": "code",
   "execution_count": 16,
   "id": "1df28050",
   "metadata": {},
   "outputs": [
    {
     "name": "stdout",
     "output_type": "stream",
     "text": [
      "Index(['following_to_followers_ratio', 'has_desc', 'tweet_weekday_frequency',\n",
      "       'tweet_frequency', 'tweets_7', 'tweets_35', 'has_url',\n",
      "       'number_of_mentions', 'reciprocity', 'tweets_13', 'description_14',\n",
      "       'tweets_5', 'description_42', 'tweets_82', 'description_46',\n",
      "       'tweets_59', 'tweets_2', 'favourites_count', 'tweets_8', 'tweets_22'],\n",
      "      dtype='object')\n"
     ]
    }
   ],
   "source": [
    "imps = permutation_importance(model_time, X_test, y_test)\n",
    "imps_sorted = imps.importances_mean.argsort()[::-1]\n",
    "\n",
    "print(np.take(X_train.columns, imps_sorted[: 20]))"
   ]
  },
  {
   "cell_type": "code",
   "execution_count": null,
   "id": "cbaa73cb",
   "metadata": {},
   "outputs": [],
   "source": []
  }
 ],
 "metadata": {
  "kernelspec": {
   "display_name": "Python 3 (ipykernel)",
   "language": "python",
   "name": "python3"
  },
  "language_info": {
   "codemirror_mode": {
    "name": "ipython",
    "version": 3
   },
   "file_extension": ".py",
   "mimetype": "text/x-python",
   "name": "python",
   "nbconvert_exporter": "python",
   "pygments_lexer": "ipython3",
   "version": "3.9.13"
  }
 },
 "nbformat": 4,
 "nbformat_minor": 5
}
