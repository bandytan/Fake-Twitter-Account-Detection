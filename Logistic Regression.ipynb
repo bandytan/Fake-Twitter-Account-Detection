{
 "cells": [
  {
   "cell_type": "code",
   "execution_count": 1,
   "id": "23869af1",
   "metadata": {},
   "outputs": [],
   "source": [
    "import pandas as pd \n",
    "import numpy as np\n",
    "%matplotlib inline\n",
    "import matplotlib as mpl\n",
    "import matplotlib.pyplot as plt\n",
    "from sklearn.preprocessing import OrdinalEncoder, MinMaxScaler\n",
    "from sklearn.linear_model import LogisticRegression\n",
    "from sklearn.model_selection import RepeatedStratifiedKFold\n",
    "from sklearn.model_selection import GridSearchCV, RandomizedSearchCV\n",
    "from sklearn import metrics\n",
    "from sklearn.metrics import classification_report, confusion_matrix, roc_auc_score\n",
    "from sklearn.inspection import permutation_importance\n",
    "from scipy.stats import loguniform\n",
    "import glob\n",
    "import os\n",
    "import time"
   ]
  },
  {
   "cell_type": "code",
   "execution_count": 2,
   "id": "a3e00a6f",
   "metadata": {},
   "outputs": [],
   "source": [
    "pd.set_option('mode.use_inf_as_na', True)"
   ]
  },
  {
   "cell_type": "code",
   "execution_count": 3,
   "id": "f87fb3ec",
   "metadata": {},
   "outputs": [
    {
     "name": "stdout",
     "output_type": "stream",
     "text": [
      "(9445, 235)\n",
      "(1667, 235)\n"
     ]
    }
   ],
   "source": [
    "train_df = pd.read_csv(\"data/twitter_data_train_multiclass.csv\")\n",
    "test_df = pd.read_csv(\"data/twitter_data_test_multiclass.csv\")\n",
    "\n",
    "print(train_df.shape)\n",
    "print(test_df.shape)"
   ]
  },
  {
   "cell_type": "code",
   "execution_count": 4,
   "id": "13d6c4d0",
   "metadata": {},
   "outputs": [],
   "source": [
    "scaler = MinMaxScaler() \n",
    "train_df[['statuses_count', 'favourites_count', 'followers_count', 'friends_count', 'number_of_mentions']] = scaler.fit_transform(train_df[['statuses_count', 'favourites_count', 'followers_count', 'friends_count', 'number_of_mentions']])\n",
    "test_df[['statuses_count', 'favourites_count', 'followers_count', 'friends_count', 'number_of_mentions']] = scaler.transform(test_df[['statuses_count', 'favourites_count', 'followers_count', 'friends_count', 'number_of_mentions']])"
   ]
  },
  {
   "cell_type": "code",
   "execution_count": 5,
   "id": "0d4702e4",
   "metadata": {},
   "outputs": [],
   "source": [
    "to_drop = [\n",
    "    'account_type', \n",
    "    'account_type_multi',\n",
    "    'id', \n",
    "    'name', \n",
    "    'screen_name',\n",
    "    'profile_image_url',\n",
    "    'protected',\n",
    "    'verified',\n",
    "    'description',\n",
    "    'description_processed',\n",
    "    'tweets_list',\n",
    "    'tweets_list_processed',\n",
    "    'url'\n",
    "    ]\n",
    "\n",
    "X_train, y_train = train_df.drop(to_drop, axis=1), train_df['account_type_multi']\n",
    "X_test, y_test = test_df.drop(to_drop, axis=1), test_df['account_type_multi']\n",
    "\n"
   ]
  },
  {
   "cell_type": "code",
   "execution_count": 6,
   "id": "a316b8b8",
   "metadata": {},
   "outputs": [
    {
     "data": {
      "text/plain": [
       "array([dtype('int64'), dtype('float64')], dtype=object)"
      ]
     },
     "execution_count": 6,
     "metadata": {},
     "output_type": "execute_result"
    }
   ],
   "source": [
    "X_train.dtypes.unique()"
   ]
  },
  {
   "cell_type": "code",
   "execution_count": 7,
   "id": "eccd724b",
   "metadata": {},
   "outputs": [
    {
     "name": "stdout",
     "output_type": "stream",
     "text": [
      "(9445, 222)\n",
      "(9445,)\n",
      "(1667, 222)\n",
      "(1667,)\n"
     ]
    }
   ],
   "source": [
    "print(X_train.shape)\n",
    "print(y_train.shape)\n",
    "print(X_test.shape)\n",
    "print(y_test.shape)"
   ]
  },
  {
   "cell_type": "markdown",
   "id": "e9c02dfc",
   "metadata": {},
   "source": [
    "#### Logistic Regression model Training and Hyper parameters tuning"
   ]
  },
  {
   "cell_type": "code",
   "execution_count": 8,
   "id": "3709f7fc",
   "metadata": {},
   "outputs": [
    {
     "name": "stdout",
     "output_type": "stream",
     "text": [
      "Train Set Accuracy Score:  0.9766013763896242\n",
      "Train Set Confusion Matrix \n",
      " [[2262   20   22   20   19    0]\n",
      " [  56 2638    0    5    2    0]\n",
      " [  26    1  273    0    0    0]\n",
      " [  34    6    0 3665    0    1]\n",
      " [   5    0    0    1  310    0]\n",
      " [   3    0    0    0    0   76]]\n",
      "Train Set Classification Report \n",
      "               precision    recall  f1-score   support\n",
      "\n",
      "           0       0.95      0.97      0.96      2343\n",
      "           1       0.99      0.98      0.98      2701\n",
      "           2       0.93      0.91      0.92       300\n",
      "           3       0.99      0.99      0.99      3706\n",
      "           4       0.94      0.98      0.96       316\n",
      "           5       0.99      0.96      0.97        79\n",
      "\n",
      "    accuracy                           0.98      9445\n",
      "   macro avg       0.96      0.96      0.96      9445\n",
      "weighted avg       0.98      0.98      0.98      9445\n",
      "\n"
     ]
    }
   ],
   "source": [
    "# uses lbfgs solver as default\n",
    "LRModel = LogisticRegression(multi_class = 'ovr', max_iter=10000)\n",
    "LRModel.fit(X_train, y_train)\n",
    "# Train set\n",
    "LRModel_train_score = LRModel.score(X_train, y_train)\n",
    "print('Train Set Accuracy Score: ', LRModel_train_score)\n",
    "pred = LRModel.predict(X_train)\n",
    "print(\"Train Set Confusion Matrix \\n\", confusion_matrix(y_train, pred))\n",
    "print(\"Train Set Classification Report \\n\",classification_report(y_train, pred))"
   ]
  },
  {
   "cell_type": "code",
   "execution_count": 9,
   "id": "ec783dc0",
   "metadata": {},
   "outputs": [
    {
     "name": "stdout",
     "output_type": "stream",
     "text": [
      "Test Set Accuracy Score:  0.9610077984403119\n",
      "Test Set Confusion Matrix \n",
      " [[381   9   7   9   7   0]\n",
      " [ 12 450   0   1   0   0]\n",
      " [  6   0  52   1   0   0]\n",
      " [  7   2   0 654   0   0]\n",
      " [  1   0   0   2  48   0]\n",
      " [  1   0   0   0   0  17]]\n",
      "Test Set Classification Report \n",
      "               precision    recall  f1-score   support\n",
      "\n",
      "           0       0.93      0.92      0.93       413\n",
      "           1       0.98      0.97      0.97       463\n",
      "           2       0.88      0.88      0.88        59\n",
      "           3       0.98      0.99      0.98       663\n",
      "           4       0.87      0.94      0.91        51\n",
      "           5       1.00      0.94      0.97        18\n",
      "\n",
      "    accuracy                           0.96      1667\n",
      "   macro avg       0.94      0.94      0.94      1667\n",
      "weighted avg       0.96      0.96      0.96      1667\n",
      "\n"
     ]
    }
   ],
   "source": [
    "#Test Set\n",
    "LRModel_test_score = LRModel.score(X_test, y_test)\n",
    "print('Test Set Accuracy Score: ', LRModel_test_score)\n",
    "test_pred = LRModel.predict(X_test)\n",
    "print(\"Test Set Confusion Matrix \\n\", confusion_matrix(y_test, test_pred))\n",
    "print(\"Test Set Classification Report \\n\",classification_report(y_test, test_pred))"
   ]
  },
  {
   "cell_type": "markdown",
   "id": "f44ef5ff",
   "metadata": {},
   "source": [
    "### Hyper parameter tuning with RandomizedSearchCV"
   ]
  },
  {
   "cell_type": "code",
   "execution_count": 10,
   "id": "fca11cf4",
   "metadata": {},
   "outputs": [
    {
     "name": "stdout",
     "output_type": "stream",
     "text": [
      "Fitting 15 folds for each of 10 candidates, totalling 150 fits\n",
      "Best Score: 0.9747205162725633\n",
      "Best Hyperparameters: {'C': 4.207230251572931, 'penalty': 'l2', 'solver': 'lbfgs'}\n"
     ]
    }
   ],
   "source": [
    "import warnings\n",
    "warnings.filterwarnings('ignore')\n",
    "#using repeatedStratifiedKfold \n",
    "model = LogisticRegression(multi_class='ovr', max_iter=10000)\n",
    "cv = RepeatedStratifiedKFold(n_splits=5, n_repeats=3, random_state=999)\n",
    "space = dict()\n",
    "space['solver'] = ['newton-cg', 'lbfgs', 'liblinear', 'sag', 'saga']\n",
    "space['penalty'] = ['l1', 'l2']\n",
    "space['C'] = loguniform(1e-5, 100)\n",
    "\n",
    "#define search\n",
    "search = RandomizedSearchCV(\n",
    "    model, \n",
    "    space, \n",
    "    n_iter=10, \n",
    "    scoring='f1_weighted', \n",
    "    n_jobs=-1, \n",
    "    cv=cv, \n",
    "    verbose=2,\n",
    "    random_state=999)\n",
    "\n",
    "# execute search\n",
    "result = search.fit(X_train, y_train)\n",
    "\n",
    "print('Best Score: %s' % result.best_score_)\n",
    "print('Best Hyperparameters: %s' % result.best_params_)"
   ]
  },
  {
   "cell_type": "markdown",
   "id": "16f13936",
   "metadata": {},
   "source": [
    "#### Testing "
   ]
  },
  {
   "cell_type": "code",
   "execution_count": 11,
   "id": "ce1f34b3",
   "metadata": {},
   "outputs": [
    {
     "name": "stdout",
     "output_type": "stream",
     "text": [
      "(1667, 222)\n",
      "(1667,)\n"
     ]
    }
   ],
   "source": [
    "print(X_test.shape)\n",
    "print(y_test.shape)"
   ]
  },
  {
   "cell_type": "code",
   "execution_count": 12,
   "id": "095b8441",
   "metadata": {},
   "outputs": [
    {
     "name": "stdout",
     "output_type": "stream",
     "text": [
      "Train Set Accuracy Score after tuning:  0.9803070407623081\n",
      "Train Set Confusion Matrix \n",
      " [[2275   23   21   12   12    0]\n",
      " [  49 2646    0    5    1    0]\n",
      " [  20    1  279    0    0    0]\n",
      " [  32    5    0 3669    0    0]\n",
      " [   2    0    0    0  314    0]\n",
      " [   3    0    0    0    0   76]]\n",
      "Train Set Classification Report \n",
      "               precision    recall  f1-score   support\n",
      "\n",
      "           0       0.96      0.97      0.96      2343\n",
      "           1       0.99      0.98      0.98      2701\n",
      "           2       0.93      0.93      0.93       300\n",
      "           3       1.00      0.99      0.99      3706\n",
      "           4       0.96      0.99      0.98       316\n",
      "           5       1.00      0.96      0.98        79\n",
      "\n",
      "    accuracy                           0.98      9445\n",
      "   macro avg       0.97      0.97      0.97      9445\n",
      "weighted avg       0.98      0.98      0.98      9445\n",
      "\n"
     ]
    }
   ],
   "source": [
    "best_model = LogisticRegression(multi_class='ovr', max_iter=10000, **result.best_params_)\n",
    "best_model.fit(X_train, y_train)\n",
    "# Train set\n",
    "best_model_train_score = best_model.score(X_train, y_train)\n",
    "print('Train Set Accuracy Score after tuning: ', best_model_train_score)\n",
    "pred1 = best_model.predict(X_train)\n",
    "print(\"Train Set Confusion Matrix \\n\", confusion_matrix(y_train, pred1))\n",
    "print(\"Train Set Classification Report \\n\",classification_report(y_train, pred1))\n"
   ]
  },
  {
   "cell_type": "code",
   "execution_count": 13,
   "id": "907b197d",
   "metadata": {},
   "outputs": [
    {
     "name": "stdout",
     "output_type": "stream",
     "text": [
      "Test Set Accuracy Score:  0.9640071985602879\n",
      "Test Set Confusion Matrix \n",
      " [[382   8   8   7   8   0]\n",
      " [ 12 451   0   0   0   0]\n",
      " [  6   0  53   0   0   0]\n",
      " [  7   0   0 656   0   0]\n",
      " [  1   0   0   2  48   0]\n",
      " [  1   0   0   0   0  17]]\n",
      "Test Set Classification Report \n",
      "               precision    recall  f1-score   support\n",
      "\n",
      "           0       0.93      0.92      0.93       413\n",
      "           1       0.98      0.97      0.98       463\n",
      "           2       0.87      0.90      0.88        59\n",
      "           3       0.99      0.99      0.99       663\n",
      "           4       0.86      0.94      0.90        51\n",
      "           5       1.00      0.94      0.97        18\n",
      "\n",
      "    accuracy                           0.96      1667\n",
      "   macro avg       0.94      0.95      0.94      1667\n",
      "weighted avg       0.96      0.96      0.96      1667\n",
      "\n"
     ]
    }
   ],
   "source": [
    "#Test Set\n",
    "best_model_test_score = best_model.score(X_test, y_test)\n",
    "print('Test Set Accuracy Score: ', best_model_test_score)\n",
    "test_pred1 = best_model.predict(X_test)\n",
    "print(\"Test Set Confusion Matrix \\n\", confusion_matrix(y_test, test_pred1))\n",
    "print(\"Test Set Classification Report \\n\",classification_report(y_test, test_pred1))"
   ]
  },
  {
   "cell_type": "code",
   "execution_count": 17,
   "id": "a60c428b",
   "metadata": {},
   "outputs": [
    {
     "name": "stdout",
     "output_type": "stream",
     "text": [
      "Execution time: 156.5509090423584 s\n",
      "Wall time: 2min 36s\n"
     ]
    }
   ],
   "source": [
    "%%time\n",
    "start_time = time.time()\n",
    "model_time = LogisticRegression(multi_class='ovr', max_iter=10000, **result.best_params_)\n",
    "model_time.fit(X_train, y_train)\n",
    "test_pred1 = model_time.predict(X_test)\n",
    "print(\"Execution time: \" + str((time.time() - start_time)) + ' s')"
   ]
  },
  {
   "cell_type": "code",
   "execution_count": 16,
   "id": "1df28050",
   "metadata": {},
   "outputs": [
    {
     "name": "stdout",
     "output_type": "stream",
     "text": [
      "Index(['following_to_followers_ratio', 'tweet_weekday_frequency',\n",
      "       'tweet_frequency', 'tweet_weekend_frequency',\n",
      "       'profile_use_background_image', 'number_of_mentions', 'tweets_8',\n",
      "       'geo_enabled', 'listed_count', 'tweets_17', 'description_14',\n",
      "       'tweets_6', 'tweets_0', 'default_profile', 'profile_background_tile',\n",
      "       'tweets_59', 'tweets_20', 'description_46', 'tweets_58',\n",
      "       'screen_name_length'],\n",
      "      dtype='object')\n"
     ]
    }
   ],
   "source": [
    "imps = permutation_importance(model_time, X_test, y_test)\n",
    "imps_sorted = imps.importances_mean.argsort()[::-1]\n",
    "\n",
    "print(np.take(X_train.columns, imps_sorted[: 20]))"
   ]
  },
  {
   "cell_type": "code",
   "execution_count": null,
   "id": "cbaa73cb",
   "metadata": {},
   "outputs": [],
   "source": []
  }
 ],
 "metadata": {
  "kernelspec": {
   "display_name": "Python 3 (ipykernel)",
   "language": "python",
   "name": "python3"
  },
  "language_info": {
   "codemirror_mode": {
    "name": "ipython",
    "version": 3
   },
   "file_extension": ".py",
   "mimetype": "text/x-python",
   "name": "python",
   "nbconvert_exporter": "python",
   "pygments_lexer": "ipython3",
   "version": "3.9.13"
  }
 },
 "nbformat": 4,
 "nbformat_minor": 5
}
