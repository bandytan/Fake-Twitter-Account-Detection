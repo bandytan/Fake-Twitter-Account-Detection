{
 "metadata": {
  "language_info": {
   "codemirror_mode": {
    "name": "ipython",
    "version": 3
   },
   "file_extension": ".py",
   "mimetype": "text/x-python",
   "name": "python",
   "nbconvert_exporter": "python",
   "pygments_lexer": "ipython3",
   "version": "3.8.5-final"
  },
  "orig_nbformat": 2,
  "kernelspec": {
   "name": "python3",
   "display_name": "Python 3.8.5 64-bit ('base': conda)",
   "metadata": {
    "interpreter": {
     "hash": "0b5e695f973a7cdd4fc74ba2ed65a7a37ab2a96a506d329d22c7ff6a81e833be"
    }
   }
  }
 },
 "nbformat": 4,
 "nbformat_minor": 2,
 "cells": [
  {
   "cell_type": "code",
   "execution_count": 24,
   "metadata": {},
   "outputs": [],
   "source": [
    "import pandas as pd \n",
    "import numpy as np \n",
    "import glob\n",
    "import matplotlib.pyplot as plt\n",
    "from time import time\n",
    "\n",
    "from sklearn.inspection import permutation_importance\n",
    "from sklearn.metrics import classification_report, confusion_matrix, roc_auc_score, roc_curve, recall_score\n",
    "from sklearn.model_selection import RandomizedSearchCV, RepeatedStratifiedKFold\n",
    "\n",
    "# Differnt types of Naive Bayes Classifiers\n",
    "from sklearn.naive_bayes import GaussianNB, MultinomialNB, BernoulliNB\n",
    "\n",
    "pd.set_option('display.max_columns', None)"
   ]
  },
  {
   "cell_type": "code",
   "execution_count": 2,
   "metadata": {},
   "outputs": [],
   "source": [
    "df = pd.read_csv('../twitter_data_train_multiclass.csv')\n",
    "test = pd.read_csv('../twitter_data_test_multiclass.csv')"
   ]
  },
  {
   "cell_type": "code",
   "execution_count": 3,
   "metadata": {},
   "outputs": [
    {
     "output_type": "execute_result",
     "data": {
      "text/plain": [
       "       NaN             0   \n",
       "\n",
       "                                         tweets_list  tweet_frequency  \\\n",
       "0                                                NaN         0.000000   \n",
       "1  [\"'ccezionale!!!\", 'Pete Seeger Leads Amazing ...         2.143443   \n",
       "2  ['I love you and I always have.', '@nissimhg o...         4.961538   \n",
       "3  [\"Killing Me Softly, And I'm Still Falling!!!\"...         2.117647   \n",
       "4  [\"Watch how people i never fucked with gonna w...         4.450000   \n",
       "\n",
       "   number_of_tags  number_of_mentions  tweet_weekend_frequency  \\\n",
       "0             0.0                 0.0                 0.000000   \n",
       "1           203.0               273.0                 2.230769   \n",
       "2             7.0                47.0                 5.714286   \n",
       "3             6.0                 0.0                 2.000000   \n",
       "4             9.0                40.0                 4.428571   \n",
       "\n",
       "   tweet_weekday_frequency  following_to_followers_ratio  username_length  \\\n",
       "0                 0.000000                      1.091859               13   \n",
       "1                 2.111732                      0.952381               20   \n",
       "2                 4.684211                     10.500000               12   \n",
       "3                 2.166667                     22.000000               15   \n",
       "4                 4.461538                      7.800000               11   \n",
       "\n",
       "   screen_name_length  username_spec_char_count  screen_name_spec_char_count  \\\n",
       "0                  14                         1                            0   \n",
       "1                  15                         1                            0   \n",
       "2                  11                         1                            0   \n",
       "3                  15                         1                            0   \n",
       "4                  10                         1                            0   \n",
       "\n",
       "   has_url                              tweets_list_processed  \\\n",
       "0        0                                                NaN   \n",
       "1        0  ccezionale Pete Seeger Leads Amazing Grace  vi...   \n",
       "2        0  I love you and I always have nissimhg ok Never...   \n",
       "3        0  Killing Me Softly And Im Still Falling hj  eu ...   \n",
       "4        0  Watch how people i never fucked with gonna wan...   \n",
       "\n",
       "                               description_processed  tweets_0  tweets_1  \\\n",
       "0  i watch a lot of TV movies and webshows play a...  0.000000  0.000000   \n",
       "1  Despite unrealized hopes illusions disillusion...  0.015111  0.038214   \n",
       "2                                                NaN  0.043643  0.000000   \n",
       "3                                    Pra ue ler ssuh  0.210963  0.000000   \n",
       "4                                                NaN  0.000000  0.000000   \n",
       "\n",
       "   tweets_2  tweets_3  tweets_4  tweets_5  tweets_6  tweets_7  tweets_8  \\\n",
       "0  0.000000  0.000000  0.000000  0.000000  0.000000  0.000000  0.000000   \n",
       "1  0.021573  0.056045  0.012317  0.041829  0.095027  0.118533  0.153021   \n",
       "2  0.124616  0.080935  0.000000  0.080542  0.235250  0.161106  0.000000   \n",
       "3  0.000000  0.000000  0.000000  0.000000  0.000000  0.000000  0.000000   \n",
       "4  0.157321  0.051088  0.000000  0.000000  0.247492  0.000000  0.000000   \n",
       "\n",
       "   tweets_9  tweets_10  tweets_11  tweets_12  tweets_13  tweets_14  tweets_15  \\\n",
       "0  0.000000   0.000000   0.000000   0.000000   0.000000   0.000000   0.000000   \n",
       "1  0.020402   0.024238   0.048284   0.013064   0.038550   0.022159   0.054874   \n",
       "2  0.000000   0.000000   0.000000   0.113194   0.000000   0.128003   0.000000   \n",
       "3  0.000000   0.000000   0.000000   0.000000   0.269102   0.000000   0.000000   \n",
       "4  0.074390   0.000000   0.000000   0.095268   0.070281   0.107731   0.000000   \n",
       "\n",
       "   tweets_16  tweets_17  tweets_18  tweets_19  tweets_20  tweets_21  \\\n",
       "0   0.000000   0.000000   0.000000     0.0000   0.000000   0.000000   \n",
       "1   0.063197   0.012682   0.063936     0.0861   0.314628   0.050772   \n",
       "2   0.146023   0.109882   0.000000     0.0000   0.000000   0.183301   \n",
       "3   0.000000   0.354101   0.000000     0.0000   0.000000   0.000000   \n",
       "4   0.092173   0.092480   0.000000     0.0000   0.074013   0.185126   \n",
       "\n",
       "   tweets_22  tweets_23  tweets_24  tweets_25  tweets_26  tweets_27  \\\n",
       "0   0.000000        0.0   0.000000   0.000000   0.000000   0.000000   \n",
       "1   0.062398        0.0   0.063076   0.012394   0.032178   0.014145   \n",
       "2   0.160194        0.0   0.145743   0.000000   0.111524   0.204275   \n",
       "3   0.193588        0.0   0.000000   0.000000   0.000000   0.000000   \n",
       "4   0.050559        0.0   0.275988   0.000000   0.187723   0.103154   \n",
       "\n",
       "   tweets_28  tweets_29  tweets_30  tweets_31  tweets_32  tweets_33  \\\n",
       "0   0.000000   0.000000   0.000000        0.0   0.000000   0.000000   \n",
       "1   0.058116   0.055773   0.063708        0.0   0.082094   0.011361   \n",
       "2   0.149201   0.161084   0.122668        0.0   0.145911   0.000000   \n",
       "3   0.180303   0.194663   0.000000        0.0   0.000000   0.000000   \n",
       "4   0.094179   0.000000   0.051621        0.0   0.092102   0.000000   \n",
       "\n",
       "   tweets_34  tweets_35  tweets_36  tweets_37  tweets_38  tweets_39  \\\n",
       "0   0.000000   0.000000   0.000000        0.0        0.0   0.000000   \n",
       "1   0.043004   0.149286   0.144188        0.0        0.0   0.026510   \n",
       "2   0.000000   0.000000   0.208224        0.0        0.0   0.191416   \n",
       "3   0.000000   0.000000   0.167753        0.0        0.0   0.000000   \n",
       "4   0.000000   0.000000   0.175248        0.0        0.0   0.241653   \n",
       "\n",
       "   tweets_40  tweets_41  tweets_42  tweets_43  tweets_44  tweets_45  \\\n",
       "0   0.000000   0.000000   0.000000   0.000000   0.000000   0.000000   \n",
       "1   0.165678   0.097239   0.029239   0.071851   0.091812   0.057298   \n",
       "2   0.083220   0.086415   0.000000   0.264120   0.176783   0.055163   \n",
       "3   0.201136   0.000000   0.000000   0.000000   0.170908   0.000000   \n",
       "4   0.000000   0.000000   0.071074   0.190535   0.089271   0.000000   \n",
       "\n",
       "   tweets_46  tweets_47  tweets_48  tweets_49  tweets_50  tweets_51  \\\n",
       "0   0.000000   0.000000   0.000000   0.000000   0.000000   0.000000   \n",
       "1   0.150633   0.015365   0.067312   0.012317   0.026300   0.041564   \n",
       "2   0.118653   0.133135   0.176739   0.000000   0.037980   0.160062   \n",
       "3   0.000000   0.000000   0.000000   0.000000   0.000000   0.000000   \n",
       "4   0.199725   0.056025   0.133874   0.000000   0.143845   0.050517   \n",
       "\n",
       "   tweets_52  tweets_53  tweets_54  tweets_55  tweets_56  tweets_57  \\\n",
       "0   0.000000        0.0   0.000000   0.000000   0.000000   0.000000   \n",
       "1   0.027256        0.0   0.031031   0.039828   0.052517   0.041071   \n",
       "2   0.000000        0.0   0.044812   0.153377   0.151682   0.158161   \n",
       "3   0.253683        0.0   0.000000   0.185350   0.000000   0.000000   \n",
       "4   0.066254        0.0   0.113144   0.145223   0.047872   0.099835   \n",
       "\n",
       "   tweets_58  tweets_59  tweets_60  tweets_61  tweets_62  tweets_63  \\\n",
       "0   0.000000   0.000000   0.000000   0.000000   0.000000   0.000000   \n",
       "1   0.069111   0.078282   0.087746   0.039378   0.193772   0.000000   \n",
       "2   0.039922   0.000000   0.181022   0.189552   0.000000   0.075429   \n",
       "3   0.000000   0.000000   0.000000   0.183253   0.000000   0.000000   \n",
       "4   0.050399   0.000000   0.137118   0.143580   0.000000   0.000000   \n",
       "\n",
       "   tweets_64  tweets_65  tweets_66  tweets_67  tweets_68  tweets_69  \\\n",
       "0   0.000000     0.0000   0.000000        0.0   0.000000   0.000000   \n",
       "1   0.061124     0.0115   0.010128        0.0   0.117751   0.037663   \n",
       "2   0.000000     0.0000   0.000000        0.0   0.085023   0.043512   \n",
       "3   0.000000     0.0000   0.000000        0.0   0.000000   0.000000   \n",
       "4   0.000000     0.0000   0.073861        0.0   0.000000   0.109863   \n",
       "\n",
       "   tweets_70  tweets_71  tweets_72  tweets_73  tweets_74  tweets_75  \\\n",
       "0   0.000000   0.000000   0.000000   0.000000   0.000000   0.000000   \n",
       "1   0.043608   0.000000   0.027844   0.011764   0.034073   0.056702   \n",
       "2   0.041983   0.000000   0.080419   0.000000   0.000000   0.054589   \n",
       "3   0.000000   0.242716   0.000000   0.000000   0.000000   0.000000   \n",
       "4   0.106002   0.000000   0.101525   0.000000   0.082826   0.000000   \n",
       "\n",
       "   tweets_76  tweets_77  tweets_78  tweets_79  tweets_80  tweets_81  \\\n",
       "0   0.000000   0.000000   0.000000   0.000000   0.000000   0.000000   \n",
       "1   0.090414   0.007634   0.023734   0.011146   0.021561   0.019044   \n",
       "2   0.000000   0.044095   0.068549   0.000000   0.041515   0.000000   \n",
       "3   0.000000   0.000000   0.000000   0.000000   0.000000   0.000000   \n",
       "4   0.000000   0.055667   0.000000   0.000000   0.000000   0.000000   \n",
       "\n",
       "   tweets_82  tweets_83  tweets_84  tweets_85  tweets_86  tweets_87  \\\n",
       "0   0.000000   0.000000   0.000000   0.000000   0.000000   0.000000   \n",
       "1   0.013805   0.041518   0.010563   0.098142   0.071127   0.036862   \n",
       "2   0.159489   0.119914   0.000000   0.141727   0.000000   0.000000   \n",
       "3   0.000000   0.000000   0.000000   0.171271   0.000000   0.000000   \n",
       "4   0.352356   0.151384   0.000000   0.178923   0.051869   0.000000   \n",
       "\n",
       "   tweets_88  tweets_89  tweets_90  tweets_91  tweets_92  tweets_93  \\\n",
       "0   0.000000   0.000000   0.000000   0.000000   0.000000   0.000000   \n",
       "1   0.000000   0.038113   0.102217   0.063132   0.722933   0.032901   \n",
       "2   0.000000   0.110080   0.000000   0.000000   0.000000   0.114032   \n",
       "3   0.421354   0.000000   0.259468   0.000000   0.000000   0.000000   \n",
       "4   0.000000   0.138970   0.067765   0.000000   0.000000   0.047986   \n",
       "\n",
       "   tweets_94  tweets_95  tweets_96  tweets_97  tweets_98  tweets_99  \\\n",
       "0   0.000000   0.000000   0.000000   0.000000   0.000000   0.000000   \n",
       "1   0.006619   0.014319   0.014699   0.058143   0.000000   0.021576   \n",
       "2   0.152930   0.082711   0.042455   0.083966   0.000000   0.124634   \n",
       "3   0.000000   0.199904   0.000000   0.000000   0.215975   0.000000   \n",
       "4   0.096533   0.208835   0.053598   0.106002   0.169218   0.104895   \n",
       "\n",
       "   description_0  description_1  description_2  description_3  description_4  \\\n",
       "0            0.0            0.0            0.0            0.0            0.0   \n",
       "1            0.0            0.0            0.0            0.0            0.0   \n",
       "2            0.0            0.0            0.0            0.0            0.0   \n",
       "3            0.0            0.0            0.0            0.0            0.0   \n",
       "4            0.0            0.0            0.0            0.0            0.0   \n",
       "\n",
       "   description_5  description_6  description_7  description_8  description_9  \\\n",
       "0            0.0            0.0            0.0            0.0            0.0   \n",
       "1            0.0            0.0            0.0            0.0            0.0   \n",
       "2            0.0            0.0            0.0            0.0            0.0   \n",
       "3            0.0            0.0            0.0            0.0            0.0   \n",
       "4            0.0            0.0            0.0            0.0            0.0   \n",
       "\n",
       "   description_10  description_11  description_12  description_13  \\\n",
       "0             0.0             0.0             0.0             0.0   \n",
       "1             0.0             0.0             0.0             0.0   \n",
       "2             0.0             0.0             0.0             0.0   \n",
       "3             0.0             0.0             0.0             0.0   \n",
       "4             0.0             0.0             0.0             0.0   \n",
       "\n",
       "   description_14  description_15  description_16  description_17  \\\n",
       "0             0.0             0.0             0.0             0.0   \n",
       "1             0.0             0.0             0.0             0.0   \n",
       "2             0.0             0.0             0.0             0.0   \n",
       "3             0.0             0.0             0.0             0.0   \n",
       "4             0.0             0.0             0.0             0.0   \n",
       "\n",
       "   description_18  description_19  description_20  description_21  \\\n",
       "0             0.0             0.0             0.0             0.0   \n",
       "1             0.0             0.0             0.0             0.0   \n",
       "2             0.0             0.0             0.0             0.0   \n",
       "3             0.0             0.0             0.0             0.0   \n",
       "4             0.0             0.0             0.0             0.0   \n",
       "\n",
       "   description_22  description_23  description_24  description_25  \\\n",
       "0             0.0             0.0             0.0             0.0   \n",
       "1             0.0             0.0             0.0             0.0   \n",
       "2             0.0             0.0             0.0             0.0   \n",
       "3             0.0             0.0             0.0             0.0   \n",
       "4             0.0             0.0             0.0             0.0   \n",
       "\n",
       "   description_26  description_27  description_28  description_29  \\\n",
       "0             0.0             0.0             0.0             0.0   \n",
       "1             0.0             0.0             0.0             0.0   \n",
       "2             0.0             0.0             0.0             0.0   \n",
       "3             0.0             0.0             0.0             0.0   \n",
       "4             0.0             0.0             0.0             0.0   \n",
       "\n",
       "   description_30  description_31  description_32  description_33  \\\n",
       "0             0.0             0.0             0.0             0.0   \n",
       "1             0.0             0.0             0.0             0.0   \n",
       "2             0.0             0.0             0.0             0.0   \n",
       "3             0.0             0.0             0.0             0.0   \n",
       "4             0.0             0.0             0.0             0.0   \n",
       "\n",
       "   description_34  description_35  description_36  description_37  \\\n",
       "0             0.0             0.0             0.0             0.0   \n",
       "1             0.0             0.0             0.0             0.0   \n",
       "2             0.0             0.0             0.0             0.0   \n",
       "3             0.0             0.0             0.0             0.0   \n",
       "4             0.0             0.0             0.0             0.0   \n",
       "\n",
       "   description_38  description_39  description_40  description_41  \\\n",
       "0             0.0             0.0             0.0             0.0   \n",
       "1             0.0             0.0             0.0             0.0   \n",
       "2             0.0             0.0             0.0             0.0   \n",
       "3             0.0             0.0             0.0             0.0   \n",
       "4             0.0             0.0             0.0             0.0   \n",
       "\n",
       "   description_42  description_43  description_44  description_45  \\\n",
       "0             0.0             0.0             0.0             0.0   \n",
       "1             0.0             0.0             0.0             1.0   \n",
       "2             0.0             0.0             0.0             0.0   \n",
       "3             0.0             0.0             0.0             0.0   \n",
       "4             0.0             0.0             0.0             0.0   \n",
       "\n",
       "   description_46  description_47  description_48  description_49  \\\n",
       "0             0.0             0.0             0.0             0.0   \n",
       "1             0.0             0.0             0.0             0.0   \n",
       "2             0.0             0.0             0.0             0.0   \n",
       "3             0.0             0.0             0.0             0.0   \n",
       "4             0.0             0.0             0.0             0.0   \n",
       "\n",
       "   description_50  description_51  description_52  description_53  \\\n",
       "0             0.0             0.0             0.0             0.0   \n",
       "1             0.0             0.0             0.0             0.0   \n",
       "2             0.0             0.0             0.0             0.0   \n",
       "3             0.0             0.0             0.0             0.0   \n",
       "4             0.0             0.0             0.0             0.0   \n",
       "\n",
       "   description_54  description_55  description_56  description_57  \\\n",
       "0             0.0             0.0             0.0             0.0   \n",
       "1             0.0             0.0             0.0             0.0   \n",
       "2             0.0             0.0             0.0             0.0   \n",
       "3             0.0             0.0             0.0             0.0   \n",
       "4             0.0             0.0             0.0             0.0   \n",
       "\n",
       "   description_58  description_59  description_60  description_61  \\\n",
       "0             0.0             0.0             0.0             0.0   \n",
       "1             0.0             0.0             0.0             0.0   \n",
       "2             0.0             0.0             0.0             0.0   \n",
       "3             0.0             0.0             0.0             0.0   \n",
       "4             0.0             0.0             0.0             0.0   \n",
       "\n",
       "   description_62  description_63  description_64  description_65  \\\n",
       "0             0.0             0.0             0.0             0.0   \n",
       "1             0.0             0.0             0.0             0.0   \n",
       "2             0.0             0.0             0.0             0.0   \n",
       "3             0.0             0.0             0.0             0.0   \n",
       "4             0.0             0.0             0.0             0.0   \n",
       "\n",
       "   description_66  description_67  description_68  description_69  \\\n",
       "0             0.0             0.0             0.0             0.0   \n",
       "1             0.0             0.0             0.0             0.0   \n",
       "2             0.0             0.0             0.0             0.0   \n",
       "3             0.0             0.0             0.0             0.0   \n",
       "4             0.0             0.0             0.0             0.0   \n",
       "\n",
       "   description_70  description_71  description_72  description_73  \\\n",
       "0             0.0             0.0             0.0             0.0   \n",
       "1             0.0             0.0             0.0             0.0   \n",
       "2             0.0             0.0             0.0             0.0   \n",
       "3             0.0             0.0             0.0             0.0   \n",
       "4             0.0             0.0             0.0             0.0   \n",
       "\n",
       "   description_74  description_75  description_76  description_77  \\\n",
       "0             0.0             0.0             0.0             0.0   \n",
       "1             0.0             0.0             0.0             0.0   \n",
       "2             0.0             0.0             0.0             0.0   \n",
       "3             0.0             0.0             0.0             0.0   \n",
       "4             0.0             0.0             0.0             0.0   \n",
       "\n",
       "   description_78  description_79  description_80  description_81  \\\n",
       "0        0.885328             0.0             0.0             0.0   \n",
       "1        0.000000             0.0             0.0             0.0   \n",
       "2        0.000000             0.0             0.0             0.0   \n",
       "3        0.000000             0.0             0.0             0.0   \n",
       "4        0.000000             0.0             0.0             0.0   \n",
       "\n",
       "   description_82  description_83  description_84  description_85  \\\n",
       "0             0.0             0.0             0.0             0.0   \n",
       "1             0.0             0.0             0.0             0.0   \n",
       "2             0.0             0.0             0.0             0.0   \n",
       "3             0.0             0.0             0.0             0.0   \n",
       "4             0.0             0.0             0.0             0.0   \n",
       "\n",
       "   description_86  description_87  description_88  description_89  \\\n",
       "0        0.464967             0.0             0.0             0.0   \n",
       "1        0.000000             0.0             0.0             0.0   \n",
       "2        0.000000             0.0             0.0             0.0   \n",
       "3        0.000000             0.0             0.0             0.0   \n",
       "4        0.000000             0.0             0.0             0.0   \n",
       "\n",
       "   description_90  description_91  description_92  description_93  \\\n",
       "0             0.0             0.0             0.0             0.0   \n",
       "1             0.0             0.0             0.0             0.0   \n",
       "2             0.0             0.0             0.0             0.0   \n",
       "3             0.0             0.0             0.0             0.0   \n",
       "4             0.0             0.0             0.0             0.0   \n",
       "\n",
       "   description_94  description_95  description_96  description_97  \\\n",
       "0             0.0             0.0             0.0             0.0   \n",
       "1             0.0             0.0             0.0             0.0   \n",
       "2             0.0             0.0             0.0             0.0   \n",
       "3             0.0             0.0             0.0             0.0   \n",
       "4             0.0             0.0             0.0             0.0   \n",
       "\n",
       "   description_98  description_99  account_type_multi  \n",
       "0             0.0             0.0                   0  \n",
       "1             0.0             0.0                   0  \n",
       "2             0.0             0.0                   3  \n",
       "3             0.0             0.0                   1  \n",
       "4             0.0             0.0                   3  "
      ],
      "text/html": "<div>\n<style scoped>\n    .dataframe tbody tr th:only-of-type {\n        vertical-align: middle;\n    }\n\n    .dataframe tbody tr th {\n        vertical-align: top;\n    }\n\n    .dataframe thead th {\n        text-align: right;\n    }\n</style>\n<table border=\"1\" class=\"dataframe\">\n  <thead>\n    <tr style=\"text-align: right;\">\n      <th></th>\n      <th>Unnamed: 0</th>\n      <th>id</th>\n      <th>name</th>\n      <th>screen_name</th>\n      <th>statuses_count</th>\n      <th>followers_count</th>\n      <th>friends_count</th>\n      <th>favourites_count</th>\n      <th>listed_count</th>\n      <th>url</th>\n      <th>default_profile</th>\n      <th>default_profile_image</th>\n      <th>geo_enabled</th>\n      <th>profile_image_url</th>\n      <th>profile_use_background_image</th>\n      <th>profile_background_tile</th>\n      <th>protected</th>\n      <th>verified</th>\n      <th>description</th>\n      <th>account_type</th>\n      <th>tweets_list</th>\n      <th>tweet_frequency</th>\n      <th>number_of_tags</th>\n      <th>number_of_mentions</th>\n      <th>tweet_weekend_frequency</th>\n      <th>tweet_weekday_frequency</th>\n      <th>following_to_followers_ratio</th>\n      <th>username_length</th>\n      <th>screen_name_length</th>\n      <th>username_spec_char_count</th>\n      <th>screen_name_spec_char_count</th>\n      <th>has_url</th>\n      <th>tweets_list_processed</th>\n      <th>description_processed</th>\n      <th>tweets_0</th>\n      <th>tweets_1</th>\n      <th>tweets_2</th>\n      <th>tweets_3</th>\n      <th>tweets_4</th>\n      <th>tweets_5</th>\n      <th>tweets_6</th>\n      <th>tweets_7</th>\n      <th>tweets_8</th>\n      <th>tweets_9</th>\n      <th>tweets_10</th>\n      <th>tweets_11</th>\n      <th>tweets_12</th>\n      <th>tweets_13</th>\n      <th>tweets_14</th>\n      <th>tweets_15</th>\n      <th>tweets_16</th>\n      <th>tweets_17</th>\n      <th>tweets_18</th>\n      <th>tweets_19</th>\n      <th>tweets_20</th>\n      <th>tweets_21</th>\n      <th>tweets_22</th>\n      <th>tweets_23</th>\n      <th>tweets_24</th>\n      <th>tweets_25</th>\n      <th>tweets_26</th>\n      <th>tweets_27</th>\n      <th>tweets_28</th>\n      <th>tweets_29</th>\n      <th>tweets_30</th>\n      <th>tweets_31</th>\n      <th>tweets_32</th>\n      <th>tweets_33</th>\n      <th>tweets_34</th>\n      <th>tweets_35</th>\n      <th>tweets_36</th>\n      <th>tweets_37</th>\n      <th>tweets_38</th>\n      <th>tweets_39</th>\n      <th>tweets_40</th>\n      <th>tweets_41</th>\n      <th>tweets_42</th>\n      <th>tweets_43</th>\n      <th>tweets_44</th>\n      <th>tweets_45</th>\n      <th>tweets_46</th>\n      <th>tweets_47</th>\n      <th>tweets_48</th>\n      <th>tweets_49</th>\n      <th>tweets_50</th>\n      <th>tweets_51</th>\n      <th>tweets_52</th>\n      <th>tweets_53</th>\n      <th>tweets_54</th>\n      <th>tweets_55</th>\n      <th>tweets_56</th>\n      <th>tweets_57</th>\n      <th>tweets_58</th>\n      <th>tweets_59</th>\n      <th>tweets_60</th>\n      <th>tweets_61</th>\n      <th>tweets_62</th>\n      <th>tweets_63</th>\n      <th>tweets_64</th>\n      <th>tweets_65</th>\n      <th>tweets_66</th>\n      <th>tweets_67</th>\n      <th>tweets_68</th>\n      <th>tweets_69</th>\n      <th>tweets_70</th>\n      <th>tweets_71</th>\n      <th>tweets_72</th>\n      <th>tweets_73</th>\n      <th>tweets_74</th>\n      <th>tweets_75</th>\n      <th>tweets_76</th>\n      <th>tweets_77</th>\n      <th>tweets_78</th>\n      <th>tweets_79</th>\n      <th>tweets_80</th>\n      <th>tweets_81</th>\n      <th>tweets_82</th>\n      <th>tweets_83</th>\n      <th>tweets_84</th>\n      <th>tweets_85</th>\n      <th>tweets_86</th>\n      <th>tweets_87</th>\n      <th>tweets_88</th>\n      <th>tweets_89</th>\n      <th>tweets_90</th>\n      <th>tweets_91</th>\n      <th>tweets_92</th>\n      <th>tweets_93</th>\n      <th>tweets_94</th>\n      <th>tweets_95</th>\n      <th>tweets_96</th>\n      <th>tweets_97</th>\n      <th>tweets_98</th>\n      <th>tweets_99</th>\n      <th>description_0</th>\n      <th>description_1</th>\n      <th>description_2</th>\n      <th>description_3</th>\n      <th>description_4</th>\n      <th>description_5</th>\n      <th>description_6</th>\n      <th>description_7</th>\n      <th>description_8</th>\n      <th>description_9</th>\n      <th>description_10</th>\n      <th>description_11</th>\n      <th>description_12</th>\n      <th>description_13</th>\n      <th>description_14</th>\n      <th>description_15</th>\n      <th>description_16</th>\n      <th>description_17</th>\n      <th>description_18</th>\n      <th>description_19</th>\n      <th>description_20</th>\n      <th>description_21</th>\n      <th>description_22</th>\n      <th>description_23</th>\n      <th>description_24</th>\n      <th>description_25</th>\n      <th>description_26</th>\n      <th>description_27</th>\n      <th>description_28</th>\n      <th>description_29</th>\n      <th>description_30</th>\n      <th>description_31</th>\n      <th>description_32</th>\n      <th>description_33</th>\n      <th>description_34</th>\n      <th>description_35</th>\n      <th>description_36</th>\n      <th>description_37</th>\n      <th>description_38</th>\n      <th>description_39</th>\n      <th>description_40</th>\n      <th>description_41</th>\n      <th>description_42</th>\n      <th>description_43</th>\n      <th>description_44</th>\n      <th>description_45</th>\n      <th>description_46</th>\n      <th>description_47</th>\n      <th>description_48</th>\n      <th>description_49</th>\n      <th>description_50</th>\n      <th>description_51</th>\n      <th>description_52</th>\n      <th>description_53</th>\n      <th>description_54</th>\n      <th>description_55</th>\n      <th>description_56</th>\n      <th>description_57</th>\n      <th>description_58</th>\n      <th>description_59</th>\n      <th>description_60</th>\n      <th>description_61</th>\n      <th>description_62</th>\n      <th>description_63</th>\n      <th>description_64</th>\n      <th>description_65</th>\n      <th>description_66</th>\n      <th>description_67</th>\n      <th>description_68</th>\n      <th>description_69</th>\n      <th>description_70</th>\n      <th>description_71</th>\n      <th>description_72</th>\n      <th>description_73</th>\n      <th>description_74</th>\n      <th>description_75</th>\n      <th>description_76</th>\n      <th>description_77</th>\n      <th>description_78</th>\n      <th>description_79</th>\n      <th>description_80</th>\n      <th>description_81</th>\n      <th>description_82</th>\n      <th>description_83</th>\n      <th>description_84</th>\n      <th>description_85</th>\n      <th>description_86</th>\n      <th>description_87</th>\n      <th>description_88</th>\n      <th>description_89</th>\n      <th>description_90</th>\n      <th>description_91</th>\n      <th>description_92</th>\n      <th>description_93</th>\n      <th>description_94</th>\n      <th>description_95</th>\n      <th>description_96</th>\n      <th>description_97</th>\n      <th>description_98</th>\n      <th>description_99</th>\n      <th>account_type_multi</th>\n    </tr>\n  </thead>\n  <tbody>\n    <tr>\n      <th>0</th>\n      <td>0</td>\n      <td>28088585</td>\n      <td>Scott Sandler</td>\n      <td>DigiRanger1994</td>\n      <td>124434</td>\n      <td>1818</td>\n      <td>1985</td>\n      <td>7452</td>\n      <td>41</td>\n      <td>NaN</td>\n      <td>0.0</td>\n      <td>0.0</td>\n      <td>1.0</td>\n      <td>http://pbs.twimg.com/profile_images/5833438974...</td>\n      <td>1.0</td>\n      <td>1.0</td>\n      <td>NaN</td>\n      <td>NaN</td>\n      <td>i watch a lot of TV, movies and webshows, play...</td>\n      <td>1</td>\n      <td>NaN</td>\n      <td>0.000000</td>\n      <td>0.0</td>\n      <td>0.0</td>\n      <td>0.000000</td>\n      <td>0.000000</td>\n      <td>1.091859</td>\n      <td>13</td>\n      <td>14</td>\n      <td>1</td>\n      <td>0</td>\n      <td>0</td>\n      <td>NaN</td>\n      <td>i watch a lot of TV movies and webshows play a...</td>\n      <td>0.000000</td>\n      <td>0.000000</td>\n      <td>0.000000</td>\n      <td>0.000000</td>\n      <td>0.000000</td>\n      <td>0.000000</td>\n      <td>0.000000</td>\n      <td>0.000000</td>\n      <td>0.000000</td>\n      <td>0.000000</td>\n      <td>0.000000</td>\n      <td>0.000000</td>\n      <td>0.000000</td>\n      <td>0.000000</td>\n      <td>0.000000</td>\n      <td>0.000000</td>\n      <td>0.000000</td>\n      <td>0.000000</td>\n      <td>0.000000</td>\n      <td>0.0000</td>\n      <td>0.000000</td>\n      <td>0.000000</td>\n      <td>0.000000</td>\n      <td>0.0</td>\n      <td>0.000000</td>\n      <td>0.000000</td>\n      <td>0.000000</td>\n      <td>0.000000</td>\n      <td>0.000000</td>\n      <td>0.000000</td>\n      <td>0.000000</td>\n      <td>0.0</td>\n      <td>0.000000</td>\n      <td>0.000000</td>\n      <td>0.000000</td>\n      <td>0.000000</td>\n      <td>0.000000</td>\n      <td>0.0</td>\n      <td>0.0</td>\n      <td>0.000000</td>\n      <td>0.000000</td>\n      <td>0.000000</td>\n      <td>0.000000</td>\n      <td>0.000000</td>\n      <td>0.000000</td>\n      <td>0.000000</td>\n      <td>0.000000</td>\n      <td>0.000000</td>\n      <td>0.000000</td>\n      <td>0.000000</td>\n      <td>0.000000</td>\n      <td>0.000000</td>\n      <td>0.000000</td>\n      <td>0.0</td>\n      <td>0.000000</td>\n      <td>0.000000</td>\n      <td>0.000000</td>\n      <td>0.000000</td>\n      <td>0.000000</td>\n      <td>0.000000</td>\n      <td>0.000000</td>\n      <td>0.000000</td>\n      <td>0.000000</td>\n      <td>0.000000</td>\n      <td>0.000000</td>\n      <td>0.0000</td>\n      <td>0.000000</td>\n      <td>0.0</td>\n      <td>0.000000</td>\n      <td>0.000000</td>\n      <td>0.000000</td>\n      <td>0.000000</td>\n      <td>0.000000</td>\n      <td>0.000000</td>\n      <td>0.000000</td>\n      <td>0.000000</td>\n      <td>0.000000</td>\n      <td>0.000000</td>\n      <td>0.000000</td>\n      <td>0.000000</td>\n      <td>0.000000</td>\n      <td>0.000000</td>\n      <td>0.000000</td>\n      <td>0.000000</td>\n      <td>0.000000</td>\n      <td>0.000000</td>\n      <td>0.000000</td>\n      <td>0.000000</td>\n      <td>0.000000</td>\n      <td>0.000000</td>\n      <td>0.000000</td>\n      <td>0.000000</td>\n      <td>0.000000</td>\n      <td>0.000000</td>\n      <td>0.000000</td>\n      <td>0.000000</td>\n      <td>0.000000</td>\n      <td>0.000000</td>\n      <td>0.000000</td>\n      <td>0.000000</td>\n      <td>0.0</td>\n      <td>0.0</td>\n      <td>0.0</td>\n      <td>0.0</td>\n      <td>0.0</td>\n      <td>0.0</td>\n      <td>0.0</td>\n      <td>0.0</td>\n      <td>0.0</td>\n      <td>0.0</td>\n      <td>0.0</td>\n      <td>0.0</td>\n      <td>0.0</td>\n      <td>0.0</td>\n      <td>0.0</td>\n      <td>0.0</td>\n      <td>0.0</td>\n      <td>0.0</td>\n      <td>0.0</td>\n      <td>0.0</td>\n      <td>0.0</td>\n      <td>0.0</td>\n      <td>0.0</td>\n      <td>0.0</td>\n      <td>0.0</td>\n      <td>0.0</td>\n      <td>0.0</td>\n      <td>0.0</td>\n      <td>0.0</td>\n      <td>0.0</td>\n      <td>0.0</td>\n      <td>0.0</td>\n      <td>0.0</td>\n      <td>0.0</td>\n      <td>0.0</td>\n      <td>0.0</td>\n      <td>0.0</td>\n      <td>0.0</td>\n      <td>0.0</td>\n      <td>0.0</td>\n      <td>0.0</td>\n      <td>0.0</td>\n      <td>0.0</td>\n      <td>0.0</td>\n      <td>0.0</td>\n      <td>0.0</td>\n      <td>0.0</td>\n      <td>0.0</td>\n      <td>0.0</td>\n      <td>0.0</td>\n      <td>0.0</td>\n      <td>0.0</td>\n      <td>0.0</td>\n      <td>0.0</td>\n      <td>0.0</td>\n      <td>0.0</td>\n      <td>0.0</td>\n      <td>0.0</td>\n      <td>0.0</td>\n      <td>0.0</td>\n      <td>0.0</td>\n      <td>0.0</td>\n      <td>0.0</td>\n      <td>0.0</td>\n      <td>0.0</td>\n      <td>0.0</td>\n      <td>0.0</td>\n      <td>0.0</td>\n      <td>0.0</td>\n      <td>0.0</td>\n      <td>0.0</td>\n      <td>0.0</td>\n      <td>0.0</td>\n      <td>0.0</td>\n      <td>0.0</td>\n      <td>0.0</td>\n      <td>0.0</td>\n      <td>0.0</td>\n      <td>0.885328</td>\n      <td>0.0</td>\n      <td>0.0</td>\n      <td>0.0</td>\n      <td>0.0</td>\n      <td>0.0</td>\n      <td>0.0</td>\n      <td>0.0</td>\n      <td>0.464967</td>\n      <td>0.0</td>\n      <td>0.0</td>\n      <td>0.0</td>\n      <td>0.0</td>\n      <td>0.0</td>\n      <td>0.0</td>\n      <td>0.0</td>\n      <td>0.0</td>\n      <td>0.0</td>\n      <td>0.0</td>\n      <td>0.0</td>\n      <td>0.0</td>\n      <td>0.0</td>\n      <td>0</td>\n    </tr>\n    <tr>\n      <th>1</th>\n      <td>1</td>\n      <td>514338061</td>\n      <td>Marco Chiacchiaretta</td>\n      <td>thisismynothing</td>\n      <td>524</td>\n      <td>42</td>\n      <td>40</td>\n      <td>0</td>\n      <td>0</td>\n      <td>NaN</td>\n      <td>0.0</td>\n      <td>0.0</td>\n      <td>0.0</td>\n      <td>http://a0.twimg.com/profile_images/3038318705/...</td>\n      <td>1.0</td>\n      <td>0.0</td>\n      <td>NaN</td>\n      <td>NaN</td>\n      <td>Despite unrealized hopes, illusions, disillusi...</td>\n      <td>1</td>\n      <td>[\"'ccezionale!!!\", 'Pete Seeger Leads Amazing ...</td>\n      <td>2.143443</td>\n      <td>203.0</td>\n      <td>273.0</td>\n      <td>2.230769</td>\n      <td>2.111732</td>\n      <td>0.952381</td>\n      <td>20</td>\n      <td>15</td>\n      <td>1</td>\n      <td>0</td>\n      <td>0</td>\n      <td>ccezionale Pete Seeger Leads Amazing Grace  vi...</td>\n      <td>Despite unrealized hopes illusions disillusion...</td>\n      <td>0.015111</td>\n      <td>0.038214</td>\n      <td>0.021573</td>\n      <td>0.056045</td>\n      <td>0.012317</td>\n      <td>0.041829</td>\n      <td>0.095027</td>\n      <td>0.118533</td>\n      <td>0.153021</td>\n      <td>0.020402</td>\n      <td>0.024238</td>\n      <td>0.048284</td>\n      <td>0.013064</td>\n      <td>0.038550</td>\n      <td>0.022159</td>\n      <td>0.054874</td>\n      <td>0.063197</td>\n      <td>0.012682</td>\n      <td>0.063936</td>\n      <td>0.0861</td>\n      <td>0.314628</td>\n      <td>0.050772</td>\n      <td>0.062398</td>\n      <td>0.0</td>\n      <td>0.063076</td>\n      <td>0.012394</td>\n      <td>0.032178</td>\n      <td>0.014145</td>\n      <td>0.058116</td>\n      <td>0.055773</td>\n      <td>0.063708</td>\n      <td>0.0</td>\n      <td>0.082094</td>\n      <td>0.011361</td>\n      <td>0.043004</td>\n      <td>0.149286</td>\n      <td>0.144188</td>\n      <td>0.0</td>\n      <td>0.0</td>\n      <td>0.026510</td>\n      <td>0.165678</td>\n      <td>0.097239</td>\n      <td>0.029239</td>\n      <td>0.071851</td>\n      <td>0.091812</td>\n      <td>0.057298</td>\n      <td>0.150633</td>\n      <td>0.015365</td>\n      <td>0.067312</td>\n      <td>0.012317</td>\n      <td>0.026300</td>\n      <td>0.041564</td>\n      <td>0.027256</td>\n      <td>0.0</td>\n      <td>0.031031</td>\n      <td>0.039828</td>\n      <td>0.052517</td>\n      <td>0.041071</td>\n      <td>0.069111</td>\n      <td>0.078282</td>\n      <td>0.087746</td>\n      <td>0.039378</td>\n      <td>0.193772</td>\n      <td>0.000000</td>\n      <td>0.061124</td>\n      <td>0.0115</td>\n      <td>0.010128</td>\n      <td>0.0</td>\n      <td>0.117751</td>\n      <td>0.037663</td>\n      <td>0.043608</td>\n      <td>0.000000</td>\n      <td>0.027844</td>\n      <td>0.011764</td>\n      <td>0.034073</td>\n      <td>0.056702</td>\n      <td>0.090414</td>\n      <td>0.007634</td>\n      <td>0.023734</td>\n      <td>0.011146</td>\n      <td>0.021561</td>\n      <td>0.019044</td>\n      <td>0.013805</td>\n      <td>0.041518</td>\n      <td>0.010563</td>\n      <td>0.098142</td>\n      <td>0.071127</td>\n      <td>0.036862</td>\n      <td>0.000000</td>\n      <td>0.038113</td>\n      <td>0.102217</td>\n      <td>0.063132</td>\n      <td>0.722933</td>\n      <td>0.032901</td>\n      <td>0.006619</td>\n      <td>0.014319</td>\n      <td>0.014699</td>\n      <td>0.058143</td>\n      <td>0.000000</td>\n      <td>0.021576</td>\n      <td>0.0</td>\n      <td>0.0</td>\n      <td>0.0</td>\n      <td>0.0</td>\n      <td>0.0</td>\n      <td>0.0</td>\n      <td>0.0</td>\n      <td>0.0</td>\n      <td>0.0</td>\n      <td>0.0</td>\n      <td>0.0</td>\n      <td>0.0</td>\n      <td>0.0</td>\n      <td>0.0</td>\n      <td>0.0</td>\n      <td>0.0</td>\n      <td>0.0</td>\n      <td>0.0</td>\n      <td>0.0</td>\n      <td>0.0</td>\n      <td>0.0</td>\n      <td>0.0</td>\n      <td>0.0</td>\n      <td>0.0</td>\n      <td>0.0</td>\n      <td>0.0</td>\n      <td>0.0</td>\n      <td>0.0</td>\n      <td>0.0</td>\n      <td>0.0</td>\n      <td>0.0</td>\n      <td>0.0</td>\n      <td>0.0</td>\n      <td>0.0</td>\n      <td>0.0</td>\n      <td>0.0</td>\n      <td>0.0</td>\n      <td>0.0</td>\n      <td>0.0</td>\n      <td>0.0</td>\n      <td>0.0</td>\n      <td>0.0</td>\n      <td>0.0</td>\n      <td>0.0</td>\n      <td>0.0</td>\n      <td>1.0</td>\n      <td>0.0</td>\n      <td>0.0</td>\n      <td>0.0</td>\n      <td>0.0</td>\n      <td>0.0</td>\n      <td>0.0</td>\n      <td>0.0</td>\n      <td>0.0</td>\n      <td>0.0</td>\n      <td>0.0</td>\n      <td>0.0</td>\n      <td>0.0</td>\n      <td>0.0</td>\n      <td>0.0</td>\n      <td>0.0</td>\n      <td>0.0</td>\n      <td>0.0</td>\n      <td>0.0</td>\n      <td>0.0</td>\n      <td>0.0</td>\n      <td>0.0</td>\n      <td>0.0</td>\n      <td>0.0</td>\n      <td>0.0</td>\n      <td>0.0</td>\n      <td>0.0</td>\n      <td>0.0</td>\n      <td>0.0</td>\n      <td>0.0</td>\n      <td>0.0</td>\n      <td>0.0</td>\n      <td>0.0</td>\n      <td>0.000000</td>\n      <td>0.0</td>\n      <td>0.0</td>\n      <td>0.0</td>\n      <td>0.0</td>\n      <td>0.0</td>\n      <td>0.0</td>\n      <td>0.0</td>\n      <td>0.000000</td>\n      <td>0.0</td>\n      <td>0.0</td>\n      <td>0.0</td>\n      <td>0.0</td>\n      <td>0.0</td>\n      <td>0.0</td>\n      <td>0.0</td>\n      <td>0.0</td>\n      <td>0.0</td>\n      <td>0.0</td>\n      <td>0.0</td>\n      <td>0.0</td>\n      <td>0.0</td>\n      <td>0</td>\n    </tr>\n    <tr>\n      <th>2</th>\n      <td>2</td>\n      <td>2352023796</td>\n      <td>Kimbery Hepp</td>\n      <td>KimberyHepp</td>\n      <td>73</td>\n      <td>4</td>\n      <td>42</td>\n      <td>0</td>\n      <td>1</td>\n      <td>NaN</td>\n      <td>0.0</td>\n      <td>0.0</td>\n      <td>0.0</td>\n      <td>http://pbs.twimg.com/profile_images/4373616262...</td>\n      <td>1.0</td>\n      <td>1.0</td>\n      <td>NaN</td>\n      <td>NaN</td>\n      <td>NaN</td>\n      <td>0</td>\n      <td>['I love you and I always have.', '@nissimhg o...</td>\n      <td>4.961538</td>\n      <td>7.0</td>\n      <td>47.0</td>\n      <td>5.714286</td>\n      <td>4.684211</td>\n      <td>10.500000</td>\n      <td>12</td>\n      <td>11</td>\n      <td>1</td>\n      <td>0</td>\n      <td>0</td>\n      <td>I love you and I always have nissimhg ok Never...</td>\n      <td>NaN</td>\n      <td>0.043643</td>\n      <td>0.000000</td>\n      <td>0.124616</td>\n      <td>0.080935</td>\n      <td>0.000000</td>\n      <td>0.080542</td>\n      <td>0.235250</td>\n      <td>0.161106</td>\n      <td>0.000000</td>\n      <td>0.000000</td>\n      <td>0.000000</td>\n      <td>0.000000</td>\n      <td>0.113194</td>\n      <td>0.000000</td>\n      <td>0.128003</td>\n      <td>0.000000</td>\n      <td>0.146023</td>\n      <td>0.109882</td>\n      <td>0.000000</td>\n      <td>0.0000</td>\n      <td>0.000000</td>\n      <td>0.183301</td>\n      <td>0.160194</td>\n      <td>0.0</td>\n      <td>0.145743</td>\n      <td>0.000000</td>\n      <td>0.111524</td>\n      <td>0.204275</td>\n      <td>0.149201</td>\n      <td>0.161084</td>\n      <td>0.122668</td>\n      <td>0.0</td>\n      <td>0.145911</td>\n      <td>0.000000</td>\n      <td>0.000000</td>\n      <td>0.000000</td>\n      <td>0.208224</td>\n      <td>0.0</td>\n      <td>0.0</td>\n      <td>0.191416</td>\n      <td>0.083220</td>\n      <td>0.086415</td>\n      <td>0.000000</td>\n      <td>0.264120</td>\n      <td>0.176783</td>\n      <td>0.055163</td>\n      <td>0.118653</td>\n      <td>0.133135</td>\n      <td>0.176739</td>\n      <td>0.000000</td>\n      <td>0.037980</td>\n      <td>0.160062</td>\n      <td>0.000000</td>\n      <td>0.0</td>\n      <td>0.044812</td>\n      <td>0.153377</td>\n      <td>0.151682</td>\n      <td>0.158161</td>\n      <td>0.039922</td>\n      <td>0.000000</td>\n      <td>0.181022</td>\n      <td>0.189552</td>\n      <td>0.000000</td>\n      <td>0.075429</td>\n      <td>0.000000</td>\n      <td>0.0000</td>\n      <td>0.000000</td>\n      <td>0.0</td>\n      <td>0.085023</td>\n      <td>0.043512</td>\n      <td>0.041983</td>\n      <td>0.000000</td>\n      <td>0.080419</td>\n      <td>0.000000</td>\n      <td>0.000000</td>\n      <td>0.054589</td>\n      <td>0.000000</td>\n      <td>0.044095</td>\n      <td>0.068549</td>\n      <td>0.000000</td>\n      <td>0.041515</td>\n      <td>0.000000</td>\n      <td>0.159489</td>\n      <td>0.119914</td>\n      <td>0.000000</td>\n      <td>0.141727</td>\n      <td>0.000000</td>\n      <td>0.000000</td>\n      <td>0.000000</td>\n      <td>0.110080</td>\n      <td>0.000000</td>\n      <td>0.000000</td>\n      <td>0.000000</td>\n      <td>0.114032</td>\n      <td>0.152930</td>\n      <td>0.082711</td>\n      <td>0.042455</td>\n      <td>0.083966</td>\n      <td>0.000000</td>\n      <td>0.124634</td>\n      <td>0.0</td>\n      <td>0.0</td>\n      <td>0.0</td>\n      <td>0.0</td>\n      <td>0.0</td>\n      <td>0.0</td>\n      <td>0.0</td>\n      <td>0.0</td>\n      <td>0.0</td>\n      <td>0.0</td>\n      <td>0.0</td>\n      <td>0.0</td>\n      <td>0.0</td>\n      <td>0.0</td>\n      <td>0.0</td>\n      <td>0.0</td>\n      <td>0.0</td>\n      <td>0.0</td>\n      <td>0.0</td>\n      <td>0.0</td>\n      <td>0.0</td>\n      <td>0.0</td>\n      <td>0.0</td>\n      <td>0.0</td>\n      <td>0.0</td>\n      <td>0.0</td>\n      <td>0.0</td>\n      <td>0.0</td>\n      <td>0.0</td>\n      <td>0.0</td>\n      <td>0.0</td>\n      <td>0.0</td>\n      <td>0.0</td>\n      <td>0.0</td>\n      <td>0.0</td>\n      <td>0.0</td>\n      <td>0.0</td>\n      <td>0.0</td>\n      <td>0.0</td>\n      <td>0.0</td>\n      <td>0.0</td>\n      <td>0.0</td>\n      <td>0.0</td>\n      <td>0.0</td>\n      <td>0.0</td>\n      <td>0.0</td>\n      <td>0.0</td>\n      <td>0.0</td>\n      <td>0.0</td>\n      <td>0.0</td>\n      <td>0.0</td>\n      <td>0.0</td>\n      <td>0.0</td>\n      <td>0.0</td>\n      <td>0.0</td>\n      <td>0.0</td>\n      <td>0.0</td>\n      <td>0.0</td>\n      <td>0.0</td>\n      <td>0.0</td>\n      <td>0.0</td>\n      <td>0.0</td>\n      <td>0.0</td>\n      <td>0.0</td>\n      <td>0.0</td>\n      <td>0.0</td>\n      <td>0.0</td>\n      <td>0.0</td>\n      <td>0.0</td>\n      <td>0.0</td>\n      <td>0.0</td>\n      <td>0.0</td>\n      <td>0.0</td>\n      <td>0.0</td>\n      <td>0.0</td>\n      <td>0.0</td>\n      <td>0.0</td>\n      <td>0.0</td>\n      <td>0.000000</td>\n      <td>0.0</td>\n      <td>0.0</td>\n      <td>0.0</td>\n      <td>0.0</td>\n      <td>0.0</td>\n      <td>0.0</td>\n      <td>0.0</td>\n      <td>0.000000</td>\n      <td>0.0</td>\n      <td>0.0</td>\n      <td>0.0</td>\n      <td>0.0</td>\n      <td>0.0</td>\n      <td>0.0</td>\n      <td>0.0</td>\n      <td>0.0</td>\n      <td>0.0</td>\n      <td>0.0</td>\n      <td>0.0</td>\n      <td>0.0</td>\n      <td>0.0</td>\n      <td>3</td>\n    </tr>\n    <tr>\n      <th>3</th>\n      <td>3</td>\n      <td>1174855417</td>\n      <td>Contessa Kugler</td>\n      <td>KuglerucfContes</td>\n      <td>18</td>\n      <td>10</td>\n      <td>220</td>\n      <td>0</td>\n      <td>0</td>\n      <td>NaN</td>\n      <td>1.0</td>\n      <td>0.0</td>\n      <td>0.0</td>\n      <td>http://a0.twimg.com/profile_images/3305309032/...</td>\n      <td>1.0</td>\n      <td>0.0</td>\n      <td>NaN</td>\n      <td>NaN</td>\n      <td>Pra ue ler ssuh?</td>\n      <td>0</td>\n      <td>[\"Killing Me Softly, And I'm Still Falling!!!\"...</td>\n      <td>2.117647</td>\n      <td>6.0</td>\n      <td>0.0</td>\n      <td>2.000000</td>\n      <td>2.166667</td>\n      <td>22.000000</td>\n      <td>15</td>\n      <td>15</td>\n      <td>1</td>\n      <td>0</td>\n      <td>0</td>\n      <td>Killing Me Softly And Im Still Falling hj  eu ...</td>\n      <td>Pra ue ler ssuh</td>\n      <td>0.210963</td>\n      <td>0.000000</td>\n      <td>0.000000</td>\n      <td>0.000000</td>\n      <td>0.000000</td>\n      <td>0.000000</td>\n      <td>0.000000</td>\n      <td>0.000000</td>\n      <td>0.000000</td>\n      <td>0.000000</td>\n      <td>0.000000</td>\n      <td>0.000000</td>\n      <td>0.000000</td>\n      <td>0.269102</td>\n      <td>0.000000</td>\n      <td>0.000000</td>\n      <td>0.000000</td>\n      <td>0.354101</td>\n      <td>0.000000</td>\n      <td>0.0000</td>\n      <td>0.000000</td>\n      <td>0.000000</td>\n      <td>0.193588</td>\n      <td>0.0</td>\n      <td>0.000000</td>\n      <td>0.000000</td>\n      <td>0.000000</td>\n      <td>0.000000</td>\n      <td>0.180303</td>\n      <td>0.194663</td>\n      <td>0.000000</td>\n      <td>0.0</td>\n      <td>0.000000</td>\n      <td>0.000000</td>\n      <td>0.000000</td>\n      <td>0.000000</td>\n      <td>0.167753</td>\n      <td>0.0</td>\n      <td>0.0</td>\n      <td>0.000000</td>\n      <td>0.201136</td>\n      <td>0.000000</td>\n      <td>0.000000</td>\n      <td>0.000000</td>\n      <td>0.170908</td>\n      <td>0.000000</td>\n      <td>0.000000</td>\n      <td>0.000000</td>\n      <td>0.000000</td>\n      <td>0.000000</td>\n      <td>0.000000</td>\n      <td>0.000000</td>\n      <td>0.253683</td>\n      <td>0.0</td>\n      <td>0.000000</td>\n      <td>0.185350</td>\n      <td>0.000000</td>\n      <td>0.000000</td>\n      <td>0.000000</td>\n      <td>0.000000</td>\n      <td>0.000000</td>\n      <td>0.183253</td>\n      <td>0.000000</td>\n      <td>0.000000</td>\n      <td>0.000000</td>\n      <td>0.0000</td>\n      <td>0.000000</td>\n      <td>0.0</td>\n      <td>0.000000</td>\n      <td>0.000000</td>\n      <td>0.000000</td>\n      <td>0.242716</td>\n      <td>0.000000</td>\n      <td>0.000000</td>\n      <td>0.000000</td>\n      <td>0.000000</td>\n      <td>0.000000</td>\n      <td>0.000000</td>\n      <td>0.000000</td>\n      <td>0.000000</td>\n      <td>0.000000</td>\n      <td>0.000000</td>\n      <td>0.000000</td>\n      <td>0.000000</td>\n      <td>0.000000</td>\n      <td>0.171271</td>\n      <td>0.000000</td>\n      <td>0.000000</td>\n      <td>0.421354</td>\n      <td>0.000000</td>\n      <td>0.259468</td>\n      <td>0.000000</td>\n      <td>0.000000</td>\n      <td>0.000000</td>\n      <td>0.000000</td>\n      <td>0.199904</td>\n      <td>0.000000</td>\n      <td>0.000000</td>\n      <td>0.215975</td>\n      <td>0.000000</td>\n      <td>0.0</td>\n      <td>0.0</td>\n      <td>0.0</td>\n      <td>0.0</td>\n      <td>0.0</td>\n      <td>0.0</td>\n      <td>0.0</td>\n      <td>0.0</td>\n      <td>0.0</td>\n      <td>0.0</td>\n      <td>0.0</td>\n      <td>0.0</td>\n      <td>0.0</td>\n      <td>0.0</td>\n      <td>0.0</td>\n      <td>0.0</td>\n      <td>0.0</td>\n      <td>0.0</td>\n      <td>0.0</td>\n      <td>0.0</td>\n      <td>0.0</td>\n      <td>0.0</td>\n      <td>0.0</td>\n      <td>0.0</td>\n      <td>0.0</td>\n      <td>0.0</td>\n      <td>0.0</td>\n      <td>0.0</td>\n      <td>0.0</td>\n      <td>0.0</td>\n      <td>0.0</td>\n      <td>0.0</td>\n      <td>0.0</td>\n      <td>0.0</td>\n      <td>0.0</td>\n      <td>0.0</td>\n      <td>0.0</td>\n      <td>0.0</td>\n      <td>0.0</td>\n      <td>0.0</td>\n      <td>0.0</td>\n      <td>0.0</td>\n      <td>0.0</td>\n      <td>0.0</td>\n      <td>0.0</td>\n      <td>0.0</td>\n      <td>0.0</td>\n      <td>0.0</td>\n      <td>0.0</td>\n      <td>0.0</td>\n      <td>0.0</td>\n      <td>0.0</td>\n      <td>0.0</td>\n      <td>0.0</td>\n      <td>0.0</td>\n      <td>0.0</td>\n      <td>0.0</td>\n      <td>0.0</td>\n      <td>0.0</td>\n      <td>0.0</td>\n      <td>0.0</td>\n      <td>0.0</td>\n      <td>0.0</td>\n      <td>0.0</td>\n      <td>0.0</td>\n      <td>0.0</td>\n      <td>0.0</td>\n      <td>0.0</td>\n      <td>0.0</td>\n      <td>0.0</td>\n      <td>0.0</td>\n      <td>0.0</td>\n      <td>0.0</td>\n      <td>0.0</td>\n      <td>0.0</td>\n      <td>0.0</td>\n      <td>0.0</td>\n      <td>0.0</td>\n      <td>0.000000</td>\n      <td>0.0</td>\n      <td>0.0</td>\n      <td>0.0</td>\n      <td>0.0</td>\n      <td>0.0</td>\n      <td>0.0</td>\n      <td>0.0</td>\n      <td>0.000000</td>\n      <td>0.0</td>\n      <td>0.0</td>\n      <td>0.0</td>\n      <td>0.0</td>\n      <td>0.0</td>\n      <td>0.0</td>\n      <td>0.0</td>\n      <td>0.0</td>\n      <td>0.0</td>\n      <td>0.0</td>\n      <td>0.0</td>\n      <td>0.0</td>\n      <td>0.0</td>\n      <td>1</td>\n    </tr>\n    <tr>\n      <th>4</th>\n      <td>4</td>\n      <td>2361352586</td>\n      <td>Jo Topolski</td>\n      <td>JoTopolski</td>\n      <td>43</td>\n      <td>5</td>\n      <td>39</td>\n      <td>0</td>\n      <td>0</td>\n      <td>NaN</td>\n      <td>0.0</td>\n      <td>0.0</td>\n      <td>0.0</td>\n      <td>http://pbs.twimg.com/profile_images/4386735939...</td>\n      <td>1.0</td>\n      <td>1.0</td>\n      <td>NaN</td>\n      <td>NaN</td>\n      <td>NaN</td>\n      <td>0</td>\n      <td>[\"Watch how people i never fucked with gonna w...</td>\n      <td>4.450000</td>\n      <td>9.0</td>\n      <td>40.0</td>\n      <td>4.428571</td>\n      <td>4.461538</td>\n      <td>7.800000</td>\n      <td>11</td>\n      <td>10</td>\n      <td>1</td>\n      <td>0</td>\n      <td>0</td>\n      <td>Watch how people i never fucked with gonna wan...</td>\n      <td>NaN</td>\n      <td>0.000000</td>\n      <td>0.000000</td>\n      <td>0.157321</td>\n      <td>0.051088</td>\n      <td>0.000000</td>\n      <td>0.000000</td>\n      <td>0.247492</td>\n      <td>0.000000</td>\n      <td>0.000000</td>\n      <td>0.074390</td>\n      <td>0.000000</td>\n      <td>0.000000</td>\n      <td>0.095268</td>\n      <td>0.070281</td>\n      <td>0.107731</td>\n      <td>0.000000</td>\n      <td>0.092173</td>\n      <td>0.092480</td>\n      <td>0.000000</td>\n      <td>0.0000</td>\n      <td>0.074013</td>\n      <td>0.185126</td>\n      <td>0.050559</td>\n      <td>0.0</td>\n      <td>0.275988</td>\n      <td>0.000000</td>\n      <td>0.187723</td>\n      <td>0.103154</td>\n      <td>0.094179</td>\n      <td>0.000000</td>\n      <td>0.051621</td>\n      <td>0.0</td>\n      <td>0.092102</td>\n      <td>0.000000</td>\n      <td>0.000000</td>\n      <td>0.000000</td>\n      <td>0.175248</td>\n      <td>0.0</td>\n      <td>0.0</td>\n      <td>0.241653</td>\n      <td>0.000000</td>\n      <td>0.000000</td>\n      <td>0.071074</td>\n      <td>0.190535</td>\n      <td>0.089271</td>\n      <td>0.000000</td>\n      <td>0.199725</td>\n      <td>0.056025</td>\n      <td>0.133874</td>\n      <td>0.000000</td>\n      <td>0.143845</td>\n      <td>0.050517</td>\n      <td>0.066254</td>\n      <td>0.0</td>\n      <td>0.113144</td>\n      <td>0.145223</td>\n      <td>0.047872</td>\n      <td>0.099835</td>\n      <td>0.050399</td>\n      <td>0.000000</td>\n      <td>0.137118</td>\n      <td>0.143580</td>\n      <td>0.000000</td>\n      <td>0.000000</td>\n      <td>0.000000</td>\n      <td>0.0000</td>\n      <td>0.073861</td>\n      <td>0.0</td>\n      <td>0.000000</td>\n      <td>0.109863</td>\n      <td>0.106002</td>\n      <td>0.000000</td>\n      <td>0.101525</td>\n      <td>0.000000</td>\n      <td>0.082826</td>\n      <td>0.000000</td>\n      <td>0.000000</td>\n      <td>0.055667</td>\n      <td>0.000000</td>\n      <td>0.000000</td>\n      <td>0.000000</td>\n      <td>0.000000</td>\n      <td>0.352356</td>\n      <td>0.151384</td>\n      <td>0.000000</td>\n      <td>0.178923</td>\n      <td>0.051869</td>\n      <td>0.000000</td>\n      <td>0.000000</td>\n      <td>0.138970</td>\n      <td>0.067765</td>\n      <td>0.000000</td>\n      <td>0.000000</td>\n      <td>0.047986</td>\n      <td>0.096533</td>\n      <td>0.208835</td>\n      <td>0.053598</td>\n      <td>0.106002</td>\n      <td>0.169218</td>\n      <td>0.104895</td>\n      <td>0.0</td>\n      <td>0.0</td>\n      <td>0.0</td>\n      <td>0.0</td>\n      <td>0.0</td>\n      <td>0.0</td>\n      <td>0.0</td>\n      <td>0.0</td>\n      <td>0.0</td>\n      <td>0.0</td>\n      <td>0.0</td>\n      <td>0.0</td>\n      <td>0.0</td>\n      <td>0.0</td>\n      <td>0.0</td>\n      <td>0.0</td>\n      <td>0.0</td>\n      <td>0.0</td>\n      <td>0.0</td>\n      <td>0.0</td>\n      <td>0.0</td>\n      <td>0.0</td>\n      <td>0.0</td>\n      <td>0.0</td>\n      <td>0.0</td>\n      <td>0.0</td>\n      <td>0.0</td>\n      <td>0.0</td>\n      <td>0.0</td>\n      <td>0.0</td>\n      <td>0.0</td>\n      <td>0.0</td>\n      <td>0.0</td>\n      <td>0.0</td>\n      <td>0.0</td>\n      <td>0.0</td>\n      <td>0.0</td>\n      <td>0.0</td>\n      <td>0.0</td>\n      <td>0.0</td>\n      <td>0.0</td>\n      <td>0.0</td>\n      <td>0.0</td>\n      <td>0.0</td>\n      <td>0.0</td>\n      <td>0.0</td>\n      <td>0.0</td>\n      <td>0.0</td>\n      <td>0.0</td>\n      <td>0.0</td>\n      <td>0.0</td>\n      <td>0.0</td>\n      <td>0.0</td>\n      <td>0.0</td>\n      <td>0.0</td>\n      <td>0.0</td>\n      <td>0.0</td>\n      <td>0.0</td>\n      <td>0.0</td>\n      <td>0.0</td>\n      <td>0.0</td>\n      <td>0.0</td>\n      <td>0.0</td>\n      <td>0.0</td>\n      <td>0.0</td>\n      <td>0.0</td>\n      <td>0.0</td>\n      <td>0.0</td>\n      <td>0.0</td>\n      <td>0.0</td>\n      <td>0.0</td>\n      <td>0.0</td>\n      <td>0.0</td>\n      <td>0.0</td>\n      <td>0.0</td>\n      <td>0.0</td>\n      <td>0.0</td>\n      <td>0.0</td>\n      <td>0.000000</td>\n      <td>0.0</td>\n      <td>0.0</td>\n      <td>0.0</td>\n      <td>0.0</td>\n      <td>0.0</td>\n      <td>0.0</td>\n      <td>0.0</td>\n      <td>0.000000</td>\n      <td>0.0</td>\n      <td>0.0</td>\n      <td>0.0</td>\n      <td>0.0</td>\n      <td>0.0</td>\n      <td>0.0</td>\n      <td>0.0</td>\n      <td>0.0</td>\n      <td>0.0</td>\n      <td>0.0</td>\n      <td>0.0</td>\n      <td>0.0</td>\n      <td>0.0</td>\n      <td>3</td>\n    </tr>\n  </tbody>\n</table>\n</div>"
     },
     "metadata": {},
     "execution_count": 3
    }
   ],
   "source": [
    "df.head()"
   ]
  },
  {
   "cell_type": "code",
   "execution_count": 21,
   "metadata": {},
   "outputs": [
    {
     "output_type": "execute_result",
     "data": {
      "text/plain": [
       "Index(['Unnamed: 0', 'id', 'name', 'screen_name', 'statuses_count',\n",
       "       'followers_count', 'friends_count', 'favourites_count', 'listed_count',\n",
       "       'url',\n",
       "       ...\n",
       "       'description_91', 'description_92', 'description_93', 'description_94',\n",
       "       'description_95', 'description_96', 'description_97', 'description_98',\n",
       "       'description_99', 'account_type_multi'],\n",
       "      dtype='object', length=235)"
      ]
     },
     "metadata": {},
     "execution_count": 21
    }
   ],
   "source": [
    "df.columns"
   ]
  },
  {
   "source": [
    "## Get to the correct data format"
   ],
   "cell_type": "markdown",
   "metadata": {}
  },
  {
   "cell_type": "code",
   "execution_count": 4,
   "metadata": {},
   "outputs": [],
   "source": [
    "to_drop = ['Unnamed: 0', 'screen_name', 'url', 'profile_image_url', 'description',\n",
    "           'id', 'name', 'account_type', 'tweets_list', 'tweets_list_processed',\n",
    "          'description_processed', 'protected', 'verified', 'account_type_multi']\n",
    "\n",
    "X_train, y_train = df.drop(to_drop, axis=1), df['account_type_multi']"
   ]
  },
  {
   "cell_type": "code",
   "execution_count": 5,
   "metadata": {},
   "outputs": [],
   "source": [
    "X_test, y_test = test.drop(to_drop, axis=1), test['account_type_multi']"
   ]
  },
  {
   "cell_type": "code",
   "execution_count": 6,
   "metadata": {},
   "outputs": [
    {
     "output_type": "execute_result",
     "data": {
      "text/plain": [
       "         1818           1985              7452   \n",
       "1             524               42             40                 0   \n",
       "2              73                4             42                 0   \n",
       "3              18               10            220                 0   \n",
       "4              43                5             39                 0   \n",
       "\n",
       "   listed_count  default_profile  default_profile_image  geo_enabled  \\\n",
       "0            41              0.0                    0.0          1.0   \n",
       "1             0              0.0                    0.0          0.0   \n",
       "2             1              0.0                    0.0          0.0   \n",
       "3             0              1.0                    0.0          0.0   \n",
       "4             0              0.0                    0.0          0.0   \n",
       "\n",
       "   profile_use_background_image  profile_background_tile  tweet_frequency  \\\n",
       "0                           1.0                      1.0         0.000000   \n",
       "1                           1.0                      0.0         2.143443   \n",
       "2                           1.0                      1.0         4.961538   \n",
       "3                           1.0                      0.0         2.117647   \n",
       "4                           1.0                      1.0         4.450000   \n",
       "\n",
       "   number_of_tags  number_of_mentions  tweet_weekend_frequency  \\\n",
       "0             0.0                 0.0                 0.000000   \n",
       "1           203.0               273.0                 2.230769   \n",
       "2             7.0                47.0                 5.714286   \n",
       "3             6.0                 0.0                 2.000000   \n",
       "4             9.0                40.0                 4.428571   \n",
       "\n",
       "   tweet_weekday_frequency  following_to_followers_ratio  username_length  \\\n",
       "0                 0.000000                      1.091859               13   \n",
       "1                 2.111732                      0.952381               20   \n",
       "2                 4.684211                     10.500000               12   \n",
       "3                 2.166667                     22.000000               15   \n",
       "4                 4.461538                      7.800000               11   \n",
       "\n",
       "   screen_name_length  username_spec_char_count  screen_name_spec_char_count  \\\n",
       "0                  14                         1                            0   \n",
       "1                  15                         1                            0   \n",
       "2                  11                         1                            0   \n",
       "3                  15                         1                            0   \n",
       "4                  10                         1                            0   \n",
       "\n",
       "   has_url  tweets_0  tweets_1  tweets_2  tweets_3  tweets_4  tweets_5  \\\n",
       "0        0  0.000000  0.000000  0.000000  0.000000  0.000000  0.000000   \n",
       "1        0  0.015111  0.038214  0.021573  0.056045  0.012317  0.041829   \n",
       "2        0  0.043643  0.000000  0.124616  0.080935  0.000000  0.080542   \n",
       "3        0  0.210963  0.000000  0.000000  0.000000  0.000000  0.000000   \n",
       "4        0  0.000000  0.000000  0.157321  0.051088  0.000000  0.000000   \n",
       "\n",
       "   tweets_6  tweets_7  tweets_8  tweets_9  tweets_10  tweets_11  tweets_12  \\\n",
       "0  0.000000  0.000000  0.000000  0.000000   0.000000   0.000000   0.000000   \n",
       "1  0.095027  0.118533  0.153021  0.020402   0.024238   0.048284   0.013064   \n",
       "2  0.235250  0.161106  0.000000  0.000000   0.000000   0.000000   0.113194   \n",
       "3  0.000000  0.000000  0.000000  0.000000   0.000000   0.000000   0.000000   \n",
       "4  0.247492  0.000000  0.000000  0.074390   0.000000   0.000000   0.095268   \n",
       "\n",
       "   tweets_13  tweets_14  tweets_15  tweets_16  tweets_17  tweets_18  \\\n",
       "0   0.000000   0.000000   0.000000   0.000000   0.000000   0.000000   \n",
       "1   0.038550   0.022159   0.054874   0.063197   0.012682   0.063936   \n",
       "2   0.000000   0.128003   0.000000   0.146023   0.109882   0.000000   \n",
       "3   0.269102   0.000000   0.000000   0.000000   0.354101   0.000000   \n",
       "4   0.070281   0.107731   0.000000   0.092173   0.092480   0.000000   \n",
       "\n",
       "   tweets_19  tweets_20  tweets_21  tweets_22  tweets_23  tweets_24  \\\n",
       "0     0.0000   0.000000   0.000000   0.000000        0.0   0.000000   \n",
       "1     0.0861   0.314628   0.050772   0.062398        0.0   0.063076   \n",
       "2     0.0000   0.000000   0.183301   0.160194        0.0   0.145743   \n",
       "3     0.0000   0.000000   0.000000   0.193588        0.0   0.000000   \n",
       "4     0.0000   0.074013   0.185126   0.050559        0.0   0.275988   \n",
       "\n",
       "   tweets_25  tweets_26  tweets_27  tweets_28  tweets_29  tweets_30  \\\n",
       "0   0.000000   0.000000   0.000000   0.000000   0.000000   0.000000   \n",
       "1   0.012394   0.032178   0.014145   0.058116   0.055773   0.063708   \n",
       "2   0.000000   0.111524   0.204275   0.149201   0.161084   0.122668   \n",
       "3   0.000000   0.000000   0.000000   0.180303   0.194663   0.000000   \n",
       "4   0.000000   0.187723   0.103154   0.094179   0.000000   0.051621   \n",
       "\n",
       "   tweets_31  tweets_32  tweets_33  tweets_34  tweets_35  tweets_36  \\\n",
       "0        0.0   0.000000   0.000000   0.000000   0.000000   0.000000   \n",
       "1        0.0   0.082094   0.011361   0.043004   0.149286   0.144188   \n",
       "2        0.0   0.145911   0.000000   0.000000   0.000000   0.208224   \n",
       "3        0.0   0.000000   0.000000   0.000000   0.000000   0.167753   \n",
       "4        0.0   0.092102   0.000000   0.000000   0.000000   0.175248   \n",
       "\n",
       "   tweets_37  tweets_38  tweets_39  tweets_40  tweets_41  tweets_42  \\\n",
       "0        0.0        0.0   0.000000   0.000000   0.000000   0.000000   \n",
       "1        0.0        0.0   0.026510   0.165678   0.097239   0.029239   \n",
       "2        0.0        0.0   0.191416   0.083220   0.086415   0.000000   \n",
       "3        0.0        0.0   0.000000   0.201136   0.000000   0.000000   \n",
       "4        0.0        0.0   0.241653   0.000000   0.000000   0.071074   \n",
       "\n",
       "   tweets_43  tweets_44  tweets_45  tweets_46  tweets_47  tweets_48  \\\n",
       "0   0.000000   0.000000   0.000000   0.000000   0.000000   0.000000   \n",
       "1   0.071851   0.091812   0.057298   0.150633   0.015365   0.067312   \n",
       "2   0.264120   0.176783   0.055163   0.118653   0.133135   0.176739   \n",
       "3   0.000000   0.170908   0.000000   0.000000   0.000000   0.000000   \n",
       "4   0.190535   0.089271   0.000000   0.199725   0.056025   0.133874   \n",
       "\n",
       "   tweets_49  tweets_50  tweets_51  tweets_52  tweets_53  tweets_54  \\\n",
       "0   0.000000   0.000000   0.000000   0.000000        0.0   0.000000   \n",
       "1   0.012317   0.026300   0.041564   0.027256        0.0   0.031031   \n",
       "2   0.000000   0.037980   0.160062   0.000000        0.0   0.044812   \n",
       "3   0.000000   0.000000   0.000000   0.253683        0.0   0.000000   \n",
       "4   0.000000   0.143845   0.050517   0.066254        0.0   0.113144   \n",
       "\n",
       "   tweets_55  tweets_56  tweets_57  tweets_58  tweets_59  tweets_60  \\\n",
       "0   0.000000   0.000000   0.000000   0.000000   0.000000   0.000000   \n",
       "1   0.039828   0.052517   0.041071   0.069111   0.078282   0.087746   \n",
       "2   0.153377   0.151682   0.158161   0.039922   0.000000   0.181022   \n",
       "3   0.185350   0.000000   0.000000   0.000000   0.000000   0.000000   \n",
       "4   0.145223   0.047872   0.099835   0.050399   0.000000   0.137118   \n",
       "\n",
       "   tweets_61  tweets_62  tweets_63  tweets_64  tweets_65  tweets_66  \\\n",
       "0   0.000000   0.000000   0.000000   0.000000     0.0000   0.000000   \n",
       "1   0.039378   0.193772   0.000000   0.061124     0.0115   0.010128   \n",
       "2   0.189552   0.000000   0.075429   0.000000     0.0000   0.000000   \n",
       "3   0.183253   0.000000   0.000000   0.000000     0.0000   0.000000   \n",
       "4   0.143580   0.000000   0.000000   0.000000     0.0000   0.073861   \n",
       "\n",
       "   tweets_67  tweets_68  tweets_69  tweets_70  tweets_71  tweets_72  \\\n",
       "0        0.0   0.000000   0.000000   0.000000   0.000000   0.000000   \n",
       "1        0.0   0.117751   0.037663   0.043608   0.000000   0.027844   \n",
       "2        0.0   0.085023   0.043512   0.041983   0.000000   0.080419   \n",
       "3        0.0   0.000000   0.000000   0.000000   0.242716   0.000000   \n",
       "4        0.0   0.000000   0.109863   0.106002   0.000000   0.101525   \n",
       "\n",
       "   tweets_73  tweets_74  tweets_75  tweets_76  tweets_77  tweets_78  \\\n",
       "0   0.000000   0.000000   0.000000   0.000000   0.000000   0.000000   \n",
       "1   0.011764   0.034073   0.056702   0.090414   0.007634   0.023734   \n",
       "2   0.000000   0.000000   0.054589   0.000000   0.044095   0.068549   \n",
       "3   0.000000   0.000000   0.000000   0.000000   0.000000   0.000000   \n",
       "4   0.000000   0.082826   0.000000   0.000000   0.055667   0.000000   \n",
       "\n",
       "   tweets_79  tweets_80  tweets_81  tweets_82  tweets_83  tweets_84  \\\n",
       "0   0.000000   0.000000   0.000000   0.000000   0.000000   0.000000   \n",
       "1   0.011146   0.021561   0.019044   0.013805   0.041518   0.010563   \n",
       "2   0.000000   0.041515   0.000000   0.159489   0.119914   0.000000   \n",
       "3   0.000000   0.000000   0.000000   0.000000   0.000000   0.000000   \n",
       "4   0.000000   0.000000   0.000000   0.352356   0.151384   0.000000   \n",
       "\n",
       "   tweets_85  tweets_86  tweets_87  tweets_88  tweets_89  tweets_90  \\\n",
       "0   0.000000   0.000000   0.000000   0.000000   0.000000   0.000000   \n",
       "1   0.098142   0.071127   0.036862   0.000000   0.038113   0.102217   \n",
       "2   0.141727   0.000000   0.000000   0.000000   0.110080   0.000000   \n",
       "3   0.171271   0.000000   0.000000   0.421354   0.000000   0.259468   \n",
       "4   0.178923   0.051869   0.000000   0.000000   0.138970   0.067765   \n",
       "\n",
       "   tweets_91  tweets_92  tweets_93  tweets_94  tweets_95  tweets_96  \\\n",
       "0   0.000000   0.000000   0.000000   0.000000   0.000000   0.000000   \n",
       "1   0.063132   0.722933   0.032901   0.006619   0.014319   0.014699   \n",
       "2   0.000000   0.000000   0.114032   0.152930   0.082711   0.042455   \n",
       "3   0.000000   0.000000   0.000000   0.000000   0.199904   0.000000   \n",
       "4   0.000000   0.000000   0.047986   0.096533   0.208835   0.053598   \n",
       "\n",
       "   tweets_97  tweets_98  tweets_99  description_0  description_1  \\\n",
       "0   0.000000   0.000000   0.000000            0.0            0.0   \n",
       "1   0.058143   0.000000   0.021576            0.0            0.0   \n",
       "2   0.083966   0.000000   0.124634            0.0            0.0   \n",
       "3   0.000000   0.215975   0.000000            0.0            0.0   \n",
       "4   0.106002   0.169218   0.104895            0.0            0.0   \n",
       "\n",
       "   description_2  description_3  description_4  description_5  description_6  \\\n",
       "0            0.0            0.0            0.0            0.0            0.0   \n",
       "1            0.0            0.0            0.0            0.0            0.0   \n",
       "2            0.0            0.0            0.0            0.0            0.0   \n",
       "3            0.0            0.0            0.0            0.0            0.0   \n",
       "4            0.0            0.0            0.0            0.0            0.0   \n",
       "\n",
       "   description_7  description_8  description_9  description_10  \\\n",
       "0            0.0            0.0            0.0             0.0   \n",
       "1            0.0            0.0            0.0             0.0   \n",
       "2            0.0            0.0            0.0             0.0   \n",
       "3            0.0            0.0            0.0             0.0   \n",
       "4            0.0            0.0            0.0             0.0   \n",
       "\n",
       "   description_11  description_12  description_13  description_14  \\\n",
       "0             0.0             0.0             0.0             0.0   \n",
       "1             0.0             0.0             0.0             0.0   \n",
       "2             0.0             0.0             0.0             0.0   \n",
       "3             0.0             0.0             0.0             0.0   \n",
       "4             0.0             0.0             0.0             0.0   \n",
       "\n",
       "   description_15  description_16  description_17  description_18  \\\n",
       "0             0.0             0.0             0.0             0.0   \n",
       "1             0.0             0.0             0.0             0.0   \n",
       "2             0.0             0.0             0.0             0.0   \n",
       "3             0.0             0.0             0.0             0.0   \n",
       "4             0.0             0.0             0.0             0.0   \n",
       "\n",
       "   description_19  description_20  description_21  description_22  \\\n",
       "0             0.0             0.0             0.0             0.0   \n",
       "1             0.0             0.0             0.0             0.0   \n",
       "2             0.0             0.0             0.0             0.0   \n",
       "3             0.0             0.0             0.0             0.0   \n",
       "4             0.0             0.0             0.0             0.0   \n",
       "\n",
       "   description_23  description_24  description_25  description_26  \\\n",
       "0             0.0             0.0             0.0             0.0   \n",
       "1             0.0             0.0             0.0             0.0   \n",
       "2             0.0             0.0             0.0             0.0   \n",
       "3             0.0             0.0             0.0             0.0   \n",
       "4             0.0             0.0             0.0             0.0   \n",
       "\n",
       "   description_27  description_28  description_29  description_30  \\\n",
       "0             0.0             0.0             0.0             0.0   \n",
       "1             0.0             0.0             0.0             0.0   \n",
       "2             0.0             0.0             0.0             0.0   \n",
       "3             0.0             0.0             0.0             0.0   \n",
       "4             0.0             0.0             0.0             0.0   \n",
       "\n",
       "   description_31  description_32  description_33  description_34  \\\n",
       "0             0.0             0.0             0.0             0.0   \n",
       "1             0.0             0.0             0.0             0.0   \n",
       "2             0.0             0.0             0.0             0.0   \n",
       "3             0.0             0.0             0.0             0.0   \n",
       "4             0.0             0.0             0.0             0.0   \n",
       "\n",
       "   description_35  description_36  description_37  description_38  \\\n",
       "0             0.0             0.0             0.0             0.0   \n",
       "1             0.0             0.0             0.0             0.0   \n",
       "2             0.0             0.0             0.0             0.0   \n",
       "3             0.0             0.0             0.0             0.0   \n",
       "4             0.0             0.0             0.0             0.0   \n",
       "\n",
       "   description_39  description_40  description_41  description_42  \\\n",
       "0             0.0             0.0             0.0             0.0   \n",
       "1             0.0             0.0             0.0             0.0   \n",
       "2             0.0             0.0             0.0             0.0   \n",
       "3             0.0             0.0             0.0             0.0   \n",
       "4             0.0             0.0             0.0             0.0   \n",
       "\n",
       "   description_43  description_44  description_45  description_46  \\\n",
       "0             0.0             0.0             0.0             0.0   \n",
       "1             0.0             0.0             1.0             0.0   \n",
       "2             0.0             0.0             0.0             0.0   \n",
       "3             0.0             0.0             0.0             0.0   \n",
       "4             0.0             0.0             0.0             0.0   \n",
       "\n",
       "   description_47  description_48  description_49  description_50  \\\n",
       "0             0.0             0.0             0.0             0.0   \n",
       "1             0.0             0.0             0.0             0.0   \n",
       "2             0.0             0.0             0.0             0.0   \n",
       "3             0.0             0.0             0.0             0.0   \n",
       "4             0.0             0.0             0.0             0.0   \n",
       "\n",
       "   description_51  description_52  description_53  description_54  \\\n",
       "0             0.0             0.0             0.0             0.0   \n",
       "1             0.0             0.0             0.0             0.0   \n",
       "2             0.0             0.0             0.0             0.0   \n",
       "3             0.0             0.0             0.0             0.0   \n",
       "4             0.0             0.0             0.0             0.0   \n",
       "\n",
       "   description_55  description_56  description_57  description_58  \\\n",
       "0             0.0             0.0             0.0             0.0   \n",
       "1             0.0             0.0             0.0             0.0   \n",
       "2             0.0             0.0             0.0             0.0   \n",
       "3             0.0             0.0             0.0             0.0   \n",
       "4             0.0             0.0             0.0             0.0   \n",
       "\n",
       "   description_59  description_60  description_61  description_62  \\\n",
       "0             0.0             0.0             0.0             0.0   \n",
       "1             0.0             0.0             0.0             0.0   \n",
       "2             0.0             0.0             0.0             0.0   \n",
       "3             0.0             0.0             0.0             0.0   \n",
       "4             0.0             0.0             0.0             0.0   \n",
       "\n",
       "   description_63  description_64  description_65  description_66  \\\n",
       "0             0.0             0.0             0.0             0.0   \n",
       "1             0.0             0.0             0.0             0.0   \n",
       "2             0.0             0.0             0.0             0.0   \n",
       "3             0.0             0.0             0.0             0.0   \n",
       "4             0.0             0.0             0.0             0.0   \n",
       "\n",
       "   description_67  description_68  description_69  description_70  \\\n",
       "0             0.0             0.0             0.0             0.0   \n",
       "1             0.0             0.0             0.0             0.0   \n",
       "2             0.0             0.0             0.0             0.0   \n",
       "3             0.0             0.0             0.0             0.0   \n",
       "4             0.0             0.0             0.0             0.0   \n",
       "\n",
       "   description_71  description_72  description_73  description_74  \\\n",
       "0             0.0             0.0             0.0             0.0   \n",
       "1             0.0             0.0             0.0             0.0   \n",
       "2             0.0             0.0             0.0             0.0   \n",
       "3             0.0             0.0             0.0             0.0   \n",
       "4             0.0             0.0             0.0             0.0   \n",
       "\n",
       "   description_75  description_76  description_77  description_78  \\\n",
       "0             0.0             0.0             0.0        0.885328   \n",
       "1             0.0             0.0             0.0        0.000000   \n",
       "2             0.0             0.0             0.0        0.000000   \n",
       "3             0.0             0.0             0.0        0.000000   \n",
       "4             0.0             0.0             0.0        0.000000   \n",
       "\n",
       "   description_79  description_80  description_81  description_82  \\\n",
       "0             0.0             0.0             0.0             0.0   \n",
       "1             0.0             0.0             0.0             0.0   \n",
       "2             0.0             0.0             0.0             0.0   \n",
       "3             0.0             0.0             0.0             0.0   \n",
       "4             0.0             0.0             0.0             0.0   \n",
       "\n",
       "   description_83  description_84  description_85  description_86  \\\n",
       "0             0.0             0.0             0.0        0.464967   \n",
       "1             0.0             0.0             0.0        0.000000   \n",
       "2             0.0             0.0             0.0        0.000000   \n",
       "3             0.0             0.0             0.0        0.000000   \n",
       "4             0.0             0.0             0.0        0.000000   \n",
       "\n",
       "   description_87  description_88  description_89  description_90  \\\n",
       "0             0.0             0.0             0.0             0.0   \n",
       "1             0.0             0.0             0.0             0.0   \n",
       "2             0.0             0.0             0.0             0.0   \n",
       "3             0.0             0.0             0.0             0.0   \n",
       "4             0.0             0.0             0.0             0.0   \n",
       "\n",
       "   description_91  description_92  description_93  description_94  \\\n",
       "0             0.0             0.0             0.0             0.0   \n",
       "1             0.0             0.0             0.0             0.0   \n",
       "2             0.0             0.0             0.0             0.0   \n",
       "3             0.0             0.0             0.0             0.0   \n",
       "4             0.0             0.0             0.0             0.0   \n",
       "\n",
       "   description_95  description_96  description_97  description_98  \\\n",
       "0             0.0             0.0             0.0             0.0   \n",
       "1             0.0             0.0             0.0             0.0   \n",
       "2             0.0             0.0             0.0             0.0   \n",
       "3             0.0             0.0             0.0             0.0   \n",
       "4             0.0             0.0             0.0             0.0   \n",
       "\n",
       "   description_99  \n",
       "0             0.0  \n",
       "1             0.0  \n",
       "2             0.0  \n",
       "3             0.0  \n",
       "4             0.0  "
      ],
      "text/html": "<div>\n<style scoped>\n    .dataframe tbody tr th:only-of-type {\n        vertical-align: middle;\n    }\n\n    .dataframe tbody tr th {\n        vertical-align: top;\n    }\n\n    .dataframe thead th {\n        text-align: right;\n    }\n</style>\n<table border=\"1\" class=\"dataframe\">\n  <thead>\n    <tr style=\"text-align: right;\">\n      <th></th>\n      <th>statuses_count</th>\n      <th>followers_count</th>\n      <th>friends_count</th>\n      <th>favourites_count</th>\n      <th>listed_count</th>\n      <th>default_profile</th>\n      <th>default_profile_image</th>\n      <th>geo_enabled</th>\n      <th>profile_use_background_image</th>\n      <th>profile_background_tile</th>\n      <th>tweet_frequency</th>\n      <th>number_of_tags</th>\n      <th>number_of_mentions</th>\n      <th>tweet_weekend_frequency</th>\n      <th>tweet_weekday_frequency</th>\n      <th>following_to_followers_ratio</th>\n      <th>username_length</th>\n      <th>screen_name_length</th>\n      <th>username_spec_char_count</th>\n      <th>screen_name_spec_char_count</th>\n      <th>has_url</th>\n      <th>tweets_0</th>\n      <th>tweets_1</th>\n      <th>tweets_2</th>\n      <th>tweets_3</th>\n      <th>tweets_4</th>\n      <th>tweets_5</th>\n      <th>tweets_6</th>\n      <th>tweets_7</th>\n      <th>tweets_8</th>\n      <th>tweets_9</th>\n      <th>tweets_10</th>\n      <th>tweets_11</th>\n      <th>tweets_12</th>\n      <th>tweets_13</th>\n      <th>tweets_14</th>\n      <th>tweets_15</th>\n      <th>tweets_16</th>\n      <th>tweets_17</th>\n      <th>tweets_18</th>\n      <th>tweets_19</th>\n      <th>tweets_20</th>\n      <th>tweets_21</th>\n      <th>tweets_22</th>\n      <th>tweets_23</th>\n      <th>tweets_24</th>\n      <th>tweets_25</th>\n      <th>tweets_26</th>\n      <th>tweets_27</th>\n      <th>tweets_28</th>\n      <th>tweets_29</th>\n      <th>tweets_30</th>\n      <th>tweets_31</th>\n      <th>tweets_32</th>\n      <th>tweets_33</th>\n      <th>tweets_34</th>\n      <th>tweets_35</th>\n      <th>tweets_36</th>\n      <th>tweets_37</th>\n      <th>tweets_38</th>\n      <th>tweets_39</th>\n      <th>tweets_40</th>\n      <th>tweets_41</th>\n      <th>tweets_42</th>\n      <th>tweets_43</th>\n      <th>tweets_44</th>\n      <th>tweets_45</th>\n      <th>tweets_46</th>\n      <th>tweets_47</th>\n      <th>tweets_48</th>\n      <th>tweets_49</th>\n      <th>tweets_50</th>\n      <th>tweets_51</th>\n      <th>tweets_52</th>\n      <th>tweets_53</th>\n      <th>tweets_54</th>\n      <th>tweets_55</th>\n      <th>tweets_56</th>\n      <th>tweets_57</th>\n      <th>tweets_58</th>\n      <th>tweets_59</th>\n      <th>tweets_60</th>\n      <th>tweets_61</th>\n      <th>tweets_62</th>\n      <th>tweets_63</th>\n      <th>tweets_64</th>\n      <th>tweets_65</th>\n      <th>tweets_66</th>\n      <th>tweets_67</th>\n      <th>tweets_68</th>\n      <th>tweets_69</th>\n      <th>tweets_70</th>\n      <th>tweets_71</th>\n      <th>tweets_72</th>\n      <th>tweets_73</th>\n      <th>tweets_74</th>\n      <th>tweets_75</th>\n      <th>tweets_76</th>\n      <th>tweets_77</th>\n      <th>tweets_78</th>\n      <th>tweets_79</th>\n      <th>tweets_80</th>\n      <th>tweets_81</th>\n      <th>tweets_82</th>\n      <th>tweets_83</th>\n      <th>tweets_84</th>\n      <th>tweets_85</th>\n      <th>tweets_86</th>\n      <th>tweets_87</th>\n      <th>tweets_88</th>\n      <th>tweets_89</th>\n      <th>tweets_90</th>\n      <th>tweets_91</th>\n      <th>tweets_92</th>\n      <th>tweets_93</th>\n      <th>tweets_94</th>\n      <th>tweets_95</th>\n      <th>tweets_96</th>\n      <th>tweets_97</th>\n      <th>tweets_98</th>\n      <th>tweets_99</th>\n      <th>description_0</th>\n      <th>description_1</th>\n      <th>description_2</th>\n      <th>description_3</th>\n      <th>description_4</th>\n      <th>description_5</th>\n      <th>description_6</th>\n      <th>description_7</th>\n      <th>description_8</th>\n      <th>description_9</th>\n      <th>description_10</th>\n      <th>description_11</th>\n      <th>description_12</th>\n      <th>description_13</th>\n      <th>description_14</th>\n      <th>description_15</th>\n      <th>description_16</th>\n      <th>description_17</th>\n      <th>description_18</th>\n      <th>description_19</th>\n      <th>description_20</th>\n      <th>description_21</th>\n      <th>description_22</th>\n      <th>description_23</th>\n      <th>description_24</th>\n      <th>description_25</th>\n      <th>description_26</th>\n      <th>description_27</th>\n      <th>description_28</th>\n      <th>description_29</th>\n      <th>description_30</th>\n      <th>description_31</th>\n      <th>description_32</th>\n      <th>description_33</th>\n      <th>description_34</th>\n      <th>description_35</th>\n      <th>description_36</th>\n      <th>description_37</th>\n      <th>description_38</th>\n      <th>description_39</th>\n      <th>description_40</th>\n      <th>description_41</th>\n      <th>description_42</th>\n      <th>description_43</th>\n      <th>description_44</th>\n      <th>description_45</th>\n      <th>description_46</th>\n      <th>description_47</th>\n      <th>description_48</th>\n      <th>description_49</th>\n      <th>description_50</th>\n      <th>description_51</th>\n      <th>description_52</th>\n      <th>description_53</th>\n      <th>description_54</th>\n      <th>description_55</th>\n      <th>description_56</th>\n      <th>description_57</th>\n      <th>description_58</th>\n      <th>description_59</th>\n      <th>description_60</th>\n      <th>description_61</th>\n      <th>description_62</th>\n      <th>description_63</th>\n      <th>description_64</th>\n      <th>description_65</th>\n      <th>description_66</th>\n      <th>description_67</th>\n      <th>description_68</th>\n      <th>description_69</th>\n      <th>description_70</th>\n      <th>description_71</th>\n      <th>description_72</th>\n      <th>description_73</th>\n      <th>description_74</th>\n      <th>description_75</th>\n      <th>description_76</th>\n      <th>description_77</th>\n      <th>description_78</th>\n      <th>description_79</th>\n      <th>description_80</th>\n      <th>description_81</th>\n      <th>description_82</th>\n      <th>description_83</th>\n      <th>description_84</th>\n      <th>description_85</th>\n      <th>description_86</th>\n      <th>description_87</th>\n      <th>description_88</th>\n      <th>description_89</th>\n      <th>description_90</th>\n      <th>description_91</th>\n      <th>description_92</th>\n      <th>description_93</th>\n      <th>description_94</th>\n      <th>description_95</th>\n      <th>description_96</th>\n      <th>description_97</th>\n      <th>description_98</th>\n      <th>description_99</th>\n    </tr>\n  </thead>\n  <tbody>\n    <tr>\n      <th>0</th>\n      <td>124434</td>\n      <td>1818</td>\n      <td>1985</td>\n      <td>7452</td>\n      <td>41</td>\n      <td>0.0</td>\n      <td>0.0</td>\n      <td>1.0</td>\n      <td>1.0</td>\n      <td>1.0</td>\n      <td>0.000000</td>\n      <td>0.0</td>\n      <td>0.0</td>\n      <td>0.000000</td>\n      <td>0.000000</td>\n      <td>1.091859</td>\n      <td>13</td>\n      <td>14</td>\n      <td>1</td>\n      <td>0</td>\n      <td>0</td>\n      <td>0.000000</td>\n      <td>0.000000</td>\n      <td>0.000000</td>\n      <td>0.000000</td>\n      <td>0.000000</td>\n      <td>0.000000</td>\n      <td>0.000000</td>\n      <td>0.000000</td>\n      <td>0.000000</td>\n      <td>0.000000</td>\n      <td>0.000000</td>\n      <td>0.000000</td>\n      <td>0.000000</td>\n      <td>0.000000</td>\n      <td>0.000000</td>\n      <td>0.000000</td>\n      <td>0.000000</td>\n      <td>0.000000</td>\n      <td>0.000000</td>\n      <td>0.0000</td>\n      <td>0.000000</td>\n      <td>0.000000</td>\n      <td>0.000000</td>\n      <td>0.0</td>\n      <td>0.000000</td>\n      <td>0.000000</td>\n      <td>0.000000</td>\n      <td>0.000000</td>\n      <td>0.000000</td>\n      <td>0.000000</td>\n      <td>0.000000</td>\n      <td>0.0</td>\n      <td>0.000000</td>\n      <td>0.000000</td>\n      <td>0.000000</td>\n      <td>0.000000</td>\n      <td>0.000000</td>\n      <td>0.0</td>\n      <td>0.0</td>\n      <td>0.000000</td>\n      <td>0.000000</td>\n      <td>0.000000</td>\n      <td>0.000000</td>\n      <td>0.000000</td>\n      <td>0.000000</td>\n      <td>0.000000</td>\n      <td>0.000000</td>\n      <td>0.000000</td>\n      <td>0.000000</td>\n      <td>0.000000</td>\n      <td>0.000000</td>\n      <td>0.000000</td>\n      <td>0.000000</td>\n      <td>0.0</td>\n      <td>0.000000</td>\n      <td>0.000000</td>\n      <td>0.000000</td>\n      <td>0.000000</td>\n      <td>0.000000</td>\n      <td>0.000000</td>\n      <td>0.000000</td>\n      <td>0.000000</td>\n      <td>0.000000</td>\n      <td>0.000000</td>\n      <td>0.000000</td>\n      <td>0.0000</td>\n      <td>0.000000</td>\n      <td>0.0</td>\n      <td>0.000000</td>\n      <td>0.000000</td>\n      <td>0.000000</td>\n      <td>0.000000</td>\n      <td>0.000000</td>\n      <td>0.000000</td>\n      <td>0.000000</td>\n      <td>0.000000</td>\n      <td>0.000000</td>\n      <td>0.000000</td>\n      <td>0.000000</td>\n      <td>0.000000</td>\n      <td>0.000000</td>\n      <td>0.000000</td>\n      <td>0.000000</td>\n      <td>0.000000</td>\n      <td>0.000000</td>\n      <td>0.000000</td>\n      <td>0.000000</td>\n      <td>0.000000</td>\n      <td>0.000000</td>\n      <td>0.000000</td>\n      <td>0.000000</td>\n      <td>0.000000</td>\n      <td>0.000000</td>\n      <td>0.000000</td>\n      <td>0.000000</td>\n      <td>0.000000</td>\n      <td>0.000000</td>\n      <td>0.000000</td>\n      <td>0.000000</td>\n      <td>0.000000</td>\n      <td>0.0</td>\n      <td>0.0</td>\n      <td>0.0</td>\n      <td>0.0</td>\n      <td>0.0</td>\n      <td>0.0</td>\n      <td>0.0</td>\n      <td>0.0</td>\n      <td>0.0</td>\n      <td>0.0</td>\n      <td>0.0</td>\n      <td>0.0</td>\n      <td>0.0</td>\n      <td>0.0</td>\n      <td>0.0</td>\n      <td>0.0</td>\n      <td>0.0</td>\n      <td>0.0</td>\n      <td>0.0</td>\n      <td>0.0</td>\n      <td>0.0</td>\n      <td>0.0</td>\n      <td>0.0</td>\n      <td>0.0</td>\n      <td>0.0</td>\n      <td>0.0</td>\n      <td>0.0</td>\n      <td>0.0</td>\n      <td>0.0</td>\n      <td>0.0</td>\n      <td>0.0</td>\n      <td>0.0</td>\n      <td>0.0</td>\n      <td>0.0</td>\n      <td>0.0</td>\n      <td>0.0</td>\n      <td>0.0</td>\n      <td>0.0</td>\n      <td>0.0</td>\n      <td>0.0</td>\n      <td>0.0</td>\n      <td>0.0</td>\n      <td>0.0</td>\n      <td>0.0</td>\n      <td>0.0</td>\n      <td>0.0</td>\n      <td>0.0</td>\n      <td>0.0</td>\n      <td>0.0</td>\n      <td>0.0</td>\n      <td>0.0</td>\n      <td>0.0</td>\n      <td>0.0</td>\n      <td>0.0</td>\n      <td>0.0</td>\n      <td>0.0</td>\n      <td>0.0</td>\n      <td>0.0</td>\n      <td>0.0</td>\n      <td>0.0</td>\n      <td>0.0</td>\n      <td>0.0</td>\n      <td>0.0</td>\n      <td>0.0</td>\n      <td>0.0</td>\n      <td>0.0</td>\n      <td>0.0</td>\n      <td>0.0</td>\n      <td>0.0</td>\n      <td>0.0</td>\n      <td>0.0</td>\n      <td>0.0</td>\n      <td>0.0</td>\n      <td>0.0</td>\n      <td>0.0</td>\n      <td>0.0</td>\n      <td>0.0</td>\n      <td>0.0</td>\n      <td>0.885328</td>\n      <td>0.0</td>\n      <td>0.0</td>\n      <td>0.0</td>\n      <td>0.0</td>\n      <td>0.0</td>\n      <td>0.0</td>\n      <td>0.0</td>\n      <td>0.464967</td>\n      <td>0.0</td>\n      <td>0.0</td>\n      <td>0.0</td>\n      <td>0.0</td>\n      <td>0.0</td>\n      <td>0.0</td>\n      <td>0.0</td>\n      <td>0.0</td>\n      <td>0.0</td>\n      <td>0.0</td>\n      <td>0.0</td>\n      <td>0.0</td>\n      <td>0.0</td>\n    </tr>\n    <tr>\n      <th>1</th>\n      <td>524</td>\n      <td>42</td>\n      <td>40</td>\n      <td>0</td>\n      <td>0</td>\n      <td>0.0</td>\n      <td>0.0</td>\n      <td>0.0</td>\n      <td>1.0</td>\n      <td>0.0</td>\n      <td>2.143443</td>\n      <td>203.0</td>\n      <td>273.0</td>\n      <td>2.230769</td>\n      <td>2.111732</td>\n      <td>0.952381</td>\n      <td>20</td>\n      <td>15</td>\n      <td>1</td>\n      <td>0</td>\n      <td>0</td>\n      <td>0.015111</td>\n      <td>0.038214</td>\n      <td>0.021573</td>\n      <td>0.056045</td>\n      <td>0.012317</td>\n      <td>0.041829</td>\n      <td>0.095027</td>\n      <td>0.118533</td>\n      <td>0.153021</td>\n      <td>0.020402</td>\n      <td>0.024238</td>\n      <td>0.048284</td>\n      <td>0.013064</td>\n      <td>0.038550</td>\n      <td>0.022159</td>\n      <td>0.054874</td>\n      <td>0.063197</td>\n      <td>0.012682</td>\n      <td>0.063936</td>\n      <td>0.0861</td>\n      <td>0.314628</td>\n      <td>0.050772</td>\n      <td>0.062398</td>\n      <td>0.0</td>\n      <td>0.063076</td>\n      <td>0.012394</td>\n      <td>0.032178</td>\n      <td>0.014145</td>\n      <td>0.058116</td>\n      <td>0.055773</td>\n      <td>0.063708</td>\n      <td>0.0</td>\n      <td>0.082094</td>\n      <td>0.011361</td>\n      <td>0.043004</td>\n      <td>0.149286</td>\n      <td>0.144188</td>\n      <td>0.0</td>\n      <td>0.0</td>\n      <td>0.026510</td>\n      <td>0.165678</td>\n      <td>0.097239</td>\n      <td>0.029239</td>\n      <td>0.071851</td>\n      <td>0.091812</td>\n      <td>0.057298</td>\n      <td>0.150633</td>\n      <td>0.015365</td>\n      <td>0.067312</td>\n      <td>0.012317</td>\n      <td>0.026300</td>\n      <td>0.041564</td>\n      <td>0.027256</td>\n      <td>0.0</td>\n      <td>0.031031</td>\n      <td>0.039828</td>\n      <td>0.052517</td>\n      <td>0.041071</td>\n      <td>0.069111</td>\n      <td>0.078282</td>\n      <td>0.087746</td>\n      <td>0.039378</td>\n      <td>0.193772</td>\n      <td>0.000000</td>\n      <td>0.061124</td>\n      <td>0.0115</td>\n      <td>0.010128</td>\n      <td>0.0</td>\n      <td>0.117751</td>\n      <td>0.037663</td>\n      <td>0.043608</td>\n      <td>0.000000</td>\n      <td>0.027844</td>\n      <td>0.011764</td>\n      <td>0.034073</td>\n      <td>0.056702</td>\n      <td>0.090414</td>\n      <td>0.007634</td>\n      <td>0.023734</td>\n      <td>0.011146</td>\n      <td>0.021561</td>\n      <td>0.019044</td>\n      <td>0.013805</td>\n      <td>0.041518</td>\n      <td>0.010563</td>\n      <td>0.098142</td>\n      <td>0.071127</td>\n      <td>0.036862</td>\n      <td>0.000000</td>\n      <td>0.038113</td>\n      <td>0.102217</td>\n      <td>0.063132</td>\n      <td>0.722933</td>\n      <td>0.032901</td>\n      <td>0.006619</td>\n      <td>0.014319</td>\n      <td>0.014699</td>\n      <td>0.058143</td>\n      <td>0.000000</td>\n      <td>0.021576</td>\n      <td>0.0</td>\n      <td>0.0</td>\n      <td>0.0</td>\n      <td>0.0</td>\n      <td>0.0</td>\n      <td>0.0</td>\n      <td>0.0</td>\n      <td>0.0</td>\n      <td>0.0</td>\n      <td>0.0</td>\n      <td>0.0</td>\n      <td>0.0</td>\n      <td>0.0</td>\n      <td>0.0</td>\n      <td>0.0</td>\n      <td>0.0</td>\n      <td>0.0</td>\n      <td>0.0</td>\n      <td>0.0</td>\n      <td>0.0</td>\n      <td>0.0</td>\n      <td>0.0</td>\n      <td>0.0</td>\n      <td>0.0</td>\n      <td>0.0</td>\n      <td>0.0</td>\n      <td>0.0</td>\n      <td>0.0</td>\n      <td>0.0</td>\n      <td>0.0</td>\n      <td>0.0</td>\n      <td>0.0</td>\n      <td>0.0</td>\n      <td>0.0</td>\n      <td>0.0</td>\n      <td>0.0</td>\n      <td>0.0</td>\n      <td>0.0</td>\n      <td>0.0</td>\n      <td>0.0</td>\n      <td>0.0</td>\n      <td>0.0</td>\n      <td>0.0</td>\n      <td>0.0</td>\n      <td>0.0</td>\n      <td>1.0</td>\n      <td>0.0</td>\n      <td>0.0</td>\n      <td>0.0</td>\n      <td>0.0</td>\n      <td>0.0</td>\n      <td>0.0</td>\n      <td>0.0</td>\n      <td>0.0</td>\n      <td>0.0</td>\n      <td>0.0</td>\n      <td>0.0</td>\n      <td>0.0</td>\n      <td>0.0</td>\n      <td>0.0</td>\n      <td>0.0</td>\n      <td>0.0</td>\n      <td>0.0</td>\n      <td>0.0</td>\n      <td>0.0</td>\n      <td>0.0</td>\n      <td>0.0</td>\n      <td>0.0</td>\n      <td>0.0</td>\n      <td>0.0</td>\n      <td>0.0</td>\n      <td>0.0</td>\n      <td>0.0</td>\n      <td>0.0</td>\n      <td>0.0</td>\n      <td>0.0</td>\n      <td>0.0</td>\n      <td>0.0</td>\n      <td>0.000000</td>\n      <td>0.0</td>\n      <td>0.0</td>\n      <td>0.0</td>\n      <td>0.0</td>\n      <td>0.0</td>\n      <td>0.0</td>\n      <td>0.0</td>\n      <td>0.000000</td>\n      <td>0.0</td>\n      <td>0.0</td>\n      <td>0.0</td>\n      <td>0.0</td>\n      <td>0.0</td>\n      <td>0.0</td>\n      <td>0.0</td>\n      <td>0.0</td>\n      <td>0.0</td>\n      <td>0.0</td>\n      <td>0.0</td>\n      <td>0.0</td>\n      <td>0.0</td>\n    </tr>\n    <tr>\n      <th>2</th>\n      <td>73</td>\n      <td>4</td>\n      <td>42</td>\n      <td>0</td>\n      <td>1</td>\n      <td>0.0</td>\n      <td>0.0</td>\n      <td>0.0</td>\n      <td>1.0</td>\n      <td>1.0</td>\n      <td>4.961538</td>\n      <td>7.0</td>\n      <td>47.0</td>\n      <td>5.714286</td>\n      <td>4.684211</td>\n      <td>10.500000</td>\n      <td>12</td>\n      <td>11</td>\n      <td>1</td>\n      <td>0</td>\n      <td>0</td>\n      <td>0.043643</td>\n      <td>0.000000</td>\n      <td>0.124616</td>\n      <td>0.080935</td>\n      <td>0.000000</td>\n      <td>0.080542</td>\n      <td>0.235250</td>\n      <td>0.161106</td>\n      <td>0.000000</td>\n      <td>0.000000</td>\n      <td>0.000000</td>\n      <td>0.000000</td>\n      <td>0.113194</td>\n      <td>0.000000</td>\n      <td>0.128003</td>\n      <td>0.000000</td>\n      <td>0.146023</td>\n      <td>0.109882</td>\n      <td>0.000000</td>\n      <td>0.0000</td>\n      <td>0.000000</td>\n      <td>0.183301</td>\n      <td>0.160194</td>\n      <td>0.0</td>\n      <td>0.145743</td>\n      <td>0.000000</td>\n      <td>0.111524</td>\n      <td>0.204275</td>\n      <td>0.149201</td>\n      <td>0.161084</td>\n      <td>0.122668</td>\n      <td>0.0</td>\n      <td>0.145911</td>\n      <td>0.000000</td>\n      <td>0.000000</td>\n      <td>0.000000</td>\n      <td>0.208224</td>\n      <td>0.0</td>\n      <td>0.0</td>\n      <td>0.191416</td>\n      <td>0.083220</td>\n      <td>0.086415</td>\n      <td>0.000000</td>\n      <td>0.264120</td>\n      <td>0.176783</td>\n      <td>0.055163</td>\n      <td>0.118653</td>\n      <td>0.133135</td>\n      <td>0.176739</td>\n      <td>0.000000</td>\n      <td>0.037980</td>\n      <td>0.160062</td>\n      <td>0.000000</td>\n      <td>0.0</td>\n      <td>0.044812</td>\n      <td>0.153377</td>\n      <td>0.151682</td>\n      <td>0.158161</td>\n      <td>0.039922</td>\n      <td>0.000000</td>\n      <td>0.181022</td>\n      <td>0.189552</td>\n      <td>0.000000</td>\n      <td>0.075429</td>\n      <td>0.000000</td>\n      <td>0.0000</td>\n      <td>0.000000</td>\n      <td>0.0</td>\n      <td>0.085023</td>\n      <td>0.043512</td>\n      <td>0.041983</td>\n      <td>0.000000</td>\n      <td>0.080419</td>\n      <td>0.000000</td>\n      <td>0.000000</td>\n      <td>0.054589</td>\n      <td>0.000000</td>\n      <td>0.044095</td>\n      <td>0.068549</td>\n      <td>0.000000</td>\n      <td>0.041515</td>\n      <td>0.000000</td>\n      <td>0.159489</td>\n      <td>0.119914</td>\n      <td>0.000000</td>\n      <td>0.141727</td>\n      <td>0.000000</td>\n      <td>0.000000</td>\n      <td>0.000000</td>\n      <td>0.110080</td>\n      <td>0.000000</td>\n      <td>0.000000</td>\n      <td>0.000000</td>\n      <td>0.114032</td>\n      <td>0.152930</td>\n      <td>0.082711</td>\n      <td>0.042455</td>\n      <td>0.083966</td>\n      <td>0.000000</td>\n      <td>0.124634</td>\n      <td>0.0</td>\n      <td>0.0</td>\n      <td>0.0</td>\n      <td>0.0</td>\n      <td>0.0</td>\n      <td>0.0</td>\n      <td>0.0</td>\n      <td>0.0</td>\n      <td>0.0</td>\n      <td>0.0</td>\n      <td>0.0</td>\n      <td>0.0</td>\n      <td>0.0</td>\n      <td>0.0</td>\n      <td>0.0</td>\n      <td>0.0</td>\n      <td>0.0</td>\n      <td>0.0</td>\n      <td>0.0</td>\n      <td>0.0</td>\n      <td>0.0</td>\n      <td>0.0</td>\n      <td>0.0</td>\n      <td>0.0</td>\n      <td>0.0</td>\n      <td>0.0</td>\n      <td>0.0</td>\n      <td>0.0</td>\n      <td>0.0</td>\n      <td>0.0</td>\n      <td>0.0</td>\n      <td>0.0</td>\n      <td>0.0</td>\n      <td>0.0</td>\n      <td>0.0</td>\n      <td>0.0</td>\n      <td>0.0</td>\n      <td>0.0</td>\n      <td>0.0</td>\n      <td>0.0</td>\n      <td>0.0</td>\n      <td>0.0</td>\n      <td>0.0</td>\n      <td>0.0</td>\n      <td>0.0</td>\n      <td>0.0</td>\n      <td>0.0</td>\n      <td>0.0</td>\n      <td>0.0</td>\n      <td>0.0</td>\n      <td>0.0</td>\n      <td>0.0</td>\n      <td>0.0</td>\n      <td>0.0</td>\n      <td>0.0</td>\n      <td>0.0</td>\n      <td>0.0</td>\n      <td>0.0</td>\n      <td>0.0</td>\n      <td>0.0</td>\n      <td>0.0</td>\n      <td>0.0</td>\n      <td>0.0</td>\n      <td>0.0</td>\n      <td>0.0</td>\n      <td>0.0</td>\n      <td>0.0</td>\n      <td>0.0</td>\n      <td>0.0</td>\n      <td>0.0</td>\n      <td>0.0</td>\n      <td>0.0</td>\n      <td>0.0</td>\n      <td>0.0</td>\n      <td>0.0</td>\n      <td>0.0</td>\n      <td>0.0</td>\n      <td>0.0</td>\n      <td>0.000000</td>\n      <td>0.0</td>\n      <td>0.0</td>\n      <td>0.0</td>\n      <td>0.0</td>\n      <td>0.0</td>\n      <td>0.0</td>\n      <td>0.0</td>\n      <td>0.000000</td>\n      <td>0.0</td>\n      <td>0.0</td>\n      <td>0.0</td>\n      <td>0.0</td>\n      <td>0.0</td>\n      <td>0.0</td>\n      <td>0.0</td>\n      <td>0.0</td>\n      <td>0.0</td>\n      <td>0.0</td>\n      <td>0.0</td>\n      <td>0.0</td>\n      <td>0.0</td>\n    </tr>\n    <tr>\n      <th>3</th>\n      <td>18</td>\n      <td>10</td>\n      <td>220</td>\n      <td>0</td>\n      <td>0</td>\n      <td>1.0</td>\n      <td>0.0</td>\n      <td>0.0</td>\n      <td>1.0</td>\n      <td>0.0</td>\n      <td>2.117647</td>\n      <td>6.0</td>\n      <td>0.0</td>\n      <td>2.000000</td>\n      <td>2.166667</td>\n      <td>22.000000</td>\n      <td>15</td>\n      <td>15</td>\n      <td>1</td>\n      <td>0</td>\n      <td>0</td>\n      <td>0.210963</td>\n      <td>0.000000</td>\n      <td>0.000000</td>\n      <td>0.000000</td>\n      <td>0.000000</td>\n      <td>0.000000</td>\n      <td>0.000000</td>\n      <td>0.000000</td>\n      <td>0.000000</td>\n      <td>0.000000</td>\n      <td>0.000000</td>\n      <td>0.000000</td>\n      <td>0.000000</td>\n      <td>0.269102</td>\n      <td>0.000000</td>\n      <td>0.000000</td>\n      <td>0.000000</td>\n      <td>0.354101</td>\n      <td>0.000000</td>\n      <td>0.0000</td>\n      <td>0.000000</td>\n      <td>0.000000</td>\n      <td>0.193588</td>\n      <td>0.0</td>\n      <td>0.000000</td>\n      <td>0.000000</td>\n      <td>0.000000</td>\n      <td>0.000000</td>\n      <td>0.180303</td>\n      <td>0.194663</td>\n      <td>0.000000</td>\n      <td>0.0</td>\n      <td>0.000000</td>\n      <td>0.000000</td>\n      <td>0.000000</td>\n      <td>0.000000</td>\n      <td>0.167753</td>\n      <td>0.0</td>\n      <td>0.0</td>\n      <td>0.000000</td>\n      <td>0.201136</td>\n      <td>0.000000</td>\n      <td>0.000000</td>\n      <td>0.000000</td>\n      <td>0.170908</td>\n      <td>0.000000</td>\n      <td>0.000000</td>\n      <td>0.000000</td>\n      <td>0.000000</td>\n      <td>0.000000</td>\n      <td>0.000000</td>\n      <td>0.000000</td>\n      <td>0.253683</td>\n      <td>0.0</td>\n      <td>0.000000</td>\n      <td>0.185350</td>\n      <td>0.000000</td>\n      <td>0.000000</td>\n      <td>0.000000</td>\n      <td>0.000000</td>\n      <td>0.000000</td>\n      <td>0.183253</td>\n      <td>0.000000</td>\n      <td>0.000000</td>\n      <td>0.000000</td>\n      <td>0.0000</td>\n      <td>0.000000</td>\n      <td>0.0</td>\n      <td>0.000000</td>\n      <td>0.000000</td>\n      <td>0.000000</td>\n      <td>0.242716</td>\n      <td>0.000000</td>\n      <td>0.000000</td>\n      <td>0.000000</td>\n      <td>0.000000</td>\n      <td>0.000000</td>\n      <td>0.000000</td>\n      <td>0.000000</td>\n      <td>0.000000</td>\n      <td>0.000000</td>\n      <td>0.000000</td>\n      <td>0.000000</td>\n      <td>0.000000</td>\n      <td>0.000000</td>\n      <td>0.171271</td>\n      <td>0.000000</td>\n      <td>0.000000</td>\n      <td>0.421354</td>\n      <td>0.000000</td>\n      <td>0.259468</td>\n      <td>0.000000</td>\n      <td>0.000000</td>\n      <td>0.000000</td>\n      <td>0.000000</td>\n      <td>0.199904</td>\n      <td>0.000000</td>\n      <td>0.000000</td>\n      <td>0.215975</td>\n      <td>0.000000</td>\n      <td>0.0</td>\n      <td>0.0</td>\n      <td>0.0</td>\n      <td>0.0</td>\n      <td>0.0</td>\n      <td>0.0</td>\n      <td>0.0</td>\n      <td>0.0</td>\n      <td>0.0</td>\n      <td>0.0</td>\n      <td>0.0</td>\n      <td>0.0</td>\n      <td>0.0</td>\n      <td>0.0</td>\n      <td>0.0</td>\n      <td>0.0</td>\n      <td>0.0</td>\n      <td>0.0</td>\n      <td>0.0</td>\n      <td>0.0</td>\n      <td>0.0</td>\n      <td>0.0</td>\n      <td>0.0</td>\n      <td>0.0</td>\n      <td>0.0</td>\n      <td>0.0</td>\n      <td>0.0</td>\n      <td>0.0</td>\n      <td>0.0</td>\n      <td>0.0</td>\n      <td>0.0</td>\n      <td>0.0</td>\n      <td>0.0</td>\n      <td>0.0</td>\n      <td>0.0</td>\n      <td>0.0</td>\n      <td>0.0</td>\n      <td>0.0</td>\n      <td>0.0</td>\n      <td>0.0</td>\n      <td>0.0</td>\n      <td>0.0</td>\n      <td>0.0</td>\n      <td>0.0</td>\n      <td>0.0</td>\n      <td>0.0</td>\n      <td>0.0</td>\n      <td>0.0</td>\n      <td>0.0</td>\n      <td>0.0</td>\n      <td>0.0</td>\n      <td>0.0</td>\n      <td>0.0</td>\n      <td>0.0</td>\n      <td>0.0</td>\n      <td>0.0</td>\n      <td>0.0</td>\n      <td>0.0</td>\n      <td>0.0</td>\n      <td>0.0</td>\n      <td>0.0</td>\n      <td>0.0</td>\n      <td>0.0</td>\n      <td>0.0</td>\n      <td>0.0</td>\n      <td>0.0</td>\n      <td>0.0</td>\n      <td>0.0</td>\n      <td>0.0</td>\n      <td>0.0</td>\n      <td>0.0</td>\n      <td>0.0</td>\n      <td>0.0</td>\n      <td>0.0</td>\n      <td>0.0</td>\n      <td>0.0</td>\n      <td>0.0</td>\n      <td>0.0</td>\n      <td>0.000000</td>\n      <td>0.0</td>\n      <td>0.0</td>\n      <td>0.0</td>\n      <td>0.0</td>\n      <td>0.0</td>\n      <td>0.0</td>\n      <td>0.0</td>\n      <td>0.000000</td>\n      <td>0.0</td>\n      <td>0.0</td>\n      <td>0.0</td>\n      <td>0.0</td>\n      <td>0.0</td>\n      <td>0.0</td>\n      <td>0.0</td>\n      <td>0.0</td>\n      <td>0.0</td>\n      <td>0.0</td>\n      <td>0.0</td>\n      <td>0.0</td>\n      <td>0.0</td>\n    </tr>\n    <tr>\n      <th>4</th>\n      <td>43</td>\n      <td>5</td>\n      <td>39</td>\n      <td>0</td>\n      <td>0</td>\n      <td>0.0</td>\n      <td>0.0</td>\n      <td>0.0</td>\n      <td>1.0</td>\n      <td>1.0</td>\n      <td>4.450000</td>\n      <td>9.0</td>\n      <td>40.0</td>\n      <td>4.428571</td>\n      <td>4.461538</td>\n      <td>7.800000</td>\n      <td>11</td>\n      <td>10</td>\n      <td>1</td>\n      <td>0</td>\n      <td>0</td>\n      <td>0.000000</td>\n      <td>0.000000</td>\n      <td>0.157321</td>\n      <td>0.051088</td>\n      <td>0.000000</td>\n      <td>0.000000</td>\n      <td>0.247492</td>\n      <td>0.000000</td>\n      <td>0.000000</td>\n      <td>0.074390</td>\n      <td>0.000000</td>\n      <td>0.000000</td>\n      <td>0.095268</td>\n      <td>0.070281</td>\n      <td>0.107731</td>\n      <td>0.000000</td>\n      <td>0.092173</td>\n      <td>0.092480</td>\n      <td>0.000000</td>\n      <td>0.0000</td>\n      <td>0.074013</td>\n      <td>0.185126</td>\n      <td>0.050559</td>\n      <td>0.0</td>\n      <td>0.275988</td>\n      <td>0.000000</td>\n      <td>0.187723</td>\n      <td>0.103154</td>\n      <td>0.094179</td>\n      <td>0.000000</td>\n      <td>0.051621</td>\n      <td>0.0</td>\n      <td>0.092102</td>\n      <td>0.000000</td>\n      <td>0.000000</td>\n      <td>0.000000</td>\n      <td>0.175248</td>\n      <td>0.0</td>\n      <td>0.0</td>\n      <td>0.241653</td>\n      <td>0.000000</td>\n      <td>0.000000</td>\n      <td>0.071074</td>\n      <td>0.190535</td>\n      <td>0.089271</td>\n      <td>0.000000</td>\n      <td>0.199725</td>\n      <td>0.056025</td>\n      <td>0.133874</td>\n      <td>0.000000</td>\n      <td>0.143845</td>\n      <td>0.050517</td>\n      <td>0.066254</td>\n      <td>0.0</td>\n      <td>0.113144</td>\n      <td>0.145223</td>\n      <td>0.047872</td>\n      <td>0.099835</td>\n      <td>0.050399</td>\n      <td>0.000000</td>\n      <td>0.137118</td>\n      <td>0.143580</td>\n      <td>0.000000</td>\n      <td>0.000000</td>\n      <td>0.000000</td>\n      <td>0.0000</td>\n      <td>0.073861</td>\n      <td>0.0</td>\n      <td>0.000000</td>\n      <td>0.109863</td>\n      <td>0.106002</td>\n      <td>0.000000</td>\n      <td>0.101525</td>\n      <td>0.000000</td>\n      <td>0.082826</td>\n      <td>0.000000</td>\n      <td>0.000000</td>\n      <td>0.055667</td>\n      <td>0.000000</td>\n      <td>0.000000</td>\n      <td>0.000000</td>\n      <td>0.000000</td>\n      <td>0.352356</td>\n      <td>0.151384</td>\n      <td>0.000000</td>\n      <td>0.178923</td>\n      <td>0.051869</td>\n      <td>0.000000</td>\n      <td>0.000000</td>\n      <td>0.138970</td>\n      <td>0.067765</td>\n      <td>0.000000</td>\n      <td>0.000000</td>\n      <td>0.047986</td>\n      <td>0.096533</td>\n      <td>0.208835</td>\n      <td>0.053598</td>\n      <td>0.106002</td>\n      <td>0.169218</td>\n      <td>0.104895</td>\n      <td>0.0</td>\n      <td>0.0</td>\n      <td>0.0</td>\n      <td>0.0</td>\n      <td>0.0</td>\n      <td>0.0</td>\n      <td>0.0</td>\n      <td>0.0</td>\n      <td>0.0</td>\n      <td>0.0</td>\n      <td>0.0</td>\n      <td>0.0</td>\n      <td>0.0</td>\n      <td>0.0</td>\n      <td>0.0</td>\n      <td>0.0</td>\n      <td>0.0</td>\n      <td>0.0</td>\n      <td>0.0</td>\n      <td>0.0</td>\n      <td>0.0</td>\n      <td>0.0</td>\n      <td>0.0</td>\n      <td>0.0</td>\n      <td>0.0</td>\n      <td>0.0</td>\n      <td>0.0</td>\n      <td>0.0</td>\n      <td>0.0</td>\n      <td>0.0</td>\n      <td>0.0</td>\n      <td>0.0</td>\n      <td>0.0</td>\n      <td>0.0</td>\n      <td>0.0</td>\n      <td>0.0</td>\n      <td>0.0</td>\n      <td>0.0</td>\n      <td>0.0</td>\n      <td>0.0</td>\n      <td>0.0</td>\n      <td>0.0</td>\n      <td>0.0</td>\n      <td>0.0</td>\n      <td>0.0</td>\n      <td>0.0</td>\n      <td>0.0</td>\n      <td>0.0</td>\n      <td>0.0</td>\n      <td>0.0</td>\n      <td>0.0</td>\n      <td>0.0</td>\n      <td>0.0</td>\n      <td>0.0</td>\n      <td>0.0</td>\n      <td>0.0</td>\n      <td>0.0</td>\n      <td>0.0</td>\n      <td>0.0</td>\n      <td>0.0</td>\n      <td>0.0</td>\n      <td>0.0</td>\n      <td>0.0</td>\n      <td>0.0</td>\n      <td>0.0</td>\n      <td>0.0</td>\n      <td>0.0</td>\n      <td>0.0</td>\n      <td>0.0</td>\n      <td>0.0</td>\n      <td>0.0</td>\n      <td>0.0</td>\n      <td>0.0</td>\n      <td>0.0</td>\n      <td>0.0</td>\n      <td>0.0</td>\n      <td>0.0</td>\n      <td>0.0</td>\n      <td>0.000000</td>\n      <td>0.0</td>\n      <td>0.0</td>\n      <td>0.0</td>\n      <td>0.0</td>\n      <td>0.0</td>\n      <td>0.0</td>\n      <td>0.0</td>\n      <td>0.000000</td>\n      <td>0.0</td>\n      <td>0.0</td>\n      <td>0.0</td>\n      <td>0.0</td>\n      <td>0.0</td>\n      <td>0.0</td>\n      <td>0.0</td>\n      <td>0.0</td>\n      <td>0.0</td>\n      <td>0.0</td>\n      <td>0.0</td>\n      <td>0.0</td>\n      <td>0.0</td>\n    </tr>\n  </tbody>\n</table>\n</div>"
     },
     "metadata": {},
     "execution_count": 6
    }
   ],
   "source": [
    "X_train.head()\n"
   ]
  },
  {
   "source": [
    "## Mixed NB Approach 1 \n",
    "train a gaussian NB model on all features"
   ],
   "cell_type": "markdown",
   "metadata": {}
  },
  {
   "cell_type": "code",
   "execution_count": 7,
   "metadata": {},
   "outputs": [],
   "source": [
    "model_G = GaussianNB()\n",
    "clf_G = model_G.fit(X_train, y_train)\n",
    "y_pred = model_G.predict(X_test)"
   ]
  },
  {
   "cell_type": "code",
   "execution_count": 46,
   "metadata": {},
   "outputs": [
    {
     "output_type": "stream",
     "name": "stdout",
     "text": [
      "              precision    recall  f1-score   support\n\n           0       0.75      0.43      0.55      2343\n           1       0.47      0.97      0.63      2701\n           2       0.14      0.36      0.20       300\n           3       0.82      0.06      0.12      3706\n           4       0.18      0.62      0.28       316\n           5       0.22      0.99      0.36        79\n\n    accuracy                           0.45      9445\n   macro avg       0.43      0.57      0.36      9445\nweighted avg       0.65      0.45      0.38      9445\n\n"
     ]
    }
   ],
   "source": [
    "# train classification report\n",
    "y_train_pred = model_G.predict(X_train)\n",
    "print(classification_report(y_train, y_train_pred))"
   ]
  },
  {
   "cell_type": "code",
   "execution_count": 47,
   "metadata": {},
   "outputs": [
    {
     "output_type": "stream",
     "name": "stdout",
     "text": [
      "              precision    recall  f1-score   support\n\n           0       0.71      0.38      0.50       413\n           1       0.46      0.97      0.62       463\n           2       0.16      0.41      0.23        59\n           3       0.76      0.06      0.10       663\n           4       0.16      0.65      0.26        51\n           5       0.26      1.00      0.41        18\n\n    accuracy                           0.43      1667\n   macro avg       0.42      0.58      0.36      1667\nweighted avg       0.62      0.43      0.36      1667\n\n"
     ]
    }
   ],
   "source": [
    "# test classification report\n",
    "print(classification_report(y_test, y_pred))"
   ]
  },
  {
   "source": [
    "## Mixed NB Approach 2\n",
    "train three separate models using continuous, binary and categorical variables and then train the final model based on predictions from the first three models"
   ],
   "cell_type": "markdown",
   "metadata": {}
  },
  {
   "cell_type": "code",
   "execution_count": 11,
   "metadata": {},
   "outputs": [],
   "source": [
    "binary_cols = ['default_profile', 'default_profile_image', 'geo_enabled', 'default_profile_image', 'profile_use_background_image',                          'profile_background_tile', 'has_url']\n",
    "continuous_cols = ['statuses_count', 'followers_count', 'friends_count', 'favourites_count', 'listed_count', 'tweet_frequency',    \n",
    "                    'number_of_tags', 'number_of_mentions', 'tweet_weekend_frequency', 'tweet_weekday_frequency',               \n",
    "                    'following_to_followers_ratio', 'username_length', 'screen_name_length', 'username_spec_char_count', \n",
    "                    'screen_name_spec_char_count']\t\t\t\t\t\t\t\t\t\t\t\t"
   ]
  },
  {
   "cell_type": "code",
   "execution_count": 12,
   "metadata": {},
   "outputs": [],
   "source": [
    "train_binary = X_train[binary_cols]\n",
    "train_continuous = X_train[continuous_cols]\n",
    "train_text = X_train.drop(binary_cols+continuous_cols, axis=1) "
   ]
  },
  {
   "cell_type": "code",
   "execution_count": 13,
   "metadata": {},
   "outputs": [],
   "source": [
    "test_binary = X_test[binary_cols]\n",
    "test_continuous = X_test[continuous_cols]\n",
    "test_text = X_test.drop(binary_cols+continuous_cols, axis=1) "
   ]
  },
  {
   "cell_type": "code",
   "execution_count": 14,
   "metadata": {},
   "outputs": [],
   "source": [
    "# ----- Fit three models -----\n",
    "\n",
    "model_G = GaussianNB()\n",
    "clf_G = model_G.fit(train_continuous, y_train)\n",
    "\n",
    "model_M = MultinomialNB()\n",
    "clf_M = model_M.fit(train_text, y_train)\n",
    "\n",
    "model_B = BernoulliNB()\n",
    "clf_B = model_B.fit(train_binary, y_train)\n",
    "\n",
    "# ----- Get probability predictions from each model -----\n",
    "# On training data\n",
    "G_train_probas = model_G.predict_proba(train_continuous)\n",
    "M_train_probas = model_M.predict_proba(train_text)\n",
    "B_train_probas = model_B.predict_proba(train_binary)\n",
    "\n",
    "# And on testing data\n",
    "G_test_probas = model_G.predict_proba(test_continuous)\n",
    "M_test_probas = model_M.predict_proba(test_text)\n",
    "B_test_probas = model_B.predict_proba(test_binary)\n",
    "\n",
    "# Combine probability prediction for class=1 from both models\n",
    "X_new_train = np.c_[(G_train_probas[:,1], M_train_probas[:,1], B_train_probas[:,1])] # Train\n",
    "X_new_test = np.c_[(G_test_probas[:,1], M_test_probas[:,1], B_test_probas[:,1])] # Test\n",
    "\n",
    "\n",
    "# ----- Fit Gaussian model on the X_new -----\n",
    "model = GaussianNB()\n",
    "clf = model.fit(X_new_train, y_train)\n",
    "y_pred = model.predict(X_new_test)"
   ]
  },
  {
   "cell_type": "code",
   "execution_count": 52,
   "metadata": {},
   "outputs": [
    {
     "output_type": "stream",
     "name": "stdout",
     "text": [
      "              precision    recall  f1-score   support\n\n           0       0.76      0.30      0.43      2343\n           1       0.98      0.91      0.95      2701\n           2       0.33      0.30      0.31       300\n           3       0.76      0.63      0.69      3706\n           4       0.26      0.98      0.42       316\n           5       0.05      0.96      0.10        79\n\n    accuracy                           0.63      9445\n   macro avg       0.52      0.68      0.48      9445\nweighted avg       0.79      0.63      0.67      9445\n\n"
     ]
    }
   ],
   "source": [
    "# train classification report\n",
    "y_train_pred = model.predict(X_new_train)\n",
    "print(classification_report(y_train, y_train_pred))"
   ]
  },
  {
   "cell_type": "code",
   "execution_count": 53,
   "metadata": {},
   "outputs": [
    {
     "output_type": "stream",
     "name": "stdout",
     "text": [
      "              precision    recall  f1-score   support\n\n           0       0.73      0.30      0.43       413\n           1       0.98      0.89      0.93       463\n           2       0.30      0.29      0.29        59\n           3       0.76      0.62      0.68       663\n           4       0.24      0.94      0.38        51\n           5       0.06      0.94      0.12        18\n\n    accuracy                           0.62      1667\n   macro avg       0.51      0.66      0.47      1667\nweighted avg       0.77      0.62      0.66      1667\n\n"
     ]
    }
   ],
   "source": [
    "# test classification report\n",
    "print(classification_report(y_test, y_pred))"
   ]
  },
  {
   "source": [
    "## Hyperparameter Tuning"
   ],
   "cell_type": "markdown",
   "metadata": {}
  },
  {
   "cell_type": "code",
   "execution_count": 10,
   "metadata": {},
   "outputs": [],
   "source": [
    "param_grid = {\n",
    "    'var_smoothing': np.logspace(0,-9, num=100)\n",
    "}\n",
    "cv_method = RepeatedStratifiedKFold(n_splits=5, \n",
    "                                    n_repeats=3, \n",
    "                                    random_state=999)"
   ]
  },
  {
   "source": [
    "For approach 1:"
   ],
   "cell_type": "markdown",
   "metadata": {}
  },
  {
   "cell_type": "code",
   "execution_count": 15,
   "metadata": {},
   "outputs": [
    {
     "output_type": "stream",
     "name": "stdout",
     "text": [
      "Fitting 15 folds for each of 10 candidates, totalling 150 fits\n",
      "--------------------------------------------------------\n",
      "Best Estimator:  GaussianNB(var_smoothing=6.579332246575682e-07)\n"
     ]
    }
   ],
   "source": [
    "model_grid1 = RandomizedSearchCV(estimator = GaussianNB(), \n",
    "                            param_distributions = param_grid, \n",
    "                            verbose = 1, \n",
    "                            cv = cv_method,\n",
    "                            scoring = 'f1_weighted')\n",
    "model_grid1.fit(X_train, y_train)\n",
    "print('--------------------------------------------------------')\n",
    "print('Best Estimator: ', model_grid1.best_estimator_)"
   ]
  },
  {
   "cell_type": "code",
   "execution_count": 16,
   "metadata": {},
   "outputs": [
    {
     "output_type": "stream",
     "name": "stdout",
     "text": [
      "              precision    recall  f1-score   support\n\n           0       0.93      0.44      0.60      2343\n           1       0.78      0.94      0.85      2701\n           2       0.04      0.07      0.05       300\n           3       0.67      0.10      0.18      3706\n           4       0.15      0.56      0.24       316\n           5       0.03      0.99      0.06        79\n\n    accuracy                           0.45      9445\n   macro avg       0.43      0.52      0.33      9445\nweighted avg       0.72      0.45      0.47      9445\n\n"
     ]
    }
   ],
   "source": [
    "# train classification report\n",
    "y_train_pred = model_grid1.predict(X_train)\n",
    "print(classification_report(y_train, y_train_pred))"
   ]
  },
  {
   "cell_type": "code",
   "execution_count": 17,
   "metadata": {},
   "outputs": [
    {
     "output_type": "stream",
     "name": "stdout",
     "text": [
      "              precision    recall  f1-score   support\n\n           0       0.90      0.40      0.56       413\n           1       0.79      0.95      0.86       463\n           2       0.05      0.10      0.07        59\n           3       0.62      0.10      0.17       663\n           4       0.13      0.57      0.21        51\n           5       0.04      1.00      0.07        18\n\n    accuracy                           0.43      1667\n   macro avg       0.42      0.52      0.32      1667\nweighted avg       0.70      0.43      0.46      1667\n\n"
     ]
    }
   ],
   "source": [
    "# test classification report\n",
    "y_pred = model_grid1.predict(X_test)\n",
    "print(classification_report(y_test, y_pred))"
   ]
  },
  {
   "source": [
    "For approach 2:"
   ],
   "cell_type": "markdown",
   "metadata": {}
  },
  {
   "cell_type": "code",
   "execution_count": 18,
   "metadata": {},
   "outputs": [
    {
     "output_type": "stream",
     "name": "stdout",
     "text": [
      "Fitting 15 folds for each of 10 candidates, totalling 150 fits\n",
      "--------------------------------------------------------\n",
      "Best Estimator:  GaussianNB(var_smoothing=0.04328761281083057)\n"
     ]
    }
   ],
   "source": [
    "model_grid2 = RandomizedSearchCV(estimator = GaussianNB(), \n",
    "                            param_distributions = param_grid, \n",
    "                            verbose = 1, \n",
    "                            cv = cv_method,\n",
    "                            scoring = 'f1_weighted')\n",
    "model_grid2.fit(X_new_train, y_train)\n",
    "print('--------------------------------------------------------')\n",
    "print('Best Estimator: ', model_grid2.best_estimator_)"
   ]
  },
  {
   "cell_type": "code",
   "execution_count": 19,
   "metadata": {},
   "outputs": [
    {
     "output_type": "stream",
     "name": "stdout",
     "text": [
      "              precision    recall  f1-score   support\n\n           0       0.80      0.42      0.55      2343\n           1       0.96      0.91      0.93      2701\n           2       0.42      0.29      0.34       300\n           3       0.68      0.94      0.79      3706\n           4       0.33      0.30      0.32       316\n           5       0.00      0.00      0.00        79\n\n    accuracy                           0.75      9445\n   macro avg       0.53      0.48      0.49      9445\nweighted avg       0.76      0.75      0.74      9445\n\n"
     ]
    }
   ],
   "source": [
    "# train classification report\n",
    "y_train_pred = model_grid2.predict(X_new_train)\n",
    "print(classification_report(y_train, y_train_pred))"
   ]
  },
  {
   "cell_type": "code",
   "execution_count": 20,
   "metadata": {},
   "outputs": [
    {
     "output_type": "stream",
     "name": "stdout",
     "text": [
      "              precision    recall  f1-score   support\n\n           0       0.79      0.43      0.55       413\n           1       0.95      0.89      0.92       463\n           2       0.38      0.27      0.32        59\n           3       0.68      0.93      0.79       663\n           4       0.37      0.49      0.42        51\n           5       0.00      0.00      0.00        18\n\n    accuracy                           0.75      1667\n   macro avg       0.53      0.50      0.50      1667\nweighted avg       0.76      0.75      0.73      1667\n\n"
     ]
    }
   ],
   "source": [
    "# test classification report\n",
    "y_pred = model_grid2.predict(X_new_test)\n",
    "print(classification_report(y_test, y_pred))"
   ]
  },
  {
   "source": [
    "## Best NB Model\n",
    "Approach 2 has a higher recall score than approach 1."
   ],
   "cell_type": "markdown",
   "metadata": {}
  },
  {
   "source": [
    "## Run time"
   ],
   "cell_type": "markdown",
   "metadata": {}
  },
  {
   "cell_type": "code",
   "execution_count": 34,
   "metadata": {},
   "outputs": [
    {
     "output_type": "stream",
     "name": "stdout",
     "text": [
      "Run time:  0.11637187004089355\n"
     ]
    }
   ],
   "source": [
    "start_time = time()\n",
    "model_time = GaussianNB(var_smoothing=0.04328761281083057)\n",
    "clf_best = model_time.fit(X_new_train, y_train)\n",
    "y_pred = model_time.predict(X_new_test)\n",
    "run_time = time() - start_time\n",
    "print(\"Run time: \", run_time)"
   ]
  },
  {
   "source": [
    "## Feature importance"
   ],
   "cell_type": "markdown",
   "metadata": {}
  },
  {
   "cell_type": "code",
   "execution_count": 35,
   "metadata": {},
   "outputs": [],
   "source": [
    "imps = permutation_importance(model_time, X_test, y_test)"
   ]
  },
  {
   "cell_type": "code",
   "execution_count": 36,
   "metadata": {},
   "outputs": [
    {
     "output_type": "stream",
     "name": "stdout",
     "text": [
      "Index(['statuses_count', 'favourites_count', 'friends_count', 'tweets_49',\n       'tweets_60', 'tweets_59', 'tweets_58', 'tweets_57', 'tweets_56',\n       'tweets_55', 'tweets_54', 'tweets_53', 'tweets_52', 'tweets_51',\n       'tweets_50', 'tweets_48', 'tweets_62', 'tweets_47', 'tweets_46',\n       'tweets_45'],\n      dtype='object')\n"
     ]
    }
   ],
   "source": [
    "imps_sorted = imps.importances_mean.argsort()[::-1]\n",
    "\n",
    "print(np.take(X_train.columns, imps_sorted[: 20]))"
   ]
  },
  {
   "cell_type": "code",
   "execution_count": null,
   "metadata": {},
   "outputs": [],
   "source": []
  }
 ]
}