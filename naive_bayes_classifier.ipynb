{
 "metadata": {
  "language_info": {
   "codemirror_mode": {
    "name": "ipython",
    "version": 3
   },
   "file_extension": ".py",
   "mimetype": "text/x-python",
   "name": "python",
   "nbconvert_exporter": "python",
   "pygments_lexer": "ipython3",
   "version": "3.8.5-final"
  },
  "orig_nbformat": 2,
  "kernelspec": {
   "name": "python3",
   "display_name": "Python 3.8.5 64-bit ('base': conda)",
   "metadata": {
    "interpreter": {
     "hash": "0b5e695f973a7cdd4fc74ba2ed65a7a37ab2a96a506d329d22c7ff6a81e833be"
    }
   }
  }
 },
 "nbformat": 4,
 "nbformat_minor": 2,
 "cells": [
  {
   "cell_type": "code",
   "execution_count": 1,
   "metadata": {},
   "outputs": [],
   "source": [
    "import pandas as pd \n",
    "import numpy as np \n",
    "import glob\n",
    "import matplotlib.pyplot as plt\n",
    "from time import time\n",
    "\n",
    "from sklearn.inspection import permutation_importance\n",
    "from sklearn.metrics import classification_report, confusion_matrix, roc_auc_score, roc_curve, recall_score\n",
    "from sklearn.model_selection import RandomizedSearchCV, RepeatedStratifiedKFold\n",
    "\n",
    "# Differnt types of Naive Bayes Classifiers\n",
    "from sklearn.naive_bayes import GaussianNB, MultinomialNB, BernoulliNB\n",
    "\n",
    "pd.set_option('display.max_columns', None)"
   ]
  },
  {
   "cell_type": "code",
   "execution_count": 13,
   "metadata": {},
   "outputs": [],
   "source": [
    "df = pd.read_csv('../twitter_data_train_multiclass.csv')\n",
    "test = pd.read_csv('../twitter_data_test_multiclass.csv')"
   ]
  },
  {
   "cell_type": "code",
   "execution_count": 14,
   "metadata": {},
   "outputs": [
    {
     "output_type": "execute_result",
     "data": {
      "text/plain": [
       "          tweets_list  tweet_frequency  \\\n",
       "0  ['#ballarÃ\\x83Â² quindi #monti non Ã\\x83Â¨ sta...         1.491525   \n",
       "1  ['Homework is killing me tweeties but Im just ...         2.111111   \n",
       "2  ['onlineonline', 'just got back from the gym',...         2.200000   \n",
       "3  ['When this song come on im spending money!', ...         4.550000   \n",
       "4  ['@Thisislepht \"You have to believe in yoursel...         4.222222   \n",
       "\n",
       "   number_of_tags  number_of_mentions  tweet_weekend_frequency  \\\n",
       "0            40.0                38.0                 1.142857   \n",
       "1            12.0                 0.0                 2.285714   \n",
       "2             2.0                 0.0                 2.000000   \n",
       "3             8.0                29.0                 4.800000   \n",
       "4            13.0                31.0                 5.000000   \n",
       "\n",
       "   tweet_weekday_frequency  following_to_followers_ratio  username_length  \\\n",
       "0                 1.600000                      2.052632               13   \n",
       "1                 2.000000                     27.428571               15   \n",
       "2                 2.250000                     21.909091               11   \n",
       "3                 4.466667                      6.833333               13   \n",
       "4                 3.727273                      9.000000               13   \n",
       "\n",
       "   screen_name_length  username_spec_char_count  screen_name_spec_char_count  \\\n",
       "0                  11                         2                            0   \n",
       "1                  15                         1                            0   \n",
       "2                  13                         1                            0   \n",
       "3                  12                         1                            0   \n",
       "4                  12                         1                            0   \n",
       "\n",
       "   has_url                              tweets_list_processed  \\\n",
       "0        0  ballarx83 quindi monti non x83 stato un buon t...   \n",
       "1        0  Homework is killing me tweeties but Im just st...   \n",
       "2        0  onlineonline just got back from the gym Cant w...   \n",
       "3        0  When this song come on im spending money 6went...   \n",
       "4        0  Thisislepht You have to believe in yourself  S...   \n",
       "\n",
       "                               description_processed  tweets_0  tweets_1  \\\n",
       "0                                                NaN  0.091977  0.034554   \n",
       "1  Spirit Led Conservative news blogger TeamJesus...  0.000000  0.000000   \n",
       "2                                                NaN  0.000000  0.000000   \n",
       "3                                                NaN  0.000000  0.051097   \n",
       "4                                                NaN  0.000000  0.135142   \n",
       "\n",
       "   tweets_2  tweets_3  tweets_4  tweets_5  tweets_6  tweets_7  tweets_8  \\\n",
       "0  0.000000  0.059238  0.000000  0.000000  0.000000  0.056452  0.048987   \n",
       "1  0.000000  0.000000  0.213376  0.000000  0.000000  0.000000  0.000000   \n",
       "2  0.000000  0.000000  0.326747  0.000000  0.326068  0.000000  0.000000   \n",
       "3  0.099407  0.087598  0.000000  0.192483  0.049504  0.083478  0.000000   \n",
       "4  0.000000  0.000000  0.065601  0.254544  0.000000  0.000000  0.000000   \n",
       "\n",
       "   tweets_9  tweets_10  tweets_11  tweets_12  tweets_13  tweets_14  tweets_15  \\\n",
       "0  0.058207    0.11607   0.125471        0.0   0.000000   0.151018   0.000000   \n",
       "1  0.000000    0.00000   0.000000        0.0   0.000000   0.000000   0.000000   \n",
       "2  0.000000    0.00000   0.152764        0.0   0.000000   0.367734   0.000000   \n",
       "3  0.000000    0.00000   0.092771        0.0   0.157222   0.000000   0.044817   \n",
       "4  0.000000    0.00000   0.000000        0.0   0.138609   0.000000   0.118533   \n",
       "\n",
       "   tweets_16  tweets_17  tweets_18  tweets_19  tweets_20  tweets_21  \\\n",
       "0   0.000000   0.058498    0.15312   0.118353   0.439767   0.000000   \n",
       "1   0.193488   0.000000    0.00000   0.000000   0.000000   0.000000   \n",
       "2   0.296292   0.000000    0.00000   0.000000   0.000000   0.000000   \n",
       "3   0.000000   0.000000    0.00000   0.000000   0.000000   0.180025   \n",
       "4   0.118974   0.000000    0.00000   0.000000   0.000000   0.119035   \n",
       "\n",
       "   tweets_22  tweets_23  tweets_24  tweets_25  tweets_26  tweets_27  \\\n",
       "0   0.200249        0.0   0.000000   0.178702   0.030877   0.000000   \n",
       "1   0.212284        0.0   0.000000   0.000000   0.000000   0.000000   \n",
       "2   0.325076        0.0   0.000000   0.000000   0.000000   0.165395   \n",
       "3   0.000000        0.0   0.134194   0.000000   0.273960   0.150662   \n",
       "4   0.000000        0.0   0.118307   0.000000   0.241527   0.132826   \n",
       "\n",
       "   tweets_28  tweets_29  tweets_30  tweets_31  tweets_32  tweets_33  \\\n",
       "0   0.000000   0.000000   0.000000        0.0   0.030396        0.0   \n",
       "1   0.000000   0.213317   0.000000        0.0   0.000000        0.0   \n",
       "2   0.151137   0.163328   0.165001        0.0   0.000000        0.0   \n",
       "3   0.183566   0.148780   0.000000        0.0   0.134846        0.0   \n",
       "4   0.121376   0.000000   0.000000        0.0   0.000000        0.0   \n",
       "\n",
       "   tweets_34  tweets_35  tweets_36  tweets_37  tweets_38  tweets_39  \\\n",
       "0        0.0   0.386811   0.028850        0.0   0.111074   0.000000   \n",
       "1        0.0   0.000000   0.183501        0.0   0.000000   0.000000   \n",
       "2        0.0   0.000000   0.000000        0.0   0.000000   0.155325   \n",
       "3        0.0   0.081714   0.255969        0.0   0.000000   0.047163   \n",
       "4        0.0   0.000000   0.338499        0.0   0.000000   0.062370   \n",
       "\n",
       "   tweets_40  tweets_41  tweets_42  tweets_43  tweets_44  tweets_45  \\\n",
       "0   0.069019   0.071754   0.000000   0.000000   0.000000        0.0   \n",
       "1   0.658502   0.000000   0.000000   0.199179   0.187112        0.0   \n",
       "2   0.000000   0.000000   0.000000   0.000000   0.000000        0.0   \n",
       "3   0.000000   0.159160   0.000000   0.185226   0.130503        0.0   \n",
       "4   0.000000   0.000000   0.091928   0.367420   0.115053        0.0   \n",
       "\n",
       "   tweets_46  tweets_47  tweets_48  tweets_49  tweets_50  tweets_51  \\\n",
       "0   0.000000   0.000000   0.000000        0.0   0.031558   0.000000   \n",
       "1   0.000000   0.000000   0.187065        0.0   0.000000   0.000000   \n",
       "2   0.000000   0.000000   0.000000        0.0   0.000000   0.000000   \n",
       "3   0.146159   0.054831   0.130471        0.0   0.186667   0.196652   \n",
       "4   0.193284   0.072510   0.172537        0.0   0.123426   0.000000   \n",
       "\n",
       "   tweets_52  tweets_53  tweets_54  tweets_55  tweets_56  tweets_57  \\\n",
       "0   0.000000   0.000000        0.0   0.000000   0.063091   0.000000   \n",
       "1   0.000000   0.000000        0.0   0.000000   0.000000   0.000000   \n",
       "2   0.000000   0.000000        0.0   0.155387   0.000000   0.319592   \n",
       "3   0.064543   0.132027        0.0   0.000000   0.093296   0.097041   \n",
       "4   0.000000   0.000000        0.0   0.062394   0.185066   0.256659   \n",
       "\n",
       "   tweets_58  tweets_59  tweets_60  tweets_61  tweets_62  tweets_63  \\\n",
       "0   0.000000   0.161387   0.059978   0.000000   0.294536        0.0   \n",
       "1   0.000000   0.000000   0.190748   0.000000   0.000000        0.0   \n",
       "2   0.000000   0.000000   0.146048   0.000000   0.000000        0.0   \n",
       "3   0.049041   0.000000   0.088693   0.093235   0.000000        0.0   \n",
       "4   0.000000   0.000000   0.000000   0.123296   0.000000        0.0   \n",
       "\n",
       "   tweets_64  tweets_65  tweets_66  tweets_67  tweets_68  tweets_69  \\\n",
       "0        0.0        0.0        0.0        0.0   0.000000   0.000000   \n",
       "1        0.0        0.0        0.0        0.0   0.000000   0.000000   \n",
       "2        0.0        0.0        0.0        0.0   0.000000   0.000000   \n",
       "3        0.0        0.0        0.0        0.0   0.052269   0.160015   \n",
       "4        0.0        0.0        0.0        0.0   0.069122   0.070536   \n",
       "\n",
       "   tweets_70  tweets_71  tweets_72  tweets_73  tweets_74  tweets_75  \\\n",
       "0   0.000000   0.083316   0.000000        0.0   0.000000   0.136500   \n",
       "1   0.222132   0.000000   0.212284        0.0   0.000000   0.289408   \n",
       "2   0.170078   0.000000   0.162538        0.0   0.000000   0.000000   \n",
       "3   0.051643   0.000000   0.246766        0.0   0.080587   0.000000   \n",
       "4   0.000000   0.000000   0.130532        0.0   0.106569   0.000000   \n",
       "\n",
       "   tweets_76  tweets_77  tweets_78  tweets_79  tweets_80  tweets_81  \\\n",
       "0        0.0   0.000000   0.114215   0.374189   0.000000        0.0   \n",
       "1        0.0   0.000000   0.000000   0.000000   0.000000        0.0   \n",
       "2        0.0   0.000000   0.000000   0.000000   0.000000        0.0   \n",
       "3        0.0   0.000000   0.000000   0.000000   0.203775        0.0   \n",
       "4        0.0   0.071715   0.000000   0.000000   0.134738        0.0   \n",
       "\n",
       "   tweets_82  tweets_83  tweets_84  tweets_85  tweets_86  tweets_87  \\\n",
       "0   0.000000   0.000000        0.0   0.029388   0.000000   0.177164   \n",
       "1   0.000000   0.000000        0.0   0.186925   0.000000   0.000000   \n",
       "2   0.161666   0.161688        0.0   0.143121   0.000000   0.000000   \n",
       "3   0.294531   0.049095        0.0   0.086915   0.202677   0.000000   \n",
       "4   0.129831   0.000000        0.0   0.114938   0.201018   0.000000   \n",
       "\n",
       "   tweets_88  tweets_89  tweets_90  tweets_91  tweets_92  tweets_93  \\\n",
       "0   0.180592   0.000000   0.267742        0.0   0.091636   0.000000   \n",
       "1   0.000000   0.000000   0.000000        0.0   0.000000   0.000000   \n",
       "2   0.175899   0.000000   0.000000        0.0   0.000000   0.000000   \n",
       "3   0.053410   0.135054   0.065987        0.0   0.000000   0.046821   \n",
       "4   0.000000   0.059533   0.000000        0.0   0.000000   0.123833   \n",
       "\n",
       "   tweets_94  tweets_95  tweets_96  tweets_97  tweets_98  tweets_99  \\\n",
       "0   0.000000   0.000000   0.000000   0.000000   0.000000   0.000000   \n",
       "1   0.000000   0.000000   0.000000   0.000000   0.000000   0.000000   \n",
       "2   0.000000   0.000000   0.000000   0.000000   0.000000   0.000000   \n",
       "3   0.188003   0.000000   0.000000   0.000000   0.000000   0.102325   \n",
       "4   0.248619   0.067321   0.137761   0.068264   0.072532   0.135316   \n",
       "\n",
       "   description_0  description_1  description_2  description_3  description_4  \\\n",
       "0            0.0            0.0            0.0            0.0            0.0   \n",
       "1            0.0            0.0            0.0            0.0            0.0   \n",
       "2            0.0            0.0            0.0            0.0            0.0   \n",
       "3            0.0            0.0            0.0            0.0            0.0   \n",
       "4            0.0            0.0            0.0            0.0            0.0   \n",
       "\n",
       "   description_5  description_6  description_7  description_8  description_9  \\\n",
       "0            0.0            0.0            0.0            0.0            0.0   \n",
       "1            0.0            0.0            0.0            0.0            0.0   \n",
       "2            0.0            0.0            0.0            0.0            0.0   \n",
       "3            0.0            0.0            0.0            0.0            0.0   \n",
       "4            0.0            0.0            0.0            0.0            0.0   \n",
       "\n",
       "   description_10  description_11  description_12  description_13  \\\n",
       "0             0.0             0.0             0.0             0.0   \n",
       "1             0.0             0.0             0.0             0.0   \n",
       "2             0.0             0.0             0.0             0.0   \n",
       "3             0.0             0.0             0.0             0.0   \n",
       "4             0.0             0.0             0.0             0.0   \n",
       "\n",
       "   description_14  description_15  description_16  description_17  \\\n",
       "0             0.0             0.0             0.0             0.0   \n",
       "1             0.0             0.0             0.0             0.0   \n",
       "2             0.0             0.0             0.0             0.0   \n",
       "3             0.0             0.0             0.0             0.0   \n",
       "4             0.0             0.0             0.0             0.0   \n",
       "\n",
       "   description_18  description_19  description_20  description_21  \\\n",
       "0             0.0             0.0             0.0             0.0   \n",
       "1             0.0             0.0             0.0             0.0   \n",
       "2             0.0             0.0             0.0             0.0   \n",
       "3             0.0             0.0             0.0             0.0   \n",
       "4             0.0             0.0             0.0             0.0   \n",
       "\n",
       "   description_22  description_23  description_24  description_25  \\\n",
       "0             0.0             0.0             0.0             0.0   \n",
       "1             0.0             0.0             0.0             0.0   \n",
       "2             0.0             0.0             0.0             0.0   \n",
       "3             0.0             0.0             0.0             0.0   \n",
       "4             0.0             0.0             0.0             0.0   \n",
       "\n",
       "   description_26  description_27  description_28  description_29  \\\n",
       "0             0.0             0.0             0.0             0.0   \n",
       "1             0.0             0.0             0.0             0.0   \n",
       "2             0.0             0.0             0.0             0.0   \n",
       "3             0.0             0.0             0.0             0.0   \n",
       "4             0.0             0.0             0.0             0.0   \n",
       "\n",
       "   description_30  description_31  description_32  description_33  \\\n",
       "0             0.0             0.0             0.0             0.0   \n",
       "1             0.0             0.0             0.0             0.0   \n",
       "2             0.0             0.0             0.0             0.0   \n",
       "3             0.0             0.0             0.0             0.0   \n",
       "4             0.0             0.0             0.0             0.0   \n",
       "\n",
       "   description_34  description_35  description_36  description_37  \\\n",
       "0             0.0             0.0             0.0             0.0   \n",
       "1             0.0             0.0             0.0             0.0   \n",
       "2             0.0             0.0             0.0             0.0   \n",
       "3             0.0             0.0             0.0             0.0   \n",
       "4             0.0             0.0             0.0             0.0   \n",
       "\n",
       "   description_38  description_39  description_40  description_41  \\\n",
       "0             0.0             0.0             0.0             0.0   \n",
       "1             0.0             0.0             0.0             0.0   \n",
       "2             0.0             0.0             0.0             0.0   \n",
       "3             0.0             0.0             0.0             0.0   \n",
       "4             0.0             0.0             0.0             0.0   \n",
       "\n",
       "   description_42  description_43  description_44  description_45  \\\n",
       "0             0.0             0.0             0.0             0.0   \n",
       "1             0.0             0.0             0.0             0.0   \n",
       "2             0.0             0.0             0.0             0.0   \n",
       "3             0.0             0.0             0.0             0.0   \n",
       "4             0.0             0.0             0.0             0.0   \n",
       "\n",
       "   description_46  description_47  description_48  description_49  \\\n",
       "0             0.0             0.0             0.0             0.0   \n",
       "1             0.0             0.0             0.0             0.0   \n",
       "2             0.0             0.0             0.0             0.0   \n",
       "3             0.0             0.0             0.0             0.0   \n",
       "4             0.0             0.0             0.0             0.0   \n",
       "\n",
       "   description_50  description_51  description_52  description_53  \\\n",
       "0             0.0             0.0             0.0             0.0   \n",
       "1             0.0             0.0             0.0             0.0   \n",
       "2             0.0             0.0             0.0             0.0   \n",
       "3             0.0             0.0             0.0             0.0   \n",
       "4             0.0             0.0             0.0             0.0   \n",
       "\n",
       "   description_54  description_55  description_56  description_57  \\\n",
       "0             0.0             0.0             0.0             0.0   \n",
       "1             1.0             0.0             0.0             0.0   \n",
       "2             0.0             0.0             0.0             0.0   \n",
       "3             0.0             0.0             0.0             0.0   \n",
       "4             0.0             0.0             0.0             0.0   \n",
       "\n",
       "   description_58  description_59  description_60  description_61  \\\n",
       "0             0.0             0.0             0.0             0.0   \n",
       "1             0.0             0.0             0.0             0.0   \n",
       "2             0.0             0.0             0.0             0.0   \n",
       "3             0.0             0.0             0.0             0.0   \n",
       "4             0.0             0.0             0.0             0.0   \n",
       "\n",
       "   description_62  description_63  description_64  description_65  \\\n",
       "0             0.0             0.0             0.0             0.0   \n",
       "1             0.0             0.0             0.0             0.0   \n",
       "2             0.0             0.0             0.0             0.0   \n",
       "3             0.0             0.0             0.0             0.0   \n",
       "4             0.0             0.0             0.0             0.0   \n",
       "\n",
       "   description_66  description_67  description_68  description_69  \\\n",
       "0             0.0             0.0             0.0             0.0   \n",
       "1             0.0             0.0             0.0             0.0   \n",
       "2             0.0             0.0             0.0             0.0   \n",
       "3             0.0             0.0             0.0             0.0   \n",
       "4             0.0             0.0             0.0             0.0   \n",
       "\n",
       "   description_70  description_71  description_72  description_73  \\\n",
       "0             0.0             0.0             0.0             0.0   \n",
       "1             0.0             0.0             0.0             0.0   \n",
       "2             0.0             0.0             0.0             0.0   \n",
       "3             0.0             0.0             0.0             0.0   \n",
       "4             0.0             0.0             0.0             0.0   \n",
       "\n",
       "   description_74  description_75  description_76  description_77  \\\n",
       "0             0.0             0.0             0.0             0.0   \n",
       "1             0.0             0.0             0.0             0.0   \n",
       "2             0.0             0.0             0.0             0.0   \n",
       "3             0.0             0.0             0.0             0.0   \n",
       "4             0.0             0.0             0.0             0.0   \n",
       "\n",
       "   description_78  description_79  description_80  description_81  \\\n",
       "0             0.0             0.0             0.0             0.0   \n",
       "1             0.0             0.0             0.0             0.0   \n",
       "2             0.0             0.0             0.0             0.0   \n",
       "3             0.0             0.0             0.0             0.0   \n",
       "4             0.0             0.0             0.0             0.0   \n",
       "\n",
       "   description_82  description_83  description_84  description_85  \\\n",
       "0             0.0             0.0             0.0             0.0   \n",
       "1             0.0             0.0             0.0             0.0   \n",
       "2             0.0             0.0             0.0             0.0   \n",
       "3             0.0             0.0             0.0             0.0   \n",
       "4             0.0             0.0             0.0             0.0   \n",
       "\n",
       "   description_86  description_87  description_88  description_89  \\\n",
       "0             0.0             0.0             0.0             0.0   \n",
       "1             0.0             0.0             0.0             0.0   \n",
       "2             0.0             0.0             0.0             0.0   \n",
       "3             0.0             0.0             0.0             0.0   \n",
       "4             0.0             0.0             0.0             0.0   \n",
       "\n",
       "   description_90  description_91  description_92  description_93  \\\n",
       "0             0.0             0.0             0.0             0.0   \n",
       "1             0.0             0.0             0.0             0.0   \n",
       "2             0.0             0.0             0.0             0.0   \n",
       "3             0.0             0.0             0.0             0.0   \n",
       "4             0.0             0.0             0.0             0.0   \n",
       "\n",
       "   description_94  description_95  description_96  description_97  \\\n",
       "0             0.0             0.0             0.0             0.0   \n",
       "1             0.0             0.0             0.0             0.0   \n",
       "2             0.0             0.0             0.0             0.0   \n",
       "3             0.0             0.0             0.0             0.0   \n",
       "4             0.0             0.0             0.0             0.0   \n",
       "\n",
       "   description_98  description_99  has_face  account_type_multi  \n",
       "0             0.0             0.0         1                   0  \n",
       "1             0.0             0.0         1                   1  \n",
       "2             0.0             0.0         1                   1  \n",
       "3             0.0             0.0         1                   3  \n",
       "4             0.0             0.0         1                   3  "
      ],
      "text/html": "<div>\n<style scoped>\n    .dataframe tbody tr th:only-of-type {\n        vertical-align: middle;\n    }\n\n    .dataframe tbody tr th {\n        vertical-align: top;\n    }\n\n    .dataframe thead th {\n        text-align: right;\n    }\n</style>\n<table border=\"1\" class=\"dataframe\">\n  <thead>\n    <tr style=\"text-align: right;\">\n      <th></th>\n      <th>Unnamed: 0</th>\n      <th>id</th>\n      <th>name</th>\n      <th>screen_name</th>\n      <th>statuses_count</th>\n      <th>followers_count</th>\n      <th>friends_count</th>\n      <th>favourites_count</th>\n      <th>listed_count</th>\n      <th>url</th>\n      <th>default_profile</th>\n      <th>default_profile_image</th>\n      <th>geo_enabled</th>\n      <th>profile_image_url</th>\n      <th>profile_use_background_image</th>\n      <th>profile_background_tile</th>\n      <th>protected</th>\n      <th>verified</th>\n      <th>description</th>\n      <th>account_type</th>\n      <th>tweets_list</th>\n      <th>tweet_frequency</th>\n      <th>number_of_tags</th>\n      <th>number_of_mentions</th>\n      <th>tweet_weekend_frequency</th>\n      <th>tweet_weekday_frequency</th>\n      <th>following_to_followers_ratio</th>\n      <th>username_length</th>\n      <th>screen_name_length</th>\n      <th>username_spec_char_count</th>\n      <th>screen_name_spec_char_count</th>\n      <th>has_url</th>\n      <th>tweets_list_processed</th>\n      <th>description_processed</th>\n      <th>tweets_0</th>\n      <th>tweets_1</th>\n      <th>tweets_2</th>\n      <th>tweets_3</th>\n      <th>tweets_4</th>\n      <th>tweets_5</th>\n      <th>tweets_6</th>\n      <th>tweets_7</th>\n      <th>tweets_8</th>\n      <th>tweets_9</th>\n      <th>tweets_10</th>\n      <th>tweets_11</th>\n      <th>tweets_12</th>\n      <th>tweets_13</th>\n      <th>tweets_14</th>\n      <th>tweets_15</th>\n      <th>tweets_16</th>\n      <th>tweets_17</th>\n      <th>tweets_18</th>\n      <th>tweets_19</th>\n      <th>tweets_20</th>\n      <th>tweets_21</th>\n      <th>tweets_22</th>\n      <th>tweets_23</th>\n      <th>tweets_24</th>\n      <th>tweets_25</th>\n      <th>tweets_26</th>\n      <th>tweets_27</th>\n      <th>tweets_28</th>\n      <th>tweets_29</th>\n      <th>tweets_30</th>\n      <th>tweets_31</th>\n      <th>tweets_32</th>\n      <th>tweets_33</th>\n      <th>tweets_34</th>\n      <th>tweets_35</th>\n      <th>tweets_36</th>\n      <th>tweets_37</th>\n      <th>tweets_38</th>\n      <th>tweets_39</th>\n      <th>tweets_40</th>\n      <th>tweets_41</th>\n      <th>tweets_42</th>\n      <th>tweets_43</th>\n      <th>tweets_44</th>\n      <th>tweets_45</th>\n      <th>tweets_46</th>\n      <th>tweets_47</th>\n      <th>tweets_48</th>\n      <th>tweets_49</th>\n      <th>tweets_50</th>\n      <th>tweets_51</th>\n      <th>tweets_52</th>\n      <th>tweets_53</th>\n      <th>tweets_54</th>\n      <th>tweets_55</th>\n      <th>tweets_56</th>\n      <th>tweets_57</th>\n      <th>tweets_58</th>\n      <th>tweets_59</th>\n      <th>tweets_60</th>\n      <th>tweets_61</th>\n      <th>tweets_62</th>\n      <th>tweets_63</th>\n      <th>tweets_64</th>\n      <th>tweets_65</th>\n      <th>tweets_66</th>\n      <th>tweets_67</th>\n      <th>tweets_68</th>\n      <th>tweets_69</th>\n      <th>tweets_70</th>\n      <th>tweets_71</th>\n      <th>tweets_72</th>\n      <th>tweets_73</th>\n      <th>tweets_74</th>\n      <th>tweets_75</th>\n      <th>tweets_76</th>\n      <th>tweets_77</th>\n      <th>tweets_78</th>\n      <th>tweets_79</th>\n      <th>tweets_80</th>\n      <th>tweets_81</th>\n      <th>tweets_82</th>\n      <th>tweets_83</th>\n      <th>tweets_84</th>\n      <th>tweets_85</th>\n      <th>tweets_86</th>\n      <th>tweets_87</th>\n      <th>tweets_88</th>\n      <th>tweets_89</th>\n      <th>tweets_90</th>\n      <th>tweets_91</th>\n      <th>tweets_92</th>\n      <th>tweets_93</th>\n      <th>tweets_94</th>\n      <th>tweets_95</th>\n      <th>tweets_96</th>\n      <th>tweets_97</th>\n      <th>tweets_98</th>\n      <th>tweets_99</th>\n      <th>description_0</th>\n      <th>description_1</th>\n      <th>description_2</th>\n      <th>description_3</th>\n      <th>description_4</th>\n      <th>description_5</th>\n      <th>description_6</th>\n      <th>description_7</th>\n      <th>description_8</th>\n      <th>description_9</th>\n      <th>description_10</th>\n      <th>description_11</th>\n      <th>description_12</th>\n      <th>description_13</th>\n      <th>description_14</th>\n      <th>description_15</th>\n      <th>description_16</th>\n      <th>description_17</th>\n      <th>description_18</th>\n      <th>description_19</th>\n      <th>description_20</th>\n      <th>description_21</th>\n      <th>description_22</th>\n      <th>description_23</th>\n      <th>description_24</th>\n      <th>description_25</th>\n      <th>description_26</th>\n      <th>description_27</th>\n      <th>description_28</th>\n      <th>description_29</th>\n      <th>description_30</th>\n      <th>description_31</th>\n      <th>description_32</th>\n      <th>description_33</th>\n      <th>description_34</th>\n      <th>description_35</th>\n      <th>description_36</th>\n      <th>description_37</th>\n      <th>description_38</th>\n      <th>description_39</th>\n      <th>description_40</th>\n      <th>description_41</th>\n      <th>description_42</th>\n      <th>description_43</th>\n      <th>description_44</th>\n      <th>description_45</th>\n      <th>description_46</th>\n      <th>description_47</th>\n      <th>description_48</th>\n      <th>description_49</th>\n      <th>description_50</th>\n      <th>description_51</th>\n      <th>description_52</th>\n      <th>description_53</th>\n      <th>description_54</th>\n      <th>description_55</th>\n      <th>description_56</th>\n      <th>description_57</th>\n      <th>description_58</th>\n      <th>description_59</th>\n      <th>description_60</th>\n      <th>description_61</th>\n      <th>description_62</th>\n      <th>description_63</th>\n      <th>description_64</th>\n      <th>description_65</th>\n      <th>description_66</th>\n      <th>description_67</th>\n      <th>description_68</th>\n      <th>description_69</th>\n      <th>description_70</th>\n      <th>description_71</th>\n      <th>description_72</th>\n      <th>description_73</th>\n      <th>description_74</th>\n      <th>description_75</th>\n      <th>description_76</th>\n      <th>description_77</th>\n      <th>description_78</th>\n      <th>description_79</th>\n      <th>description_80</th>\n      <th>description_81</th>\n      <th>description_82</th>\n      <th>description_83</th>\n      <th>description_84</th>\n      <th>description_85</th>\n      <th>description_86</th>\n      <th>description_87</th>\n      <th>description_88</th>\n      <th>description_89</th>\n      <th>description_90</th>\n      <th>description_91</th>\n      <th>description_92</th>\n      <th>description_93</th>\n      <th>description_94</th>\n      <th>description_95</th>\n      <th>description_96</th>\n      <th>description_97</th>\n      <th>description_98</th>\n      <th>description_99</th>\n      <th>has_face</th>\n      <th>account_type_multi</th>\n    </tr>\n  </thead>\n  <tbody>\n    <tr>\n      <th>0</th>\n      <td>0</td>\n      <td>82118682</td>\n      <td>davide gazzÃ¨</td>\n      <td>davidegazze</td>\n      <td>88</td>\n      <td>19</td>\n      <td>39</td>\n      <td>9</td>\n      <td>0</td>\n      <td>NaN</td>\n      <td>0.0</td>\n      <td>0.0</td>\n      <td>0.0</td>\n      <td>http://a0.twimg.com/profile_images/1700682774/...</td>\n      <td>1.0</td>\n      <td>1.0</td>\n      <td>NaN</td>\n      <td>NaN</td>\n      <td>NaN</td>\n      <td>1</td>\n      <td>['#ballarÃ\\x83Â² quindi #monti non Ã\\x83Â¨ sta...</td>\n      <td>1.491525</td>\n      <td>40.0</td>\n      <td>38.0</td>\n      <td>1.142857</td>\n      <td>1.600000</td>\n      <td>2.052632</td>\n      <td>13</td>\n      <td>11</td>\n      <td>2</td>\n      <td>0</td>\n      <td>0</td>\n      <td>ballarx83 quindi monti non x83 stato un buon t...</td>\n      <td>NaN</td>\n      <td>0.091977</td>\n      <td>0.034554</td>\n      <td>0.000000</td>\n      <td>0.059238</td>\n      <td>0.000000</td>\n      <td>0.000000</td>\n      <td>0.000000</td>\n      <td>0.056452</td>\n      <td>0.048987</td>\n      <td>0.058207</td>\n      <td>0.11607</td>\n      <td>0.125471</td>\n      <td>0.0</td>\n      <td>0.000000</td>\n      <td>0.151018</td>\n      <td>0.000000</td>\n      <td>0.000000</td>\n      <td>0.058498</td>\n      <td>0.15312</td>\n      <td>0.118353</td>\n      <td>0.439767</td>\n      <td>0.000000</td>\n      <td>0.200249</td>\n      <td>0.0</td>\n      <td>0.000000</td>\n      <td>0.178702</td>\n      <td>0.030877</td>\n      <td>0.000000</td>\n      <td>0.000000</td>\n      <td>0.000000</td>\n      <td>0.000000</td>\n      <td>0.0</td>\n      <td>0.030396</td>\n      <td>0.0</td>\n      <td>0.0</td>\n      <td>0.386811</td>\n      <td>0.028850</td>\n      <td>0.0</td>\n      <td>0.111074</td>\n      <td>0.000000</td>\n      <td>0.069019</td>\n      <td>0.071754</td>\n      <td>0.000000</td>\n      <td>0.000000</td>\n      <td>0.000000</td>\n      <td>0.0</td>\n      <td>0.000000</td>\n      <td>0.000000</td>\n      <td>0.000000</td>\n      <td>0.0</td>\n      <td>0.031558</td>\n      <td>0.000000</td>\n      <td>0.000000</td>\n      <td>0.000000</td>\n      <td>0.0</td>\n      <td>0.000000</td>\n      <td>0.063091</td>\n      <td>0.000000</td>\n      <td>0.000000</td>\n      <td>0.161387</td>\n      <td>0.059978</td>\n      <td>0.000000</td>\n      <td>0.294536</td>\n      <td>0.0</td>\n      <td>0.0</td>\n      <td>0.0</td>\n      <td>0.0</td>\n      <td>0.0</td>\n      <td>0.000000</td>\n      <td>0.000000</td>\n      <td>0.000000</td>\n      <td>0.083316</td>\n      <td>0.000000</td>\n      <td>0.0</td>\n      <td>0.000000</td>\n      <td>0.136500</td>\n      <td>0.0</td>\n      <td>0.000000</td>\n      <td>0.114215</td>\n      <td>0.374189</td>\n      <td>0.000000</td>\n      <td>0.0</td>\n      <td>0.000000</td>\n      <td>0.000000</td>\n      <td>0.0</td>\n      <td>0.029388</td>\n      <td>0.000000</td>\n      <td>0.177164</td>\n      <td>0.180592</td>\n      <td>0.000000</td>\n      <td>0.267742</td>\n      <td>0.0</td>\n      <td>0.091636</td>\n      <td>0.000000</td>\n      <td>0.000000</td>\n      <td>0.000000</td>\n      <td>0.000000</td>\n      <td>0.000000</td>\n      <td>0.000000</td>\n      <td>0.000000</td>\n      <td>0.0</td>\n      <td>0.0</td>\n      <td>0.0</td>\n      <td>0.0</td>\n      <td>0.0</td>\n      <td>0.0</td>\n      <td>0.0</td>\n      <td>0.0</td>\n      <td>0.0</td>\n      <td>0.0</td>\n      <td>0.0</td>\n      <td>0.0</td>\n      <td>0.0</td>\n      <td>0.0</td>\n      <td>0.0</td>\n      <td>0.0</td>\n      <td>0.0</td>\n      <td>0.0</td>\n      <td>0.0</td>\n      <td>0.0</td>\n      <td>0.0</td>\n      <td>0.0</td>\n      <td>0.0</td>\n      <td>0.0</td>\n      <td>0.0</td>\n      <td>0.0</td>\n      <td>0.0</td>\n      <td>0.0</td>\n      <td>0.0</td>\n      <td>0.0</td>\n      <td>0.0</td>\n      <td>0.0</td>\n      <td>0.0</td>\n      <td>0.0</td>\n      <td>0.0</td>\n      <td>0.0</td>\n      <td>0.0</td>\n      <td>0.0</td>\n      <td>0.0</td>\n      <td>0.0</td>\n      <td>0.0</td>\n      <td>0.0</td>\n      <td>0.0</td>\n      <td>0.0</td>\n      <td>0.0</td>\n      <td>0.0</td>\n      <td>0.0</td>\n      <td>0.0</td>\n      <td>0.0</td>\n      <td>0.0</td>\n      <td>0.0</td>\n      <td>0.0</td>\n      <td>0.0</td>\n      <td>0.0</td>\n      <td>0.0</td>\n      <td>0.0</td>\n      <td>0.0</td>\n      <td>0.0</td>\n      <td>0.0</td>\n      <td>0.0</td>\n      <td>0.0</td>\n      <td>0.0</td>\n      <td>0.0</td>\n      <td>0.0</td>\n      <td>0.0</td>\n      <td>0.0</td>\n      <td>0.0</td>\n      <td>0.0</td>\n      <td>0.0</td>\n      <td>0.0</td>\n      <td>0.0</td>\n      <td>0.0</td>\n      <td>0.0</td>\n      <td>0.0</td>\n      <td>0.0</td>\n      <td>0.0</td>\n      <td>0.0</td>\n      <td>0.0</td>\n      <td>0.0</td>\n      <td>0.0</td>\n      <td>0.0</td>\n      <td>0.0</td>\n      <td>0.0</td>\n      <td>0.0</td>\n      <td>0.0</td>\n      <td>0.0</td>\n      <td>0.0</td>\n      <td>0.0</td>\n      <td>0.0</td>\n      <td>0.0</td>\n      <td>0.0</td>\n      <td>0.0</td>\n      <td>0.0</td>\n      <td>0.0</td>\n      <td>0.0</td>\n      <td>0.0</td>\n      <td>0.0</td>\n      <td>0.0</td>\n      <td>0.0</td>\n      <td>0.0</td>\n      <td>1</td>\n      <td>0</td>\n    </tr>\n    <tr>\n      <th>1</th>\n      <td>1</td>\n      <td>1174756808</td>\n      <td>Carolee Moberly</td>\n      <td>MoberlycikCarol</td>\n      <td>19</td>\n      <td>7</td>\n      <td>192</td>\n      <td>0</td>\n      <td>0</td>\n      <td>NaN</td>\n      <td>1.0</td>\n      <td>0.0</td>\n      <td>0.0</td>\n      <td>http://a0.twimg.com/profile_images/3296378409/...</td>\n      <td>1.0</td>\n      <td>0.0</td>\n      <td>NaN</td>\n      <td>NaN</td>\n      <td>Spirit Led Conservative news blogger. #TeamJes...</td>\n      <td>0</td>\n      <td>['Homework is killing me tweeties but Im just ...</td>\n      <td>2.111111</td>\n      <td>12.0</td>\n      <td>0.0</td>\n      <td>2.285714</td>\n      <td>2.000000</td>\n      <td>27.428571</td>\n      <td>15</td>\n      <td>15</td>\n      <td>1</td>\n      <td>0</td>\n      <td>0</td>\n      <td>Homework is killing me tweeties but Im just st...</td>\n      <td>Spirit Led Conservative news blogger TeamJesus...</td>\n      <td>0.000000</td>\n      <td>0.000000</td>\n      <td>0.000000</td>\n      <td>0.000000</td>\n      <td>0.213376</td>\n      <td>0.000000</td>\n      <td>0.000000</td>\n      <td>0.000000</td>\n      <td>0.000000</td>\n      <td>0.000000</td>\n      <td>0.00000</td>\n      <td>0.000000</td>\n      <td>0.0</td>\n      <td>0.000000</td>\n      <td>0.000000</td>\n      <td>0.000000</td>\n      <td>0.193488</td>\n      <td>0.000000</td>\n      <td>0.00000</td>\n      <td>0.000000</td>\n      <td>0.000000</td>\n      <td>0.000000</td>\n      <td>0.212284</td>\n      <td>0.0</td>\n      <td>0.000000</td>\n      <td>0.000000</td>\n      <td>0.000000</td>\n      <td>0.000000</td>\n      <td>0.000000</td>\n      <td>0.213317</td>\n      <td>0.000000</td>\n      <td>0.0</td>\n      <td>0.000000</td>\n      <td>0.0</td>\n      <td>0.0</td>\n      <td>0.000000</td>\n      <td>0.183501</td>\n      <td>0.0</td>\n      <td>0.000000</td>\n      <td>0.000000</td>\n      <td>0.658502</td>\n      <td>0.000000</td>\n      <td>0.000000</td>\n      <td>0.199179</td>\n      <td>0.187112</td>\n      <td>0.0</td>\n      <td>0.000000</td>\n      <td>0.000000</td>\n      <td>0.187065</td>\n      <td>0.0</td>\n      <td>0.000000</td>\n      <td>0.000000</td>\n      <td>0.000000</td>\n      <td>0.000000</td>\n      <td>0.0</td>\n      <td>0.000000</td>\n      <td>0.000000</td>\n      <td>0.000000</td>\n      <td>0.000000</td>\n      <td>0.000000</td>\n      <td>0.190748</td>\n      <td>0.000000</td>\n      <td>0.000000</td>\n      <td>0.0</td>\n      <td>0.0</td>\n      <td>0.0</td>\n      <td>0.0</td>\n      <td>0.0</td>\n      <td>0.000000</td>\n      <td>0.000000</td>\n      <td>0.222132</td>\n      <td>0.000000</td>\n      <td>0.212284</td>\n      <td>0.0</td>\n      <td>0.000000</td>\n      <td>0.289408</td>\n      <td>0.0</td>\n      <td>0.000000</td>\n      <td>0.000000</td>\n      <td>0.000000</td>\n      <td>0.000000</td>\n      <td>0.0</td>\n      <td>0.000000</td>\n      <td>0.000000</td>\n      <td>0.0</td>\n      <td>0.186925</td>\n      <td>0.000000</td>\n      <td>0.000000</td>\n      <td>0.000000</td>\n      <td>0.000000</td>\n      <td>0.000000</td>\n      <td>0.0</td>\n      <td>0.000000</td>\n      <td>0.000000</td>\n      <td>0.000000</td>\n      <td>0.000000</td>\n      <td>0.000000</td>\n      <td>0.000000</td>\n      <td>0.000000</td>\n      <td>0.000000</td>\n      <td>0.0</td>\n      <td>0.0</td>\n      <td>0.0</td>\n      <td>0.0</td>\n      <td>0.0</td>\n      <td>0.0</td>\n      <td>0.0</td>\n      <td>0.0</td>\n      <td>0.0</td>\n      <td>0.0</td>\n      <td>0.0</td>\n      <td>0.0</td>\n      <td>0.0</td>\n      <td>0.0</td>\n      <td>0.0</td>\n      <td>0.0</td>\n      <td>0.0</td>\n      <td>0.0</td>\n      <td>0.0</td>\n      <td>0.0</td>\n      <td>0.0</td>\n      <td>0.0</td>\n      <td>0.0</td>\n      <td>0.0</td>\n      <td>0.0</td>\n      <td>0.0</td>\n      <td>0.0</td>\n      <td>0.0</td>\n      <td>0.0</td>\n      <td>0.0</td>\n      <td>0.0</td>\n      <td>0.0</td>\n      <td>0.0</td>\n      <td>0.0</td>\n      <td>0.0</td>\n      <td>0.0</td>\n      <td>0.0</td>\n      <td>0.0</td>\n      <td>0.0</td>\n      <td>0.0</td>\n      <td>0.0</td>\n      <td>0.0</td>\n      <td>0.0</td>\n      <td>0.0</td>\n      <td>0.0</td>\n      <td>0.0</td>\n      <td>0.0</td>\n      <td>0.0</td>\n      <td>0.0</td>\n      <td>0.0</td>\n      <td>0.0</td>\n      <td>0.0</td>\n      <td>0.0</td>\n      <td>0.0</td>\n      <td>1.0</td>\n      <td>0.0</td>\n      <td>0.0</td>\n      <td>0.0</td>\n      <td>0.0</td>\n      <td>0.0</td>\n      <td>0.0</td>\n      <td>0.0</td>\n      <td>0.0</td>\n      <td>0.0</td>\n      <td>0.0</td>\n      <td>0.0</td>\n      <td>0.0</td>\n      <td>0.0</td>\n      <td>0.0</td>\n      <td>0.0</td>\n      <td>0.0</td>\n      <td>0.0</td>\n      <td>0.0</td>\n      <td>0.0</td>\n      <td>0.0</td>\n      <td>0.0</td>\n      <td>0.0</td>\n      <td>0.0</td>\n      <td>0.0</td>\n      <td>0.0</td>\n      <td>0.0</td>\n      <td>0.0</td>\n      <td>0.0</td>\n      <td>0.0</td>\n      <td>0.0</td>\n      <td>0.0</td>\n      <td>0.0</td>\n      <td>0.0</td>\n      <td>0.0</td>\n      <td>0.0</td>\n      <td>0.0</td>\n      <td>0.0</td>\n      <td>0.0</td>\n      <td>0.0</td>\n      <td>0.0</td>\n      <td>0.0</td>\n      <td>0.0</td>\n      <td>0.0</td>\n      <td>0.0</td>\n      <td>0.0</td>\n      <td>1</td>\n      <td>1</td>\n    </tr>\n    <tr>\n      <th>2</th>\n      <td>2</td>\n      <td>708732794</td>\n      <td>Julius Kirk</td>\n      <td>juliuskirkdoq</td>\n      <td>22</td>\n      <td>11</td>\n      <td>241</td>\n      <td>0</td>\n      <td>0</td>\n      <td>NaN</td>\n      <td>1.0</td>\n      <td>0.0</td>\n      <td>0.0</td>\n      <td>http://a0.twimg.com/profile_images/3285710112/...</td>\n      <td>1.0</td>\n      <td>0.0</td>\n      <td>NaN</td>\n      <td>NaN</td>\n      <td>NaN</td>\n      <td>0</td>\n      <td>['onlineonline', 'just got back from the gym',...</td>\n      <td>2.200000</td>\n      <td>2.0</td>\n      <td>0.0</td>\n      <td>2.000000</td>\n      <td>2.250000</td>\n      <td>21.909091</td>\n      <td>11</td>\n      <td>13</td>\n      <td>1</td>\n      <td>0</td>\n      <td>0</td>\n      <td>onlineonline just got back from the gym Cant w...</td>\n      <td>NaN</td>\n      <td>0.000000</td>\n      <td>0.000000</td>\n      <td>0.000000</td>\n      <td>0.000000</td>\n      <td>0.326747</td>\n      <td>0.000000</td>\n      <td>0.326068</td>\n      <td>0.000000</td>\n      <td>0.000000</td>\n      <td>0.000000</td>\n      <td>0.00000</td>\n      <td>0.152764</td>\n      <td>0.0</td>\n      <td>0.000000</td>\n      <td>0.367734</td>\n      <td>0.000000</td>\n      <td>0.296292</td>\n      <td>0.000000</td>\n      <td>0.00000</td>\n      <td>0.000000</td>\n      <td>0.000000</td>\n      <td>0.000000</td>\n      <td>0.325076</td>\n      <td>0.0</td>\n      <td>0.000000</td>\n      <td>0.000000</td>\n      <td>0.000000</td>\n      <td>0.165395</td>\n      <td>0.151137</td>\n      <td>0.163328</td>\n      <td>0.165001</td>\n      <td>0.0</td>\n      <td>0.000000</td>\n      <td>0.0</td>\n      <td>0.0</td>\n      <td>0.000000</td>\n      <td>0.000000</td>\n      <td>0.0</td>\n      <td>0.000000</td>\n      <td>0.155325</td>\n      <td>0.000000</td>\n      <td>0.000000</td>\n      <td>0.000000</td>\n      <td>0.000000</td>\n      <td>0.000000</td>\n      <td>0.0</td>\n      <td>0.000000</td>\n      <td>0.000000</td>\n      <td>0.000000</td>\n      <td>0.0</td>\n      <td>0.000000</td>\n      <td>0.000000</td>\n      <td>0.000000</td>\n      <td>0.000000</td>\n      <td>0.0</td>\n      <td>0.155387</td>\n      <td>0.000000</td>\n      <td>0.319592</td>\n      <td>0.000000</td>\n      <td>0.000000</td>\n      <td>0.146048</td>\n      <td>0.000000</td>\n      <td>0.000000</td>\n      <td>0.0</td>\n      <td>0.0</td>\n      <td>0.0</td>\n      <td>0.0</td>\n      <td>0.0</td>\n      <td>0.000000</td>\n      <td>0.000000</td>\n      <td>0.170078</td>\n      <td>0.000000</td>\n      <td>0.162538</td>\n      <td>0.0</td>\n      <td>0.000000</td>\n      <td>0.000000</td>\n      <td>0.0</td>\n      <td>0.000000</td>\n      <td>0.000000</td>\n      <td>0.000000</td>\n      <td>0.000000</td>\n      <td>0.0</td>\n      <td>0.161666</td>\n      <td>0.161688</td>\n      <td>0.0</td>\n      <td>0.143121</td>\n      <td>0.000000</td>\n      <td>0.000000</td>\n      <td>0.175899</td>\n      <td>0.000000</td>\n      <td>0.000000</td>\n      <td>0.0</td>\n      <td>0.000000</td>\n      <td>0.000000</td>\n      <td>0.000000</td>\n      <td>0.000000</td>\n      <td>0.000000</td>\n      <td>0.000000</td>\n      <td>0.000000</td>\n      <td>0.000000</td>\n      <td>0.0</td>\n      <td>0.0</td>\n      <td>0.0</td>\n      <td>0.0</td>\n      <td>0.0</td>\n      <td>0.0</td>\n      <td>0.0</td>\n      <td>0.0</td>\n      <td>0.0</td>\n      <td>0.0</td>\n      <td>0.0</td>\n      <td>0.0</td>\n      <td>0.0</td>\n      <td>0.0</td>\n      <td>0.0</td>\n      <td>0.0</td>\n      <td>0.0</td>\n      <td>0.0</td>\n      <td>0.0</td>\n      <td>0.0</td>\n      <td>0.0</td>\n      <td>0.0</td>\n      <td>0.0</td>\n      <td>0.0</td>\n      <td>0.0</td>\n      <td>0.0</td>\n      <td>0.0</td>\n      <td>0.0</td>\n      <td>0.0</td>\n      <td>0.0</td>\n      <td>0.0</td>\n      <td>0.0</td>\n      <td>0.0</td>\n      <td>0.0</td>\n      <td>0.0</td>\n      <td>0.0</td>\n      <td>0.0</td>\n      <td>0.0</td>\n      <td>0.0</td>\n      <td>0.0</td>\n      <td>0.0</td>\n      <td>0.0</td>\n      <td>0.0</td>\n      <td>0.0</td>\n      <td>0.0</td>\n      <td>0.0</td>\n      <td>0.0</td>\n      <td>0.0</td>\n      <td>0.0</td>\n      <td>0.0</td>\n      <td>0.0</td>\n      <td>0.0</td>\n      <td>0.0</td>\n      <td>0.0</td>\n      <td>0.0</td>\n      <td>0.0</td>\n      <td>0.0</td>\n      <td>0.0</td>\n      <td>0.0</td>\n      <td>0.0</td>\n      <td>0.0</td>\n      <td>0.0</td>\n      <td>0.0</td>\n      <td>0.0</td>\n      <td>0.0</td>\n      <td>0.0</td>\n      <td>0.0</td>\n      <td>0.0</td>\n      <td>0.0</td>\n      <td>0.0</td>\n      <td>0.0</td>\n      <td>0.0</td>\n      <td>0.0</td>\n      <td>0.0</td>\n      <td>0.0</td>\n      <td>0.0</td>\n      <td>0.0</td>\n      <td>0.0</td>\n      <td>0.0</td>\n      <td>0.0</td>\n      <td>0.0</td>\n      <td>0.0</td>\n      <td>0.0</td>\n      <td>0.0</td>\n      <td>0.0</td>\n      <td>0.0</td>\n      <td>0.0</td>\n      <td>0.0</td>\n      <td>0.0</td>\n      <td>0.0</td>\n      <td>0.0</td>\n      <td>0.0</td>\n      <td>0.0</td>\n      <td>0.0</td>\n      <td>0.0</td>\n      <td>0.0</td>\n      <td>0.0</td>\n      <td>0.0</td>\n      <td>0.0</td>\n      <td>0.0</td>\n      <td>1</td>\n      <td>1</td>\n    </tr>\n    <tr>\n      <th>3</th>\n      <td>3</td>\n      <td>2360642101</td>\n      <td>Magan Skripko</td>\n      <td>MaganSkripko</td>\n      <td>47</td>\n      <td>6</td>\n      <td>41</td>\n      <td>0</td>\n      <td>0</td>\n      <td>NaN</td>\n      <td>0.0</td>\n      <td>0.0</td>\n      <td>0.0</td>\n      <td>http://pbs.twimg.com/profile_images/4386784991...</td>\n      <td>1.0</td>\n      <td>1.0</td>\n      <td>NaN</td>\n      <td>NaN</td>\n      <td>NaN</td>\n      <td>0</td>\n      <td>['When this song come on im spending money!', ...</td>\n      <td>4.550000</td>\n      <td>8.0</td>\n      <td>29.0</td>\n      <td>4.800000</td>\n      <td>4.466667</td>\n      <td>6.833333</td>\n      <td>13</td>\n      <td>12</td>\n      <td>1</td>\n      <td>0</td>\n      <td>0</td>\n      <td>When this song come on im spending money 6went...</td>\n      <td>NaN</td>\n      <td>0.000000</td>\n      <td>0.051097</td>\n      <td>0.099407</td>\n      <td>0.087598</td>\n      <td>0.000000</td>\n      <td>0.192483</td>\n      <td>0.049504</td>\n      <td>0.083478</td>\n      <td>0.000000</td>\n      <td>0.000000</td>\n      <td>0.00000</td>\n      <td>0.092771</td>\n      <td>0.0</td>\n      <td>0.157222</td>\n      <td>0.000000</td>\n      <td>0.044817</td>\n      <td>0.000000</td>\n      <td>0.000000</td>\n      <td>0.00000</td>\n      <td>0.000000</td>\n      <td>0.000000</td>\n      <td>0.180025</td>\n      <td>0.000000</td>\n      <td>0.0</td>\n      <td>0.134194</td>\n      <td>0.000000</td>\n      <td>0.273960</td>\n      <td>0.150662</td>\n      <td>0.183566</td>\n      <td>0.148780</td>\n      <td>0.000000</td>\n      <td>0.0</td>\n      <td>0.134846</td>\n      <td>0.0</td>\n      <td>0.0</td>\n      <td>0.081714</td>\n      <td>0.255969</td>\n      <td>0.0</td>\n      <td>0.000000</td>\n      <td>0.047163</td>\n      <td>0.000000</td>\n      <td>0.159160</td>\n      <td>0.000000</td>\n      <td>0.185226</td>\n      <td>0.130503</td>\n      <td>0.0</td>\n      <td>0.146159</td>\n      <td>0.054831</td>\n      <td>0.130471</td>\n      <td>0.0</td>\n      <td>0.186667</td>\n      <td>0.196652</td>\n      <td>0.064543</td>\n      <td>0.132027</td>\n      <td>0.0</td>\n      <td>0.000000</td>\n      <td>0.093296</td>\n      <td>0.097041</td>\n      <td>0.049041</td>\n      <td>0.000000</td>\n      <td>0.088693</td>\n      <td>0.093235</td>\n      <td>0.000000</td>\n      <td>0.0</td>\n      <td>0.0</td>\n      <td>0.0</td>\n      <td>0.0</td>\n      <td>0.0</td>\n      <td>0.052269</td>\n      <td>0.160015</td>\n      <td>0.051643</td>\n      <td>0.000000</td>\n      <td>0.246766</td>\n      <td>0.0</td>\n      <td>0.080587</td>\n      <td>0.000000</td>\n      <td>0.0</td>\n      <td>0.000000</td>\n      <td>0.000000</td>\n      <td>0.000000</td>\n      <td>0.203775</td>\n      <td>0.0</td>\n      <td>0.294531</td>\n      <td>0.049095</td>\n      <td>0.0</td>\n      <td>0.086915</td>\n      <td>0.202677</td>\n      <td>0.000000</td>\n      <td>0.053410</td>\n      <td>0.135054</td>\n      <td>0.065987</td>\n      <td>0.0</td>\n      <td>0.000000</td>\n      <td>0.046821</td>\n      <td>0.188003</td>\n      <td>0.000000</td>\n      <td>0.000000</td>\n      <td>0.000000</td>\n      <td>0.000000</td>\n      <td>0.102325</td>\n      <td>0.0</td>\n      <td>0.0</td>\n      <td>0.0</td>\n      <td>0.0</td>\n      <td>0.0</td>\n      <td>0.0</td>\n      <td>0.0</td>\n      <td>0.0</td>\n      <td>0.0</td>\n      <td>0.0</td>\n      <td>0.0</td>\n      <td>0.0</td>\n      <td>0.0</td>\n      <td>0.0</td>\n      <td>0.0</td>\n      <td>0.0</td>\n      <td>0.0</td>\n      <td>0.0</td>\n      <td>0.0</td>\n      <td>0.0</td>\n      <td>0.0</td>\n      <td>0.0</td>\n      <td>0.0</td>\n      <td>0.0</td>\n      <td>0.0</td>\n      <td>0.0</td>\n      <td>0.0</td>\n      <td>0.0</td>\n      <td>0.0</td>\n      <td>0.0</td>\n      <td>0.0</td>\n      <td>0.0</td>\n      <td>0.0</td>\n      <td>0.0</td>\n      <td>0.0</td>\n      <td>0.0</td>\n      <td>0.0</td>\n      <td>0.0</td>\n      <td>0.0</td>\n      <td>0.0</td>\n      <td>0.0</td>\n      <td>0.0</td>\n      <td>0.0</td>\n      <td>0.0</td>\n      <td>0.0</td>\n      <td>0.0</td>\n      <td>0.0</td>\n      <td>0.0</td>\n      <td>0.0</td>\n      <td>0.0</td>\n      <td>0.0</td>\n      <td>0.0</td>\n      <td>0.0</td>\n      <td>0.0</td>\n      <td>0.0</td>\n      <td>0.0</td>\n      <td>0.0</td>\n      <td>0.0</td>\n      <td>0.0</td>\n      <td>0.0</td>\n      <td>0.0</td>\n      <td>0.0</td>\n      <td>0.0</td>\n      <td>0.0</td>\n      <td>0.0</td>\n      <td>0.0</td>\n      <td>0.0</td>\n      <td>0.0</td>\n      <td>0.0</td>\n      <td>0.0</td>\n      <td>0.0</td>\n      <td>0.0</td>\n      <td>0.0</td>\n      <td>0.0</td>\n      <td>0.0</td>\n      <td>0.0</td>\n      <td>0.0</td>\n      <td>0.0</td>\n      <td>0.0</td>\n      <td>0.0</td>\n      <td>0.0</td>\n      <td>0.0</td>\n      <td>0.0</td>\n      <td>0.0</td>\n      <td>0.0</td>\n      <td>0.0</td>\n      <td>0.0</td>\n      <td>0.0</td>\n      <td>0.0</td>\n      <td>0.0</td>\n      <td>0.0</td>\n      <td>0.0</td>\n      <td>0.0</td>\n      <td>0.0</td>\n      <td>0.0</td>\n      <td>0.0</td>\n      <td>0.0</td>\n      <td>0.0</td>\n      <td>0.0</td>\n      <td>0.0</td>\n      <td>1</td>\n      <td>3</td>\n    </tr>\n    <tr>\n      <th>4</th>\n      <td>4</td>\n      <td>2379608905</td>\n      <td>Martin Bruley</td>\n      <td>MartinBruley</td>\n      <td>34</td>\n      <td>4</td>\n      <td>36</td>\n      <td>0</td>\n      <td>0</td>\n      <td>NaN</td>\n      <td>0.0</td>\n      <td>0.0</td>\n      <td>0.0</td>\n      <td>http://pbs.twimg.com/profile_images/4436054761...</td>\n      <td>1.0</td>\n      <td>1.0</td>\n      <td>NaN</td>\n      <td>NaN</td>\n      <td>NaN</td>\n      <td>0</td>\n      <td>['@Thisislepht \"You have to believe in yoursel...</td>\n      <td>4.222222</td>\n      <td>13.0</td>\n      <td>31.0</td>\n      <td>5.000000</td>\n      <td>3.727273</td>\n      <td>9.000000</td>\n      <td>13</td>\n      <td>12</td>\n      <td>1</td>\n      <td>0</td>\n      <td>0</td>\n      <td>Thisislepht You have to believe in yourself  S...</td>\n      <td>NaN</td>\n      <td>0.000000</td>\n      <td>0.135142</td>\n      <td>0.000000</td>\n      <td>0.000000</td>\n      <td>0.065601</td>\n      <td>0.254544</td>\n      <td>0.000000</td>\n      <td>0.000000</td>\n      <td>0.000000</td>\n      <td>0.000000</td>\n      <td>0.00000</td>\n      <td>0.000000</td>\n      <td>0.0</td>\n      <td>0.138609</td>\n      <td>0.000000</td>\n      <td>0.118533</td>\n      <td>0.118974</td>\n      <td>0.000000</td>\n      <td>0.00000</td>\n      <td>0.000000</td>\n      <td>0.000000</td>\n      <td>0.119035</td>\n      <td>0.000000</td>\n      <td>0.0</td>\n      <td>0.118307</td>\n      <td>0.000000</td>\n      <td>0.241527</td>\n      <td>0.132826</td>\n      <td>0.121376</td>\n      <td>0.000000</td>\n      <td>0.000000</td>\n      <td>0.0</td>\n      <td>0.000000</td>\n      <td>0.0</td>\n      <td>0.0</td>\n      <td>0.000000</td>\n      <td>0.338499</td>\n      <td>0.0</td>\n      <td>0.000000</td>\n      <td>0.062370</td>\n      <td>0.000000</td>\n      <td>0.000000</td>\n      <td>0.091928</td>\n      <td>0.367420</td>\n      <td>0.115053</td>\n      <td>0.0</td>\n      <td>0.193284</td>\n      <td>0.072510</td>\n      <td>0.172537</td>\n      <td>0.0</td>\n      <td>0.123426</td>\n      <td>0.000000</td>\n      <td>0.000000</td>\n      <td>0.000000</td>\n      <td>0.0</td>\n      <td>0.062394</td>\n      <td>0.185066</td>\n      <td>0.256659</td>\n      <td>0.000000</td>\n      <td>0.000000</td>\n      <td>0.000000</td>\n      <td>0.123296</td>\n      <td>0.000000</td>\n      <td>0.0</td>\n      <td>0.0</td>\n      <td>0.0</td>\n      <td>0.0</td>\n      <td>0.0</td>\n      <td>0.069122</td>\n      <td>0.070536</td>\n      <td>0.000000</td>\n      <td>0.000000</td>\n      <td>0.130532</td>\n      <td>0.0</td>\n      <td>0.106569</td>\n      <td>0.000000</td>\n      <td>0.0</td>\n      <td>0.071715</td>\n      <td>0.000000</td>\n      <td>0.000000</td>\n      <td>0.134738</td>\n      <td>0.0</td>\n      <td>0.129831</td>\n      <td>0.000000</td>\n      <td>0.0</td>\n      <td>0.114938</td>\n      <td>0.201018</td>\n      <td>0.000000</td>\n      <td>0.000000</td>\n      <td>0.059533</td>\n      <td>0.000000</td>\n      <td>0.0</td>\n      <td>0.000000</td>\n      <td>0.123833</td>\n      <td>0.248619</td>\n      <td>0.067321</td>\n      <td>0.137761</td>\n      <td>0.068264</td>\n      <td>0.072532</td>\n      <td>0.135316</td>\n      <td>0.0</td>\n      <td>0.0</td>\n      <td>0.0</td>\n      <td>0.0</td>\n      <td>0.0</td>\n      <td>0.0</td>\n      <td>0.0</td>\n      <td>0.0</td>\n      <td>0.0</td>\n      <td>0.0</td>\n      <td>0.0</td>\n      <td>0.0</td>\n      <td>0.0</td>\n      <td>0.0</td>\n      <td>0.0</td>\n      <td>0.0</td>\n      <td>0.0</td>\n      <td>0.0</td>\n      <td>0.0</td>\n      <td>0.0</td>\n      <td>0.0</td>\n      <td>0.0</td>\n      <td>0.0</td>\n      <td>0.0</td>\n      <td>0.0</td>\n      <td>0.0</td>\n      <td>0.0</td>\n      <td>0.0</td>\n      <td>0.0</td>\n      <td>0.0</td>\n      <td>0.0</td>\n      <td>0.0</td>\n      <td>0.0</td>\n      <td>0.0</td>\n      <td>0.0</td>\n      <td>0.0</td>\n      <td>0.0</td>\n      <td>0.0</td>\n      <td>0.0</td>\n      <td>0.0</td>\n      <td>0.0</td>\n      <td>0.0</td>\n      <td>0.0</td>\n      <td>0.0</td>\n      <td>0.0</td>\n      <td>0.0</td>\n      <td>0.0</td>\n      <td>0.0</td>\n      <td>0.0</td>\n      <td>0.0</td>\n      <td>0.0</td>\n      <td>0.0</td>\n      <td>0.0</td>\n      <td>0.0</td>\n      <td>0.0</td>\n      <td>0.0</td>\n      <td>0.0</td>\n      <td>0.0</td>\n      <td>0.0</td>\n      <td>0.0</td>\n      <td>0.0</td>\n      <td>0.0</td>\n      <td>0.0</td>\n      <td>0.0</td>\n      <td>0.0</td>\n      <td>0.0</td>\n      <td>0.0</td>\n      <td>0.0</td>\n      <td>0.0</td>\n      <td>0.0</td>\n      <td>0.0</td>\n      <td>0.0</td>\n      <td>0.0</td>\n      <td>0.0</td>\n      <td>0.0</td>\n      <td>0.0</td>\n      <td>0.0</td>\n      <td>0.0</td>\n      <td>0.0</td>\n      <td>0.0</td>\n      <td>0.0</td>\n      <td>0.0</td>\n      <td>0.0</td>\n      <td>0.0</td>\n      <td>0.0</td>\n      <td>0.0</td>\n      <td>0.0</td>\n      <td>0.0</td>\n      <td>0.0</td>\n      <td>0.0</td>\n      <td>0.0</td>\n      <td>0.0</td>\n      <td>0.0</td>\n      <td>0.0</td>\n      <td>0.0</td>\n      <td>0.0</td>\n      <td>0.0</td>\n      <td>0.0</td>\n      <td>0.0</td>\n      <td>0.0</td>\n      <td>1</td>\n      <td>3</td>\n    </tr>\n  </tbody>\n</table>\n</div>"
     },
     "metadata": {},
     "execution_count": 14
    }
   ],
   "source": [
    "df.head()"
   ]
  },
  {
   "cell_type": "code",
   "execution_count": 16,
   "metadata": {},
   "outputs": [
    {
     "output_type": "execute_result",
     "data": {
      "text/plain": [
       "Index(['Unnamed: 0', 'id', 'name', 'screen_name', 'statuses_count',\n",
       "       'followers_count', 'friends_count', 'favourites_count', 'listed_count',\n",
       "       'url',\n",
       "       ...\n",
       "       'description_92', 'description_93', 'description_94', 'description_95',\n",
       "       'description_96', 'description_97', 'description_98', 'description_99',\n",
       "       'has_face', 'account_type_multi'],\n",
       "      dtype='object', length=236)"
      ]
     },
     "metadata": {},
     "execution_count": 16
    }
   ],
   "source": [
    "df.columns"
   ]
  },
  {
   "source": [
    "## Get to the correct data format"
   ],
   "cell_type": "markdown",
   "metadata": {}
  },
  {
   "cell_type": "code",
   "execution_count": 17,
   "metadata": {},
   "outputs": [],
   "source": [
    "to_drop = ['Unnamed: 0', 'screen_name', 'url', 'profile_image_url', 'description',\n",
    "           'id', 'name', 'account_type', 'tweets_list', 'tweets_list_processed',\n",
    "          'description_processed', 'protected', 'verified', 'account_type_multi',\n",
    "          'profile_background_tile']\n",
    "\n",
    "X_train, y_train = df.drop(to_drop, axis=1), df['account_type_multi']"
   ]
  },
  {
   "cell_type": "code",
   "execution_count": 18,
   "metadata": {},
   "outputs": [],
   "source": [
    "X_test, y_test = test.drop(to_drop, axis=1), test['account_type_multi']"
   ]
  },
  {
   "cell_type": "code",
   "execution_count": 19,
   "metadata": {},
   "outputs": [
    {
     "output_type": "execute_result",
     "data": {
      "text/plain": [
       "     19                7            192                 0   \n",
       "2              22               11            241                 0   \n",
       "3              47                6             41                 0   \n",
       "4              34                4             36                 0   \n",
       "\n",
       "   listed_count  default_profile  default_profile_image  geo_enabled  \\\n",
       "0             0              0.0                    0.0          0.0   \n",
       "1             0              1.0                    0.0          0.0   \n",
       "2             0              1.0                    0.0          0.0   \n",
       "3             0              0.0                    0.0          0.0   \n",
       "4             0              0.0                    0.0          0.0   \n",
       "\n",
       "   profile_use_background_image  profile_background_tile  tweet_frequency  \\\n",
       "0                           1.0                      1.0         1.491525   \n",
       "1                           1.0                      0.0         2.111111   \n",
       "2                           1.0                      0.0         2.200000   \n",
       "3                           1.0                      1.0         4.550000   \n",
       "4                           1.0                      1.0         4.222222   \n",
       "\n",
       "   number_of_tags  number_of_mentions  tweet_weekend_frequency  \\\n",
       "0            40.0                38.0                 1.142857   \n",
       "1            12.0                 0.0                 2.285714   \n",
       "2             2.0                 0.0                 2.000000   \n",
       "3             8.0                29.0                 4.800000   \n",
       "4            13.0                31.0                 5.000000   \n",
       "\n",
       "   tweet_weekday_frequency  following_to_followers_ratio  username_length  \\\n",
       "0                 1.600000                      2.052632               13   \n",
       "1                 2.000000                     27.428571               15   \n",
       "2                 2.250000                     21.909091               11   \n",
       "3                 4.466667                      6.833333               13   \n",
       "4                 3.727273                      9.000000               13   \n",
       "\n",
       "   screen_name_length  username_spec_char_count  screen_name_spec_char_count  \\\n",
       "0                  11                         2                            0   \n",
       "1                  15                         1                            0   \n",
       "2                  13                         1                            0   \n",
       "3                  12                         1                            0   \n",
       "4                  12                         1                            0   \n",
       "\n",
       "   has_url  tweets_0  tweets_1  tweets_2  tweets_3  tweets_4  tweets_5  \\\n",
       "0        0  0.091977  0.034554  0.000000  0.059238  0.000000  0.000000   \n",
       "1        0  0.000000  0.000000  0.000000  0.000000  0.213376  0.000000   \n",
       "2        0  0.000000  0.000000  0.000000  0.000000  0.326747  0.000000   \n",
       "3        0  0.000000  0.051097  0.099407  0.087598  0.000000  0.192483   \n",
       "4        0  0.000000  0.135142  0.000000  0.000000  0.065601  0.254544   \n",
       "\n",
       "   tweets_6  tweets_7  tweets_8  tweets_9  tweets_10  tweets_11  tweets_12  \\\n",
       "0  0.000000  0.056452  0.048987  0.058207    0.11607   0.125471        0.0   \n",
       "1  0.000000  0.000000  0.000000  0.000000    0.00000   0.000000        0.0   \n",
       "2  0.326068  0.000000  0.000000  0.000000    0.00000   0.152764        0.0   \n",
       "3  0.049504  0.083478  0.000000  0.000000    0.00000   0.092771        0.0   \n",
       "4  0.000000  0.000000  0.000000  0.000000    0.00000   0.000000        0.0   \n",
       "\n",
       "   tweets_13  tweets_14  tweets_15  tweets_16  tweets_17  tweets_18  \\\n",
       "0   0.000000   0.151018   0.000000   0.000000   0.058498    0.15312   \n",
       "1   0.000000   0.000000   0.000000   0.193488   0.000000    0.00000   \n",
       "2   0.000000   0.367734   0.000000   0.296292   0.000000    0.00000   \n",
       "3   0.157222   0.000000   0.044817   0.000000   0.000000    0.00000   \n",
       "4   0.138609   0.000000   0.118533   0.118974   0.000000    0.00000   \n",
       "\n",
       "   tweets_19  tweets_20  tweets_21  tweets_22  tweets_23  tweets_24  \\\n",
       "0   0.118353   0.439767   0.000000   0.200249        0.0   0.000000   \n",
       "1   0.000000   0.000000   0.000000   0.212284        0.0   0.000000   \n",
       "2   0.000000   0.000000   0.000000   0.325076        0.0   0.000000   \n",
       "3   0.000000   0.000000   0.180025   0.000000        0.0   0.134194   \n",
       "4   0.000000   0.000000   0.119035   0.000000        0.0   0.118307   \n",
       "\n",
       "   tweets_25  tweets_26  tweets_27  tweets_28  tweets_29  tweets_30  \\\n",
       "0   0.178702   0.030877   0.000000   0.000000   0.000000   0.000000   \n",
       "1   0.000000   0.000000   0.000000   0.000000   0.213317   0.000000   \n",
       "2   0.000000   0.000000   0.165395   0.151137   0.163328   0.165001   \n",
       "3   0.000000   0.273960   0.150662   0.183566   0.148780   0.000000   \n",
       "4   0.000000   0.241527   0.132826   0.121376   0.000000   0.000000   \n",
       "\n",
       "   tweets_31  tweets_32  tweets_33  tweets_34  tweets_35  tweets_36  \\\n",
       "0        0.0   0.030396        0.0        0.0   0.386811   0.028850   \n",
       "1        0.0   0.000000        0.0        0.0   0.000000   0.183501   \n",
       "2        0.0   0.000000        0.0        0.0   0.000000   0.000000   \n",
       "3        0.0   0.134846        0.0        0.0   0.081714   0.255969   \n",
       "4        0.0   0.000000        0.0        0.0   0.000000   0.338499   \n",
       "\n",
       "   tweets_37  tweets_38  tweets_39  tweets_40  tweets_41  tweets_42  \\\n",
       "0        0.0   0.111074   0.000000   0.069019   0.071754   0.000000   \n",
       "1        0.0   0.000000   0.000000   0.658502   0.000000   0.000000   \n",
       "2        0.0   0.000000   0.155325   0.000000   0.000000   0.000000   \n",
       "3        0.0   0.000000   0.047163   0.000000   0.159160   0.000000   \n",
       "4        0.0   0.000000   0.062370   0.000000   0.000000   0.091928   \n",
       "\n",
       "   tweets_43  tweets_44  tweets_45  tweets_46  tweets_47  tweets_48  \\\n",
       "0   0.000000   0.000000        0.0   0.000000   0.000000   0.000000   \n",
       "1   0.199179   0.187112        0.0   0.000000   0.000000   0.187065   \n",
       "2   0.000000   0.000000        0.0   0.000000   0.000000   0.000000   \n",
       "3   0.185226   0.130503        0.0   0.146159   0.054831   0.130471   \n",
       "4   0.367420   0.115053        0.0   0.193284   0.072510   0.172537   \n",
       "\n",
       "   tweets_49  tweets_50  tweets_51  tweets_52  tweets_53  tweets_54  \\\n",
       "0        0.0   0.031558   0.000000   0.000000   0.000000        0.0   \n",
       "1        0.0   0.000000   0.000000   0.000000   0.000000        0.0   \n",
       "2        0.0   0.000000   0.000000   0.000000   0.000000        0.0   \n",
       "3        0.0   0.186667   0.196652   0.064543   0.132027        0.0   \n",
       "4        0.0   0.123426   0.000000   0.000000   0.000000        0.0   \n",
       "\n",
       "   tweets_55  tweets_56  tweets_57  tweets_58  tweets_59  tweets_60  \\\n",
       "0   0.000000   0.063091   0.000000   0.000000   0.161387   0.059978   \n",
       "1   0.000000   0.000000   0.000000   0.000000   0.000000   0.190748   \n",
       "2   0.155387   0.000000   0.319592   0.000000   0.000000   0.146048   \n",
       "3   0.000000   0.093296   0.097041   0.049041   0.000000   0.088693   \n",
       "4   0.062394   0.185066   0.256659   0.000000   0.000000   0.000000   \n",
       "\n",
       "   tweets_61  tweets_62  tweets_63  tweets_64  tweets_65  tweets_66  \\\n",
       "0   0.000000   0.294536        0.0        0.0        0.0        0.0   \n",
       "1   0.000000   0.000000        0.0        0.0        0.0        0.0   \n",
       "2   0.000000   0.000000        0.0        0.0        0.0        0.0   \n",
       "3   0.093235   0.000000        0.0        0.0        0.0        0.0   \n",
       "4   0.123296   0.000000        0.0        0.0        0.0        0.0   \n",
       "\n",
       "   tweets_67  tweets_68  tweets_69  tweets_70  tweets_71  tweets_72  \\\n",
       "0        0.0   0.000000   0.000000   0.000000   0.083316   0.000000   \n",
       "1        0.0   0.000000   0.000000   0.222132   0.000000   0.212284   \n",
       "2        0.0   0.000000   0.000000   0.170078   0.000000   0.162538   \n",
       "3        0.0   0.052269   0.160015   0.051643   0.000000   0.246766   \n",
       "4        0.0   0.069122   0.070536   0.000000   0.000000   0.130532   \n",
       "\n",
       "   tweets_73  tweets_74  tweets_75  tweets_76  tweets_77  tweets_78  \\\n",
       "0        0.0   0.000000   0.136500        0.0   0.000000   0.114215   \n",
       "1        0.0   0.000000   0.289408        0.0   0.000000   0.000000   \n",
       "2        0.0   0.000000   0.000000        0.0   0.000000   0.000000   \n",
       "3        0.0   0.080587   0.000000        0.0   0.000000   0.000000   \n",
       "4        0.0   0.106569   0.000000        0.0   0.071715   0.000000   \n",
       "\n",
       "   tweets_79  tweets_80  tweets_81  tweets_82  tweets_83  tweets_84  \\\n",
       "0   0.374189   0.000000        0.0   0.000000   0.000000        0.0   \n",
       "1   0.000000   0.000000        0.0   0.000000   0.000000        0.0   \n",
       "2   0.000000   0.000000        0.0   0.161666   0.161688        0.0   \n",
       "3   0.000000   0.203775        0.0   0.294531   0.049095        0.0   \n",
       "4   0.000000   0.134738        0.0   0.129831   0.000000        0.0   \n",
       "\n",
       "   tweets_85  tweets_86  tweets_87  tweets_88  tweets_89  tweets_90  \\\n",
       "0   0.029388   0.000000   0.177164   0.180592   0.000000   0.267742   \n",
       "1   0.186925   0.000000   0.000000   0.000000   0.000000   0.000000   \n",
       "2   0.143121   0.000000   0.000000   0.175899   0.000000   0.000000   \n",
       "3   0.086915   0.202677   0.000000   0.053410   0.135054   0.065987   \n",
       "4   0.114938   0.201018   0.000000   0.000000   0.059533   0.000000   \n",
       "\n",
       "   tweets_91  tweets_92  tweets_93  tweets_94  tweets_95  tweets_96  \\\n",
       "0        0.0   0.091636   0.000000   0.000000   0.000000   0.000000   \n",
       "1        0.0   0.000000   0.000000   0.000000   0.000000   0.000000   \n",
       "2        0.0   0.000000   0.000000   0.000000   0.000000   0.000000   \n",
       "3        0.0   0.000000   0.046821   0.188003   0.000000   0.000000   \n",
       "4        0.0   0.000000   0.123833   0.248619   0.067321   0.137761   \n",
       "\n",
       "   tweets_97  tweets_98  tweets_99  description_0  description_1  \\\n",
       "0   0.000000   0.000000   0.000000            0.0            0.0   \n",
       "1   0.000000   0.000000   0.000000            0.0            0.0   \n",
       "2   0.000000   0.000000   0.000000            0.0            0.0   \n",
       "3   0.000000   0.000000   0.102325            0.0            0.0   \n",
       "4   0.068264   0.072532   0.135316            0.0            0.0   \n",
       "\n",
       "   description_2  description_3  description_4  description_5  description_6  \\\n",
       "0            0.0            0.0            0.0            0.0            0.0   \n",
       "1            0.0            0.0            0.0            0.0            0.0   \n",
       "2            0.0            0.0            0.0            0.0            0.0   \n",
       "3            0.0            0.0            0.0            0.0            0.0   \n",
       "4            0.0            0.0            0.0            0.0            0.0   \n",
       "\n",
       "   description_7  description_8  description_9  description_10  \\\n",
       "0            0.0            0.0            0.0             0.0   \n",
       "1            0.0            0.0            0.0             0.0   \n",
       "2            0.0            0.0            0.0             0.0   \n",
       "3            0.0            0.0            0.0             0.0   \n",
       "4            0.0            0.0            0.0             0.0   \n",
       "\n",
       "   description_11  description_12  description_13  description_14  \\\n",
       "0             0.0             0.0             0.0             0.0   \n",
       "1             0.0             0.0             0.0             0.0   \n",
       "2             0.0             0.0             0.0             0.0   \n",
       "3             0.0             0.0             0.0             0.0   \n",
       "4             0.0             0.0             0.0             0.0   \n",
       "\n",
       "   description_15  description_16  description_17  description_18  \\\n",
       "0             0.0             0.0             0.0             0.0   \n",
       "1             0.0             0.0             0.0             0.0   \n",
       "2             0.0             0.0             0.0             0.0   \n",
       "3             0.0             0.0             0.0             0.0   \n",
       "4             0.0             0.0             0.0             0.0   \n",
       "\n",
       "   description_19  description_20  description_21  description_22  \\\n",
       "0             0.0             0.0             0.0             0.0   \n",
       "1             0.0             0.0             0.0             0.0   \n",
       "2             0.0             0.0             0.0             0.0   \n",
       "3             0.0             0.0             0.0             0.0   \n",
       "4             0.0             0.0             0.0             0.0   \n",
       "\n",
       "   description_23  description_24  description_25  description_26  \\\n",
       "0             0.0             0.0             0.0             0.0   \n",
       "1             0.0             0.0             0.0             0.0   \n",
       "2             0.0             0.0             0.0             0.0   \n",
       "3             0.0             0.0             0.0             0.0   \n",
       "4             0.0             0.0             0.0             0.0   \n",
       "\n",
       "   description_27  description_28  description_29  description_30  \\\n",
       "0             0.0             0.0             0.0             0.0   \n",
       "1             0.0             0.0             0.0             0.0   \n",
       "2             0.0             0.0             0.0             0.0   \n",
       "3             0.0             0.0             0.0             0.0   \n",
       "4             0.0             0.0             0.0             0.0   \n",
       "\n",
       "   description_31  description_32  description_33  description_34  \\\n",
       "0             0.0             0.0             0.0             0.0   \n",
       "1             0.0             0.0             0.0             0.0   \n",
       "2             0.0             0.0             0.0             0.0   \n",
       "3             0.0             0.0             0.0             0.0   \n",
       "4             0.0             0.0             0.0             0.0   \n",
       "\n",
       "   description_35  description_36  description_37  description_38  \\\n",
       "0             0.0             0.0             0.0             0.0   \n",
       "1             0.0             0.0             0.0             0.0   \n",
       "2             0.0             0.0             0.0             0.0   \n",
       "3             0.0             0.0             0.0             0.0   \n",
       "4             0.0             0.0             0.0             0.0   \n",
       "\n",
       "   description_39  description_40  description_41  description_42  \\\n",
       "0             0.0             0.0             0.0             0.0   \n",
       "1             0.0             0.0             0.0             0.0   \n",
       "2             0.0             0.0             0.0             0.0   \n",
       "3             0.0             0.0             0.0             0.0   \n",
       "4             0.0             0.0             0.0             0.0   \n",
       "\n",
       "   description_43  description_44  description_45  description_46  \\\n",
       "0             0.0             0.0             0.0             0.0   \n",
       "1             0.0             0.0             0.0             0.0   \n",
       "2             0.0             0.0             0.0             0.0   \n",
       "3             0.0             0.0             0.0             0.0   \n",
       "4             0.0             0.0             0.0             0.0   \n",
       "\n",
       "   description_47  description_48  description_49  description_50  \\\n",
       "0             0.0             0.0             0.0             0.0   \n",
       "1             0.0             0.0             0.0             0.0   \n",
       "2             0.0             0.0             0.0             0.0   \n",
       "3             0.0             0.0             0.0             0.0   \n",
       "4             0.0             0.0             0.0             0.0   \n",
       "\n",
       "   description_51  description_52  description_53  description_54  \\\n",
       "0             0.0             0.0             0.0             0.0   \n",
       "1             0.0             0.0             0.0             1.0   \n",
       "2             0.0             0.0             0.0             0.0   \n",
       "3             0.0             0.0             0.0             0.0   \n",
       "4             0.0             0.0             0.0             0.0   \n",
       "\n",
       "   description_55  description_56  description_57  description_58  \\\n",
       "0             0.0             0.0             0.0             0.0   \n",
       "1             0.0             0.0             0.0             0.0   \n",
       "2             0.0             0.0             0.0             0.0   \n",
       "3             0.0             0.0             0.0             0.0   \n",
       "4             0.0             0.0             0.0             0.0   \n",
       "\n",
       "   description_59  description_60  description_61  description_62  \\\n",
       "0             0.0             0.0             0.0             0.0   \n",
       "1             0.0             0.0             0.0             0.0   \n",
       "2             0.0             0.0             0.0             0.0   \n",
       "3             0.0             0.0             0.0             0.0   \n",
       "4             0.0             0.0             0.0             0.0   \n",
       "\n",
       "   description_63  description_64  description_65  description_66  \\\n",
       "0             0.0             0.0             0.0             0.0   \n",
       "1             0.0             0.0             0.0             0.0   \n",
       "2             0.0             0.0             0.0             0.0   \n",
       "3             0.0             0.0             0.0             0.0   \n",
       "4             0.0             0.0             0.0             0.0   \n",
       "\n",
       "   description_67  description_68  description_69  description_70  \\\n",
       "0             0.0             0.0             0.0             0.0   \n",
       "1             0.0             0.0             0.0             0.0   \n",
       "2             0.0             0.0             0.0             0.0   \n",
       "3             0.0             0.0             0.0             0.0   \n",
       "4             0.0             0.0             0.0             0.0   \n",
       "\n",
       "   description_71  description_72  description_73  description_74  \\\n",
       "0             0.0             0.0             0.0             0.0   \n",
       "1             0.0             0.0             0.0             0.0   \n",
       "2             0.0             0.0             0.0             0.0   \n",
       "3             0.0             0.0             0.0             0.0   \n",
       "4             0.0             0.0             0.0             0.0   \n",
       "\n",
       "   description_75  description_76  description_77  description_78  \\\n",
       "0             0.0             0.0             0.0             0.0   \n",
       "1             0.0             0.0             0.0             0.0   \n",
       "2             0.0             0.0             0.0             0.0   \n",
       "3             0.0             0.0             0.0             0.0   \n",
       "4             0.0             0.0             0.0             0.0   \n",
       "\n",
       "   description_79  description_80  description_81  description_82  \\\n",
       "0             0.0             0.0             0.0             0.0   \n",
       "1             0.0             0.0             0.0             0.0   \n",
       "2             0.0             0.0             0.0             0.0   \n",
       "3             0.0             0.0             0.0             0.0   \n",
       "4             0.0             0.0             0.0             0.0   \n",
       "\n",
       "   description_83  description_84  description_85  description_86  \\\n",
       "0             0.0             0.0             0.0             0.0   \n",
       "1             0.0             0.0             0.0             0.0   \n",
       "2             0.0             0.0             0.0             0.0   \n",
       "3             0.0             0.0             0.0             0.0   \n",
       "4             0.0             0.0             0.0             0.0   \n",
       "\n",
       "   description_87  description_88  description_89  description_90  \\\n",
       "0             0.0             0.0             0.0             0.0   \n",
       "1             0.0             0.0             0.0             0.0   \n",
       "2             0.0             0.0             0.0             0.0   \n",
       "3             0.0             0.0             0.0             0.0   \n",
       "4             0.0             0.0             0.0             0.0   \n",
       "\n",
       "   description_91  description_92  description_93  description_94  \\\n",
       "0             0.0             0.0             0.0             0.0   \n",
       "1             0.0             0.0             0.0             0.0   \n",
       "2             0.0             0.0             0.0             0.0   \n",
       "3             0.0             0.0             0.0             0.0   \n",
       "4             0.0             0.0             0.0             0.0   \n",
       "\n",
       "   description_95  description_96  description_97  description_98  \\\n",
       "0             0.0             0.0             0.0             0.0   \n",
       "1             0.0             0.0             0.0             0.0   \n",
       "2             0.0             0.0             0.0             0.0   \n",
       "3             0.0             0.0             0.0             0.0   \n",
       "4             0.0             0.0             0.0             0.0   \n",
       "\n",
       "   description_99  has_face  \n",
       "0             0.0         1  \n",
       "1             0.0         1  \n",
       "2             0.0         1  \n",
       "3             0.0         1  \n",
       "4             0.0         1  "
      ],
      "text/html": "<div>\n<style scoped>\n    .dataframe tbody tr th:only-of-type {\n        vertical-align: middle;\n    }\n\n    .dataframe tbody tr th {\n        vertical-align: top;\n    }\n\n    .dataframe thead th {\n        text-align: right;\n    }\n</style>\n<table border=\"1\" class=\"dataframe\">\n  <thead>\n    <tr style=\"text-align: right;\">\n      <th></th>\n      <th>statuses_count</th>\n      <th>followers_count</th>\n      <th>friends_count</th>\n      <th>favourites_count</th>\n      <th>listed_count</th>\n      <th>default_profile</th>\n      <th>default_profile_image</th>\n      <th>geo_enabled</th>\n      <th>profile_use_background_image</th>\n      <th>profile_background_tile</th>\n      <th>tweet_frequency</th>\n      <th>number_of_tags</th>\n      <th>number_of_mentions</th>\n      <th>tweet_weekend_frequency</th>\n      <th>tweet_weekday_frequency</th>\n      <th>following_to_followers_ratio</th>\n      <th>username_length</th>\n      <th>screen_name_length</th>\n      <th>username_spec_char_count</th>\n      <th>screen_name_spec_char_count</th>\n      <th>has_url</th>\n      <th>tweets_0</th>\n      <th>tweets_1</th>\n      <th>tweets_2</th>\n      <th>tweets_3</th>\n      <th>tweets_4</th>\n      <th>tweets_5</th>\n      <th>tweets_6</th>\n      <th>tweets_7</th>\n      <th>tweets_8</th>\n      <th>tweets_9</th>\n      <th>tweets_10</th>\n      <th>tweets_11</th>\n      <th>tweets_12</th>\n      <th>tweets_13</th>\n      <th>tweets_14</th>\n      <th>tweets_15</th>\n      <th>tweets_16</th>\n      <th>tweets_17</th>\n      <th>tweets_18</th>\n      <th>tweets_19</th>\n      <th>tweets_20</th>\n      <th>tweets_21</th>\n      <th>tweets_22</th>\n      <th>tweets_23</th>\n      <th>tweets_24</th>\n      <th>tweets_25</th>\n      <th>tweets_26</th>\n      <th>tweets_27</th>\n      <th>tweets_28</th>\n      <th>tweets_29</th>\n      <th>tweets_30</th>\n      <th>tweets_31</th>\n      <th>tweets_32</th>\n      <th>tweets_33</th>\n      <th>tweets_34</th>\n      <th>tweets_35</th>\n      <th>tweets_36</th>\n      <th>tweets_37</th>\n      <th>tweets_38</th>\n      <th>tweets_39</th>\n      <th>tweets_40</th>\n      <th>tweets_41</th>\n      <th>tweets_42</th>\n      <th>tweets_43</th>\n      <th>tweets_44</th>\n      <th>tweets_45</th>\n      <th>tweets_46</th>\n      <th>tweets_47</th>\n      <th>tweets_48</th>\n      <th>tweets_49</th>\n      <th>tweets_50</th>\n      <th>tweets_51</th>\n      <th>tweets_52</th>\n      <th>tweets_53</th>\n      <th>tweets_54</th>\n      <th>tweets_55</th>\n      <th>tweets_56</th>\n      <th>tweets_57</th>\n      <th>tweets_58</th>\n      <th>tweets_59</th>\n      <th>tweets_60</th>\n      <th>tweets_61</th>\n      <th>tweets_62</th>\n      <th>tweets_63</th>\n      <th>tweets_64</th>\n      <th>tweets_65</th>\n      <th>tweets_66</th>\n      <th>tweets_67</th>\n      <th>tweets_68</th>\n      <th>tweets_69</th>\n      <th>tweets_70</th>\n      <th>tweets_71</th>\n      <th>tweets_72</th>\n      <th>tweets_73</th>\n      <th>tweets_74</th>\n      <th>tweets_75</th>\n      <th>tweets_76</th>\n      <th>tweets_77</th>\n      <th>tweets_78</th>\n      <th>tweets_79</th>\n      <th>tweets_80</th>\n      <th>tweets_81</th>\n      <th>tweets_82</th>\n      <th>tweets_83</th>\n      <th>tweets_84</th>\n      <th>tweets_85</th>\n      <th>tweets_86</th>\n      <th>tweets_87</th>\n      <th>tweets_88</th>\n      <th>tweets_89</th>\n      <th>tweets_90</th>\n      <th>tweets_91</th>\n      <th>tweets_92</th>\n      <th>tweets_93</th>\n      <th>tweets_94</th>\n      <th>tweets_95</th>\n      <th>tweets_96</th>\n      <th>tweets_97</th>\n      <th>tweets_98</th>\n      <th>tweets_99</th>\n      <th>description_0</th>\n      <th>description_1</th>\n      <th>description_2</th>\n      <th>description_3</th>\n      <th>description_4</th>\n      <th>description_5</th>\n      <th>description_6</th>\n      <th>description_7</th>\n      <th>description_8</th>\n      <th>description_9</th>\n      <th>description_10</th>\n      <th>description_11</th>\n      <th>description_12</th>\n      <th>description_13</th>\n      <th>description_14</th>\n      <th>description_15</th>\n      <th>description_16</th>\n      <th>description_17</th>\n      <th>description_18</th>\n      <th>description_19</th>\n      <th>description_20</th>\n      <th>description_21</th>\n      <th>description_22</th>\n      <th>description_23</th>\n      <th>description_24</th>\n      <th>description_25</th>\n      <th>description_26</th>\n      <th>description_27</th>\n      <th>description_28</th>\n      <th>description_29</th>\n      <th>description_30</th>\n      <th>description_31</th>\n      <th>description_32</th>\n      <th>description_33</th>\n      <th>description_34</th>\n      <th>description_35</th>\n      <th>description_36</th>\n      <th>description_37</th>\n      <th>description_38</th>\n      <th>description_39</th>\n      <th>description_40</th>\n      <th>description_41</th>\n      <th>description_42</th>\n      <th>description_43</th>\n      <th>description_44</th>\n      <th>description_45</th>\n      <th>description_46</th>\n      <th>description_47</th>\n      <th>description_48</th>\n      <th>description_49</th>\n      <th>description_50</th>\n      <th>description_51</th>\n      <th>description_52</th>\n      <th>description_53</th>\n      <th>description_54</th>\n      <th>description_55</th>\n      <th>description_56</th>\n      <th>description_57</th>\n      <th>description_58</th>\n      <th>description_59</th>\n      <th>description_60</th>\n      <th>description_61</th>\n      <th>description_62</th>\n      <th>description_63</th>\n      <th>description_64</th>\n      <th>description_65</th>\n      <th>description_66</th>\n      <th>description_67</th>\n      <th>description_68</th>\n      <th>description_69</th>\n      <th>description_70</th>\n      <th>description_71</th>\n      <th>description_72</th>\n      <th>description_73</th>\n      <th>description_74</th>\n      <th>description_75</th>\n      <th>description_76</th>\n      <th>description_77</th>\n      <th>description_78</th>\n      <th>description_79</th>\n      <th>description_80</th>\n      <th>description_81</th>\n      <th>description_82</th>\n      <th>description_83</th>\n      <th>description_84</th>\n      <th>description_85</th>\n      <th>description_86</th>\n      <th>description_87</th>\n      <th>description_88</th>\n      <th>description_89</th>\n      <th>description_90</th>\n      <th>description_91</th>\n      <th>description_92</th>\n      <th>description_93</th>\n      <th>description_94</th>\n      <th>description_95</th>\n      <th>description_96</th>\n      <th>description_97</th>\n      <th>description_98</th>\n      <th>description_99</th>\n      <th>has_face</th>\n    </tr>\n  </thead>\n  <tbody>\n    <tr>\n      <th>0</th>\n      <td>88</td>\n      <td>19</td>\n      <td>39</td>\n      <td>9</td>\n      <td>0</td>\n      <td>0.0</td>\n      <td>0.0</td>\n      <td>0.0</td>\n      <td>1.0</td>\n      <td>1.0</td>\n      <td>1.491525</td>\n      <td>40.0</td>\n      <td>38.0</td>\n      <td>1.142857</td>\n      <td>1.600000</td>\n      <td>2.052632</td>\n      <td>13</td>\n      <td>11</td>\n      <td>2</td>\n      <td>0</td>\n      <td>0</td>\n      <td>0.091977</td>\n      <td>0.034554</td>\n      <td>0.000000</td>\n      <td>0.059238</td>\n      <td>0.000000</td>\n      <td>0.000000</td>\n      <td>0.000000</td>\n      <td>0.056452</td>\n      <td>0.048987</td>\n      <td>0.058207</td>\n      <td>0.11607</td>\n      <td>0.125471</td>\n      <td>0.0</td>\n      <td>0.000000</td>\n      <td>0.151018</td>\n      <td>0.000000</td>\n      <td>0.000000</td>\n      <td>0.058498</td>\n      <td>0.15312</td>\n      <td>0.118353</td>\n      <td>0.439767</td>\n      <td>0.000000</td>\n      <td>0.200249</td>\n      <td>0.0</td>\n      <td>0.000000</td>\n      <td>0.178702</td>\n      <td>0.030877</td>\n      <td>0.000000</td>\n      <td>0.000000</td>\n      <td>0.000000</td>\n      <td>0.000000</td>\n      <td>0.0</td>\n      <td>0.030396</td>\n      <td>0.0</td>\n      <td>0.0</td>\n      <td>0.386811</td>\n      <td>0.028850</td>\n      <td>0.0</td>\n      <td>0.111074</td>\n      <td>0.000000</td>\n      <td>0.069019</td>\n      <td>0.071754</td>\n      <td>0.000000</td>\n      <td>0.000000</td>\n      <td>0.000000</td>\n      <td>0.0</td>\n      <td>0.000000</td>\n      <td>0.000000</td>\n      <td>0.000000</td>\n      <td>0.0</td>\n      <td>0.031558</td>\n      <td>0.000000</td>\n      <td>0.000000</td>\n      <td>0.000000</td>\n      <td>0.0</td>\n      <td>0.000000</td>\n      <td>0.063091</td>\n      <td>0.000000</td>\n      <td>0.000000</td>\n      <td>0.161387</td>\n      <td>0.059978</td>\n      <td>0.000000</td>\n      <td>0.294536</td>\n      <td>0.0</td>\n      <td>0.0</td>\n      <td>0.0</td>\n      <td>0.0</td>\n      <td>0.0</td>\n      <td>0.000000</td>\n      <td>0.000000</td>\n      <td>0.000000</td>\n      <td>0.083316</td>\n      <td>0.000000</td>\n      <td>0.0</td>\n      <td>0.000000</td>\n      <td>0.136500</td>\n      <td>0.0</td>\n      <td>0.000000</td>\n      <td>0.114215</td>\n      <td>0.374189</td>\n      <td>0.000000</td>\n      <td>0.0</td>\n      <td>0.000000</td>\n      <td>0.000000</td>\n      <td>0.0</td>\n      <td>0.029388</td>\n      <td>0.000000</td>\n      <td>0.177164</td>\n      <td>0.180592</td>\n      <td>0.000000</td>\n      <td>0.267742</td>\n      <td>0.0</td>\n      <td>0.091636</td>\n      <td>0.000000</td>\n      <td>0.000000</td>\n      <td>0.000000</td>\n      <td>0.000000</td>\n      <td>0.000000</td>\n      <td>0.000000</td>\n      <td>0.000000</td>\n      <td>0.0</td>\n      <td>0.0</td>\n      <td>0.0</td>\n      <td>0.0</td>\n      <td>0.0</td>\n      <td>0.0</td>\n      <td>0.0</td>\n      <td>0.0</td>\n      <td>0.0</td>\n      <td>0.0</td>\n      <td>0.0</td>\n      <td>0.0</td>\n      <td>0.0</td>\n      <td>0.0</td>\n      <td>0.0</td>\n      <td>0.0</td>\n      <td>0.0</td>\n      <td>0.0</td>\n      <td>0.0</td>\n      <td>0.0</td>\n      <td>0.0</td>\n      <td>0.0</td>\n      <td>0.0</td>\n      <td>0.0</td>\n      <td>0.0</td>\n      <td>0.0</td>\n      <td>0.0</td>\n      <td>0.0</td>\n      <td>0.0</td>\n      <td>0.0</td>\n      <td>0.0</td>\n      <td>0.0</td>\n      <td>0.0</td>\n      <td>0.0</td>\n      <td>0.0</td>\n      <td>0.0</td>\n      <td>0.0</td>\n      <td>0.0</td>\n      <td>0.0</td>\n      <td>0.0</td>\n      <td>0.0</td>\n      <td>0.0</td>\n      <td>0.0</td>\n      <td>0.0</td>\n      <td>0.0</td>\n      <td>0.0</td>\n      <td>0.0</td>\n      <td>0.0</td>\n      <td>0.0</td>\n      <td>0.0</td>\n      <td>0.0</td>\n      <td>0.0</td>\n      <td>0.0</td>\n      <td>0.0</td>\n      <td>0.0</td>\n      <td>0.0</td>\n      <td>0.0</td>\n      <td>0.0</td>\n      <td>0.0</td>\n      <td>0.0</td>\n      <td>0.0</td>\n      <td>0.0</td>\n      <td>0.0</td>\n      <td>0.0</td>\n      <td>0.0</td>\n      <td>0.0</td>\n      <td>0.0</td>\n      <td>0.0</td>\n      <td>0.0</td>\n      <td>0.0</td>\n      <td>0.0</td>\n      <td>0.0</td>\n      <td>0.0</td>\n      <td>0.0</td>\n      <td>0.0</td>\n      <td>0.0</td>\n      <td>0.0</td>\n      <td>0.0</td>\n      <td>0.0</td>\n      <td>0.0</td>\n      <td>0.0</td>\n      <td>0.0</td>\n      <td>0.0</td>\n      <td>0.0</td>\n      <td>0.0</td>\n      <td>0.0</td>\n      <td>0.0</td>\n      <td>0.0</td>\n      <td>0.0</td>\n      <td>0.0</td>\n      <td>0.0</td>\n      <td>0.0</td>\n      <td>0.0</td>\n      <td>0.0</td>\n      <td>0.0</td>\n      <td>0.0</td>\n      <td>0.0</td>\n      <td>0.0</td>\n      <td>0.0</td>\n      <td>0.0</td>\n      <td>1</td>\n    </tr>\n    <tr>\n      <th>1</th>\n      <td>19</td>\n      <td>7</td>\n      <td>192</td>\n      <td>0</td>\n      <td>0</td>\n      <td>1.0</td>\n      <td>0.0</td>\n      <td>0.0</td>\n      <td>1.0</td>\n      <td>0.0</td>\n      <td>2.111111</td>\n      <td>12.0</td>\n      <td>0.0</td>\n      <td>2.285714</td>\n      <td>2.000000</td>\n      <td>27.428571</td>\n      <td>15</td>\n      <td>15</td>\n      <td>1</td>\n      <td>0</td>\n      <td>0</td>\n      <td>0.000000</td>\n      <td>0.000000</td>\n      <td>0.000000</td>\n      <td>0.000000</td>\n      <td>0.213376</td>\n      <td>0.000000</td>\n      <td>0.000000</td>\n      <td>0.000000</td>\n      <td>0.000000</td>\n      <td>0.000000</td>\n      <td>0.00000</td>\n      <td>0.000000</td>\n      <td>0.0</td>\n      <td>0.000000</td>\n      <td>0.000000</td>\n      <td>0.000000</td>\n      <td>0.193488</td>\n      <td>0.000000</td>\n      <td>0.00000</td>\n      <td>0.000000</td>\n      <td>0.000000</td>\n      <td>0.000000</td>\n      <td>0.212284</td>\n      <td>0.0</td>\n      <td>0.000000</td>\n      <td>0.000000</td>\n      <td>0.000000</td>\n      <td>0.000000</td>\n      <td>0.000000</td>\n      <td>0.213317</td>\n      <td>0.000000</td>\n      <td>0.0</td>\n      <td>0.000000</td>\n      <td>0.0</td>\n      <td>0.0</td>\n      <td>0.000000</td>\n      <td>0.183501</td>\n      <td>0.0</td>\n      <td>0.000000</td>\n      <td>0.000000</td>\n      <td>0.658502</td>\n      <td>0.000000</td>\n      <td>0.000000</td>\n      <td>0.199179</td>\n      <td>0.187112</td>\n      <td>0.0</td>\n      <td>0.000000</td>\n      <td>0.000000</td>\n      <td>0.187065</td>\n      <td>0.0</td>\n      <td>0.000000</td>\n      <td>0.000000</td>\n      <td>0.000000</td>\n      <td>0.000000</td>\n      <td>0.0</td>\n      <td>0.000000</td>\n      <td>0.000000</td>\n      <td>0.000000</td>\n      <td>0.000000</td>\n      <td>0.000000</td>\n      <td>0.190748</td>\n      <td>0.000000</td>\n      <td>0.000000</td>\n      <td>0.0</td>\n      <td>0.0</td>\n      <td>0.0</td>\n      <td>0.0</td>\n      <td>0.0</td>\n      <td>0.000000</td>\n      <td>0.000000</td>\n      <td>0.222132</td>\n      <td>0.000000</td>\n      <td>0.212284</td>\n      <td>0.0</td>\n      <td>0.000000</td>\n      <td>0.289408</td>\n      <td>0.0</td>\n      <td>0.000000</td>\n      <td>0.000000</td>\n      <td>0.000000</td>\n      <td>0.000000</td>\n      <td>0.0</td>\n      <td>0.000000</td>\n      <td>0.000000</td>\n      <td>0.0</td>\n      <td>0.186925</td>\n      <td>0.000000</td>\n      <td>0.000000</td>\n      <td>0.000000</td>\n      <td>0.000000</td>\n      <td>0.000000</td>\n      <td>0.0</td>\n      <td>0.000000</td>\n      <td>0.000000</td>\n      <td>0.000000</td>\n      <td>0.000000</td>\n      <td>0.000000</td>\n      <td>0.000000</td>\n      <td>0.000000</td>\n      <td>0.000000</td>\n      <td>0.0</td>\n      <td>0.0</td>\n      <td>0.0</td>\n      <td>0.0</td>\n      <td>0.0</td>\n      <td>0.0</td>\n      <td>0.0</td>\n      <td>0.0</td>\n      <td>0.0</td>\n      <td>0.0</td>\n      <td>0.0</td>\n      <td>0.0</td>\n      <td>0.0</td>\n      <td>0.0</td>\n      <td>0.0</td>\n      <td>0.0</td>\n      <td>0.0</td>\n      <td>0.0</td>\n      <td>0.0</td>\n      <td>0.0</td>\n      <td>0.0</td>\n      <td>0.0</td>\n      <td>0.0</td>\n      <td>0.0</td>\n      <td>0.0</td>\n      <td>0.0</td>\n      <td>0.0</td>\n      <td>0.0</td>\n      <td>0.0</td>\n      <td>0.0</td>\n      <td>0.0</td>\n      <td>0.0</td>\n      <td>0.0</td>\n      <td>0.0</td>\n      <td>0.0</td>\n      <td>0.0</td>\n      <td>0.0</td>\n      <td>0.0</td>\n      <td>0.0</td>\n      <td>0.0</td>\n      <td>0.0</td>\n      <td>0.0</td>\n      <td>0.0</td>\n      <td>0.0</td>\n      <td>0.0</td>\n      <td>0.0</td>\n      <td>0.0</td>\n      <td>0.0</td>\n      <td>0.0</td>\n      <td>0.0</td>\n      <td>0.0</td>\n      <td>0.0</td>\n      <td>0.0</td>\n      <td>0.0</td>\n      <td>1.0</td>\n      <td>0.0</td>\n      <td>0.0</td>\n      <td>0.0</td>\n      <td>0.0</td>\n      <td>0.0</td>\n      <td>0.0</td>\n      <td>0.0</td>\n      <td>0.0</td>\n      <td>0.0</td>\n      <td>0.0</td>\n      <td>0.0</td>\n      <td>0.0</td>\n      <td>0.0</td>\n      <td>0.0</td>\n      <td>0.0</td>\n      <td>0.0</td>\n      <td>0.0</td>\n      <td>0.0</td>\n      <td>0.0</td>\n      <td>0.0</td>\n      <td>0.0</td>\n      <td>0.0</td>\n      <td>0.0</td>\n      <td>0.0</td>\n      <td>0.0</td>\n      <td>0.0</td>\n      <td>0.0</td>\n      <td>0.0</td>\n      <td>0.0</td>\n      <td>0.0</td>\n      <td>0.0</td>\n      <td>0.0</td>\n      <td>0.0</td>\n      <td>0.0</td>\n      <td>0.0</td>\n      <td>0.0</td>\n      <td>0.0</td>\n      <td>0.0</td>\n      <td>0.0</td>\n      <td>0.0</td>\n      <td>0.0</td>\n      <td>0.0</td>\n      <td>0.0</td>\n      <td>0.0</td>\n      <td>0.0</td>\n      <td>1</td>\n    </tr>\n    <tr>\n      <th>2</th>\n      <td>22</td>\n      <td>11</td>\n      <td>241</td>\n      <td>0</td>\n      <td>0</td>\n      <td>1.0</td>\n      <td>0.0</td>\n      <td>0.0</td>\n      <td>1.0</td>\n      <td>0.0</td>\n      <td>2.200000</td>\n      <td>2.0</td>\n      <td>0.0</td>\n      <td>2.000000</td>\n      <td>2.250000</td>\n      <td>21.909091</td>\n      <td>11</td>\n      <td>13</td>\n      <td>1</td>\n      <td>0</td>\n      <td>0</td>\n      <td>0.000000</td>\n      <td>0.000000</td>\n      <td>0.000000</td>\n      <td>0.000000</td>\n      <td>0.326747</td>\n      <td>0.000000</td>\n      <td>0.326068</td>\n      <td>0.000000</td>\n      <td>0.000000</td>\n      <td>0.000000</td>\n      <td>0.00000</td>\n      <td>0.152764</td>\n      <td>0.0</td>\n      <td>0.000000</td>\n      <td>0.367734</td>\n      <td>0.000000</td>\n      <td>0.296292</td>\n      <td>0.000000</td>\n      <td>0.00000</td>\n      <td>0.000000</td>\n      <td>0.000000</td>\n      <td>0.000000</td>\n      <td>0.325076</td>\n      <td>0.0</td>\n      <td>0.000000</td>\n      <td>0.000000</td>\n      <td>0.000000</td>\n      <td>0.165395</td>\n      <td>0.151137</td>\n      <td>0.163328</td>\n      <td>0.165001</td>\n      <td>0.0</td>\n      <td>0.000000</td>\n      <td>0.0</td>\n      <td>0.0</td>\n      <td>0.000000</td>\n      <td>0.000000</td>\n      <td>0.0</td>\n      <td>0.000000</td>\n      <td>0.155325</td>\n      <td>0.000000</td>\n      <td>0.000000</td>\n      <td>0.000000</td>\n      <td>0.000000</td>\n      <td>0.000000</td>\n      <td>0.0</td>\n      <td>0.000000</td>\n      <td>0.000000</td>\n      <td>0.000000</td>\n      <td>0.0</td>\n      <td>0.000000</td>\n      <td>0.000000</td>\n      <td>0.000000</td>\n      <td>0.000000</td>\n      <td>0.0</td>\n      <td>0.155387</td>\n      <td>0.000000</td>\n      <td>0.319592</td>\n      <td>0.000000</td>\n      <td>0.000000</td>\n      <td>0.146048</td>\n      <td>0.000000</td>\n      <td>0.000000</td>\n      <td>0.0</td>\n      <td>0.0</td>\n      <td>0.0</td>\n      <td>0.0</td>\n      <td>0.0</td>\n      <td>0.000000</td>\n      <td>0.000000</td>\n      <td>0.170078</td>\n      <td>0.000000</td>\n      <td>0.162538</td>\n      <td>0.0</td>\n      <td>0.000000</td>\n      <td>0.000000</td>\n      <td>0.0</td>\n      <td>0.000000</td>\n      <td>0.000000</td>\n      <td>0.000000</td>\n      <td>0.000000</td>\n      <td>0.0</td>\n      <td>0.161666</td>\n      <td>0.161688</td>\n      <td>0.0</td>\n      <td>0.143121</td>\n      <td>0.000000</td>\n      <td>0.000000</td>\n      <td>0.175899</td>\n      <td>0.000000</td>\n      <td>0.000000</td>\n      <td>0.0</td>\n      <td>0.000000</td>\n      <td>0.000000</td>\n      <td>0.000000</td>\n      <td>0.000000</td>\n      <td>0.000000</td>\n      <td>0.000000</td>\n      <td>0.000000</td>\n      <td>0.000000</td>\n      <td>0.0</td>\n      <td>0.0</td>\n      <td>0.0</td>\n      <td>0.0</td>\n      <td>0.0</td>\n      <td>0.0</td>\n      <td>0.0</td>\n      <td>0.0</td>\n      <td>0.0</td>\n      <td>0.0</td>\n      <td>0.0</td>\n      <td>0.0</td>\n      <td>0.0</td>\n      <td>0.0</td>\n      <td>0.0</td>\n      <td>0.0</td>\n      <td>0.0</td>\n      <td>0.0</td>\n      <td>0.0</td>\n      <td>0.0</td>\n      <td>0.0</td>\n      <td>0.0</td>\n      <td>0.0</td>\n      <td>0.0</td>\n      <td>0.0</td>\n      <td>0.0</td>\n      <td>0.0</td>\n      <td>0.0</td>\n      <td>0.0</td>\n      <td>0.0</td>\n      <td>0.0</td>\n      <td>0.0</td>\n      <td>0.0</td>\n      <td>0.0</td>\n      <td>0.0</td>\n      <td>0.0</td>\n      <td>0.0</td>\n      <td>0.0</td>\n      <td>0.0</td>\n      <td>0.0</td>\n      <td>0.0</td>\n      <td>0.0</td>\n      <td>0.0</td>\n      <td>0.0</td>\n      <td>0.0</td>\n      <td>0.0</td>\n      <td>0.0</td>\n      <td>0.0</td>\n      <td>0.0</td>\n      <td>0.0</td>\n      <td>0.0</td>\n      <td>0.0</td>\n      <td>0.0</td>\n      <td>0.0</td>\n      <td>0.0</td>\n      <td>0.0</td>\n      <td>0.0</td>\n      <td>0.0</td>\n      <td>0.0</td>\n      <td>0.0</td>\n      <td>0.0</td>\n      <td>0.0</td>\n      <td>0.0</td>\n      <td>0.0</td>\n      <td>0.0</td>\n      <td>0.0</td>\n      <td>0.0</td>\n      <td>0.0</td>\n      <td>0.0</td>\n      <td>0.0</td>\n      <td>0.0</td>\n      <td>0.0</td>\n      <td>0.0</td>\n      <td>0.0</td>\n      <td>0.0</td>\n      <td>0.0</td>\n      <td>0.0</td>\n      <td>0.0</td>\n      <td>0.0</td>\n      <td>0.0</td>\n      <td>0.0</td>\n      <td>0.0</td>\n      <td>0.0</td>\n      <td>0.0</td>\n      <td>0.0</td>\n      <td>0.0</td>\n      <td>0.0</td>\n      <td>0.0</td>\n      <td>0.0</td>\n      <td>0.0</td>\n      <td>0.0</td>\n      <td>0.0</td>\n      <td>0.0</td>\n      <td>0.0</td>\n      <td>0.0</td>\n      <td>0.0</td>\n      <td>0.0</td>\n      <td>0.0</td>\n      <td>0.0</td>\n      <td>0.0</td>\n      <td>1</td>\n    </tr>\n    <tr>\n      <th>3</th>\n      <td>47</td>\n      <td>6</td>\n      <td>41</td>\n      <td>0</td>\n      <td>0</td>\n      <td>0.0</td>\n      <td>0.0</td>\n      <td>0.0</td>\n      <td>1.0</td>\n      <td>1.0</td>\n      <td>4.550000</td>\n      <td>8.0</td>\n      <td>29.0</td>\n      <td>4.800000</td>\n      <td>4.466667</td>\n      <td>6.833333</td>\n      <td>13</td>\n      <td>12</td>\n      <td>1</td>\n      <td>0</td>\n      <td>0</td>\n      <td>0.000000</td>\n      <td>0.051097</td>\n      <td>0.099407</td>\n      <td>0.087598</td>\n      <td>0.000000</td>\n      <td>0.192483</td>\n      <td>0.049504</td>\n      <td>0.083478</td>\n      <td>0.000000</td>\n      <td>0.000000</td>\n      <td>0.00000</td>\n      <td>0.092771</td>\n      <td>0.0</td>\n      <td>0.157222</td>\n      <td>0.000000</td>\n      <td>0.044817</td>\n      <td>0.000000</td>\n      <td>0.000000</td>\n      <td>0.00000</td>\n      <td>0.000000</td>\n      <td>0.000000</td>\n      <td>0.180025</td>\n      <td>0.000000</td>\n      <td>0.0</td>\n      <td>0.134194</td>\n      <td>0.000000</td>\n      <td>0.273960</td>\n      <td>0.150662</td>\n      <td>0.183566</td>\n      <td>0.148780</td>\n      <td>0.000000</td>\n      <td>0.0</td>\n      <td>0.134846</td>\n      <td>0.0</td>\n      <td>0.0</td>\n      <td>0.081714</td>\n      <td>0.255969</td>\n      <td>0.0</td>\n      <td>0.000000</td>\n      <td>0.047163</td>\n      <td>0.000000</td>\n      <td>0.159160</td>\n      <td>0.000000</td>\n      <td>0.185226</td>\n      <td>0.130503</td>\n      <td>0.0</td>\n      <td>0.146159</td>\n      <td>0.054831</td>\n      <td>0.130471</td>\n      <td>0.0</td>\n      <td>0.186667</td>\n      <td>0.196652</td>\n      <td>0.064543</td>\n      <td>0.132027</td>\n      <td>0.0</td>\n      <td>0.000000</td>\n      <td>0.093296</td>\n      <td>0.097041</td>\n      <td>0.049041</td>\n      <td>0.000000</td>\n      <td>0.088693</td>\n      <td>0.093235</td>\n      <td>0.000000</td>\n      <td>0.0</td>\n      <td>0.0</td>\n      <td>0.0</td>\n      <td>0.0</td>\n      <td>0.0</td>\n      <td>0.052269</td>\n      <td>0.160015</td>\n      <td>0.051643</td>\n      <td>0.000000</td>\n      <td>0.246766</td>\n      <td>0.0</td>\n      <td>0.080587</td>\n      <td>0.000000</td>\n      <td>0.0</td>\n      <td>0.000000</td>\n      <td>0.000000</td>\n      <td>0.000000</td>\n      <td>0.203775</td>\n      <td>0.0</td>\n      <td>0.294531</td>\n      <td>0.049095</td>\n      <td>0.0</td>\n      <td>0.086915</td>\n      <td>0.202677</td>\n      <td>0.000000</td>\n      <td>0.053410</td>\n      <td>0.135054</td>\n      <td>0.065987</td>\n      <td>0.0</td>\n      <td>0.000000</td>\n      <td>0.046821</td>\n      <td>0.188003</td>\n      <td>0.000000</td>\n      <td>0.000000</td>\n      <td>0.000000</td>\n      <td>0.000000</td>\n      <td>0.102325</td>\n      <td>0.0</td>\n      <td>0.0</td>\n      <td>0.0</td>\n      <td>0.0</td>\n      <td>0.0</td>\n      <td>0.0</td>\n      <td>0.0</td>\n      <td>0.0</td>\n      <td>0.0</td>\n      <td>0.0</td>\n      <td>0.0</td>\n      <td>0.0</td>\n      <td>0.0</td>\n      <td>0.0</td>\n      <td>0.0</td>\n      <td>0.0</td>\n      <td>0.0</td>\n      <td>0.0</td>\n      <td>0.0</td>\n      <td>0.0</td>\n      <td>0.0</td>\n      <td>0.0</td>\n      <td>0.0</td>\n      <td>0.0</td>\n      <td>0.0</td>\n      <td>0.0</td>\n      <td>0.0</td>\n      <td>0.0</td>\n      <td>0.0</td>\n      <td>0.0</td>\n      <td>0.0</td>\n      <td>0.0</td>\n      <td>0.0</td>\n      <td>0.0</td>\n      <td>0.0</td>\n      <td>0.0</td>\n      <td>0.0</td>\n      <td>0.0</td>\n      <td>0.0</td>\n      <td>0.0</td>\n      <td>0.0</td>\n      <td>0.0</td>\n      <td>0.0</td>\n      <td>0.0</td>\n      <td>0.0</td>\n      <td>0.0</td>\n      <td>0.0</td>\n      <td>0.0</td>\n      <td>0.0</td>\n      <td>0.0</td>\n      <td>0.0</td>\n      <td>0.0</td>\n      <td>0.0</td>\n      <td>0.0</td>\n      <td>0.0</td>\n      <td>0.0</td>\n      <td>0.0</td>\n      <td>0.0</td>\n      <td>0.0</td>\n      <td>0.0</td>\n      <td>0.0</td>\n      <td>0.0</td>\n      <td>0.0</td>\n      <td>0.0</td>\n      <td>0.0</td>\n      <td>0.0</td>\n      <td>0.0</td>\n      <td>0.0</td>\n      <td>0.0</td>\n      <td>0.0</td>\n      <td>0.0</td>\n      <td>0.0</td>\n      <td>0.0</td>\n      <td>0.0</td>\n      <td>0.0</td>\n      <td>0.0</td>\n      <td>0.0</td>\n      <td>0.0</td>\n      <td>0.0</td>\n      <td>0.0</td>\n      <td>0.0</td>\n      <td>0.0</td>\n      <td>0.0</td>\n      <td>0.0</td>\n      <td>0.0</td>\n      <td>0.0</td>\n      <td>0.0</td>\n      <td>0.0</td>\n      <td>0.0</td>\n      <td>0.0</td>\n      <td>0.0</td>\n      <td>0.0</td>\n      <td>0.0</td>\n      <td>0.0</td>\n      <td>0.0</td>\n      <td>0.0</td>\n      <td>0.0</td>\n      <td>0.0</td>\n      <td>0.0</td>\n      <td>0.0</td>\n      <td>1</td>\n    </tr>\n    <tr>\n      <th>4</th>\n      <td>34</td>\n      <td>4</td>\n      <td>36</td>\n      <td>0</td>\n      <td>0</td>\n      <td>0.0</td>\n      <td>0.0</td>\n      <td>0.0</td>\n      <td>1.0</td>\n      <td>1.0</td>\n      <td>4.222222</td>\n      <td>13.0</td>\n      <td>31.0</td>\n      <td>5.000000</td>\n      <td>3.727273</td>\n      <td>9.000000</td>\n      <td>13</td>\n      <td>12</td>\n      <td>1</td>\n      <td>0</td>\n      <td>0</td>\n      <td>0.000000</td>\n      <td>0.135142</td>\n      <td>0.000000</td>\n      <td>0.000000</td>\n      <td>0.065601</td>\n      <td>0.254544</td>\n      <td>0.000000</td>\n      <td>0.000000</td>\n      <td>0.000000</td>\n      <td>0.000000</td>\n      <td>0.00000</td>\n      <td>0.000000</td>\n      <td>0.0</td>\n      <td>0.138609</td>\n      <td>0.000000</td>\n      <td>0.118533</td>\n      <td>0.118974</td>\n      <td>0.000000</td>\n      <td>0.00000</td>\n      <td>0.000000</td>\n      <td>0.000000</td>\n      <td>0.119035</td>\n      <td>0.000000</td>\n      <td>0.0</td>\n      <td>0.118307</td>\n      <td>0.000000</td>\n      <td>0.241527</td>\n      <td>0.132826</td>\n      <td>0.121376</td>\n      <td>0.000000</td>\n      <td>0.000000</td>\n      <td>0.0</td>\n      <td>0.000000</td>\n      <td>0.0</td>\n      <td>0.0</td>\n      <td>0.000000</td>\n      <td>0.338499</td>\n      <td>0.0</td>\n      <td>0.000000</td>\n      <td>0.062370</td>\n      <td>0.000000</td>\n      <td>0.000000</td>\n      <td>0.091928</td>\n      <td>0.367420</td>\n      <td>0.115053</td>\n      <td>0.0</td>\n      <td>0.193284</td>\n      <td>0.072510</td>\n      <td>0.172537</td>\n      <td>0.0</td>\n      <td>0.123426</td>\n      <td>0.000000</td>\n      <td>0.000000</td>\n      <td>0.000000</td>\n      <td>0.0</td>\n      <td>0.062394</td>\n      <td>0.185066</td>\n      <td>0.256659</td>\n      <td>0.000000</td>\n      <td>0.000000</td>\n      <td>0.000000</td>\n      <td>0.123296</td>\n      <td>0.000000</td>\n      <td>0.0</td>\n      <td>0.0</td>\n      <td>0.0</td>\n      <td>0.0</td>\n      <td>0.0</td>\n      <td>0.069122</td>\n      <td>0.070536</td>\n      <td>0.000000</td>\n      <td>0.000000</td>\n      <td>0.130532</td>\n      <td>0.0</td>\n      <td>0.106569</td>\n      <td>0.000000</td>\n      <td>0.0</td>\n      <td>0.071715</td>\n      <td>0.000000</td>\n      <td>0.000000</td>\n      <td>0.134738</td>\n      <td>0.0</td>\n      <td>0.129831</td>\n      <td>0.000000</td>\n      <td>0.0</td>\n      <td>0.114938</td>\n      <td>0.201018</td>\n      <td>0.000000</td>\n      <td>0.000000</td>\n      <td>0.059533</td>\n      <td>0.000000</td>\n      <td>0.0</td>\n      <td>0.000000</td>\n      <td>0.123833</td>\n      <td>0.248619</td>\n      <td>0.067321</td>\n      <td>0.137761</td>\n      <td>0.068264</td>\n      <td>0.072532</td>\n      <td>0.135316</td>\n      <td>0.0</td>\n      <td>0.0</td>\n      <td>0.0</td>\n      <td>0.0</td>\n      <td>0.0</td>\n      <td>0.0</td>\n      <td>0.0</td>\n      <td>0.0</td>\n      <td>0.0</td>\n      <td>0.0</td>\n      <td>0.0</td>\n      <td>0.0</td>\n      <td>0.0</td>\n      <td>0.0</td>\n      <td>0.0</td>\n      <td>0.0</td>\n      <td>0.0</td>\n      <td>0.0</td>\n      <td>0.0</td>\n      <td>0.0</td>\n      <td>0.0</td>\n      <td>0.0</td>\n      <td>0.0</td>\n      <td>0.0</td>\n      <td>0.0</td>\n      <td>0.0</td>\n      <td>0.0</td>\n      <td>0.0</td>\n      <td>0.0</td>\n      <td>0.0</td>\n      <td>0.0</td>\n      <td>0.0</td>\n      <td>0.0</td>\n      <td>0.0</td>\n      <td>0.0</td>\n      <td>0.0</td>\n      <td>0.0</td>\n      <td>0.0</td>\n      <td>0.0</td>\n      <td>0.0</td>\n      <td>0.0</td>\n      <td>0.0</td>\n      <td>0.0</td>\n      <td>0.0</td>\n      <td>0.0</td>\n      <td>0.0</td>\n      <td>0.0</td>\n      <td>0.0</td>\n      <td>0.0</td>\n      <td>0.0</td>\n      <td>0.0</td>\n      <td>0.0</td>\n      <td>0.0</td>\n      <td>0.0</td>\n      <td>0.0</td>\n      <td>0.0</td>\n      <td>0.0</td>\n      <td>0.0</td>\n      <td>0.0</td>\n      <td>0.0</td>\n      <td>0.0</td>\n      <td>0.0</td>\n      <td>0.0</td>\n      <td>0.0</td>\n      <td>0.0</td>\n      <td>0.0</td>\n      <td>0.0</td>\n      <td>0.0</td>\n      <td>0.0</td>\n      <td>0.0</td>\n      <td>0.0</td>\n      <td>0.0</td>\n      <td>0.0</td>\n      <td>0.0</td>\n      <td>0.0</td>\n      <td>0.0</td>\n      <td>0.0</td>\n      <td>0.0</td>\n      <td>0.0</td>\n      <td>0.0</td>\n      <td>0.0</td>\n      <td>0.0</td>\n      <td>0.0</td>\n      <td>0.0</td>\n      <td>0.0</td>\n      <td>0.0</td>\n      <td>0.0</td>\n      <td>0.0</td>\n      <td>0.0</td>\n      <td>0.0</td>\n      <td>0.0</td>\n      <td>0.0</td>\n      <td>0.0</td>\n      <td>0.0</td>\n      <td>0.0</td>\n      <td>0.0</td>\n      <td>0.0</td>\n      <td>0.0</td>\n      <td>0.0</td>\n      <td>0.0</td>\n      <td>1</td>\n    </tr>\n  </tbody>\n</table>\n</div>"
     },
     "metadata": {},
     "execution_count": 19
    }
   ],
   "source": [
    "X_train.head()\n"
   ]
  },
  {
   "source": [
    "## Mixed NB Approach 1 \n",
    "train a gaussian NB model on all features"
   ],
   "cell_type": "markdown",
   "metadata": {}
  },
  {
   "cell_type": "code",
   "execution_count": 20,
   "metadata": {},
   "outputs": [],
   "source": [
    "model_G = GaussianNB()\n",
    "clf_G = model_G.fit(X_train, y_train)\n",
    "y_pred = model_G.predict(X_test)"
   ]
  },
  {
   "cell_type": "code",
   "execution_count": 21,
   "metadata": {},
   "outputs": [
    {
     "output_type": "stream",
     "name": "stdout",
     "text": [
      "              precision    recall  f1-score   support\n\n           0       0.87      0.46      0.60      2338\n           1       0.47      0.98      0.63      2706\n           2       0.25      0.54      0.34       302\n           3       0.85      0.30      0.45      3706\n           4       0.53      0.69      0.60       314\n           5       0.45      1.00      0.62        80\n\n    accuracy                           0.56      9446\n   macro avg       0.57      0.66      0.54      9446\nweighted avg       0.71      0.56      0.54      9446\n\n"
     ]
    }
   ],
   "source": [
    "# train classification report\n",
    "y_train_pred = model_G.predict(X_train)\n",
    "print(classification_report(y_train, y_train_pred))"
   ]
  },
  {
   "cell_type": "code",
   "execution_count": 22,
   "metadata": {},
   "outputs": [
    {
     "output_type": "stream",
     "name": "stdout",
     "text": [
      "              precision    recall  f1-score   support\n\n           0       0.86      0.45      0.59       413\n           1       0.47      0.99      0.63       460\n           2       0.24      0.55      0.34        58\n           3       0.88      0.32      0.47       666\n           4       0.51      0.66      0.57        53\n           5       0.50      0.94      0.65        17\n\n    accuracy                           0.56      1667\n   macro avg       0.58      0.65      0.54      1667\nweighted avg       0.72      0.56      0.54      1667\n\n"
     ]
    }
   ],
   "source": [
    "# test classification report\n",
    "print(classification_report(y_test, y_pred))"
   ]
  },
  {
   "source": [
    "## Mixed NB Approach 2\n",
    "train three separate models using continuous, binary and categorical variables and then train the final model based on predictions from the first three models"
   ],
   "cell_type": "markdown",
   "metadata": {}
  },
  {
   "cell_type": "code",
   "execution_count": 23,
   "metadata": {},
   "outputs": [],
   "source": [
    "binary_cols = ['default_profile', 'default_profile_image', 'geo_enabled', 'default_profile_image', 'profile_use_background_image',                          'profile_background_tile', 'has_url', 'has_face']\n",
    "continuous_cols = ['statuses_count', 'followers_count', 'friends_count', 'favourites_count', 'listed_count', 'tweet_frequency',    \n",
    "                    'number_of_tags', 'number_of_mentions', 'tweet_weekend_frequency', 'tweet_weekday_frequency',               \n",
    "                    'following_to_followers_ratio', 'username_length', 'screen_name_length', 'username_spec_char_count', \n",
    "                    'screen_name_spec_char_count']\t\t\t\t\t\t\t\t\t\t\t\t"
   ]
  },
  {
   "cell_type": "code",
   "execution_count": 24,
   "metadata": {},
   "outputs": [],
   "source": [
    "train_binary = X_train[binary_cols]\n",
    "train_continuous = X_train[continuous_cols]\n",
    "train_text = X_train.drop(binary_cols+continuous_cols, axis=1) "
   ]
  },
  {
   "cell_type": "code",
   "execution_count": 25,
   "metadata": {},
   "outputs": [],
   "source": [
    "test_binary = X_test[binary_cols]\n",
    "test_continuous = X_test[continuous_cols]\n",
    "test_text = X_test.drop(binary_cols+continuous_cols, axis=1) "
   ]
  },
  {
   "cell_type": "code",
   "execution_count": 26,
   "metadata": {},
   "outputs": [],
   "source": [
    "# ----- Fit three models -----\n",
    "\n",
    "model_G = GaussianNB()\n",
    "clf_G = model_G.fit(train_continuous, y_train)\n",
    "\n",
    "model_M = MultinomialNB()\n",
    "clf_M = model_M.fit(train_text, y_train)\n",
    "\n",
    "model_B = BernoulliNB()\n",
    "clf_B = model_B.fit(train_binary, y_train)\n",
    "\n",
    "# ----- Get probability predictions from each model -----\n",
    "# On training data\n",
    "G_train_probas = model_G.predict_proba(train_continuous)\n",
    "M_train_probas = model_M.predict_proba(train_text)\n",
    "B_train_probas = model_B.predict_proba(train_binary)\n",
    "\n",
    "# And on testing data\n",
    "G_test_probas = model_G.predict_proba(test_continuous)\n",
    "M_test_probas = model_M.predict_proba(test_text)\n",
    "B_test_probas = model_B.predict_proba(test_binary)\n",
    "\n",
    "# Combine probability prediction for class=1 from both models\n",
    "X_new_train = np.c_[(G_train_probas[:,1], M_train_probas[:,1], B_train_probas[:,1])] # Train\n",
    "X_new_test = np.c_[(G_test_probas[:,1], M_test_probas[:,1], B_test_probas[:,1])] # Test\n",
    "\n",
    "\n",
    "# ----- Fit Gaussian model on the X_new -----\n",
    "model = GaussianNB()\n",
    "clf = model.fit(X_new_train, y_train)\n",
    "y_pred = model.predict(X_new_test)"
   ]
  },
  {
   "cell_type": "code",
   "execution_count": 27,
   "metadata": {},
   "outputs": [
    {
     "output_type": "stream",
     "name": "stdout",
     "text": [
      "              precision    recall  f1-score   support\n\n           0    0.77404   0.28571   0.41737      2338\n           1    0.97411   0.91759   0.94500      2706\n           2    0.31469   0.29801   0.30612       302\n           3    0.76551   0.63249   0.69267      3706\n           4    0.25741   0.96815   0.40669       314\n           5    0.05116   0.96250   0.09716        80\n\n    accuracy                        0.63159      9446\n   macro avg    0.52282   0.67741   0.47750      9446\nweighted avg    0.79003   0.63159   0.66991      9446\n\n"
     ]
    }
   ],
   "source": [
    "# train classification report\n",
    "y_train_pred = model.predict(X_new_train)\n",
    "print(classification_report(y_train, y_train_pred, digits=5))"
   ]
  },
  {
   "cell_type": "code",
   "execution_count": 28,
   "metadata": {},
   "outputs": [
    {
     "output_type": "stream",
     "name": "stdout",
     "text": [
      "              precision    recall  f1-score   support\n\n           0    0.77419   0.29056   0.42254       413\n           1    0.97706   0.92609   0.95089       460\n           2    0.37500   0.31034   0.33962        58\n           3    0.74862   0.61261   0.67382       666\n           4    0.26131   0.98113   0.41270        53\n           5    0.05634   0.94118   0.10631        17\n\n    accuracy                        0.62388      1667\n   macro avg    0.53209   0.67698   0.48431      1667\nweighted avg    0.78244   0.62388   0.66231      1667\n\n"
     ]
    }
   ],
   "source": [
    "# test classification report\n",
    "print(classification_report(y_test, y_pred, digits=5))"
   ]
  },
  {
   "source": [
    "## Hyperparameter Tuning"
   ],
   "cell_type": "markdown",
   "metadata": {}
  },
  {
   "cell_type": "code",
   "execution_count": 29,
   "metadata": {},
   "outputs": [],
   "source": [
    "param_grid = {\n",
    "    'var_smoothing': np.logspace(0,-9, num=100)\n",
    "}\n",
    "cv_method = RepeatedStratifiedKFold(n_splits=5, \n",
    "                                    n_repeats=3, \n",
    "                                    random_state=999)"
   ]
  },
  {
   "source": [
    "For approach 1:"
   ],
   "cell_type": "markdown",
   "metadata": {}
  },
  {
   "cell_type": "code",
   "execution_count": 34,
   "metadata": {},
   "outputs": [
    {
     "output_type": "stream",
     "name": "stdout",
     "text": [
      "Fitting 15 folds for each of 10 candidates, totalling 150 fits\n",
      "--------------------------------------------------------\n",
      "Best Estimator:  GaussianNB(var_smoothing=1.2328467394420635e-09)\n"
     ]
    }
   ],
   "source": [
    "model_grid1 = RandomizedSearchCV(estimator = GaussianNB(), \n",
    "                            param_distributions = param_grid, \n",
    "                            verbose = 1, \n",
    "                            cv = cv_method,\n",
    "                            n_iter = 100,\n",
    "                            scoring = 'f1_weighted')\n",
    "model_grid1.fit(X_train, y_train)\n",
    "print('--------------------------------------------------------')\n",
    "print('Best Estimator: ', model_grid1.best_estimator_)"
   ]
  },
  {
   "cell_type": "code",
   "execution_count": 35,
   "metadata": {},
   "outputs": [
    {
     "output_type": "stream",
     "name": "stdout",
     "text": [
      "              precision    recall  f1-score   support\n\n           0    0.87121   0.45423   0.59713      2338\n           1    0.46764   0.97450   0.63200      2706\n           2    0.22290   0.48344   0.30512       302\n           3    0.85593   0.29978   0.44404      3706\n           4    0.48284   0.67197   0.56192       314\n           5    0.40404   1.00000   0.57554        80\n\n    accuracy                        0.55547      9446\n   macro avg    0.55076   0.64732   0.51929      9446\nweighted avg    0.71201   0.55547   0.53637      9446\n\n"
     ]
    }
   ],
   "source": [
    "# train classification report\n",
    "y_train_pred = model_grid1.predict(X_train)\n",
    "print(classification_report(y_train, y_train_pred, digits=5))"
   ]
  },
  {
   "cell_type": "code",
   "execution_count": 36,
   "metadata": {},
   "outputs": [
    {
     "output_type": "stream",
     "name": "stdout",
     "text": [
      "              precision    recall  f1-score   support\n\n           0    0.85849   0.44068   0.58240       413\n           1    0.46436   0.99130   0.63245       460\n           2    0.20312   0.44828   0.27957        58\n           3    0.88559   0.31381   0.46341       666\n           4    0.44000   0.62264   0.51562        53\n           5    0.47059   0.94118   0.62745        17\n\n    accuracy                        0.55309      1667\n   macro avg    0.55369   0.62631   0.51682      1667\nweighted avg    0.72050   0.55309   0.53648      1667\n\n"
     ]
    }
   ],
   "source": [
    "# test classification report\n",
    "y_pred = model_grid1.predict(X_test)\n",
    "print(classification_report(y_test, y_pred, digits=5))"
   ]
  },
  {
   "source": [
    "For approach 2:"
   ],
   "cell_type": "markdown",
   "metadata": {}
  },
  {
   "cell_type": "code",
   "execution_count": 30,
   "metadata": {},
   "outputs": [
    {
     "output_type": "stream",
     "name": "stdout",
     "text": [
      "Fitting 15 folds for each of 10 candidates, totalling 150 fits\n",
      "--------------------------------------------------------\n",
      "Best Estimator:  GaussianNB(var_smoothing=0.1873817422860384)\n"
     ]
    }
   ],
   "source": [
    "model_grid2 = RandomizedSearchCV(estimator = GaussianNB(), \n",
    "                            param_distributions = param_grid, \n",
    "                            verbose = 1, \n",
    "                            cv = cv_method,\n",
    "                            n_iter = 100,\n",
    "                            scoring = 'f1_weighted')\n",
    "model_grid2.fit(X_new_train, y_train)\n",
    "print('--------------------------------------------------------')\n",
    "print('Best Estimator: ', model_grid2.best_estimator_)"
   ]
  },
  {
   "cell_type": "code",
   "execution_count": 31,
   "metadata": {},
   "outputs": [
    {
     "output_type": "stream",
     "name": "stdout",
     "text": [
      "              precision    recall  f1-score   support\n\n           0    0.67773   0.45423   0.54392      2338\n           1    0.94935   0.91426   0.93148      2706\n           2    0.00000   0.00000   0.00000       302\n           3    0.66471   0.94576   0.78071      3706\n           4    0.00000   0.00000   0.00000       314\n           5    0.00000   0.00000   0.00000        80\n\n    accuracy                        0.74539      9446\n   macro avg    0.38196   0.38571   0.37602      9446\nweighted avg    0.70049   0.74539   0.70777      9446\n\n"
     ]
    }
   ],
   "source": [
    "# train classification report\n",
    "y_train_pred = model_grid2.predict(X_new_train)\n",
    "print(classification_report(y_train, y_train_pred, digits=5))"
   ]
  },
  {
   "cell_type": "code",
   "execution_count": 32,
   "metadata": {},
   "outputs": [
    {
     "output_type": "stream",
     "name": "stdout",
     "text": [
      "              precision    recall  f1-score   support\n\n           0    0.68116   0.45521   0.54572       413\n           1    0.96154   0.92391   0.94235       460\n           2    0.00000   0.00000   0.00000        58\n           3    0.65437   0.93243   0.76904       666\n           4    0.00000   0.00000   0.00000        53\n           5    0.00000   0.00000   0.00000        17\n\n    accuracy                        0.74025      1667\n   macro avg    0.38285   0.38526   0.37618      1667\nweighted avg    0.69552   0.74025   0.70249      1667\n\n"
     ]
    }
   ],
   "source": [
    "# test classification report\n",
    "y_pred = model_grid2.predict(X_new_test)\n",
    "print(classification_report(y_test, y_pred, digits=5))"
   ]
  },
  {
   "source": [
    "## Best NB Model\n",
    "Approach 2 has a higher recall score than approach 1."
   ],
   "cell_type": "markdown",
   "metadata": {}
  },
  {
   "source": [
    "## Run time"
   ],
   "cell_type": "markdown",
   "metadata": {}
  },
  {
   "cell_type": "code",
   "execution_count": 34,
   "metadata": {},
   "outputs": [
    {
     "output_type": "stream",
     "name": "stdout",
     "text": [
      "Run time:  0.11637187004089355\n"
     ]
    }
   ],
   "source": [
    "total_time = 0\n",
    "for i in range(100):\n",
    "    start_time = time()\n",
    "    model_time = GaussianNB(var_smoothing=0.1873817422860384)\n",
    "    clf_best = model_time.fit(X_new_train, y_train)\n",
    "    y_pred = model_time.predict(X_new_test)\n",
    "    run_time = time() - start_time\n",
    "    total_time += run_time\n",
    "avg_time = total_time / 100\n",
    "print(\"Run time: \", avg_time)\n",
    "print(\"Run time: \", run_time)"
   ]
  },
  {
   "source": [
    "## Feature importance"
   ],
   "cell_type": "markdown",
   "metadata": {}
  },
  {
   "cell_type": "code",
   "execution_count": 35,
   "metadata": {},
   "outputs": [],
   "source": [
    "imps = permutation_importance(model_time, X_test, y_test)"
   ]
  },
  {
   "cell_type": "code",
   "execution_count": 36,
   "metadata": {},
   "outputs": [
    {
     "output_type": "stream",
     "name": "stdout",
     "text": [
      "Index(['statuses_count', 'favourites_count', 'friends_count', 'tweets_49',\n       'tweets_60', 'tweets_59', 'tweets_58', 'tweets_57', 'tweets_56',\n       'tweets_55', 'tweets_54', 'tweets_53', 'tweets_52', 'tweets_51',\n       'tweets_50', 'tweets_48', 'tweets_62', 'tweets_47', 'tweets_46',\n       'tweets_45'],\n      dtype='object')\n"
     ]
    }
   ],
   "source": [
    "imps_sorted = imps.importances_mean.argsort()[::-1]\n",
    "\n",
    "print(np.take(X_train.columns, imps_sorted[: 20]))"
   ]
  },
  {
   "cell_type": "code",
   "execution_count": null,
   "metadata": {},
   "outputs": [],
   "source": []
  }
 ]
}