{
 "metadata": {
  "language_info": {
   "codemirror_mode": {
    "name": "ipython",
    "version": 3
   },
   "file_extension": ".py",
   "mimetype": "text/x-python",
   "name": "python",
   "nbconvert_exporter": "python",
   "pygments_lexer": "ipython3",
   "version": "3.8.5-final"
  },
  "orig_nbformat": 2,
  "kernelspec": {
   "name": "python3",
   "display_name": "Python 3.8.5 64-bit ('base': conda)",
   "metadata": {
    "interpreter": {
     "hash": "0b5e695f973a7cdd4fc74ba2ed65a7a37ab2a96a506d329d22c7ff6a81e833be"
    }
   }
  }
 },
 "nbformat": 4,
 "nbformat_minor": 2,
 "cells": [
  {
   "cell_type": "code",
   "execution_count": 87,
   "metadata": {},
   "outputs": [],
   "source": [
    "import pandas as pd \n",
    "import numpy as np \n",
    "import glob\n",
    "import matplotlib.pyplot as plt\n",
    "\n",
    "from sklearn.metrics import classification_report, confusion_matrix, roc_auc_score, roc_curve\n",
    "from sklearn.model_selection import GridSearchCV, RepeatedStratifiedKFold\n",
    "\n",
    "# Differnt types of Naive Bayes Classifiers\n",
    "from sklearn.naive_bayes import GaussianNB, MultinomialNB, BernoulliNB\n",
    "\n",
    "pd.set_option('display.max_columns', None)"
   ]
  },
  {
   "cell_type": "code",
   "execution_count": 2,
   "metadata": {},
   "outputs": [],
   "source": [
    "df = pd.read_csv('../twitter_data_train.csv')\n",
    "test = pd.read_csv('../twitter_data_test.csv')"
   ]
  },
  {
   "cell_type": "code",
   "execution_count": 3,
   "metadata": {},
   "outputs": [
    {
     "output_type": "execute_result",
     "data": {
      "text/plain": [
       "   0   \n",
       "3                                   Pra ue ler ssuh?             0   \n",
       "4                                                NaN             0   \n",
       "\n",
       "                                         tweets_list  tweet_frequency  \\\n",
       "0                                                NaN         0.000000   \n",
       "1  [\"'ccezionale!!!\", 'Pete Seeger Leads Amazing ...         2.143443   \n",
       "2  ['I love you and I always have.', '@nissimhg o...         4.961538   \n",
       "3  [\"Killing Me Softly, And I'm Still Falling!!!\"...         2.117647   \n",
       "4  [\"Watch how people i never fucked with gonna w...         4.450000   \n",
       "\n",
       "   number_of_tags  number_of_mentions  tweet_weekend_frequency  \\\n",
       "0             0.0                 0.0                 0.000000   \n",
       "1           203.0               273.0                 2.230769   \n",
       "2             7.0                47.0                 5.714286   \n",
       "3             6.0                 0.0                 2.000000   \n",
       "4             9.0                40.0                 4.428571   \n",
       "\n",
       "   tweet_weekday_frequency  following_to_followers_ratio  username_length  \\\n",
       "0                 0.000000                      1.091859               13   \n",
       "1                 2.111732                      0.952381               20   \n",
       "2                 4.684211                     10.500000               12   \n",
       "3                 2.166667                     22.000000               15   \n",
       "4                 4.461538                      7.800000               11   \n",
       "\n",
       "   screen_name_length  username_spec_char_count  screen_name_spec_char_count  \\\n",
       "0                  14                         1                            0   \n",
       "1                  15                         1                            0   \n",
       "2                  11                         1                            0   \n",
       "3                  15                         1                            0   \n",
       "4                  10                         1                            0   \n",
       "\n",
       "   has_url                              tweets_list_processed  \\\n",
       "0        0                                                NaN   \n",
       "1        0  ccezionale Pete Seeger Leads Amazing Grace  vi...   \n",
       "2        0  I love you and I always have nissimhg ok Never...   \n",
       "3        0  Killing Me Softly And Im Still Falling hj  eu ...   \n",
       "4        0  Watch how people i never fucked with gonna wan...   \n",
       "\n",
       "                               description_processed  tweets_0  tweets_1  \\\n",
       "0  i watch a lot of TV movies and webshows play a...  0.000000  0.000000   \n",
       "1  Despite unrealized hopes illusions disillusion...  0.038142  0.021589   \n",
       "2                                                NaN  0.000000  0.124728   \n",
       "3                                    Pra ue ler ssuh  0.000000  0.000000   \n",
       "4                                                NaN  0.000000  0.157312   \n",
       "\n",
       "   tweets_2  tweets_3  tweets_4  tweets_5  tweets_6  tweets_7  tweets_8  \\\n",
       "0  0.000000  0.000000  0.000000  0.000000  0.000000  0.000000  0.000000   \n",
       "1  0.056041  0.012284  0.041838  0.095130  0.118690  0.152606  0.020356   \n",
       "2  0.080944  0.000000  0.080573  0.235547  0.161347  0.000000  0.000000   \n",
       "3  0.000000  0.000000  0.000000  0.000000  0.000000  0.000000  0.000000   \n",
       "4  0.051045  0.000000  0.000000  0.247568  0.000000  0.000000  0.074165   \n",
       "\n",
       "   tweets_9  tweets_10  tweets_11  tweets_12  tweets_13  tweets_14  tweets_15  \\\n",
       "0  0.000000   0.000000   0.000000   0.000000   0.000000    0.00000   0.000000   \n",
       "1  0.024172   0.048153   0.013064   0.038478   0.022181    0.05482   0.063277   \n",
       "2  0.000000   0.000000   0.113219   0.000000   0.128149    0.00000   0.146232   \n",
       "3  0.000000   0.000000   0.000000   0.274940   0.000000    0.00000   0.000000   \n",
       "4  0.000000   0.000000   0.095198   0.070095   0.107751    0.00000   0.092217   \n",
       "\n",
       "   tweets_16  tweets_17  tweets_18  tweets_19  tweets_20  tweets_21  \\\n",
       "0   0.000000   0.000000   0.000000   0.000000   0.000000   0.000000   \n",
       "1   0.012672   0.060856   0.063827   0.085867   0.313918   0.050817   \n",
       "2   0.109815   0.000000   0.000000   0.000000   0.000000   0.183495   \n",
       "3   0.362176   0.000000   0.000000   0.000000   0.000000   0.000000   \n",
       "4   0.092335   0.000000   0.000000   0.000000   0.073789   0.185146   \n",
       "\n",
       "   tweets_22  tweets_23  tweets_24  tweets_25  tweets_26  tweets_27  \\\n",
       "0   0.000000        0.0   0.000000   0.000000   0.000000   0.000000   \n",
       "1   0.062401        0.0   0.063123   0.012361   0.032216   0.014149   \n",
       "2   0.160230        0.0   0.145876   0.000000   0.111675   0.204360   \n",
       "3   0.198169        0.0   0.000000   0.000000   0.000000   0.000000   \n",
       "4   0.050522        0.0   0.275978   0.000000   0.187799   0.103099   \n",
       "\n",
       "   tweets_28  tweets_29  tweets_30  tweets_31  tweets_32  tweets_33  \\\n",
       "0   0.000000   0.000000   0.000000        0.0   0.000000   0.000000   \n",
       "1   0.058162   0.055792   0.063741        0.0   0.082165   0.011346   \n",
       "2   0.149347   0.161168   0.122755        0.0   0.146063   0.000000   \n",
       "3   0.184708   0.199328   0.000000        0.0   0.000000   0.000000   \n",
       "4   0.094181   0.000000   0.051608        0.0   0.092110   0.000000   \n",
       "\n",
       "   tweets_34  tweets_35  tweets_36  tweets_37  tweets_38  tweets_39  \\\n",
       "0   0.000000   0.000000   0.000000        0.0        0.0   0.000000   \n",
       "1   0.042888   0.149012   0.144331        0.0        0.0   0.026540   \n",
       "2   0.000000   0.000000   0.208467        0.0        0.0   0.191669   \n",
       "3   0.000000   0.000000   0.171885        0.0        0.0   0.000000   \n",
       "4   0.000000   0.000000   0.175285        0.0        0.0   0.241741   \n",
       "\n",
       "   tweets_40  tweets_41  tweets_42  tweets_43  tweets_44  tweets_45  \\\n",
       "0   0.000000   0.000000   0.000000   0.000000   0.000000   0.000000   \n",
       "1   0.165537   0.097279   0.029203   0.071930   0.091942   0.057225   \n",
       "2   0.083164   0.086466   0.000000   0.264456   0.177064   0.055103   \n",
       "3   0.205710   0.000000   0.000000   0.000000   0.175191   0.000000   \n",
       "4   0.000000   0.000000   0.070933   0.190596   0.089328   0.000000   \n",
       "\n",
       "   tweets_46  tweets_47  tweets_48  tweets_49  tweets_50  tweets_51  \\\n",
       "0   0.000000   0.000000   0.000000   0.000000   0.000000   0.000000   \n",
       "1   0.150780   0.015366   0.067382   0.012284   0.026337   0.041589   \n",
       "2   0.118790   0.133165   0.176953   0.000000   0.038040   0.160186   \n",
       "3   0.000000   0.000000   0.000000   0.000000   0.000000   0.000000   \n",
       "4   0.199765   0.055985   0.133909   0.000000   0.143932   0.050508   \n",
       "\n",
       "   tweets_52  tweets_53  tweets_54  tweets_55  tweets_56  tweets_57  \\\n",
       "0   0.000000        0.0   0.000000   0.000000   0.000000   0.000000   \n",
       "1   0.027213        0.0   0.031038   0.039831   0.052583   0.041122   \n",
       "2   0.000000        0.0   0.044830   0.153417   0.151897   0.158387   \n",
       "3   0.259267        0.0   0.000000   0.189742   0.000000   0.000000   \n",
       "4   0.066099        0.0   0.113083   0.145122   0.047895   0.099882   \n",
       "\n",
       "   tweets_58  tweets_59  tweets_60  tweets_61  tweets_62  tweets_63  \\\n",
       "0   0.000000   0.000000   0.000000   0.000000   0.000000   0.000000   \n",
       "1   0.069171   0.078091   0.087843   0.039400   0.193246   0.000000   \n",
       "2   0.039964   0.000000   0.181253   0.189696   0.000000   0.075238   \n",
       "3   0.000000   0.000000   0.000000   0.187689   0.000000   0.000000   \n",
       "4   0.050404   0.000000   0.137163   0.143552   0.000000   0.000000   \n",
       "\n",
       "   tweets_64  tweets_65  tweets_66  tweets_67  tweets_68  tweets_69  \\\n",
       "0   0.000000   0.000000   0.000000        0.0   0.000000   0.000000   \n",
       "1   0.060958   0.011469   0.010106        0.0   0.117724   0.037668   \n",
       "2   0.000000   0.000000   0.000000        0.0   0.085019   0.043526   \n",
       "3   0.000000   0.000000   0.000000        0.0   0.000000   0.000000   \n",
       "4   0.000000   0.000000   0.073637        0.0   0.000000   0.109793   \n",
       "\n",
       "   tweets_70  tweets_71  tweets_72  tweets_73  tweets_74  tweets_75  \\\n",
       "0   0.000000   0.000000   0.000000   0.000000   0.000000   0.000000   \n",
       "1   0.043628   0.000000   0.027865   0.011732   0.034000   0.056675   \n",
       "2   0.042010   0.000000   0.080494   0.000000   0.000000   0.054573   \n",
       "3   0.000000   0.248263   0.000000   0.000000   0.000000   0.000000   \n",
       "4   0.105970   0.000000   0.101523   0.000000   0.082584   0.000000   \n",
       "\n",
       "   tweets_76  tweets_77  tweets_78  tweets_79  tweets_80  tweets_81  \\\n",
       "0   0.000000   0.000000   0.000000   0.000000    0.00000   0.000000   \n",
       "1   0.090229   0.007640   0.023677   0.011119    0.02157   0.018996   \n",
       "2   0.000000   0.044137   0.068396   0.000000    0.04154   0.000000   \n",
       "3   0.000000   0.000000   0.000000   0.000000    0.00000   0.000000   \n",
       "4   0.000000   0.055668   0.000000   0.000000    0.00000   0.000000   \n",
       "\n",
       "   tweets_82  tweets_83  tweets_84  tweets_85  tweets_86  tweets_87  \\\n",
       "0   0.000000   0.000000   0.000000   0.000000   0.000000   0.000000   \n",
       "1   0.013823   0.041560   0.010537   0.098256   0.071135   0.036775   \n",
       "2   0.159722   0.120056   0.000000   0.141918   0.000000   0.000000   \n",
       "3   0.000000   0.000000   0.000000   0.175521   0.000000   0.000000   \n",
       "4   0.352534   0.151420   0.000000   0.178993   0.051835   0.000000   \n",
       "\n",
       "   tweets_88  tweets_89  tweets_90  tweets_91  tweets_92  tweets_93  \\\n",
       "0   0.000000   0.000000   0.000000   0.000000    0.00000   0.000000   \n",
       "1   0.000000   0.038142   0.102021   0.063007    0.72112   0.032947   \n",
       "2   0.000000   0.110182   0.000000   0.000000    0.00000   0.114210   \n",
       "3   0.430782   0.000000   0.265085   0.000000    0.00000   0.000000   \n",
       "4   0.000000   0.138967   0.067582   0.000000    0.00000   0.048015   \n",
       "\n",
       "   tweets_94  tweets_95  tweets_96  tweets_97  tweets_98  tweets_99  \\\n",
       "0   0.000000   0.000000   0.000000   0.000000   0.000000   0.000000   \n",
       "1   0.006625   0.014327   0.014703   0.058188   0.000000   0.021601   \n",
       "2   0.153111   0.082772   0.042472   0.084044   0.000000   0.124799   \n",
       "3   0.000000   0.204740   0.000000   0.000000   0.221159   0.000000   \n",
       "4   0.096555   0.208791   0.053567   0.106000   0.169151   0.104935   \n",
       "\n",
       "   description_0  description_1  description_2  description_3  description_4  \\\n",
       "0            0.0            0.0            0.0            0.0            0.0   \n",
       "1            0.0            0.0            0.0            0.0            0.0   \n",
       "2            0.0            0.0            0.0            0.0            0.0   \n",
       "3            0.0            0.0            0.0            0.0            0.0   \n",
       "4            0.0            0.0            0.0            0.0            0.0   \n",
       "\n",
       "   description_5  description_6  description_7  description_8  description_9  \\\n",
       "0            0.0            0.0            0.0            0.0            0.0   \n",
       "1            0.0            0.0            0.0            0.0            0.0   \n",
       "2            0.0            0.0            0.0            0.0            0.0   \n",
       "3            0.0            0.0            0.0            0.0            0.0   \n",
       "4            0.0            0.0            0.0            0.0            0.0   \n",
       "\n",
       "   description_10  description_11  description_12  description_13  \\\n",
       "0             0.0             0.0             0.0             0.0   \n",
       "1             0.0             0.0             0.0             0.0   \n",
       "2             0.0             0.0             0.0             0.0   \n",
       "3             0.0             0.0             0.0             0.0   \n",
       "4             0.0             0.0             0.0             0.0   \n",
       "\n",
       "   description_14  description_15  description_16  description_17  \\\n",
       "0             0.0             0.0             0.0             0.0   \n",
       "1             0.0             0.0             0.0             0.0   \n",
       "2             0.0             0.0             0.0             0.0   \n",
       "3             0.0             0.0             0.0             0.0   \n",
       "4             0.0             0.0             0.0             0.0   \n",
       "\n",
       "   description_18  description_19  description_20  description_21  \\\n",
       "0             0.0             0.0             0.0             0.0   \n",
       "1             0.0             0.0             0.0             0.0   \n",
       "2             0.0             0.0             0.0             0.0   \n",
       "3             0.0             0.0             0.0             0.0   \n",
       "4             0.0             0.0             0.0             0.0   \n",
       "\n",
       "   description_22  description_23  description_24  description_25  \\\n",
       "0             0.0             0.0             0.0             0.0   \n",
       "1             0.0             0.0             0.0             0.0   \n",
       "2             0.0             0.0             0.0             0.0   \n",
       "3             0.0             0.0             0.0             0.0   \n",
       "4             0.0             0.0             0.0             0.0   \n",
       "\n",
       "   description_26  description_27  description_28  description_29  \\\n",
       "0             0.0             0.0             0.0             0.0   \n",
       "1             0.0             0.0             0.0             0.0   \n",
       "2             0.0             0.0             0.0             0.0   \n",
       "3             0.0             0.0             0.0             0.0   \n",
       "4             0.0             0.0             0.0             0.0   \n",
       "\n",
       "   description_30  description_31  description_32  description_33  \\\n",
       "0             0.0             0.0             0.0             0.0   \n",
       "1             0.0             0.0             0.0             0.0   \n",
       "2             0.0             0.0             0.0             0.0   \n",
       "3             0.0             0.0             0.0             0.0   \n",
       "4             0.0             0.0             0.0             0.0   \n",
       "\n",
       "   description_34  description_35  description_36  description_37  \\\n",
       "0             0.0             0.0             0.0             0.0   \n",
       "1             0.0             0.0             0.0             0.0   \n",
       "2             0.0             0.0             0.0             0.0   \n",
       "3             0.0             0.0             0.0             0.0   \n",
       "4             0.0             0.0             0.0             0.0   \n",
       "\n",
       "   description_38  description_39  description_40  description_41  \\\n",
       "0             0.0             0.0             0.0             0.0   \n",
       "1             0.0             0.0             0.0             0.0   \n",
       "2             0.0             0.0             0.0             0.0   \n",
       "3             0.0             0.0             0.0             0.0   \n",
       "4             0.0             0.0             0.0             0.0   \n",
       "\n",
       "   description_42  description_43  description_44  description_45  \\\n",
       "0             0.0             0.0             0.0             0.0   \n",
       "1             0.0             0.0             0.0             1.0   \n",
       "2             0.0             0.0             0.0             0.0   \n",
       "3             0.0             0.0             0.0             0.0   \n",
       "4             0.0             0.0             0.0             0.0   \n",
       "\n",
       "   description_46  description_47  description_48  description_49  \\\n",
       "0             0.0             0.0             0.0             0.0   \n",
       "1             0.0             0.0             0.0             0.0   \n",
       "2             0.0             0.0             0.0             0.0   \n",
       "3             0.0             0.0             0.0             0.0   \n",
       "4             0.0             0.0             0.0             0.0   \n",
       "\n",
       "   description_50  description_51  description_52  description_53  \\\n",
       "0             0.0             0.0             0.0             0.0   \n",
       "1             0.0             0.0             0.0             0.0   \n",
       "2             0.0             0.0             0.0             0.0   \n",
       "3             0.0             0.0             0.0             0.0   \n",
       "4             0.0             0.0             0.0             0.0   \n",
       "\n",
       "   description_54  description_55  description_56  description_57  \\\n",
       "0             0.0             0.0             0.0             0.0   \n",
       "1             0.0             0.0             0.0             0.0   \n",
       "2             0.0             0.0             0.0             0.0   \n",
       "3             0.0             0.0             0.0             0.0   \n",
       "4             0.0             0.0             0.0             0.0   \n",
       "\n",
       "   description_58  description_59  description_60  description_61  \\\n",
       "0             0.0             0.0             0.0             0.0   \n",
       "1             0.0             0.0             0.0             0.0   \n",
       "2             0.0             0.0             0.0             0.0   \n",
       "3             0.0             0.0             0.0             0.0   \n",
       "4             0.0             0.0             0.0             0.0   \n",
       "\n",
       "   description_62  description_63  description_64  description_65  \\\n",
       "0             0.0             0.0             0.0             0.0   \n",
       "1             0.0             0.0             0.0             0.0   \n",
       "2             0.0             0.0             0.0             0.0   \n",
       "3             0.0             0.0             0.0             0.0   \n",
       "4             0.0             0.0             0.0             0.0   \n",
       "\n",
       "   description_66  description_67  description_68  description_69  \\\n",
       "0             0.0             0.0             0.0             0.0   \n",
       "1             0.0             0.0             0.0             0.0   \n",
       "2             0.0             0.0             0.0             0.0   \n",
       "3             0.0             0.0             0.0             0.0   \n",
       "4             0.0             0.0             0.0             0.0   \n",
       "\n",
       "   description_70  description_71  description_72  description_73  \\\n",
       "0             0.0             0.0             0.0             0.0   \n",
       "1             0.0             0.0             0.0             0.0   \n",
       "2             0.0             0.0             0.0             0.0   \n",
       "3             0.0             0.0             0.0             0.0   \n",
       "4             0.0             0.0             0.0             0.0   \n",
       "\n",
       "   description_74  description_75  description_76  description_77  \\\n",
       "0             0.0             0.0             0.0             0.0   \n",
       "1             0.0             0.0             0.0             0.0   \n",
       "2             0.0             0.0             0.0             0.0   \n",
       "3             0.0             0.0             0.0             0.0   \n",
       "4             0.0             0.0             0.0             0.0   \n",
       "\n",
       "   description_78  description_79  description_80  description_81  \\\n",
       "0        0.885267             0.0             0.0             0.0   \n",
       "1        0.000000             0.0             0.0             0.0   \n",
       "2        0.000000             0.0             0.0             0.0   \n",
       "3        0.000000             0.0             0.0             0.0   \n",
       "4        0.000000             0.0             0.0             0.0   \n",
       "\n",
       "   description_82  description_83  description_84  description_85  \\\n",
       "0             0.0             0.0             0.0             0.0   \n",
       "1             0.0             0.0             0.0             0.0   \n",
       "2             0.0             0.0             0.0             0.0   \n",
       "3             0.0             0.0             0.0             0.0   \n",
       "4             0.0             0.0             0.0             0.0   \n",
       "\n",
       "   description_86  description_87  description_88  description_89  \\\n",
       "0        0.465082             0.0             0.0             0.0   \n",
       "1        0.000000             0.0             0.0             0.0   \n",
       "2        0.000000             0.0             0.0             0.0   \n",
       "3        0.000000             0.0             0.0             0.0   \n",
       "4        0.000000             0.0             0.0             0.0   \n",
       "\n",
       "   description_90  description_91  description_92  description_93  \\\n",
       "0             0.0             0.0             0.0             0.0   \n",
       "1             0.0             0.0             0.0             0.0   \n",
       "2             0.0             0.0             0.0             0.0   \n",
       "3             0.0             0.0             0.0             0.0   \n",
       "4             0.0             0.0             0.0             0.0   \n",
       "\n",
       "   description_94  description_95  description_96  description_97  \\\n",
       "0             0.0             0.0             0.0             0.0   \n",
       "1             0.0             0.0             0.0             0.0   \n",
       "2             0.0             0.0             0.0             0.0   \n",
       "3             0.0             0.0             0.0             0.0   \n",
       "4             0.0             0.0             0.0             0.0   \n",
       "\n",
       "   description_98  description_99  \n",
       "0             0.0             0.0  \n",
       "1             0.0             0.0  \n",
       "2             0.0             0.0  \n",
       "3             0.0             0.0  \n",
       "4             0.0             0.0  "
      ],
      "text/html": "<div>\n<style scoped>\n    .dataframe tbody tr th:only-of-type {\n        vertical-align: middle;\n    }\n\n    .dataframe tbody tr th {\n        vertical-align: top;\n    }\n\n    .dataframe thead th {\n        text-align: right;\n    }\n</style>\n<table border=\"1\" class=\"dataframe\">\n  <thead>\n    <tr style=\"text-align: right;\">\n      <th></th>\n      <th>id</th>\n      <th>name</th>\n      <th>screen_name</th>\n      <th>statuses_count</th>\n      <th>followers_count</th>\n      <th>friends_count</th>\n      <th>favourites_count</th>\n      <th>listed_count</th>\n      <th>url</th>\n      <th>default_profile</th>\n      <th>default_profile_image</th>\n      <th>geo_enabled</th>\n      <th>profile_image_url</th>\n      <th>profile_use_background_image</th>\n      <th>profile_background_tile</th>\n      <th>protected</th>\n      <th>verified</th>\n      <th>description</th>\n      <th>account_type</th>\n      <th>tweets_list</th>\n      <th>tweet_frequency</th>\n      <th>number_of_tags</th>\n      <th>number_of_mentions</th>\n      <th>tweet_weekend_frequency</th>\n      <th>tweet_weekday_frequency</th>\n      <th>following_to_followers_ratio</th>\n      <th>username_length</th>\n      <th>screen_name_length</th>\n      <th>username_spec_char_count</th>\n      <th>screen_name_spec_char_count</th>\n      <th>has_url</th>\n      <th>tweets_list_processed</th>\n      <th>description_processed</th>\n      <th>tweets_0</th>\n      <th>tweets_1</th>\n      <th>tweets_2</th>\n      <th>tweets_3</th>\n      <th>tweets_4</th>\n      <th>tweets_5</th>\n      <th>tweets_6</th>\n      <th>tweets_7</th>\n      <th>tweets_8</th>\n      <th>tweets_9</th>\n      <th>tweets_10</th>\n      <th>tweets_11</th>\n      <th>tweets_12</th>\n      <th>tweets_13</th>\n      <th>tweets_14</th>\n      <th>tweets_15</th>\n      <th>tweets_16</th>\n      <th>tweets_17</th>\n      <th>tweets_18</th>\n      <th>tweets_19</th>\n      <th>tweets_20</th>\n      <th>tweets_21</th>\n      <th>tweets_22</th>\n      <th>tweets_23</th>\n      <th>tweets_24</th>\n      <th>tweets_25</th>\n      <th>tweets_26</th>\n      <th>tweets_27</th>\n      <th>tweets_28</th>\n      <th>tweets_29</th>\n      <th>tweets_30</th>\n      <th>tweets_31</th>\n      <th>tweets_32</th>\n      <th>tweets_33</th>\n      <th>tweets_34</th>\n      <th>tweets_35</th>\n      <th>tweets_36</th>\n      <th>tweets_37</th>\n      <th>tweets_38</th>\n      <th>tweets_39</th>\n      <th>tweets_40</th>\n      <th>tweets_41</th>\n      <th>tweets_42</th>\n      <th>tweets_43</th>\n      <th>tweets_44</th>\n      <th>tweets_45</th>\n      <th>tweets_46</th>\n      <th>tweets_47</th>\n      <th>tweets_48</th>\n      <th>tweets_49</th>\n      <th>tweets_50</th>\n      <th>tweets_51</th>\n      <th>tweets_52</th>\n      <th>tweets_53</th>\n      <th>tweets_54</th>\n      <th>tweets_55</th>\n      <th>tweets_56</th>\n      <th>tweets_57</th>\n      <th>tweets_58</th>\n      <th>tweets_59</th>\n      <th>tweets_60</th>\n      <th>tweets_61</th>\n      <th>tweets_62</th>\n      <th>tweets_63</th>\n      <th>tweets_64</th>\n      <th>tweets_65</th>\n      <th>tweets_66</th>\n      <th>tweets_67</th>\n      <th>tweets_68</th>\n      <th>tweets_69</th>\n      <th>tweets_70</th>\n      <th>tweets_71</th>\n      <th>tweets_72</th>\n      <th>tweets_73</th>\n      <th>tweets_74</th>\n      <th>tweets_75</th>\n      <th>tweets_76</th>\n      <th>tweets_77</th>\n      <th>tweets_78</th>\n      <th>tweets_79</th>\n      <th>tweets_80</th>\n      <th>tweets_81</th>\n      <th>tweets_82</th>\n      <th>tweets_83</th>\n      <th>tweets_84</th>\n      <th>tweets_85</th>\n      <th>tweets_86</th>\n      <th>tweets_87</th>\n      <th>tweets_88</th>\n      <th>tweets_89</th>\n      <th>tweets_90</th>\n      <th>tweets_91</th>\n      <th>tweets_92</th>\n      <th>tweets_93</th>\n      <th>tweets_94</th>\n      <th>tweets_95</th>\n      <th>tweets_96</th>\n      <th>tweets_97</th>\n      <th>tweets_98</th>\n      <th>tweets_99</th>\n      <th>description_0</th>\n      <th>description_1</th>\n      <th>description_2</th>\n      <th>description_3</th>\n      <th>description_4</th>\n      <th>description_5</th>\n      <th>description_6</th>\n      <th>description_7</th>\n      <th>description_8</th>\n      <th>description_9</th>\n      <th>description_10</th>\n      <th>description_11</th>\n      <th>description_12</th>\n      <th>description_13</th>\n      <th>description_14</th>\n      <th>description_15</th>\n      <th>description_16</th>\n      <th>description_17</th>\n      <th>description_18</th>\n      <th>description_19</th>\n      <th>description_20</th>\n      <th>description_21</th>\n      <th>description_22</th>\n      <th>description_23</th>\n      <th>description_24</th>\n      <th>description_25</th>\n      <th>description_26</th>\n      <th>description_27</th>\n      <th>description_28</th>\n      <th>description_29</th>\n      <th>description_30</th>\n      <th>description_31</th>\n      <th>description_32</th>\n      <th>description_33</th>\n      <th>description_34</th>\n      <th>description_35</th>\n      <th>description_36</th>\n      <th>description_37</th>\n      <th>description_38</th>\n      <th>description_39</th>\n      <th>description_40</th>\n      <th>description_41</th>\n      <th>description_42</th>\n      <th>description_43</th>\n      <th>description_44</th>\n      <th>description_45</th>\n      <th>description_46</th>\n      <th>description_47</th>\n      <th>description_48</th>\n      <th>description_49</th>\n      <th>description_50</th>\n      <th>description_51</th>\n      <th>description_52</th>\n      <th>description_53</th>\n      <th>description_54</th>\n      <th>description_55</th>\n      <th>description_56</th>\n      <th>description_57</th>\n      <th>description_58</th>\n      <th>description_59</th>\n      <th>description_60</th>\n      <th>description_61</th>\n      <th>description_62</th>\n      <th>description_63</th>\n      <th>description_64</th>\n      <th>description_65</th>\n      <th>description_66</th>\n      <th>description_67</th>\n      <th>description_68</th>\n      <th>description_69</th>\n      <th>description_70</th>\n      <th>description_71</th>\n      <th>description_72</th>\n      <th>description_73</th>\n      <th>description_74</th>\n      <th>description_75</th>\n      <th>description_76</th>\n      <th>description_77</th>\n      <th>description_78</th>\n      <th>description_79</th>\n      <th>description_80</th>\n      <th>description_81</th>\n      <th>description_82</th>\n      <th>description_83</th>\n      <th>description_84</th>\n      <th>description_85</th>\n      <th>description_86</th>\n      <th>description_87</th>\n      <th>description_88</th>\n      <th>description_89</th>\n      <th>description_90</th>\n      <th>description_91</th>\n      <th>description_92</th>\n      <th>description_93</th>\n      <th>description_94</th>\n      <th>description_95</th>\n      <th>description_96</th>\n      <th>description_97</th>\n      <th>description_98</th>\n      <th>description_99</th>\n    </tr>\n  </thead>\n  <tbody>\n    <tr>\n      <th>0</th>\n      <td>28088585</td>\n      <td>Scott Sandler</td>\n      <td>DigiRanger1994</td>\n      <td>124434</td>\n      <td>1818</td>\n      <td>1985</td>\n      <td>7452</td>\n      <td>41</td>\n      <td>NaN</td>\n      <td>0.0</td>\n      <td>0.0</td>\n      <td>1.0</td>\n      <td>http://pbs.twimg.com/profile_images/5833438974...</td>\n      <td>1.0</td>\n      <td>1.0</td>\n      <td>NaN</td>\n      <td>NaN</td>\n      <td>i watch a lot of TV, movies and webshows, play...</td>\n      <td>1</td>\n      <td>NaN</td>\n      <td>0.000000</td>\n      <td>0.0</td>\n      <td>0.0</td>\n      <td>0.000000</td>\n      <td>0.000000</td>\n      <td>1.091859</td>\n      <td>13</td>\n      <td>14</td>\n      <td>1</td>\n      <td>0</td>\n      <td>0</td>\n      <td>NaN</td>\n      <td>i watch a lot of TV movies and webshows play a...</td>\n      <td>0.000000</td>\n      <td>0.000000</td>\n      <td>0.000000</td>\n      <td>0.000000</td>\n      <td>0.000000</td>\n      <td>0.000000</td>\n      <td>0.000000</td>\n      <td>0.000000</td>\n      <td>0.000000</td>\n      <td>0.000000</td>\n      <td>0.000000</td>\n      <td>0.000000</td>\n      <td>0.000000</td>\n      <td>0.000000</td>\n      <td>0.00000</td>\n      <td>0.000000</td>\n      <td>0.000000</td>\n      <td>0.000000</td>\n      <td>0.000000</td>\n      <td>0.000000</td>\n      <td>0.000000</td>\n      <td>0.000000</td>\n      <td>0.000000</td>\n      <td>0.0</td>\n      <td>0.000000</td>\n      <td>0.000000</td>\n      <td>0.000000</td>\n      <td>0.000000</td>\n      <td>0.000000</td>\n      <td>0.000000</td>\n      <td>0.000000</td>\n      <td>0.0</td>\n      <td>0.000000</td>\n      <td>0.000000</td>\n      <td>0.000000</td>\n      <td>0.000000</td>\n      <td>0.000000</td>\n      <td>0.0</td>\n      <td>0.0</td>\n      <td>0.000000</td>\n      <td>0.000000</td>\n      <td>0.000000</td>\n      <td>0.000000</td>\n      <td>0.000000</td>\n      <td>0.000000</td>\n      <td>0.000000</td>\n      <td>0.000000</td>\n      <td>0.000000</td>\n      <td>0.000000</td>\n      <td>0.000000</td>\n      <td>0.000000</td>\n      <td>0.000000</td>\n      <td>0.000000</td>\n      <td>0.0</td>\n      <td>0.000000</td>\n      <td>0.000000</td>\n      <td>0.000000</td>\n      <td>0.000000</td>\n      <td>0.000000</td>\n      <td>0.000000</td>\n      <td>0.000000</td>\n      <td>0.000000</td>\n      <td>0.000000</td>\n      <td>0.000000</td>\n      <td>0.000000</td>\n      <td>0.000000</td>\n      <td>0.000000</td>\n      <td>0.0</td>\n      <td>0.000000</td>\n      <td>0.000000</td>\n      <td>0.000000</td>\n      <td>0.000000</td>\n      <td>0.000000</td>\n      <td>0.000000</td>\n      <td>0.000000</td>\n      <td>0.000000</td>\n      <td>0.000000</td>\n      <td>0.000000</td>\n      <td>0.000000</td>\n      <td>0.000000</td>\n      <td>0.00000</td>\n      <td>0.000000</td>\n      <td>0.000000</td>\n      <td>0.000000</td>\n      <td>0.000000</td>\n      <td>0.000000</td>\n      <td>0.000000</td>\n      <td>0.000000</td>\n      <td>0.000000</td>\n      <td>0.000000</td>\n      <td>0.000000</td>\n      <td>0.000000</td>\n      <td>0.00000</td>\n      <td>0.000000</td>\n      <td>0.000000</td>\n      <td>0.000000</td>\n      <td>0.000000</td>\n      <td>0.000000</td>\n      <td>0.000000</td>\n      <td>0.000000</td>\n      <td>0.0</td>\n      <td>0.0</td>\n      <td>0.0</td>\n      <td>0.0</td>\n      <td>0.0</td>\n      <td>0.0</td>\n      <td>0.0</td>\n      <td>0.0</td>\n      <td>0.0</td>\n      <td>0.0</td>\n      <td>0.0</td>\n      <td>0.0</td>\n      <td>0.0</td>\n      <td>0.0</td>\n      <td>0.0</td>\n      <td>0.0</td>\n      <td>0.0</td>\n      <td>0.0</td>\n      <td>0.0</td>\n      <td>0.0</td>\n      <td>0.0</td>\n      <td>0.0</td>\n      <td>0.0</td>\n      <td>0.0</td>\n      <td>0.0</td>\n      <td>0.0</td>\n      <td>0.0</td>\n      <td>0.0</td>\n      <td>0.0</td>\n      <td>0.0</td>\n      <td>0.0</td>\n      <td>0.0</td>\n      <td>0.0</td>\n      <td>0.0</td>\n      <td>0.0</td>\n      <td>0.0</td>\n      <td>0.0</td>\n      <td>0.0</td>\n      <td>0.0</td>\n      <td>0.0</td>\n      <td>0.0</td>\n      <td>0.0</td>\n      <td>0.0</td>\n      <td>0.0</td>\n      <td>0.0</td>\n      <td>0.0</td>\n      <td>0.0</td>\n      <td>0.0</td>\n      <td>0.0</td>\n      <td>0.0</td>\n      <td>0.0</td>\n      <td>0.0</td>\n      <td>0.0</td>\n      <td>0.0</td>\n      <td>0.0</td>\n      <td>0.0</td>\n      <td>0.0</td>\n      <td>0.0</td>\n      <td>0.0</td>\n      <td>0.0</td>\n      <td>0.0</td>\n      <td>0.0</td>\n      <td>0.0</td>\n      <td>0.0</td>\n      <td>0.0</td>\n      <td>0.0</td>\n      <td>0.0</td>\n      <td>0.0</td>\n      <td>0.0</td>\n      <td>0.0</td>\n      <td>0.0</td>\n      <td>0.0</td>\n      <td>0.0</td>\n      <td>0.0</td>\n      <td>0.0</td>\n      <td>0.0</td>\n      <td>0.0</td>\n      <td>0.0</td>\n      <td>0.885267</td>\n      <td>0.0</td>\n      <td>0.0</td>\n      <td>0.0</td>\n      <td>0.0</td>\n      <td>0.0</td>\n      <td>0.0</td>\n      <td>0.0</td>\n      <td>0.465082</td>\n      <td>0.0</td>\n      <td>0.0</td>\n      <td>0.0</td>\n      <td>0.0</td>\n      <td>0.0</td>\n      <td>0.0</td>\n      <td>0.0</td>\n      <td>0.0</td>\n      <td>0.0</td>\n      <td>0.0</td>\n      <td>0.0</td>\n      <td>0.0</td>\n      <td>0.0</td>\n    </tr>\n    <tr>\n      <th>1</th>\n      <td>514338061</td>\n      <td>Marco Chiacchiaretta</td>\n      <td>thisismynothing</td>\n      <td>524</td>\n      <td>42</td>\n      <td>40</td>\n      <td>0</td>\n      <td>0</td>\n      <td>NaN</td>\n      <td>0.0</td>\n      <td>0.0</td>\n      <td>0.0</td>\n      <td>http://a0.twimg.com/profile_images/3038318705/...</td>\n      <td>1.0</td>\n      <td>0.0</td>\n      <td>NaN</td>\n      <td>NaN</td>\n      <td>Despite unrealized hopes, illusions, disillusi...</td>\n      <td>1</td>\n      <td>[\"'ccezionale!!!\", 'Pete Seeger Leads Amazing ...</td>\n      <td>2.143443</td>\n      <td>203.0</td>\n      <td>273.0</td>\n      <td>2.230769</td>\n      <td>2.111732</td>\n      <td>0.952381</td>\n      <td>20</td>\n      <td>15</td>\n      <td>1</td>\n      <td>0</td>\n      <td>0</td>\n      <td>ccezionale Pete Seeger Leads Amazing Grace  vi...</td>\n      <td>Despite unrealized hopes illusions disillusion...</td>\n      <td>0.038142</td>\n      <td>0.021589</td>\n      <td>0.056041</td>\n      <td>0.012284</td>\n      <td>0.041838</td>\n      <td>0.095130</td>\n      <td>0.118690</td>\n      <td>0.152606</td>\n      <td>0.020356</td>\n      <td>0.024172</td>\n      <td>0.048153</td>\n      <td>0.013064</td>\n      <td>0.038478</td>\n      <td>0.022181</td>\n      <td>0.05482</td>\n      <td>0.063277</td>\n      <td>0.012672</td>\n      <td>0.060856</td>\n      <td>0.063827</td>\n      <td>0.085867</td>\n      <td>0.313918</td>\n      <td>0.050817</td>\n      <td>0.062401</td>\n      <td>0.0</td>\n      <td>0.063123</td>\n      <td>0.012361</td>\n      <td>0.032216</td>\n      <td>0.014149</td>\n      <td>0.058162</td>\n      <td>0.055792</td>\n      <td>0.063741</td>\n      <td>0.0</td>\n      <td>0.082165</td>\n      <td>0.011346</td>\n      <td>0.042888</td>\n      <td>0.149012</td>\n      <td>0.144331</td>\n      <td>0.0</td>\n      <td>0.0</td>\n      <td>0.026540</td>\n      <td>0.165537</td>\n      <td>0.097279</td>\n      <td>0.029203</td>\n      <td>0.071930</td>\n      <td>0.091942</td>\n      <td>0.057225</td>\n      <td>0.150780</td>\n      <td>0.015366</td>\n      <td>0.067382</td>\n      <td>0.012284</td>\n      <td>0.026337</td>\n      <td>0.041589</td>\n      <td>0.027213</td>\n      <td>0.0</td>\n      <td>0.031038</td>\n      <td>0.039831</td>\n      <td>0.052583</td>\n      <td>0.041122</td>\n      <td>0.069171</td>\n      <td>0.078091</td>\n      <td>0.087843</td>\n      <td>0.039400</td>\n      <td>0.193246</td>\n      <td>0.000000</td>\n      <td>0.060958</td>\n      <td>0.011469</td>\n      <td>0.010106</td>\n      <td>0.0</td>\n      <td>0.117724</td>\n      <td>0.037668</td>\n      <td>0.043628</td>\n      <td>0.000000</td>\n      <td>0.027865</td>\n      <td>0.011732</td>\n      <td>0.034000</td>\n      <td>0.056675</td>\n      <td>0.090229</td>\n      <td>0.007640</td>\n      <td>0.023677</td>\n      <td>0.011119</td>\n      <td>0.02157</td>\n      <td>0.018996</td>\n      <td>0.013823</td>\n      <td>0.041560</td>\n      <td>0.010537</td>\n      <td>0.098256</td>\n      <td>0.071135</td>\n      <td>0.036775</td>\n      <td>0.000000</td>\n      <td>0.038142</td>\n      <td>0.102021</td>\n      <td>0.063007</td>\n      <td>0.72112</td>\n      <td>0.032947</td>\n      <td>0.006625</td>\n      <td>0.014327</td>\n      <td>0.014703</td>\n      <td>0.058188</td>\n      <td>0.000000</td>\n      <td>0.021601</td>\n      <td>0.0</td>\n      <td>0.0</td>\n      <td>0.0</td>\n      <td>0.0</td>\n      <td>0.0</td>\n      <td>0.0</td>\n      <td>0.0</td>\n      <td>0.0</td>\n      <td>0.0</td>\n      <td>0.0</td>\n      <td>0.0</td>\n      <td>0.0</td>\n      <td>0.0</td>\n      <td>0.0</td>\n      <td>0.0</td>\n      <td>0.0</td>\n      <td>0.0</td>\n      <td>0.0</td>\n      <td>0.0</td>\n      <td>0.0</td>\n      <td>0.0</td>\n      <td>0.0</td>\n      <td>0.0</td>\n      <td>0.0</td>\n      <td>0.0</td>\n      <td>0.0</td>\n      <td>0.0</td>\n      <td>0.0</td>\n      <td>0.0</td>\n      <td>0.0</td>\n      <td>0.0</td>\n      <td>0.0</td>\n      <td>0.0</td>\n      <td>0.0</td>\n      <td>0.0</td>\n      <td>0.0</td>\n      <td>0.0</td>\n      <td>0.0</td>\n      <td>0.0</td>\n      <td>0.0</td>\n      <td>0.0</td>\n      <td>0.0</td>\n      <td>0.0</td>\n      <td>0.0</td>\n      <td>0.0</td>\n      <td>1.0</td>\n      <td>0.0</td>\n      <td>0.0</td>\n      <td>0.0</td>\n      <td>0.0</td>\n      <td>0.0</td>\n      <td>0.0</td>\n      <td>0.0</td>\n      <td>0.0</td>\n      <td>0.0</td>\n      <td>0.0</td>\n      <td>0.0</td>\n      <td>0.0</td>\n      <td>0.0</td>\n      <td>0.0</td>\n      <td>0.0</td>\n      <td>0.0</td>\n      <td>0.0</td>\n      <td>0.0</td>\n      <td>0.0</td>\n      <td>0.0</td>\n      <td>0.0</td>\n      <td>0.0</td>\n      <td>0.0</td>\n      <td>0.0</td>\n      <td>0.0</td>\n      <td>0.0</td>\n      <td>0.0</td>\n      <td>0.0</td>\n      <td>0.0</td>\n      <td>0.0</td>\n      <td>0.0</td>\n      <td>0.0</td>\n      <td>0.000000</td>\n      <td>0.0</td>\n      <td>0.0</td>\n      <td>0.0</td>\n      <td>0.0</td>\n      <td>0.0</td>\n      <td>0.0</td>\n      <td>0.0</td>\n      <td>0.000000</td>\n      <td>0.0</td>\n      <td>0.0</td>\n      <td>0.0</td>\n      <td>0.0</td>\n      <td>0.0</td>\n      <td>0.0</td>\n      <td>0.0</td>\n      <td>0.0</td>\n      <td>0.0</td>\n      <td>0.0</td>\n      <td>0.0</td>\n      <td>0.0</td>\n      <td>0.0</td>\n    </tr>\n    <tr>\n      <th>2</th>\n      <td>2352023796</td>\n      <td>Kimbery Hepp</td>\n      <td>KimberyHepp</td>\n      <td>73</td>\n      <td>4</td>\n      <td>42</td>\n      <td>0</td>\n      <td>1</td>\n      <td>NaN</td>\n      <td>0.0</td>\n      <td>0.0</td>\n      <td>0.0</td>\n      <td>http://pbs.twimg.com/profile_images/4373616262...</td>\n      <td>1.0</td>\n      <td>1.0</td>\n      <td>NaN</td>\n      <td>NaN</td>\n      <td>NaN</td>\n      <td>0</td>\n      <td>['I love you and I always have.', '@nissimhg o...</td>\n      <td>4.961538</td>\n      <td>7.0</td>\n      <td>47.0</td>\n      <td>5.714286</td>\n      <td>4.684211</td>\n      <td>10.500000</td>\n      <td>12</td>\n      <td>11</td>\n      <td>1</td>\n      <td>0</td>\n      <td>0</td>\n      <td>I love you and I always have nissimhg ok Never...</td>\n      <td>NaN</td>\n      <td>0.000000</td>\n      <td>0.124728</td>\n      <td>0.080944</td>\n      <td>0.000000</td>\n      <td>0.080573</td>\n      <td>0.235547</td>\n      <td>0.161347</td>\n      <td>0.000000</td>\n      <td>0.000000</td>\n      <td>0.000000</td>\n      <td>0.000000</td>\n      <td>0.113219</td>\n      <td>0.000000</td>\n      <td>0.128149</td>\n      <td>0.00000</td>\n      <td>0.146232</td>\n      <td>0.109815</td>\n      <td>0.000000</td>\n      <td>0.000000</td>\n      <td>0.000000</td>\n      <td>0.000000</td>\n      <td>0.183495</td>\n      <td>0.160230</td>\n      <td>0.0</td>\n      <td>0.145876</td>\n      <td>0.000000</td>\n      <td>0.111675</td>\n      <td>0.204360</td>\n      <td>0.149347</td>\n      <td>0.161168</td>\n      <td>0.122755</td>\n      <td>0.0</td>\n      <td>0.146063</td>\n      <td>0.000000</td>\n      <td>0.000000</td>\n      <td>0.000000</td>\n      <td>0.208467</td>\n      <td>0.0</td>\n      <td>0.0</td>\n      <td>0.191669</td>\n      <td>0.083164</td>\n      <td>0.086466</td>\n      <td>0.000000</td>\n      <td>0.264456</td>\n      <td>0.177064</td>\n      <td>0.055103</td>\n      <td>0.118790</td>\n      <td>0.133165</td>\n      <td>0.176953</td>\n      <td>0.000000</td>\n      <td>0.038040</td>\n      <td>0.160186</td>\n      <td>0.000000</td>\n      <td>0.0</td>\n      <td>0.044830</td>\n      <td>0.153417</td>\n      <td>0.151897</td>\n      <td>0.158387</td>\n      <td>0.039964</td>\n      <td>0.000000</td>\n      <td>0.181253</td>\n      <td>0.189696</td>\n      <td>0.000000</td>\n      <td>0.075238</td>\n      <td>0.000000</td>\n      <td>0.000000</td>\n      <td>0.000000</td>\n      <td>0.0</td>\n      <td>0.085019</td>\n      <td>0.043526</td>\n      <td>0.042010</td>\n      <td>0.000000</td>\n      <td>0.080494</td>\n      <td>0.000000</td>\n      <td>0.000000</td>\n      <td>0.054573</td>\n      <td>0.000000</td>\n      <td>0.044137</td>\n      <td>0.068396</td>\n      <td>0.000000</td>\n      <td>0.04154</td>\n      <td>0.000000</td>\n      <td>0.159722</td>\n      <td>0.120056</td>\n      <td>0.000000</td>\n      <td>0.141918</td>\n      <td>0.000000</td>\n      <td>0.000000</td>\n      <td>0.000000</td>\n      <td>0.110182</td>\n      <td>0.000000</td>\n      <td>0.000000</td>\n      <td>0.00000</td>\n      <td>0.114210</td>\n      <td>0.153111</td>\n      <td>0.082772</td>\n      <td>0.042472</td>\n      <td>0.084044</td>\n      <td>0.000000</td>\n      <td>0.124799</td>\n      <td>0.0</td>\n      <td>0.0</td>\n      <td>0.0</td>\n      <td>0.0</td>\n      <td>0.0</td>\n      <td>0.0</td>\n      <td>0.0</td>\n      <td>0.0</td>\n      <td>0.0</td>\n      <td>0.0</td>\n      <td>0.0</td>\n      <td>0.0</td>\n      <td>0.0</td>\n      <td>0.0</td>\n      <td>0.0</td>\n      <td>0.0</td>\n      <td>0.0</td>\n      <td>0.0</td>\n      <td>0.0</td>\n      <td>0.0</td>\n      <td>0.0</td>\n      <td>0.0</td>\n      <td>0.0</td>\n      <td>0.0</td>\n      <td>0.0</td>\n      <td>0.0</td>\n      <td>0.0</td>\n      <td>0.0</td>\n      <td>0.0</td>\n      <td>0.0</td>\n      <td>0.0</td>\n      <td>0.0</td>\n      <td>0.0</td>\n      <td>0.0</td>\n      <td>0.0</td>\n      <td>0.0</td>\n      <td>0.0</td>\n      <td>0.0</td>\n      <td>0.0</td>\n      <td>0.0</td>\n      <td>0.0</td>\n      <td>0.0</td>\n      <td>0.0</td>\n      <td>0.0</td>\n      <td>0.0</td>\n      <td>0.0</td>\n      <td>0.0</td>\n      <td>0.0</td>\n      <td>0.0</td>\n      <td>0.0</td>\n      <td>0.0</td>\n      <td>0.0</td>\n      <td>0.0</td>\n      <td>0.0</td>\n      <td>0.0</td>\n      <td>0.0</td>\n      <td>0.0</td>\n      <td>0.0</td>\n      <td>0.0</td>\n      <td>0.0</td>\n      <td>0.0</td>\n      <td>0.0</td>\n      <td>0.0</td>\n      <td>0.0</td>\n      <td>0.0</td>\n      <td>0.0</td>\n      <td>0.0</td>\n      <td>0.0</td>\n      <td>0.0</td>\n      <td>0.0</td>\n      <td>0.0</td>\n      <td>0.0</td>\n      <td>0.0</td>\n      <td>0.0</td>\n      <td>0.0</td>\n      <td>0.0</td>\n      <td>0.0</td>\n      <td>0.0</td>\n      <td>0.000000</td>\n      <td>0.0</td>\n      <td>0.0</td>\n      <td>0.0</td>\n      <td>0.0</td>\n      <td>0.0</td>\n      <td>0.0</td>\n      <td>0.0</td>\n      <td>0.000000</td>\n      <td>0.0</td>\n      <td>0.0</td>\n      <td>0.0</td>\n      <td>0.0</td>\n      <td>0.0</td>\n      <td>0.0</td>\n      <td>0.0</td>\n      <td>0.0</td>\n      <td>0.0</td>\n      <td>0.0</td>\n      <td>0.0</td>\n      <td>0.0</td>\n      <td>0.0</td>\n    </tr>\n    <tr>\n      <th>3</th>\n      <td>1174855417</td>\n      <td>Contessa Kugler</td>\n      <td>KuglerucfContes</td>\n      <td>18</td>\n      <td>10</td>\n      <td>220</td>\n      <td>0</td>\n      <td>0</td>\n      <td>NaN</td>\n      <td>1.0</td>\n      <td>0.0</td>\n      <td>0.0</td>\n      <td>http://a0.twimg.com/profile_images/3305309032/...</td>\n      <td>1.0</td>\n      <td>0.0</td>\n      <td>NaN</td>\n      <td>NaN</td>\n      <td>Pra ue ler ssuh?</td>\n      <td>0</td>\n      <td>[\"Killing Me Softly, And I'm Still Falling!!!\"...</td>\n      <td>2.117647</td>\n      <td>6.0</td>\n      <td>0.0</td>\n      <td>2.000000</td>\n      <td>2.166667</td>\n      <td>22.000000</td>\n      <td>15</td>\n      <td>15</td>\n      <td>1</td>\n      <td>0</td>\n      <td>0</td>\n      <td>Killing Me Softly And Im Still Falling hj  eu ...</td>\n      <td>Pra ue ler ssuh</td>\n      <td>0.000000</td>\n      <td>0.000000</td>\n      <td>0.000000</td>\n      <td>0.000000</td>\n      <td>0.000000</td>\n      <td>0.000000</td>\n      <td>0.000000</td>\n      <td>0.000000</td>\n      <td>0.000000</td>\n      <td>0.000000</td>\n      <td>0.000000</td>\n      <td>0.000000</td>\n      <td>0.274940</td>\n      <td>0.000000</td>\n      <td>0.00000</td>\n      <td>0.000000</td>\n      <td>0.362176</td>\n      <td>0.000000</td>\n      <td>0.000000</td>\n      <td>0.000000</td>\n      <td>0.000000</td>\n      <td>0.000000</td>\n      <td>0.198169</td>\n      <td>0.0</td>\n      <td>0.000000</td>\n      <td>0.000000</td>\n      <td>0.000000</td>\n      <td>0.000000</td>\n      <td>0.184708</td>\n      <td>0.199328</td>\n      <td>0.000000</td>\n      <td>0.0</td>\n      <td>0.000000</td>\n      <td>0.000000</td>\n      <td>0.000000</td>\n      <td>0.000000</td>\n      <td>0.171885</td>\n      <td>0.0</td>\n      <td>0.0</td>\n      <td>0.000000</td>\n      <td>0.205710</td>\n      <td>0.000000</td>\n      <td>0.000000</td>\n      <td>0.000000</td>\n      <td>0.175191</td>\n      <td>0.000000</td>\n      <td>0.000000</td>\n      <td>0.000000</td>\n      <td>0.000000</td>\n      <td>0.000000</td>\n      <td>0.000000</td>\n      <td>0.000000</td>\n      <td>0.259267</td>\n      <td>0.0</td>\n      <td>0.000000</td>\n      <td>0.189742</td>\n      <td>0.000000</td>\n      <td>0.000000</td>\n      <td>0.000000</td>\n      <td>0.000000</td>\n      <td>0.000000</td>\n      <td>0.187689</td>\n      <td>0.000000</td>\n      <td>0.000000</td>\n      <td>0.000000</td>\n      <td>0.000000</td>\n      <td>0.000000</td>\n      <td>0.0</td>\n      <td>0.000000</td>\n      <td>0.000000</td>\n      <td>0.000000</td>\n      <td>0.248263</td>\n      <td>0.000000</td>\n      <td>0.000000</td>\n      <td>0.000000</td>\n      <td>0.000000</td>\n      <td>0.000000</td>\n      <td>0.000000</td>\n      <td>0.000000</td>\n      <td>0.000000</td>\n      <td>0.00000</td>\n      <td>0.000000</td>\n      <td>0.000000</td>\n      <td>0.000000</td>\n      <td>0.000000</td>\n      <td>0.175521</td>\n      <td>0.000000</td>\n      <td>0.000000</td>\n      <td>0.430782</td>\n      <td>0.000000</td>\n      <td>0.265085</td>\n      <td>0.000000</td>\n      <td>0.00000</td>\n      <td>0.000000</td>\n      <td>0.000000</td>\n      <td>0.204740</td>\n      <td>0.000000</td>\n      <td>0.000000</td>\n      <td>0.221159</td>\n      <td>0.000000</td>\n      <td>0.0</td>\n      <td>0.0</td>\n      <td>0.0</td>\n      <td>0.0</td>\n      <td>0.0</td>\n      <td>0.0</td>\n      <td>0.0</td>\n      <td>0.0</td>\n      <td>0.0</td>\n      <td>0.0</td>\n      <td>0.0</td>\n      <td>0.0</td>\n      <td>0.0</td>\n      <td>0.0</td>\n      <td>0.0</td>\n      <td>0.0</td>\n      <td>0.0</td>\n      <td>0.0</td>\n      <td>0.0</td>\n      <td>0.0</td>\n      <td>0.0</td>\n      <td>0.0</td>\n      <td>0.0</td>\n      <td>0.0</td>\n      <td>0.0</td>\n      <td>0.0</td>\n      <td>0.0</td>\n      <td>0.0</td>\n      <td>0.0</td>\n      <td>0.0</td>\n      <td>0.0</td>\n      <td>0.0</td>\n      <td>0.0</td>\n      <td>0.0</td>\n      <td>0.0</td>\n      <td>0.0</td>\n      <td>0.0</td>\n      <td>0.0</td>\n      <td>0.0</td>\n      <td>0.0</td>\n      <td>0.0</td>\n      <td>0.0</td>\n      <td>0.0</td>\n      <td>0.0</td>\n      <td>0.0</td>\n      <td>0.0</td>\n      <td>0.0</td>\n      <td>0.0</td>\n      <td>0.0</td>\n      <td>0.0</td>\n      <td>0.0</td>\n      <td>0.0</td>\n      <td>0.0</td>\n      <td>0.0</td>\n      <td>0.0</td>\n      <td>0.0</td>\n      <td>0.0</td>\n      <td>0.0</td>\n      <td>0.0</td>\n      <td>0.0</td>\n      <td>0.0</td>\n      <td>0.0</td>\n      <td>0.0</td>\n      <td>0.0</td>\n      <td>0.0</td>\n      <td>0.0</td>\n      <td>0.0</td>\n      <td>0.0</td>\n      <td>0.0</td>\n      <td>0.0</td>\n      <td>0.0</td>\n      <td>0.0</td>\n      <td>0.0</td>\n      <td>0.0</td>\n      <td>0.0</td>\n      <td>0.0</td>\n      <td>0.0</td>\n      <td>0.0</td>\n      <td>0.000000</td>\n      <td>0.0</td>\n      <td>0.0</td>\n      <td>0.0</td>\n      <td>0.0</td>\n      <td>0.0</td>\n      <td>0.0</td>\n      <td>0.0</td>\n      <td>0.000000</td>\n      <td>0.0</td>\n      <td>0.0</td>\n      <td>0.0</td>\n      <td>0.0</td>\n      <td>0.0</td>\n      <td>0.0</td>\n      <td>0.0</td>\n      <td>0.0</td>\n      <td>0.0</td>\n      <td>0.0</td>\n      <td>0.0</td>\n      <td>0.0</td>\n      <td>0.0</td>\n    </tr>\n    <tr>\n      <th>4</th>\n      <td>2361352586</td>\n      <td>Jo Topolski</td>\n      <td>JoTopolski</td>\n      <td>43</td>\n      <td>5</td>\n      <td>39</td>\n      <td>0</td>\n      <td>0</td>\n      <td>NaN</td>\n      <td>0.0</td>\n      <td>0.0</td>\n      <td>0.0</td>\n      <td>http://pbs.twimg.com/profile_images/4386735939...</td>\n      <td>1.0</td>\n      <td>1.0</td>\n      <td>NaN</td>\n      <td>NaN</td>\n      <td>NaN</td>\n      <td>0</td>\n      <td>[\"Watch how people i never fucked with gonna w...</td>\n      <td>4.450000</td>\n      <td>9.0</td>\n      <td>40.0</td>\n      <td>4.428571</td>\n      <td>4.461538</td>\n      <td>7.800000</td>\n      <td>11</td>\n      <td>10</td>\n      <td>1</td>\n      <td>0</td>\n      <td>0</td>\n      <td>Watch how people i never fucked with gonna wan...</td>\n      <td>NaN</td>\n      <td>0.000000</td>\n      <td>0.157312</td>\n      <td>0.051045</td>\n      <td>0.000000</td>\n      <td>0.000000</td>\n      <td>0.247568</td>\n      <td>0.000000</td>\n      <td>0.000000</td>\n      <td>0.074165</td>\n      <td>0.000000</td>\n      <td>0.000000</td>\n      <td>0.095198</td>\n      <td>0.070095</td>\n      <td>0.107751</td>\n      <td>0.00000</td>\n      <td>0.092217</td>\n      <td>0.092335</td>\n      <td>0.000000</td>\n      <td>0.000000</td>\n      <td>0.000000</td>\n      <td>0.073789</td>\n      <td>0.185146</td>\n      <td>0.050522</td>\n      <td>0.0</td>\n      <td>0.275978</td>\n      <td>0.000000</td>\n      <td>0.187799</td>\n      <td>0.103099</td>\n      <td>0.094181</td>\n      <td>0.000000</td>\n      <td>0.051608</td>\n      <td>0.0</td>\n      <td>0.092110</td>\n      <td>0.000000</td>\n      <td>0.000000</td>\n      <td>0.000000</td>\n      <td>0.175285</td>\n      <td>0.0</td>\n      <td>0.0</td>\n      <td>0.241741</td>\n      <td>0.000000</td>\n      <td>0.000000</td>\n      <td>0.070933</td>\n      <td>0.190596</td>\n      <td>0.089328</td>\n      <td>0.000000</td>\n      <td>0.199765</td>\n      <td>0.055985</td>\n      <td>0.133909</td>\n      <td>0.000000</td>\n      <td>0.143932</td>\n      <td>0.050508</td>\n      <td>0.066099</td>\n      <td>0.0</td>\n      <td>0.113083</td>\n      <td>0.145122</td>\n      <td>0.047895</td>\n      <td>0.099882</td>\n      <td>0.050404</td>\n      <td>0.000000</td>\n      <td>0.137163</td>\n      <td>0.143552</td>\n      <td>0.000000</td>\n      <td>0.000000</td>\n      <td>0.000000</td>\n      <td>0.000000</td>\n      <td>0.073637</td>\n      <td>0.0</td>\n      <td>0.000000</td>\n      <td>0.109793</td>\n      <td>0.105970</td>\n      <td>0.000000</td>\n      <td>0.101523</td>\n      <td>0.000000</td>\n      <td>0.082584</td>\n      <td>0.000000</td>\n      <td>0.000000</td>\n      <td>0.055668</td>\n      <td>0.000000</td>\n      <td>0.000000</td>\n      <td>0.00000</td>\n      <td>0.000000</td>\n      <td>0.352534</td>\n      <td>0.151420</td>\n      <td>0.000000</td>\n      <td>0.178993</td>\n      <td>0.051835</td>\n      <td>0.000000</td>\n      <td>0.000000</td>\n      <td>0.138967</td>\n      <td>0.067582</td>\n      <td>0.000000</td>\n      <td>0.00000</td>\n      <td>0.048015</td>\n      <td>0.096555</td>\n      <td>0.208791</td>\n      <td>0.053567</td>\n      <td>0.106000</td>\n      <td>0.169151</td>\n      <td>0.104935</td>\n      <td>0.0</td>\n      <td>0.0</td>\n      <td>0.0</td>\n      <td>0.0</td>\n      <td>0.0</td>\n      <td>0.0</td>\n      <td>0.0</td>\n      <td>0.0</td>\n      <td>0.0</td>\n      <td>0.0</td>\n      <td>0.0</td>\n      <td>0.0</td>\n      <td>0.0</td>\n      <td>0.0</td>\n      <td>0.0</td>\n      <td>0.0</td>\n      <td>0.0</td>\n      <td>0.0</td>\n      <td>0.0</td>\n      <td>0.0</td>\n      <td>0.0</td>\n      <td>0.0</td>\n      <td>0.0</td>\n      <td>0.0</td>\n      <td>0.0</td>\n      <td>0.0</td>\n      <td>0.0</td>\n      <td>0.0</td>\n      <td>0.0</td>\n      <td>0.0</td>\n      <td>0.0</td>\n      <td>0.0</td>\n      <td>0.0</td>\n      <td>0.0</td>\n      <td>0.0</td>\n      <td>0.0</td>\n      <td>0.0</td>\n      <td>0.0</td>\n      <td>0.0</td>\n      <td>0.0</td>\n      <td>0.0</td>\n      <td>0.0</td>\n      <td>0.0</td>\n      <td>0.0</td>\n      <td>0.0</td>\n      <td>0.0</td>\n      <td>0.0</td>\n      <td>0.0</td>\n      <td>0.0</td>\n      <td>0.0</td>\n      <td>0.0</td>\n      <td>0.0</td>\n      <td>0.0</td>\n      <td>0.0</td>\n      <td>0.0</td>\n      <td>0.0</td>\n      <td>0.0</td>\n      <td>0.0</td>\n      <td>0.0</td>\n      <td>0.0</td>\n      <td>0.0</td>\n      <td>0.0</td>\n      <td>0.0</td>\n      <td>0.0</td>\n      <td>0.0</td>\n      <td>0.0</td>\n      <td>0.0</td>\n      <td>0.0</td>\n      <td>0.0</td>\n      <td>0.0</td>\n      <td>0.0</td>\n      <td>0.0</td>\n      <td>0.0</td>\n      <td>0.0</td>\n      <td>0.0</td>\n      <td>0.0</td>\n      <td>0.0</td>\n      <td>0.0</td>\n      <td>0.000000</td>\n      <td>0.0</td>\n      <td>0.0</td>\n      <td>0.0</td>\n      <td>0.0</td>\n      <td>0.0</td>\n      <td>0.0</td>\n      <td>0.0</td>\n      <td>0.000000</td>\n      <td>0.0</td>\n      <td>0.0</td>\n      <td>0.0</td>\n      <td>0.0</td>\n      <td>0.0</td>\n      <td>0.0</td>\n      <td>0.0</td>\n      <td>0.0</td>\n      <td>0.0</td>\n      <td>0.0</td>\n      <td>0.0</td>\n      <td>0.0</td>\n      <td>0.0</td>\n    </tr>\n  </tbody>\n</table>\n</div>"
     },
     "metadata": {},
     "execution_count": 3
    }
   ],
   "source": [
    "df.head()"
   ]
  },
  {
   "source": [
    "## Get to the correct data format"
   ],
   "cell_type": "markdown",
   "metadata": {}
  },
  {
   "cell_type": "code",
   "execution_count": 4,
   "metadata": {},
   "outputs": [],
   "source": [
    "to_drop = ['screen_name', 'url', 'profile_image_url', 'description',\n",
    "           'id', 'name', 'account_type', 'tweets_list', 'tweets_list_processed',\n",
    "          'description_processed', 'protected', 'verified']\n",
    "\n",
    "X_train, y_train = df.drop(to_drop, axis=1), df['account_type']"
   ]
  },
  {
   "cell_type": "code",
   "execution_count": 5,
   "metadata": {},
   "outputs": [],
   "source": [
    "X_test, y_test = test.drop(to_drop, axis=1), test['account_type']"
   ]
  },
  {
   "cell_type": "code",
   "execution_count": 11,
   "metadata": {},
   "outputs": [
    {
     "output_type": "execute_result",
     "data": {
      "text/plain": [
       "         1818           1985              7452   \n",
       "1             524               42             40                 0   \n",
       "2              73                4             42                 0   \n",
       "3              18               10            220                 0   \n",
       "4              43                5             39                 0   \n",
       "\n",
       "   listed_count  default_profile  default_profile_image  geo_enabled  \\\n",
       "0            41              0.0                    0.0          1.0   \n",
       "1             0              0.0                    0.0          0.0   \n",
       "2             1              0.0                    0.0          0.0   \n",
       "3             0              1.0                    0.0          0.0   \n",
       "4             0              0.0                    0.0          0.0   \n",
       "\n",
       "   profile_use_background_image  profile_background_tile  tweet_frequency  \\\n",
       "0                           1.0                      1.0         0.000000   \n",
       "1                           1.0                      0.0         2.143443   \n",
       "2                           1.0                      1.0         4.961538   \n",
       "3                           1.0                      0.0         2.117647   \n",
       "4                           1.0                      1.0         4.450000   \n",
       "\n",
       "   number_of_tags  number_of_mentions  tweet_weekend_frequency  \\\n",
       "0             0.0                 0.0                 0.000000   \n",
       "1           203.0               273.0                 2.230769   \n",
       "2             7.0                47.0                 5.714286   \n",
       "3             6.0                 0.0                 2.000000   \n",
       "4             9.0                40.0                 4.428571   \n",
       "\n",
       "   tweet_weekday_frequency  following_to_followers_ratio  username_length  \\\n",
       "0                 0.000000                      1.091859               13   \n",
       "1                 2.111732                      0.952381               20   \n",
       "2                 4.684211                     10.500000               12   \n",
       "3                 2.166667                     22.000000               15   \n",
       "4                 4.461538                      7.800000               11   \n",
       "\n",
       "   screen_name_length  username_spec_char_count  screen_name_spec_char_count  \\\n",
       "0                  14                         1                            0   \n",
       "1                  15                         1                            0   \n",
       "2                  11                         1                            0   \n",
       "3                  15                         1                            0   \n",
       "4                  10                         1                            0   \n",
       "\n",
       "   has_url  tweets_0  tweets_1  tweets_2  tweets_3  tweets_4  tweets_5  \\\n",
       "0        0  0.000000  0.000000  0.000000  0.000000  0.000000  0.000000   \n",
       "1        0  0.038142  0.021589  0.056041  0.012284  0.041838  0.095130   \n",
       "2        0  0.000000  0.124728  0.080944  0.000000  0.080573  0.235547   \n",
       "3        0  0.000000  0.000000  0.000000  0.000000  0.000000  0.000000   \n",
       "4        0  0.000000  0.157312  0.051045  0.000000  0.000000  0.247568   \n",
       "\n",
       "   tweets_6  tweets_7  tweets_8  tweets_9  tweets_10  tweets_11  tweets_12  \\\n",
       "0  0.000000  0.000000  0.000000  0.000000   0.000000   0.000000   0.000000   \n",
       "1  0.118690  0.152606  0.020356  0.024172   0.048153   0.013064   0.038478   \n",
       "2  0.161347  0.000000  0.000000  0.000000   0.000000   0.113219   0.000000   \n",
       "3  0.000000  0.000000  0.000000  0.000000   0.000000   0.000000   0.274940   \n",
       "4  0.000000  0.000000  0.074165  0.000000   0.000000   0.095198   0.070095   \n",
       "\n",
       "   tweets_13  tweets_14  tweets_15  tweets_16  tweets_17  tweets_18  \\\n",
       "0   0.000000    0.00000   0.000000   0.000000   0.000000   0.000000   \n",
       "1   0.022181    0.05482   0.063277   0.012672   0.060856   0.063827   \n",
       "2   0.128149    0.00000   0.146232   0.109815   0.000000   0.000000   \n",
       "3   0.000000    0.00000   0.000000   0.362176   0.000000   0.000000   \n",
       "4   0.107751    0.00000   0.092217   0.092335   0.000000   0.000000   \n",
       "\n",
       "   tweets_19  tweets_20  tweets_21  tweets_22  tweets_23  tweets_24  \\\n",
       "0   0.000000   0.000000   0.000000   0.000000        0.0   0.000000   \n",
       "1   0.085867   0.313918   0.050817   0.062401        0.0   0.063123   \n",
       "2   0.000000   0.000000   0.183495   0.160230        0.0   0.145876   \n",
       "3   0.000000   0.000000   0.000000   0.198169        0.0   0.000000   \n",
       "4   0.000000   0.073789   0.185146   0.050522        0.0   0.275978   \n",
       "\n",
       "   tweets_25  tweets_26  tweets_27  tweets_28  tweets_29  tweets_30  \\\n",
       "0   0.000000   0.000000   0.000000   0.000000   0.000000   0.000000   \n",
       "1   0.012361   0.032216   0.014149   0.058162   0.055792   0.063741   \n",
       "2   0.000000   0.111675   0.204360   0.149347   0.161168   0.122755   \n",
       "3   0.000000   0.000000   0.000000   0.184708   0.199328   0.000000   \n",
       "4   0.000000   0.187799   0.103099   0.094181   0.000000   0.051608   \n",
       "\n",
       "   tweets_31  tweets_32  tweets_33  tweets_34  tweets_35  tweets_36  \\\n",
       "0        0.0   0.000000   0.000000   0.000000   0.000000   0.000000   \n",
       "1        0.0   0.082165   0.011346   0.042888   0.149012   0.144331   \n",
       "2        0.0   0.146063   0.000000   0.000000   0.000000   0.208467   \n",
       "3        0.0   0.000000   0.000000   0.000000   0.000000   0.171885   \n",
       "4        0.0   0.092110   0.000000   0.000000   0.000000   0.175285   \n",
       "\n",
       "   tweets_37  tweets_38  tweets_39  tweets_40  tweets_41  tweets_42  \\\n",
       "0        0.0        0.0   0.000000   0.000000   0.000000   0.000000   \n",
       "1        0.0        0.0   0.026540   0.165537   0.097279   0.029203   \n",
       "2        0.0        0.0   0.191669   0.083164   0.086466   0.000000   \n",
       "3        0.0        0.0   0.000000   0.205710   0.000000   0.000000   \n",
       "4        0.0        0.0   0.241741   0.000000   0.000000   0.070933   \n",
       "\n",
       "   tweets_43  tweets_44  tweets_45  tweets_46  tweets_47  tweets_48  \\\n",
       "0   0.000000   0.000000   0.000000   0.000000   0.000000   0.000000   \n",
       "1   0.071930   0.091942   0.057225   0.150780   0.015366   0.067382   \n",
       "2   0.264456   0.177064   0.055103   0.118790   0.133165   0.176953   \n",
       "3   0.000000   0.175191   0.000000   0.000000   0.000000   0.000000   \n",
       "4   0.190596   0.089328   0.000000   0.199765   0.055985   0.133909   \n",
       "\n",
       "   tweets_49  tweets_50  tweets_51  tweets_52  tweets_53  tweets_54  \\\n",
       "0   0.000000   0.000000   0.000000   0.000000        0.0   0.000000   \n",
       "1   0.012284   0.026337   0.041589   0.027213        0.0   0.031038   \n",
       "2   0.000000   0.038040   0.160186   0.000000        0.0   0.044830   \n",
       "3   0.000000   0.000000   0.000000   0.259267        0.0   0.000000   \n",
       "4   0.000000   0.143932   0.050508   0.066099        0.0   0.113083   \n",
       "\n",
       "   tweets_55  tweets_56  tweets_57  tweets_58  tweets_59  tweets_60  \\\n",
       "0   0.000000   0.000000   0.000000   0.000000   0.000000   0.000000   \n",
       "1   0.039831   0.052583   0.041122   0.069171   0.078091   0.087843   \n",
       "2   0.153417   0.151897   0.158387   0.039964   0.000000   0.181253   \n",
       "3   0.189742   0.000000   0.000000   0.000000   0.000000   0.000000   \n",
       "4   0.145122   0.047895   0.099882   0.050404   0.000000   0.137163   \n",
       "\n",
       "   tweets_61  tweets_62  tweets_63  tweets_64  tweets_65  tweets_66  \\\n",
       "0   0.000000   0.000000   0.000000   0.000000   0.000000   0.000000   \n",
       "1   0.039400   0.193246   0.000000   0.060958   0.011469   0.010106   \n",
       "2   0.189696   0.000000   0.075238   0.000000   0.000000   0.000000   \n",
       "3   0.187689   0.000000   0.000000   0.000000   0.000000   0.000000   \n",
       "4   0.143552   0.000000   0.000000   0.000000   0.000000   0.073637   \n",
       "\n",
       "   tweets_67  tweets_68  tweets_69  tweets_70  tweets_71  tweets_72  \\\n",
       "0        0.0   0.000000   0.000000   0.000000   0.000000   0.000000   \n",
       "1        0.0   0.117724   0.037668   0.043628   0.000000   0.027865   \n",
       "2        0.0   0.085019   0.043526   0.042010   0.000000   0.080494   \n",
       "3        0.0   0.000000   0.000000   0.000000   0.248263   0.000000   \n",
       "4        0.0   0.000000   0.109793   0.105970   0.000000   0.101523   \n",
       "\n",
       "   tweets_73  tweets_74  tweets_75  tweets_76  tweets_77  tweets_78  \\\n",
       "0   0.000000   0.000000   0.000000   0.000000   0.000000   0.000000   \n",
       "1   0.011732   0.034000   0.056675   0.090229   0.007640   0.023677   \n",
       "2   0.000000   0.000000   0.054573   0.000000   0.044137   0.068396   \n",
       "3   0.000000   0.000000   0.000000   0.000000   0.000000   0.000000   \n",
       "4   0.000000   0.082584   0.000000   0.000000   0.055668   0.000000   \n",
       "\n",
       "   tweets_79  tweets_80  tweets_81  tweets_82  tweets_83  tweets_84  \\\n",
       "0   0.000000    0.00000   0.000000   0.000000   0.000000   0.000000   \n",
       "1   0.011119    0.02157   0.018996   0.013823   0.041560   0.010537   \n",
       "2   0.000000    0.04154   0.000000   0.159722   0.120056   0.000000   \n",
       "3   0.000000    0.00000   0.000000   0.000000   0.000000   0.000000   \n",
       "4   0.000000    0.00000   0.000000   0.352534   0.151420   0.000000   \n",
       "\n",
       "   tweets_85  tweets_86  tweets_87  tweets_88  tweets_89  tweets_90  \\\n",
       "0   0.000000   0.000000   0.000000   0.000000   0.000000   0.000000   \n",
       "1   0.098256   0.071135   0.036775   0.000000   0.038142   0.102021   \n",
       "2   0.141918   0.000000   0.000000   0.000000   0.110182   0.000000   \n",
       "3   0.175521   0.000000   0.000000   0.430782   0.000000   0.265085   \n",
       "4   0.178993   0.051835   0.000000   0.000000   0.138967   0.067582   \n",
       "\n",
       "   tweets_91  tweets_92  tweets_93  tweets_94  tweets_95  tweets_96  \\\n",
       "0   0.000000    0.00000   0.000000   0.000000   0.000000   0.000000   \n",
       "1   0.063007    0.72112   0.032947   0.006625   0.014327   0.014703   \n",
       "2   0.000000    0.00000   0.114210   0.153111   0.082772   0.042472   \n",
       "3   0.000000    0.00000   0.000000   0.000000   0.204740   0.000000   \n",
       "4   0.000000    0.00000   0.048015   0.096555   0.208791   0.053567   \n",
       "\n",
       "   tweets_97  tweets_98  tweets_99  description_0  description_1  \\\n",
       "0   0.000000   0.000000   0.000000            0.0            0.0   \n",
       "1   0.058188   0.000000   0.021601            0.0            0.0   \n",
       "2   0.084044   0.000000   0.124799            0.0            0.0   \n",
       "3   0.000000   0.221159   0.000000            0.0            0.0   \n",
       "4   0.106000   0.169151   0.104935            0.0            0.0   \n",
       "\n",
       "   description_2  description_3  description_4  description_5  description_6  \\\n",
       "0            0.0            0.0            0.0            0.0            0.0   \n",
       "1            0.0            0.0            0.0            0.0            0.0   \n",
       "2            0.0            0.0            0.0            0.0            0.0   \n",
       "3            0.0            0.0            0.0            0.0            0.0   \n",
       "4            0.0            0.0            0.0            0.0            0.0   \n",
       "\n",
       "   description_7  description_8  description_9  description_10  \\\n",
       "0            0.0            0.0            0.0             0.0   \n",
       "1            0.0            0.0            0.0             0.0   \n",
       "2            0.0            0.0            0.0             0.0   \n",
       "3            0.0            0.0            0.0             0.0   \n",
       "4            0.0            0.0            0.0             0.0   \n",
       "\n",
       "   description_11  description_12  description_13  description_14  \\\n",
       "0             0.0             0.0             0.0             0.0   \n",
       "1             0.0             0.0             0.0             0.0   \n",
       "2             0.0             0.0             0.0             0.0   \n",
       "3             0.0             0.0             0.0             0.0   \n",
       "4             0.0             0.0             0.0             0.0   \n",
       "\n",
       "   description_15  description_16  description_17  description_18  \\\n",
       "0             0.0             0.0             0.0             0.0   \n",
       "1             0.0             0.0             0.0             0.0   \n",
       "2             0.0             0.0             0.0             0.0   \n",
       "3             0.0             0.0             0.0             0.0   \n",
       "4             0.0             0.0             0.0             0.0   \n",
       "\n",
       "   description_19  description_20  description_21  description_22  \\\n",
       "0             0.0             0.0             0.0             0.0   \n",
       "1             0.0             0.0             0.0             0.0   \n",
       "2             0.0             0.0             0.0             0.0   \n",
       "3             0.0             0.0             0.0             0.0   \n",
       "4             0.0             0.0             0.0             0.0   \n",
       "\n",
       "   description_23  description_24  description_25  description_26  \\\n",
       "0             0.0             0.0             0.0             0.0   \n",
       "1             0.0             0.0             0.0             0.0   \n",
       "2             0.0             0.0             0.0             0.0   \n",
       "3             0.0             0.0             0.0             0.0   \n",
       "4             0.0             0.0             0.0             0.0   \n",
       "\n",
       "   description_27  description_28  description_29  description_30  \\\n",
       "0             0.0             0.0             0.0             0.0   \n",
       "1             0.0             0.0             0.0             0.0   \n",
       "2             0.0             0.0             0.0             0.0   \n",
       "3             0.0             0.0             0.0             0.0   \n",
       "4             0.0             0.0             0.0             0.0   \n",
       "\n",
       "   description_31  description_32  description_33  description_34  \\\n",
       "0             0.0             0.0             0.0             0.0   \n",
       "1             0.0             0.0             0.0             0.0   \n",
       "2             0.0             0.0             0.0             0.0   \n",
       "3             0.0             0.0             0.0             0.0   \n",
       "4             0.0             0.0             0.0             0.0   \n",
       "\n",
       "   description_35  description_36  description_37  description_38  \\\n",
       "0             0.0             0.0             0.0             0.0   \n",
       "1             0.0             0.0             0.0             0.0   \n",
       "2             0.0             0.0             0.0             0.0   \n",
       "3             0.0             0.0             0.0             0.0   \n",
       "4             0.0             0.0             0.0             0.0   \n",
       "\n",
       "   description_39  description_40  description_41  description_42  \\\n",
       "0             0.0             0.0             0.0             0.0   \n",
       "1             0.0             0.0             0.0             0.0   \n",
       "2             0.0             0.0             0.0             0.0   \n",
       "3             0.0             0.0             0.0             0.0   \n",
       "4             0.0             0.0             0.0             0.0   \n",
       "\n",
       "   description_43  description_44  description_45  description_46  \\\n",
       "0             0.0             0.0             0.0             0.0   \n",
       "1             0.0             0.0             1.0             0.0   \n",
       "2             0.0             0.0             0.0             0.0   \n",
       "3             0.0             0.0             0.0             0.0   \n",
       "4             0.0             0.0             0.0             0.0   \n",
       "\n",
       "   description_47  description_48  description_49  description_50  \\\n",
       "0             0.0             0.0             0.0             0.0   \n",
       "1             0.0             0.0             0.0             0.0   \n",
       "2             0.0             0.0             0.0             0.0   \n",
       "3             0.0             0.0             0.0             0.0   \n",
       "4             0.0             0.0             0.0             0.0   \n",
       "\n",
       "   description_51  description_52  description_53  description_54  \\\n",
       "0             0.0             0.0             0.0             0.0   \n",
       "1             0.0             0.0             0.0             0.0   \n",
       "2             0.0             0.0             0.0             0.0   \n",
       "3             0.0             0.0             0.0             0.0   \n",
       "4             0.0             0.0             0.0             0.0   \n",
       "\n",
       "   description_55  description_56  description_57  description_58  \\\n",
       "0             0.0             0.0             0.0             0.0   \n",
       "1             0.0             0.0             0.0             0.0   \n",
       "2             0.0             0.0             0.0             0.0   \n",
       "3             0.0             0.0             0.0             0.0   \n",
       "4             0.0             0.0             0.0             0.0   \n",
       "\n",
       "   description_59  description_60  description_61  description_62  \\\n",
       "0             0.0             0.0             0.0             0.0   \n",
       "1             0.0             0.0             0.0             0.0   \n",
       "2             0.0             0.0             0.0             0.0   \n",
       "3             0.0             0.0             0.0             0.0   \n",
       "4             0.0             0.0             0.0             0.0   \n",
       "\n",
       "   description_63  description_64  description_65  description_66  \\\n",
       "0             0.0             0.0             0.0             0.0   \n",
       "1             0.0             0.0             0.0             0.0   \n",
       "2             0.0             0.0             0.0             0.0   \n",
       "3             0.0             0.0             0.0             0.0   \n",
       "4             0.0             0.0             0.0             0.0   \n",
       "\n",
       "   description_67  description_68  description_69  description_70  \\\n",
       "0             0.0             0.0             0.0             0.0   \n",
       "1             0.0             0.0             0.0             0.0   \n",
       "2             0.0             0.0             0.0             0.0   \n",
       "3             0.0             0.0             0.0             0.0   \n",
       "4             0.0             0.0             0.0             0.0   \n",
       "\n",
       "   description_71  description_72  description_73  description_74  \\\n",
       "0             0.0             0.0             0.0             0.0   \n",
       "1             0.0             0.0             0.0             0.0   \n",
       "2             0.0             0.0             0.0             0.0   \n",
       "3             0.0             0.0             0.0             0.0   \n",
       "4             0.0             0.0             0.0             0.0   \n",
       "\n",
       "   description_75  description_76  description_77  description_78  \\\n",
       "0             0.0             0.0             0.0        0.885267   \n",
       "1             0.0             0.0             0.0        0.000000   \n",
       "2             0.0             0.0             0.0        0.000000   \n",
       "3             0.0             0.0             0.0        0.000000   \n",
       "4             0.0             0.0             0.0        0.000000   \n",
       "\n",
       "   description_79  description_80  description_81  description_82  \\\n",
       "0             0.0             0.0             0.0             0.0   \n",
       "1             0.0             0.0             0.0             0.0   \n",
       "2             0.0             0.0             0.0             0.0   \n",
       "3             0.0             0.0             0.0             0.0   \n",
       "4             0.0             0.0             0.0             0.0   \n",
       "\n",
       "   description_83  description_84  description_85  description_86  \\\n",
       "0             0.0             0.0             0.0        0.465082   \n",
       "1             0.0             0.0             0.0        0.000000   \n",
       "2             0.0             0.0             0.0        0.000000   \n",
       "3             0.0             0.0             0.0        0.000000   \n",
       "4             0.0             0.0             0.0        0.000000   \n",
       "\n",
       "   description_87  description_88  description_89  description_90  \\\n",
       "0             0.0             0.0             0.0             0.0   \n",
       "1             0.0             0.0             0.0             0.0   \n",
       "2             0.0             0.0             0.0             0.0   \n",
       "3             0.0             0.0             0.0             0.0   \n",
       "4             0.0             0.0             0.0             0.0   \n",
       "\n",
       "   description_91  description_92  description_93  description_94  \\\n",
       "0             0.0             0.0             0.0             0.0   \n",
       "1             0.0             0.0             0.0             0.0   \n",
       "2             0.0             0.0             0.0             0.0   \n",
       "3             0.0             0.0             0.0             0.0   \n",
       "4             0.0             0.0             0.0             0.0   \n",
       "\n",
       "   description_95  description_96  description_97  description_98  \\\n",
       "0             0.0             0.0             0.0             0.0   \n",
       "1             0.0             0.0             0.0             0.0   \n",
       "2             0.0             0.0             0.0             0.0   \n",
       "3             0.0             0.0             0.0             0.0   \n",
       "4             0.0             0.0             0.0             0.0   \n",
       "\n",
       "   description_99  \n",
       "0             0.0  \n",
       "1             0.0  \n",
       "2             0.0  \n",
       "3             0.0  \n",
       "4             0.0  "
      ],
      "text/html": "<div>\n<style scoped>\n    .dataframe tbody tr th:only-of-type {\n        vertical-align: middle;\n    }\n\n    .dataframe tbody tr th {\n        vertical-align: top;\n    }\n\n    .dataframe thead th {\n        text-align: right;\n    }\n</style>\n<table border=\"1\" class=\"dataframe\">\n  <thead>\n    <tr style=\"text-align: right;\">\n      <th></th>\n      <th>statuses_count</th>\n      <th>followers_count</th>\n      <th>friends_count</th>\n      <th>favourites_count</th>\n      <th>listed_count</th>\n      <th>default_profile</th>\n      <th>default_profile_image</th>\n      <th>geo_enabled</th>\n      <th>profile_use_background_image</th>\n      <th>profile_background_tile</th>\n      <th>tweet_frequency</th>\n      <th>number_of_tags</th>\n      <th>number_of_mentions</th>\n      <th>tweet_weekend_frequency</th>\n      <th>tweet_weekday_frequency</th>\n      <th>following_to_followers_ratio</th>\n      <th>username_length</th>\n      <th>screen_name_length</th>\n      <th>username_spec_char_count</th>\n      <th>screen_name_spec_char_count</th>\n      <th>has_url</th>\n      <th>tweets_0</th>\n      <th>tweets_1</th>\n      <th>tweets_2</th>\n      <th>tweets_3</th>\n      <th>tweets_4</th>\n      <th>tweets_5</th>\n      <th>tweets_6</th>\n      <th>tweets_7</th>\n      <th>tweets_8</th>\n      <th>tweets_9</th>\n      <th>tweets_10</th>\n      <th>tweets_11</th>\n      <th>tweets_12</th>\n      <th>tweets_13</th>\n      <th>tweets_14</th>\n      <th>tweets_15</th>\n      <th>tweets_16</th>\n      <th>tweets_17</th>\n      <th>tweets_18</th>\n      <th>tweets_19</th>\n      <th>tweets_20</th>\n      <th>tweets_21</th>\n      <th>tweets_22</th>\n      <th>tweets_23</th>\n      <th>tweets_24</th>\n      <th>tweets_25</th>\n      <th>tweets_26</th>\n      <th>tweets_27</th>\n      <th>tweets_28</th>\n      <th>tweets_29</th>\n      <th>tweets_30</th>\n      <th>tweets_31</th>\n      <th>tweets_32</th>\n      <th>tweets_33</th>\n      <th>tweets_34</th>\n      <th>tweets_35</th>\n      <th>tweets_36</th>\n      <th>tweets_37</th>\n      <th>tweets_38</th>\n      <th>tweets_39</th>\n      <th>tweets_40</th>\n      <th>tweets_41</th>\n      <th>tweets_42</th>\n      <th>tweets_43</th>\n      <th>tweets_44</th>\n      <th>tweets_45</th>\n      <th>tweets_46</th>\n      <th>tweets_47</th>\n      <th>tweets_48</th>\n      <th>tweets_49</th>\n      <th>tweets_50</th>\n      <th>tweets_51</th>\n      <th>tweets_52</th>\n      <th>tweets_53</th>\n      <th>tweets_54</th>\n      <th>tweets_55</th>\n      <th>tweets_56</th>\n      <th>tweets_57</th>\n      <th>tweets_58</th>\n      <th>tweets_59</th>\n      <th>tweets_60</th>\n      <th>tweets_61</th>\n      <th>tweets_62</th>\n      <th>tweets_63</th>\n      <th>tweets_64</th>\n      <th>tweets_65</th>\n      <th>tweets_66</th>\n      <th>tweets_67</th>\n      <th>tweets_68</th>\n      <th>tweets_69</th>\n      <th>tweets_70</th>\n      <th>tweets_71</th>\n      <th>tweets_72</th>\n      <th>tweets_73</th>\n      <th>tweets_74</th>\n      <th>tweets_75</th>\n      <th>tweets_76</th>\n      <th>tweets_77</th>\n      <th>tweets_78</th>\n      <th>tweets_79</th>\n      <th>tweets_80</th>\n      <th>tweets_81</th>\n      <th>tweets_82</th>\n      <th>tweets_83</th>\n      <th>tweets_84</th>\n      <th>tweets_85</th>\n      <th>tweets_86</th>\n      <th>tweets_87</th>\n      <th>tweets_88</th>\n      <th>tweets_89</th>\n      <th>tweets_90</th>\n      <th>tweets_91</th>\n      <th>tweets_92</th>\n      <th>tweets_93</th>\n      <th>tweets_94</th>\n      <th>tweets_95</th>\n      <th>tweets_96</th>\n      <th>tweets_97</th>\n      <th>tweets_98</th>\n      <th>tweets_99</th>\n      <th>description_0</th>\n      <th>description_1</th>\n      <th>description_2</th>\n      <th>description_3</th>\n      <th>description_4</th>\n      <th>description_5</th>\n      <th>description_6</th>\n      <th>description_7</th>\n      <th>description_8</th>\n      <th>description_9</th>\n      <th>description_10</th>\n      <th>description_11</th>\n      <th>description_12</th>\n      <th>description_13</th>\n      <th>description_14</th>\n      <th>description_15</th>\n      <th>description_16</th>\n      <th>description_17</th>\n      <th>description_18</th>\n      <th>description_19</th>\n      <th>description_20</th>\n      <th>description_21</th>\n      <th>description_22</th>\n      <th>description_23</th>\n      <th>description_24</th>\n      <th>description_25</th>\n      <th>description_26</th>\n      <th>description_27</th>\n      <th>description_28</th>\n      <th>description_29</th>\n      <th>description_30</th>\n      <th>description_31</th>\n      <th>description_32</th>\n      <th>description_33</th>\n      <th>description_34</th>\n      <th>description_35</th>\n      <th>description_36</th>\n      <th>description_37</th>\n      <th>description_38</th>\n      <th>description_39</th>\n      <th>description_40</th>\n      <th>description_41</th>\n      <th>description_42</th>\n      <th>description_43</th>\n      <th>description_44</th>\n      <th>description_45</th>\n      <th>description_46</th>\n      <th>description_47</th>\n      <th>description_48</th>\n      <th>description_49</th>\n      <th>description_50</th>\n      <th>description_51</th>\n      <th>description_52</th>\n      <th>description_53</th>\n      <th>description_54</th>\n      <th>description_55</th>\n      <th>description_56</th>\n      <th>description_57</th>\n      <th>description_58</th>\n      <th>description_59</th>\n      <th>description_60</th>\n      <th>description_61</th>\n      <th>description_62</th>\n      <th>description_63</th>\n      <th>description_64</th>\n      <th>description_65</th>\n      <th>description_66</th>\n      <th>description_67</th>\n      <th>description_68</th>\n      <th>description_69</th>\n      <th>description_70</th>\n      <th>description_71</th>\n      <th>description_72</th>\n      <th>description_73</th>\n      <th>description_74</th>\n      <th>description_75</th>\n      <th>description_76</th>\n      <th>description_77</th>\n      <th>description_78</th>\n      <th>description_79</th>\n      <th>description_80</th>\n      <th>description_81</th>\n      <th>description_82</th>\n      <th>description_83</th>\n      <th>description_84</th>\n      <th>description_85</th>\n      <th>description_86</th>\n      <th>description_87</th>\n      <th>description_88</th>\n      <th>description_89</th>\n      <th>description_90</th>\n      <th>description_91</th>\n      <th>description_92</th>\n      <th>description_93</th>\n      <th>description_94</th>\n      <th>description_95</th>\n      <th>description_96</th>\n      <th>description_97</th>\n      <th>description_98</th>\n      <th>description_99</th>\n    </tr>\n  </thead>\n  <tbody>\n    <tr>\n      <th>0</th>\n      <td>124434</td>\n      <td>1818</td>\n      <td>1985</td>\n      <td>7452</td>\n      <td>41</td>\n      <td>0.0</td>\n      <td>0.0</td>\n      <td>1.0</td>\n      <td>1.0</td>\n      <td>1.0</td>\n      <td>0.000000</td>\n      <td>0.0</td>\n      <td>0.0</td>\n      <td>0.000000</td>\n      <td>0.000000</td>\n      <td>1.091859</td>\n      <td>13</td>\n      <td>14</td>\n      <td>1</td>\n      <td>0</td>\n      <td>0</td>\n      <td>0.000000</td>\n      <td>0.000000</td>\n      <td>0.000000</td>\n      <td>0.000000</td>\n      <td>0.000000</td>\n      <td>0.000000</td>\n      <td>0.000000</td>\n      <td>0.000000</td>\n      <td>0.000000</td>\n      <td>0.000000</td>\n      <td>0.000000</td>\n      <td>0.000000</td>\n      <td>0.000000</td>\n      <td>0.000000</td>\n      <td>0.00000</td>\n      <td>0.000000</td>\n      <td>0.000000</td>\n      <td>0.000000</td>\n      <td>0.000000</td>\n      <td>0.000000</td>\n      <td>0.000000</td>\n      <td>0.000000</td>\n      <td>0.000000</td>\n      <td>0.0</td>\n      <td>0.000000</td>\n      <td>0.000000</td>\n      <td>0.000000</td>\n      <td>0.000000</td>\n      <td>0.000000</td>\n      <td>0.000000</td>\n      <td>0.000000</td>\n      <td>0.0</td>\n      <td>0.000000</td>\n      <td>0.000000</td>\n      <td>0.000000</td>\n      <td>0.000000</td>\n      <td>0.000000</td>\n      <td>0.0</td>\n      <td>0.0</td>\n      <td>0.000000</td>\n      <td>0.000000</td>\n      <td>0.000000</td>\n      <td>0.000000</td>\n      <td>0.000000</td>\n      <td>0.000000</td>\n      <td>0.000000</td>\n      <td>0.000000</td>\n      <td>0.000000</td>\n      <td>0.000000</td>\n      <td>0.000000</td>\n      <td>0.000000</td>\n      <td>0.000000</td>\n      <td>0.000000</td>\n      <td>0.0</td>\n      <td>0.000000</td>\n      <td>0.000000</td>\n      <td>0.000000</td>\n      <td>0.000000</td>\n      <td>0.000000</td>\n      <td>0.000000</td>\n      <td>0.000000</td>\n      <td>0.000000</td>\n      <td>0.000000</td>\n      <td>0.000000</td>\n      <td>0.000000</td>\n      <td>0.000000</td>\n      <td>0.000000</td>\n      <td>0.0</td>\n      <td>0.000000</td>\n      <td>0.000000</td>\n      <td>0.000000</td>\n      <td>0.000000</td>\n      <td>0.000000</td>\n      <td>0.000000</td>\n      <td>0.000000</td>\n      <td>0.000000</td>\n      <td>0.000000</td>\n      <td>0.000000</td>\n      <td>0.000000</td>\n      <td>0.000000</td>\n      <td>0.00000</td>\n      <td>0.000000</td>\n      <td>0.000000</td>\n      <td>0.000000</td>\n      <td>0.000000</td>\n      <td>0.000000</td>\n      <td>0.000000</td>\n      <td>0.000000</td>\n      <td>0.000000</td>\n      <td>0.000000</td>\n      <td>0.000000</td>\n      <td>0.000000</td>\n      <td>0.00000</td>\n      <td>0.000000</td>\n      <td>0.000000</td>\n      <td>0.000000</td>\n      <td>0.000000</td>\n      <td>0.000000</td>\n      <td>0.000000</td>\n      <td>0.000000</td>\n      <td>0.0</td>\n      <td>0.0</td>\n      <td>0.0</td>\n      <td>0.0</td>\n      <td>0.0</td>\n      <td>0.0</td>\n      <td>0.0</td>\n      <td>0.0</td>\n      <td>0.0</td>\n      <td>0.0</td>\n      <td>0.0</td>\n      <td>0.0</td>\n      <td>0.0</td>\n      <td>0.0</td>\n      <td>0.0</td>\n      <td>0.0</td>\n      <td>0.0</td>\n      <td>0.0</td>\n      <td>0.0</td>\n      <td>0.0</td>\n      <td>0.0</td>\n      <td>0.0</td>\n      <td>0.0</td>\n      <td>0.0</td>\n      <td>0.0</td>\n      <td>0.0</td>\n      <td>0.0</td>\n      <td>0.0</td>\n      <td>0.0</td>\n      <td>0.0</td>\n      <td>0.0</td>\n      <td>0.0</td>\n      <td>0.0</td>\n      <td>0.0</td>\n      <td>0.0</td>\n      <td>0.0</td>\n      <td>0.0</td>\n      <td>0.0</td>\n      <td>0.0</td>\n      <td>0.0</td>\n      <td>0.0</td>\n      <td>0.0</td>\n      <td>0.0</td>\n      <td>0.0</td>\n      <td>0.0</td>\n      <td>0.0</td>\n      <td>0.0</td>\n      <td>0.0</td>\n      <td>0.0</td>\n      <td>0.0</td>\n      <td>0.0</td>\n      <td>0.0</td>\n      <td>0.0</td>\n      <td>0.0</td>\n      <td>0.0</td>\n      <td>0.0</td>\n      <td>0.0</td>\n      <td>0.0</td>\n      <td>0.0</td>\n      <td>0.0</td>\n      <td>0.0</td>\n      <td>0.0</td>\n      <td>0.0</td>\n      <td>0.0</td>\n      <td>0.0</td>\n      <td>0.0</td>\n      <td>0.0</td>\n      <td>0.0</td>\n      <td>0.0</td>\n      <td>0.0</td>\n      <td>0.0</td>\n      <td>0.0</td>\n      <td>0.0</td>\n      <td>0.0</td>\n      <td>0.0</td>\n      <td>0.0</td>\n      <td>0.0</td>\n      <td>0.0</td>\n      <td>0.885267</td>\n      <td>0.0</td>\n      <td>0.0</td>\n      <td>0.0</td>\n      <td>0.0</td>\n      <td>0.0</td>\n      <td>0.0</td>\n      <td>0.0</td>\n      <td>0.465082</td>\n      <td>0.0</td>\n      <td>0.0</td>\n      <td>0.0</td>\n      <td>0.0</td>\n      <td>0.0</td>\n      <td>0.0</td>\n      <td>0.0</td>\n      <td>0.0</td>\n      <td>0.0</td>\n      <td>0.0</td>\n      <td>0.0</td>\n      <td>0.0</td>\n      <td>0.0</td>\n    </tr>\n    <tr>\n      <th>1</th>\n      <td>524</td>\n      <td>42</td>\n      <td>40</td>\n      <td>0</td>\n      <td>0</td>\n      <td>0.0</td>\n      <td>0.0</td>\n      <td>0.0</td>\n      <td>1.0</td>\n      <td>0.0</td>\n      <td>2.143443</td>\n      <td>203.0</td>\n      <td>273.0</td>\n      <td>2.230769</td>\n      <td>2.111732</td>\n      <td>0.952381</td>\n      <td>20</td>\n      <td>15</td>\n      <td>1</td>\n      <td>0</td>\n      <td>0</td>\n      <td>0.038142</td>\n      <td>0.021589</td>\n      <td>0.056041</td>\n      <td>0.012284</td>\n      <td>0.041838</td>\n      <td>0.095130</td>\n      <td>0.118690</td>\n      <td>0.152606</td>\n      <td>0.020356</td>\n      <td>0.024172</td>\n      <td>0.048153</td>\n      <td>0.013064</td>\n      <td>0.038478</td>\n      <td>0.022181</td>\n      <td>0.05482</td>\n      <td>0.063277</td>\n      <td>0.012672</td>\n      <td>0.060856</td>\n      <td>0.063827</td>\n      <td>0.085867</td>\n      <td>0.313918</td>\n      <td>0.050817</td>\n      <td>0.062401</td>\n      <td>0.0</td>\n      <td>0.063123</td>\n      <td>0.012361</td>\n      <td>0.032216</td>\n      <td>0.014149</td>\n      <td>0.058162</td>\n      <td>0.055792</td>\n      <td>0.063741</td>\n      <td>0.0</td>\n      <td>0.082165</td>\n      <td>0.011346</td>\n      <td>0.042888</td>\n      <td>0.149012</td>\n      <td>0.144331</td>\n      <td>0.0</td>\n      <td>0.0</td>\n      <td>0.026540</td>\n      <td>0.165537</td>\n      <td>0.097279</td>\n      <td>0.029203</td>\n      <td>0.071930</td>\n      <td>0.091942</td>\n      <td>0.057225</td>\n      <td>0.150780</td>\n      <td>0.015366</td>\n      <td>0.067382</td>\n      <td>0.012284</td>\n      <td>0.026337</td>\n      <td>0.041589</td>\n      <td>0.027213</td>\n      <td>0.0</td>\n      <td>0.031038</td>\n      <td>0.039831</td>\n      <td>0.052583</td>\n      <td>0.041122</td>\n      <td>0.069171</td>\n      <td>0.078091</td>\n      <td>0.087843</td>\n      <td>0.039400</td>\n      <td>0.193246</td>\n      <td>0.000000</td>\n      <td>0.060958</td>\n      <td>0.011469</td>\n      <td>0.010106</td>\n      <td>0.0</td>\n      <td>0.117724</td>\n      <td>0.037668</td>\n      <td>0.043628</td>\n      <td>0.000000</td>\n      <td>0.027865</td>\n      <td>0.011732</td>\n      <td>0.034000</td>\n      <td>0.056675</td>\n      <td>0.090229</td>\n      <td>0.007640</td>\n      <td>0.023677</td>\n      <td>0.011119</td>\n      <td>0.02157</td>\n      <td>0.018996</td>\n      <td>0.013823</td>\n      <td>0.041560</td>\n      <td>0.010537</td>\n      <td>0.098256</td>\n      <td>0.071135</td>\n      <td>0.036775</td>\n      <td>0.000000</td>\n      <td>0.038142</td>\n      <td>0.102021</td>\n      <td>0.063007</td>\n      <td>0.72112</td>\n      <td>0.032947</td>\n      <td>0.006625</td>\n      <td>0.014327</td>\n      <td>0.014703</td>\n      <td>0.058188</td>\n      <td>0.000000</td>\n      <td>0.021601</td>\n      <td>0.0</td>\n      <td>0.0</td>\n      <td>0.0</td>\n      <td>0.0</td>\n      <td>0.0</td>\n      <td>0.0</td>\n      <td>0.0</td>\n      <td>0.0</td>\n      <td>0.0</td>\n      <td>0.0</td>\n      <td>0.0</td>\n      <td>0.0</td>\n      <td>0.0</td>\n      <td>0.0</td>\n      <td>0.0</td>\n      <td>0.0</td>\n      <td>0.0</td>\n      <td>0.0</td>\n      <td>0.0</td>\n      <td>0.0</td>\n      <td>0.0</td>\n      <td>0.0</td>\n      <td>0.0</td>\n      <td>0.0</td>\n      <td>0.0</td>\n      <td>0.0</td>\n      <td>0.0</td>\n      <td>0.0</td>\n      <td>0.0</td>\n      <td>0.0</td>\n      <td>0.0</td>\n      <td>0.0</td>\n      <td>0.0</td>\n      <td>0.0</td>\n      <td>0.0</td>\n      <td>0.0</td>\n      <td>0.0</td>\n      <td>0.0</td>\n      <td>0.0</td>\n      <td>0.0</td>\n      <td>0.0</td>\n      <td>0.0</td>\n      <td>0.0</td>\n      <td>0.0</td>\n      <td>0.0</td>\n      <td>1.0</td>\n      <td>0.0</td>\n      <td>0.0</td>\n      <td>0.0</td>\n      <td>0.0</td>\n      <td>0.0</td>\n      <td>0.0</td>\n      <td>0.0</td>\n      <td>0.0</td>\n      <td>0.0</td>\n      <td>0.0</td>\n      <td>0.0</td>\n      <td>0.0</td>\n      <td>0.0</td>\n      <td>0.0</td>\n      <td>0.0</td>\n      <td>0.0</td>\n      <td>0.0</td>\n      <td>0.0</td>\n      <td>0.0</td>\n      <td>0.0</td>\n      <td>0.0</td>\n      <td>0.0</td>\n      <td>0.0</td>\n      <td>0.0</td>\n      <td>0.0</td>\n      <td>0.0</td>\n      <td>0.0</td>\n      <td>0.0</td>\n      <td>0.0</td>\n      <td>0.0</td>\n      <td>0.0</td>\n      <td>0.0</td>\n      <td>0.000000</td>\n      <td>0.0</td>\n      <td>0.0</td>\n      <td>0.0</td>\n      <td>0.0</td>\n      <td>0.0</td>\n      <td>0.0</td>\n      <td>0.0</td>\n      <td>0.000000</td>\n      <td>0.0</td>\n      <td>0.0</td>\n      <td>0.0</td>\n      <td>0.0</td>\n      <td>0.0</td>\n      <td>0.0</td>\n      <td>0.0</td>\n      <td>0.0</td>\n      <td>0.0</td>\n      <td>0.0</td>\n      <td>0.0</td>\n      <td>0.0</td>\n      <td>0.0</td>\n    </tr>\n    <tr>\n      <th>2</th>\n      <td>73</td>\n      <td>4</td>\n      <td>42</td>\n      <td>0</td>\n      <td>1</td>\n      <td>0.0</td>\n      <td>0.0</td>\n      <td>0.0</td>\n      <td>1.0</td>\n      <td>1.0</td>\n      <td>4.961538</td>\n      <td>7.0</td>\n      <td>47.0</td>\n      <td>5.714286</td>\n      <td>4.684211</td>\n      <td>10.500000</td>\n      <td>12</td>\n      <td>11</td>\n      <td>1</td>\n      <td>0</td>\n      <td>0</td>\n      <td>0.000000</td>\n      <td>0.124728</td>\n      <td>0.080944</td>\n      <td>0.000000</td>\n      <td>0.080573</td>\n      <td>0.235547</td>\n      <td>0.161347</td>\n      <td>0.000000</td>\n      <td>0.000000</td>\n      <td>0.000000</td>\n      <td>0.000000</td>\n      <td>0.113219</td>\n      <td>0.000000</td>\n      <td>0.128149</td>\n      <td>0.00000</td>\n      <td>0.146232</td>\n      <td>0.109815</td>\n      <td>0.000000</td>\n      <td>0.000000</td>\n      <td>0.000000</td>\n      <td>0.000000</td>\n      <td>0.183495</td>\n      <td>0.160230</td>\n      <td>0.0</td>\n      <td>0.145876</td>\n      <td>0.000000</td>\n      <td>0.111675</td>\n      <td>0.204360</td>\n      <td>0.149347</td>\n      <td>0.161168</td>\n      <td>0.122755</td>\n      <td>0.0</td>\n      <td>0.146063</td>\n      <td>0.000000</td>\n      <td>0.000000</td>\n      <td>0.000000</td>\n      <td>0.208467</td>\n      <td>0.0</td>\n      <td>0.0</td>\n      <td>0.191669</td>\n      <td>0.083164</td>\n      <td>0.086466</td>\n      <td>0.000000</td>\n      <td>0.264456</td>\n      <td>0.177064</td>\n      <td>0.055103</td>\n      <td>0.118790</td>\n      <td>0.133165</td>\n      <td>0.176953</td>\n      <td>0.000000</td>\n      <td>0.038040</td>\n      <td>0.160186</td>\n      <td>0.000000</td>\n      <td>0.0</td>\n      <td>0.044830</td>\n      <td>0.153417</td>\n      <td>0.151897</td>\n      <td>0.158387</td>\n      <td>0.039964</td>\n      <td>0.000000</td>\n      <td>0.181253</td>\n      <td>0.189696</td>\n      <td>0.000000</td>\n      <td>0.075238</td>\n      <td>0.000000</td>\n      <td>0.000000</td>\n      <td>0.000000</td>\n      <td>0.0</td>\n      <td>0.085019</td>\n      <td>0.043526</td>\n      <td>0.042010</td>\n      <td>0.000000</td>\n      <td>0.080494</td>\n      <td>0.000000</td>\n      <td>0.000000</td>\n      <td>0.054573</td>\n      <td>0.000000</td>\n      <td>0.044137</td>\n      <td>0.068396</td>\n      <td>0.000000</td>\n      <td>0.04154</td>\n      <td>0.000000</td>\n      <td>0.159722</td>\n      <td>0.120056</td>\n      <td>0.000000</td>\n      <td>0.141918</td>\n      <td>0.000000</td>\n      <td>0.000000</td>\n      <td>0.000000</td>\n      <td>0.110182</td>\n      <td>0.000000</td>\n      <td>0.000000</td>\n      <td>0.00000</td>\n      <td>0.114210</td>\n      <td>0.153111</td>\n      <td>0.082772</td>\n      <td>0.042472</td>\n      <td>0.084044</td>\n      <td>0.000000</td>\n      <td>0.124799</td>\n      <td>0.0</td>\n      <td>0.0</td>\n      <td>0.0</td>\n      <td>0.0</td>\n      <td>0.0</td>\n      <td>0.0</td>\n      <td>0.0</td>\n      <td>0.0</td>\n      <td>0.0</td>\n      <td>0.0</td>\n      <td>0.0</td>\n      <td>0.0</td>\n      <td>0.0</td>\n      <td>0.0</td>\n      <td>0.0</td>\n      <td>0.0</td>\n      <td>0.0</td>\n      <td>0.0</td>\n      <td>0.0</td>\n      <td>0.0</td>\n      <td>0.0</td>\n      <td>0.0</td>\n      <td>0.0</td>\n      <td>0.0</td>\n      <td>0.0</td>\n      <td>0.0</td>\n      <td>0.0</td>\n      <td>0.0</td>\n      <td>0.0</td>\n      <td>0.0</td>\n      <td>0.0</td>\n      <td>0.0</td>\n      <td>0.0</td>\n      <td>0.0</td>\n      <td>0.0</td>\n      <td>0.0</td>\n      <td>0.0</td>\n      <td>0.0</td>\n      <td>0.0</td>\n      <td>0.0</td>\n      <td>0.0</td>\n      <td>0.0</td>\n      <td>0.0</td>\n      <td>0.0</td>\n      <td>0.0</td>\n      <td>0.0</td>\n      <td>0.0</td>\n      <td>0.0</td>\n      <td>0.0</td>\n      <td>0.0</td>\n      <td>0.0</td>\n      <td>0.0</td>\n      <td>0.0</td>\n      <td>0.0</td>\n      <td>0.0</td>\n      <td>0.0</td>\n      <td>0.0</td>\n      <td>0.0</td>\n      <td>0.0</td>\n      <td>0.0</td>\n      <td>0.0</td>\n      <td>0.0</td>\n      <td>0.0</td>\n      <td>0.0</td>\n      <td>0.0</td>\n      <td>0.0</td>\n      <td>0.0</td>\n      <td>0.0</td>\n      <td>0.0</td>\n      <td>0.0</td>\n      <td>0.0</td>\n      <td>0.0</td>\n      <td>0.0</td>\n      <td>0.0</td>\n      <td>0.0</td>\n      <td>0.0</td>\n      <td>0.0</td>\n      <td>0.0</td>\n      <td>0.000000</td>\n      <td>0.0</td>\n      <td>0.0</td>\n      <td>0.0</td>\n      <td>0.0</td>\n      <td>0.0</td>\n      <td>0.0</td>\n      <td>0.0</td>\n      <td>0.000000</td>\n      <td>0.0</td>\n      <td>0.0</td>\n      <td>0.0</td>\n      <td>0.0</td>\n      <td>0.0</td>\n      <td>0.0</td>\n      <td>0.0</td>\n      <td>0.0</td>\n      <td>0.0</td>\n      <td>0.0</td>\n      <td>0.0</td>\n      <td>0.0</td>\n      <td>0.0</td>\n    </tr>\n    <tr>\n      <th>3</th>\n      <td>18</td>\n      <td>10</td>\n      <td>220</td>\n      <td>0</td>\n      <td>0</td>\n      <td>1.0</td>\n      <td>0.0</td>\n      <td>0.0</td>\n      <td>1.0</td>\n      <td>0.0</td>\n      <td>2.117647</td>\n      <td>6.0</td>\n      <td>0.0</td>\n      <td>2.000000</td>\n      <td>2.166667</td>\n      <td>22.000000</td>\n      <td>15</td>\n      <td>15</td>\n      <td>1</td>\n      <td>0</td>\n      <td>0</td>\n      <td>0.000000</td>\n      <td>0.000000</td>\n      <td>0.000000</td>\n      <td>0.000000</td>\n      <td>0.000000</td>\n      <td>0.000000</td>\n      <td>0.000000</td>\n      <td>0.000000</td>\n      <td>0.000000</td>\n      <td>0.000000</td>\n      <td>0.000000</td>\n      <td>0.000000</td>\n      <td>0.274940</td>\n      <td>0.000000</td>\n      <td>0.00000</td>\n      <td>0.000000</td>\n      <td>0.362176</td>\n      <td>0.000000</td>\n      <td>0.000000</td>\n      <td>0.000000</td>\n      <td>0.000000</td>\n      <td>0.000000</td>\n      <td>0.198169</td>\n      <td>0.0</td>\n      <td>0.000000</td>\n      <td>0.000000</td>\n      <td>0.000000</td>\n      <td>0.000000</td>\n      <td>0.184708</td>\n      <td>0.199328</td>\n      <td>0.000000</td>\n      <td>0.0</td>\n      <td>0.000000</td>\n      <td>0.000000</td>\n      <td>0.000000</td>\n      <td>0.000000</td>\n      <td>0.171885</td>\n      <td>0.0</td>\n      <td>0.0</td>\n      <td>0.000000</td>\n      <td>0.205710</td>\n      <td>0.000000</td>\n      <td>0.000000</td>\n      <td>0.000000</td>\n      <td>0.175191</td>\n      <td>0.000000</td>\n      <td>0.000000</td>\n      <td>0.000000</td>\n      <td>0.000000</td>\n      <td>0.000000</td>\n      <td>0.000000</td>\n      <td>0.000000</td>\n      <td>0.259267</td>\n      <td>0.0</td>\n      <td>0.000000</td>\n      <td>0.189742</td>\n      <td>0.000000</td>\n      <td>0.000000</td>\n      <td>0.000000</td>\n      <td>0.000000</td>\n      <td>0.000000</td>\n      <td>0.187689</td>\n      <td>0.000000</td>\n      <td>0.000000</td>\n      <td>0.000000</td>\n      <td>0.000000</td>\n      <td>0.000000</td>\n      <td>0.0</td>\n      <td>0.000000</td>\n      <td>0.000000</td>\n      <td>0.000000</td>\n      <td>0.248263</td>\n      <td>0.000000</td>\n      <td>0.000000</td>\n      <td>0.000000</td>\n      <td>0.000000</td>\n      <td>0.000000</td>\n      <td>0.000000</td>\n      <td>0.000000</td>\n      <td>0.000000</td>\n      <td>0.00000</td>\n      <td>0.000000</td>\n      <td>0.000000</td>\n      <td>0.000000</td>\n      <td>0.000000</td>\n      <td>0.175521</td>\n      <td>0.000000</td>\n      <td>0.000000</td>\n      <td>0.430782</td>\n      <td>0.000000</td>\n      <td>0.265085</td>\n      <td>0.000000</td>\n      <td>0.00000</td>\n      <td>0.000000</td>\n      <td>0.000000</td>\n      <td>0.204740</td>\n      <td>0.000000</td>\n      <td>0.000000</td>\n      <td>0.221159</td>\n      <td>0.000000</td>\n      <td>0.0</td>\n      <td>0.0</td>\n      <td>0.0</td>\n      <td>0.0</td>\n      <td>0.0</td>\n      <td>0.0</td>\n      <td>0.0</td>\n      <td>0.0</td>\n      <td>0.0</td>\n      <td>0.0</td>\n      <td>0.0</td>\n      <td>0.0</td>\n      <td>0.0</td>\n      <td>0.0</td>\n      <td>0.0</td>\n      <td>0.0</td>\n      <td>0.0</td>\n      <td>0.0</td>\n      <td>0.0</td>\n      <td>0.0</td>\n      <td>0.0</td>\n      <td>0.0</td>\n      <td>0.0</td>\n      <td>0.0</td>\n      <td>0.0</td>\n      <td>0.0</td>\n      <td>0.0</td>\n      <td>0.0</td>\n      <td>0.0</td>\n      <td>0.0</td>\n      <td>0.0</td>\n      <td>0.0</td>\n      <td>0.0</td>\n      <td>0.0</td>\n      <td>0.0</td>\n      <td>0.0</td>\n      <td>0.0</td>\n      <td>0.0</td>\n      <td>0.0</td>\n      <td>0.0</td>\n      <td>0.0</td>\n      <td>0.0</td>\n      <td>0.0</td>\n      <td>0.0</td>\n      <td>0.0</td>\n      <td>0.0</td>\n      <td>0.0</td>\n      <td>0.0</td>\n      <td>0.0</td>\n      <td>0.0</td>\n      <td>0.0</td>\n      <td>0.0</td>\n      <td>0.0</td>\n      <td>0.0</td>\n      <td>0.0</td>\n      <td>0.0</td>\n      <td>0.0</td>\n      <td>0.0</td>\n      <td>0.0</td>\n      <td>0.0</td>\n      <td>0.0</td>\n      <td>0.0</td>\n      <td>0.0</td>\n      <td>0.0</td>\n      <td>0.0</td>\n      <td>0.0</td>\n      <td>0.0</td>\n      <td>0.0</td>\n      <td>0.0</td>\n      <td>0.0</td>\n      <td>0.0</td>\n      <td>0.0</td>\n      <td>0.0</td>\n      <td>0.0</td>\n      <td>0.0</td>\n      <td>0.0</td>\n      <td>0.0</td>\n      <td>0.0</td>\n      <td>0.000000</td>\n      <td>0.0</td>\n      <td>0.0</td>\n      <td>0.0</td>\n      <td>0.0</td>\n      <td>0.0</td>\n      <td>0.0</td>\n      <td>0.0</td>\n      <td>0.000000</td>\n      <td>0.0</td>\n      <td>0.0</td>\n      <td>0.0</td>\n      <td>0.0</td>\n      <td>0.0</td>\n      <td>0.0</td>\n      <td>0.0</td>\n      <td>0.0</td>\n      <td>0.0</td>\n      <td>0.0</td>\n      <td>0.0</td>\n      <td>0.0</td>\n      <td>0.0</td>\n    </tr>\n    <tr>\n      <th>4</th>\n      <td>43</td>\n      <td>5</td>\n      <td>39</td>\n      <td>0</td>\n      <td>0</td>\n      <td>0.0</td>\n      <td>0.0</td>\n      <td>0.0</td>\n      <td>1.0</td>\n      <td>1.0</td>\n      <td>4.450000</td>\n      <td>9.0</td>\n      <td>40.0</td>\n      <td>4.428571</td>\n      <td>4.461538</td>\n      <td>7.800000</td>\n      <td>11</td>\n      <td>10</td>\n      <td>1</td>\n      <td>0</td>\n      <td>0</td>\n      <td>0.000000</td>\n      <td>0.157312</td>\n      <td>0.051045</td>\n      <td>0.000000</td>\n      <td>0.000000</td>\n      <td>0.247568</td>\n      <td>0.000000</td>\n      <td>0.000000</td>\n      <td>0.074165</td>\n      <td>0.000000</td>\n      <td>0.000000</td>\n      <td>0.095198</td>\n      <td>0.070095</td>\n      <td>0.107751</td>\n      <td>0.00000</td>\n      <td>0.092217</td>\n      <td>0.092335</td>\n      <td>0.000000</td>\n      <td>0.000000</td>\n      <td>0.000000</td>\n      <td>0.073789</td>\n      <td>0.185146</td>\n      <td>0.050522</td>\n      <td>0.0</td>\n      <td>0.275978</td>\n      <td>0.000000</td>\n      <td>0.187799</td>\n      <td>0.103099</td>\n      <td>0.094181</td>\n      <td>0.000000</td>\n      <td>0.051608</td>\n      <td>0.0</td>\n      <td>0.092110</td>\n      <td>0.000000</td>\n      <td>0.000000</td>\n      <td>0.000000</td>\n      <td>0.175285</td>\n      <td>0.0</td>\n      <td>0.0</td>\n      <td>0.241741</td>\n      <td>0.000000</td>\n      <td>0.000000</td>\n      <td>0.070933</td>\n      <td>0.190596</td>\n      <td>0.089328</td>\n      <td>0.000000</td>\n      <td>0.199765</td>\n      <td>0.055985</td>\n      <td>0.133909</td>\n      <td>0.000000</td>\n      <td>0.143932</td>\n      <td>0.050508</td>\n      <td>0.066099</td>\n      <td>0.0</td>\n      <td>0.113083</td>\n      <td>0.145122</td>\n      <td>0.047895</td>\n      <td>0.099882</td>\n      <td>0.050404</td>\n      <td>0.000000</td>\n      <td>0.137163</td>\n      <td>0.143552</td>\n      <td>0.000000</td>\n      <td>0.000000</td>\n      <td>0.000000</td>\n      <td>0.000000</td>\n      <td>0.073637</td>\n      <td>0.0</td>\n      <td>0.000000</td>\n      <td>0.109793</td>\n      <td>0.105970</td>\n      <td>0.000000</td>\n      <td>0.101523</td>\n      <td>0.000000</td>\n      <td>0.082584</td>\n      <td>0.000000</td>\n      <td>0.000000</td>\n      <td>0.055668</td>\n      <td>0.000000</td>\n      <td>0.000000</td>\n      <td>0.00000</td>\n      <td>0.000000</td>\n      <td>0.352534</td>\n      <td>0.151420</td>\n      <td>0.000000</td>\n      <td>0.178993</td>\n      <td>0.051835</td>\n      <td>0.000000</td>\n      <td>0.000000</td>\n      <td>0.138967</td>\n      <td>0.067582</td>\n      <td>0.000000</td>\n      <td>0.00000</td>\n      <td>0.048015</td>\n      <td>0.096555</td>\n      <td>0.208791</td>\n      <td>0.053567</td>\n      <td>0.106000</td>\n      <td>0.169151</td>\n      <td>0.104935</td>\n      <td>0.0</td>\n      <td>0.0</td>\n      <td>0.0</td>\n      <td>0.0</td>\n      <td>0.0</td>\n      <td>0.0</td>\n      <td>0.0</td>\n      <td>0.0</td>\n      <td>0.0</td>\n      <td>0.0</td>\n      <td>0.0</td>\n      <td>0.0</td>\n      <td>0.0</td>\n      <td>0.0</td>\n      <td>0.0</td>\n      <td>0.0</td>\n      <td>0.0</td>\n      <td>0.0</td>\n      <td>0.0</td>\n      <td>0.0</td>\n      <td>0.0</td>\n      <td>0.0</td>\n      <td>0.0</td>\n      <td>0.0</td>\n      <td>0.0</td>\n      <td>0.0</td>\n      <td>0.0</td>\n      <td>0.0</td>\n      <td>0.0</td>\n      <td>0.0</td>\n      <td>0.0</td>\n      <td>0.0</td>\n      <td>0.0</td>\n      <td>0.0</td>\n      <td>0.0</td>\n      <td>0.0</td>\n      <td>0.0</td>\n      <td>0.0</td>\n      <td>0.0</td>\n      <td>0.0</td>\n      <td>0.0</td>\n      <td>0.0</td>\n      <td>0.0</td>\n      <td>0.0</td>\n      <td>0.0</td>\n      <td>0.0</td>\n      <td>0.0</td>\n      <td>0.0</td>\n      <td>0.0</td>\n      <td>0.0</td>\n      <td>0.0</td>\n      <td>0.0</td>\n      <td>0.0</td>\n      <td>0.0</td>\n      <td>0.0</td>\n      <td>0.0</td>\n      <td>0.0</td>\n      <td>0.0</td>\n      <td>0.0</td>\n      <td>0.0</td>\n      <td>0.0</td>\n      <td>0.0</td>\n      <td>0.0</td>\n      <td>0.0</td>\n      <td>0.0</td>\n      <td>0.0</td>\n      <td>0.0</td>\n      <td>0.0</td>\n      <td>0.0</td>\n      <td>0.0</td>\n      <td>0.0</td>\n      <td>0.0</td>\n      <td>0.0</td>\n      <td>0.0</td>\n      <td>0.0</td>\n      <td>0.0</td>\n      <td>0.0</td>\n      <td>0.0</td>\n      <td>0.000000</td>\n      <td>0.0</td>\n      <td>0.0</td>\n      <td>0.0</td>\n      <td>0.0</td>\n      <td>0.0</td>\n      <td>0.0</td>\n      <td>0.0</td>\n      <td>0.000000</td>\n      <td>0.0</td>\n      <td>0.0</td>\n      <td>0.0</td>\n      <td>0.0</td>\n      <td>0.0</td>\n      <td>0.0</td>\n      <td>0.0</td>\n      <td>0.0</td>\n      <td>0.0</td>\n      <td>0.0</td>\n      <td>0.0</td>\n      <td>0.0</td>\n      <td>0.0</td>\n    </tr>\n  </tbody>\n</table>\n</div>"
     },
     "metadata": {},
     "execution_count": 11
    }
   ],
   "source": [
    "X_train.head()\n"
   ]
  },
  {
   "source": [
    "## Mixed NB Approach 1 \n",
    "train a gaussian NB model on all features"
   ],
   "cell_type": "markdown",
   "metadata": {}
  },
  {
   "cell_type": "code",
   "execution_count": 57,
   "metadata": {},
   "outputs": [],
   "source": [
    "model_G = GaussianNB()\n",
    "clf_G = model_G.fit(X_train, y_train)\n",
    "y_pred = model_G.predict(X_test)"
   ]
  },
  {
   "cell_type": "code",
   "execution_count": 61,
   "metadata": {},
   "outputs": [
    {
     "output_type": "stream",
     "name": "stdout",
     "text": [
      "              precision    recall  f1-score   support\n\n           0       0.89      0.95      0.92      7004\n           1       0.81      0.65      0.72      2441\n\n    accuracy                           0.87      9445\n   macro avg       0.85      0.80      0.82      9445\nweighted avg       0.87      0.87      0.87      9445\n\n"
     ]
    }
   ],
   "source": [
    "# train classification report\n",
    "y_train_pred = model_G.predict(X_train)\n",
    "print(classification_report(y_train, y_train_pred))"
   ]
  },
  {
   "cell_type": "code",
   "execution_count": 58,
   "metadata": {},
   "outputs": [
    {
     "output_type": "stream",
     "name": "stdout",
     "text": [
      "              precision    recall  f1-score   support\n\n           0       0.88      0.94      0.91      1234\n           1       0.79      0.62      0.69       433\n\n    accuracy                           0.86      1667\n   macro avg       0.83      0.78      0.80      1667\nweighted avg       0.85      0.86      0.85      1667\n\n"
     ]
    }
   ],
   "source": [
    "# test classification report\n",
    "print(classification_report(y_test, y_pred))"
   ]
  },
  {
   "cell_type": "code",
   "execution_count": 60,
   "metadata": {},
   "outputs": [
    {
     "output_type": "stream",
     "name": "stdout",
     "text": [
      "ROC_AUC:  0.9383966971227087\n"
     ]
    }
   ],
   "source": [
    "y_pred_prob = model_G.predict_proba(X_test)[:, 1]\n",
    "print('ROC_AUC: ', roc_auc_score(y_test, y_pred_prob))"
   ]
  },
  {
   "source": [
    "## Mixed NB Approach 2\n",
    "train three separate models using continuous, binary and categorical variables and then train the final model based on predictions from the first three models"
   ],
   "cell_type": "markdown",
   "metadata": {}
  },
  {
   "cell_type": "code",
   "execution_count": 26,
   "metadata": {},
   "outputs": [],
   "source": [
    "binary_cols = ['default_profile', 'default_profile_image', 'geo_enabled', 'default_profile_image', 'profile_use_background_image',                          'profile_background_tile', 'has_url']\n",
    "continuous_cols = ['statuses_count', 'followers_count', 'friends_count', 'favourites_count', 'listed_count', 'tweet_frequency',    \n",
    "                    'number_of_tags', 'number_of_mentions', 'tweet_weekend_frequency', 'tweet_weekday_frequency',               \n",
    "                    'following_to_followers_ratio', 'username_length', 'screen_name_length', 'username_spec_char_count', \n",
    "                    'screen_name_spec_char_count']\t\t\t\t\t\t\t\t\t\t\t\t"
   ]
  },
  {
   "cell_type": "code",
   "execution_count": 27,
   "metadata": {},
   "outputs": [],
   "source": [
    "train_binary = X_train[binary_cols]\n",
    "train_continuous = X_train[continuous_cols]\n",
    "train_text = X_train.drop(binary_cols+continuous_cols, axis=1) "
   ]
  },
  {
   "cell_type": "code",
   "execution_count": 29,
   "metadata": {},
   "outputs": [],
   "source": [
    "test_binary = X_test[binary_cols]\n",
    "test_continuous = X_test[continuous_cols]\n",
    "test_text = X_test.drop(binary_cols+continuous_cols, axis=1) "
   ]
  },
  {
   "cell_type": "code",
   "execution_count": 34,
   "metadata": {},
   "outputs": [],
   "source": [
    "# ----- Fit three models -----\n",
    "\n",
    "model_G = GaussianNB()\n",
    "clf_G = model_G.fit(train_continuous, y_train)\n",
    "\n",
    "model_M = MultinomialNB()\n",
    "clf_M = model_M.fit(train_text, y_train)\n",
    "\n",
    "model_B = BernoulliNB()\n",
    "clf_B = model_B.fit(train_binary, y_train)\n",
    "\n",
    "# ----- Get probability predictions from each model -----\n",
    "# On training data\n",
    "G_train_probas = model_G.predict_proba(train_continuous)\n",
    "M_train_probas = model_M.predict_proba(train_text)\n",
    "B_train_probas = model_B.predict_proba(train_binary)\n",
    "\n",
    "# And on testing data\n",
    "G_test_probas = model_G.predict_proba(test_continuous)\n",
    "M_test_probas = model_M.predict_proba(test_text)\n",
    "B_test_probas = model_B.predict_proba(test_binary)\n",
    "\n",
    "# Combine probability prediction for class=1 from both models\n",
    "X_new_train = np.c_[(G_train_probas[:,1], M_train_probas[:,1], B_train_probas[:,1])] # Train\n",
    "X_new_test = np.c_[(G_test_probas[:,1], M_test_probas[:,1], B_test_probas[:,1])] # Test\n",
    "\n",
    "\n",
    "# ----- Fit Gaussian model on the X_new -----\n",
    "model = GaussianNB()\n",
    "clf = model.fit(X_new_train, y_train)\n",
    "y_pred = model.predict(X_new_test)"
   ]
  },
  {
   "cell_type": "code",
   "execution_count": 35,
   "metadata": {},
   "outputs": [
    {
     "output_type": "stream",
     "name": "stdout",
     "text": [
      "[[1109  125]\n [  94  339]]\n"
     ]
    }
   ],
   "source": [
    "confusion_test = confusion_matrix(y_test, y_pred)\n",
    "print(confusion_test)"
   ]
  },
  {
   "cell_type": "code",
   "execution_count": 36,
   "metadata": {},
   "outputs": [
    {
     "output_type": "stream",
     "name": "stdout",
     "text": [
      "              precision    recall  f1-score   support\n\n           0       0.92      0.90      0.91      1234\n           1       0.73      0.78      0.76       433\n\n    accuracy                           0.87      1667\n   macro avg       0.83      0.84      0.83      1667\nweighted avg       0.87      0.87      0.87      1667\n\n"
     ]
    }
   ],
   "source": [
    "# train classification report\n",
    "print(classification_report(y_test, y_pred))"
   ]
  },
  {
   "cell_type": "code",
   "execution_count": 48,
   "metadata": {},
   "outputs": [
    {
     "output_type": "stream",
     "name": "stdout",
     "text": [
      "              precision    recall  f1-score   support\n\n           0       0.93      0.90      0.92      7004\n           1       0.75      0.82      0.78      2441\n\n    accuracy                           0.88      9445\n   macro avg       0.84      0.86      0.85      9445\nweighted avg       0.89      0.88      0.88      9445\n\n"
     ]
    }
   ],
   "source": [
    "# train classification report\n",
    "y_train_pred = model.predict(X_new_train)\n",
    "print(classification_report(y_train, y_train_pred))"
   ]
  },
  {
   "cell_type": "code",
   "execution_count": 38,
   "metadata": {},
   "outputs": [
    {
     "output_type": "stream",
     "name": "stdout",
     "text": [
      "ROC_AUC:  0.9243658318392282\n"
     ]
    }
   ],
   "source": [
    "y_pred_prob = model.predict_proba(X_new_test)[:, 1]\n",
    "print('ROC_AUC: ', roc_auc_score(y_test, y_pred_prob))"
   ]
  },
  {
   "source": [
    "## Hyperparameter Tuning"
   ],
   "cell_type": "markdown",
   "metadata": {}
  },
  {
   "cell_type": "code",
   "execution_count": 45,
   "metadata": {},
   "outputs": [],
   "source": [
    "param_grid = {\n",
    "    'var_smoothing': np.logspace(0,-9, num=100)\n",
    "}\n",
    "cv_method = RepeatedStratifiedKFold(n_splits=5, \n",
    "                                    n_repeats=3, \n",
    "                                    random_state=999)"
   ]
  },
  {
   "source": [
    "For approach 1:"
   ],
   "cell_type": "markdown",
   "metadata": {}
  },
  {
   "cell_type": "code",
   "execution_count": 75,
   "metadata": {},
   "outputs": [
    {
     "output_type": "stream",
     "name": "stdout",
     "text": [
      "Fitting 15 folds for each of 100 candidates, totalling 1500 fits\n",
      "--------------------------------------------------------\n",
      "Best Estimator:  GaussianNB(var_smoothing=8.111308307896872e-07)\n"
     ]
    }
   ],
   "source": [
    "model_grid1 = GridSearchCV(estimator = GaussianNB(), \n",
    "                            param_grid = param_grid, \n",
    "                            verbose = 1, \n",
    "                            cv = cv_method,\n",
    "                            scoring = 'accuracy')\n",
    "model_grid1.fit(X_train, y_train)\n",
    "print('--------------------------------------------------------')\n",
    "print('Best Estimator: ', model_grid1.best_estimator_)"
   ]
  },
  {
   "cell_type": "code",
   "execution_count": 76,
   "metadata": {},
   "outputs": [
    {
     "output_type": "stream",
     "name": "stdout",
     "text": [
      "              precision    recall  f1-score   support\n\n           0       0.87      0.98      0.92      7004\n           1       0.92      0.58      0.71      2441\n\n    accuracy                           0.88      9445\n   macro avg       0.90      0.78      0.82      9445\nweighted avg       0.88      0.88      0.87      9445\n\n"
     ]
    }
   ],
   "source": [
    "# train classification report\n",
    "y_train_pred = model_grid1.predict(X_train)\n",
    "print(classification_report(y_train, y_train_pred))"
   ]
  },
  {
   "cell_type": "code",
   "execution_count": 77,
   "metadata": {},
   "outputs": [
    {
     "output_type": "stream",
     "name": "stdout",
     "text": [
      "              precision    recall  f1-score   support\n\n           0       0.86      0.98      0.92      1234\n           1       0.91      0.55      0.68       433\n\n    accuracy                           0.87      1667\n   macro avg       0.88      0.76      0.80      1667\nweighted avg       0.87      0.87      0.86      1667\n\n"
     ]
    }
   ],
   "source": [
    "# test classification report\n",
    "y_pred = model_grid1.predict(X_test)\n",
    "print(classification_report(y_test, y_pred))"
   ]
  },
  {
   "cell_type": "code",
   "execution_count": 78,
   "metadata": {},
   "outputs": [
    {
     "output_type": "stream",
     "name": "stdout",
     "text": [
      "ROC_AUC:  0.9406893221690291\n"
     ]
    }
   ],
   "source": [
    "y_pred_prob = model_grid1.predict_proba(X_test)[:, 1]\n",
    "print('ROC_AUC: ', roc_auc_score(y_test, y_pred_prob))"
   ]
  },
  {
   "source": [
    "For approach 2:"
   ],
   "cell_type": "markdown",
   "metadata": {}
  },
  {
   "cell_type": "code",
   "execution_count": 81,
   "metadata": {},
   "outputs": [
    {
     "output_type": "stream",
     "name": "stdout",
     "text": [
      "Fitting 15 folds for each of 100 candidates, totalling 1500 fits\n",
      "--------------------------------------------------------\n",
      "Best Estimator:  GaussianNB(var_smoothing=1.0)\n"
     ]
    }
   ],
   "source": [
    "model_grid2 = GridSearchCV(estimator = GaussianNB(), \n",
    "                            param_grid = param_grid, \n",
    "                            verbose = 1, \n",
    "                            cv = cv_method,\n",
    "                            scoring = 'accuracy')\n",
    "model_grid2.fit(X_new_train, y_train)\n",
    "print('--------------------------------------------------------')\n",
    "print('Best Estimator: ', model_grid2.best_estimator_)"
   ]
  },
  {
   "cell_type": "code",
   "execution_count": 82,
   "metadata": {},
   "outputs": [
    {
     "output_type": "stream",
     "name": "stdout",
     "text": [
      "              precision    recall  f1-score   support\n\n           0       0.87      0.99      0.92      1234\n           1       0.94      0.57      0.71       433\n\n    accuracy                           0.88      1667\n   macro avg       0.90      0.78      0.82      1667\nweighted avg       0.89      0.88      0.87      1667\n\n"
     ]
    }
   ],
   "source": [
    "# test classification report\n",
    "y_pred = model_grid2.predict(X_new_test)\n",
    "print(classification_report(y_test, y_pred))"
   ]
  },
  {
   "cell_type": "code",
   "execution_count": 83,
   "metadata": {},
   "outputs": [
    {
     "output_type": "stream",
     "name": "stdout",
     "text": [
      "              precision    recall  f1-score   support\n\n           0       0.88      0.99      0.93      7004\n           1       0.96      0.60      0.74      2441\n\n    accuracy                           0.89      9445\n   macro avg       0.92      0.79      0.83      9445\nweighted avg       0.90      0.89      0.88      9445\n\n"
     ]
    }
   ],
   "source": [
    "# train classification report\n",
    "y_train_pred = model_grid2.predict(X_new_train)\n",
    "print(classification_report(y_train, y_train_pred))"
   ]
  },
  {
   "cell_type": "code",
   "execution_count": 84,
   "metadata": {},
   "outputs": [
    {
     "output_type": "stream",
     "name": "stdout",
     "text": [
      "ROC_AUC:  0.9335531758003601\n"
     ]
    }
   ],
   "source": [
    "y_pred_prob = model_grid2.predict_proba(X_new_test)[:, 1]\n",
    "print('ROC_AUC: ', roc_auc_score(y_test, y_pred_prob))"
   ]
  },
  {
   "cell_type": "code",
   "execution_count": 88,
   "metadata": {},
   "outputs": [
    {
     "output_type": "display_data",
     "data": {
      "text/plain": "<Figure size 640x480 with 1 Axes>",
      "image/svg+xml": "<?xml version=\"1.0\" encoding=\"utf-8\" standalone=\"no\"?>\n<!DOCTYPE svg PUBLIC \"-//W3C//DTD SVG 1.1//EN\"\n  \"http://www.w3.org/Graphics/SVG/1.1/DTD/svg11.dtd\">\n<!-- Created with matplotlib (https://matplotlib.org/) -->\n<svg height=\"325.986375pt\" version=\"1.1\" viewBox=\"0 0 416.052813 325.986375\" width=\"416.052813pt\" xmlns=\"http://www.w3.org/2000/svg\" xmlns:xlink=\"http://www.w3.org/1999/xlink\">\n <metadata>\n  <rdf:RDF xmlns:cc=\"http://creativecommons.org/ns#\" xmlns:dc=\"http://purl.org/dc/elements/1.1/\" xmlns:rdf=\"http://www.w3.org/1999/02/22-rdf-syntax-ns#\">\n   <cc:Work>\n    <dc:type rdf:resource=\"http://purl.org/dc/dcmitype/StillImage\"/>\n    <dc:date>2022-10-14T19:31:37.607081</dc:date>\n    <dc:format>image/svg+xml</dc:format>\n    <dc:creator>\n     <cc:Agent>\n      <dc:title>Matplotlib v3.3.2, https://matplotlib.org/</dc:title>\n     </cc:Agent>\n    </dc:creator>\n   </cc:Work>\n  </rdf:RDF>\n </metadata>\n <defs>\n  <style type=\"text/css\">*{stroke-linecap:butt;stroke-linejoin:round;}</style>\n </defs>\n <g id=\"figure_1\">\n  <g id=\"patch_1\">\n   <path d=\"M 0 325.986375 \nL 416.052813 325.986375 \nL 416.052813 0 \nL 0 0 \nz\n\" style=\"fill:#ffffff;\"/>\n  </g>\n  <g id=\"axes_1\">\n   <g id=\"patch_2\">\n    <path d=\"M 43.78125 288.430125 \nL 400.90125 288.430125 \nL 400.90125 22.318125 \nL 43.78125 22.318125 \nz\n\" style=\"fill:#ffffff;\"/>\n   </g>\n   <g id=\"matplotlib.axis_1\">\n    <g id=\"xtick_1\">\n     <g id=\"line2d_1\">\n      <path clip-path=\"url(#p3c6dae3272)\" d=\"M 43.78125 288.430125 \nL 43.78125 22.318125 \n\" style=\"fill:none;stroke:#b0b0b0;stroke-linecap:square;stroke-width:0.8;\"/>\n     </g>\n     <g id=\"line2d_2\">\n      <defs>\n       <path d=\"M 0 0 \nL 0 3.5 \n\" id=\"m666fe0ac53\" style=\"stroke:#000000;stroke-width:0.8;\"/>\n      </defs>\n      <g>\n       <use style=\"stroke:#000000;stroke-width:0.8;\" x=\"43.78125\" xlink:href=\"#m666fe0ac53\" y=\"288.430125\"/>\n      </g>\n     </g>\n     <g id=\"text_1\">\n      <!-- 0.0 -->\n      <g transform=\"translate(35.829688 303.028562)scale(0.1 -0.1)\">\n       <defs>\n        <path d=\"M 31.78125 66.40625 \nQ 24.171875 66.40625 20.328125 58.90625 \nQ 16.5 51.421875 16.5 36.375 \nQ 16.5 21.390625 20.328125 13.890625 \nQ 24.171875 6.390625 31.78125 6.390625 \nQ 39.453125 6.390625 43.28125 13.890625 \nQ 47.125 21.390625 47.125 36.375 \nQ 47.125 51.421875 43.28125 58.90625 \nQ 39.453125 66.40625 31.78125 66.40625 \nz\nM 31.78125 74.21875 \nQ 44.046875 74.21875 50.515625 64.515625 \nQ 56.984375 54.828125 56.984375 36.375 \nQ 56.984375 17.96875 50.515625 8.265625 \nQ 44.046875 -1.421875 31.78125 -1.421875 \nQ 19.53125 -1.421875 13.0625 8.265625 \nQ 6.59375 17.96875 6.59375 36.375 \nQ 6.59375 54.828125 13.0625 64.515625 \nQ 19.53125 74.21875 31.78125 74.21875 \nz\n\" id=\"DejaVuSans-48\"/>\n        <path d=\"M 10.6875 12.40625 \nL 21 12.40625 \nL 21 0 \nL 10.6875 0 \nz\n\" id=\"DejaVuSans-46\"/>\n       </defs>\n       <use xlink:href=\"#DejaVuSans-48\"/>\n       <use x=\"63.623047\" xlink:href=\"#DejaVuSans-46\"/>\n       <use x=\"95.410156\" xlink:href=\"#DejaVuSans-48\"/>\n      </g>\n     </g>\n    </g>\n    <g id=\"xtick_2\">\n     <g id=\"line2d_3\">\n      <path clip-path=\"url(#p3c6dae3272)\" d=\"M 115.20525 288.430125 \nL 115.20525 22.318125 \n\" style=\"fill:none;stroke:#b0b0b0;stroke-linecap:square;stroke-width:0.8;\"/>\n     </g>\n     <g id=\"line2d_4\">\n      <g>\n       <use style=\"stroke:#000000;stroke-width:0.8;\" x=\"115.20525\" xlink:href=\"#m666fe0ac53\" y=\"288.430125\"/>\n      </g>\n     </g>\n     <g id=\"text_2\">\n      <!-- 0.2 -->\n      <g transform=\"translate(107.253688 303.028562)scale(0.1 -0.1)\">\n       <defs>\n        <path d=\"M 19.1875 8.296875 \nL 53.609375 8.296875 \nL 53.609375 0 \nL 7.328125 0 \nL 7.328125 8.296875 \nQ 12.9375 14.109375 22.625 23.890625 \nQ 32.328125 33.6875 34.8125 36.53125 \nQ 39.546875 41.84375 41.421875 45.53125 \nQ 43.3125 49.21875 43.3125 52.78125 \nQ 43.3125 58.59375 39.234375 62.25 \nQ 35.15625 65.921875 28.609375 65.921875 \nQ 23.96875 65.921875 18.8125 64.3125 \nQ 13.671875 62.703125 7.8125 59.421875 \nL 7.8125 69.390625 \nQ 13.765625 71.78125 18.9375 73 \nQ 24.125 74.21875 28.421875 74.21875 \nQ 39.75 74.21875 46.484375 68.546875 \nQ 53.21875 62.890625 53.21875 53.421875 \nQ 53.21875 48.921875 51.53125 44.890625 \nQ 49.859375 40.875 45.40625 35.40625 \nQ 44.1875 33.984375 37.640625 27.21875 \nQ 31.109375 20.453125 19.1875 8.296875 \nz\n\" id=\"DejaVuSans-50\"/>\n       </defs>\n       <use xlink:href=\"#DejaVuSans-48\"/>\n       <use x=\"63.623047\" xlink:href=\"#DejaVuSans-46\"/>\n       <use x=\"95.410156\" xlink:href=\"#DejaVuSans-50\"/>\n      </g>\n     </g>\n    </g>\n    <g id=\"xtick_3\">\n     <g id=\"line2d_5\">\n      <path clip-path=\"url(#p3c6dae3272)\" d=\"M 186.62925 288.430125 \nL 186.62925 22.318125 \n\" style=\"fill:none;stroke:#b0b0b0;stroke-linecap:square;stroke-width:0.8;\"/>\n     </g>\n     <g id=\"line2d_6\">\n      <g>\n       <use style=\"stroke:#000000;stroke-width:0.8;\" x=\"186.62925\" xlink:href=\"#m666fe0ac53\" y=\"288.430125\"/>\n      </g>\n     </g>\n     <g id=\"text_3\">\n      <!-- 0.4 -->\n      <g transform=\"translate(178.677688 303.028562)scale(0.1 -0.1)\">\n       <defs>\n        <path d=\"M 37.796875 64.3125 \nL 12.890625 25.390625 \nL 37.796875 25.390625 \nz\nM 35.203125 72.90625 \nL 47.609375 72.90625 \nL 47.609375 25.390625 \nL 58.015625 25.390625 \nL 58.015625 17.1875 \nL 47.609375 17.1875 \nL 47.609375 0 \nL 37.796875 0 \nL 37.796875 17.1875 \nL 4.890625 17.1875 \nL 4.890625 26.703125 \nz\n\" id=\"DejaVuSans-52\"/>\n       </defs>\n       <use xlink:href=\"#DejaVuSans-48\"/>\n       <use x=\"63.623047\" xlink:href=\"#DejaVuSans-46\"/>\n       <use x=\"95.410156\" xlink:href=\"#DejaVuSans-52\"/>\n      </g>\n     </g>\n    </g>\n    <g id=\"xtick_4\">\n     <g id=\"line2d_7\">\n      <path clip-path=\"url(#p3c6dae3272)\" d=\"M 258.05325 288.430125 \nL 258.05325 22.318125 \n\" style=\"fill:none;stroke:#b0b0b0;stroke-linecap:square;stroke-width:0.8;\"/>\n     </g>\n     <g id=\"line2d_8\">\n      <g>\n       <use style=\"stroke:#000000;stroke-width:0.8;\" x=\"258.05325\" xlink:href=\"#m666fe0ac53\" y=\"288.430125\"/>\n      </g>\n     </g>\n     <g id=\"text_4\">\n      <!-- 0.6 -->\n      <g transform=\"translate(250.101688 303.028562)scale(0.1 -0.1)\">\n       <defs>\n        <path d=\"M 33.015625 40.375 \nQ 26.375 40.375 22.484375 35.828125 \nQ 18.609375 31.296875 18.609375 23.390625 \nQ 18.609375 15.53125 22.484375 10.953125 \nQ 26.375 6.390625 33.015625 6.390625 \nQ 39.65625 6.390625 43.53125 10.953125 \nQ 47.40625 15.53125 47.40625 23.390625 \nQ 47.40625 31.296875 43.53125 35.828125 \nQ 39.65625 40.375 33.015625 40.375 \nz\nM 52.59375 71.296875 \nL 52.59375 62.3125 \nQ 48.875 64.0625 45.09375 64.984375 \nQ 41.3125 65.921875 37.59375 65.921875 \nQ 27.828125 65.921875 22.671875 59.328125 \nQ 17.53125 52.734375 16.796875 39.40625 \nQ 19.671875 43.65625 24.015625 45.921875 \nQ 28.375 48.1875 33.59375 48.1875 \nQ 44.578125 48.1875 50.953125 41.515625 \nQ 57.328125 34.859375 57.328125 23.390625 \nQ 57.328125 12.15625 50.6875 5.359375 \nQ 44.046875 -1.421875 33.015625 -1.421875 \nQ 20.359375 -1.421875 13.671875 8.265625 \nQ 6.984375 17.96875 6.984375 36.375 \nQ 6.984375 53.65625 15.1875 63.9375 \nQ 23.390625 74.21875 37.203125 74.21875 \nQ 40.921875 74.21875 44.703125 73.484375 \nQ 48.484375 72.75 52.59375 71.296875 \nz\n\" id=\"DejaVuSans-54\"/>\n       </defs>\n       <use xlink:href=\"#DejaVuSans-48\"/>\n       <use x=\"63.623047\" xlink:href=\"#DejaVuSans-46\"/>\n       <use x=\"95.410156\" xlink:href=\"#DejaVuSans-54\"/>\n      </g>\n     </g>\n    </g>\n    <g id=\"xtick_5\">\n     <g id=\"line2d_9\">\n      <path clip-path=\"url(#p3c6dae3272)\" d=\"M 329.47725 288.430125 \nL 329.47725 22.318125 \n\" style=\"fill:none;stroke:#b0b0b0;stroke-linecap:square;stroke-width:0.8;\"/>\n     </g>\n     <g id=\"line2d_10\">\n      <g>\n       <use style=\"stroke:#000000;stroke-width:0.8;\" x=\"329.47725\" xlink:href=\"#m666fe0ac53\" y=\"288.430125\"/>\n      </g>\n     </g>\n     <g id=\"text_5\">\n      <!-- 0.8 -->\n      <g transform=\"translate(321.525688 303.028562)scale(0.1 -0.1)\">\n       <defs>\n        <path d=\"M 31.78125 34.625 \nQ 24.75 34.625 20.71875 30.859375 \nQ 16.703125 27.09375 16.703125 20.515625 \nQ 16.703125 13.921875 20.71875 10.15625 \nQ 24.75 6.390625 31.78125 6.390625 \nQ 38.8125 6.390625 42.859375 10.171875 \nQ 46.921875 13.96875 46.921875 20.515625 \nQ 46.921875 27.09375 42.890625 30.859375 \nQ 38.875 34.625 31.78125 34.625 \nz\nM 21.921875 38.8125 \nQ 15.578125 40.375 12.03125 44.71875 \nQ 8.5 49.078125 8.5 55.328125 \nQ 8.5 64.0625 14.71875 69.140625 \nQ 20.953125 74.21875 31.78125 74.21875 \nQ 42.671875 74.21875 48.875 69.140625 \nQ 55.078125 64.0625 55.078125 55.328125 \nQ 55.078125 49.078125 51.53125 44.71875 \nQ 48 40.375 41.703125 38.8125 \nQ 48.828125 37.15625 52.796875 32.3125 \nQ 56.78125 27.484375 56.78125 20.515625 \nQ 56.78125 9.90625 50.3125 4.234375 \nQ 43.84375 -1.421875 31.78125 -1.421875 \nQ 19.734375 -1.421875 13.25 4.234375 \nQ 6.78125 9.90625 6.78125 20.515625 \nQ 6.78125 27.484375 10.78125 32.3125 \nQ 14.796875 37.15625 21.921875 38.8125 \nz\nM 18.3125 54.390625 \nQ 18.3125 48.734375 21.84375 45.5625 \nQ 25.390625 42.390625 31.78125 42.390625 \nQ 38.140625 42.390625 41.71875 45.5625 \nQ 45.3125 48.734375 45.3125 54.390625 \nQ 45.3125 60.0625 41.71875 63.234375 \nQ 38.140625 66.40625 31.78125 66.40625 \nQ 25.390625 66.40625 21.84375 63.234375 \nQ 18.3125 60.0625 18.3125 54.390625 \nz\n\" id=\"DejaVuSans-56\"/>\n       </defs>\n       <use xlink:href=\"#DejaVuSans-48\"/>\n       <use x=\"63.623047\" xlink:href=\"#DejaVuSans-46\"/>\n       <use x=\"95.410156\" xlink:href=\"#DejaVuSans-56\"/>\n      </g>\n     </g>\n    </g>\n    <g id=\"xtick_6\">\n     <g id=\"line2d_11\">\n      <path clip-path=\"url(#p3c6dae3272)\" d=\"M 400.90125 288.430125 \nL 400.90125 22.318125 \n\" style=\"fill:none;stroke:#b0b0b0;stroke-linecap:square;stroke-width:0.8;\"/>\n     </g>\n     <g id=\"line2d_12\">\n      <g>\n       <use style=\"stroke:#000000;stroke-width:0.8;\" x=\"400.90125\" xlink:href=\"#m666fe0ac53\" y=\"288.430125\"/>\n      </g>\n     </g>\n     <g id=\"text_6\">\n      <!-- 1.0 -->\n      <g transform=\"translate(392.949688 303.028562)scale(0.1 -0.1)\">\n       <defs>\n        <path d=\"M 12.40625 8.296875 \nL 28.515625 8.296875 \nL 28.515625 63.921875 \nL 10.984375 60.40625 \nL 10.984375 69.390625 \nL 28.421875 72.90625 \nL 38.28125 72.90625 \nL 38.28125 8.296875 \nL 54.390625 8.296875 \nL 54.390625 0 \nL 12.40625 0 \nz\n\" id=\"DejaVuSans-49\"/>\n       </defs>\n       <use xlink:href=\"#DejaVuSans-49\"/>\n       <use x=\"63.623047\" xlink:href=\"#DejaVuSans-46\"/>\n       <use x=\"95.410156\" xlink:href=\"#DejaVuSans-48\"/>\n      </g>\n     </g>\n    </g>\n    <g id=\"text_7\">\n     <!-- False Positive Rate (1 - Specificity) -->\n     <g transform=\"translate(136.450625 316.706687)scale(0.1 -0.1)\">\n      <defs>\n       <path d=\"M 9.8125 72.90625 \nL 51.703125 72.90625 \nL 51.703125 64.59375 \nL 19.671875 64.59375 \nL 19.671875 43.109375 \nL 48.578125 43.109375 \nL 48.578125 34.8125 \nL 19.671875 34.8125 \nL 19.671875 0 \nL 9.8125 0 \nz\n\" id=\"DejaVuSans-70\"/>\n       <path d=\"M 34.28125 27.484375 \nQ 23.390625 27.484375 19.1875 25 \nQ 14.984375 22.515625 14.984375 16.5 \nQ 14.984375 11.71875 18.140625 8.90625 \nQ 21.296875 6.109375 26.703125 6.109375 \nQ 34.1875 6.109375 38.703125 11.40625 \nQ 43.21875 16.703125 43.21875 25.484375 \nL 43.21875 27.484375 \nz\nM 52.203125 31.203125 \nL 52.203125 0 \nL 43.21875 0 \nL 43.21875 8.296875 \nQ 40.140625 3.328125 35.546875 0.953125 \nQ 30.953125 -1.421875 24.3125 -1.421875 \nQ 15.921875 -1.421875 10.953125 3.296875 \nQ 6 8.015625 6 15.921875 \nQ 6 25.140625 12.171875 29.828125 \nQ 18.359375 34.515625 30.609375 34.515625 \nL 43.21875 34.515625 \nL 43.21875 35.40625 \nQ 43.21875 41.609375 39.140625 45 \nQ 35.0625 48.390625 27.6875 48.390625 \nQ 23 48.390625 18.546875 47.265625 \nQ 14.109375 46.140625 10.015625 43.890625 \nL 10.015625 52.203125 \nQ 14.9375 54.109375 19.578125 55.046875 \nQ 24.21875 56 28.609375 56 \nQ 40.484375 56 46.34375 49.84375 \nQ 52.203125 43.703125 52.203125 31.203125 \nz\n\" id=\"DejaVuSans-97\"/>\n       <path d=\"M 9.421875 75.984375 \nL 18.40625 75.984375 \nL 18.40625 0 \nL 9.421875 0 \nz\n\" id=\"DejaVuSans-108\"/>\n       <path d=\"M 44.28125 53.078125 \nL 44.28125 44.578125 \nQ 40.484375 46.53125 36.375 47.5 \nQ 32.28125 48.484375 27.875 48.484375 \nQ 21.1875 48.484375 17.84375 46.4375 \nQ 14.5 44.390625 14.5 40.28125 \nQ 14.5 37.15625 16.890625 35.375 \nQ 19.28125 33.59375 26.515625 31.984375 \nL 29.59375 31.296875 \nQ 39.15625 29.25 43.1875 25.515625 \nQ 47.21875 21.78125 47.21875 15.09375 \nQ 47.21875 7.46875 41.1875 3.015625 \nQ 35.15625 -1.421875 24.609375 -1.421875 \nQ 20.21875 -1.421875 15.453125 -0.5625 \nQ 10.6875 0.296875 5.421875 2 \nL 5.421875 11.28125 \nQ 10.40625 8.6875 15.234375 7.390625 \nQ 20.0625 6.109375 24.8125 6.109375 \nQ 31.15625 6.109375 34.5625 8.28125 \nQ 37.984375 10.453125 37.984375 14.40625 \nQ 37.984375 18.0625 35.515625 20.015625 \nQ 33.0625 21.96875 24.703125 23.78125 \nL 21.578125 24.515625 \nQ 13.234375 26.265625 9.515625 29.90625 \nQ 5.8125 33.546875 5.8125 39.890625 \nQ 5.8125 47.609375 11.28125 51.796875 \nQ 16.75 56 26.8125 56 \nQ 31.78125 56 36.171875 55.265625 \nQ 40.578125 54.546875 44.28125 53.078125 \nz\n\" id=\"DejaVuSans-115\"/>\n       <path d=\"M 56.203125 29.59375 \nL 56.203125 25.203125 \nL 14.890625 25.203125 \nQ 15.484375 15.921875 20.484375 11.0625 \nQ 25.484375 6.203125 34.421875 6.203125 \nQ 39.59375 6.203125 44.453125 7.46875 \nQ 49.3125 8.734375 54.109375 11.28125 \nL 54.109375 2.78125 \nQ 49.265625 0.734375 44.1875 -0.34375 \nQ 39.109375 -1.421875 33.890625 -1.421875 \nQ 20.796875 -1.421875 13.15625 6.1875 \nQ 5.515625 13.8125 5.515625 26.8125 \nQ 5.515625 40.234375 12.765625 48.109375 \nQ 20.015625 56 32.328125 56 \nQ 43.359375 56 49.78125 48.890625 \nQ 56.203125 41.796875 56.203125 29.59375 \nz\nM 47.21875 32.234375 \nQ 47.125 39.59375 43.09375 43.984375 \nQ 39.0625 48.390625 32.421875 48.390625 \nQ 24.90625 48.390625 20.390625 44.140625 \nQ 15.875 39.890625 15.1875 32.171875 \nz\n\" id=\"DejaVuSans-101\"/>\n       <path id=\"DejaVuSans-32\"/>\n       <path d=\"M 19.671875 64.796875 \nL 19.671875 37.40625 \nL 32.078125 37.40625 \nQ 38.96875 37.40625 42.71875 40.96875 \nQ 46.484375 44.53125 46.484375 51.125 \nQ 46.484375 57.671875 42.71875 61.234375 \nQ 38.96875 64.796875 32.078125 64.796875 \nz\nM 9.8125 72.90625 \nL 32.078125 72.90625 \nQ 44.34375 72.90625 50.609375 67.359375 \nQ 56.890625 61.8125 56.890625 51.125 \nQ 56.890625 40.328125 50.609375 34.8125 \nQ 44.34375 29.296875 32.078125 29.296875 \nL 19.671875 29.296875 \nL 19.671875 0 \nL 9.8125 0 \nz\n\" id=\"DejaVuSans-80\"/>\n       <path d=\"M 30.609375 48.390625 \nQ 23.390625 48.390625 19.1875 42.75 \nQ 14.984375 37.109375 14.984375 27.296875 \nQ 14.984375 17.484375 19.15625 11.84375 \nQ 23.34375 6.203125 30.609375 6.203125 \nQ 37.796875 6.203125 41.984375 11.859375 \nQ 46.1875 17.53125 46.1875 27.296875 \nQ 46.1875 37.015625 41.984375 42.703125 \nQ 37.796875 48.390625 30.609375 48.390625 \nz\nM 30.609375 56 \nQ 42.328125 56 49.015625 48.375 \nQ 55.71875 40.765625 55.71875 27.296875 \nQ 55.71875 13.875 49.015625 6.21875 \nQ 42.328125 -1.421875 30.609375 -1.421875 \nQ 18.84375 -1.421875 12.171875 6.21875 \nQ 5.515625 13.875 5.515625 27.296875 \nQ 5.515625 40.765625 12.171875 48.375 \nQ 18.84375 56 30.609375 56 \nz\n\" id=\"DejaVuSans-111\"/>\n       <path d=\"M 9.421875 54.6875 \nL 18.40625 54.6875 \nL 18.40625 0 \nL 9.421875 0 \nz\nM 9.421875 75.984375 \nL 18.40625 75.984375 \nL 18.40625 64.59375 \nL 9.421875 64.59375 \nz\n\" id=\"DejaVuSans-105\"/>\n       <path d=\"M 18.3125 70.21875 \nL 18.3125 54.6875 \nL 36.8125 54.6875 \nL 36.8125 47.703125 \nL 18.3125 47.703125 \nL 18.3125 18.015625 \nQ 18.3125 11.328125 20.140625 9.421875 \nQ 21.96875 7.515625 27.59375 7.515625 \nL 36.8125 7.515625 \nL 36.8125 0 \nL 27.59375 0 \nQ 17.1875 0 13.234375 3.875 \nQ 9.28125 7.765625 9.28125 18.015625 \nL 9.28125 47.703125 \nL 2.6875 47.703125 \nL 2.6875 54.6875 \nL 9.28125 54.6875 \nL 9.28125 70.21875 \nz\n\" id=\"DejaVuSans-116\"/>\n       <path d=\"M 2.984375 54.6875 \nL 12.5 54.6875 \nL 29.59375 8.796875 \nL 46.6875 54.6875 \nL 56.203125 54.6875 \nL 35.6875 0 \nL 23.484375 0 \nz\n\" id=\"DejaVuSans-118\"/>\n       <path d=\"M 44.390625 34.1875 \nQ 47.5625 33.109375 50.5625 29.59375 \nQ 53.5625 26.078125 56.59375 19.921875 \nL 66.609375 0 \nL 56 0 \nL 46.6875 18.703125 \nQ 43.0625 26.03125 39.671875 28.421875 \nQ 36.28125 30.8125 30.421875 30.8125 \nL 19.671875 30.8125 \nL 19.671875 0 \nL 9.8125 0 \nL 9.8125 72.90625 \nL 32.078125 72.90625 \nQ 44.578125 72.90625 50.734375 67.671875 \nQ 56.890625 62.453125 56.890625 51.90625 \nQ 56.890625 45.015625 53.6875 40.46875 \nQ 50.484375 35.9375 44.390625 34.1875 \nz\nM 19.671875 64.796875 \nL 19.671875 38.921875 \nL 32.078125 38.921875 \nQ 39.203125 38.921875 42.84375 42.21875 \nQ 46.484375 45.515625 46.484375 51.90625 \nQ 46.484375 58.296875 42.84375 61.546875 \nQ 39.203125 64.796875 32.078125 64.796875 \nz\n\" id=\"DejaVuSans-82\"/>\n       <path d=\"M 31 75.875 \nQ 24.46875 64.65625 21.28125 53.65625 \nQ 18.109375 42.671875 18.109375 31.390625 \nQ 18.109375 20.125 21.3125 9.0625 \nQ 24.515625 -2 31 -13.1875 \nL 23.1875 -13.1875 \nQ 15.875 -1.703125 12.234375 9.375 \nQ 8.59375 20.453125 8.59375 31.390625 \nQ 8.59375 42.28125 12.203125 53.3125 \nQ 15.828125 64.359375 23.1875 75.875 \nz\n\" id=\"DejaVuSans-40\"/>\n       <path d=\"M 4.890625 31.390625 \nL 31.203125 31.390625 \nL 31.203125 23.390625 \nL 4.890625 23.390625 \nz\n\" id=\"DejaVuSans-45\"/>\n       <path d=\"M 53.515625 70.515625 \nL 53.515625 60.890625 \nQ 47.90625 63.578125 42.921875 64.890625 \nQ 37.9375 66.21875 33.296875 66.21875 \nQ 25.25 66.21875 20.875 63.09375 \nQ 16.5 59.96875 16.5 54.203125 \nQ 16.5 49.359375 19.40625 46.890625 \nQ 22.3125 44.4375 30.421875 42.921875 \nL 36.375 41.703125 \nQ 47.40625 39.59375 52.65625 34.296875 \nQ 57.90625 29 57.90625 20.125 \nQ 57.90625 9.515625 50.796875 4.046875 \nQ 43.703125 -1.421875 29.984375 -1.421875 \nQ 24.8125 -1.421875 18.96875 -0.25 \nQ 13.140625 0.921875 6.890625 3.21875 \nL 6.890625 13.375 \nQ 12.890625 10.015625 18.65625 8.296875 \nQ 24.421875 6.59375 29.984375 6.59375 \nQ 38.421875 6.59375 43.015625 9.90625 \nQ 47.609375 13.234375 47.609375 19.390625 \nQ 47.609375 24.75 44.3125 27.78125 \nQ 41.015625 30.8125 33.5 32.328125 \nL 27.484375 33.5 \nQ 16.453125 35.6875 11.515625 40.375 \nQ 6.59375 45.0625 6.59375 53.421875 \nQ 6.59375 63.09375 13.40625 68.65625 \nQ 20.21875 74.21875 32.171875 74.21875 \nQ 37.3125 74.21875 42.625 73.28125 \nQ 47.953125 72.359375 53.515625 70.515625 \nz\n\" id=\"DejaVuSans-83\"/>\n       <path d=\"M 18.109375 8.203125 \nL 18.109375 -20.796875 \nL 9.078125 -20.796875 \nL 9.078125 54.6875 \nL 18.109375 54.6875 \nL 18.109375 46.390625 \nQ 20.953125 51.265625 25.265625 53.625 \nQ 29.59375 56 35.59375 56 \nQ 45.5625 56 51.78125 48.09375 \nQ 58.015625 40.1875 58.015625 27.296875 \nQ 58.015625 14.40625 51.78125 6.484375 \nQ 45.5625 -1.421875 35.59375 -1.421875 \nQ 29.59375 -1.421875 25.265625 0.953125 \nQ 20.953125 3.328125 18.109375 8.203125 \nz\nM 48.6875 27.296875 \nQ 48.6875 37.203125 44.609375 42.84375 \nQ 40.53125 48.484375 33.40625 48.484375 \nQ 26.265625 48.484375 22.1875 42.84375 \nQ 18.109375 37.203125 18.109375 27.296875 \nQ 18.109375 17.390625 22.1875 11.75 \nQ 26.265625 6.109375 33.40625 6.109375 \nQ 40.53125 6.109375 44.609375 11.75 \nQ 48.6875 17.390625 48.6875 27.296875 \nz\n\" id=\"DejaVuSans-112\"/>\n       <path d=\"M 48.78125 52.59375 \nL 48.78125 44.1875 \nQ 44.96875 46.296875 41.140625 47.34375 \nQ 37.3125 48.390625 33.40625 48.390625 \nQ 24.65625 48.390625 19.8125 42.84375 \nQ 14.984375 37.3125 14.984375 27.296875 \nQ 14.984375 17.28125 19.8125 11.734375 \nQ 24.65625 6.203125 33.40625 6.203125 \nQ 37.3125 6.203125 41.140625 7.25 \nQ 44.96875 8.296875 48.78125 10.40625 \nL 48.78125 2.09375 \nQ 45.015625 0.34375 40.984375 -0.53125 \nQ 36.96875 -1.421875 32.421875 -1.421875 \nQ 20.0625 -1.421875 12.78125 6.34375 \nQ 5.515625 14.109375 5.515625 27.296875 \nQ 5.515625 40.671875 12.859375 48.328125 \nQ 20.21875 56 33.015625 56 \nQ 37.15625 56 41.109375 55.140625 \nQ 45.0625 54.296875 48.78125 52.59375 \nz\n\" id=\"DejaVuSans-99\"/>\n       <path d=\"M 37.109375 75.984375 \nL 37.109375 68.5 \nL 28.515625 68.5 \nQ 23.6875 68.5 21.796875 66.546875 \nQ 19.921875 64.59375 19.921875 59.515625 \nL 19.921875 54.6875 \nL 34.71875 54.6875 \nL 34.71875 47.703125 \nL 19.921875 47.703125 \nL 19.921875 0 \nL 10.890625 0 \nL 10.890625 47.703125 \nL 2.296875 47.703125 \nL 2.296875 54.6875 \nL 10.890625 54.6875 \nL 10.890625 58.5 \nQ 10.890625 67.625 15.140625 71.796875 \nQ 19.390625 75.984375 28.609375 75.984375 \nz\n\" id=\"DejaVuSans-102\"/>\n       <path d=\"M 32.171875 -5.078125 \nQ 28.375 -14.84375 24.75 -17.8125 \nQ 21.140625 -20.796875 15.09375 -20.796875 \nL 7.90625 -20.796875 \nL 7.90625 -13.28125 \nL 13.1875 -13.28125 \nQ 16.890625 -13.28125 18.9375 -11.515625 \nQ 21 -9.765625 23.484375 -3.21875 \nL 25.09375 0.875 \nL 2.984375 54.6875 \nL 12.5 54.6875 \nL 29.59375 11.921875 \nL 46.6875 54.6875 \nL 56.203125 54.6875 \nz\n\" id=\"DejaVuSans-121\"/>\n       <path d=\"M 8.015625 75.875 \nL 15.828125 75.875 \nQ 23.140625 64.359375 26.78125 53.3125 \nQ 30.421875 42.28125 30.421875 31.390625 \nQ 30.421875 20.453125 26.78125 9.375 \nQ 23.140625 -1.703125 15.828125 -13.1875 \nL 8.015625 -13.1875 \nQ 14.5 -2 17.703125 9.0625 \nQ 20.90625 20.125 20.90625 31.390625 \nQ 20.90625 42.671875 17.703125 53.65625 \nQ 14.5 64.65625 8.015625 75.875 \nz\n\" id=\"DejaVuSans-41\"/>\n      </defs>\n      <use xlink:href=\"#DejaVuSans-70\"/>\n      <use x=\"48.394531\" xlink:href=\"#DejaVuSans-97\"/>\n      <use x=\"109.673828\" xlink:href=\"#DejaVuSans-108\"/>\n      <use x=\"137.457031\" xlink:href=\"#DejaVuSans-115\"/>\n      <use x=\"189.556641\" xlink:href=\"#DejaVuSans-101\"/>\n      <use x=\"251.080078\" xlink:href=\"#DejaVuSans-32\"/>\n      <use x=\"282.867188\" xlink:href=\"#DejaVuSans-80\"/>\n      <use x=\"339.544922\" xlink:href=\"#DejaVuSans-111\"/>\n      <use x=\"400.726562\" xlink:href=\"#DejaVuSans-115\"/>\n      <use x=\"452.826172\" xlink:href=\"#DejaVuSans-105\"/>\n      <use x=\"480.609375\" xlink:href=\"#DejaVuSans-116\"/>\n      <use x=\"519.818359\" xlink:href=\"#DejaVuSans-105\"/>\n      <use x=\"547.601562\" xlink:href=\"#DejaVuSans-118\"/>\n      <use x=\"606.78125\" xlink:href=\"#DejaVuSans-101\"/>\n      <use x=\"668.304688\" xlink:href=\"#DejaVuSans-32\"/>\n      <use x=\"700.091797\" xlink:href=\"#DejaVuSans-82\"/>\n      <use x=\"767.324219\" xlink:href=\"#DejaVuSans-97\"/>\n      <use x=\"828.603516\" xlink:href=\"#DejaVuSans-116\"/>\n      <use x=\"867.8125\" xlink:href=\"#DejaVuSans-101\"/>\n      <use x=\"929.335938\" xlink:href=\"#DejaVuSans-32\"/>\n      <use x=\"961.123047\" xlink:href=\"#DejaVuSans-40\"/>\n      <use x=\"1000.136719\" xlink:href=\"#DejaVuSans-49\"/>\n      <use x=\"1063.759766\" xlink:href=\"#DejaVuSans-32\"/>\n      <use x=\"1095.546875\" xlink:href=\"#DejaVuSans-45\"/>\n      <use x=\"1131.630859\" xlink:href=\"#DejaVuSans-32\"/>\n      <use x=\"1163.417969\" xlink:href=\"#DejaVuSans-83\"/>\n      <use x=\"1226.894531\" xlink:href=\"#DejaVuSans-112\"/>\n      <use x=\"1290.371094\" xlink:href=\"#DejaVuSans-101\"/>\n      <use x=\"1351.894531\" xlink:href=\"#DejaVuSans-99\"/>\n      <use x=\"1406.875\" xlink:href=\"#DejaVuSans-105\"/>\n      <use x=\"1434.658203\" xlink:href=\"#DejaVuSans-102\"/>\n      <use x=\"1469.863281\" xlink:href=\"#DejaVuSans-105\"/>\n      <use x=\"1497.646484\" xlink:href=\"#DejaVuSans-99\"/>\n      <use x=\"1552.626953\" xlink:href=\"#DejaVuSans-105\"/>\n      <use x=\"1580.410156\" xlink:href=\"#DejaVuSans-116\"/>\n      <use x=\"1619.619141\" xlink:href=\"#DejaVuSans-121\"/>\n      <use x=\"1678.798828\" xlink:href=\"#DejaVuSans-41\"/>\n     </g>\n    </g>\n   </g>\n   <g id=\"matplotlib.axis_2\">\n    <g id=\"ytick_1\">\n     <g id=\"line2d_13\">\n      <path clip-path=\"url(#p3c6dae3272)\" d=\"M 43.78125 288.430125 \nL 400.90125 288.430125 \n\" style=\"fill:none;stroke:#b0b0b0;stroke-linecap:square;stroke-width:0.8;\"/>\n     </g>\n     <g id=\"line2d_14\">\n      <defs>\n       <path d=\"M 0 0 \nL -3.5 0 \n\" id=\"me6274d7c78\" style=\"stroke:#000000;stroke-width:0.8;\"/>\n      </defs>\n      <g>\n       <use style=\"stroke:#000000;stroke-width:0.8;\" x=\"43.78125\" xlink:href=\"#me6274d7c78\" y=\"288.430125\"/>\n      </g>\n     </g>\n     <g id=\"text_8\">\n      <!-- 0.0 -->\n      <g transform=\"translate(20.878125 292.229344)scale(0.1 -0.1)\">\n       <use xlink:href=\"#DejaVuSans-48\"/>\n       <use x=\"63.623047\" xlink:href=\"#DejaVuSans-46\"/>\n       <use x=\"95.410156\" xlink:href=\"#DejaVuSans-48\"/>\n      </g>\n     </g>\n    </g>\n    <g id=\"ytick_2\">\n     <g id=\"line2d_15\">\n      <path clip-path=\"url(#p3c6dae3272)\" d=\"M 43.78125 235.207725 \nL 400.90125 235.207725 \n\" style=\"fill:none;stroke:#b0b0b0;stroke-linecap:square;stroke-width:0.8;\"/>\n     </g>\n     <g id=\"line2d_16\">\n      <g>\n       <use style=\"stroke:#000000;stroke-width:0.8;\" x=\"43.78125\" xlink:href=\"#me6274d7c78\" y=\"235.207725\"/>\n      </g>\n     </g>\n     <g id=\"text_9\">\n      <!-- 0.2 -->\n      <g transform=\"translate(20.878125 239.006944)scale(0.1 -0.1)\">\n       <use xlink:href=\"#DejaVuSans-48\"/>\n       <use x=\"63.623047\" xlink:href=\"#DejaVuSans-46\"/>\n       <use x=\"95.410156\" xlink:href=\"#DejaVuSans-50\"/>\n      </g>\n     </g>\n    </g>\n    <g id=\"ytick_3\">\n     <g id=\"line2d_17\">\n      <path clip-path=\"url(#p3c6dae3272)\" d=\"M 43.78125 181.985325 \nL 400.90125 181.985325 \n\" style=\"fill:none;stroke:#b0b0b0;stroke-linecap:square;stroke-width:0.8;\"/>\n     </g>\n     <g id=\"line2d_18\">\n      <g>\n       <use style=\"stroke:#000000;stroke-width:0.8;\" x=\"43.78125\" xlink:href=\"#me6274d7c78\" y=\"181.985325\"/>\n      </g>\n     </g>\n     <g id=\"text_10\">\n      <!-- 0.4 -->\n      <g transform=\"translate(20.878125 185.784544)scale(0.1 -0.1)\">\n       <use xlink:href=\"#DejaVuSans-48\"/>\n       <use x=\"63.623047\" xlink:href=\"#DejaVuSans-46\"/>\n       <use x=\"95.410156\" xlink:href=\"#DejaVuSans-52\"/>\n      </g>\n     </g>\n    </g>\n    <g id=\"ytick_4\">\n     <g id=\"line2d_19\">\n      <path clip-path=\"url(#p3c6dae3272)\" d=\"M 43.78125 128.762925 \nL 400.90125 128.762925 \n\" style=\"fill:none;stroke:#b0b0b0;stroke-linecap:square;stroke-width:0.8;\"/>\n     </g>\n     <g id=\"line2d_20\">\n      <g>\n       <use style=\"stroke:#000000;stroke-width:0.8;\" x=\"43.78125\" xlink:href=\"#me6274d7c78\" y=\"128.762925\"/>\n      </g>\n     </g>\n     <g id=\"text_11\">\n      <!-- 0.6 -->\n      <g transform=\"translate(20.878125 132.562144)scale(0.1 -0.1)\">\n       <use xlink:href=\"#DejaVuSans-48\"/>\n       <use x=\"63.623047\" xlink:href=\"#DejaVuSans-46\"/>\n       <use x=\"95.410156\" xlink:href=\"#DejaVuSans-54\"/>\n      </g>\n     </g>\n    </g>\n    <g id=\"ytick_5\">\n     <g id=\"line2d_21\">\n      <path clip-path=\"url(#p3c6dae3272)\" d=\"M 43.78125 75.540525 \nL 400.90125 75.540525 \n\" style=\"fill:none;stroke:#b0b0b0;stroke-linecap:square;stroke-width:0.8;\"/>\n     </g>\n     <g id=\"line2d_22\">\n      <g>\n       <use style=\"stroke:#000000;stroke-width:0.8;\" x=\"43.78125\" xlink:href=\"#me6274d7c78\" y=\"75.540525\"/>\n      </g>\n     </g>\n     <g id=\"text_12\">\n      <!-- 0.8 -->\n      <g transform=\"translate(20.878125 79.339744)scale(0.1 -0.1)\">\n       <use xlink:href=\"#DejaVuSans-48\"/>\n       <use x=\"63.623047\" xlink:href=\"#DejaVuSans-46\"/>\n       <use x=\"95.410156\" xlink:href=\"#DejaVuSans-56\"/>\n      </g>\n     </g>\n    </g>\n    <g id=\"ytick_6\">\n     <g id=\"line2d_23\">\n      <path clip-path=\"url(#p3c6dae3272)\" d=\"M 43.78125 22.318125 \nL 400.90125 22.318125 \n\" style=\"fill:none;stroke:#b0b0b0;stroke-linecap:square;stroke-width:0.8;\"/>\n     </g>\n     <g id=\"line2d_24\">\n      <g>\n       <use style=\"stroke:#000000;stroke-width:0.8;\" x=\"43.78125\" xlink:href=\"#me6274d7c78\" y=\"22.318125\"/>\n      </g>\n     </g>\n     <g id=\"text_13\">\n      <!-- 1.0 -->\n      <g transform=\"translate(20.878125 26.117344)scale(0.1 -0.1)\">\n       <use xlink:href=\"#DejaVuSans-49\"/>\n       <use x=\"63.623047\" xlink:href=\"#DejaVuSans-46\"/>\n       <use x=\"95.410156\" xlink:href=\"#DejaVuSans-48\"/>\n      </g>\n     </g>\n    </g>\n    <g id=\"text_14\">\n     <!-- True Positive Rate (Sensitivity) -->\n     <g transform=\"translate(14.798438 231.424906)rotate(-90)scale(0.1 -0.1)\">\n      <defs>\n       <path d=\"M -0.296875 72.90625 \nL 61.375 72.90625 \nL 61.375 64.59375 \nL 35.5 64.59375 \nL 35.5 0 \nL 25.59375 0 \nL 25.59375 64.59375 \nL -0.296875 64.59375 \nz\n\" id=\"DejaVuSans-84\"/>\n       <path d=\"M 41.109375 46.296875 \nQ 39.59375 47.171875 37.8125 47.578125 \nQ 36.03125 48 33.890625 48 \nQ 26.265625 48 22.1875 43.046875 \nQ 18.109375 38.09375 18.109375 28.8125 \nL 18.109375 0 \nL 9.078125 0 \nL 9.078125 54.6875 \nL 18.109375 54.6875 \nL 18.109375 46.1875 \nQ 20.953125 51.171875 25.484375 53.578125 \nQ 30.03125 56 36.53125 56 \nQ 37.453125 56 38.578125 55.875 \nQ 39.703125 55.765625 41.0625 55.515625 \nz\n\" id=\"DejaVuSans-114\"/>\n       <path d=\"M 8.5 21.578125 \nL 8.5 54.6875 \nL 17.484375 54.6875 \nL 17.484375 21.921875 \nQ 17.484375 14.15625 20.5 10.265625 \nQ 23.53125 6.390625 29.59375 6.390625 \nQ 36.859375 6.390625 41.078125 11.03125 \nQ 45.3125 15.671875 45.3125 23.6875 \nL 45.3125 54.6875 \nL 54.296875 54.6875 \nL 54.296875 0 \nL 45.3125 0 \nL 45.3125 8.40625 \nQ 42.046875 3.421875 37.71875 1 \nQ 33.40625 -1.421875 27.6875 -1.421875 \nQ 18.265625 -1.421875 13.375 4.4375 \nQ 8.5 10.296875 8.5 21.578125 \nz\nM 31.109375 56 \nz\n\" id=\"DejaVuSans-117\"/>\n       <path d=\"M 54.890625 33.015625 \nL 54.890625 0 \nL 45.90625 0 \nL 45.90625 32.71875 \nQ 45.90625 40.484375 42.875 44.328125 \nQ 39.84375 48.1875 33.796875 48.1875 \nQ 26.515625 48.1875 22.3125 43.546875 \nQ 18.109375 38.921875 18.109375 30.90625 \nL 18.109375 0 \nL 9.078125 0 \nL 9.078125 54.6875 \nL 18.109375 54.6875 \nL 18.109375 46.1875 \nQ 21.34375 51.125 25.703125 53.5625 \nQ 30.078125 56 35.796875 56 \nQ 45.21875 56 50.046875 50.171875 \nQ 54.890625 44.34375 54.890625 33.015625 \nz\n\" id=\"DejaVuSans-110\"/>\n      </defs>\n      <use xlink:href=\"#DejaVuSans-84\"/>\n      <use x=\"46.333984\" xlink:href=\"#DejaVuSans-114\"/>\n      <use x=\"87.447266\" xlink:href=\"#DejaVuSans-117\"/>\n      <use x=\"150.826172\" xlink:href=\"#DejaVuSans-101\"/>\n      <use x=\"212.349609\" xlink:href=\"#DejaVuSans-32\"/>\n      <use x=\"244.136719\" xlink:href=\"#DejaVuSans-80\"/>\n      <use x=\"300.814453\" xlink:href=\"#DejaVuSans-111\"/>\n      <use x=\"361.996094\" xlink:href=\"#DejaVuSans-115\"/>\n      <use x=\"414.095703\" xlink:href=\"#DejaVuSans-105\"/>\n      <use x=\"441.878906\" xlink:href=\"#DejaVuSans-116\"/>\n      <use x=\"481.087891\" xlink:href=\"#DejaVuSans-105\"/>\n      <use x=\"508.871094\" xlink:href=\"#DejaVuSans-118\"/>\n      <use x=\"568.050781\" xlink:href=\"#DejaVuSans-101\"/>\n      <use x=\"629.574219\" xlink:href=\"#DejaVuSans-32\"/>\n      <use x=\"661.361328\" xlink:href=\"#DejaVuSans-82\"/>\n      <use x=\"728.59375\" xlink:href=\"#DejaVuSans-97\"/>\n      <use x=\"789.873047\" xlink:href=\"#DejaVuSans-116\"/>\n      <use x=\"829.082031\" xlink:href=\"#DejaVuSans-101\"/>\n      <use x=\"890.605469\" xlink:href=\"#DejaVuSans-32\"/>\n      <use x=\"922.392578\" xlink:href=\"#DejaVuSans-40\"/>\n      <use x=\"961.40625\" xlink:href=\"#DejaVuSans-83\"/>\n      <use x=\"1024.882812\" xlink:href=\"#DejaVuSans-101\"/>\n      <use x=\"1086.40625\" xlink:href=\"#DejaVuSans-110\"/>\n      <use x=\"1149.785156\" xlink:href=\"#DejaVuSans-115\"/>\n      <use x=\"1201.884766\" xlink:href=\"#DejaVuSans-105\"/>\n      <use x=\"1229.667969\" xlink:href=\"#DejaVuSans-116\"/>\n      <use x=\"1268.876953\" xlink:href=\"#DejaVuSans-105\"/>\n      <use x=\"1296.660156\" xlink:href=\"#DejaVuSans-118\"/>\n      <use x=\"1355.839844\" xlink:href=\"#DejaVuSans-105\"/>\n      <use x=\"1383.623047\" xlink:href=\"#DejaVuSans-116\"/>\n      <use x=\"1422.832031\" xlink:href=\"#DejaVuSans-121\"/>\n      <use x=\"1482.011719\" xlink:href=\"#DejaVuSans-41\"/>\n     </g>\n    </g>\n   </g>\n   <g id=\"line2d_25\">\n    <path clip-path=\"url(#p3c6dae3272)\" d=\"M 43.78125 288.430125 \nL 46.964654 179.035354 \nL 47.254054 178.420776 \nL 47.254054 177.806199 \nL 47.543454 177.806199 \nL 47.543454 176.577044 \nL 47.832855 176.577044 \nL 47.832855 166.129229 \nL 48.122255 166.129229 \nL 48.122255 158.754301 \nL 48.411655 158.754301 \nL 48.411655 158.139723 \nL 49.569256 158.139723 \nL 49.569256 156.910568 \nL 51.016258 156.910568 \nL 51.016258 156.295991 \nL 54.489062 156.295991 \nL 54.489062 144.004444 \nL 55.936064 144.004444 \nL 55.936064 142.160712 \nL 57.383065 142.160712 \nL 57.383065 141.546134 \nL 59.408868 141.546134 \nL 59.408868 140.931557 \nL 60.855869 140.931557 \nL 60.855869 139.702402 \nL 61.72407 139.702402 \nL 61.72407 139.087825 \nL 62.01347 139.087825 \nL 62.01347 136.629515 \nL 62.302871 136.629515 \nL 62.302871 136.014938 \nL 62.592271 136.014938 \nL 62.592271 135.400361 \nL 63.171072 135.400361 \nL 63.171072 132.942051 \nL 63.460472 132.942051 \nL 63.460472 131.098319 \nL 63.749872 131.098319 \nL 63.749872 128.025432 \nL 64.039273 128.025432 \nL 64.039273 126.796277 \nL 64.328673 126.796277 \nL 64.328673 126.1817 \nL 64.618073 126.1817 \nL 64.618073 118.806772 \nL 64.907474 118.806772 \nL 64.907474 110.202689 \nL 65.196874 110.202689 \nL 65.196874 103.442337 \nL 65.486274 103.442337 \nL 65.486274 102.82776 \nL 65.775675 102.82776 \nL 65.775675 100.369451 \nL 66.354475 100.369451 \nL 66.354475 98.525719 \nL 66.643876 98.525719 \nL 66.643876 92.994522 \nL 66.933276 92.994522 \nL 66.933276 92.379945 \nL 67.222676 92.379945 \nL 67.222676 91.15079 \nL 67.512077 91.15079 \nL 67.512077 89.307058 \nL 67.801477 89.307058 \nL 67.801477 88.692481 \nL 68.090877 88.692481 \nL 68.090877 87.463326 \nL 68.380278 87.463326 \nL 68.380278 86.848749 \nL 69.827279 86.848749 \nL 69.827279 85.619594 \nL 70.116679 85.619594 \nL 70.116679 83.775862 \nL 71.274281 83.775862 \nL 71.274281 83.161284 \nL 72.142482 83.161284 \nL 72.142482 81.317552 \nL 73.010683 81.317552 \nL 73.010683 80.088398 \nL 73.300083 80.088398 \nL 73.300083 79.47382 \nL 73.589483 79.47382 \nL 73.589483 78.244665 \nL 74.168284 78.244665 \nL 74.168284 77.630088 \nL 74.747085 77.630088 \nL 74.747085 72.098892 \nL 75.325885 72.098892 \nL 75.325885 70.869737 \nL 75.615286 70.869737 \nL 75.615286 70.25516 \nL 75.904686 70.25516 \nL 75.904686 69.026005 \nL 76.483487 69.026005 \nL 76.483487 66.567695 \nL 76.772887 66.567695 \nL 76.772887 65.953118 \nL 77.062287 65.953118 \nL 77.062287 63.494809 \nL 77.351688 63.494809 \nL 77.351688 62.880231 \nL 81.982093 62.880231 \nL 81.982093 62.265654 \nL 82.271493 62.265654 \nL 82.271493 61.651077 \nL 82.850294 61.651077 \nL 82.850294 61.036499 \nL 84.586696 61.036499 \nL 84.586696 58.57819 \nL 84.876096 58.57819 \nL 84.876096 57.349035 \nL 85.165496 57.349035 \nL 85.165496 56.734458 \nL 85.454897 56.734458 \nL 85.454897 54.890725 \nL 85.744297 54.890725 \nL 85.744297 54.276148 \nL 88.6383 54.276148 \nL 88.6383 53.661571 \nL 89.217101 53.661571 \nL 89.217101 52.432416 \nL 89.506501 52.432416 \nL 89.506501 49.359529 \nL 95.583908 49.359529 \nL 95.583908 48.744952 \nL 96.162709 48.744952 \nL 96.162709 48.130374 \nL 97.32031 48.130374 \nL 97.32031 47.515797 \nL 98.188511 47.515797 \nL 98.188511 46.286642 \nL 98.477911 46.286642 \nL 98.477911 45.672065 \nL 101.661315 45.672065 \nL 101.661315 45.057488 \nL 103.687117 45.057488 \nL 103.687117 44.44291 \nL 106.58112 44.44291 \nL 106.58112 43.828333 \nL 111.790326 43.828333 \nL 111.790326 43.213755 \nL 112.369127 43.213755 \nL 112.369127 42.599178 \nL 113.816128 42.599178 \nL 113.816128 41.984601 \nL 116.710132 41.984601 \nL 116.710132 41.370023 \nL 119.025334 41.370023 \nL 119.025334 40.755446 \nL 119.604135 40.755446 \nL 119.604135 40.140869 \nL 121.919338 40.140869 \nL 121.919338 39.526291 \nL 124.23454 39.526291 \nL 124.23454 38.911714 \nL 125.392141 38.911714 \nL 125.392141 38.297137 \nL 131.469548 38.297137 \nL 131.469548 37.682559 \nL 135.810553 37.682559 \nL 135.810553 37.067982 \nL 137.546955 37.067982 \nL 137.546955 36.453404 \nL 138.415156 36.453404 \nL 138.415156 35.838827 \nL 138.993957 35.838827 \nL 138.993957 35.22425 \nL 144.203162 35.22425 \nL 144.203162 34.609672 \nL 144.492563 34.609672 \nL 144.492563 33.995095 \nL 144.781963 33.995095 \nL 144.781963 33.380518 \nL 146.228965 33.380518 \nL 146.228965 32.76594 \nL 146.807765 32.76594 \nL 146.807765 32.151363 \nL 148.254767 32.151363 \nL 148.254767 31.536786 \nL 149.122968 31.536786 \nL 149.122968 30.922208 \nL 151.438171 30.922208 \nL 151.438171 30.307631 \nL 158.962579 30.307631 \nL 158.962579 29.693053 \nL 163.592984 29.693053 \nL 163.592984 29.078476 \nL 181.825205 29.078476 \nL 181.825205 28.463899 \nL 195.42702 28.463899 \nL 195.42702 27.849321 \nL 204.68783 27.849321 \nL 204.68783 27.234744 \nL 221.762449 27.234744 \nL 221.762449 26.620167 \nL 222.05185 26.620167 \nL 222.05185 26.005589 \nL 238.547668 26.005589 \nL 238.547668 25.391012 \nL 239.99467 25.391012 \nL 239.99467 24.776434 \nL 243.467474 24.776434 \nL 243.467474 24.161857 \nL 252.149483 24.161857 \nL 252.149483 23.54728 \nL 266.040699 23.54728 \nL 266.040699 22.932702 \nL 335.207376 22.932702 \nL 335.207376 22.318125 \nL 400.90125 22.318125 \nL 400.90125 22.318125 \n\" style=\"fill:none;stroke:#1f77b4;stroke-linecap:square;stroke-width:1.5;\"/>\n   </g>\n   <g id=\"line2d_26\">\n    <path clip-path=\"url(#p3c6dae3272)\" d=\"M 43.78125 288.430125 \nL 47.254054 180.879086 \nL 47.832855 180.879086 \nL 47.832855 177.191622 \nL 48.122255 177.191622 \nL 48.122255 166.129229 \nL 48.411655 166.129229 \nL 48.411655 161.827187 \nL 48.701056 161.827187 \nL 48.701056 157.525146 \nL 48.990456 157.525146 \nL 48.990456 156.910568 \nL 50.148057 156.910568 \nL 50.148057 153.223104 \nL 50.437457 153.223104 \nL 50.437457 151.379372 \nL 50.726858 151.379372 \nL 50.726858 140.31698 \nL 51.016258 140.31698 \nL 51.016258 139.702402 \nL 51.305658 139.702402 \nL 51.305658 138.473247 \nL 51.595059 138.473247 \nL 51.595059 136.629515 \nL 51.884459 136.629515 \nL 51.884459 131.098319 \nL 52.173859 131.098319 \nL 52.173859 130.483742 \nL 52.46326 130.483742 \nL 52.46326 128.64001 \nL 53.04206 128.64001 \nL 53.04206 126.1817 \nL 53.331461 126.1817 \nL 53.331461 124.952545 \nL 53.620861 124.952545 \nL 53.620861 123.723391 \nL 53.910261 123.723391 \nL 53.910261 123.108813 \nL 54.778462 123.108813 \nL 54.778462 121.879658 \nL 55.646663 121.879658 \nL 55.646663 120.650504 \nL 55.936064 120.650504 \nL 55.936064 120.035926 \nL 56.225464 120.035926 \nL 56.225464 119.421349 \nL 57.383065 119.421349 \nL 57.383065 118.806772 \nL 58.251266 118.806772 \nL 58.251266 118.192194 \nL 58.830067 118.192194 \nL 58.830067 117.577617 \nL 60.277068 117.577617 \nL 60.277068 116.96304 \nL 62.302871 116.96304 \nL 62.302871 115.733885 \nL 63.460472 115.733885 \nL 63.460472 115.119307 \nL 65.486274 115.119307 \nL 65.486274 113.275575 \nL 66.354475 113.275575 \nL 66.354475 112.660998 \nL 66.643876 112.660998 \nL 66.643876 112.046421 \nL 66.933276 112.046421 \nL 66.933276 110.817266 \nL 67.512077 110.817266 \nL 67.512077 108.973534 \nL 67.801477 108.973534 \nL 67.801477 105.900647 \nL 68.090877 105.900647 \nL 68.090877 105.28607 \nL 68.669678 105.28607 \nL 68.669678 102.82776 \nL 68.959078 102.82776 \nL 68.959078 102.213183 \nL 69.537879 102.213183 \nL 69.537879 101.598605 \nL 70.40608 101.598605 \nL 70.40608 100.369451 \nL 70.69548 100.369451 \nL 70.69548 97.296564 \nL 70.98488 97.296564 \nL 70.98488 94.838254 \nL 71.563681 94.838254 \nL 71.563681 93.6091 \nL 71.853081 93.6091 \nL 71.853081 92.379945 \nL 72.142482 92.379945 \nL 72.142482 91.765367 \nL 73.010683 91.765367 \nL 73.010683 91.15079 \nL 73.300083 91.15079 \nL 73.300083 89.921635 \nL 73.589483 89.921635 \nL 73.589483 88.077903 \nL 73.878884 88.077903 \nL 73.878884 86.848749 \nL 74.168284 86.848749 \nL 74.168284 86.234171 \nL 74.457684 86.234171 \nL 74.457684 84.390439 \nL 74.747085 84.390439 \nL 74.747085 83.161284 \nL 75.036485 83.161284 \nL 75.036485 75.786356 \nL 75.325885 75.786356 \nL 75.325885 75.171779 \nL 75.615286 75.171779 \nL 75.615286 74.557201 \nL 75.904686 74.557201 \nL 75.904686 73.942624 \nL 76.194086 73.942624 \nL 76.194086 73.328046 \nL 77.351688 73.328046 \nL 77.351688 72.713469 \nL 77.930488 72.713469 \nL 77.930488 72.098892 \nL 78.509289 72.098892 \nL 78.509289 71.484314 \nL 78.798689 71.484314 \nL 78.798689 70.25516 \nL 79.37749 70.25516 \nL 79.37749 69.640582 \nL 79.66689 69.640582 \nL 79.66689 68.411428 \nL 80.535091 68.411428 \nL 80.535091 67.79685 \nL 82.271493 67.79685 \nL 82.271493 67.182273 \nL 83.139694 67.182273 \nL 83.139694 66.567695 \nL 83.718495 66.567695 \nL 83.718495 65.338541 \nL 84.007895 65.338541 \nL 84.007895 51.817839 \nL 84.297295 51.817839 \nL 84.297295 49.974107 \nL 84.876096 49.974107 \nL 84.876096 49.359529 \nL 88.3489 49.359529 \nL 88.3489 48.744952 \nL 89.217101 48.744952 \nL 89.217101 48.130374 \nL 94.136906 48.130374 \nL 94.136906 47.515797 \nL 97.03091 47.515797 \nL 97.03091 46.90122 \nL 97.32031 46.90122 \nL 97.32031 45.672065 \nL 98.767312 45.672065 \nL 98.767312 45.057488 \nL 99.056712 45.057488 \nL 99.056712 43.828333 \nL 99.635513 43.828333 \nL 99.635513 42.599178 \nL 104.844718 42.599178 \nL 104.844718 41.984601 \nL 118.157133 41.984601 \nL 118.157133 41.370023 \nL 118.446534 41.370023 \nL 118.446534 40.755446 \nL 125.681542 40.755446 \nL 125.681542 40.140869 \nL 136.678754 40.140869 \nL 136.678754 39.526291 \nL 140.151558 39.526291 \nL 140.151558 38.911714 \nL 140.440958 38.911714 \nL 140.440958 38.297137 \nL 141.309159 38.297137 \nL 141.309159 37.682559 \nL 142.17736 37.682559 \nL 142.17736 36.453404 \nL 142.466761 36.453404 \nL 142.466761 35.838827 \nL 145.071363 35.838827 \nL 145.071363 34.609672 \nL 147.386566 34.609672 \nL 147.386566 33.995095 \nL 148.544167 33.995095 \nL 148.544167 33.380518 \nL 149.412368 33.380518 \nL 149.412368 32.76594 \nL 150.280569 32.76594 \nL 150.280569 32.151363 \nL 150.56997 32.151363 \nL 150.56997 31.536786 \nL 151.14877 31.536786 \nL 151.14877 30.922208 \nL 151.727571 30.922208 \nL 151.727571 30.307631 \nL 157.226177 30.307631 \nL 157.226177 29.693053 \nL 158.962579 29.693053 \nL 158.962579 29.078476 \nL 159.83078 29.078476 \nL 159.83078 28.463899 \nL 164.171785 28.463899 \nL 164.171785 27.849321 \nL 166.486987 27.849321 \nL 166.486987 27.234744 \nL 191.086015 27.234744 \nL 191.086015 26.620167 \nL 191.954216 26.620167 \nL 191.954216 26.005589 \nL 209.897036 26.005589 \nL 209.897036 25.391012 \nL 213.65924 25.391012 \nL 213.65924 24.776434 \nL 236.521866 24.776434 \nL 236.521866 24.161857 \nL 246.072077 24.161857 \nL 246.072077 23.54728 \nL 254.464686 23.54728 \nL 254.464686 22.932702 \nL 398.586047 22.932702 \nL 398.586047 22.318125 \nL 400.90125 22.318125 \nL 400.90125 22.318125 \n\" style=\"fill:none;stroke:#ff7f0e;stroke-linecap:square;stroke-width:1.5;\"/>\n   </g>\n   <g id=\"line2d_27\">\n    <path clip-path=\"url(#p3c6dae3272)\" d=\"M 43.78125 288.430125 \nL 43.78125 273.680268 \nL 44.07065 273.680268 \nL 44.07065 272.451113 \nL 44.360051 272.451113 \nL 44.360051 267.534495 \nL 44.649451 267.534495 \nL 44.649451 257.701257 \nL 44.938851 257.701257 \nL 44.938851 249.097173 \nL 45.228252 249.097173 \nL 45.228252 242.336822 \nL 45.517652 242.336822 \nL 45.517652 218.982883 \nL 45.807052 218.982883 \nL 45.807052 214.066264 \nL 46.096453 214.066264 \nL 46.096453 196.24352 \nL 46.385853 196.24352 \nL 46.385853 183.337395 \nL 46.675253 183.337395 \nL 46.675253 171.660425 \nL 46.964654 171.660425 \nL 46.964654 154.452259 \nL 47.254054 154.452259 \nL 47.254054 150.764795 \nL 47.543454 150.764795 \nL 47.543454 145.233598 \nL 47.832855 145.233598 \nL 47.832855 136.629515 \nL 48.122255 136.629515 \nL 48.122255 131.712896 \nL 48.411655 131.712896 \nL 48.411655 131.098319 \nL 48.701056 131.098319 \nL 48.701056 130.483742 \nL 52.75266 130.483742 \nL 52.75266 129.869164 \nL 53.620861 129.869164 \nL 53.620861 129.254587 \nL 53.910261 129.254587 \nL 53.910261 128.64001 \nL 54.199662 128.64001 \nL 54.199662 126.796277 \nL 55.357263 126.796277 \nL 55.357263 126.1817 \nL 56.514864 126.1817 \nL 56.514864 123.108813 \nL 56.804265 123.108813 \nL 56.804265 122.494236 \nL 57.093665 122.494236 \nL 57.093665 121.879658 \nL 62.881671 121.879658 \nL 62.881671 121.265081 \nL 63.171072 121.265081 \nL 63.171072 120.035926 \nL 63.460472 120.035926 \nL 63.460472 115.733885 \nL 63.749872 115.733885 \nL 63.749872 113.890153 \nL 64.039273 113.890153 \nL 64.039273 103.442337 \nL 64.328673 103.442337 \nL 64.328673 100.369451 \nL 64.618073 100.369451 \nL 64.618073 98.525719 \nL 65.486274 98.525719 \nL 65.486274 97.911141 \nL 66.065075 97.911141 \nL 66.065075 97.296564 \nL 69.537879 97.296564 \nL 69.537879 96.681986 \nL 70.40608 96.681986 \nL 70.40608 96.067409 \nL 74.457684 96.067409 \nL 74.457684 95.452832 \nL 75.615286 95.452832 \nL 75.615286 94.223677 \nL 75.904686 94.223677 \nL 75.904686 92.379945 \nL 76.483487 92.379945 \nL 76.483487 91.765367 \nL 76.772887 91.765367 \nL 76.772887 91.15079 \nL 77.351688 91.15079 \nL 77.351688 89.307058 \nL 78.509289 89.307058 \nL 78.509289 88.692481 \nL 79.08809 88.692481 \nL 79.08809 83.775862 \nL 79.66689 83.775862 \nL 79.66689 81.317552 \nL 79.956291 81.317552 \nL 79.956291 76.400933 \nL 81.113892 76.400933 \nL 81.113892 75.171779 \nL 81.403292 75.171779 \nL 81.403292 73.328046 \nL 81.982093 73.328046 \nL 81.982093 72.713469 \nL 82.271493 72.713469 \nL 82.271493 69.640582 \nL 128.575545 69.640582 \nL 128.575545 69.026005 \nL 128.864945 69.026005 \nL 128.864945 68.411428 \nL 129.154346 68.411428 \nL 129.154346 67.182273 \nL 130.022547 67.182273 \nL 130.022547 62.880231 \nL 130.601347 62.880231 \nL 130.601347 59.807344 \nL 130.890748 59.807344 \nL 130.890748 57.963612 \nL 131.180148 57.963612 \nL 131.180148 57.349035 \nL 131.469548 57.349035 \nL 131.469548 56.11988 \nL 131.758949 56.11988 \nL 131.758949 55.505303 \nL 132.048349 55.505303 \nL 132.048349 48.744952 \nL 134.363551 48.744952 \nL 134.363551 48.130374 \nL 134.942352 48.130374 \nL 134.942352 47.515797 \nL 138.415156 47.515797 \nL 138.415156 46.90122 \nL 141.59856 46.90122 \nL 141.59856 46.286642 \nL 144.203162 46.286642 \nL 144.203162 45.672065 \nL 149.991169 45.672065 \nL 149.991169 45.057488 \nL 151.14877 45.057488 \nL 151.14877 44.44291 \nL 152.306372 44.44291 \nL 152.306372 43.828333 \nL 152.885172 43.828333 \nL 152.885172 43.213755 \nL 154.042774 43.213755 \nL 154.042774 42.599178 \nL 154.621574 42.599178 \nL 154.621574 41.984601 \nL 155.200375 41.984601 \nL 155.200375 40.755446 \nL 156.647376 40.755446 \nL 156.647376 39.526291 \nL 159.251979 39.526291 \nL 159.251979 38.297137 \nL 161.277782 38.297137 \nL 161.277782 37.682559 \nL 164.461185 37.682559 \nL 164.461185 37.067982 \nL 167.065788 37.067982 \nL 167.065788 36.453404 \nL 167.644589 36.453404 \nL 167.644589 35.22425 \nL 168.223389 35.22425 \nL 168.223389 34.609672 \nL 169.670391 34.609672 \nL 169.670391 33.380518 \nL 170.249192 33.380518 \nL 170.249192 32.76594 \nL 172.853795 32.76594 \nL 172.853795 32.151363 \nL 173.143195 32.151363 \nL 173.143195 28.463899 \nL 180.667603 28.463899 \nL 180.667603 27.849321 \nL 195.42702 27.849321 \nL 195.42702 27.234744 \nL 196.874021 27.234744 \nL 196.874021 26.005589 \nL 224.367052 26.005589 \nL 224.367052 25.391012 \nL 226.103454 25.391012 \nL 226.103454 24.776434 \nL 238.547668 24.776434 \nL 238.547668 24.161857 \nL 246.361477 24.161857 \nL 246.361477 23.54728 \nL 255.622287 23.54728 \nL 255.622287 22.932702 \nL 283.694119 22.932702 \nL 283.694119 22.318125 \nL 400.90125 22.318125 \nL 400.90125 22.318125 \n\" style=\"fill:none;stroke:#2ca02c;stroke-linecap:square;stroke-width:1.5;\"/>\n   </g>\n   <g id=\"line2d_28\">\n    <path clip-path=\"url(#p3c6dae3272)\" d=\"M 43.78125 288.430125 \nL 43.78125 273.680268 \nL 44.07065 273.680268 \nL 44.07065 272.451113 \nL 44.360051 272.451113 \nL 44.360051 267.534495 \nL 44.649451 267.534495 \nL 44.649451 256.472102 \nL 44.938851 256.472102 \nL 44.938851 248.482596 \nL 45.228252 248.482596 \nL 45.228252 241.107668 \nL 45.517652 241.107668 \nL 45.517652 211.607954 \nL 45.807052 211.607954 \nL 45.807052 206.076758 \nL 46.096453 206.076758 \nL 46.096453 205.46218 \nL 46.385853 205.46218 \nL 46.385853 187.639437 \nL 46.675253 187.639437 \nL 46.675253 172.275003 \nL 46.964654 172.275003 \nL 46.964654 164.900074 \nL 47.254054 164.900074 \nL 47.254054 149.53564 \nL 47.543454 149.53564 \nL 47.543454 145.233598 \nL 47.832855 145.233598 \nL 47.832855 138.473247 \nL 48.122255 138.473247 \nL 48.122255 137.244093 \nL 48.411655 137.244093 \nL 48.411655 136.014938 \nL 48.701056 136.014938 \nL 48.701056 133.556628 \nL 48.990456 133.556628 \nL 48.990456 132.327474 \nL 52.46326 132.327474 \nL 52.46326 131.098319 \nL 55.936064 131.098319 \nL 55.936064 130.483742 \nL 56.514864 130.483742 \nL 56.514864 129.254587 \nL 56.804265 129.254587 \nL 56.804265 126.1817 \nL 61.72407 126.1817 \nL 61.72407 125.567123 \nL 63.171072 125.567123 \nL 63.171072 124.337968 \nL 63.460472 124.337968 \nL 63.460472 123.723391 \nL 63.749872 123.723391 \nL 63.749872 110.817266 \nL 64.039273 110.817266 \nL 64.039273 105.900647 \nL 64.328673 105.900647 \nL 64.328673 99.754873 \nL 64.907474 99.754873 \nL 64.907474 99.140296 \nL 65.196874 99.140296 \nL 65.196874 96.681986 \nL 65.486274 96.681986 \nL 65.486274 96.067409 \nL 65.775675 96.067409 \nL 65.775675 95.452832 \nL 66.065075 95.452832 \nL 66.065075 94.838254 \nL 66.354475 94.838254 \nL 66.354475 92.994522 \nL 73.300083 92.994522 \nL 73.300083 92.379945 \nL 75.325885 92.379945 \nL 75.325885 91.765367 \nL 75.904686 91.765367 \nL 75.904686 90.536213 \nL 77.062287 90.536213 \nL 77.062287 89.307058 \nL 77.351688 89.307058 \nL 77.351688 88.692481 \nL 77.641088 88.692481 \nL 77.641088 88.077903 \nL 77.930488 88.077903 \nL 77.930488 87.463326 \nL 78.219889 87.463326 \nL 78.219889 86.848749 \nL 78.509289 86.848749 \nL 78.509289 86.234171 \nL 79.37749 86.234171 \nL 79.37749 85.619594 \nL 79.66689 85.619594 \nL 79.66689 85.005016 \nL 79.956291 85.005016 \nL 79.956291 75.171779 \nL 80.535091 75.171779 \nL 80.535091 74.557201 \nL 80.824491 74.557201 \nL 80.824491 73.328046 \nL 81.113892 73.328046 \nL 81.113892 70.869737 \nL 81.403292 70.869737 \nL 81.403292 70.25516 \nL 81.692692 70.25516 \nL 81.692692 67.79685 \nL 81.982093 67.79685 \nL 81.982093 66.567695 \nL 82.560893 66.567695 \nL 82.560893 65.953118 \nL 82.850294 65.953118 \nL 82.850294 65.338541 \nL 83.139694 65.338541 \nL 83.139694 64.723963 \nL 84.007895 64.723963 \nL 84.007895 59.807344 \nL 84.586696 59.807344 \nL 84.586696 56.734458 \nL 84.876096 56.734458 \nL 84.876096 54.276148 \nL 85.454897 54.276148 \nL 85.454897 53.661571 \nL 85.744297 53.661571 \nL 85.744297 53.046993 \nL 99.924913 53.046993 \nL 99.924913 52.432416 \nL 113.816128 52.432416 \nL 113.816128 51.817839 \nL 132.048349 51.817839 \nL 132.048349 47.515797 \nL 133.20595 47.515797 \nL 133.20595 46.90122 \nL 140.440958 46.90122 \nL 140.440958 46.286642 \nL 143.913762 46.286642 \nL 143.913762 45.672065 \nL 144.492563 45.672065 \nL 144.492563 45.057488 \nL 146.518365 45.057488 \nL 146.518365 44.44291 \nL 149.701769 44.44291 \nL 149.701769 43.213755 \nL 150.280569 43.213755 \nL 150.280569 42.599178 \nL 151.438171 42.599178 \nL 151.438171 41.984601 \nL 151.727571 41.984601 \nL 151.727571 41.370023 \nL 152.016971 41.370023 \nL 152.016971 40.140869 \nL 152.885172 40.140869 \nL 152.885172 39.526291 \nL 153.463973 39.526291 \nL 153.463973 38.911714 \nL 156.936777 38.911714 \nL 156.936777 38.297137 \nL 160.12018 38.297137 \nL 160.12018 37.682559 \nL 163.303584 37.682559 \nL 163.303584 35.838827 \nL 164.461185 35.838827 \nL 164.461185 35.22425 \nL 165.618786 35.22425 \nL 165.618786 34.609672 \nL 167.355188 34.609672 \nL 167.355188 33.380518 \nL 167.933989 33.380518 \nL 167.933989 32.76594 \nL 170.249192 32.76594 \nL 170.249192 32.151363 \nL 170.827992 32.151363 \nL 170.827992 31.536786 \nL 171.985594 31.536786 \nL 171.985594 30.307631 \nL 172.564394 30.307631 \nL 172.564394 28.463899 \nL 179.799402 28.463899 \nL 179.799402 27.849321 \nL 193.690618 27.849321 \nL 193.690618 27.234744 \nL 194.269419 27.234744 \nL 194.269419 26.620167 \nL 205.266631 26.620167 \nL 205.266631 26.005589 \nL 211.633438 26.005589 \nL 211.633438 25.391012 \nL 215.974443 25.391012 \nL 215.974443 24.776434 \nL 235.943065 24.776434 \nL 235.943065 24.161857 \nL 248.097879 24.161857 \nL 248.097879 23.54728 \nL 250.413081 23.54728 \nL 250.413081 22.932702 \nL 273.854508 22.932702 \nL 273.854508 22.318125 \nL 400.90125 22.318125 \nL 400.90125 22.318125 \n\" style=\"fill:none;stroke:#d62728;stroke-linecap:square;stroke-width:1.5;\"/>\n   </g>\n   <g id=\"patch_3\">\n    <path d=\"M 43.78125 288.430125 \nL 43.78125 22.318125 \n\" style=\"fill:none;stroke:#000000;stroke-linecap:square;stroke-linejoin:miter;stroke-width:0.8;\"/>\n   </g>\n   <g id=\"patch_4\">\n    <path d=\"M 400.90125 288.430125 \nL 400.90125 22.318125 \n\" style=\"fill:none;stroke:#000000;stroke-linecap:square;stroke-linejoin:miter;stroke-width:0.8;\"/>\n   </g>\n   <g id=\"patch_5\">\n    <path d=\"M 43.78125 288.430125 \nL 400.90125 288.430125 \n\" style=\"fill:none;stroke:#000000;stroke-linecap:square;stroke-linejoin:miter;stroke-width:0.8;\"/>\n   </g>\n   <g id=\"patch_6\">\n    <path d=\"M 43.78125 22.318125 \nL 400.90125 22.318125 \n\" style=\"fill:none;stroke:#000000;stroke-linecap:square;stroke-linejoin:miter;stroke-width:0.8;\"/>\n   </g>\n   <g id=\"text_15\">\n    <!-- ROC curve -->\n    <g transform=\"translate(190.54125 16.318125)scale(0.12 -0.12)\">\n     <defs>\n      <path d=\"M 39.40625 66.21875 \nQ 28.65625 66.21875 22.328125 58.203125 \nQ 16.015625 50.203125 16.015625 36.375 \nQ 16.015625 22.609375 22.328125 14.59375 \nQ 28.65625 6.59375 39.40625 6.59375 \nQ 50.140625 6.59375 56.421875 14.59375 \nQ 62.703125 22.609375 62.703125 36.375 \nQ 62.703125 50.203125 56.421875 58.203125 \nQ 50.140625 66.21875 39.40625 66.21875 \nz\nM 39.40625 74.21875 \nQ 54.734375 74.21875 63.90625 63.9375 \nQ 73.09375 53.65625 73.09375 36.375 \nQ 73.09375 19.140625 63.90625 8.859375 \nQ 54.734375 -1.421875 39.40625 -1.421875 \nQ 24.03125 -1.421875 14.8125 8.828125 \nQ 5.609375 19.09375 5.609375 36.375 \nQ 5.609375 53.65625 14.8125 63.9375 \nQ 24.03125 74.21875 39.40625 74.21875 \nz\n\" id=\"DejaVuSans-79\"/>\n      <path d=\"M 64.40625 67.28125 \nL 64.40625 56.890625 \nQ 59.421875 61.53125 53.78125 63.8125 \nQ 48.140625 66.109375 41.796875 66.109375 \nQ 29.296875 66.109375 22.65625 58.46875 \nQ 16.015625 50.828125 16.015625 36.375 \nQ 16.015625 21.96875 22.65625 14.328125 \nQ 29.296875 6.6875 41.796875 6.6875 \nQ 48.140625 6.6875 53.78125 8.984375 \nQ 59.421875 11.28125 64.40625 15.921875 \nL 64.40625 5.609375 \nQ 59.234375 2.09375 53.4375 0.328125 \nQ 47.65625 -1.421875 41.21875 -1.421875 \nQ 24.65625 -1.421875 15.125 8.703125 \nQ 5.609375 18.84375 5.609375 36.375 \nQ 5.609375 53.953125 15.125 64.078125 \nQ 24.65625 74.21875 41.21875 74.21875 \nQ 47.75 74.21875 53.53125 72.484375 \nQ 59.328125 70.75 64.40625 67.28125 \nz\n\" id=\"DejaVuSans-67\"/>\n     </defs>\n     <use xlink:href=\"#DejaVuSans-82\"/>\n     <use x=\"69.482422\" xlink:href=\"#DejaVuSans-79\"/>\n     <use x=\"148.193359\" xlink:href=\"#DejaVuSans-67\"/>\n     <use x=\"218.017578\" xlink:href=\"#DejaVuSans-32\"/>\n     <use x=\"249.804688\" xlink:href=\"#DejaVuSans-99\"/>\n     <use x=\"304.785156\" xlink:href=\"#DejaVuSans-117\"/>\n     <use x=\"368.164062\" xlink:href=\"#DejaVuSans-114\"/>\n     <use x=\"409.277344\" xlink:href=\"#DejaVuSans-118\"/>\n     <use x=\"468.457031\" xlink:href=\"#DejaVuSans-101\"/>\n    </g>\n   </g>\n   <g id=\"legend_1\">\n    <g id=\"patch_7\">\n     <path d=\"M 221.7575 89.030625 \nL 393.90125 89.030625 \nQ 395.90125 89.030625 395.90125 87.030625 \nL 395.90125 29.318125 \nQ 395.90125 27.318125 393.90125 27.318125 \nL 221.7575 27.318125 \nQ 219.7575 27.318125 219.7575 29.318125 \nL 219.7575 87.030625 \nQ 219.7575 89.030625 221.7575 89.030625 \nz\n\" style=\"fill:#ffffff;opacity:0.8;stroke:#cccccc;stroke-linejoin:miter;\"/>\n    </g>\n    <g id=\"line2d_29\">\n     <path d=\"M 223.7575 35.416562 \nL 243.7575 35.416562 \n\" style=\"fill:none;stroke:#1f77b4;stroke-linecap:square;stroke-width:1.5;\"/>\n    </g>\n    <g id=\"line2d_30\"/>\n    <g id=\"text_16\">\n     <!-- approach 1 (without tuning) -->\n     <g transform=\"translate(251.7575 38.916562)scale(0.1 -0.1)\">\n      <defs>\n       <path d=\"M 54.890625 33.015625 \nL 54.890625 0 \nL 45.90625 0 \nL 45.90625 32.71875 \nQ 45.90625 40.484375 42.875 44.328125 \nQ 39.84375 48.1875 33.796875 48.1875 \nQ 26.515625 48.1875 22.3125 43.546875 \nQ 18.109375 38.921875 18.109375 30.90625 \nL 18.109375 0 \nL 9.078125 0 \nL 9.078125 75.984375 \nL 18.109375 75.984375 \nL 18.109375 46.1875 \nQ 21.34375 51.125 25.703125 53.5625 \nQ 30.078125 56 35.796875 56 \nQ 45.21875 56 50.046875 50.171875 \nQ 54.890625 44.34375 54.890625 33.015625 \nz\n\" id=\"DejaVuSans-104\"/>\n       <path d=\"M 4.203125 54.6875 \nL 13.1875 54.6875 \nL 24.421875 12.015625 \nL 35.59375 54.6875 \nL 46.1875 54.6875 \nL 57.421875 12.015625 \nL 68.609375 54.6875 \nL 77.59375 54.6875 \nL 63.28125 0 \nL 52.6875 0 \nL 40.921875 44.828125 \nL 29.109375 0 \nL 18.5 0 \nz\n\" id=\"DejaVuSans-119\"/>\n       <path d=\"M 45.40625 27.984375 \nQ 45.40625 37.75 41.375 43.109375 \nQ 37.359375 48.484375 30.078125 48.484375 \nQ 22.859375 48.484375 18.828125 43.109375 \nQ 14.796875 37.75 14.796875 27.984375 \nQ 14.796875 18.265625 18.828125 12.890625 \nQ 22.859375 7.515625 30.078125 7.515625 \nQ 37.359375 7.515625 41.375 12.890625 \nQ 45.40625 18.265625 45.40625 27.984375 \nz\nM 54.390625 6.78125 \nQ 54.390625 -7.171875 48.1875 -13.984375 \nQ 42 -20.796875 29.203125 -20.796875 \nQ 24.46875 -20.796875 20.265625 -20.09375 \nQ 16.0625 -19.390625 12.109375 -17.921875 \nL 12.109375 -9.1875 \nQ 16.0625 -11.328125 19.921875 -12.34375 \nQ 23.78125 -13.375 27.78125 -13.375 \nQ 36.625 -13.375 41.015625 -8.765625 \nQ 45.40625 -4.15625 45.40625 5.171875 \nL 45.40625 9.625 \nQ 42.625 4.78125 38.28125 2.390625 \nQ 33.9375 0 27.875 0 \nQ 17.828125 0 11.671875 7.65625 \nQ 5.515625 15.328125 5.515625 27.984375 \nQ 5.515625 40.671875 11.671875 48.328125 \nQ 17.828125 56 27.875 56 \nQ 33.9375 56 38.28125 53.609375 \nQ 42.625 51.21875 45.40625 46.390625 \nL 45.40625 54.6875 \nL 54.390625 54.6875 \nz\n\" id=\"DejaVuSans-103\"/>\n      </defs>\n      <use xlink:href=\"#DejaVuSans-97\"/>\n      <use x=\"61.279297\" xlink:href=\"#DejaVuSans-112\"/>\n      <use x=\"124.755859\" xlink:href=\"#DejaVuSans-112\"/>\n      <use x=\"188.232422\" xlink:href=\"#DejaVuSans-114\"/>\n      <use x=\"227.095703\" xlink:href=\"#DejaVuSans-111\"/>\n      <use x=\"288.277344\" xlink:href=\"#DejaVuSans-97\"/>\n      <use x=\"349.556641\" xlink:href=\"#DejaVuSans-99\"/>\n      <use x=\"404.537109\" xlink:href=\"#DejaVuSans-104\"/>\n      <use x=\"467.916016\" xlink:href=\"#DejaVuSans-32\"/>\n      <use x=\"499.703125\" xlink:href=\"#DejaVuSans-49\"/>\n      <use x=\"563.326172\" xlink:href=\"#DejaVuSans-32\"/>\n      <use x=\"595.113281\" xlink:href=\"#DejaVuSans-40\"/>\n      <use x=\"634.126953\" xlink:href=\"#DejaVuSans-119\"/>\n      <use x=\"715.914062\" xlink:href=\"#DejaVuSans-105\"/>\n      <use x=\"743.697266\" xlink:href=\"#DejaVuSans-116\"/>\n      <use x=\"782.90625\" xlink:href=\"#DejaVuSans-104\"/>\n      <use x=\"846.285156\" xlink:href=\"#DejaVuSans-111\"/>\n      <use x=\"907.466797\" xlink:href=\"#DejaVuSans-117\"/>\n      <use x=\"970.845703\" xlink:href=\"#DejaVuSans-116\"/>\n      <use x=\"1010.054688\" xlink:href=\"#DejaVuSans-32\"/>\n      <use x=\"1041.841797\" xlink:href=\"#DejaVuSans-116\"/>\n      <use x=\"1081.050781\" xlink:href=\"#DejaVuSans-117\"/>\n      <use x=\"1144.429688\" xlink:href=\"#DejaVuSans-110\"/>\n      <use x=\"1207.808594\" xlink:href=\"#DejaVuSans-105\"/>\n      <use x=\"1235.591797\" xlink:href=\"#DejaVuSans-110\"/>\n      <use x=\"1298.970703\" xlink:href=\"#DejaVuSans-103\"/>\n      <use x=\"1362.447266\" xlink:href=\"#DejaVuSans-41\"/>\n     </g>\n    </g>\n    <g id=\"line2d_31\">\n     <path d=\"M 223.7575 50.094688 \nL 243.7575 50.094688 \n\" style=\"fill:none;stroke:#ff7f0e;stroke-linecap:square;stroke-width:1.5;\"/>\n    </g>\n    <g id=\"line2d_32\"/>\n    <g id=\"text_17\">\n     <!-- approach 1 (with tuning) -->\n     <g transform=\"translate(251.7575 53.594688)scale(0.1 -0.1)\">\n      <use xlink:href=\"#DejaVuSans-97\"/>\n      <use x=\"61.279297\" xlink:href=\"#DejaVuSans-112\"/>\n      <use x=\"124.755859\" xlink:href=\"#DejaVuSans-112\"/>\n      <use x=\"188.232422\" xlink:href=\"#DejaVuSans-114\"/>\n      <use x=\"227.095703\" xlink:href=\"#DejaVuSans-111\"/>\n      <use x=\"288.277344\" xlink:href=\"#DejaVuSans-97\"/>\n      <use x=\"349.556641\" xlink:href=\"#DejaVuSans-99\"/>\n      <use x=\"404.537109\" xlink:href=\"#DejaVuSans-104\"/>\n      <use x=\"467.916016\" xlink:href=\"#DejaVuSans-32\"/>\n      <use x=\"499.703125\" xlink:href=\"#DejaVuSans-49\"/>\n      <use x=\"563.326172\" xlink:href=\"#DejaVuSans-32\"/>\n      <use x=\"595.113281\" xlink:href=\"#DejaVuSans-40\"/>\n      <use x=\"634.126953\" xlink:href=\"#DejaVuSans-119\"/>\n      <use x=\"715.914062\" xlink:href=\"#DejaVuSans-105\"/>\n      <use x=\"743.697266\" xlink:href=\"#DejaVuSans-116\"/>\n      <use x=\"782.90625\" xlink:href=\"#DejaVuSans-104\"/>\n      <use x=\"846.285156\" xlink:href=\"#DejaVuSans-32\"/>\n      <use x=\"878.072266\" xlink:href=\"#DejaVuSans-116\"/>\n      <use x=\"917.28125\" xlink:href=\"#DejaVuSans-117\"/>\n      <use x=\"980.660156\" xlink:href=\"#DejaVuSans-110\"/>\n      <use x=\"1044.039062\" xlink:href=\"#DejaVuSans-105\"/>\n      <use x=\"1071.822266\" xlink:href=\"#DejaVuSans-110\"/>\n      <use x=\"1135.201172\" xlink:href=\"#DejaVuSans-103\"/>\n      <use x=\"1198.677734\" xlink:href=\"#DejaVuSans-41\"/>\n     </g>\n    </g>\n    <g id=\"line2d_33\">\n     <path d=\"M 223.7575 64.772812 \nL 243.7575 64.772812 \n\" style=\"fill:none;stroke:#2ca02c;stroke-linecap:square;stroke-width:1.5;\"/>\n    </g>\n    <g id=\"line2d_34\"/>\n    <g id=\"text_18\">\n     <!-- approach 2 (without tuning) -->\n     <g transform=\"translate(251.7575 68.272812)scale(0.1 -0.1)\">\n      <use xlink:href=\"#DejaVuSans-97\"/>\n      <use x=\"61.279297\" xlink:href=\"#DejaVuSans-112\"/>\n      <use x=\"124.755859\" xlink:href=\"#DejaVuSans-112\"/>\n      <use x=\"188.232422\" xlink:href=\"#DejaVuSans-114\"/>\n      <use x=\"227.095703\" xlink:href=\"#DejaVuSans-111\"/>\n      <use x=\"288.277344\" xlink:href=\"#DejaVuSans-97\"/>\n      <use x=\"349.556641\" xlink:href=\"#DejaVuSans-99\"/>\n      <use x=\"404.537109\" xlink:href=\"#DejaVuSans-104\"/>\n      <use x=\"467.916016\" xlink:href=\"#DejaVuSans-32\"/>\n      <use x=\"499.703125\" xlink:href=\"#DejaVuSans-50\"/>\n      <use x=\"563.326172\" xlink:href=\"#DejaVuSans-32\"/>\n      <use x=\"595.113281\" xlink:href=\"#DejaVuSans-40\"/>\n      <use x=\"634.126953\" xlink:href=\"#DejaVuSans-119\"/>\n      <use x=\"715.914062\" xlink:href=\"#DejaVuSans-105\"/>\n      <use x=\"743.697266\" xlink:href=\"#DejaVuSans-116\"/>\n      <use x=\"782.90625\" xlink:href=\"#DejaVuSans-104\"/>\n      <use x=\"846.285156\" xlink:href=\"#DejaVuSans-111\"/>\n      <use x=\"907.466797\" xlink:href=\"#DejaVuSans-117\"/>\n      <use x=\"970.845703\" xlink:href=\"#DejaVuSans-116\"/>\n      <use x=\"1010.054688\" xlink:href=\"#DejaVuSans-32\"/>\n      <use x=\"1041.841797\" xlink:href=\"#DejaVuSans-116\"/>\n      <use x=\"1081.050781\" xlink:href=\"#DejaVuSans-117\"/>\n      <use x=\"1144.429688\" xlink:href=\"#DejaVuSans-110\"/>\n      <use x=\"1207.808594\" xlink:href=\"#DejaVuSans-105\"/>\n      <use x=\"1235.591797\" xlink:href=\"#DejaVuSans-110\"/>\n      <use x=\"1298.970703\" xlink:href=\"#DejaVuSans-103\"/>\n      <use x=\"1362.447266\" xlink:href=\"#DejaVuSans-41\"/>\n     </g>\n    </g>\n    <g id=\"line2d_35\">\n     <path d=\"M 223.7575 79.450938 \nL 243.7575 79.450938 \n\" style=\"fill:none;stroke:#d62728;stroke-linecap:square;stroke-width:1.5;\"/>\n    </g>\n    <g id=\"line2d_36\"/>\n    <g id=\"text_19\">\n     <!-- approach 2 (with tuning) -->\n     <g transform=\"translate(251.7575 82.950938)scale(0.1 -0.1)\">\n      <use xlink:href=\"#DejaVuSans-97\"/>\n      <use x=\"61.279297\" xlink:href=\"#DejaVuSans-112\"/>\n      <use x=\"124.755859\" xlink:href=\"#DejaVuSans-112\"/>\n      <use x=\"188.232422\" xlink:href=\"#DejaVuSans-114\"/>\n      <use x=\"227.095703\" xlink:href=\"#DejaVuSans-111\"/>\n      <use x=\"288.277344\" xlink:href=\"#DejaVuSans-97\"/>\n      <use x=\"349.556641\" xlink:href=\"#DejaVuSans-99\"/>\n      <use x=\"404.537109\" xlink:href=\"#DejaVuSans-104\"/>\n      <use x=\"467.916016\" xlink:href=\"#DejaVuSans-32\"/>\n      <use x=\"499.703125\" xlink:href=\"#DejaVuSans-50\"/>\n      <use x=\"563.326172\" xlink:href=\"#DejaVuSans-32\"/>\n      <use x=\"595.113281\" xlink:href=\"#DejaVuSans-40\"/>\n      <use x=\"634.126953\" xlink:href=\"#DejaVuSans-119\"/>\n      <use x=\"715.914062\" xlink:href=\"#DejaVuSans-105\"/>\n      <use x=\"743.697266\" xlink:href=\"#DejaVuSans-116\"/>\n      <use x=\"782.90625\" xlink:href=\"#DejaVuSans-104\"/>\n      <use x=\"846.285156\" xlink:href=\"#DejaVuSans-32\"/>\n      <use x=\"878.072266\" xlink:href=\"#DejaVuSans-116\"/>\n      <use x=\"917.28125\" xlink:href=\"#DejaVuSans-117\"/>\n      <use x=\"980.660156\" xlink:href=\"#DejaVuSans-110\"/>\n      <use x=\"1044.039062\" xlink:href=\"#DejaVuSans-105\"/>\n      <use x=\"1071.822266\" xlink:href=\"#DejaVuSans-110\"/>\n      <use x=\"1135.201172\" xlink:href=\"#DejaVuSans-103\"/>\n      <use x=\"1198.677734\" xlink:href=\"#DejaVuSans-41\"/>\n     </g>\n    </g>\n   </g>\n  </g>\n </g>\n <defs>\n  <clipPath id=\"p3c6dae3272\">\n   <rect height=\"266.112\" width=\"357.12\" x=\"43.78125\" y=\"22.318125\"/>\n  </clipPath>\n </defs>\n</svg>\n",
      "image/png": "[encoded data removed]"
     },
     "metadata": {}
    }
   ],
   "source": [
    "y_pred_prob1 = model_G.predict_proba(X_test)[:, 1]\n",
    "fpr1, tpr1, thresholds = roc_curve(y_test, y_pred_prob1)\n",
    "y_pred_prob2 = model_grid1.predict_proba(X_test)[:, 1]\n",
    "fpr2, tpr2, thresholds = roc_curve(y_test, y_pred_prob2)\n",
    "y_pred_prob3 = model.predict_proba(X_new_test)[:, 1]\n",
    "fpr3, tpr3, thresholds = roc_curve(y_test, y_pred_prob3)\n",
    "y_pred_prob4 = model_grid2.predict_proba(X_new_test)[:, 1]\n",
    "fpr4, tpr4, thresholds = roc_curve(y_test, y_pred_prob4)\n",
    "plt.plot(fpr1, tpr1, label = \"approach 1 (without tuning)\")\n",
    "plt.plot(fpr2, tpr2, label =\"approach 1 (with tuning)\")\n",
    "plt.plot(fpr3, tpr3, label = \"approach 2 (without tuning)\")\n",
    "plt.plot(fpr4, tpr4, label =\"approach 2 (with tuning)\")\n",
    "plt.xlim([0.0, 1.0])\n",
    "plt.ylim([0.0, 1.0])\n",
    "plt.title('ROC curve')\n",
    "plt.xlabel('False Positive Rate (1 - Specificity)')\n",
    "plt.ylabel('True Positive Rate (Sensitivity)')\n",
    "plt.legend()\n",
    "plt.grid(True)"
   ]
  },
  {
   "cell_type": "code",
   "execution_count": null,
   "metadata": {},
   "outputs": [],
   "source": []
  }
 ]
}