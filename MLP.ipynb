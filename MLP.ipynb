{
 "cells": [
  {
   "cell_type": "code",
   "execution_count": 21,
   "metadata": {},
   "outputs": [],
   "source": [
    "import pandas as pd, numpy as np\n",
    "from keras.models import Sequential\n",
    "from keras.layers import Flatten, Dense, Dropout\n",
    "from sklearn.metrics import roc_auc_score, accuracy_score, classification_report, roc_curve\n",
    "from sklearn.preprocessing import MinMaxScaler\n",
    "from sklearn.model_selection import train_test_split\n"
   ]
  },
  {
   "cell_type": "code",
   "execution_count": 22,
   "metadata": {},
   "outputs": [
    {
     "name": "stdout",
     "output_type": "stream",
     "text": [
      "(9446, 236)\n",
      "(1667, 236)\n"
     ]
    }
   ],
   "source": [
    "train_df = pd.read_csv(\"data/twitter_data_train_multiclass.csv\")\n",
    "test_df = pd.read_csv(\"data/twitter_data_test_multiclass.csv\")\n",
    "\n",
    "print(train_df.shape)\n",
    "print(test_df.shape)"
   ]
  },
  {
   "cell_type": "code",
   "execution_count": 23,
   "metadata": {},
   "outputs": [],
   "source": [
    "to_drop = [\n",
    "    'Unnamed: 0',\n",
    "    'account_type', \n",
    "    'account_type_multi',\n",
    "    'id', \n",
    "    'name', \n",
    "    'screen_name',\n",
    "    'profile_image_url',\n",
    "    'protected',\n",
    "    'verified',\n",
    "    'description',\n",
    "    'description_processed',\n",
    "    'tweets_list',\n",
    "    'tweets_list_processed',\n",
    "    'url',\n",
    "    'profile_use_background_image', \n",
    "    'profile_background_tile'\n",
    "    ]\n",
    "\n",
    "scaler = MinMaxScaler() \n",
    "train_df[['statuses_count', 'favourites_count', 'followers_count', 'friends_count', 'number_of_mentions', 'listed_count', 'number_of_tags']] = scaler.fit_transform(train_df[['statuses_count', 'favourites_count', 'followers_count', 'friends_count', 'number_of_mentions', 'listed_count', 'number_of_tags']])\n",
    "test_df[['statuses_count', 'favourites_count', 'followers_count', 'friends_count', 'number_of_mentions', 'listed_count', 'number_of_tags']] = scaler.transform(test_df[['statuses_count', 'favourites_count', 'followers_count', 'friends_count', 'number_of_mentions', 'listed_count', 'number_of_tags']])\n",
    "\n",
    "X_train, y_train = train_df.drop(to_drop, axis=1), train_df['account_type_multi']\n",
    "X_test, y_test = test_df.drop(to_drop, axis=1), test_df['account_type_multi']\n",
    "\n",
    "# validation split\n",
    "X_train, X_val, y_train, y_val = train_test_split(X_train, y_train, test_size=0.15)"
   ]
  },
  {
   "cell_type": "code",
   "execution_count": 24,
   "metadata": {},
   "outputs": [],
   "source": [
    "from keras.utils import to_categorical\n",
    "y_train_cat = to_categorical(y_train)\n",
    "y_val_cat = to_categorical(y_val)\n",
    "y_test_cat  = to_categorical(y_test)"
   ]
  },
  {
   "cell_type": "code",
   "execution_count": 25,
   "metadata": {},
   "outputs": [
    {
     "name": "stdout",
     "output_type": "stream",
     "text": [
      "Model: \"sequential_5\"\n",
      "_________________________________________________________________\n",
      " Layer (type)                Output Shape              Param #   \n",
      "=================================================================\n",
      " dense_20 (Dense)            (None, 100)               22100     \n",
      "                                                                 \n",
      " dropout_5 (Dropout)         (None, 100)               0         \n",
      "                                                                 \n",
      " dense_21 (Dense)            (None, 500)               50500     \n",
      "                                                                 \n",
      " dense_22 (Dense)            (None, 500)               250500    \n",
      "                                                                 \n",
      " dense_23 (Dense)            (None, 6)                 3006      \n",
      "                                                                 \n",
      "=================================================================\n",
      "Total params: 326,106\n",
      "Trainable params: 326,106\n",
      "Non-trainable params: 0\n",
      "_________________________________________________________________\n",
      "Epoch 1/20\n",
      "251/251 [==============================] - 1s 3ms/step - loss: 0.5298 - acc: 0.8335 - val_loss: 0.2751 - val_acc: 0.9146\n",
      "Epoch 2/20\n",
      "251/251 [==============================] - 1s 3ms/step - loss: 0.2378 - acc: 0.9327 - val_loss: 0.1778 - val_acc: 0.9570\n",
      "Epoch 3/20\n",
      "251/251 [==============================] - 1s 3ms/step - loss: 0.1451 - acc: 0.9619 - val_loss: 0.1515 - val_acc: 0.9661\n",
      "Epoch 4/20\n",
      "251/251 [==============================] - 1s 3ms/step - loss: 0.1174 - acc: 0.9692 - val_loss: 0.1243 - val_acc: 0.9668\n",
      "Epoch 5/20\n",
      "251/251 [==============================] - 1s 3ms/step - loss: 0.0838 - acc: 0.9771 - val_loss: 0.1156 - val_acc: 0.9704\n",
      "Epoch 6/20\n",
      "251/251 [==============================] - 1s 3ms/step - loss: 0.0794 - acc: 0.9776 - val_loss: 0.1291 - val_acc: 0.9725\n",
      "Epoch 7/20\n",
      "251/251 [==============================] - 1s 3ms/step - loss: 0.0787 - acc: 0.9785 - val_loss: 0.1197 - val_acc: 0.9697\n",
      "Epoch 8/20\n",
      "251/251 [==============================] - 1s 3ms/step - loss: 0.0660 - acc: 0.9814 - val_loss: 0.1226 - val_acc: 0.9718\n",
      "Epoch 9/20\n",
      "251/251 [==============================] - 1s 3ms/step - loss: 0.0596 - acc: 0.9826 - val_loss: 0.1338 - val_acc: 0.9725\n",
      "Epoch 10/20\n",
      "251/251 [==============================] - 1s 3ms/step - loss: 0.0533 - acc: 0.9848 - val_loss: 0.1195 - val_acc: 0.9739\n",
      "Epoch 11/20\n",
      "251/251 [==============================] - 1s 3ms/step - loss: 0.0564 - acc: 0.9836 - val_loss: 0.1188 - val_acc: 0.9732\n",
      "Epoch 12/20\n",
      "251/251 [==============================] - 1s 3ms/step - loss: 0.0502 - acc: 0.9852 - val_loss: 0.1145 - val_acc: 0.9774\n",
      "Epoch 13/20\n",
      "251/251 [==============================] - 1s 3ms/step - loss: 0.0528 - acc: 0.9846 - val_loss: 0.1160 - val_acc: 0.9767\n",
      "Epoch 14/20\n",
      "251/251 [==============================] - 1s 3ms/step - loss: 0.0576 - acc: 0.9837 - val_loss: 0.1443 - val_acc: 0.9697\n",
      "Epoch 15/20\n",
      "251/251 [==============================] - 1s 3ms/step - loss: 0.0529 - acc: 0.9859 - val_loss: 0.1431 - val_acc: 0.9675\n",
      "Epoch 16/20\n",
      "251/251 [==============================] - 1s 3ms/step - loss: 0.0513 - acc: 0.9851 - val_loss: 0.1300 - val_acc: 0.9739\n",
      "Epoch 17/20\n",
      "251/251 [==============================] - 1s 3ms/step - loss: 0.0443 - acc: 0.9872 - val_loss: 0.1244 - val_acc: 0.9788\n",
      "Epoch 18/20\n",
      "251/251 [==============================] - 1s 3ms/step - loss: 0.0399 - acc: 0.9884 - val_loss: 0.1174 - val_acc: 0.9781\n",
      "Epoch 19/20\n",
      "251/251 [==============================] - 1s 3ms/step - loss: 0.0433 - acc: 0.9877 - val_loss: 0.1369 - val_acc: 0.9739\n",
      "Epoch 20/20\n",
      "251/251 [==============================] - 1s 3ms/step - loss: 0.0410 - acc: 0.9879 - val_loss: 0.1194 - val_acc: 0.9767\n"
     ]
    },
    {
     "data": {
      "text/plain": [
       "<keras.callbacks.History at 0x246227ff8e0>"
      ]
     },
     "execution_count": 25,
     "metadata": {},
     "output_type": "execute_result"
    }
   ],
   "source": [
    "model = Sequential()\n",
    "\n",
    "model.add(Dense(100, activation='relu', input_dim=220))\n",
    "model.add(Dropout(.15))\n",
    "model.add(Dense(500, activation='relu'))\n",
    "model.add(Dense(500, activation='relu'))\n",
    "model.add(Dense(6, activation='softmax'))\n",
    "\n",
    "model.summary()\n",
    "\n",
    "model.compile(optimizer='adam',\n",
    "              loss='categorical_crossentropy',\n",
    "              metrics=['acc'])\n",
    "\n",
    "model.fit(X_train, y_train_cat, epochs=20, validation_data=(X_val, y_val_cat))\n"
   ]
  },
  {
   "cell_type": "markdown",
   "metadata": {},
   "source": [
    "Train"
   ]
  },
  {
   "cell_type": "code",
   "execution_count": 28,
   "metadata": {},
   "outputs": [
    {
     "name": "stdout",
     "output_type": "stream",
     "text": [
      "251/251 [==============================] - 0s 916us/step\n",
      "Total time taken for the program execution 0.3290395736694336\n",
      "              precision    recall  f1-score   support\n",
      "\n",
      "           0    0.97891   0.99501   0.98690      2006\n",
      "           1    0.99609   0.99177   0.99392      2309\n",
      "           2    1.00000   0.96538   0.98239       260\n",
      "           3    0.99775   0.99455   0.99615      3119\n",
      "           4    0.98513   0.97426   0.97967       272\n",
      "           5    1.00000   0.98413   0.99200        63\n",
      "\n",
      "    accuracy                        0.99215      8029\n",
      "   macro avg    0.99298   0.98419   0.98850      8029\n",
      "weighted avg    0.99223   0.99215   0.99216      8029\n",
      "\n",
      "F1 weighted:  0.9921600183867991\n"
     ]
    }
   ],
   "source": [
    "import time\n",
    "\n",
    "from sklearn.metrics import f1_score\n",
    "\n",
    "best_clf = model\n",
    "\n",
    "start_time = time.time()\n",
    "\n",
    "y_pred_train = best_clf.predict(X_train)\n",
    "y_pred_train = np.argmax(y_pred_train,axis=1)\n",
    "\n",
    "time_taken = time.time() - start_time\n",
    "print(\"Total time taken for the program execution\", time_taken) # seconds\n",
    "print(classification_report(y_train, y_pred_train, digits=5))\n",
    "# roc_auc_score(y_test, y_pred_test)\n",
    "print(\"F1 weighted: \", f1_score(y_train, y_pred_train, average='weighted'))"
   ]
  },
  {
   "cell_type": "markdown",
   "metadata": {},
   "source": [
    "test"
   ]
  },
  {
   "cell_type": "code",
   "execution_count": 29,
   "metadata": {},
   "outputs": [
    {
     "name": "stdout",
     "output_type": "stream",
     "text": [
      "53/53 [==============================] - 0s 869us/step\n",
      "Total time taken for the program execution 0.11520028114318848\n",
      "              precision    recall  f1-score   support\n",
      "\n",
      "           0    0.95508   0.97821   0.96651       413\n",
      "           1    0.99130   0.99130   0.99130       460\n",
      "           2    1.00000   0.89655   0.94545        58\n",
      "           3    0.99544   0.98348   0.98943       666\n",
      "           4    0.89655   0.98113   0.93694        53\n",
      "           5    1.00000   0.94118   0.96970        17\n",
      "\n",
      "    accuracy                        0.98080      1667\n",
      "   macro avg    0.97306   0.96198   0.96655      1667\n",
      "weighted avg    0.98136   0.98080   0.98087      1667\n",
      "\n",
      "F1 weighted:  0.9808662494428282\n"
     ]
    }
   ],
   "source": [
    "start_time = time.time()\n",
    "\n",
    "y_pred_test = best_clf.predict(X_test)\n",
    "y_pred_test = np.argmax(y_pred_test,axis=1)\n",
    "\n",
    "time_taken = time.time() - start_time\n",
    "print(\"Total time taken for the program execution\", time_taken) # seconds\n",
    "print(classification_report(y_test, y_pred_test, digits=5))\n",
    "# roc_auc_score(y_test, y_pred_test)\n",
    "print(\"F1 weighted: \", f1_score(y_test, y_pred_test, average='weighted'))"
   ]
  },
  {
   "cell_type": "code",
   "execution_count": null,
   "metadata": {},
   "outputs": [],
   "source": []
  }
 ],
 "metadata": {
  "kernelspec": {
   "display_name": "Python 3.9.12 ('base')",
   "language": "python",
   "name": "python3"
  },
  "language_info": {
   "codemirror_mode": {
    "name": "ipython",
    "version": 3
   },
   "file_extension": ".py",
   "mimetype": "text/x-python",
   "name": "python",
   "nbconvert_exporter": "python",
   "pygments_lexer": "ipython3",
   "version": "3.9.12"
  },
  "orig_nbformat": 4,
  "vscode": {
   "interpreter": {
    "hash": "77238a471535228e8cd55a3ca9e771a69c6c0bc66c44a56c972f9554a4042742"
   }
  }
 },
 "nbformat": 4,
 "nbformat_minor": 2
}
