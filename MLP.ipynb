{
 "cells": [
  {
   "cell_type": "code",
   "execution_count": 34,
   "metadata": {},
   "outputs": [],
   "source": [
    "import pandas as pd, numpy as np\n",
    "from keras.models import Sequential\n",
    "from keras.layers import Flatten, Dense, Dropout\n",
    "from sklearn.metrics import roc_auc_score, accuracy_score, classification_report, roc_curve, f1_score\n",
    "from sklearn.preprocessing import MinMaxScaler\n",
    "from sklearn.model_selection import train_test_split\n",
    "import time\n"
   ]
  },
  {
   "cell_type": "code",
   "execution_count": 35,
   "metadata": {},
   "outputs": [
    {
     "name": "stdout",
     "output_type": "stream",
     "text": [
      "(9446, 238)\n",
      "(1667, 238)\n"
     ]
    }
   ],
   "source": [
    "train_df = pd.read_csv(\"data/twitter_data_train_multiclass.csv\")\n",
    "test_df = pd.read_csv(\"data/twitter_data_test_multiclass.csv\")\n",
    "\n",
    "print(train_df.shape)\n",
    "print(test_df.shape)"
   ]
  },
  {
   "cell_type": "code",
   "execution_count": 36,
   "metadata": {},
   "outputs": [],
   "source": [
    "to_drop = [\n",
    "    'Unnamed: 0',\n",
    "    'account_type', \n",
    "    'account_type_multi',\n",
    "    'id', \n",
    "    'name', \n",
    "    'screen_name',\n",
    "    'profile_image_url',\n",
    "    'protected',\n",
    "    'verified',\n",
    "    'description',\n",
    "    'description_processed',\n",
    "    'tweets_list',\n",
    "    'tweets_list_processed',\n",
    "    'url',\n",
    "    'profile_use_background_image', \n",
    "    'profile_background_tile'\n",
    "    ]\n",
    "\n",
    "scaler = MinMaxScaler() \n",
    "train_df[['statuses_count', 'favourites_count', 'followers_count', 'friends_count', 'number_of_mentions', 'listed_count', 'number_of_tags']] = scaler.fit_transform(train_df[['statuses_count', 'favourites_count', 'followers_count', 'friends_count', 'number_of_mentions', 'listed_count', 'number_of_tags']])\n",
    "test_df[['statuses_count', 'favourites_count', 'followers_count', 'friends_count', 'number_of_mentions', 'listed_count', 'number_of_tags']] = scaler.transform(test_df[['statuses_count', 'favourites_count', 'followers_count', 'friends_count', 'number_of_mentions', 'listed_count', 'number_of_tags']])\n",
    "\n",
    "X_train, y_train = train_df.drop(to_drop, axis=1), train_df['account_type_multi']\n",
    "X_test, y_test = test_df.drop(to_drop, axis=1), test_df['account_type_multi']\n",
    "\n",
    "# validation split\n",
    "X_train, X_val, y_train, y_val = train_test_split(X_train, y_train, test_size=0.15)"
   ]
  },
  {
   "cell_type": "code",
   "execution_count": 37,
   "metadata": {},
   "outputs": [],
   "source": [
    "from keras.utils import to_categorical\n",
    "y_train_cat = to_categorical(y_train)\n",
    "y_val_cat = to_categorical(y_val)\n",
    "y_test_cat  = to_categorical(y_test)"
   ]
  },
  {
   "cell_type": "code",
   "execution_count": 38,
   "metadata": {},
   "outputs": [
    {
     "name": "stdout",
     "output_type": "stream",
     "text": [
      "Model: \"sequential_4\"\n",
      "_________________________________________________________________\n",
      " Layer (type)                Output Shape              Param #   \n",
      "=================================================================\n",
      " dense_16 (Dense)            (None, 100)               22300     \n",
      "                                                                 \n",
      " dropout_4 (Dropout)         (None, 100)               0         \n",
      "                                                                 \n",
      " dense_17 (Dense)            (None, 500)               50500     \n",
      "                                                                 \n",
      " dense_18 (Dense)            (None, 500)               250500    \n",
      "                                                                 \n",
      " dense_19 (Dense)            (None, 6)                 3006      \n",
      "                                                                 \n",
      "=================================================================\n",
      "Total params: 326,306\n",
      "Trainable params: 326,306\n",
      "Non-trainable params: 0\n",
      "_________________________________________________________________\n",
      "Epoch 1/20\n",
      "251/251 [==============================] - 2s 4ms/step - loss: 0.5501 - acc: 0.8312 - val_loss: 0.2162 - val_acc: 0.9457\n",
      "Epoch 2/20\n",
      "251/251 [==============================] - 1s 3ms/step - loss: 0.1969 - acc: 0.9482 - val_loss: 0.1091 - val_acc: 0.9725\n",
      "Epoch 3/20\n",
      "251/251 [==============================] - 1s 3ms/step - loss: 0.1256 - acc: 0.9631 - val_loss: 0.0898 - val_acc: 0.9760\n",
      "Epoch 4/20\n",
      "251/251 [==============================] - 1s 5ms/step - loss: 0.0913 - acc: 0.9752 - val_loss: 0.0828 - val_acc: 0.9802\n",
      "Epoch 5/20\n",
      "251/251 [==============================] - 1s 6ms/step - loss: 0.0982 - acc: 0.9770 - val_loss: 0.0976 - val_acc: 0.9774\n",
      "Epoch 6/20\n",
      "251/251 [==============================] - 1s 4ms/step - loss: 0.0865 - acc: 0.9756 - val_loss: 0.0933 - val_acc: 0.9732\n",
      "Epoch 7/20\n",
      "251/251 [==============================] - 1s 3ms/step - loss: 0.0697 - acc: 0.9813 - val_loss: 0.0796 - val_acc: 0.9809\n",
      "Epoch 8/20\n",
      "251/251 [==============================] - 1s 3ms/step - loss: 0.0657 - acc: 0.9804 - val_loss: 0.0724 - val_acc: 0.9824\n",
      "Epoch 9/20\n",
      "251/251 [==============================] - 1s 3ms/step - loss: 0.0576 - acc: 0.9843 - val_loss: 0.0770 - val_acc: 0.9802\n",
      "Epoch 10/20\n",
      "251/251 [==============================] - 1s 5ms/step - loss: 0.0564 - acc: 0.9839 - val_loss: 0.0779 - val_acc: 0.9824\n",
      "Epoch 11/20\n",
      "251/251 [==============================] - 1s 5ms/step - loss: 0.0526 - acc: 0.9844 - val_loss: 0.0802 - val_acc: 0.9817\n",
      "Epoch 12/20\n",
      "251/251 [==============================] - 1s 4ms/step - loss: 0.0512 - acc: 0.9851 - val_loss: 0.0756 - val_acc: 0.9838\n",
      "Epoch 13/20\n",
      "251/251 [==============================] - 1s 3ms/step - loss: 0.0509 - acc: 0.9853 - val_loss: 0.0780 - val_acc: 0.9831\n",
      "Epoch 14/20\n",
      "251/251 [==============================] - 1s 3ms/step - loss: 0.0465 - acc: 0.9878 - val_loss: 0.0773 - val_acc: 0.9838\n",
      "Epoch 15/20\n",
      "251/251 [==============================] - 1s 3ms/step - loss: 0.0400 - acc: 0.9868 - val_loss: 0.0744 - val_acc: 0.9845\n",
      "Epoch 16/20\n",
      "251/251 [==============================] - 1s 5ms/step - loss: 0.0435 - acc: 0.9858 - val_loss: 0.0842 - val_acc: 0.9831\n",
      "Epoch 17/20\n",
      "251/251 [==============================] - 1s 5ms/step - loss: 0.0418 - acc: 0.9875 - val_loss: 0.0981 - val_acc: 0.9817\n",
      "Epoch 18/20\n",
      "251/251 [==============================] - 1s 4ms/step - loss: 0.0382 - acc: 0.9887 - val_loss: 0.1036 - val_acc: 0.9760\n",
      "Epoch 19/20\n",
      "251/251 [==============================] - 1s 3ms/step - loss: 0.0347 - acc: 0.9875 - val_loss: 0.0853 - val_acc: 0.9838\n",
      "Epoch 20/20\n",
      "251/251 [==============================] - 1s 3ms/step - loss: 0.0346 - acc: 0.9890 - val_loss: 0.0915 - val_acc: 0.9845\n",
      "Total time taken for the program execution 21.444514274597168\n"
     ]
    }
   ],
   "source": [
    "start_time = time.time()\n",
    "\n",
    "model = Sequential()\n",
    "\n",
    "model.add(Dense(100, activation='relu', input_dim=222))\n",
    "model.add(Dropout(.15))\n",
    "model.add(Dense(500, activation='relu'))\n",
    "model.add(Dense(500, activation='relu'))\n",
    "model.add(Dense(6, activation='softmax'))\n",
    "\n",
    "model.summary()\n",
    "\n",
    "model.compile(optimizer='adam',\n",
    "              loss='categorical_crossentropy',\n",
    "              metrics=['acc'])\n",
    "\n",
    "model.fit(X_train, y_train_cat, epochs=20, validation_data=(X_val, y_val_cat))\n",
    "\n",
    "time_taken = time.time() - start_time\n",
    "print(\"Total time taken for the program execution\", time_taken) # seconds\n"
   ]
  },
  {
   "cell_type": "markdown",
   "metadata": {},
   "source": [
    "Train"
   ]
  },
  {
   "cell_type": "code",
   "execution_count": 39,
   "metadata": {},
   "outputs": [
    {
     "name": "stdout",
     "output_type": "stream",
     "text": [
      "251/251 [==============================] - 0s 1ms/step\n",
      "Total time taken for the program execution 0.4391469955444336\n",
      "              precision    recall  f1-score   support\n",
      "\n",
      "           0    0.97971   0.99497   0.98728      1990\n",
      "           1    0.99348   0.99477   0.99412      2296\n",
      "           2    1.00000   0.96063   0.97992       254\n",
      "           3    0.99968   0.99237   0.99601      3147\n",
      "           4    0.98175   0.98535   0.98355       273\n",
      "           5    1.00000   0.97101   0.98529        69\n",
      "\n",
      "    accuracy                        0.99228      8029\n",
      "   macro avg    0.99244   0.98319   0.98770      8029\n",
      "weighted avg    0.99236   0.99228   0.99228      8029\n",
      "\n",
      "F1 weighted:  0.9922846145465879\n"
     ]
    }
   ],
   "source": [
    "best_clf = model\n",
    "\n",
    "start_time = time.time()\n",
    "\n",
    "y_pred_train = best_clf.predict(X_train)\n",
    "y_pred_train = np.argmax(y_pred_train,axis=1)\n",
    "\n",
    "time_taken = time.time() - start_time\n",
    "print(\"Total time taken for the program execution\", time_taken) # seconds\n",
    "print(classification_report(y_train, y_pred_train, digits=5))\n",
    "# roc_auc_score(y_test, y_pred_test)\n",
    "print(\"F1 weighted: \", f1_score(y_train, y_pred_train, average='weighted'))"
   ]
  },
  {
   "cell_type": "markdown",
   "metadata": {},
   "source": [
    "test"
   ]
  },
  {
   "cell_type": "code",
   "execution_count": 40,
   "metadata": {},
   "outputs": [
    {
     "name": "stdout",
     "output_type": "stream",
     "text": [
      "53/53 [==============================] - 0s 937us/step\n",
      "Total time taken for the program execution 0.12578892707824707\n",
      "              precision    recall  f1-score   support\n",
      "\n",
      "           0    0.95704   0.97094   0.96394       413\n",
      "           1    0.98495   0.99565   0.99027       460\n",
      "           2    0.96296   0.89655   0.92857        58\n",
      "           3    0.99543   0.98198   0.98866       666\n",
      "           4    0.94643   1.00000   0.97248        53\n",
      "           5    1.00000   0.94118   0.96970        17\n",
      "\n",
      "    accuracy                        0.98020      1667\n",
      "   macro avg    0.97447   0.96438   0.96894      1667\n",
      "weighted avg    0.98039   0.98020   0.98018      1667\n",
      "\n",
      "F1 weighted:  0.9801828150802312\n"
     ]
    }
   ],
   "source": [
    "start_time = time.time()\n",
    "\n",
    "y_pred_test = best_clf.predict(X_test)\n",
    "y_pred_test = np.argmax(y_pred_test,axis=1)\n",
    "\n",
    "time_taken = time.time() - start_time\n",
    "print(\"Total time taken for the program execution\", time_taken) # seconds\n",
    "print(classification_report(y_test, y_pred_test, digits=5))\n",
    "# roc_auc_score(y_test, y_pred_test)\n",
    "print(\"F1 weighted: \", f1_score(y_test, y_pred_test, average='weighted'))"
   ]
  }
 ],
 "metadata": {
  "kernelspec": {
   "display_name": "Python 3.9.12 ('base')",
   "language": "python",
   "name": "python3"
  },
  "language_info": {
   "codemirror_mode": {
    "name": "ipython",
    "version": 3
   },
   "file_extension": ".py",
   "mimetype": "text/x-python",
   "name": "python",
   "nbconvert_exporter": "python",
   "pygments_lexer": "ipython3",
   "version": "3.9.12"
  },
  "orig_nbformat": 4,
  "vscode": {
   "interpreter": {
    "hash": "77238a471535228e8cd55a3ca9e771a69c6c0bc66c44a56c972f9554a4042742"
   }
  }
 },
 "nbformat": 4,
 "nbformat_minor": 2
}
