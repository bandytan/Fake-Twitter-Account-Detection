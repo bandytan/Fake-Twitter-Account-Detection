{
 "cells": [
  {
   "cell_type": "code",
   "execution_count": 37,
   "metadata": {},
   "outputs": [],
   "source": [
    "import pandas as pd, numpy as np\n",
    "from keras.models import Sequential\n",
    "from keras.layers import Flatten, Dense, Dropout\n",
    "from sklearn.metrics import roc_auc_score, accuracy_score, classification_report, roc_curve, f1_score\n",
    "from sklearn.preprocessing import MinMaxScaler\n",
    "from sklearn.model_selection import train_test_split\n",
    "import time\n"
   ]
  },
  {
   "cell_type": "code",
   "execution_count": 38,
   "metadata": {},
   "outputs": [
    {
     "name": "stdout",
     "output_type": "stream",
     "text": [
      "(9446, 236)\n",
      "(1667, 236)\n"
     ]
    }
   ],
   "source": [
    "train_df = pd.read_csv(\"data/twitter_data_train_multiclass.csv\")\n",
    "test_df = pd.read_csv(\"data/twitter_data_test_multiclass.csv\")\n",
    "\n",
    "print(train_df.shape)\n",
    "print(test_df.shape)"
   ]
  },
  {
   "cell_type": "code",
   "execution_count": 39,
   "metadata": {},
   "outputs": [],
   "source": [
    "to_drop = [\n",
    "    'Unnamed: 0',\n",
    "    'account_type', \n",
    "    'account_type_multi',\n",
    "    'id', \n",
    "    'name', \n",
    "    'screen_name',\n",
    "    'profile_image_url',\n",
    "    'protected',\n",
    "    'verified',\n",
    "    'description',\n",
    "    'description_processed',\n",
    "    'tweets_list',\n",
    "    'tweets_list_processed',\n",
    "    'url',\n",
    "    'profile_use_background_image', \n",
    "    'profile_background_tile'\n",
    "    ]\n",
    "\n",
    "scaler = MinMaxScaler() \n",
    "train_df[['statuses_count', 'favourites_count', 'followers_count', 'friends_count', 'number_of_mentions', 'listed_count', 'number_of_tags']] = scaler.fit_transform(train_df[['statuses_count', 'favourites_count', 'followers_count', 'friends_count', 'number_of_mentions', 'listed_count', 'number_of_tags']])\n",
    "test_df[['statuses_count', 'favourites_count', 'followers_count', 'friends_count', 'number_of_mentions', 'listed_count', 'number_of_tags']] = scaler.transform(test_df[['statuses_count', 'favourites_count', 'followers_count', 'friends_count', 'number_of_mentions', 'listed_count', 'number_of_tags']])\n",
    "\n",
    "X_train, y_train = train_df.drop(to_drop, axis=1), train_df['account_type_multi']\n",
    "X_test, y_test = test_df.drop(to_drop, axis=1), test_df['account_type_multi']\n",
    "\n",
    "# validation split\n",
    "X_train, X_val, y_train, y_val = train_test_split(X_train, y_train, test_size=0.15)"
   ]
  },
  {
   "cell_type": "code",
   "execution_count": 40,
   "metadata": {},
   "outputs": [],
   "source": [
    "from keras.utils import to_categorical\n",
    "y_train_cat = to_categorical(y_train)\n",
    "y_val_cat = to_categorical(y_val)\n",
    "y_test_cat  = to_categorical(y_test)"
   ]
  },
  {
   "cell_type": "code",
   "execution_count": 41,
   "metadata": {},
   "outputs": [
    {
     "name": "stdout",
     "output_type": "stream",
     "text": [
      "Model: \"sequential_7\"\n",
      "_________________________________________________________________\n",
      " Layer (type)                Output Shape              Param #   \n",
      "=================================================================\n",
      " dense_28 (Dense)            (None, 100)               22100     \n",
      "                                                                 \n",
      " dropout_7 (Dropout)         (None, 100)               0         \n",
      "                                                                 \n",
      " dense_29 (Dense)            (None, 500)               50500     \n",
      "                                                                 \n",
      " dense_30 (Dense)            (None, 500)               250500    \n",
      "                                                                 \n",
      " dense_31 (Dense)            (None, 6)                 3006      \n",
      "                                                                 \n",
      "=================================================================\n",
      "Total params: 326,106\n",
      "Trainable params: 326,106\n",
      "Non-trainable params: 0\n",
      "_________________________________________________________________\n",
      "Epoch 1/20\n",
      "251/251 [==============================] - 1s 4ms/step - loss: 0.5691 - acc: 0.8249 - val_loss: 0.3727 - val_acc: 0.9019\n",
      "Epoch 2/20\n",
      "251/251 [==============================] - 1s 3ms/step - loss: 0.2455 - acc: 0.9341 - val_loss: 0.1192 - val_acc: 0.9640\n",
      "Epoch 3/20\n",
      "251/251 [==============================] - 1s 3ms/step - loss: 0.1473 - acc: 0.9615 - val_loss: 0.1494 - val_acc: 0.9619\n",
      "Epoch 4/20\n",
      "251/251 [==============================] - 1s 3ms/step - loss: 0.1039 - acc: 0.9710 - val_loss: 0.0911 - val_acc: 0.9739\n",
      "Epoch 5/20\n",
      "251/251 [==============================] - 1s 3ms/step - loss: 0.0912 - acc: 0.9756 - val_loss: 0.0677 - val_acc: 0.9753\n",
      "Epoch 6/20\n",
      "251/251 [==============================] - 1s 4ms/step - loss: 0.0895 - acc: 0.9768 - val_loss: 0.0620 - val_acc: 0.9831\n",
      "Epoch 7/20\n",
      "251/251 [==============================] - 1s 3ms/step - loss: 0.0774 - acc: 0.9811 - val_loss: 0.0586 - val_acc: 0.9809\n",
      "Epoch 8/20\n",
      "251/251 [==============================] - 1s 3ms/step - loss: 0.0798 - acc: 0.9783 - val_loss: 0.0561 - val_acc: 0.9852\n",
      "Epoch 9/20\n",
      "251/251 [==============================] - 1s 6ms/step - loss: 0.0726 - acc: 0.9833 - val_loss: 0.0760 - val_acc: 0.9760\n",
      "Epoch 10/20\n",
      "251/251 [==============================] - 1s 4ms/step - loss: 0.0646 - acc: 0.9823 - val_loss: 0.0620 - val_acc: 0.9788\n",
      "Epoch 11/20\n",
      "251/251 [==============================] - 1s 5ms/step - loss: 0.0602 - acc: 0.9828 - val_loss: 0.0604 - val_acc: 0.9831\n",
      "Epoch 12/20\n",
      "251/251 [==============================] - 1s 3ms/step - loss: 0.0585 - acc: 0.9829 - val_loss: 0.0683 - val_acc: 0.9795\n",
      "Epoch 13/20\n",
      "251/251 [==============================] - 1s 3ms/step - loss: 0.0554 - acc: 0.9833 - val_loss: 0.0550 - val_acc: 0.9838\n",
      "Epoch 14/20\n",
      "251/251 [==============================] - 1s 3ms/step - loss: 0.0500 - acc: 0.9851 - val_loss: 0.0748 - val_acc: 0.9767\n",
      "Epoch 15/20\n",
      "251/251 [==============================] - 1s 3ms/step - loss: 0.0504 - acc: 0.9852 - val_loss: 0.0550 - val_acc: 0.9817\n",
      "Epoch 16/20\n",
      "251/251 [==============================] - 1s 3ms/step - loss: 0.0503 - acc: 0.9849 - val_loss: 0.0586 - val_acc: 0.9795\n",
      "Epoch 17/20\n",
      "251/251 [==============================] - 1s 3ms/step - loss: 0.0458 - acc: 0.9859 - val_loss: 0.0821 - val_acc: 0.9781\n",
      "Epoch 18/20\n",
      "251/251 [==============================] - 1s 3ms/step - loss: 0.0493 - acc: 0.9853 - val_loss: 0.0727 - val_acc: 0.9809\n",
      "Epoch 19/20\n",
      "251/251 [==============================] - 1s 3ms/step - loss: 0.0452 - acc: 0.9865 - val_loss: 0.0686 - val_acc: 0.9795\n",
      "Epoch 20/20\n",
      "251/251 [==============================] - 1s 3ms/step - loss: 0.0424 - acc: 0.9878 - val_loss: 0.0605 - val_acc: 0.9845\n",
      "Total time taken for the program execution 17.28281569480896\n"
     ]
    }
   ],
   "source": [
    "start_time = time.time()\n",
    "\n",
    "model = Sequential()\n",
    "\n",
    "model.add(Dense(100, activation='relu', input_dim=220))\n",
    "model.add(Dropout(.15))\n",
    "model.add(Dense(500, activation='relu'))\n",
    "model.add(Dense(500, activation='relu'))\n",
    "model.add(Dense(6, activation='softmax'))\n",
    "\n",
    "model.summary()\n",
    "\n",
    "model.compile(optimizer='adam',\n",
    "              loss='categorical_crossentropy',\n",
    "              metrics=['acc'])\n",
    "\n",
    "model.fit(X_train, y_train_cat, epochs=20, validation_data=(X_val, y_val_cat))\n",
    "\n",
    "time_taken = time.time() - start_time\n",
    "print(\"Total time taken for the program execution\", time_taken) # seconds\n"
   ]
  },
  {
   "cell_type": "markdown",
   "metadata": {},
   "source": [
    "Train"
   ]
  },
  {
   "cell_type": "code",
   "execution_count": 42,
   "metadata": {},
   "outputs": [
    {
     "name": "stdout",
     "output_type": "stream",
     "text": [
      "251/251 [==============================] - 0s 940us/step\n",
      "Total time taken for the program execution 0.3622751235961914\n",
      "              precision    recall  f1-score   support\n",
      "\n",
      "           0    0.96858   0.99798   0.98306      1977\n",
      "           1    0.99694   0.99391   0.99542      2297\n",
      "           2    0.99611   0.95880   0.97710       267\n",
      "           3    1.00000   0.98951   0.99473      3145\n",
      "           4    1.00000   0.97445   0.98706       274\n",
      "           5    1.00000   0.95652   0.97778        69\n",
      "\n",
      "    accuracy                        0.99103      8029\n",
      "   macro avg    0.99361   0.97853   0.98586      8029\n",
      "weighted avg    0.99126   0.99103   0.99106      8029\n",
      "\n",
      "F1 weighted:  0.9910589178589551\n"
     ]
    }
   ],
   "source": [
    "best_clf = model\n",
    "\n",
    "start_time = time.time()\n",
    "\n",
    "y_pred_train = best_clf.predict(X_train)\n",
    "y_pred_train = np.argmax(y_pred_train,axis=1)\n",
    "\n",
    "time_taken = time.time() - start_time\n",
    "print(\"Total time taken for the program execution\", time_taken) # seconds\n",
    "print(classification_report(y_train, y_pred_train, digits=5))\n",
    "# roc_auc_score(y_test, y_pred_test)\n",
    "print(\"F1 weighted: \", f1_score(y_train, y_pred_train, average='weighted'))"
   ]
  },
  {
   "cell_type": "markdown",
   "metadata": {},
   "source": [
    "test"
   ]
  },
  {
   "cell_type": "code",
   "execution_count": 43,
   "metadata": {},
   "outputs": [
    {
     "name": "stdout",
     "output_type": "stream",
     "text": [
      "53/53 [==============================] - 0s 877us/step\n",
      "Total time taken for the program execution 0.1070547103881836\n",
      "              precision    recall  f1-score   support\n",
      "\n",
      "           0    0.95519   0.98063   0.96774       413\n",
      "           1    0.98069   0.99348   0.98704       460\n",
      "           2    0.98182   0.93103   0.95575        58\n",
      "           3    1.00000   0.98198   0.99091       666\n",
      "           4    0.96154   0.94340   0.95238        53\n",
      "           5    1.00000   0.94118   0.96970        17\n",
      "\n",
      "    accuracy                        0.98140      1667\n",
      "   macro avg    0.97987   0.96195   0.97059      1667\n",
      "weighted avg    0.98171   0.98140   0.98144      1667\n",
      "\n",
      "F1 weighted:  0.9814375633291933\n"
     ]
    }
   ],
   "source": [
    "start_time = time.time()\n",
    "\n",
    "y_pred_test = best_clf.predict(X_test)\n",
    "y_pred_test = np.argmax(y_pred_test,axis=1)\n",
    "\n",
    "time_taken = time.time() - start_time\n",
    "print(\"Total time taken for the program execution\", time_taken) # seconds\n",
    "print(classification_report(y_test, y_pred_test, digits=5))\n",
    "# roc_auc_score(y_test, y_pred_test)\n",
    "print(\"F1 weighted: \", f1_score(y_test, y_pred_test, average='weighted'))"
   ]
  },
  {
   "cell_type": "code",
   "execution_count": null,
   "metadata": {},
   "outputs": [],
   "source": []
  }
 ],
 "metadata": {
  "kernelspec": {
   "display_name": "Python 3.9.12 ('base')",
   "language": "python",
   "name": "python3"
  },
  "language_info": {
   "codemirror_mode": {
    "name": "ipython",
    "version": 3
   },
   "file_extension": ".py",
   "mimetype": "text/x-python",
   "name": "python",
   "nbconvert_exporter": "python",
   "pygments_lexer": "ipython3",
   "version": "3.9.12"
  },
  "orig_nbformat": 4,
  "vscode": {
   "interpreter": {
    "hash": "77238a471535228e8cd55a3ca9e771a69c6c0bc66c44a56c972f9554a4042742"
   }
  }
 },
 "nbformat": 4,
 "nbformat_minor": 2
}
