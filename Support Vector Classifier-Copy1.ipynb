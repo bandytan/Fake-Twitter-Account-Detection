{
 "cells": [
  {
   "cell_type": "code",
   "execution_count": 16,
   "id": "d84f715e",
   "metadata": {
    "ExecuteTime": {
     "end_time": "2022-10-21T11:36:53.649040Z",
     "start_time": "2022-10-21T11:36:53.607931Z"
    }
   },
   "outputs": [],
   "source": [
    "import pandas as pd \n",
    "import numpy as np\n",
    "import seaborn as sns\n",
    "import matplotlib.pyplot as plt\n",
    "%matplotlib inline\n",
    "from sklearn.svm import SVC\n",
    "from sklearn.model_selection import GridSearchCV, RandomizedSearchCV, RepeatedStratifiedKFold\n",
    "from sklearn.metrics import classification_report, confusion_matrix, roc_auc_score\n",
    "import glob\n",
    "import os\n",
    "import time"
   ]
  },
  {
   "cell_type": "code",
   "execution_count": null,
   "id": "bbad784c",
   "metadata": {
    "ExecuteTime": {
     "start_time": "2022-10-21T11:36:53.603Z"
    }
   },
   "outputs": [],
   "source": [
    "base = \"/Users/ivankoh/Library/CloudStorage/OneDrive-NationalUniversityofSingapore/1D/NUS Y3S1/BT4012/Data/\"\n",
    "train_path = base + \"twitter_data_train_multiclass.csv\" \n",
    "df = pd.read_csv(train_path)"
   ]
  },
  {
   "cell_type": "markdown",
   "id": "4f36eaa9",
   "metadata": {},
   "source": [
    "## Get to the correct data format"
   ]
  },
  {
   "cell_type": "code",
   "execution_count": null,
   "id": "a34b0d31",
   "metadata": {
    "ExecuteTime": {
     "start_time": "2022-10-21T11:36:53.604Z"
    }
   },
   "outputs": [],
   "source": [
    "to_drop = [\n",
    "    'account_type', \n",
    "    'account_type_multi',\n",
    "    'id', \n",
    "    'name', \n",
    "    'screen_name',\n",
    "    'profile_image_url',\n",
    "    'protected',\n",
    "    'verified',\n",
    "    'description',\n",
    "    'description_processed',\n",
    "    'tweets_list',\n",
    "    'tweets_list_processed',\n",
    "    'url'\n",
    "    ]\n",
    "\n",
    "X_train, y_train = df.drop(to_drop, axis=1).to_numpy(), df['account_type'].to_numpy()"
   ]
  },
  {
   "cell_type": "code",
   "execution_count": null,
   "id": "204f244a",
   "metadata": {
    "ExecuteTime": {
     "start_time": "2022-10-21T11:36:53.605Z"
    }
   },
   "outputs": [],
   "source": [
    "df.columns[df.isna().any()]\n",
    "a = df.drop(to_drop, axis=1)\n",
    "a.columns.to_series()[np.isinf(a).any()]\n"
   ]
  },
  {
   "cell_type": "markdown",
   "id": "51684853",
   "metadata": {},
   "source": [
    "## Grid Search with K-fold CV applied to SVC\n",
    "\n",
    "5 folds \n",
    "- approx 311 per fold \n",
    "- 62 validation data \n",
    "- 249 train data"
   ]
  },
  {
   "cell_type": "markdown",
   "id": "f4e8ce17",
   "metadata": {},
   "source": [
    "### 1. Training"
   ]
  },
  {
   "cell_type": "code",
   "execution_count": null,
   "id": "95f627af",
   "metadata": {
    "ExecuteTime": {
     "start_time": "2022-10-21T11:36:53.606Z"
    },
    "scrolled": false
   },
   "outputs": [],
   "source": [
    "# Hyper-parameters\n",
    "gamma = [1e-7,1e-6,1e-5,1e-4,1e-3,1e-2,1e-1,1e0,1e1]\n",
    "C = [1e-3,1e-2,1e-1,1e0,1e1,1e2,1e3,1e4,1e5]\n",
    "kernels = ['rbf', 'linear'] #poly takes forever to train 'sigmoid'\n",
    "\n",
    "params = {'C': C, \n",
    "          'gamma': gamma, \n",
    "          'kernel': kernels,\n",
    "          'decision_function_shape':['ovr']\n",
    "         }\n",
    "\n",
    "cv_method = RepeatedStratifiedKFold(n_splits=5, \n",
    "                                    n_repeats=3, \n",
    "                                    random_state=2022)\n",
    "\n",
    "svc_randomcv = RandomizedSearchCV(\n",
    "    estimator=SVC(),\n",
    "    param_distributions=params,\n",
    "    n_iter=10, \n",
    "    cv=cv_method, # k-fold cv\n",
    "    verbose=2,\n",
    "    random_state=2022,\n",
    "    n_jobs=-1, # use all processors\n",
    "    scoring='f1_weighted'\n",
    ")\n",
    "svc_randomcv.fit(X_train, y_train)"
   ]
  },
  {
   "cell_type": "markdown",
   "id": "d60e3f2e",
   "metadata": {},
   "source": [
    "### 2. Best Hyper-parameters"
   ]
  },
  {
   "cell_type": "code",
   "execution_count": null,
   "id": "a4e729c8",
   "metadata": {
    "ExecuteTime": {
     "start_time": "2022-10-21T11:36:53.607Z"
    }
   },
   "outputs": [],
   "source": [
    "print(svc_randomcv.best_params_)\n",
    "print(svc_randomcv.best_score_)"
   ]
  },
  {
   "cell_type": "markdown",
   "id": "1a8b88de",
   "metadata": {},
   "source": [
    "### 3. Testing"
   ]
  },
  {
   "cell_type": "code",
   "execution_count": null,
   "id": "0528b156",
   "metadata": {
    "ExecuteTime": {
     "start_time": "2022-10-21T11:36:53.608Z"
    }
   },
   "outputs": [],
   "source": [
    "test_path = base + \"twitter_data_test_multiclass.csv\"\n",
    "test = pd.read_csv(test_path)\n",
    "\n",
    "X_test, y_test = test.drop(to_drop, axis=1).to_numpy(), test['account_type'].to_numpy()"
   ]
  },
  {
   "cell_type": "code",
   "execution_count": null,
   "id": "fb5bb73f",
   "metadata": {
    "ExecuteTime": {
     "start_time": "2022-10-21T11:36:53.609Z"
    }
   },
   "outputs": [],
   "source": [
    "print(X_train.shape)\n",
    "print(y_train.shape)\n",
    "print(X_test.shape)\n",
    "print(y_test.shape)"
   ]
  },
  {
   "cell_type": "code",
   "execution_count": null,
   "id": "81a8e15e",
   "metadata": {
    "ExecuteTime": {
     "start_time": "2022-10-21T11:36:53.609Z"
    }
   },
   "outputs": [],
   "source": [
    "best_clf = SVC(**svc_randomcv.best_params_)\n",
    "\n",
    "start_time = time.time()\n",
    "best_clf.fit(X_train, y_train)\n",
    "y_pred_test = best_clf.predict(X_test)\n",
    "\n",
    "time_taken = time.time() - start_time\n",
    "print(\"Total time taken for the program execution\", time_taken) # seconds\n",
    "\n",
    "print(classification_report(y_test, y_pred_test, digits=5))\n",
    "roc_auc_score(y_test, y_pred_test)\n",
    "\n",
    "grid_predictions = grid.predict(X_test)\n",
    "print(confusion_matrix(y_test,grid_predictions))\n",
    "print(classification_report(y_test,grid_predictions))\n",
    "\n",
    "auc = roc_auc_score(y_test, grid_predictions)\n",
    "print(\"AUC:\", auc)"
   ]
  },
  {
   "cell_type": "code",
   "execution_count": null,
   "id": "73e251db",
   "metadata": {},
   "outputs": [],
   "source": []
  }
 ],
 "metadata": {
  "kernelspec": {
   "display_name": "Python 3.9 (bt4012)",
   "language": "python",
   "name": "bt4012"
  },
  "language_info": {
   "codemirror_mode": {
    "name": "ipython",
    "version": 3
   },
   "file_extension": ".py",
   "mimetype": "text/x-python",
   "name": "python",
   "nbconvert_exporter": "python",
   "pygments_lexer": "ipython3",
   "version": "3.9.13"
  },
  "toc": {
   "base_numbering": 1,
   "nav_menu": {},
   "number_sections": true,
   "sideBar": true,
   "skip_h1_title": false,
   "title_cell": "Table of Contents",
   "title_sidebar": "Contents",
   "toc_cell": false,
   "toc_position": {},
   "toc_section_display": true,
   "toc_window_display": false
  }
 },
 "nbformat": 4,
 "nbformat_minor": 5
}
